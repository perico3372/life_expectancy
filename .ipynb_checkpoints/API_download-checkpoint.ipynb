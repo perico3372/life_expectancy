{
 "cells": [
  {
   "cell_type": "code",
   "execution_count": 1,
   "id": "291fc47d-7335-47c7-8ce1-b2522a401b39",
   "metadata": {
    "execution": {
     "iopub.execute_input": "2023-06-08T13:27:40.000549Z",
     "iopub.status.busy": "2023-06-08T13:27:40.000342Z",
     "iopub.status.idle": "2023-06-08T13:27:40.046711Z",
     "shell.execute_reply": "2023-06-08T13:27:40.046141Z",
     "shell.execute_reply.started": "2023-06-08T13:27:40.000524Z"
    },
    "tags": []
   },
   "outputs": [],
   "source": [
    "import requests\n",
    "import zipfile\n",
    "import io\n",
    "import csv"
   ]
  },
  {
   "cell_type": "code",
   "execution_count": 2,
   "id": "a1d136a6-db1b-4016-beaa-d2b785faf059",
   "metadata": {
    "execution": {
     "iopub.execute_input": "2023-06-08T13:27:40.048203Z",
     "iopub.status.busy": "2023-06-08T13:27:40.048034Z",
     "iopub.status.idle": "2023-06-08T13:27:42.312540Z",
     "shell.execute_reply": "2023-06-08T13:27:42.311867Z",
     "shell.execute_reply.started": "2023-06-08T13:27:40.048187Z"
    },
    "tags": []
   },
   "outputs": [
    {
     "name": "stderr",
     "output_type": "stream",
     "text": [
      "Setting default log level to \"WARN\".\n",
      "To adjust logging level use sc.setLogLevel(newLevel). For SparkR, use setLogLevel(newLevel).\n",
      "23/06/08 10:27:41 WARN NativeCodeLoader: Unable to load native-hadoop library for your platform... using builtin-java classes where applicable\n"
     ]
    }
   ],
   "source": [
    "from pyspark.sql import SparkSession\n",
    "from pyspark.sql.functions import split\n",
    "from pyspark.sql.functions import expr\n",
    "from pyspark.sql.functions import col\n",
    "\n",
    "# Crear una sesión de Spark\n",
    "spark = SparkSession.builder.getOrCreate()"
   ]
  },
  {
   "cell_type": "code",
   "execution_count": 3,
   "id": "91040e29-e1ec-45bb-a08b-ae12bf989749",
   "metadata": {
    "execution": {
     "iopub.execute_input": "2023-06-08T13:27:42.313975Z",
     "iopub.status.busy": "2023-06-08T13:27:42.313641Z",
     "iopub.status.idle": "2023-06-08T13:27:42.318192Z",
     "shell.execute_reply": "2023-06-08T13:27:42.317544Z",
     "shell.execute_reply.started": "2023-06-08T13:27:42.313955Z"
    },
    "tags": []
   },
   "outputs": [],
   "source": [
    "americans_countries = ['Argentina', 'Bahamas', 'Belize', 'Bolivia (Plurinational State of)', 'Brazil', 'Canada', 'Chile', 'Colombia', 'Costa Rica', 'Cuba', \\\n",
    "                     'Dominica', 'Ecuador', 'El Salvador', 'United States of America', 'Granada', 'Guatemala', 'Guyana', 'Haití', 'Honduras', \\\n",
    "                     'Jamaica', 'Mexico', 'Nicaragua', 'Panama', 'Paraguay', 'Peru', 'Dominican Republic', 'Saint Vincent and the Grenadines', \\\n",
    "                     'Saint Lucia', 'Suriname', 'Trinidad and Tobago', 'Uruguay', 'Venezuela (Bolivarian Republic of)']\n",
    "oceanic_countries = ['Australia', 'Fiji', 'Marshall Islands', 'Salomon Islands', 'Kiribati', 'Micronesia (Federated States of)', 'Nauru', \\\n",
    "                     'New Zealand', 'Palau', 'Papúa Nueva Guinea', 'Samoa', 'Tonga', 'Tuvalu', 'Vanuatu']"
   ]
  },
  {
   "cell_type": "markdown",
   "id": "765a0002-0acd-4714-a6dc-55a76574723e",
   "metadata": {},
   "source": [
    "Los códigos de estado HTTP son números de tres dígitos que se utilizan para indicar el resultado de una solicitud al servidor. Algunos ejemplos comunes de códigos de estado son:\n",
    "\n",
    "    200 OK: La solicitud ha sido exitosa.\n",
    "    400 Bad Request: La solicitud no se pudo entender o contiene sintaxis incorrecta.\n",
    "    401 Unauthorized: La solicitud requiere autenticación o el usuario no tiene los permisos necesarios.\n",
    "    404 Not Found: El recurso solicitado no se encuentra en el servidor.\n",
    "    500 Internal Server Error: El servidor encontró una condición inesperada que le impidió cumplir con la solicitud."
   ]
  },
  {
   "cell_type": "code",
   "execution_count": 4,
   "id": "dfb49414-fed2-4551-a23a-cd9df7ea7a21",
   "metadata": {
    "execution": {
     "iopub.execute_input": "2023-06-08T13:27:42.319287Z",
     "iopub.status.busy": "2023-06-08T13:27:42.319072Z",
     "iopub.status.idle": "2023-06-08T13:27:42.327447Z",
     "shell.execute_reply": "2023-06-08T13:27:42.326823Z",
     "shell.execute_reply.started": "2023-06-08T13:27:42.319266Z"
    },
    "tags": []
   },
   "outputs": [],
   "source": [
    "url_00 =\"https://apps.who.int/gho/athena/data/GHO/WHS3_62?filter=COUNTRY:*;REGION:*&ead=&x-sideaxis=COUNTRY&x-topaxis=GHO;YEAR&profile=crosstable&format=csv\""
   ]
  },
  {
   "cell_type": "code",
   "execution_count": 5,
   "id": "6e4311f7-59f7-4bb7-a835-785d5c04089f",
   "metadata": {
    "execution": {
     "iopub.execute_input": "2023-06-08T13:27:42.328620Z",
     "iopub.status.busy": "2023-06-08T13:27:42.328408Z",
     "iopub.status.idle": "2023-06-08T13:27:42.951404Z",
     "shell.execute_reply": "2023-06-08T13:27:42.949309Z",
     "shell.execute_reply.started": "2023-06-08T13:27:42.328599Z"
    },
    "tags": []
   },
   "outputs": [
    {
     "name": "stdout",
     "output_type": "stream",
     "text": [
      "Archivo descargado exitosamente.\n"
     ]
    }
   ],
   "source": [
    "response = requests.get(url_00)\n",
    "\n",
    "# Verificar si la solicitud fue exitosa (código de estado 200)\n",
    "if response.status_code == 200:\n",
    "    # Guardar el contenido de la respuesta en un archivo\n",
    "    with open(\"who/data_00.csv\", \"wb\") as file:\n",
    "        file.write(response.content)\n",
    "    print(\"Archivo descargado exitosamente.\")\n",
    "else:\n",
    "    print(\"No se pudo realizar la descarga.\")"
   ]
  },
  {
   "cell_type": "code",
   "execution_count": null,
   "id": "ce3c6248-f8ac-4700-ac12-6d4f9f8cdeb2",
   "metadata": {},
   "outputs": [],
   "source": []
  },
  {
   "cell_type": "code",
   "execution_count": 6,
   "id": "a9613a6f-08bd-4982-bde7-2eea9c4f24b7",
   "metadata": {
    "execution": {
     "iopub.execute_input": "2023-06-08T13:27:42.955177Z",
     "iopub.status.busy": "2023-06-08T13:27:42.954455Z",
     "iopub.status.idle": "2023-06-08T13:27:42.965803Z",
     "shell.execute_reply": "2023-06-08T13:27:42.963158Z",
     "shell.execute_reply.started": "2023-06-08T13:27:42.955109Z"
    },
    "tags": []
   },
   "outputs": [],
   "source": [
    "# Ruta del archivo CSV\n",
    "\n",
    "csv_url_00 = \"who/data_00.csv\"\n",
    "\n",
    "# Crear una lista para almacenar las filas del archivo CSV\n",
    "rows_url_00 = []\n",
    "\n",
    "\n",
    "#API_SE.PRM.CMPT.ZS_DS2_es_csv_v2_5478942"
   ]
  },
  {
   "cell_type": "code",
   "execution_count": 7,
   "id": "031b7b3f-31b2-4c5d-ba6f-5ac8ffe8a904",
   "metadata": {
    "execution": {
     "iopub.execute_input": "2023-06-08T13:27:42.978042Z",
     "iopub.status.busy": "2023-06-08T13:27:42.977011Z",
     "iopub.status.idle": "2023-06-08T13:27:42.988459Z",
     "shell.execute_reply": "2023-06-08T13:27:42.987355Z",
     "shell.execute_reply.started": "2023-06-08T13:27:42.977963Z"
    },
    "tags": []
   },
   "outputs": [],
   "source": [
    "# Leer el archivo CSV y almacenar las filas en la lista\n",
    "with open(csv_url_00, \"r\") as file_csv_url_00:\n",
    "    csv_reader_url_00 = csv.reader(file_csv_url_00)\n",
    "    rows_url_00 = list(csv_reader_url_00)\n"
   ]
  },
  {
   "cell_type": "code",
   "execution_count": 8,
   "id": "1e6f9d2b-acd7-48aa-862b-7e127fa1d333",
   "metadata": {
    "execution": {
     "iopub.execute_input": "2023-06-08T13:27:42.989982Z",
     "iopub.status.busy": "2023-06-08T13:27:42.989659Z",
     "iopub.status.idle": "2023-06-08T13:27:42.996200Z",
     "shell.execute_reply": "2023-06-08T13:27:42.995456Z",
     "shell.execute_reply.started": "2023-06-08T13:27:42.989949Z"
    },
    "tags": []
   },
   "outputs": [],
   "source": [
    "# Eliminar las primeras 4 filas\n",
    "\n",
    "rows_url_00 = rows_url_00[1:]\n",
    "\n",
    "# Escribir las filas modificadas en un nuevo archivo CSV\n",
    "with open(\"who/data_00.csv\", \"w\", newline=\"\") as file_csv_url_00:\n",
    "    csv_writer_url_00 = csv.writer(file_csv_url_00)\n",
    "    csv_writer_url_00.writerows(rows_url_00)"
   ]
  },
  {
   "cell_type": "code",
   "execution_count": 9,
   "id": "2e6db323-5c2e-4514-9298-0a78a5790e01",
   "metadata": {
    "execution": {
     "iopub.execute_input": "2023-06-08T13:27:42.997380Z",
     "iopub.status.busy": "2023-06-08T13:27:42.997096Z",
     "iopub.status.idle": "2023-06-08T13:27:45.593439Z",
     "shell.execute_reply": "2023-06-08T13:27:45.592780Z",
     "shell.execute_reply.started": "2023-06-08T13:27:42.997359Z"
    },
    "tags": []
   },
   "outputs": [],
   "source": [
    "data_00 = spark.read.csv(\"who/data_00.csv\", header=True)"
   ]
  },
  {
   "cell_type": "code",
   "execution_count": 10,
   "id": "4942620d-5db1-4b28-ba8d-594d0f70dad9",
   "metadata": {
    "execution": {
     "iopub.execute_input": "2023-06-08T13:27:45.594534Z",
     "iopub.status.busy": "2023-06-08T13:27:45.594289Z",
     "iopub.status.idle": "2023-06-08T13:27:46.834571Z",
     "shell.execute_reply": "2023-06-08T13:27:46.834030Z",
     "shell.execute_reply.started": "2023-06-08T13:27:45.594511Z"
    },
    "tags": []
   },
   "outputs": [
    {
     "name": "stderr",
     "output_type": "stream",
     "text": [
      "/usr/lib/python3.10/site-packages/pyspark/pandas/__init__.py:50: UserWarning: 'PYARROW_IGNORE_TIMEZONE' environment variable was not set. It is required to set this environment variable to '1' in both driver and executor sides if you use pyarrow>=2.0.0. pandas-on-Spark will set it for you but it does not work if there is a Spark context already launched.\n",
      "  warnings.warn(\n",
      "23/06/08 10:27:46 WARN package: Truncated the string representation of a plan since it was too large. This behavior can be adjusted by setting 'spark.sql.debug.maxToStringFields'.\n"
     ]
    },
    {
     "data": {
      "text/html": [
       "<div>\n",
       "<style scoped>\n",
       "    .dataframe tbody tr th:only-of-type {\n",
       "        vertical-align: middle;\n",
       "    }\n",
       "\n",
       "    .dataframe tbody tr th {\n",
       "        vertical-align: top;\n",
       "    }\n",
       "\n",
       "    .dataframe thead th {\n",
       "        text-align: right;\n",
       "    }\n",
       "</style>\n",
       "<table border=\"1\" class=\"dataframe\">\n",
       "  <thead>\n",
       "    <tr style=\"text-align: right;\">\n",
       "      <th></th>\n",
       "      <th>Countries, territories and areas</th>\n",
       "      <th>2021</th>\n",
       "      <th>2020</th>\n",
       "      <th>2019</th>\n",
       "      <th>2018</th>\n",
       "      <th>2017</th>\n",
       "      <th>2016</th>\n",
       "      <th>2015</th>\n",
       "      <th>2014</th>\n",
       "      <th>2013</th>\n",
       "      <th>2012</th>\n",
       "      <th>2011</th>\n",
       "      <th>2010</th>\n",
       "      <th>2009</th>\n",
       "      <th>2008</th>\n",
       "      <th>2007</th>\n",
       "      <th>2006</th>\n",
       "      <th>2005</th>\n",
       "      <th>2004</th>\n",
       "      <th>2003</th>\n",
       "      <th>2002</th>\n",
       "      <th>2001</th>\n",
       "      <th>2000</th>\n",
       "      <th>1999</th>\n",
       "      <th>1998</th>\n",
       "      <th>1997</th>\n",
       "      <th>1996</th>\n",
       "      <th>1995</th>\n",
       "      <th>1994</th>\n",
       "      <th>1993</th>\n",
       "      <th>1992</th>\n",
       "      <th>1991</th>\n",
       "      <th>1990</th>\n",
       "      <th>1989</th>\n",
       "      <th>1988</th>\n",
       "      <th>1987</th>\n",
       "      <th>1986</th>\n",
       "      <th>1985</th>\n",
       "      <th>1984</th>\n",
       "      <th>1983</th>\n",
       "      <th>1982</th>\n",
       "      <th>1981</th>\n",
       "      <th>1980</th>\n",
       "      <th>1979</th>\n",
       "      <th>1978</th>\n",
       "      <th>1977</th>\n",
       "      <th>1976</th>\n",
       "      <th>1975</th>\n",
       "      <th>1974</th>\n",
       "    </tr>\n",
       "  </thead>\n",
       "  <tbody>\n",
       "    <tr>\n",
       "      <th>0</th>\n",
       "      <td>Afghanistan</td>\n",
       "      <td>2900</td>\n",
       "      <td>640</td>\n",
       "      <td>353</td>\n",
       "      <td>2012</td>\n",
       "      <td>1511</td>\n",
       "      <td>638</td>\n",
       "      <td>1154</td>\n",
       "      <td>492</td>\n",
       "      <td>430</td>\n",
       "      <td>2787</td>\n",
       "      <td>3013</td>\n",
       "      <td>1989</td>\n",
       "      <td>2861</td>\n",
       "      <td>1599</td>\n",
       "      <td>1141</td>\n",
       "      <td>1990</td>\n",
       "      <td>1296</td>\n",
       "      <td>466</td>\n",
       "      <td>798</td>\n",
       "      <td>2486</td>\n",
       "      <td>8762</td>\n",
       "      <td>6532</td>\n",
       "      <td>3609</td>\n",
       "      <td>2205</td>\n",
       "      <td>None</td>\n",
       "      <td>None</td>\n",
       "      <td>None</td>\n",
       "      <td>None</td>\n",
       "      <td>None</td>\n",
       "      <td>None</td>\n",
       "      <td>792</td>\n",
       "      <td>1609</td>\n",
       "      <td>1170</td>\n",
       "      <td>4561</td>\n",
       "      <td>10357</td>\n",
       "      <td>8107</td>\n",
       "      <td>14457</td>\n",
       "      <td>16199</td>\n",
       "      <td>18808</td>\n",
       "      <td>20320</td>\n",
       "      <td>31107</td>\n",
       "      <td>32455</td>\n",
       "      <td>43979</td>\n",
       "      <td>43964</td>\n",
       "      <td>28174</td>\n",
       "      <td>26</td>\n",
       "      <td>466</td>\n",
       "      <td>7</td>\n",
       "    </tr>\n",
       "    <tr>\n",
       "      <th>1</th>\n",
       "      <td>Albania</td>\n",
       "      <td>None</td>\n",
       "      <td>4</td>\n",
       "      <td>488</td>\n",
       "      <td>1469</td>\n",
       "      <td>12</td>\n",
       "      <td>17</td>\n",
       "      <td>None</td>\n",
       "      <td>None</td>\n",
       "      <td>0</td>\n",
       "      <td>9</td>\n",
       "      <td>28</td>\n",
       "      <td>10</td>\n",
       "      <td>0</td>\n",
       "      <td>None</td>\n",
       "      <td>22</td>\n",
       "      <td>68</td>\n",
       "      <td>6</td>\n",
       "      <td>7</td>\n",
       "      <td>8</td>\n",
       "      <td>16</td>\n",
       "      <td>18</td>\n",
       "      <td>662</td>\n",
       "      <td>797</td>\n",
       "      <td>1901</td>\n",
       "      <td>2386</td>\n",
       "      <td>1204</td>\n",
       "      <td>15</td>\n",
       "      <td>29</td>\n",
       "      <td>7</td>\n",
       "      <td>0</td>\n",
       "      <td>0</td>\n",
       "      <td>None</td>\n",
       "      <td>136034</td>\n",
       "      <td>0</td>\n",
       "      <td>0</td>\n",
       "      <td>0</td>\n",
       "      <td>0</td>\n",
       "      <td>0</td>\n",
       "      <td>17</td>\n",
       "      <td>3</td>\n",
       "      <td>None</td>\n",
       "      <td>None</td>\n",
       "      <td>None</td>\n",
       "      <td>None</td>\n",
       "      <td>None</td>\n",
       "      <td>None</td>\n",
       "      <td>None</td>\n",
       "      <td>None</td>\n",
       "    </tr>\n",
       "    <tr>\n",
       "      <th>2</th>\n",
       "      <td>Algeria</td>\n",
       "      <td>None</td>\n",
       "      <td>None</td>\n",
       "      <td>2585</td>\n",
       "      <td>3356</td>\n",
       "      <td>112</td>\n",
       "      <td>41</td>\n",
       "      <td>63</td>\n",
       "      <td>0</td>\n",
       "      <td>25</td>\n",
       "      <td>18</td>\n",
       "      <td>112</td>\n",
       "      <td>103</td>\n",
       "      <td>107</td>\n",
       "      <td>217</td>\n",
       "      <td>0</td>\n",
       "      <td>944</td>\n",
       "      <td>2302</td>\n",
       "      <td>3289</td>\n",
       "      <td>15374</td>\n",
       "      <td>5862</td>\n",
       "      <td>2686</td>\n",
       "      <td>None</td>\n",
       "      <td>2503</td>\n",
       "      <td>3301</td>\n",
       "      <td>19573</td>\n",
       "      <td>21003</td>\n",
       "      <td>8204</td>\n",
       "      <td>5913</td>\n",
       "      <td>3141</td>\n",
       "      <td>8823</td>\n",
       "      <td>5969</td>\n",
       "      <td>1796</td>\n",
       "      <td>4169</td>\n",
       "      <td>2634</td>\n",
       "      <td>2500</td>\n",
       "      <td>3975</td>\n",
       "      <td>20114</td>\n",
       "      <td>22553</td>\n",
       "      <td>22126</td>\n",
       "      <td>29584</td>\n",
       "      <td>20849</td>\n",
       "      <td>15527</td>\n",
       "      <td>14937</td>\n",
       "      <td>10696</td>\n",
       "      <td>12015</td>\n",
       "      <td>15646</td>\n",
       "      <td>8899</td>\n",
       "      <td>10517</td>\n",
       "    </tr>\n",
       "  </tbody>\n",
       "</table>\n",
       "</div>"
      ],
      "text/plain": [
       "  Countries, territories and areas  2021  2020  2019  2018  2017  2016  2015  2014  2013  2012  2011  2010  2009  2008  2007  2006  2005  2004   2003  2002  2001  2000  1999  1998   1997   1996  1995  1994  1993  1992  1991  1990    1989  1988   1987  1986   1985   1984   1983   1982   1981   1980   1979   1978   1977   1976  1975   1974\n",
       "0                      Afghanistan  2900   640   353  2012  1511   638  1154   492   430  2787  3013  1989  2861  1599  1141  1990  1296   466    798  2486  8762  6532  3609  2205   None   None  None  None  None  None   792  1609    1170  4561  10357  8107  14457  16199  18808  20320  31107  32455  43979  43964  28174     26   466      7\n",
       "1                          Albania  None     4   488  1469    12    17  None  None     0     9    28    10     0  None    22    68     6     7      8    16    18   662   797  1901   2386   1204    15    29     7     0     0  None  136034     0      0     0      0      0     17      3   None   None   None   None   None   None  None   None\n",
       "2                          Algeria  None  None  2585  3356   112    41    63     0    25    18   112   103   107   217     0   944  2302  3289  15374  5862  2686  None  2503  3301  19573  21003  8204  5913  3141  8823  5969  1796    4169  2634   2500  3975  20114  22553  22126  29584  20849  15527  14937  10696  12015  15646  8899  10517"
      ]
     },
     "execution_count": 10,
     "metadata": {},
     "output_type": "execute_result"
    }
   ],
   "source": [
    "data_00.limit(3).pandas_api()"
   ]
  },
  {
   "cell_type": "code",
   "execution_count": 11,
   "id": "c02a083d-f27a-424d-8fe3-c6cf893e3c07",
   "metadata": {
    "execution": {
     "iopub.execute_input": "2023-06-08T13:27:46.835476Z",
     "iopub.status.busy": "2023-06-08T13:27:46.835260Z",
     "iopub.status.idle": "2023-06-08T13:27:46.840223Z",
     "shell.execute_reply": "2023-06-08T13:27:46.839610Z",
     "shell.execute_reply.started": "2023-06-08T13:27:46.835461Z"
    },
    "tags": []
   },
   "outputs": [
    {
     "data": {
      "text/plain": [
       "49"
      ]
     },
     "execution_count": 11,
     "metadata": {},
     "output_type": "execute_result"
    }
   ],
   "source": [
    "len(data_00.columns)"
   ]
  },
  {
   "cell_type": "code",
   "execution_count": 12,
   "id": "df39410f-2652-4216-9d1d-5b2806055155",
   "metadata": {
    "execution": {
     "iopub.execute_input": "2023-06-08T13:27:46.841087Z",
     "iopub.status.busy": "2023-06-08T13:27:46.840908Z",
     "iopub.status.idle": "2023-06-08T13:27:46.844542Z",
     "shell.execute_reply": "2023-06-08T13:27:46.843893Z",
     "shell.execute_reply.started": "2023-06-08T13:27:46.841071Z"
    },
    "tags": []
   },
   "outputs": [
    {
     "name": "stdout",
     "output_type": "stream",
     "text": [
      "['Countries, territories and areas', ' 2021', ' 2020', ' 2019', ' 2018', ' 2017', ' 2016', ' 2015', ' 2014', ' 2013', ' 2012', ' 2011', ' 2010', ' 2009', ' 2008', ' 2007', ' 2006', ' 2005', ' 2004', ' 2003', ' 2002', ' 2001', ' 2000', ' 1999', ' 1998', ' 1997', ' 1996', ' 1995', ' 1994', ' 1993', ' 1992', ' 1991', ' 1990', ' 1989', ' 1988', ' 1987', ' 1986', ' 1985', ' 1984', ' 1983', ' 1982', ' 1981', ' 1980', ' 1979', ' 1978', ' 1977', ' 1976', ' 1975', ' 1974']\n"
     ]
    }
   ],
   "source": [
    "print(data_00.columns)"
   ]
  },
  {
   "cell_type": "code",
   "execution_count": 13,
   "id": "a431d065-ab5e-4ba5-a739-7f1d6597aea4",
   "metadata": {
    "execution": {
     "iopub.execute_input": "2023-06-08T13:27:46.845694Z",
     "iopub.status.busy": "2023-06-08T13:27:46.845421Z",
     "iopub.status.idle": "2023-06-08T13:27:46.935860Z",
     "shell.execute_reply": "2023-06-08T13:27:46.935229Z",
     "shell.execute_reply.started": "2023-06-08T13:27:46.845669Z"
    },
    "tags": []
   },
   "outputs": [],
   "source": [
    "data_00 = data_00.selectExpr('`Countries, territories and areas`', \"stack(48, \\\n",
    "' 1974', ` 1974`, \\\n",
    "' 1975', ` 1975`, ' 1976', ` 1976`, ' 1977', ` 1977`, ' 1978', ` 1978`, ' 1979', ` 1979`, \\\n",
    "' 1980', ` 1980`, ' 1981', ` 1981`, ' 1982', ` 1982`, ' 1983', ` 1983`, ' 1984', ` 1984`, \\\n",
    "' 1985', ` 1985`, ' 1986', ` 1986`, ' 1987', ` 1987`, ' 1988', ` 1988`, ' 1989', ` 1989`, \\\n",
    "' 1990', ` 1990`, ' 1991', ` 1991`, ' 1992', ` 1992`, ' 1993', ` 1993`, ' 1994', ` 1994`, \\\n",
    "' 1995', ` 1995`, ' 1996', ` 1996`, ' 1997', ` 1997`, ' 1998', ` 1998`, ' 1999', ` 1999`, \\\n",
    "' 2000', ` 2000`, ' 2001', ` 2001`, ' 2002', ` 2002`, ' 2003', ` 2003`, ' 2004', ` 2004`, \\\n",
    "' 2005', ` 2005`, ' 2006', ` 2006`, ' 2007', ` 2007`, ' 2008', ` 2008`, ' 2009', ` 2009`, \\\n",
    "' 2010', ` 2010`, ' 2011', ` 2011`, ' 2012', ` 2012`, ' 2013', ` 2013`, ' 2014', ` 2014`, \\\n",
    "' 2015', ` 2015`, ' 2016', ` 2016`, ' 2017', ` 2017`, ' 2018', ` 2018`, ' 2019', ` 2019`, \\\n",
    "' 2020', ` 2020`, ' 2021', ` 2021`) as (Year, pais)\")"
   ]
  },
  {
   "cell_type": "code",
   "execution_count": 14,
   "id": "e13dade8-190f-4ac0-a299-653b6fb01a5c",
   "metadata": {
    "execution": {
     "iopub.execute_input": "2023-06-08T13:27:46.936592Z",
     "iopub.status.busy": "2023-06-08T13:27:46.936415Z",
     "iopub.status.idle": "2023-06-08T13:27:47.596757Z",
     "shell.execute_reply": "2023-06-08T13:27:47.596171Z",
     "shell.execute_reply.started": "2023-06-08T13:27:46.936576Z"
    },
    "tags": []
   },
   "outputs": [
    {
     "data": {
      "text/html": [
       "<div>\n",
       "<style scoped>\n",
       "    .dataframe tbody tr th:only-of-type {\n",
       "        vertical-align: middle;\n",
       "    }\n",
       "\n",
       "    .dataframe tbody tr th {\n",
       "        vertical-align: top;\n",
       "    }\n",
       "\n",
       "    .dataframe thead th {\n",
       "        text-align: right;\n",
       "    }\n",
       "</style>\n",
       "<table border=\"1\" class=\"dataframe\">\n",
       "  <thead>\n",
       "    <tr style=\"text-align: right;\">\n",
       "      <th></th>\n",
       "      <th>Countries, territories and areas</th>\n",
       "      <th>Year</th>\n",
       "      <th>pais</th>\n",
       "    </tr>\n",
       "  </thead>\n",
       "  <tbody>\n",
       "    <tr>\n",
       "      <th>0</th>\n",
       "      <td>Algeria</td>\n",
       "      <td>1974</td>\n",
       "      <td>10517</td>\n",
       "    </tr>\n",
       "    <tr>\n",
       "      <th>1</th>\n",
       "      <td>Bolivia (Plurinational State of)</td>\n",
       "      <td>1990</td>\n",
       "      <td>820</td>\n",
       "    </tr>\n",
       "    <tr>\n",
       "      <th>2</th>\n",
       "      <td>Estonia</td>\n",
       "      <td>1998</td>\n",
       "      <td>17</td>\n",
       "    </tr>\n",
       "    <tr>\n",
       "      <th>3</th>\n",
       "      <td>France</td>\n",
       "      <td>2015</td>\n",
       "      <td>157</td>\n",
       "    </tr>\n",
       "    <tr>\n",
       "      <th>4</th>\n",
       "      <td>Gabon</td>\n",
       "      <td>1992</td>\n",
       "      <td>1245</td>\n",
       "    </tr>\n",
       "  </tbody>\n",
       "</table>\n",
       "</div>"
      ],
      "text/plain": [
       "   Countries, territories and areas   Year   pais\n",
       "0                           Algeria   1974  10517\n",
       "1  Bolivia (Plurinational State of)   1990    820\n",
       "2                           Estonia   1998     17\n",
       "3                            France   2015    157\n",
       "4                             Gabon   1992   1245"
      ]
     },
     "execution_count": 14,
     "metadata": {},
     "output_type": "execute_result"
    }
   ],
   "source": [
    "data_00.sample(False, 5/data_00.count(), seed=150).limit(5).pandas_api()"
   ]
  },
  {
   "cell_type": "code",
   "execution_count": 15,
   "id": "07498245-4f2e-4bee-91be-424b188cadad",
   "metadata": {
    "execution": {
     "iopub.execute_input": "2023-06-08T13:27:47.598111Z",
     "iopub.status.busy": "2023-06-08T13:27:47.597761Z",
     "iopub.status.idle": "2023-06-08T13:27:47.645674Z",
     "shell.execute_reply": "2023-06-08T13:27:47.644950Z",
     "shell.execute_reply.started": "2023-06-08T13:27:47.598087Z"
    },
    "tags": []
   },
   "outputs": [],
   "source": [
    "data_00 = data_00.filter(col(\"Countries, territories and areas\").isin(americans_countries) | col(\"Countries, territories and areas\").isin(oceanic_countries))"
   ]
  },
  {
   "cell_type": "code",
   "execution_count": 16,
   "id": "4f4cac93-aa68-4355-a222-2962d1c71a72",
   "metadata": {
    "execution": {
     "iopub.execute_input": "2023-06-08T13:27:47.646911Z",
     "iopub.status.busy": "2023-06-08T13:27:47.646650Z",
     "iopub.status.idle": "2023-06-08T13:27:48.154250Z",
     "shell.execute_reply": "2023-06-08T13:27:48.153736Z",
     "shell.execute_reply.started": "2023-06-08T13:27:47.646888Z"
    },
    "tags": []
   },
   "outputs": [
    {
     "data": {
      "text/html": [
       "<div>\n",
       "<style scoped>\n",
       "    .dataframe tbody tr th:only-of-type {\n",
       "        vertical-align: middle;\n",
       "    }\n",
       "\n",
       "    .dataframe tbody tr th {\n",
       "        vertical-align: top;\n",
       "    }\n",
       "\n",
       "    .dataframe thead th {\n",
       "        text-align: right;\n",
       "    }\n",
       "</style>\n",
       "<table border=\"1\" class=\"dataframe\">\n",
       "  <thead>\n",
       "    <tr style=\"text-align: right;\">\n",
       "      <th></th>\n",
       "      <th>Countries, territories and areas</th>\n",
       "      <th>Year</th>\n",
       "      <th>pais</th>\n",
       "    </tr>\n",
       "  </thead>\n",
       "  <tbody>\n",
       "    <tr>\n",
       "      <th>0</th>\n",
       "      <td>Bahamas</td>\n",
       "      <td>1974</td>\n",
       "      <td>432</td>\n",
       "    </tr>\n",
       "    <tr>\n",
       "      <th>1</th>\n",
       "      <td>Canada</td>\n",
       "      <td>1991</td>\n",
       "      <td>6178</td>\n",
       "    </tr>\n",
       "    <tr>\n",
       "      <th>2</th>\n",
       "      <td>Cuba</td>\n",
       "      <td>1974</td>\n",
       "      <td>13874</td>\n",
       "    </tr>\n",
       "    <tr>\n",
       "      <th>3</th>\n",
       "      <td>Kiribati</td>\n",
       "      <td>1990</td>\n",
       "      <td>30</td>\n",
       "    </tr>\n",
       "    <tr>\n",
       "      <th>4</th>\n",
       "      <td>New Zealand</td>\n",
       "      <td>1978</td>\n",
       "      <td>None</td>\n",
       "    </tr>\n",
       "  </tbody>\n",
       "</table>\n",
       "</div>"
      ],
      "text/plain": [
       "  Countries, territories and areas   Year   pais\n",
       "0                          Bahamas   1974    432\n",
       "1                           Canada   1991   6178\n",
       "2                             Cuba   1974  13874\n",
       "3                         Kiribati   1990     30\n",
       "4                      New Zealand   1978   None"
      ]
     },
     "execution_count": 16,
     "metadata": {},
     "output_type": "execute_result"
    }
   ],
   "source": [
    "data_00.sample(False, 5/data_00.count(), seed=150).limit(5).pandas_api()"
   ]
  },
  {
   "cell_type": "code",
   "execution_count": 17,
   "id": "49bda8e4-5a75-4e38-b76f-7d7f507edf9f",
   "metadata": {
    "execution": {
     "iopub.execute_input": "2023-06-08T13:27:48.155031Z",
     "iopub.status.busy": "2023-06-08T13:27:48.154863Z",
     "iopub.status.idle": "2023-06-08T13:27:48.437847Z",
     "shell.execute_reply": "2023-06-08T13:27:48.437122Z",
     "shell.execute_reply.started": "2023-06-08T13:27:48.155015Z"
    },
    "tags": []
   },
   "outputs": [],
   "source": [
    "data_00.coalesce(1).write.option(\"header\", \"true\").mode(\"overwrite\").csv(\"oms_00\")"
   ]
  },
  {
   "cell_type": "code",
   "execution_count": 18,
   "id": "934e730a-3bba-407a-a50c-b899e37e1da7",
   "metadata": {
    "execution": {
     "iopub.execute_input": "2023-06-08T13:27:48.438943Z",
     "iopub.status.busy": "2023-06-08T13:27:48.438618Z",
     "iopub.status.idle": "2023-06-08T13:27:48.442045Z",
     "shell.execute_reply": "2023-06-08T13:27:48.441271Z",
     "shell.execute_reply.started": "2023-06-08T13:27:48.438917Z"
    },
    "tags": []
   },
   "outputs": [],
   "source": [
    "url_01 = \"https://apps.who.int/gho/athena/data/GHO/WHS3_62?filter=COUNTRY:-;REGION:AFR;REGION:AMR;REGION:SEAR;REGION:EUR;REGION:EMR;REGION:WPR;REGION:GLOBAL&ead=&x-sideaxis=REGION&x-topaxis=GHO;YEAR&profile=crosstable&format=csv\""
   ]
  },
  {
   "cell_type": "code",
   "execution_count": 19,
   "id": "31788503-0e6f-4050-b5cb-d8521ba02463",
   "metadata": {
    "execution": {
     "iopub.execute_input": "2023-06-08T13:27:48.443586Z",
     "iopub.status.busy": "2023-06-08T13:27:48.443005Z",
     "iopub.status.idle": "2023-06-08T13:27:48.854512Z",
     "shell.execute_reply": "2023-06-08T13:27:48.852146Z",
     "shell.execute_reply.started": "2023-06-08T13:27:48.443560Z"
    },
    "tags": []
   },
   "outputs": [
    {
     "name": "stdout",
     "output_type": "stream",
     "text": [
      "Archivo descargado exitosamente.\n"
     ]
    }
   ],
   "source": [
    "import requests\n",
    "\n",
    "\n",
    "response = requests.get(url_01)\n",
    "\n",
    "# Verificar si la solicitud fue exitosa (código de estado 200)\n",
    "if response.status_code == 200:\n",
    "    # Guardar el contenido de la respuesta en un archivo\n",
    "    with open(\"who/data_01.csv\", \"wb\") as file:\n",
    "        file.write(response.content)\n",
    "    print(\"Archivo descargado exitosamente.\")\n",
    "else:\n",
    "    print(\"No se pudo realizar la descarga.\")"
   ]
  },
  {
   "cell_type": "code",
   "execution_count": 20,
   "id": "b238345e-b5a2-400a-827b-573dcf5fe699",
   "metadata": {
    "execution": {
     "iopub.execute_input": "2023-06-08T13:27:48.859103Z",
     "iopub.status.busy": "2023-06-08T13:27:48.858042Z",
     "iopub.status.idle": "2023-06-08T13:27:48.871359Z",
     "shell.execute_reply": "2023-06-08T13:27:48.868885Z",
     "shell.execute_reply.started": "2023-06-08T13:27:48.859001Z"
    },
    "tags": []
   },
   "outputs": [],
   "source": [
    "# Ruta del archivo CSV\n",
    "\n",
    "csv_url_01 = \"who/data_01.csv\"\n",
    "\n",
    "# Crear una lista para almacenar las filas del archivo CSV\n",
    "rows_url_01 = []\n",
    "\n",
    "\n",
    "#API_SE.PRM.CMPT.ZS_DS2_es_csv_v2_5478942"
   ]
  },
  {
   "cell_type": "code",
   "execution_count": 21,
   "id": "dbd05744-9f07-4cd7-bb6b-2b18b9a8914b",
   "metadata": {
    "execution": {
     "iopub.execute_input": "2023-06-08T13:27:48.875964Z",
     "iopub.status.busy": "2023-06-08T13:27:48.874878Z",
     "iopub.status.idle": "2023-06-08T13:27:48.886963Z",
     "shell.execute_reply": "2023-06-08T13:27:48.885568Z",
     "shell.execute_reply.started": "2023-06-08T13:27:48.875861Z"
    },
    "tags": []
   },
   "outputs": [],
   "source": [
    "# Leer el archivo CSV y almacenar las filas en la lista\n",
    "with open(csv_url_01, \"r\") as file_csv_url_01:\n",
    "    csv_reader_url_01 = csv.reader(file_csv_url_01)\n",
    "    rows_url_01 = list(csv_reader_url_01)\n"
   ]
  },
  {
   "cell_type": "code",
   "execution_count": 22,
   "id": "367f8fd9-dccb-4947-b03c-c8b586c08bfe",
   "metadata": {
    "execution": {
     "iopub.execute_input": "2023-06-08T13:27:48.900328Z",
     "iopub.status.busy": "2023-06-08T13:27:48.899899Z",
     "iopub.status.idle": "2023-06-08T13:27:48.905745Z",
     "shell.execute_reply": "2023-06-08T13:27:48.904907Z",
     "shell.execute_reply.started": "2023-06-08T13:27:48.900292Z"
    },
    "tags": []
   },
   "outputs": [],
   "source": [
    "# Eliminar las primeras 1 fila\n",
    "\n",
    "rows_url_01 = rows_url_01[1:]\n",
    "\n",
    "# Escribir las filas modificadas en un nuevo archivo CSV\n",
    "with open(\"who/data_01.csv\", \"w\", newline=\"\") as file_csv_url_01:\n",
    "    csv_writer_url_01 = csv.writer(file_csv_url_01)\n",
    "    csv_writer_url_01.writerows(rows_url_01)"
   ]
  },
  {
   "cell_type": "code",
   "execution_count": 23,
   "id": "babeeb1d-da30-4bae-b705-93137121c1c1",
   "metadata": {
    "execution": {
     "iopub.execute_input": "2023-06-08T13:27:48.907268Z",
     "iopub.status.busy": "2023-06-08T13:27:48.906843Z",
     "iopub.status.idle": "2023-06-08T13:27:49.009857Z",
     "shell.execute_reply": "2023-06-08T13:27:49.009193Z",
     "shell.execute_reply.started": "2023-06-08T13:27:48.907239Z"
    },
    "tags": []
   },
   "outputs": [],
   "source": [
    "data_01 = spark.read.csv(\"who/data_01.csv\", header=True)"
   ]
  },
  {
   "cell_type": "code",
   "execution_count": 24,
   "id": "75c3824a-c158-4efd-af47-aea008e6d4a2",
   "metadata": {
    "execution": {
     "iopub.execute_input": "2023-06-08T13:27:49.010765Z",
     "iopub.status.busy": "2023-06-08T13:27:49.010594Z",
     "iopub.status.idle": "2023-06-08T13:27:49.350535Z",
     "shell.execute_reply": "2023-06-08T13:27:49.349943Z",
     "shell.execute_reply.started": "2023-06-08T13:27:49.010750Z"
    },
    "tags": []
   },
   "outputs": [
    {
     "data": {
      "text/html": [
       "<div>\n",
       "<style scoped>\n",
       "    .dataframe tbody tr th:only-of-type {\n",
       "        vertical-align: middle;\n",
       "    }\n",
       "\n",
       "    .dataframe tbody tr th {\n",
       "        vertical-align: top;\n",
       "    }\n",
       "\n",
       "    .dataframe thead th {\n",
       "        text-align: right;\n",
       "    }\n",
       "</style>\n",
       "<table border=\"1\" class=\"dataframe\">\n",
       "  <thead>\n",
       "    <tr style=\"text-align: right;\">\n",
       "      <th></th>\n",
       "      <th>WHO region</th>\n",
       "      <th>2021</th>\n",
       "      <th>2020</th>\n",
       "      <th>2019</th>\n",
       "      <th>2018</th>\n",
       "      <th>2017</th>\n",
       "      <th>2016</th>\n",
       "      <th>2015</th>\n",
       "      <th>2014</th>\n",
       "      <th>2013</th>\n",
       "      <th>2012</th>\n",
       "      <th>2011</th>\n",
       "      <th>2010</th>\n",
       "      <th>2009</th>\n",
       "      <th>2008</th>\n",
       "      <th>2007</th>\n",
       "      <th>2006</th>\n",
       "      <th>2005</th>\n",
       "      <th>2004</th>\n",
       "      <th>2003</th>\n",
       "      <th>2002</th>\n",
       "      <th>2001</th>\n",
       "      <th>2000</th>\n",
       "      <th>1999</th>\n",
       "      <th>1998</th>\n",
       "      <th>1997</th>\n",
       "      <th>1996</th>\n",
       "      <th>1995</th>\n",
       "      <th>1994</th>\n",
       "      <th>1993</th>\n",
       "      <th>1992</th>\n",
       "      <th>1991</th>\n",
       "      <th>1990</th>\n",
       "      <th>1989</th>\n",
       "      <th>1988</th>\n",
       "      <th>1987</th>\n",
       "      <th>1986</th>\n",
       "      <th>1985</th>\n",
       "      <th>1984</th>\n",
       "      <th>1983</th>\n",
       "      <th>1982</th>\n",
       "      <th>1981</th>\n",
       "      <th>1980</th>\n",
       "    </tr>\n",
       "  </thead>\n",
       "  <tbody>\n",
       "    <tr>\n",
       "      <th>0</th>\n",
       "      <td>Global</td>\n",
       "      <td>124041</td>\n",
       "      <td>159067</td>\n",
       "      <td>873022</td>\n",
       "      <td>360296</td>\n",
       "      <td>173457</td>\n",
       "      <td>132490</td>\n",
       "      <td>214808</td>\n",
       "      <td>282078</td>\n",
       "      <td>275307</td>\n",
       "      <td>212376</td>\n",
       "      <td>359332</td>\n",
       "      <td>343806</td>\n",
       "      <td>278637</td>\n",
       "      <td>278751</td>\n",
       "      <td>285031</td>\n",
       "      <td>377576</td>\n",
       "      <td>585701</td>\n",
       "      <td>513406</td>\n",
       "      <td>679856</td>\n",
       "      <td>586471</td>\n",
       "      <td>849173</td>\n",
       "      <td>853479</td>\n",
       "      <td>752407</td>\n",
       "      <td>694466</td>\n",
       "      <td>825673</td>\n",
       "      <td>870218</td>\n",
       "      <td>720391</td>\n",
       "      <td>926808</td>\n",
       "      <td>1143945</td>\n",
       "      <td>1481192</td>\n",
       "      <td>1370243</td>\n",
       "      <td>1325074</td>\n",
       "      <td>1822390</td>\n",
       "      <td>1663940</td>\n",
       "      <td>1682847</td>\n",
       "      <td>2078696</td>\n",
       "      <td>2819553</td>\n",
       "      <td>3026973</td>\n",
       "      <td>3586101</td>\n",
       "      <td>3623758</td>\n",
       "      <td>4078455</td>\n",
       "      <td>3852242</td>\n",
       "    </tr>\n",
       "    <tr>\n",
       "      <th>1</th>\n",
       "      <td>Africa</td>\n",
       "      <td>89606</td>\n",
       "      <td>115369</td>\n",
       "      <td>618595</td>\n",
       "      <td>125426</td>\n",
       "      <td>72603</td>\n",
       "      <td>36269</td>\n",
       "      <td>52758</td>\n",
       "      <td>73914</td>\n",
       "      <td>171178</td>\n",
       "      <td>108004</td>\n",
       "      <td>195620</td>\n",
       "      <td>199174</td>\n",
       "      <td>83479</td>\n",
       "      <td>37012</td>\n",
       "      <td>76410</td>\n",
       "      <td>99420</td>\n",
       "      <td>316219</td>\n",
       "      <td>220180</td>\n",
       "      <td>403016</td>\n",
       "      <td>288340</td>\n",
       "      <td>491989</td>\n",
       "      <td>520102</td>\n",
       "      <td>486660</td>\n",
       "      <td>373149</td>\n",
       "      <td>299623</td>\n",
       "      <td>484914</td>\n",
       "      <td>362925</td>\n",
       "      <td>420193</td>\n",
       "      <td>395025</td>\n",
       "      <td>581125</td>\n",
       "      <td>446517</td>\n",
       "      <td>481204</td>\n",
       "      <td>561896</td>\n",
       "      <td>604244</td>\n",
       "      <td>641057</td>\n",
       "      <td>676757</td>\n",
       "      <td>1142002</td>\n",
       "      <td>1076106</td>\n",
       "      <td>1346883</td>\n",
       "      <td>1342685</td>\n",
       "      <td>1413184</td>\n",
       "      <td>1240993</td>\n",
       "    </tr>\n",
       "    <tr>\n",
       "      <th>2</th>\n",
       "      <td>Americas</td>\n",
       "      <td>682</td>\n",
       "      <td>9996</td>\n",
       "      <td>21971</td>\n",
       "      <td>16714</td>\n",
       "      <td>895</td>\n",
       "      <td>97</td>\n",
       "      <td>611</td>\n",
       "      <td>1966</td>\n",
       "      <td>491</td>\n",
       "      <td>143</td>\n",
       "      <td>1348</td>\n",
       "      <td>247</td>\n",
       "      <td>89</td>\n",
       "      <td>206</td>\n",
       "      <td>176</td>\n",
       "      <td>226</td>\n",
       "      <td>85</td>\n",
       "      <td>108</td>\n",
       "      <td>119</td>\n",
       "      <td>2579</td>\n",
       "      <td>548</td>\n",
       "      <td>1754</td>\n",
       "      <td>3209</td>\n",
       "      <td>14330</td>\n",
       "      <td>53567</td>\n",
       "      <td>1910</td>\n",
       "      <td>6478</td>\n",
       "      <td>23784</td>\n",
       "      <td>57400</td>\n",
       "      <td>100741</td>\n",
       "      <td>157602</td>\n",
       "      <td>218579</td>\n",
       "      <td>137417</td>\n",
       "      <td>133244</td>\n",
       "      <td>151396</td>\n",
       "      <td>227452</td>\n",
       "      <td>199744</td>\n",
       "      <td>202758</td>\n",
       "      <td>137410</td>\n",
       "      <td>153746</td>\n",
       "      <td>252378</td>\n",
       "      <td>257790</td>\n",
       "    </tr>\n",
       "  </tbody>\n",
       "</table>\n",
       "</div>"
      ],
      "text/plain": [
       "  WHO region    2021    2020    2019    2018    2017    2016    2015    2014    2013    2012    2011    2010    2009    2008    2007    2006    2005    2004    2003    2002    2001    2000    1999    1998    1997    1996    1995    1994     1993     1992     1991     1990     1989     1988     1987     1986     1985     1984     1983     1982     1981     1980\n",
       "0     Global  124041  159067  873022  360296  173457  132490  214808  282078  275307  212376  359332  343806  278637  278751  285031  377576  585701  513406  679856  586471  849173  853479  752407  694466  825673  870218  720391  926808  1143945  1481192  1370243  1325074  1822390  1663940  1682847  2078696  2819553  3026973  3586101  3623758  4078455  3852242\n",
       "1     Africa   89606  115369  618595  125426   72603   36269   52758   73914  171178  108004  195620  199174   83479   37012   76410   99420  316219  220180  403016  288340  491989  520102  486660  373149  299623  484914  362925  420193   395025   581125   446517   481204   561896   604244   641057   676757  1142002  1076106  1346883  1342685  1413184  1240993\n",
       "2   Americas     682    9996   21971   16714     895      97     611    1966     491     143    1348     247      89     206     176     226      85     108     119    2579     548    1754    3209   14330   53567    1910    6478   23784    57400   100741   157602   218579   137417   133244   151396   227452   199744   202758   137410   153746   252378   257790"
      ]
     },
     "execution_count": 24,
     "metadata": {},
     "output_type": "execute_result"
    }
   ],
   "source": [
    "data_01.limit(3).pandas_api()"
   ]
  },
  {
   "cell_type": "code",
   "execution_count": 25,
   "id": "1fc12c55-6928-4623-ad54-97cca662ba77",
   "metadata": {
    "execution": {
     "iopub.execute_input": "2023-06-08T13:27:49.351628Z",
     "iopub.status.busy": "2023-06-08T13:27:49.351354Z",
     "iopub.status.idle": "2023-06-08T13:27:49.356991Z",
     "shell.execute_reply": "2023-06-08T13:27:49.356257Z",
     "shell.execute_reply.started": "2023-06-08T13:27:49.351612Z"
    },
    "tags": []
   },
   "outputs": [
    {
     "data": {
      "text/plain": [
       "43"
      ]
     },
     "execution_count": 25,
     "metadata": {},
     "output_type": "execute_result"
    }
   ],
   "source": [
    "len(data_01.columns)"
   ]
  },
  {
   "cell_type": "code",
   "execution_count": null,
   "id": "e6ac1592-9d62-49ab-ac42-9bbdeb58ae71",
   "metadata": {},
   "outputs": [],
   "source": []
  },
  {
   "cell_type": "code",
   "execution_count": 26,
   "id": "50c902d5-9397-48ee-92ad-c1f246183ff3",
   "metadata": {
    "execution": {
     "iopub.execute_input": "2023-06-08T13:27:49.358549Z",
     "iopub.status.busy": "2023-06-08T13:27:49.358135Z",
     "iopub.status.idle": "2023-06-08T13:27:49.363838Z",
     "shell.execute_reply": "2023-06-08T13:27:49.363266Z",
     "shell.execute_reply.started": "2023-06-08T13:27:49.358524Z"
    },
    "tags": []
   },
   "outputs": [
    {
     "name": "stdout",
     "output_type": "stream",
     "text": [
      "['WHO region', ' 2021', ' 2020', ' 2019', ' 2018', ' 2017', ' 2016', ' 2015', ' 2014', ' 2013', ' 2012', ' 2011', ' 2010', ' 2009', ' 2008', ' 2007', ' 2006', ' 2005', ' 2004', ' 2003', ' 2002', ' 2001', ' 2000', ' 1999', ' 1998', ' 1997', ' 1996', ' 1995', ' 1994', ' 1993', ' 1992', ' 1991', ' 1990', ' 1989', ' 1988', ' 1987', ' 1986', ' 1985', ' 1984', ' 1983', ' 1982', ' 1981', ' 1980']\n"
     ]
    }
   ],
   "source": [
    "print(data_01.columns)"
   ]
  },
  {
   "cell_type": "code",
   "execution_count": 27,
   "id": "606dd28c-12b5-4b01-a67f-3146c0979e1d",
   "metadata": {
    "execution": {
     "iopub.execute_input": "2023-06-08T13:27:49.364961Z",
     "iopub.status.busy": "2023-06-08T13:27:49.364727Z",
     "iopub.status.idle": "2023-06-08T13:27:49.386598Z",
     "shell.execute_reply": "2023-06-08T13:27:49.386047Z",
     "shell.execute_reply.started": "2023-06-08T13:27:49.364944Z"
    },
    "tags": []
   },
   "outputs": [],
   "source": [
    "data_01 = data_01.selectExpr('`WHO region`', \"stack(42, \\\n",
    "' 1980', ` 1980`, ' 1981', ` 1981`, ' 1982', ` 1982`, ' 1983', ` 1983`, ' 1984', ` 1984`, \\\n",
    "' 1985', ` 1985`, ' 1986', ` 1986`, ' 1987', ` 1987`, ' 1988', ` 1988`, ' 1989', ` 1989`, \\\n",
    "' 1990', ` 1990`, ' 1991', ` 1991`, ' 1992', ` 1992`, ' 1993', ` 1993`, ' 1994', ` 1994`, \\\n",
    "' 1995', ` 1995`, ' 1996', ` 1996`, ' 1997', ` 1997`, ' 1998', ` 1998`, ' 1999', ` 1999`, \\\n",
    "' 2000', ` 2000`, ' 2001', ` 2001`, ' 2002', ` 2002`, ' 2003', ` 2003`, ' 2004', ` 2004`, \\\n",
    "' 2005', ` 2005`, ' 2006', ` 2006`, ' 2007', ` 2007`, ' 2008', ` 2008`, ' 2009', ` 2009`, \\\n",
    "' 2010', ` 2010`, ' 2011', ` 2011`, ' 2012', ` 2012`, ' 2013', ` 2013`, ' 2014', ` 2014`, \\\n",
    "' 2015', ` 2015`, ' 2016', ` 2016`, ' 2017', ` 2017`, ' 2018', ` 2018`, ' 2019', ` 2019`, \\\n",
    "' 2020', ` 2020`, ' 2021', ` 2021`) as (Year, region)\")"
   ]
  },
  {
   "cell_type": "code",
   "execution_count": 28,
   "id": "cd6bf5ef-c2a8-4987-8cbb-d4c69c9c58b4",
   "metadata": {
    "execution": {
     "iopub.execute_input": "2023-06-08T13:27:49.387851Z",
     "iopub.status.busy": "2023-06-08T13:27:49.387510Z",
     "iopub.status.idle": "2023-06-08T13:27:49.704706Z",
     "shell.execute_reply": "2023-06-08T13:27:49.704056Z",
     "shell.execute_reply.started": "2023-06-08T13:27:49.387827Z"
    },
    "tags": []
   },
   "outputs": [
    {
     "data": {
      "text/html": [
       "<div>\n",
       "<style scoped>\n",
       "    .dataframe tbody tr th:only-of-type {\n",
       "        vertical-align: middle;\n",
       "    }\n",
       "\n",
       "    .dataframe tbody tr th {\n",
       "        vertical-align: top;\n",
       "    }\n",
       "\n",
       "    .dataframe thead th {\n",
       "        text-align: right;\n",
       "    }\n",
       "</style>\n",
       "<table border=\"1\" class=\"dataframe\">\n",
       "  <thead>\n",
       "    <tr style=\"text-align: right;\">\n",
       "      <th></th>\n",
       "      <th>WHO region</th>\n",
       "      <th>Year</th>\n",
       "      <th>region</th>\n",
       "    </tr>\n",
       "  </thead>\n",
       "  <tbody>\n",
       "    <tr>\n",
       "      <th>0</th>\n",
       "      <td>Global</td>\n",
       "      <td>1996</td>\n",
       "      <td>870218</td>\n",
       "    </tr>\n",
       "    <tr>\n",
       "      <th>1</th>\n",
       "      <td>Americas</td>\n",
       "      <td>1992</td>\n",
       "      <td>100741</td>\n",
       "    </tr>\n",
       "    <tr>\n",
       "      <th>2</th>\n",
       "      <td>South-East Asia</td>\n",
       "      <td>2018</td>\n",
       "      <td>34741</td>\n",
       "    </tr>\n",
       "    <tr>\n",
       "      <th>3</th>\n",
       "      <td>Eastern Mediterranean</td>\n",
       "      <td>1999</td>\n",
       "      <td>71562</td>\n",
       "    </tr>\n",
       "    <tr>\n",
       "      <th>4</th>\n",
       "      <td>Eastern Mediterranean</td>\n",
       "      <td>2005</td>\n",
       "      <td>15069</td>\n",
       "    </tr>\n",
       "  </tbody>\n",
       "</table>\n",
       "</div>"
      ],
      "text/plain": [
       "              WHO region   Year  region\n",
       "0                 Global   1996  870218\n",
       "1               Americas   1992  100741\n",
       "2        South-East Asia   2018   34741\n",
       "3  Eastern Mediterranean   1999   71562\n",
       "4  Eastern Mediterranean   2005   15069"
      ]
     },
     "execution_count": 28,
     "metadata": {},
     "output_type": "execute_result"
    }
   ],
   "source": [
    "data_01.sample(False, 5/data_01.count(), seed=150).limit(5).pandas_api()"
   ]
  },
  {
   "cell_type": "code",
   "execution_count": 29,
   "id": "704d6637-82a5-430f-b481-78c87b319d52",
   "metadata": {
    "execution": {
     "iopub.execute_input": "2023-06-08T13:27:49.705838Z",
     "iopub.status.busy": "2023-06-08T13:27:49.705606Z",
     "iopub.status.idle": "2023-06-08T13:27:49.838235Z",
     "shell.execute_reply": "2023-06-08T13:27:49.837425Z",
     "shell.execute_reply.started": "2023-06-08T13:27:49.705817Z"
    },
    "tags": []
   },
   "outputs": [],
   "source": [
    "data_01.coalesce(1).write.option(\"header\", \"true\").mode(\"overwrite\").csv(\"oms_01\")"
   ]
  },
  {
   "cell_type": "code",
   "execution_count": 30,
   "id": "ddeefb69-0d64-4e12-b7a9-4a1dee359bfc",
   "metadata": {
    "execution": {
     "iopub.execute_input": "2023-06-08T13:27:49.839216Z",
     "iopub.status.busy": "2023-06-08T13:27:49.839019Z",
     "iopub.status.idle": "2023-06-08T13:27:49.842226Z",
     "shell.execute_reply": "2023-06-08T13:27:49.841689Z",
     "shell.execute_reply.started": "2023-06-08T13:27:49.839199Z"
    },
    "tags": []
   },
   "outputs": [],
   "source": [
    "url_02 =\"https://apps.who.int/gho/athena/data/GHO/cpmowho,cpmt,fps,fpsmowho?filter=COUNTRY:*;AGEGROUP:*&ead=&x-sideaxis=COUNTRY;YEAR;DATASOURCE&x-topaxis=GHO;AGEGROUP&profile=crosstable&format=csv\""
   ]
  },
  {
   "cell_type": "code",
   "execution_count": 31,
   "id": "6bf3d849-bb6e-4267-be1e-1a6147a8b05c",
   "metadata": {
    "execution": {
     "iopub.execute_input": "2023-06-08T13:27:49.843253Z",
     "iopub.status.busy": "2023-06-08T13:27:49.842990Z",
     "iopub.status.idle": "2023-06-08T13:27:50.479696Z",
     "shell.execute_reply": "2023-06-08T13:27:50.478927Z",
     "shell.execute_reply.started": "2023-06-08T13:27:49.843230Z"
    },
    "tags": []
   },
   "outputs": [
    {
     "name": "stdout",
     "output_type": "stream",
     "text": [
      "Archivo descargado exitosamente.\n"
     ]
    }
   ],
   "source": [
    "import requests\n",
    "\n",
    "\n",
    "response = requests.get(url_02)\n",
    "\n",
    "# Verificar si la solicitud fue exitosa (código de estado 200)\n",
    "if response.status_code == 200:\n",
    "    # Guardar el contenido de la respuesta en un archivo\n",
    "    with open(\"who/data_02.csv\", \"wb\") as file:\n",
    "        file.write(response.content)\n",
    "    print(\"Archivo descargado exitosamente.\")\n",
    "else:\n",
    "    print(\"No se pudo realizar la descarga.\")"
   ]
  },
  {
   "cell_type": "code",
   "execution_count": 32,
   "id": "4606785f-6595-47a0-b122-dd2ac23eb4d2",
   "metadata": {
    "execution": {
     "iopub.execute_input": "2023-06-08T13:27:50.480758Z",
     "iopub.status.busy": "2023-06-08T13:27:50.480469Z",
     "iopub.status.idle": "2023-06-08T13:27:50.484864Z",
     "shell.execute_reply": "2023-06-08T13:27:50.483998Z",
     "shell.execute_reply.started": "2023-06-08T13:27:50.480727Z"
    },
    "tags": []
   },
   "outputs": [],
   "source": [
    "# Ruta del archivo CSV\n",
    "\n",
    "csv_url_02 = \"who/data_02.csv\"\n",
    "\n",
    "# Crear una lista para almacenar las filas del archivo CSV\n",
    "rows_url_02 = []\n",
    "\n",
    "\n",
    "#API_SE.PRM.CMPT.ZS_DS2_es_csv_v2_5478942"
   ]
  },
  {
   "cell_type": "code",
   "execution_count": 33,
   "id": "be77961c-0b3f-4dfa-8f39-16716f53a819",
   "metadata": {
    "execution": {
     "iopub.execute_input": "2023-06-08T13:27:50.486361Z",
     "iopub.status.busy": "2023-06-08T13:27:50.486025Z",
     "iopub.status.idle": "2023-06-08T13:27:50.496449Z",
     "shell.execute_reply": "2023-06-08T13:27:50.495811Z",
     "shell.execute_reply.started": "2023-06-08T13:27:50.486331Z"
    },
    "tags": []
   },
   "outputs": [],
   "source": [
    "# Leer el archivo CSV y almacenar las filas en la lista\n",
    "with open(csv_url_02, \"r\") as file_csv_url_02:\n",
    "    csv_reader_url_02 = csv.reader(file_csv_url_02)\n",
    "    rows_url_02 = list(csv_reader_url_02)\n"
   ]
  },
  {
   "cell_type": "code",
   "execution_count": 34,
   "id": "6dd38c5b-7efb-4218-81d2-441a298b5df0",
   "metadata": {
    "execution": {
     "iopub.execute_input": "2023-06-08T13:27:50.497891Z",
     "iopub.status.busy": "2023-06-08T13:27:50.497378Z",
     "iopub.status.idle": "2023-06-08T13:27:50.502905Z",
     "shell.execute_reply": "2023-06-08T13:27:50.502317Z",
     "shell.execute_reply.started": "2023-06-08T13:27:50.497867Z"
    },
    "tags": []
   },
   "outputs": [],
   "source": [
    "# Eliminar las primeras 1 fila\n",
    "\n",
    "rows_url_02 = rows_url_02[1:]\n",
    "\n",
    "# Escribir las filas modificadas en un nuevo archivo CSV\n",
    "with open(\"who/data_02.csv\", \"w\", newline=\"\") as file_csv_url_02:\n",
    "    csv_writer_url_02 = csv.writer(file_csv_url_02)\n",
    "    csv_writer_url_02.writerows(rows_url_02)"
   ]
  },
  {
   "cell_type": "code",
   "execution_count": 35,
   "id": "a1a1044f-5f98-41b2-9faf-bcc2e9b902c8",
   "metadata": {
    "execution": {
     "iopub.execute_input": "2023-06-08T13:27:50.503755Z",
     "iopub.status.busy": "2023-06-08T13:27:50.503545Z",
     "iopub.status.idle": "2023-06-08T13:27:50.639242Z",
     "shell.execute_reply": "2023-06-08T13:27:50.638159Z",
     "shell.execute_reply.started": "2023-06-08T13:27:50.503740Z"
    },
    "tags": []
   },
   "outputs": [],
   "source": [
    "data_02 = spark.read.csv(\"who/data_02.csv\", header=True)"
   ]
  },
  {
   "cell_type": "code",
   "execution_count": 36,
   "id": "cd8f01be-67b2-4764-a99b-bf863ad5e7e7",
   "metadata": {
    "execution": {
     "iopub.execute_input": "2023-06-08T13:27:50.641147Z",
     "iopub.status.busy": "2023-06-08T13:27:50.640638Z",
     "iopub.status.idle": "2023-06-08T13:27:50.835050Z",
     "shell.execute_reply": "2023-06-08T13:27:50.834400Z",
     "shell.execute_reply.started": "2023-06-08T13:27:50.641109Z"
    },
    "tags": []
   },
   "outputs": [
    {
     "name": "stderr",
     "output_type": "stream",
     "text": [
      "23/06/08 10:27:50 WARN CSVHeaderChecker: CSV header does not conform to the schema.\n",
      " Header: Countries, territories and areas, Year, Data Source,  20-49 years,  15-19 years,  20-49 years,  15-19 years,  20-49 years,  15-19 years,  20-49 years,  15-19 years\n",
      " Schema: Countries, territories and areas, Year, Data Source,  20-49 years3,  15-19 years4,  20-49 years5,  15-19 years6,  20-49 years7,  15-19 years8,  20-49 years9,  15-19 years10\n",
      "Expected:  20-49 years3 but found:  20-49 years\n",
      "CSV file: file:///_disk_dev/final_project/who/data_02.csv\n"
     ]
    },
    {
     "data": {
      "text/html": [
       "<div>\n",
       "<style scoped>\n",
       "    .dataframe tbody tr th:only-of-type {\n",
       "        vertical-align: middle;\n",
       "    }\n",
       "\n",
       "    .dataframe tbody tr th {\n",
       "        vertical-align: top;\n",
       "    }\n",
       "\n",
       "    .dataframe thead th {\n",
       "        text-align: right;\n",
       "    }\n",
       "</style>\n",
       "<table border=\"1\" class=\"dataframe\">\n",
       "  <thead>\n",
       "    <tr style=\"text-align: right;\">\n",
       "      <th></th>\n",
       "      <th>Countries, territories and areas</th>\n",
       "      <th>Year</th>\n",
       "      <th>Data Source</th>\n",
       "      <th>20-49 years3</th>\n",
       "      <th>15-19 years4</th>\n",
       "      <th>20-49 years5</th>\n",
       "      <th>15-19 years6</th>\n",
       "      <th>20-49 years7</th>\n",
       "      <th>15-19 years8</th>\n",
       "      <th>20-49 years9</th>\n",
       "      <th>15-19 years10</th>\n",
       "    </tr>\n",
       "  </thead>\n",
       "  <tbody>\n",
       "    <tr>\n",
       "      <th>0</th>\n",
       "      <td>Afghanistan</td>\n",
       "      <td>2015</td>\n",
       "      <td>DHS</td>\n",
       "      <td>20.7 [19.3-22.1]</td>\n",
       "      <td>6.0 [4.4-8.1]</td>\n",
       "      <td>23.5 [21.9-25.1]</td>\n",
       "      <td>7.8 [5.7-10.5]</td>\n",
       "      <td>43.0 [40.9-45.1]</td>\n",
       "      <td>20.8 [15.6-27.2]</td>\n",
       "      <td>48.7 [46.4-51.0]</td>\n",
       "      <td>27.1 [20.5-34.8]</td>\n",
       "    </tr>\n",
       "    <tr>\n",
       "      <th>1</th>\n",
       "      <td>Afghanistan</td>\n",
       "      <td>2010</td>\n",
       "      <td>MICS</td>\n",
       "      <td>21.3 [19.9-22.8]</td>\n",
       "      <td>6.6 [5.1-8.5]</td>\n",
       "      <td>22.4 [20.9-23.9]</td>\n",
       "      <td>7.1 [5.6-9.0]</td>\n",
       "      <td>No data</td>\n",
       "      <td>No data</td>\n",
       "      <td>No data</td>\n",
       "      <td>No data</td>\n",
       "    </tr>\n",
       "    <tr>\n",
       "      <th>2</th>\n",
       "      <td>Albania</td>\n",
       "      <td>2017</td>\n",
       "      <td>DHS</td>\n",
       "      <td>3.7 [3.1-4.3]</td>\n",
       "      <td>3.3 [1.1-9.5]</td>\n",
       "      <td>46.2 [43.0-49.5]</td>\n",
       "      <td>32.7 [23.1-44.1]</td>\n",
       "      <td>6.0 [5.1-7.1]</td>\n",
       "      <td>5.5 [1.8-15.3]</td>\n",
       "      <td>75.5 [72.5-78.3]</td>\n",
       "      <td>54.4 [40.0-68.1]</td>\n",
       "    </tr>\n",
       "  </tbody>\n",
       "</table>\n",
       "</div>"
      ],
      "text/plain": [
       "  Countries, territories and areas   Year Data Source      20-49 years3   15-19 years4      20-49 years5      15-19 years6      20-49 years7      15-19 years8      20-49 years9     15-19 years10\n",
       "0                      Afghanistan   2015         DHS  20.7 [19.3-22.1]  6.0 [4.4-8.1]  23.5 [21.9-25.1]    7.8 [5.7-10.5]  43.0 [40.9-45.1]  20.8 [15.6-27.2]  48.7 [46.4-51.0]  27.1 [20.5-34.8]\n",
       "1                      Afghanistan   2010        MICS  21.3 [19.9-22.8]  6.6 [5.1-8.5]  22.4 [20.9-23.9]     7.1 [5.6-9.0]           No data           No data           No data           No data\n",
       "2                          Albania   2017         DHS     3.7 [3.1-4.3]  3.3 [1.1-9.5]  46.2 [43.0-49.5]  32.7 [23.1-44.1]     6.0 [5.1-7.1]    5.5 [1.8-15.3]  75.5 [72.5-78.3]  54.4 [40.0-68.1]"
      ]
     },
     "execution_count": 36,
     "metadata": {},
     "output_type": "execute_result"
    }
   ],
   "source": [
    "data_02.limit(3).pandas_api()"
   ]
  },
  {
   "cell_type": "code",
   "execution_count": 37,
   "id": "8f0465ba-3d52-4658-9012-c0235d93a9af",
   "metadata": {
    "execution": {
     "iopub.execute_input": "2023-06-08T13:27:50.836267Z",
     "iopub.status.busy": "2023-06-08T13:27:50.835996Z",
     "iopub.status.idle": "2023-06-08T13:27:50.840909Z",
     "shell.execute_reply": "2023-06-08T13:27:50.840373Z",
     "shell.execute_reply.started": "2023-06-08T13:27:50.836243Z"
    },
    "tags": []
   },
   "outputs": [
    {
     "data": {
      "text/plain": [
       "11"
      ]
     },
     "execution_count": 37,
     "metadata": {},
     "output_type": "execute_result"
    }
   ],
   "source": [
    "len(data_02.columns)"
   ]
  },
  {
   "cell_type": "code",
   "execution_count": 38,
   "id": "e6cbc341-7512-4396-9b62-7a95ab4cef8b",
   "metadata": {
    "execution": {
     "iopub.execute_input": "2023-06-08T13:27:50.842035Z",
     "iopub.status.busy": "2023-06-08T13:27:50.841783Z",
     "iopub.status.idle": "2023-06-08T13:27:50.849880Z",
     "shell.execute_reply": "2023-06-08T13:27:50.849306Z",
     "shell.execute_reply.started": "2023-06-08T13:27:50.842011Z"
    },
    "tags": []
   },
   "outputs": [
    {
     "name": "stdout",
     "output_type": "stream",
     "text": [
      "['Countries, territories and areas', 'Year', 'Data Source', ' 20-49 years3', ' 15-19 years4', ' 20-49 years5', ' 15-19 years6', ' 20-49 years7', ' 15-19 years8', ' 20-49 years9', ' 15-19 years10']\n"
     ]
    }
   ],
   "source": [
    "print(data_02.columns)"
   ]
  },
  {
   "cell_type": "code",
   "execution_count": 39,
   "id": "7e764989-a1f3-4c78-9657-cb0738aa0353",
   "metadata": {
    "execution": {
     "iopub.execute_input": "2023-06-08T13:27:50.851228Z",
     "iopub.status.busy": "2023-06-08T13:27:50.850732Z",
     "iopub.status.idle": "2023-06-08T13:27:50.855511Z",
     "shell.execute_reply": "2023-06-08T13:27:50.854711Z",
     "shell.execute_reply.started": "2023-06-08T13:27:50.851203Z"
    },
    "tags": []
   },
   "outputs": [],
   "source": [
    "new_columns = ['Countries, territories and areas', 'Year', 'Data Source', 'Contraceptive prevalence - use of modern methods (%)20-49 years3', ' Contraceptive prevalence - use of modern methods (%)15-19 years4', ' Contraceptive prevalence - use of modern and traditional methods (%) 20-49 years9', ' Contraceptive prevalence - use of modern and traditional methods (%)15-19 years',' Demand of family planing satisfied - ose of modern methods (%)20-49 years5', ' Demand of family planing satisfied - use of modern methods (%)15-19 years6', 'Demand of family planing satisfied - use of modern methods and traditional(%)20-49 years7', ' Demand of family planing satisfied - use of modern methods and traditional(%)15-19 years8']"
   ]
  },
  {
   "cell_type": "code",
   "execution_count": 40,
   "id": "9dad9168-9f41-43d9-a342-51fedf6a3c88",
   "metadata": {
    "execution": {
     "iopub.execute_input": "2023-06-08T13:27:50.856814Z",
     "iopub.status.busy": "2023-06-08T13:27:50.856386Z",
     "iopub.status.idle": "2023-06-08T13:27:50.866840Z",
     "shell.execute_reply": "2023-06-08T13:27:50.866190Z",
     "shell.execute_reply.started": "2023-06-08T13:27:50.856790Z"
    },
    "tags": []
   },
   "outputs": [],
   "source": [
    "data_02 = data_02.toDF(*new_columns)"
   ]
  },
  {
   "cell_type": "code",
   "execution_count": 41,
   "id": "9f3b93f6-3ca9-4d06-8c6b-08d92e76b377",
   "metadata": {
    "execution": {
     "iopub.execute_input": "2023-06-08T13:27:50.868494Z",
     "iopub.status.busy": "2023-06-08T13:27:50.867701Z",
     "iopub.status.idle": "2023-06-08T13:27:51.103170Z",
     "shell.execute_reply": "2023-06-08T13:27:51.102560Z",
     "shell.execute_reply.started": "2023-06-08T13:27:50.868465Z"
    },
    "tags": []
   },
   "outputs": [
    {
     "name": "stderr",
     "output_type": "stream",
     "text": [
      "23/06/08 10:27:51 WARN CSVHeaderChecker: CSV header does not conform to the schema.\n",
      " Header: Countries, territories and areas, Year, Data Source,  20-49 years,  15-19 years,  20-49 years,  15-19 years,  20-49 years,  15-19 years,  20-49 years,  15-19 years\n",
      " Schema: Countries, territories and areas, Year, Data Source,  20-49 years3,  15-19 years4,  20-49 years5,  15-19 years6,  20-49 years7,  15-19 years8,  20-49 years9,  15-19 years10\n",
      "Expected:  20-49 years3 but found:  20-49 years\n",
      "CSV file: file:///_disk_dev/final_project/who/data_02.csv\n"
     ]
    },
    {
     "data": {
      "text/html": [
       "<div>\n",
       "<style scoped>\n",
       "    .dataframe tbody tr th:only-of-type {\n",
       "        vertical-align: middle;\n",
       "    }\n",
       "\n",
       "    .dataframe tbody tr th {\n",
       "        vertical-align: top;\n",
       "    }\n",
       "\n",
       "    .dataframe thead th {\n",
       "        text-align: right;\n",
       "    }\n",
       "</style>\n",
       "<table border=\"1\" class=\"dataframe\">\n",
       "  <thead>\n",
       "    <tr style=\"text-align: right;\">\n",
       "      <th></th>\n",
       "      <th>Countries, territories and areas</th>\n",
       "      <th>Year</th>\n",
       "      <th>Data Source</th>\n",
       "      <th>Contraceptive prevalence - use of modern methods (%)20-49 years3</th>\n",
       "      <th>Contraceptive prevalence - use of modern methods (%)15-19 years4</th>\n",
       "      <th>Contraceptive prevalence - use of modern and traditional methods (%) 20-49 years9</th>\n",
       "      <th>Contraceptive prevalence - use of modern and traditional methods (%)15-19 years</th>\n",
       "      <th>Demand of family planing satisfied - ose of modern methods (%)20-49 years5</th>\n",
       "      <th>Demand of family planing satisfied - use of modern methods (%)15-19 years6</th>\n",
       "      <th>Demand of family planing satisfied - use of modern methods and traditional(%)20-49 years7</th>\n",
       "      <th>Demand of family planing satisfied - use of modern methods and traditional(%)15-19 years8</th>\n",
       "    </tr>\n",
       "  </thead>\n",
       "  <tbody>\n",
       "    <tr>\n",
       "      <th>0</th>\n",
       "      <td>Argentina</td>\n",
       "      <td>2011</td>\n",
       "      <td>MICS</td>\n",
       "      <td>57.8 [56.2-59.4]</td>\n",
       "      <td>32.9 [29.7-36.1]</td>\n",
       "      <td>60.0 [58.3-61.6]</td>\n",
       "      <td>33.7 [30.6-36.9]</td>\n",
       "      <td>No data</td>\n",
       "      <td>No data</td>\n",
       "      <td>No data</td>\n",
       "      <td>No data</td>\n",
       "    </tr>\n",
       "    <tr>\n",
       "      <th>1</th>\n",
       "      <td>Bangladesh</td>\n",
       "      <td>2019</td>\n",
       "      <td>MICS</td>\n",
       "      <td>60.0 [59.5-60.6]</td>\n",
       "      <td>48.0 [46.2-49.8]</td>\n",
       "      <td>63.8 [63.2-64.3]</td>\n",
       "      <td>49.7 [47.9-51.5]</td>\n",
       "      <td>78.2 [77.7-78.7]</td>\n",
       "      <td>71.9 [69.9-73.8]</td>\n",
       "      <td>82.8 [82.3-83.3]</td>\n",
       "      <td>74.1 [72.2-76.0]</td>\n",
       "    </tr>\n",
       "    <tr>\n",
       "      <th>2</th>\n",
       "      <td>Burkina Faso</td>\n",
       "      <td>2003</td>\n",
       "      <td>DHS</td>\n",
       "      <td>9.2 [8.3-10.2]</td>\n",
       "      <td>4.4 [3.1-6.3]</td>\n",
       "      <td>14.5 [13.3-15.7]</td>\n",
       "      <td>6.8 [5.0-9.1]</td>\n",
       "      <td>20.8 [19.0-22.7]</td>\n",
       "      <td>16.4 [11.4-22.9]</td>\n",
       "      <td>32.8 [30.5-35.1]</td>\n",
       "      <td>25.1 [18.7-32.8]</td>\n",
       "    </tr>\n",
       "    <tr>\n",
       "      <th>3</th>\n",
       "      <td>Cuba</td>\n",
       "      <td>2010</td>\n",
       "      <td>MICS</td>\n",
       "      <td>73.4 [70.8-75.8]</td>\n",
       "      <td>67.0 [52.0-79.1]</td>\n",
       "      <td>74.6 [72.1-76.9]</td>\n",
       "      <td>67.0 [52.0-79.1]</td>\n",
       "      <td>89.8 [87.7-91.6]</td>\n",
       "      <td>85.6 [64.9-95.1]</td>\n",
       "      <td>90.8 [88.8-92.6]</td>\n",
       "      <td>85.6 [64.9-95.1]</td>\n",
       "    </tr>\n",
       "    <tr>\n",
       "      <th>4</th>\n",
       "      <td>Guyana</td>\n",
       "      <td>2006</td>\n",
       "      <td>MICS</td>\n",
       "      <td>33.7 [31.4-36.0]</td>\n",
       "      <td>19.7 [13.2-28.4]</td>\n",
       "      <td>34.9 [32.6-37.2]</td>\n",
       "      <td>19.7 [13.2-28.4]</td>\n",
       "      <td>50.5 [47.3-53.6]</td>\n",
       "      <td>36.9 [25.4-50.0]</td>\n",
       "      <td>51.9 [48.8-55.0]</td>\n",
       "      <td>36.9 [25.4-50.0]</td>\n",
       "    </tr>\n",
       "    <tr>\n",
       "      <th>5</th>\n",
       "      <td>Malawi</td>\n",
       "      <td>2006</td>\n",
       "      <td>MICS</td>\n",
       "      <td>40.2 [38.9-41.5]</td>\n",
       "      <td>22.8 [20.3-25.6]</td>\n",
       "      <td>42.7 [41.4-44.0]</td>\n",
       "      <td>24.0 [21.5-26.8]</td>\n",
       "      <td>No data</td>\n",
       "      <td>No data</td>\n",
       "      <td>No data</td>\n",
       "      <td>No data</td>\n",
       "    </tr>\n",
       "    <tr>\n",
       "      <th>6</th>\n",
       "      <td>Mali</td>\n",
       "      <td>2015</td>\n",
       "      <td>MICS</td>\n",
       "      <td>16.0 [14.8-17.3]</td>\n",
       "      <td>7.6 [6.1-9.6]</td>\n",
       "      <td>16.4 [15.2-17.7]</td>\n",
       "      <td>8.1 [6.4-10.0]</td>\n",
       "      <td>34.7 [32.5-37.1]</td>\n",
       "      <td>22.8 [18.5-27.7]</td>\n",
       "      <td>35.5 [33.3-37.9]</td>\n",
       "      <td>24.0 [19.6-28.9]</td>\n",
       "    </tr>\n",
       "    <tr>\n",
       "      <th>7</th>\n",
       "      <td>Mexico</td>\n",
       "      <td>2015</td>\n",
       "      <td>MICS</td>\n",
       "      <td>65.6 [62.9-68.2]</td>\n",
       "      <td>50.3 [42.9-57.6]</td>\n",
       "      <td>67.5 [65.2-69.8]</td>\n",
       "      <td>50.9 [43.6-58.3]</td>\n",
       "      <td>82.6 [80.8-84.4]</td>\n",
       "      <td>63.1 [54.6-70.9]</td>\n",
       "      <td>84.0 [82.2-85.6]</td>\n",
       "      <td>63.9 [55.4-71.6]</td>\n",
       "    </tr>\n",
       "    <tr>\n",
       "      <th>8</th>\n",
       "      <td>Nicaragua</td>\n",
       "      <td>1997</td>\n",
       "      <td>DHS</td>\n",
       "      <td>59.6 [58.3-60.9]</td>\n",
       "      <td>38.2 [33.6-42.9]</td>\n",
       "      <td>62.8 [61.5-64.0]</td>\n",
       "      <td>39.8 [35.3-44.5]</td>\n",
       "      <td>77.1 [75.7-78.4]</td>\n",
       "      <td>55.9 [50.6-61.1]</td>\n",
       "      <td>82.9 [81.6-84.1]</td>\n",
       "      <td>59.9 [54.7-64.9]</td>\n",
       "    </tr>\n",
       "    <tr>\n",
       "      <th>9</th>\n",
       "      <td>Peru</td>\n",
       "      <td>2010</td>\n",
       "      <td>DHS</td>\n",
       "      <td>50.7 [49.4-52.0]</td>\n",
       "      <td>44.6 [39.0-50.3]</td>\n",
       "      <td>74.8 [73.7-75.8]</td>\n",
       "      <td>63.6 [58.3-68.6]</td>\n",
       "      <td>60.2 [58.8-61.6]</td>\n",
       "      <td>51.6 [45.6-57.6]</td>\n",
       "      <td>92.1 [91.4-92.7]</td>\n",
       "      <td>84.4 [80.1-87.9]</td>\n",
       "    </tr>\n",
       "  </tbody>\n",
       "</table>\n",
       "</div>"
      ],
      "text/plain": [
       "  Countries, territories and areas   Year Data Source Contraceptive prevalence - use of modern methods (%)20-49 years3  Contraceptive prevalence - use of modern methods (%)15-19 years4  Contraceptive prevalence - use of modern and traditional methods (%) 20-49 years9  Contraceptive prevalence - use of modern and traditional methods (%)15-19 years  Demand of family planing satisfied - ose of modern methods (%)20-49 years5  Demand of family planing satisfied - use of modern methods (%)15-19 years6 Demand of family planing satisfied - use of modern methods and traditional(%)20-49 years7  Demand of family planing satisfied - use of modern methods and traditional(%)15-19 years8\n",
       "0                        Argentina   2011        MICS                                                 57.8 [56.2-59.4]                                                  32.9 [29.7-36.1]                                                                   60.0 [58.3-61.6]                                                                 33.7 [30.6-36.9]                                                                     No data                                                                     No data                                                                                   No data                                                                                    No data\n",
       "1                       Bangladesh   2019        MICS                                                 60.0 [59.5-60.6]                                                  48.0 [46.2-49.8]                                                                   63.8 [63.2-64.3]                                                                 49.7 [47.9-51.5]                                                            78.2 [77.7-78.7]                                                            71.9 [69.9-73.8]                                                                          82.8 [82.3-83.3]                                                                           74.1 [72.2-76.0]\n",
       "2                     Burkina Faso   2003         DHS                                                   9.2 [8.3-10.2]                                                     4.4 [3.1-6.3]                                                                   14.5 [13.3-15.7]                                                                    6.8 [5.0-9.1]                                                            20.8 [19.0-22.7]                                                            16.4 [11.4-22.9]                                                                          32.8 [30.5-35.1]                                                                           25.1 [18.7-32.8]\n",
       "3                             Cuba   2010        MICS                                                 73.4 [70.8-75.8]                                                  67.0 [52.0-79.1]                                                                   74.6 [72.1-76.9]                                                                 67.0 [52.0-79.1]                                                            89.8 [87.7-91.6]                                                            85.6 [64.9-95.1]                                                                          90.8 [88.8-92.6]                                                                           85.6 [64.9-95.1]\n",
       "4                           Guyana   2006        MICS                                                 33.7 [31.4-36.0]                                                  19.7 [13.2-28.4]                                                                   34.9 [32.6-37.2]                                                                 19.7 [13.2-28.4]                                                            50.5 [47.3-53.6]                                                            36.9 [25.4-50.0]                                                                          51.9 [48.8-55.0]                                                                           36.9 [25.4-50.0]\n",
       "5                           Malawi   2006        MICS                                                 40.2 [38.9-41.5]                                                  22.8 [20.3-25.6]                                                                   42.7 [41.4-44.0]                                                                 24.0 [21.5-26.8]                                                                     No data                                                                     No data                                                                                   No data                                                                                    No data\n",
       "6                             Mali   2015        MICS                                                 16.0 [14.8-17.3]                                                     7.6 [6.1-9.6]                                                                   16.4 [15.2-17.7]                                                                   8.1 [6.4-10.0]                                                            34.7 [32.5-37.1]                                                            22.8 [18.5-27.7]                                                                          35.5 [33.3-37.9]                                                                           24.0 [19.6-28.9]\n",
       "7                           Mexico   2015        MICS                                                 65.6 [62.9-68.2]                                                  50.3 [42.9-57.6]                                                                   67.5 [65.2-69.8]                                                                 50.9 [43.6-58.3]                                                            82.6 [80.8-84.4]                                                            63.1 [54.6-70.9]                                                                          84.0 [82.2-85.6]                                                                           63.9 [55.4-71.6]\n",
       "8                        Nicaragua   1997         DHS                                                 59.6 [58.3-60.9]                                                  38.2 [33.6-42.9]                                                                   62.8 [61.5-64.0]                                                                 39.8 [35.3-44.5]                                                            77.1 [75.7-78.4]                                                            55.9 [50.6-61.1]                                                                          82.9 [81.6-84.1]                                                                           59.9 [54.7-64.9]\n",
       "9                             Peru   2010         DHS                                                 50.7 [49.4-52.0]                                                  44.6 [39.0-50.3]                                                                   74.8 [73.7-75.8]                                                                 63.6 [58.3-68.6]                                                            60.2 [58.8-61.6]                                                            51.6 [45.6-57.6]                                                                          92.1 [91.4-92.7]                                                                           84.4 [80.1-87.9]"
      ]
     },
     "execution_count": 41,
     "metadata": {},
     "output_type": "execute_result"
    }
   ],
   "source": [
    "data_02.sample(False, 10/data_02.count(), seed=150).limit(10).pandas_api()"
   ]
  },
  {
   "cell_type": "code",
   "execution_count": 42,
   "id": "fccae089-ed1c-4084-9802-70e8ac5ee61e",
   "metadata": {
    "execution": {
     "iopub.execute_input": "2023-06-08T13:27:51.104175Z",
     "iopub.status.busy": "2023-06-08T13:27:51.103937Z",
     "iopub.status.idle": "2023-06-08T13:27:51.158425Z",
     "shell.execute_reply": "2023-06-08T13:27:51.157778Z",
     "shell.execute_reply.started": "2023-06-08T13:27:51.104159Z"
    },
    "tags": []
   },
   "outputs": [],
   "source": [
    "data_02 = data_02.filter(col(\"Countries, territories and areas\").isin(americans_countries) | col(\"Countries, territories and areas\").isin(oceanic_countries))"
   ]
  },
  {
   "cell_type": "code",
   "execution_count": 43,
   "id": "aa5a0e5b-633a-41b2-83d0-f2c4da2718c1",
   "metadata": {
    "execution": {
     "iopub.execute_input": "2023-06-08T13:27:51.159419Z",
     "iopub.status.busy": "2023-06-08T13:27:51.159230Z",
     "iopub.status.idle": "2023-06-08T13:27:51.282821Z",
     "shell.execute_reply": "2023-06-08T13:27:51.282095Z",
     "shell.execute_reply.started": "2023-06-08T13:27:51.159402Z"
    },
    "tags": []
   },
   "outputs": [
    {
     "name": "stderr",
     "output_type": "stream",
     "text": [
      "23/06/08 10:27:51 WARN CSVHeaderChecker: CSV header does not conform to the schema.\n",
      " Header: Countries, territories and areas, Year, Data Source,  20-49 years,  15-19 years,  20-49 years,  15-19 years,  20-49 years,  15-19 years,  20-49 years,  15-19 years\n",
      " Schema: Countries, territories and areas, Year, Data Source,  20-49 years3,  15-19 years4,  20-49 years5,  15-19 years6,  20-49 years7,  15-19 years8,  20-49 years9,  15-19 years10\n",
      "Expected:  20-49 years3 but found:  20-49 years\n",
      "CSV file: file:///_disk_dev/final_project/who/data_02.csv\n"
     ]
    }
   ],
   "source": [
    "data_02.coalesce(1).write.option(\"header\", \"true\").mode(\"overwrite\").csv(\"oms_02\")"
   ]
  },
  {
   "cell_type": "code",
   "execution_count": 44,
   "id": "23e40d8d-6475-48a1-a75f-cb63e31c815b",
   "metadata": {
    "execution": {
     "iopub.execute_input": "2023-06-08T13:27:51.283740Z",
     "iopub.status.busy": "2023-06-08T13:27:51.283554Z",
     "iopub.status.idle": "2023-06-08T13:27:51.286910Z",
     "shell.execute_reply": "2023-06-08T13:27:51.286239Z",
     "shell.execute_reply.started": "2023-06-08T13:27:51.283723Z"
    },
    "tags": []
   },
   "outputs": [],
   "source": [
    "url_03 = \"https://apps.who.int/gho/athena/data/GHO/WHOSIS_000002,WHOSIS_000007?filter=COUNTRY:*&ead=&x-sideaxis=COUNTRY&x-topaxis=GHO;SEX;YEAR&profile=crosstable&format=csv\""
   ]
  },
  {
   "cell_type": "code",
   "execution_count": 45,
   "id": "9a8b4983-941f-4bb8-b74c-be62d030dd40",
   "metadata": {
    "execution": {
     "iopub.execute_input": "2023-06-08T13:27:51.288047Z",
     "iopub.status.busy": "2023-06-08T13:27:51.287819Z",
     "iopub.status.idle": "2023-06-08T13:27:51.724847Z",
     "shell.execute_reply": "2023-06-08T13:27:51.723900Z",
     "shell.execute_reply.started": "2023-06-08T13:27:51.288031Z"
    },
    "tags": []
   },
   "outputs": [
    {
     "name": "stdout",
     "output_type": "stream",
     "text": [
      "Archivo descargado exitosamente.\n"
     ]
    }
   ],
   "source": [
    "response = requests.get(url_03)\n",
    "\n",
    "# Verificar si la solicitud fue exitosa (código de estado 200)\n",
    "if response.status_code == 200:\n",
    "    # Guardar el contenido de la respuesta en un archivo\n",
    "    with open(\"who/data_03.csv\", \"wb\") as file:\n",
    "        file.write(response.content)\n",
    "    print(\"Archivo descargado exitosamente.\")\n",
    "else:\n",
    "    print(\"No se pudo realizar la descarga.\")"
   ]
  },
  {
   "cell_type": "code",
   "execution_count": null,
   "id": "f6128bd5-6192-4c77-a26e-cf04a567cafd",
   "metadata": {},
   "outputs": [],
   "source": []
  },
  {
   "cell_type": "code",
   "execution_count": 46,
   "id": "ced031d5-88a4-4aca-9867-636e13766ca6",
   "metadata": {
    "execution": {
     "iopub.execute_input": "2023-06-08T13:27:51.725977Z",
     "iopub.status.busy": "2023-06-08T13:27:51.725758Z",
     "iopub.status.idle": "2023-06-08T13:27:51.729781Z",
     "shell.execute_reply": "2023-06-08T13:27:51.728708Z",
     "shell.execute_reply.started": "2023-06-08T13:27:51.725957Z"
    },
    "tags": []
   },
   "outputs": [],
   "source": [
    "# Ruta del archivo CSV\n",
    "\n",
    "csv_url_03 = \"who/data_03.csv\"\n",
    "\n",
    "# Crear una lista para almacenar las filas del archivo CSV\n",
    "rows_url_03 = []"
   ]
  },
  {
   "cell_type": "code",
   "execution_count": 47,
   "id": "e98b2868-e13a-4953-a9c7-7f2d5f791870",
   "metadata": {
    "execution": {
     "iopub.execute_input": "2023-06-08T13:27:51.731450Z",
     "iopub.status.busy": "2023-06-08T13:27:51.731152Z",
     "iopub.status.idle": "2023-06-08T13:27:51.740733Z",
     "shell.execute_reply": "2023-06-08T13:27:51.739931Z",
     "shell.execute_reply.started": "2023-06-08T13:27:51.731422Z"
    },
    "tags": []
   },
   "outputs": [],
   "source": [
    "# Leer el archivo CSV y almacenar las filas en la lista\n",
    "with open(csv_url_03, \"r\") as file_csv_url_03:\n",
    "    csv_reader_url_03 = csv.reader(file_csv_url_03)\n",
    "    rows_url_03 = list(csv_reader_url_03)"
   ]
  },
  {
   "cell_type": "code",
   "execution_count": 48,
   "id": "c80118bb-5a38-489b-95c1-953f77692aed",
   "metadata": {
    "execution": {
     "iopub.execute_input": "2023-06-08T13:27:51.742142Z",
     "iopub.status.busy": "2023-06-08T13:27:51.741841Z",
     "iopub.status.idle": "2023-06-08T13:27:51.747272Z",
     "shell.execute_reply": "2023-06-08T13:27:51.746565Z",
     "shell.execute_reply.started": "2023-06-08T13:27:51.742119Z"
    },
    "tags": []
   },
   "outputs": [],
   "source": [
    "# Eliminar las primeras 4 filas\n",
    "\n",
    "rows_url_03 = rows_url_03[2:]\n",
    "\n",
    "# Escribir las filas modificadas en un nuevo archivo CSV\n",
    "with open(\"who/data_03.csv\", \"w\", newline=\"\") as file_csv_url_03:\n",
    "    csv_writer_url_03 = csv.writer(file_csv_url_03)\n",
    "    csv_writer_url_03.writerows(rows_url_03)"
   ]
  },
  {
   "cell_type": "code",
   "execution_count": 49,
   "id": "5462acac-edbb-4115-ae28-76d29c562a01",
   "metadata": {
    "execution": {
     "iopub.execute_input": "2023-06-08T13:27:51.748575Z",
     "iopub.status.busy": "2023-06-08T13:27:51.748313Z",
     "iopub.status.idle": "2023-06-08T13:27:51.840554Z",
     "shell.execute_reply": "2023-06-08T13:27:51.839817Z",
     "shell.execute_reply.started": "2023-06-08T13:27:51.748551Z"
    },
    "tags": []
   },
   "outputs": [],
   "source": [
    "data_03 = spark.read.csv(\"who/data_03.csv\", header=True)"
   ]
  },
  {
   "cell_type": "code",
   "execution_count": 50,
   "id": "36e40fb9-1478-4579-a658-38597fcf6903",
   "metadata": {
    "execution": {
     "iopub.execute_input": "2023-06-08T13:27:51.841612Z",
     "iopub.status.busy": "2023-06-08T13:27:51.841418Z",
     "iopub.status.idle": "2023-06-08T13:27:52.061132Z",
     "shell.execute_reply": "2023-06-08T13:27:52.060553Z",
     "shell.execute_reply.started": "2023-06-08T13:27:51.841596Z"
    },
    "tags": []
   },
   "outputs": [
    {
     "name": "stderr",
     "output_type": "stream",
     "text": [
      "23/06/08 10:27:51 WARN CSVHeaderChecker: CSV header does not conform to the schema.\n",
      " Header: Countries, territories and areas,  2019,  2015,  2010,  2000,  2019,  2015,  2010,  2000,  2019,  2015,  2010,  2000,  2019,  2015,  2010,  2000,  2019,  2015,  2010,  2000,  2019,  2015,  2010,  2000\n",
      " Schema: Countries, territories and areas,  20191,  20152,  20103,  20004,  20195,  20156,  20107,  20008,  20199,  201510,  201011,  200012,  201913,  201514,  201015,  200016,  201917,  201518,  201019,  200020,  201921,  201522,  201023,  200024\n",
      "Expected:  20191 but found:  2019\n",
      "CSV file: file:///_disk_dev/final_project/who/data_03.csv\n"
     ]
    },
    {
     "data": {
      "text/html": [
       "<div>\n",
       "<style scoped>\n",
       "    .dataframe tbody tr th:only-of-type {\n",
       "        vertical-align: middle;\n",
       "    }\n",
       "\n",
       "    .dataframe tbody tr th {\n",
       "        vertical-align: top;\n",
       "    }\n",
       "\n",
       "    .dataframe thead th {\n",
       "        text-align: right;\n",
       "    }\n",
       "</style>\n",
       "<table border=\"1\" class=\"dataframe\">\n",
       "  <thead>\n",
       "    <tr style=\"text-align: right;\">\n",
       "      <th></th>\n",
       "      <th>Countries, territories and areas</th>\n",
       "      <th>20191</th>\n",
       "      <th>20152</th>\n",
       "      <th>20103</th>\n",
       "      <th>20004</th>\n",
       "      <th>20195</th>\n",
       "      <th>20156</th>\n",
       "      <th>20107</th>\n",
       "      <th>20008</th>\n",
       "      <th>20199</th>\n",
       "      <th>201510</th>\n",
       "      <th>201011</th>\n",
       "      <th>200012</th>\n",
       "      <th>201913</th>\n",
       "      <th>201514</th>\n",
       "      <th>201015</th>\n",
       "      <th>200016</th>\n",
       "      <th>201917</th>\n",
       "      <th>201518</th>\n",
       "      <th>201019</th>\n",
       "      <th>200020</th>\n",
       "      <th>201921</th>\n",
       "      <th>201522</th>\n",
       "      <th>201023</th>\n",
       "      <th>200024</th>\n",
       "    </tr>\n",
       "  </thead>\n",
       "  <tbody>\n",
       "    <tr>\n",
       "      <th>0</th>\n",
       "      <td>Afghanistan</td>\n",
       "      <td>53.9</td>\n",
       "      <td>52.6</td>\n",
       "      <td>51.1</td>\n",
       "      <td>46.8</td>\n",
       "      <td>54.7</td>\n",
       "      <td>52.8</td>\n",
       "      <td>51.5</td>\n",
       "      <td>46.9</td>\n",
       "      <td>53.2</td>\n",
       "      <td>52.4</td>\n",
       "      <td>50.7</td>\n",
       "      <td>46.6</td>\n",
       "      <td>10.8</td>\n",
       "      <td>11.2</td>\n",
       "      <td>10.9</td>\n",
       "      <td>10.2</td>\n",
       "      <td>11.2</td>\n",
       "      <td>11.5</td>\n",
       "      <td>11.1</td>\n",
       "      <td>10.2</td>\n",
       "      <td>10.6</td>\n",
       "      <td>10.9</td>\n",
       "      <td>10.7</td>\n",
       "      <td>10.1</td>\n",
       "    </tr>\n",
       "    <tr>\n",
       "      <th>1</th>\n",
       "      <td>Albania</td>\n",
       "      <td>69.1</td>\n",
       "      <td>69.0</td>\n",
       "      <td>67.6</td>\n",
       "      <td>65.2</td>\n",
       "      <td>68.0</td>\n",
       "      <td>68.0</td>\n",
       "      <td>66.3</td>\n",
       "      <td>63.1</td>\n",
       "      <td>70.3</td>\n",
       "      <td>70.1</td>\n",
       "      <td>68.9</td>\n",
       "      <td>67.7</td>\n",
       "      <td>16.6</td>\n",
       "      <td>16.7</td>\n",
       "      <td>16.7</td>\n",
       "      <td>15.0</td>\n",
       "      <td>15.9</td>\n",
       "      <td>15.9</td>\n",
       "      <td>15.7</td>\n",
       "      <td>13.5</td>\n",
       "      <td>17.3</td>\n",
       "      <td>17.5</td>\n",
       "      <td>17.7</td>\n",
       "      <td>16.7</td>\n",
       "    </tr>\n",
       "    <tr>\n",
       "      <th>2</th>\n",
       "      <td>Algeria</td>\n",
       "      <td>66.4</td>\n",
       "      <td>66.0</td>\n",
       "      <td>65.5</td>\n",
       "      <td>62.7</td>\n",
       "      <td>66.7</td>\n",
       "      <td>66.3</td>\n",
       "      <td>65.9</td>\n",
       "      <td>62.6</td>\n",
       "      <td>66.1</td>\n",
       "      <td>65.7</td>\n",
       "      <td>65.2</td>\n",
       "      <td>62.8</td>\n",
       "      <td>16.0</td>\n",
       "      <td>15.9</td>\n",
       "      <td>15.6</td>\n",
       "      <td>14.6</td>\n",
       "      <td>15.9</td>\n",
       "      <td>15.8</td>\n",
       "      <td>15.5</td>\n",
       "      <td>14.6</td>\n",
       "      <td>16.2</td>\n",
       "      <td>16.0</td>\n",
       "      <td>15.7</td>\n",
       "      <td>14.7</td>\n",
       "    </tr>\n",
       "  </tbody>\n",
       "</table>\n",
       "</div>"
      ],
      "text/plain": [
       "  Countries, territories and areas  20191  20152  20103  20004  20195  20156  20107  20008  20199  201510  201011  200012  201913  201514  201015  200016  201917  201518  201019  200020  201921  201522  201023  200024\n",
       "0                      Afghanistan   53.9   52.6   51.1   46.8   54.7   52.8   51.5   46.9   53.2    52.4    50.7    46.6    10.8    11.2    10.9    10.2    11.2    11.5    11.1    10.2    10.6    10.9    10.7    10.1\n",
       "1                          Albania   69.1   69.0   67.6   65.2   68.0   68.0   66.3   63.1   70.3    70.1    68.9    67.7    16.6    16.7    16.7    15.0    15.9    15.9    15.7    13.5    17.3    17.5    17.7    16.7\n",
       "2                          Algeria   66.4   66.0   65.5   62.7   66.7   66.3   65.9   62.6   66.1    65.7    65.2    62.8    16.0    15.9    15.6    14.6    15.9    15.8    15.5    14.6    16.2    16.0    15.7    14.7"
      ]
     },
     "execution_count": 50,
     "metadata": {},
     "output_type": "execute_result"
    }
   ],
   "source": [
    "data_03.limit(3).pandas_api()"
   ]
  },
  {
   "cell_type": "code",
   "execution_count": 51,
   "id": "1c673fd7-7a7a-42f2-a134-153a67a02d2e",
   "metadata": {
    "execution": {
     "iopub.execute_input": "2023-06-08T13:27:52.062234Z",
     "iopub.status.busy": "2023-06-08T13:27:52.061835Z",
     "iopub.status.idle": "2023-06-08T13:27:52.065673Z",
     "shell.execute_reply": "2023-06-08T13:27:52.065082Z",
     "shell.execute_reply.started": "2023-06-08T13:27:52.062213Z"
    },
    "tags": []
   },
   "outputs": [
    {
     "name": "stdout",
     "output_type": "stream",
     "text": [
      "['Countries, territories and areas', ' 20191', ' 20152', ' 20103', ' 20004', ' 20195', ' 20156', ' 20107', ' 20008', ' 20199', ' 201510', ' 201011', ' 200012', ' 201913', ' 201514', ' 201015', ' 200016', ' 201917', ' 201518', ' 201019', ' 200020', ' 201921', ' 201522', ' 201023', ' 200024']\n"
     ]
    }
   ],
   "source": [
    "print(data_03.columns)"
   ]
  },
  {
   "cell_type": "code",
   "execution_count": 52,
   "id": "a0b4664e-1fee-4351-b08b-77b1da658b63",
   "metadata": {
    "execution": {
     "iopub.execute_input": "2023-06-08T13:27:52.066362Z",
     "iopub.status.busy": "2023-06-08T13:27:52.066196Z",
     "iopub.status.idle": "2023-06-08T13:27:52.083122Z",
     "shell.execute_reply": "2023-06-08T13:27:52.082571Z",
     "shell.execute_reply.started": "2023-06-08T13:27:52.066347Z"
    },
    "tags": []
   },
   "outputs": [],
   "source": [
    "data_03_1 = data_03.selectExpr('`Countries, territories and areas`', \"stack(4, \\\n",
    "'2019', ` 20191`, '2015', ` 20152`, '2010', ` 20103`, '2000', ` 20004`) as (Year, HALE)\")"
   ]
  },
  {
   "cell_type": "code",
   "execution_count": 53,
   "id": "876f6a85-bc32-4676-bff1-1b0c4499118b",
   "metadata": {
    "execution": {
     "iopub.execute_input": "2023-06-08T13:27:52.083955Z",
     "iopub.status.busy": "2023-06-08T13:27:52.083701Z",
     "iopub.status.idle": "2023-06-08T13:27:52.292437Z",
     "shell.execute_reply": "2023-06-08T13:27:52.291816Z",
     "shell.execute_reply.started": "2023-06-08T13:27:52.083939Z"
    },
    "tags": []
   },
   "outputs": [
    {
     "name": "stderr",
     "output_type": "stream",
     "text": [
      "23/06/08 10:27:52 WARN CSVHeaderChecker: CSV header does not conform to the schema.\n",
      " Header:  2019,  2015,  2010,  2000\n",
      " Schema:  20191,  20152,  20103,  20004\n",
      "Expected:  20191 but found:  2019\n",
      "CSV file: file:///_disk_dev/final_project/who/data_03.csv\n",
      "23/06/08 10:27:52 WARN CSVHeaderChecker: CSV header does not conform to the schema.\n",
      " Header: Countries, territories and areas,  2019,  2015,  2010,  2000\n",
      " Schema: Countries, territories and areas,  20191,  20152,  20103,  20004\n",
      "Expected:  20191 but found:  2019\n",
      "CSV file: file:///_disk_dev/final_project/who/data_03.csv\n"
     ]
    },
    {
     "data": {
      "text/html": [
       "<div>\n",
       "<style scoped>\n",
       "    .dataframe tbody tr th:only-of-type {\n",
       "        vertical-align: middle;\n",
       "    }\n",
       "\n",
       "    .dataframe tbody tr th {\n",
       "        vertical-align: top;\n",
       "    }\n",
       "\n",
       "    .dataframe thead th {\n",
       "        text-align: right;\n",
       "    }\n",
       "</style>\n",
       "<table border=\"1\" class=\"dataframe\">\n",
       "  <thead>\n",
       "    <tr style=\"text-align: right;\">\n",
       "      <th></th>\n",
       "      <th>Countries, territories and areas</th>\n",
       "      <th>Year</th>\n",
       "      <th>HALE</th>\n",
       "    </tr>\n",
       "  </thead>\n",
       "  <tbody>\n",
       "    <tr>\n",
       "      <th>0</th>\n",
       "      <td>Antigua and Barbuda</td>\n",
       "      <td>2019</td>\n",
       "      <td>67.0</td>\n",
       "    </tr>\n",
       "    <tr>\n",
       "      <th>1</th>\n",
       "      <td>Bulgaria</td>\n",
       "      <td>2019</td>\n",
       "      <td>66.3</td>\n",
       "    </tr>\n",
       "    <tr>\n",
       "      <th>2</th>\n",
       "      <td>Cuba</td>\n",
       "      <td>2019</td>\n",
       "      <td>67.8</td>\n",
       "    </tr>\n",
       "    <tr>\n",
       "      <th>3</th>\n",
       "      <td>Fiji</td>\n",
       "      <td>2015</td>\n",
       "      <td>59.6</td>\n",
       "    </tr>\n",
       "    <tr>\n",
       "      <th>4</th>\n",
       "      <td>Finland</td>\n",
       "      <td>2000</td>\n",
       "      <td>67.8</td>\n",
       "    </tr>\n",
       "    <tr>\n",
       "      <th>5</th>\n",
       "      <td>Gambia</td>\n",
       "      <td>2019</td>\n",
       "      <td>57.0</td>\n",
       "    </tr>\n",
       "    <tr>\n",
       "      <th>6</th>\n",
       "      <td>Guinea</td>\n",
       "      <td>2019</td>\n",
       "      <td>53.3</td>\n",
       "    </tr>\n",
       "    <tr>\n",
       "      <th>7</th>\n",
       "      <td>Indonesia</td>\n",
       "      <td>2015</td>\n",
       "      <td>62.3</td>\n",
       "    </tr>\n",
       "    <tr>\n",
       "      <th>8</th>\n",
       "      <td>Italy</td>\n",
       "      <td>2010</td>\n",
       "      <td>71.1</td>\n",
       "    </tr>\n",
       "    <tr>\n",
       "      <th>9</th>\n",
       "      <td>Malta</td>\n",
       "      <td>2015</td>\n",
       "      <td>71.3</td>\n",
       "    </tr>\n",
       "  </tbody>\n",
       "</table>\n",
       "</div>"
      ],
      "text/plain": [
       "  Countries, territories and areas  Year  HALE\n",
       "0              Antigua and Barbuda  2019  67.0\n",
       "1                         Bulgaria  2019  66.3\n",
       "2                             Cuba  2019  67.8\n",
       "3                             Fiji  2015  59.6\n",
       "4                          Finland  2000  67.8\n",
       "5                           Gambia  2019  57.0\n",
       "6                           Guinea  2019  53.3\n",
       "7                        Indonesia  2015  62.3\n",
       "8                            Italy  2010  71.1\n",
       "9                            Malta  2015  71.3"
      ]
     },
     "execution_count": 53,
     "metadata": {},
     "output_type": "execute_result"
    }
   ],
   "source": [
    "data_03_1.sample(False, 10/data_03_1.count(), seed=150).limit(10).pandas_api()"
   ]
  },
  {
   "cell_type": "code",
   "execution_count": 54,
   "id": "8aedaea9-9dde-4494-b54b-b3368713f3d3",
   "metadata": {
    "execution": {
     "iopub.execute_input": "2023-06-08T13:27:52.293354Z",
     "iopub.status.busy": "2023-06-08T13:27:52.293173Z",
     "iopub.status.idle": "2023-06-08T13:27:52.310089Z",
     "shell.execute_reply": "2023-06-08T13:27:52.309351Z",
     "shell.execute_reply.started": "2023-06-08T13:27:52.293338Z"
    },
    "tags": []
   },
   "outputs": [],
   "source": [
    "data_03_1 = data_03_1.filter(col(\"Countries, territories and areas\").isin() | col(\"Countries, territories and areas\").isin(oceanic_countries))\n",
    "#data_00 = data_00.filter(col(\"Year\") >= \"1970\")"
   ]
  },
  {
   "cell_type": "code",
   "execution_count": 55,
   "id": "a0fb0dc6-4cbd-4df7-8287-0742b264bb1f",
   "metadata": {
    "execution": {
     "iopub.execute_input": "2023-06-08T13:27:52.311217Z",
     "iopub.status.busy": "2023-06-08T13:27:52.310986Z",
     "iopub.status.idle": "2023-06-08T13:27:52.534305Z",
     "shell.execute_reply": "2023-06-08T13:27:52.533819Z",
     "shell.execute_reply.started": "2023-06-08T13:27:52.311195Z"
    },
    "tags": []
   },
   "outputs": [
    {
     "name": "stderr",
     "output_type": "stream",
     "text": [
      "23/06/08 10:27:52 WARN CSVHeaderChecker: CSV header does not conform to the schema.\n",
      " Header: Countries, territories and areas,  2019,  2015,  2010,  2000\n",
      " Schema: Countries, territories and areas,  20191,  20152,  20103,  20004\n",
      "Expected:  20191 but found:  2019\n",
      "CSV file: file:///_disk_dev/final_project/who/data_03.csv\n",
      "23/06/08 10:27:52 WARN CSVHeaderChecker: CSV header does not conform to the schema.\n",
      " Header: Countries, territories and areas,  2019,  2015,  2010,  2000\n",
      " Schema: Countries, territories and areas,  20191,  20152,  20103,  20004\n",
      "Expected:  20191 but found:  2019\n",
      "CSV file: file:///_disk_dev/final_project/who/data_03.csv\n"
     ]
    },
    {
     "data": {
      "text/html": [
       "<div>\n",
       "<style scoped>\n",
       "    .dataframe tbody tr th:only-of-type {\n",
       "        vertical-align: middle;\n",
       "    }\n",
       "\n",
       "    .dataframe tbody tr th {\n",
       "        vertical-align: top;\n",
       "    }\n",
       "\n",
       "    .dataframe thead th {\n",
       "        text-align: right;\n",
       "    }\n",
       "</style>\n",
       "<table border=\"1\" class=\"dataframe\">\n",
       "  <thead>\n",
       "    <tr style=\"text-align: right;\">\n",
       "      <th></th>\n",
       "      <th>Countries, territories and areas</th>\n",
       "      <th>Year</th>\n",
       "      <th>HALE</th>\n",
       "    </tr>\n",
       "  </thead>\n",
       "  <tbody>\n",
       "    <tr>\n",
       "      <th>0</th>\n",
       "      <td>Australia</td>\n",
       "      <td>2019</td>\n",
       "      <td>70.9</td>\n",
       "    </tr>\n",
       "    <tr>\n",
       "      <th>1</th>\n",
       "      <td>Australia</td>\n",
       "      <td>2015</td>\n",
       "      <td>70.6</td>\n",
       "    </tr>\n",
       "    <tr>\n",
       "      <th>2</th>\n",
       "      <td>Australia</td>\n",
       "      <td>2010</td>\n",
       "      <td>70.2</td>\n",
       "    </tr>\n",
       "    <tr>\n",
       "      <th>3</th>\n",
       "      <td>Kiribati</td>\n",
       "      <td>2015</td>\n",
       "      <td>51.6</td>\n",
       "    </tr>\n",
       "    <tr>\n",
       "      <th>4</th>\n",
       "      <td>Kiribati</td>\n",
       "      <td>2010</td>\n",
       "      <td>51.5</td>\n",
       "    </tr>\n",
       "    <tr>\n",
       "      <th>5</th>\n",
       "      <td>Micronesia (Federated States of)</td>\n",
       "      <td>2019</td>\n",
       "      <td>56.0</td>\n",
       "    </tr>\n",
       "    <tr>\n",
       "      <th>6</th>\n",
       "      <td>Micronesia (Federated States of)</td>\n",
       "      <td>2010</td>\n",
       "      <td>55.8</td>\n",
       "    </tr>\n",
       "    <tr>\n",
       "      <th>7</th>\n",
       "      <td>New Zealand</td>\n",
       "      <td>2019</td>\n",
       "      <td>70.2</td>\n",
       "    </tr>\n",
       "    <tr>\n",
       "      <th>8</th>\n",
       "      <td>New Zealand</td>\n",
       "      <td>2015</td>\n",
       "      <td>69.9</td>\n",
       "    </tr>\n",
       "    <tr>\n",
       "      <th>9</th>\n",
       "      <td>New Zealand</td>\n",
       "      <td>2000</td>\n",
       "      <td>67.8</td>\n",
       "    </tr>\n",
       "  </tbody>\n",
       "</table>\n",
       "</div>"
      ],
      "text/plain": [
       "   Countries, territories and areas  Year  HALE\n",
       "0                         Australia  2019  70.9\n",
       "1                         Australia  2015  70.6\n",
       "2                         Australia  2010  70.2\n",
       "3                          Kiribati  2015  51.6\n",
       "4                          Kiribati  2010  51.5\n",
       "5  Micronesia (Federated States of)  2019  56.0\n",
       "6  Micronesia (Federated States of)  2010  55.8\n",
       "7                       New Zealand  2019  70.2\n",
       "8                       New Zealand  2015  69.9\n",
       "9                       New Zealand  2000  67.8"
      ]
     },
     "execution_count": 55,
     "metadata": {},
     "output_type": "execute_result"
    }
   ],
   "source": [
    "data_03_1.sample(False, 10/data_03_1.count(), seed=150).limit(10).pandas_api()"
   ]
  },
  {
   "cell_type": "code",
   "execution_count": 56,
   "id": "bc86d2f2-bb08-45f6-afd8-d2a0f068b983",
   "metadata": {
    "execution": {
     "iopub.execute_input": "2023-06-08T13:27:52.535077Z",
     "iopub.status.busy": "2023-06-08T13:27:52.534913Z",
     "iopub.status.idle": "2023-06-08T13:27:52.630755Z",
     "shell.execute_reply": "2023-06-08T13:27:52.630127Z",
     "shell.execute_reply.started": "2023-06-08T13:27:52.535062Z"
    },
    "tags": []
   },
   "outputs": [
    {
     "name": "stderr",
     "output_type": "stream",
     "text": [
      "23/06/08 10:27:52 WARN CSVHeaderChecker: CSV header does not conform to the schema.\n",
      " Header: Countries, territories and areas,  2019,  2015,  2010,  2000\n",
      " Schema: Countries, territories and areas,  20191,  20152,  20103,  20004\n",
      "Expected:  20191 but found:  2019\n",
      "CSV file: file:///_disk_dev/final_project/who/data_03.csv\n"
     ]
    }
   ],
   "source": [
    "data_03_1.coalesce(1).write.option(\"header\", \"true\").mode(\"overwrite\").csv(\"hale\")"
   ]
  },
  {
   "cell_type": "code",
   "execution_count": 57,
   "id": "dce3b687-d084-4afd-ad56-c270a2108eaa",
   "metadata": {
    "execution": {
     "iopub.execute_input": "2023-06-08T13:27:52.631898Z",
     "iopub.status.busy": "2023-06-08T13:27:52.631657Z",
     "iopub.status.idle": "2023-06-08T13:27:52.641875Z",
     "shell.execute_reply": "2023-06-08T13:27:52.641167Z",
     "shell.execute_reply.started": "2023-06-08T13:27:52.631875Z"
    },
    "tags": []
   },
   "outputs": [],
   "source": [
    "data_03_2 = data_03.selectExpr('`Countries, territories and areas`', \"stack(4, \\\n",
    "'2019', ` 20195`, '2015', ` 20156`, '2010', ` 20107`, '2000', ` 20008`) as (Year, HALE_male)\")"
   ]
  },
  {
   "cell_type": "code",
   "execution_count": 58,
   "id": "8c4653c8-6d0c-4ad5-b787-163c40c73450",
   "metadata": {
    "execution": {
     "iopub.execute_input": "2023-06-08T13:27:52.643063Z",
     "iopub.status.busy": "2023-06-08T13:27:52.642816Z",
     "iopub.status.idle": "2023-06-08T13:27:52.817591Z",
     "shell.execute_reply": "2023-06-08T13:27:52.816966Z",
     "shell.execute_reply.started": "2023-06-08T13:27:52.643041Z"
    },
    "tags": []
   },
   "outputs": [
    {
     "name": "stderr",
     "output_type": "stream",
     "text": [
      "23/06/08 10:27:52 WARN CSVHeaderChecker: CSV header does not conform to the schema.\n",
      " Header:  2019,  2015,  2010,  2000\n",
      " Schema:  20195,  20156,  20107,  20008\n",
      "Expected:  20195 but found:  2019\n",
      "CSV file: file:///_disk_dev/final_project/who/data_03.csv\n",
      "23/06/08 10:27:52 WARN CSVHeaderChecker: CSV header does not conform to the schema.\n",
      " Header: Countries, territories and areas,  2019,  2015,  2010,  2000\n",
      " Schema: Countries, territories and areas,  20195,  20156,  20107,  20008\n",
      "Expected:  20195 but found:  2019\n",
      "CSV file: file:///_disk_dev/final_project/who/data_03.csv\n"
     ]
    },
    {
     "data": {
      "text/html": [
       "<div>\n",
       "<style scoped>\n",
       "    .dataframe tbody tr th:only-of-type {\n",
       "        vertical-align: middle;\n",
       "    }\n",
       "\n",
       "    .dataframe tbody tr th {\n",
       "        vertical-align: top;\n",
       "    }\n",
       "\n",
       "    .dataframe thead th {\n",
       "        text-align: right;\n",
       "    }\n",
       "</style>\n",
       "<table border=\"1\" class=\"dataframe\">\n",
       "  <thead>\n",
       "    <tr style=\"text-align: right;\">\n",
       "      <th></th>\n",
       "      <th>Countries, territories and areas</th>\n",
       "      <th>Year</th>\n",
       "      <th>HALE_male</th>\n",
       "    </tr>\n",
       "  </thead>\n",
       "  <tbody>\n",
       "    <tr>\n",
       "      <th>0</th>\n",
       "      <td>Antigua and Barbuda</td>\n",
       "      <td>2019</td>\n",
       "      <td>66.2</td>\n",
       "    </tr>\n",
       "    <tr>\n",
       "      <th>1</th>\n",
       "      <td>Bulgaria</td>\n",
       "      <td>2019</td>\n",
       "      <td>63.9</td>\n",
       "    </tr>\n",
       "    <tr>\n",
       "      <th>2</th>\n",
       "      <td>Cuba</td>\n",
       "      <td>2019</td>\n",
       "      <td>66.6</td>\n",
       "    </tr>\n",
       "    <tr>\n",
       "      <th>3</th>\n",
       "      <td>Fiji</td>\n",
       "      <td>2015</td>\n",
       "      <td>58.6</td>\n",
       "    </tr>\n",
       "    <tr>\n",
       "      <th>4</th>\n",
       "      <td>Finland</td>\n",
       "      <td>2000</td>\n",
       "      <td>65.8</td>\n",
       "    </tr>\n",
       "    <tr>\n",
       "      <th>5</th>\n",
       "      <td>Gambia</td>\n",
       "      <td>2019</td>\n",
       "      <td>56.4</td>\n",
       "    </tr>\n",
       "    <tr>\n",
       "      <th>6</th>\n",
       "      <td>Guinea</td>\n",
       "      <td>2019</td>\n",
       "      <td>52.9</td>\n",
       "    </tr>\n",
       "    <tr>\n",
       "      <th>7</th>\n",
       "      <td>Indonesia</td>\n",
       "      <td>2015</td>\n",
       "      <td>61.5</td>\n",
       "    </tr>\n",
       "    <tr>\n",
       "      <th>8</th>\n",
       "      <td>Italy</td>\n",
       "      <td>2010</td>\n",
       "      <td>70.0</td>\n",
       "    </tr>\n",
       "    <tr>\n",
       "      <th>9</th>\n",
       "      <td>Malta</td>\n",
       "      <td>2015</td>\n",
       "      <td>70.7</td>\n",
       "    </tr>\n",
       "  </tbody>\n",
       "</table>\n",
       "</div>"
      ],
      "text/plain": [
       "  Countries, territories and areas  Year HALE_male\n",
       "0              Antigua and Barbuda  2019      66.2\n",
       "1                         Bulgaria  2019      63.9\n",
       "2                             Cuba  2019      66.6\n",
       "3                             Fiji  2015      58.6\n",
       "4                          Finland  2000      65.8\n",
       "5                           Gambia  2019      56.4\n",
       "6                           Guinea  2019      52.9\n",
       "7                        Indonesia  2015      61.5\n",
       "8                            Italy  2010      70.0\n",
       "9                            Malta  2015      70.7"
      ]
     },
     "execution_count": 58,
     "metadata": {},
     "output_type": "execute_result"
    }
   ],
   "source": [
    "data_03_2.sample(False, 10/data_03_2.count(), seed=150).limit(10).pandas_api()"
   ]
  },
  {
   "cell_type": "code",
   "execution_count": 59,
   "id": "3939ae37-28db-4d96-9dfc-c3b62bfa8432",
   "metadata": {
    "execution": {
     "iopub.execute_input": "2023-06-08T13:27:52.818429Z",
     "iopub.status.busy": "2023-06-08T13:27:52.818265Z",
     "iopub.status.idle": "2023-06-08T13:27:52.840019Z",
     "shell.execute_reply": "2023-06-08T13:27:52.839352Z",
     "shell.execute_reply.started": "2023-06-08T13:27:52.818413Z"
    },
    "tags": []
   },
   "outputs": [],
   "source": [
    "data_03_2 = data_03_2.filter(col(\"Countries, territories and areas\").isin() | col(\"Countries, territories and areas\").isin(oceanic_countries))"
   ]
  },
  {
   "cell_type": "code",
   "execution_count": 60,
   "id": "aa413b78-ee8e-4701-99c7-7614e3371fc5",
   "metadata": {
    "execution": {
     "iopub.execute_input": "2023-06-08T13:27:52.841373Z",
     "iopub.status.busy": "2023-06-08T13:27:52.841088Z",
     "iopub.status.idle": "2023-06-08T13:27:53.046424Z",
     "shell.execute_reply": "2023-06-08T13:27:53.045830Z",
     "shell.execute_reply.started": "2023-06-08T13:27:52.841349Z"
    },
    "tags": []
   },
   "outputs": [
    {
     "name": "stderr",
     "output_type": "stream",
     "text": [
      "23/06/08 10:27:52 WARN CSVHeaderChecker: CSV header does not conform to the schema.\n",
      " Header: Countries, territories and areas,  2019,  2015,  2010,  2000\n",
      " Schema: Countries, territories and areas,  20195,  20156,  20107,  20008\n",
      "Expected:  20195 but found:  2019\n",
      "CSV file: file:///_disk_dev/final_project/who/data_03.csv\n",
      "23/06/08 10:27:53 WARN CSVHeaderChecker: CSV header does not conform to the schema.\n",
      " Header: Countries, territories and areas,  2019,  2015,  2010,  2000\n",
      " Schema: Countries, territories and areas,  20195,  20156,  20107,  20008\n",
      "Expected:  20195 but found:  2019\n",
      "CSV file: file:///_disk_dev/final_project/who/data_03.csv\n"
     ]
    },
    {
     "data": {
      "text/html": [
       "<div>\n",
       "<style scoped>\n",
       "    .dataframe tbody tr th:only-of-type {\n",
       "        vertical-align: middle;\n",
       "    }\n",
       "\n",
       "    .dataframe tbody tr th {\n",
       "        vertical-align: top;\n",
       "    }\n",
       "\n",
       "    .dataframe thead th {\n",
       "        text-align: right;\n",
       "    }\n",
       "</style>\n",
       "<table border=\"1\" class=\"dataframe\">\n",
       "  <thead>\n",
       "    <tr style=\"text-align: right;\">\n",
       "      <th></th>\n",
       "      <th>Countries, territories and areas</th>\n",
       "      <th>Year</th>\n",
       "      <th>HALE_male</th>\n",
       "    </tr>\n",
       "  </thead>\n",
       "  <tbody>\n",
       "    <tr>\n",
       "      <th>0</th>\n",
       "      <td>Australia</td>\n",
       "      <td>2019</td>\n",
       "      <td>70.2</td>\n",
       "    </tr>\n",
       "    <tr>\n",
       "      <th>1</th>\n",
       "      <td>Australia</td>\n",
       "      <td>2015</td>\n",
       "      <td>69.7</td>\n",
       "    </tr>\n",
       "    <tr>\n",
       "      <th>2</th>\n",
       "      <td>Australia</td>\n",
       "      <td>2010</td>\n",
       "      <td>69.2</td>\n",
       "    </tr>\n",
       "    <tr>\n",
       "      <th>3</th>\n",
       "      <td>Kiribati</td>\n",
       "      <td>2015</td>\n",
       "      <td>49.6</td>\n",
       "    </tr>\n",
       "    <tr>\n",
       "      <th>4</th>\n",
       "      <td>Kiribati</td>\n",
       "      <td>2010</td>\n",
       "      <td>49.3</td>\n",
       "    </tr>\n",
       "    <tr>\n",
       "      <th>5</th>\n",
       "      <td>Micronesia (Federated States of)</td>\n",
       "      <td>2019</td>\n",
       "      <td>54.4</td>\n",
       "    </tr>\n",
       "    <tr>\n",
       "      <th>6</th>\n",
       "      <td>Micronesia (Federated States of)</td>\n",
       "      <td>2010</td>\n",
       "      <td>54.2</td>\n",
       "    </tr>\n",
       "    <tr>\n",
       "      <th>7</th>\n",
       "      <td>New Zealand</td>\n",
       "      <td>2019</td>\n",
       "      <td>69.6</td>\n",
       "    </tr>\n",
       "    <tr>\n",
       "      <th>8</th>\n",
       "      <td>New Zealand</td>\n",
       "      <td>2015</td>\n",
       "      <td>69.3</td>\n",
       "    </tr>\n",
       "    <tr>\n",
       "      <th>9</th>\n",
       "      <td>New Zealand</td>\n",
       "      <td>2000</td>\n",
       "      <td>66.4</td>\n",
       "    </tr>\n",
       "  </tbody>\n",
       "</table>\n",
       "</div>"
      ],
      "text/plain": [
       "   Countries, territories and areas  Year HALE_male\n",
       "0                         Australia  2019      70.2\n",
       "1                         Australia  2015      69.7\n",
       "2                         Australia  2010      69.2\n",
       "3                          Kiribati  2015      49.6\n",
       "4                          Kiribati  2010      49.3\n",
       "5  Micronesia (Federated States of)  2019      54.4\n",
       "6  Micronesia (Federated States of)  2010      54.2\n",
       "7                       New Zealand  2019      69.6\n",
       "8                       New Zealand  2015      69.3\n",
       "9                       New Zealand  2000      66.4"
      ]
     },
     "execution_count": 60,
     "metadata": {},
     "output_type": "execute_result"
    }
   ],
   "source": [
    "data_03_2.sample(False, 10/data_03_2.count(), seed=150).limit(10).pandas_api()"
   ]
  },
  {
   "cell_type": "code",
   "execution_count": 61,
   "id": "a46a6785-449c-414b-83dc-9ae4bab92573",
   "metadata": {
    "execution": {
     "iopub.execute_input": "2023-06-08T13:27:53.047691Z",
     "iopub.status.busy": "2023-06-08T13:27:53.047299Z",
     "iopub.status.idle": "2023-06-08T13:27:53.127664Z",
     "shell.execute_reply": "2023-06-08T13:27:53.127049Z",
     "shell.execute_reply.started": "2023-06-08T13:27:53.047667Z"
    },
    "tags": []
   },
   "outputs": [
    {
     "name": "stderr",
     "output_type": "stream",
     "text": [
      "23/06/08 10:27:53 WARN CSVHeaderChecker: CSV header does not conform to the schema.\n",
      " Header: Countries, territories and areas,  2019,  2015,  2010,  2000\n",
      " Schema: Countries, territories and areas,  20195,  20156,  20107,  20008\n",
      "Expected:  20195 but found:  2019\n",
      "CSV file: file:///_disk_dev/final_project/who/data_03.csv\n"
     ]
    }
   ],
   "source": [
    "data_03_2.coalesce(1).write.option(\"header\", \"true\").mode(\"overwrite\").csv(\"hale_male\")"
   ]
  },
  {
   "cell_type": "code",
   "execution_count": 62,
   "id": "be8098c9-321a-46bb-8424-a368be4bbe1b",
   "metadata": {
    "execution": {
     "iopub.execute_input": "2023-06-08T13:27:53.128785Z",
     "iopub.status.busy": "2023-06-08T13:27:53.128382Z",
     "iopub.status.idle": "2023-06-08T13:27:53.137670Z",
     "shell.execute_reply": "2023-06-08T13:27:53.137022Z",
     "shell.execute_reply.started": "2023-06-08T13:27:53.128754Z"
    },
    "tags": []
   },
   "outputs": [],
   "source": [
    "data_03_3 = data_03.selectExpr('`Countries, territories and areas`', \"stack(4, \\\n",
    "'2019', ` 20191`, '2015', ` 20152`, '2010', ` 20103`, '2000', ` 20004`) as (Year, HALE_female)\")"
   ]
  },
  {
   "cell_type": "code",
   "execution_count": 63,
   "id": "dc2dfdc9-b49f-4572-94fe-f4fe1366038e",
   "metadata": {
    "execution": {
     "iopub.execute_input": "2023-06-08T13:27:53.139030Z",
     "iopub.status.busy": "2023-06-08T13:27:53.138628Z",
     "iopub.status.idle": "2023-06-08T13:27:53.327638Z",
     "shell.execute_reply": "2023-06-08T13:27:53.326936Z",
     "shell.execute_reply.started": "2023-06-08T13:27:53.139012Z"
    },
    "tags": []
   },
   "outputs": [
    {
     "name": "stderr",
     "output_type": "stream",
     "text": [
      "23/06/08 10:27:53 WARN CSVHeaderChecker: CSV header does not conform to the schema.\n",
      " Header: Countries, territories and areas,  2019,  2015,  2010,  2000\n",
      " Schema: Countries, territories and areas,  20191,  20152,  20103,  20004\n",
      "Expected:  20191 but found:  2019\n",
      "CSV file: file:///_disk_dev/final_project/who/data_03.csv\n",
      "23/06/08 10:27:53 WARN CSVHeaderChecker: CSV header does not conform to the schema.\n",
      " Header: Countries, territories and areas,  2019,  2015,  2010,  2000\n",
      " Schema: Countries, territories and areas,  20191,  20152,  20103,  20004\n",
      "Expected:  20191 but found:  2019\n",
      "CSV file: file:///_disk_dev/final_project/who/data_03.csv\n"
     ]
    },
    {
     "data": {
      "text/html": [
       "<div>\n",
       "<style scoped>\n",
       "    .dataframe tbody tr th:only-of-type {\n",
       "        vertical-align: middle;\n",
       "    }\n",
       "\n",
       "    .dataframe tbody tr th {\n",
       "        vertical-align: top;\n",
       "    }\n",
       "\n",
       "    .dataframe thead th {\n",
       "        text-align: right;\n",
       "    }\n",
       "</style>\n",
       "<table border=\"1\" class=\"dataframe\">\n",
       "  <thead>\n",
       "    <tr style=\"text-align: right;\">\n",
       "      <th></th>\n",
       "      <th>Countries, territories and areas</th>\n",
       "      <th>Year</th>\n",
       "      <th>HALE_female</th>\n",
       "    </tr>\n",
       "  </thead>\n",
       "  <tbody>\n",
       "    <tr>\n",
       "      <th>0</th>\n",
       "      <td>Afghanistan</td>\n",
       "      <td>2019</td>\n",
       "      <td>53.9</td>\n",
       "    </tr>\n",
       "    <tr>\n",
       "      <th>1</th>\n",
       "      <td>Afghanistan</td>\n",
       "      <td>2015</td>\n",
       "      <td>52.6</td>\n",
       "    </tr>\n",
       "    <tr>\n",
       "      <th>2</th>\n",
       "      <td>Afghanistan</td>\n",
       "      <td>2010</td>\n",
       "      <td>51.1</td>\n",
       "    </tr>\n",
       "    <tr>\n",
       "      <th>3</th>\n",
       "      <td>Algeria</td>\n",
       "      <td>2015</td>\n",
       "      <td>66.0</td>\n",
       "    </tr>\n",
       "    <tr>\n",
       "      <th>4</th>\n",
       "      <td>Algeria</td>\n",
       "      <td>2010</td>\n",
       "      <td>65.5</td>\n",
       "    </tr>\n",
       "    <tr>\n",
       "      <th>5</th>\n",
       "      <td>Angola</td>\n",
       "      <td>2019</td>\n",
       "      <td>54.8</td>\n",
       "    </tr>\n",
       "    <tr>\n",
       "      <th>6</th>\n",
       "      <td>Angola</td>\n",
       "      <td>2010</td>\n",
       "      <td>50.6</td>\n",
       "    </tr>\n",
       "    <tr>\n",
       "      <th>7</th>\n",
       "      <td>Antigua and Barbuda</td>\n",
       "      <td>2019</td>\n",
       "      <td>67.0</td>\n",
       "    </tr>\n",
       "    <tr>\n",
       "      <th>8</th>\n",
       "      <td>Antigua and Barbuda</td>\n",
       "      <td>2015</td>\n",
       "      <td>66.8</td>\n",
       "    </tr>\n",
       "    <tr>\n",
       "      <th>9</th>\n",
       "      <td>Antigua and Barbuda</td>\n",
       "      <td>2000</td>\n",
       "      <td>65.5</td>\n",
       "    </tr>\n",
       "  </tbody>\n",
       "</table>\n",
       "</div>"
      ],
      "text/plain": [
       "  Countries, territories and areas  Year HALE_female\n",
       "0                      Afghanistan  2019        53.9\n",
       "1                      Afghanistan  2015        52.6\n",
       "2                      Afghanistan  2010        51.1\n",
       "3                          Algeria  2015        66.0\n",
       "4                          Algeria  2010        65.5\n",
       "5                           Angola  2019        54.8\n",
       "6                           Angola  2010        50.6\n",
       "7              Antigua and Barbuda  2019        67.0\n",
       "8              Antigua and Barbuda  2015        66.8\n",
       "9              Antigua and Barbuda  2000        65.5"
      ]
     },
     "execution_count": 63,
     "metadata": {},
     "output_type": "execute_result"
    }
   ],
   "source": [
    "data_03_3.sample(False, 10/data_03_1.count(), seed=150).limit(10).pandas_api()"
   ]
  },
  {
   "cell_type": "code",
   "execution_count": 64,
   "id": "d982037b-f2e4-4d3a-8ac1-8c39a480860a",
   "metadata": {
    "execution": {
     "iopub.execute_input": "2023-06-08T13:27:53.328703Z",
     "iopub.status.busy": "2023-06-08T13:27:53.328458Z",
     "iopub.status.idle": "2023-06-08T13:27:53.343436Z",
     "shell.execute_reply": "2023-06-08T13:27:53.342801Z",
     "shell.execute_reply.started": "2023-06-08T13:27:53.328680Z"
    },
    "tags": []
   },
   "outputs": [],
   "source": [
    "data_03_3 = data_03_3.filter(col(\"Countries, territories and areas\").isin() | col(\"Countries, territories and areas\").isin(oceanic_countries))\n",
    "#data_00 = data_00.filter(col(\"Year\") >= \"1970\")"
   ]
  },
  {
   "cell_type": "code",
   "execution_count": 65,
   "id": "1affbd2a-6260-41d2-b890-2890884c8834",
   "metadata": {
    "execution": {
     "iopub.execute_input": "2023-06-08T13:27:53.344295Z",
     "iopub.status.busy": "2023-06-08T13:27:53.344122Z",
     "iopub.status.idle": "2023-06-08T13:27:53.560652Z",
     "shell.execute_reply": "2023-06-08T13:27:53.559957Z",
     "shell.execute_reply.started": "2023-06-08T13:27:53.344280Z"
    },
    "tags": []
   },
   "outputs": [
    {
     "name": "stderr",
     "output_type": "stream",
     "text": [
      "23/06/08 10:27:53 WARN CSVHeaderChecker: CSV header does not conform to the schema.\n",
      " Header: Countries, territories and areas,  2019,  2015,  2010,  2000\n",
      " Schema: Countries, territories and areas,  20191,  20152,  20103,  20004\n",
      "Expected:  20191 but found:  2019\n",
      "CSV file: file:///_disk_dev/final_project/who/data_03.csv\n",
      "23/06/08 10:27:53 WARN CSVHeaderChecker: CSV header does not conform to the schema.\n",
      " Header: Countries, territories and areas,  2019,  2015,  2010,  2000\n",
      " Schema: Countries, territories and areas,  20191,  20152,  20103,  20004\n",
      "Expected:  20191 but found:  2019\n",
      "CSV file: file:///_disk_dev/final_project/who/data_03.csv\n"
     ]
    },
    {
     "data": {
      "text/html": [
       "<div>\n",
       "<style scoped>\n",
       "    .dataframe tbody tr th:only-of-type {\n",
       "        vertical-align: middle;\n",
       "    }\n",
       "\n",
       "    .dataframe tbody tr th {\n",
       "        vertical-align: top;\n",
       "    }\n",
       "\n",
       "    .dataframe thead th {\n",
       "        text-align: right;\n",
       "    }\n",
       "</style>\n",
       "<table border=\"1\" class=\"dataframe\">\n",
       "  <thead>\n",
       "    <tr style=\"text-align: right;\">\n",
       "      <th></th>\n",
       "      <th>Countries, territories and areas</th>\n",
       "      <th>Year</th>\n",
       "      <th>HALE_female</th>\n",
       "    </tr>\n",
       "  </thead>\n",
       "  <tbody>\n",
       "    <tr>\n",
       "      <th>0</th>\n",
       "      <td>Australia</td>\n",
       "      <td>2019</td>\n",
       "      <td>70.9</td>\n",
       "    </tr>\n",
       "    <tr>\n",
       "      <th>1</th>\n",
       "      <td>Australia</td>\n",
       "      <td>2015</td>\n",
       "      <td>70.6</td>\n",
       "    </tr>\n",
       "    <tr>\n",
       "      <th>2</th>\n",
       "      <td>Australia</td>\n",
       "      <td>2010</td>\n",
       "      <td>70.2</td>\n",
       "    </tr>\n",
       "    <tr>\n",
       "      <th>3</th>\n",
       "      <td>Kiribati</td>\n",
       "      <td>2015</td>\n",
       "      <td>51.6</td>\n",
       "    </tr>\n",
       "    <tr>\n",
       "      <th>4</th>\n",
       "      <td>Kiribati</td>\n",
       "      <td>2010</td>\n",
       "      <td>51.5</td>\n",
       "    </tr>\n",
       "    <tr>\n",
       "      <th>5</th>\n",
       "      <td>Micronesia (Federated States of)</td>\n",
       "      <td>2019</td>\n",
       "      <td>56.0</td>\n",
       "    </tr>\n",
       "    <tr>\n",
       "      <th>6</th>\n",
       "      <td>Micronesia (Federated States of)</td>\n",
       "      <td>2010</td>\n",
       "      <td>55.8</td>\n",
       "    </tr>\n",
       "    <tr>\n",
       "      <th>7</th>\n",
       "      <td>New Zealand</td>\n",
       "      <td>2019</td>\n",
       "      <td>70.2</td>\n",
       "    </tr>\n",
       "    <tr>\n",
       "      <th>8</th>\n",
       "      <td>New Zealand</td>\n",
       "      <td>2015</td>\n",
       "      <td>69.9</td>\n",
       "    </tr>\n",
       "    <tr>\n",
       "      <th>9</th>\n",
       "      <td>New Zealand</td>\n",
       "      <td>2000</td>\n",
       "      <td>67.8</td>\n",
       "    </tr>\n",
       "  </tbody>\n",
       "</table>\n",
       "</div>"
      ],
      "text/plain": [
       "   Countries, territories and areas  Year HALE_female\n",
       "0                         Australia  2019        70.9\n",
       "1                         Australia  2015        70.6\n",
       "2                         Australia  2010        70.2\n",
       "3                          Kiribati  2015        51.6\n",
       "4                          Kiribati  2010        51.5\n",
       "5  Micronesia (Federated States of)  2019        56.0\n",
       "6  Micronesia (Federated States of)  2010        55.8\n",
       "7                       New Zealand  2019        70.2\n",
       "8                       New Zealand  2015        69.9\n",
       "9                       New Zealand  2000        67.8"
      ]
     },
     "execution_count": 65,
     "metadata": {},
     "output_type": "execute_result"
    }
   ],
   "source": [
    "data_03_3.sample(False, 10/data_03_1.count(), seed=150).limit(10).pandas_api()"
   ]
  },
  {
   "cell_type": "code",
   "execution_count": 67,
   "id": "b4454cc0-5dd7-44fa-bda9-2ac8d2f19b3a",
   "metadata": {
    "execution": {
     "iopub.execute_input": "2023-06-08T15:04:08.690797Z",
     "iopub.status.busy": "2023-06-08T15:04:08.690515Z",
     "iopub.status.idle": "2023-06-08T15:04:08.912693Z",
     "shell.execute_reply": "2023-06-08T15:04:08.912009Z",
     "shell.execute_reply.started": "2023-06-08T15:04:08.690772Z"
    },
    "tags": []
   },
   "outputs": [
    {
     "name": "stderr",
     "output_type": "stream",
     "text": [
      "23/06/08 12:04:08 WARN CSVHeaderChecker: CSV header does not conform to the schema.\n",
      " Header: Countries, territories and areas,  2019,  2015,  2010,  2000\n",
      " Schema: Countries, territories and areas,  20195,  20156,  20107,  20008\n",
      "Expected:  20195 but found:  2019\n",
      "CSV file: file:///_disk_dev/final_project/who/data_03.csv\n"
     ]
    }
   ],
   "source": [
    "data_03_2.coalesce(1).write.option(\"header\", \"true\").mode(\"overwrite\").csv(\"hale_female\")"
   ]
  },
  {
   "cell_type": "code",
   "execution_count": 68,
   "id": "a050a74d-82a6-43d9-8e64-a2511ea8e5fa",
   "metadata": {
    "execution": {
     "iopub.execute_input": "2023-06-08T15:04:24.843790Z",
     "iopub.status.busy": "2023-06-08T15:04:24.842822Z",
     "iopub.status.idle": "2023-06-08T15:04:25.730006Z",
     "shell.execute_reply": "2023-06-08T15:04:25.726633Z",
     "shell.execute_reply.started": "2023-06-08T15:04:24.843657Z"
    },
    "tags": []
   },
   "outputs": [
    {
     "name": "stdout",
     "output_type": "stream",
     "text": [
      "Defaulting to user installation because normal site-packages is not writeable\n",
      "Collecting azure\n",
      "  Using cached azure-5.0.0.zip (4.6 kB)\n",
      "  Preparing metadata (setup.py) ... \u001b[?25lerror\n",
      "  \u001b[1;31merror\u001b[0m: \u001b[1msubprocess-exited-with-error\u001b[0m\n",
      "  \n",
      "  \u001b[31m×\u001b[0m \u001b[32mpython setup.py egg_info\u001b[0m did not run successfully.\n",
      "  \u001b[31m│\u001b[0m exit code: \u001b[1;36m1\u001b[0m\n",
      "  \u001b[31m╰─>\u001b[0m \u001b[31m[25 lines of output]\u001b[0m\n",
      "  \u001b[31m   \u001b[0m Traceback (most recent call last):\n",
      "  \u001b[31m   \u001b[0m   File \"<string>\", line 2, in <module>\n",
      "  \u001b[31m   \u001b[0m   File \"<pip-setuptools-caller>\", line 34, in <module>\n",
      "  \u001b[31m   \u001b[0m   File \"/tmp/pip-install-sv5u6ltn/azure_40e6366e0c61490888e3dfa1e0998e2c/setup.py\", line 60, in <module>\n",
      "  \u001b[31m   \u001b[0m     raise RuntimeError(message)\n",
      "  \u001b[31m   \u001b[0m RuntimeError:\n",
      "  \u001b[31m   \u001b[0m \n",
      "  \u001b[31m   \u001b[0m Starting with v5.0.0, the 'azure' meta-package is deprecated and cannot be installed anymore.\n",
      "  \u001b[31m   \u001b[0m Please install the service specific packages prefixed by `azure` needed for your application.\n",
      "  \u001b[31m   \u001b[0m \n",
      "  \u001b[31m   \u001b[0m The complete list of available packages can be found at:\n",
      "  \u001b[31m   \u001b[0m https://aka.ms/azsdk/python/all\n",
      "  \u001b[31m   \u001b[0m \n",
      "  \u001b[31m   \u001b[0m Here's a non-exhaustive list of common packages:\n",
      "  \u001b[31m   \u001b[0m \n",
      "  \u001b[31m   \u001b[0m -  azure-mgmt-compute (https://pypi.python.org/pypi/azure-mgmt-compute) : Management of Virtual Machines, etc.\n",
      "  \u001b[31m   \u001b[0m -  azure-mgmt-storage (https://pypi.python.org/pypi/azure-mgmt-storage) : Management of storage accounts.\n",
      "  \u001b[31m   \u001b[0m -  azure-mgmt-resource (https://pypi.python.org/pypi/azure-mgmt-resource) : Generic package about Azure Resource Management (ARM)\n",
      "  \u001b[31m   \u001b[0m -  azure-keyvault-secrets (https://pypi.python.org/pypi/azure-keyvault-secrets) : Access to secrets in Key Vault\n",
      "  \u001b[31m   \u001b[0m -  azure-storage-blob (https://pypi.python.org/pypi/azure-storage-blob) : Access to blobs in storage accounts\n",
      "  \u001b[31m   \u001b[0m \n",
      "  \u001b[31m   \u001b[0m A more comprehensive discussion of the rationale for this decision can be found in the following issue:\n",
      "  \u001b[31m   \u001b[0m https://github.com/Azure/azure-sdk-for-python/issues/10646\n",
      "  \u001b[31m   \u001b[0m \n",
      "  \u001b[31m   \u001b[0m \n",
      "  \u001b[31m   \u001b[0m \u001b[31m[end of output]\u001b[0m\n",
      "  \n",
      "  \u001b[1;35mnote\u001b[0m: This error originates from a subprocess, and is likely not a problem with pip.\n",
      "\u001b[1;31merror\u001b[0m: \u001b[1mmetadata-generation-failed\u001b[0m\n",
      "\n",
      "\u001b[31m×\u001b[0m Encountered error while generating package metadata.\n",
      "\u001b[31m╰─>\u001b[0m See above for output.\n",
      "\n",
      "\u001b[1;35mnote\u001b[0m: This is an issue with the package mentioned above, not pip.\n",
      "\u001b[1;36mhint\u001b[0m: See above for details.\n",
      "\u001b[?25h"
     ]
    }
   ],
   "source": [
    "!pip install azure\n"
   ]
  },
  {
   "cell_type": "code",
   "execution_count": 69,
   "id": "2eed98b3-4292-464a-b32b-195aa9d916cd",
   "metadata": {
    "execution": {
     "iopub.execute_input": "2023-06-08T15:05:48.662145Z",
     "iopub.status.busy": "2023-06-08T15:05:48.661291Z",
     "iopub.status.idle": "2023-06-08T15:05:52.039322Z",
     "shell.execute_reply": "2023-06-08T15:05:52.035688Z",
     "shell.execute_reply.started": "2023-06-08T15:05:48.662053Z"
    },
    "tags": []
   },
   "outputs": [
    {
     "name": "stdout",
     "output_type": "stream",
     "text": [
      "Defaulting to user installation because normal site-packages is not writeable\n",
      "Collecting azure-storage-blob\n",
      "  Downloading azure_storage_blob-12.16.0-py3-none-any.whl (387 kB)\n",
      "\u001b[2K     \u001b[90m━━━━━━━━━━━━━━━━━━━━━━━━━━━━━━━━━━━━━━━\u001b[0m \u001b[32m388.0/388.0 kB\u001b[0m \u001b[31m6.6 MB/s\u001b[0m eta \u001b[36m0:00:00\u001b[0ma \u001b[36m0:00:01\u001b[0m\n",
      "\u001b[?25hRequirement already satisfied: cryptography>=2.1.4 in /usr/lib/python3.10/site-packages (from azure-storage-blob) (40.0.1)\n",
      "Collecting isodate>=0.6.1\n",
      "  Downloading isodate-0.6.1-py2.py3-none-any.whl (41 kB)\n",
      "\u001b[2K     \u001b[90m━━━━━━━━━━━━━━━━━━━━━━━━━━━━━━━━━━━━━━━━\u001b[0m \u001b[32m41.7/41.7 kB\u001b[0m \u001b[31m8.8 MB/s\u001b[0m eta \u001b[36m0:00:00\u001b[0m\n",
      "\u001b[?25hRequirement already satisfied: typing-extensions>=4.0.1 in /usr/lib/python3.10/site-packages (from azure-storage-blob) (4.5.0)\n",
      "Collecting azure-core<2.0.0,>=1.26.0\n",
      "  Downloading azure_core-1.27.0-py3-none-any.whl (174 kB)\n",
      "\u001b[2K     \u001b[90m━━━━━━━━━━━━━━━━━━━━━━━━━━━━━━━━━━━━━━\u001b[0m \u001b[32m174.2/174.2 kB\u001b[0m \u001b[31m15.8 MB/s\u001b[0m eta \u001b[36m0:00:00\u001b[0m\n",
      "\u001b[?25hRequirement already satisfied: requests>=2.18.4 in /usr/lib/python3.10/site-packages (from azure-core<2.0.0,>=1.26.0->azure-storage-blob) (2.28.2)\n",
      "Requirement already satisfied: six>=1.11.0 in /usr/lib/python3.10/site-packages (from azure-core<2.0.0,>=1.26.0->azure-storage-blob) (1.16.0)\n",
      "Requirement already satisfied: cffi>=1.12 in /usr/lib/python3.10/site-packages (from cryptography>=2.1.4->azure-storage-blob) (1.15.1)\n",
      "Requirement already satisfied: pycparser in /usr/lib/python3.10/site-packages (from cffi>=1.12->cryptography>=2.1.4->azure-storage-blob) (2.21)\n",
      "Requirement already satisfied: urllib3<1.27,>=1.21.1 in /usr/lib/python3.10/site-packages (from requests>=2.18.4->azure-core<2.0.0,>=1.26.0->azure-storage-blob) (1.26.13)\n",
      "Requirement already satisfied: idna<4,>=2.5 in /usr/lib/python3.10/site-packages (from requests>=2.18.4->azure-core<2.0.0,>=1.26.0->azure-storage-blob) (3.4)\n",
      "Installing collected packages: isodate, azure-core, azure-storage-blob\n",
      "Successfully installed azure-core-1.27.0 azure-storage-blob-12.16.0 isodate-0.6.1\n"
     ]
    }
   ],
   "source": [
    "!pip install azure-storage-blob"
   ]
  },
  {
   "cell_type": "code",
   "execution_count": null,
   "id": "9c38cd91-4ebc-4af5-b9d0-4b3f0ef20098",
   "metadata": {},
   "outputs": [],
   "source": []
  }
 ],
 "metadata": {
  "kernelspec": {
   "display_name": "Python 3 (ipykernel)",
   "language": "python",
   "name": "python3"
  },
  "language_info": {
   "codemirror_mode": {
    "name": "ipython",
    "version": 3
   },
   "file_extension": ".py",
   "mimetype": "text/x-python",
   "name": "python",
   "nbconvert_exporter": "python",
   "pygments_lexer": "ipython3",
   "version": "3.10.10"
  }
 },
 "nbformat": 4,
 "nbformat_minor": 5
}

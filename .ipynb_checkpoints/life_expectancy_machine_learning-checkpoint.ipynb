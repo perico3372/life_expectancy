{
 "cells": [
  {
   "cell_type": "code",
   "execution_count": 1,
   "id": "0f303be3-ea14-41c4-a84b-83d1e7483db5",
   "metadata": {
    "execution": {
     "iopub.execute_input": "2023-06-13T12:18:08.677192Z",
     "iopub.status.busy": "2023-06-13T12:18:08.677021Z",
     "iopub.status.idle": "2023-06-13T12:18:08.973434Z",
     "shell.execute_reply": "2023-06-13T12:18:08.972850Z",
     "shell.execute_reply.started": "2023-06-13T12:18:08.677174Z"
    },
    "tags": []
   },
   "outputs": [],
   "source": [
    "from pyspark.sql import SparkSession\n",
    "from pyspark.ml.regression import LinearRegression\n",
    "from pyspark.ml.feature import VectorAssembler, StringIndexer, OneHotEncoder\n",
    "from pyspark.sql.functions import col\n",
    "from pyspark.sql.types import FloatType"
   ]
  },
  {
   "cell_type": "code",
   "execution_count": 2,
   "id": "ec2494aa-c761-4d3d-a37d-d87820c3d879",
   "metadata": {
    "execution": {
     "iopub.execute_input": "2023-06-13T12:18:08.974925Z",
     "iopub.status.busy": "2023-06-13T12:18:08.974633Z",
     "iopub.status.idle": "2023-06-13T12:18:11.046350Z",
     "shell.execute_reply": "2023-06-13T12:18:11.045700Z",
     "shell.execute_reply.started": "2023-06-13T12:18:08.974910Z"
    },
    "tags": []
   },
   "outputs": [
    {
     "name": "stderr",
     "output_type": "stream",
     "text": [
      "Setting default log level to \"WARN\".\n",
      "To adjust logging level use sc.setLogLevel(newLevel). For SparkR, use setLogLevel(newLevel).\n",
      "23/06/13 09:18:10 WARN NativeCodeLoader: Unable to load native-hadoop library for your platform... using builtin-java classes where applicable\n",
      "23/06/13 09:18:10 WARN Utils: Service 'SparkUI' could not bind on port 4040. Attempting port 4041.\n"
     ]
    }
   ],
   "source": [
    "# Crear una sesión de Spark\n",
    "spark = SparkSession.builder.appName(\"LifeExpectancyPrediction\").getOrCreate()"
   ]
  },
  {
   "cell_type": "code",
   "execution_count": 3,
   "id": "b915fcdb-54f9-4a1f-aff1-7a91af1acbef",
   "metadata": {
    "execution": {
     "iopub.execute_input": "2023-06-13T12:18:11.047989Z",
     "iopub.status.busy": "2023-06-13T12:18:11.047551Z",
     "iopub.status.idle": "2023-06-13T12:18:13.212750Z",
     "shell.execute_reply": "2023-06-13T12:18:13.212138Z",
     "shell.execute_reply.started": "2023-06-13T12:18:11.047965Z"
    },
    "tags": []
   },
   "outputs": [],
   "source": [
    "# Cargar los datos de entrenamiento en un DataFrame\n",
    "data = spark.read.format(\"parquet\").option(\"header\", \"true\").load(\"data\")"
   ]
  },
  {
   "cell_type": "code",
   "execution_count": 4,
   "id": "aae03712-77a1-404d-a46e-0907af75af24",
   "metadata": {
    "execution": {
     "iopub.execute_input": "2023-06-13T12:18:13.213699Z",
     "iopub.status.busy": "2023-06-13T12:18:13.213512Z",
     "iopub.status.idle": "2023-06-13T12:18:13.231937Z",
     "shell.execute_reply": "2023-06-13T12:18:13.231286Z",
     "shell.execute_reply.started": "2023-06-13T12:18:13.213683Z"
    },
    "tags": []
   },
   "outputs": [
    {
     "name": "stdout",
     "output_type": "stream",
     "text": [
      "['Year', 'Country Code', 'Country Name', 'life_expatancy', 'life_expatancy_male', 'life_expatancy_female', 'ratio_mort_neonatal', 'ratio_mort_one_year', 'ratio_mort_five_year', 'ratio_maternal_mort', 'ratio_mort_in_year', 'ratio_poblation_0_14_year', 'ratio_poblation_15_64_year', 'ratio_poblation_more_64_year', 'ratio_population_growth', 'ratio_mortality_CVD_cancer_diabetes_CRD', 'ratio_infectious_diseases', 'porc_prev_malnutrition', 'doctor_1000_people', 'bed_1000_people', 'porc_water_service', 'porc_sanitation_services', 'porc_electricity', 'porc_internet', 'porc_secundary_school_compl', 'porc_literacy', 'porc_unemployment', 'porc_below_poverty_line', 'PIB_growth_per_capita']\n"
     ]
    }
   ],
   "source": [
    "print(data.columns)"
   ]
  },
  {
   "cell_type": "code",
   "execution_count": 5,
   "id": "30a733c8-f205-41e1-876d-b85597fc42f1",
   "metadata": {
    "execution": {
     "iopub.execute_input": "2023-06-13T12:18:13.233376Z",
     "iopub.status.busy": "2023-06-13T12:18:13.233052Z",
     "iopub.status.idle": "2023-06-13T12:18:13.242473Z",
     "shell.execute_reply": "2023-06-13T12:18:13.241890Z",
     "shell.execute_reply.started": "2023-06-13T12:18:13.233336Z"
    },
    "tags": []
   },
   "outputs": [
    {
     "data": {
      "text/plain": [
       "<bound method DataFrame.printSchema of DataFrame[Year: string, Country Code: string, Country Name: string, life_expatancy: string, life_expatancy_male: string, life_expatancy_female: string, ratio_mort_neonatal: string, ratio_mort_one_year: string, ratio_mort_five_year: string, ratio_maternal_mort: string, ratio_mort_in_year: string, ratio_poblation_0_14_year: string, ratio_poblation_15_64_year: string, ratio_poblation_more_64_year: string, ratio_population_growth: string, ratio_mortality_CVD_cancer_diabetes_CRD: string, ratio_infectious_diseases: string, porc_prev_malnutrition: string, doctor_1000_people: string, bed_1000_people: string, porc_water_service: string, porc_sanitation_services: string, porc_electricity: string, porc_internet: string, porc_secundary_school_compl: string, porc_literacy: string, porc_unemployment: string, porc_below_poverty_line: string, PIB_growth_per_capita: string]>"
      ]
     },
     "execution_count": 5,
     "metadata": {},
     "output_type": "execute_result"
    }
   ],
   "source": [
    "data.printSchema"
   ]
  },
  {
   "cell_type": "code",
   "execution_count": 6,
   "id": "5ae765be-b04e-405a-8da7-52ffe87205ca",
   "metadata": {
    "execution": {
     "iopub.execute_input": "2023-06-13T12:18:13.243599Z",
     "iopub.status.busy": "2023-06-13T12:18:13.243406Z",
     "iopub.status.idle": "2023-06-13T12:18:13.384334Z",
     "shell.execute_reply": "2023-06-13T12:18:13.383649Z",
     "shell.execute_reply.started": "2023-06-13T12:18:13.243569Z"
    },
    "tags": []
   },
   "outputs": [],
   "source": [
    "from pyspark.sql.functions import col\n",
    "from pyspark.sql.types import FloatType\n",
    "\n",
    "# Supongamos que tienes un DataFrame llamado \"data\" con las columnas \"col1\", \"col2\" y \"col3\" que son de tipo string\n",
    "columns_to_convert = [\"ratio_mort_neonatal\", \"ratio_mort_one_year\", \"ratio_mort_five_year\", 'ratio_maternal_mort', 'ratio_mort_in_year']\n",
    "\n",
    "for column in columns_to_convert:\n",
    "    data = data.withColumn(column, col(column).cast(FloatType()))"
   ]
  },
  {
   "cell_type": "code",
   "execution_count": 7,
   "id": "c9145e20-be3b-43a4-9601-9b995d9ade87",
   "metadata": {
    "execution": {
     "iopub.execute_input": "2023-06-13T12:18:13.387146Z",
     "iopub.status.busy": "2023-06-13T12:18:13.386785Z",
     "iopub.status.idle": "2023-06-13T12:18:13.392296Z",
     "shell.execute_reply": "2023-06-13T12:18:13.391798Z",
     "shell.execute_reply.started": "2023-06-13T12:18:13.387127Z"
    },
    "tags": []
   },
   "outputs": [
    {
     "data": {
      "text/plain": [
       "<bound method DataFrame.printSchema of DataFrame[Year: string, Country Code: string, Country Name: string, life_expatancy: string, life_expatancy_male: string, life_expatancy_female: string, ratio_mort_neonatal: float, ratio_mort_one_year: float, ratio_mort_five_year: float, ratio_maternal_mort: float, ratio_mort_in_year: float, ratio_poblation_0_14_year: string, ratio_poblation_15_64_year: string, ratio_poblation_more_64_year: string, ratio_population_growth: string, ratio_mortality_CVD_cancer_diabetes_CRD: string, ratio_infectious_diseases: string, porc_prev_malnutrition: string, doctor_1000_people: string, bed_1000_people: string, porc_water_service: string, porc_sanitation_services: string, porc_electricity: string, porc_internet: string, porc_secundary_school_compl: string, porc_literacy: string, porc_unemployment: string, porc_below_poverty_line: string, PIB_growth_per_capita: string]>"
      ]
     },
     "execution_count": 7,
     "metadata": {},
     "output_type": "execute_result"
    }
   ],
   "source": [
    "data.printSchema"
   ]
  },
  {
   "cell_type": "code",
   "execution_count": 8,
   "id": "f0d1b045-42ca-44b0-8b4c-d8c8e3b0a720",
   "metadata": {
    "execution": {
     "iopub.execute_input": "2023-06-13T12:18:13.393344Z",
     "iopub.status.busy": "2023-06-13T12:18:13.392954Z",
     "iopub.status.idle": "2023-06-13T12:18:13.512825Z",
     "shell.execute_reply": "2023-06-13T12:18:13.512271Z",
     "shell.execute_reply.started": "2023-06-13T12:18:13.393328Z"
    },
    "tags": []
   },
   "outputs": [],
   "source": [
    "# Convertir las columnas seleccionadas a tipo Float\n",
    "columns_to_convert = [\"ratio_mort_neonatal\", \"ratio_mort_one_year\", \"ratio_mort_five_year\", 'ratio_maternal_mort', 'ratio_mort_in_year']\n",
    "for column in columns_to_convert:\n",
    "    data = data.withColumn(column, col(column).cast(FloatType()))"
   ]
  },
  {
   "cell_type": "code",
   "execution_count": 9,
   "id": "87b5b414-4eb4-4cf0-b71f-d91b8e187a80",
   "metadata": {
    "execution": {
     "iopub.execute_input": "2023-06-13T12:18:13.513816Z",
     "iopub.status.busy": "2023-06-13T12:18:13.513481Z",
     "iopub.status.idle": "2023-06-13T12:18:14.821945Z",
     "shell.execute_reply": "2023-06-13T12:18:14.821282Z",
     "shell.execute_reply.started": "2023-06-13T12:18:13.513798Z"
    },
    "tags": []
   },
   "outputs": [],
   "source": [
    "# Convertir la variable categórica \"país\" a una representación numérica\n",
    "indexer = StringIndexer(inputCol=\"Country Code\", outputCol=\"country_index\")\n",
    "data = indexer.fit(data).transform(data)"
   ]
  },
  {
   "cell_type": "code",
   "execution_count": 10,
   "id": "29befba9-b194-4403-922c-3719d0814eae",
   "metadata": {
    "execution": {
     "iopub.execute_input": "2023-06-13T12:18:14.822660Z",
     "iopub.status.busy": "2023-06-13T12:18:14.822495Z",
     "iopub.status.idle": "2023-06-13T12:18:14.829707Z",
     "shell.execute_reply": "2023-06-13T12:18:14.829075Z",
     "shell.execute_reply.started": "2023-06-13T12:18:14.822644Z"
    },
    "tags": []
   },
   "outputs": [],
   "source": [
    "# Crear el objeto OneHotEncoder\n",
    "encoder = OneHotEncoder(inputCols=[\"country_index\"], outputCols=[\"country_encoded\"])"
   ]
  },
  {
   "cell_type": "code",
   "execution_count": 11,
   "id": "4ac5bd33-a32f-45c1-befd-c808bcdd6a9a",
   "metadata": {
    "execution": {
     "iopub.execute_input": "2023-06-13T12:18:14.830755Z",
     "iopub.status.busy": "2023-06-13T12:18:14.830273Z",
     "iopub.status.idle": "2023-06-13T12:18:14.911021Z",
     "shell.execute_reply": "2023-06-13T12:18:14.910425Z",
     "shell.execute_reply.started": "2023-06-13T12:18:14.830735Z"
    },
    "tags": []
   },
   "outputs": [],
   "source": [
    "# Ajustar y transformar los datos\n",
    "model = encoder.fit(data)\n",
    "data = model.transform(data)"
   ]
  },
  {
   "cell_type": "code",
   "execution_count": 12,
   "id": "1faffeed-91b4-43e4-a304-8c30ca04cc4b",
   "metadata": {
    "execution": {
     "iopub.execute_input": "2023-06-13T12:18:14.911721Z",
     "iopub.status.busy": "2023-06-13T12:18:14.911562Z",
     "iopub.status.idle": "2023-06-13T12:18:15.054441Z",
     "shell.execute_reply": "2023-06-13T12:18:15.053867Z",
     "shell.execute_reply.started": "2023-06-13T12:18:14.911706Z"
    },
    "tags": []
   },
   "outputs": [],
   "source": [
    "# Seleccionar las características y la variable objetivo\n",
    "feature_columns = [\"country_encoded\", \"ratio_mort_neonatal\", \"ratio_mort_one_year\", \"ratio_mort_five_year\", 'ratio_maternal_mort', 'ratio_mort_in_year']\n",
    "assembler = VectorAssembler(inputCols=feature_columns, outputCol=\"features\", handleInvalid=\"keep\")\n",
    "data = assembler.transform(data)"
   ]
  },
  {
   "cell_type": "code",
   "execution_count": 13,
   "id": "cedbf078-ded0-4db3-8e1b-4922c5b7efc5",
   "metadata": {
    "execution": {
     "iopub.execute_input": "2023-06-13T12:18:15.055225Z",
     "iopub.status.busy": "2023-06-13T12:18:15.055057Z",
     "iopub.status.idle": "2023-06-13T12:18:15.074865Z",
     "shell.execute_reply": "2023-06-13T12:18:15.074308Z",
     "shell.execute_reply.started": "2023-06-13T12:18:15.055209Z"
    },
    "tags": []
   },
   "outputs": [],
   "source": [
    "# Seleccionar las columnas finales\n",
    "data = data.select(\"Country Name\", \"features\", \"life_expatancy\").withColumnRenamed(\"life_expatancy\", \"label\")"
   ]
  },
  {
   "cell_type": "code",
   "execution_count": 14,
   "id": "997084e4-332e-4a1b-a199-648f04b1aff9",
   "metadata": {
    "execution": {
     "iopub.execute_input": "2023-06-13T12:18:15.075532Z",
     "iopub.status.busy": "2023-06-13T12:18:15.075377Z",
     "iopub.status.idle": "2023-06-13T12:18:15.190431Z",
     "shell.execute_reply": "2023-06-13T12:18:15.189835Z",
     "shell.execute_reply.started": "2023-06-13T12:18:15.075516Z"
    },
    "tags": []
   },
   "outputs": [
    {
     "name": "stdout",
     "output_type": "stream",
     "text": [
      "+--------------------+------+\n",
      "|        Country Name| label|\n",
      "+--------------------+------+\n",
      "|               Haití|61.741|\n",
      "|              Panamá|75.544|\n",
      "|   Trinidad y Tobago|71.308|\n",
      "|Micronesia (Estad...|66.859|\n",
      "|             Jamaica|71.273|\n",
      "|           Venezuela|72.161|\n",
      "|            Kiribati|61.422|\n",
      "|            Dominica|69.852|\n",
      "|              Belice|69.887|\n",
      "|            Suriname|72.242|\n",
      "|      Islas Marshall|63.585|\n",
      "|             Vanuatu|69.534|\n",
      "|             Granada|74.765|\n",
      "|               Chile|71.176|\n",
      "|San Vicente y las...|73.516|\n",
      "|              Tuvalu|61.531|\n",
      "|             Bahamas|73.806|\n",
      "|            Honduras|71.963|\n",
      "|            Dominica|70.538|\n",
      "|          Costa Rica|76.263|\n",
      "+--------------------+------+\n",
      "only showing top 20 rows\n",
      "\n"
     ]
    }
   ],
   "source": [
    "# Mostrar modelo machine learning\n",
    "data.select(\"Country Name\",\"label\").show()"
   ]
  },
  {
   "cell_type": "code",
   "execution_count": null,
   "id": "7a78add3-e2e5-4de8-8adb-beec1667e968",
   "metadata": {},
   "outputs": [],
   "source": []
  }
 ],
 "metadata": {
  "kernelspec": {
   "display_name": "Python 3 (ipykernel)",
   "language": "python",
   "name": "python3"
  },
  "language_info": {
   "codemirror_mode": {
    "name": "ipython",
    "version": 3
   },
   "file_extension": ".py",
   "mimetype": "text/x-python",
   "name": "python",
   "nbconvert_exporter": "python",
   "pygments_lexer": "ipython3",
   "version": "3.10.10"
  }
 },
 "nbformat": 4,
 "nbformat_minor": 5
}

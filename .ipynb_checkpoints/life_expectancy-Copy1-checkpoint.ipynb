{
 "cells": [
  {
   "cell_type": "code",
   "execution_count": 1,
   "id": "e762248a-4aa4-4cc9-b73e-2d24817e441d",
   "metadata": {
    "execution": {
     "iopub.execute_input": "2023-06-06T05:58:31.858144Z",
     "iopub.status.busy": "2023-06-06T05:58:31.857899Z",
     "iopub.status.idle": "2023-06-06T05:58:31.861504Z",
     "shell.execute_reply": "2023-06-06T05:58:31.860751Z",
     "shell.execute_reply.started": "2023-06-06T05:58:31.858118Z"
    },
    "tags": []
   },
   "outputs": [],
   "source": [
    "#pip install pyspark"
   ]
  },
  {
   "cell_type": "code",
   "execution_count": 2,
   "id": "f3a1506e-d0ea-4a66-8c3c-5febe458cfc9",
   "metadata": {
    "execution": {
     "iopub.execute_input": "2023-06-06T05:58:31.863677Z",
     "iopub.status.busy": "2023-06-06T05:58:31.863389Z",
     "iopub.status.idle": "2023-06-06T05:58:33.827491Z",
     "shell.execute_reply": "2023-06-06T05:58:33.826701Z",
     "shell.execute_reply.started": "2023-06-06T05:58:31.863644Z"
    },
    "tags": []
   },
   "outputs": [
    {
     "name": "stdout",
     "output_type": "stream",
     "text": [
      "Defaulting to user installation because normal site-packages is not writeable\n",
      "Requirement already satisfied: py4j in /usr/lib/python3.10/site-packages (0.10.9.7)\n"
     ]
    }
   ],
   "source": [
    "!pip install py4j"
   ]
  },
  {
   "cell_type": "code",
   "execution_count": null,
   "id": "542177f8-0205-4ecb-8f5d-c2c917416672",
   "metadata": {
    "tags": []
   },
   "outputs": [],
   "source": []
  },
  {
   "cell_type": "code",
   "execution_count": 3,
   "id": "90f53c99-ec37-4e46-9d7b-e5ea1ed8e8ca",
   "metadata": {
    "execution": {
     "iopub.execute_input": "2023-06-06T05:58:33.828620Z",
     "iopub.status.busy": "2023-06-06T05:58:33.828360Z",
     "iopub.status.idle": "2023-06-06T05:58:33.832715Z",
     "shell.execute_reply": "2023-06-06T05:58:33.831931Z",
     "shell.execute_reply.started": "2023-06-06T05:58:33.828595Z"
    },
    "tags": []
   },
   "outputs": [],
   "source": [
    "import os\n",
    "\n",
    "os.environ['PYSPARK_PYTHON'] = '/usr/bin/python3'\n",
    "os.environ['PYSPARK_DRIVER_PYTHON'] = '/usr/bin/python3'"
   ]
  },
  {
   "cell_type": "markdown",
   "id": "64786344-7654-40ff-9253-f0c10c18d144",
   "metadata": {},
   "source": [
    "Módulos a importar"
   ]
  },
  {
   "cell_type": "code",
   "execution_count": 4,
   "id": "3fd1521d-1809-4e1a-8957-6824806ab2b7",
   "metadata": {
    "execution": {
     "iopub.execute_input": "2023-06-06T05:58:33.833994Z",
     "iopub.status.busy": "2023-06-06T05:58:33.833748Z",
     "iopub.status.idle": "2023-06-06T05:58:34.128754Z",
     "shell.execute_reply": "2023-06-06T05:58:34.128189Z",
     "shell.execute_reply.started": "2023-06-06T05:58:33.833971Z"
    },
    "tags": []
   },
   "outputs": [],
   "source": [
    "import pandas as pd"
   ]
  },
  {
   "cell_type": "code",
   "execution_count": 5,
   "id": "d4a7dcf7-e91e-40b4-a30b-70a428bb12ca",
   "metadata": {
    "execution": {
     "iopub.execute_input": "2023-06-06T05:58:34.129673Z",
     "iopub.status.busy": "2023-06-06T05:58:34.129472Z",
     "iopub.status.idle": "2023-06-06T05:58:34.170482Z",
     "shell.execute_reply": "2023-06-06T05:58:34.169946Z",
     "shell.execute_reply.started": "2023-06-06T05:58:34.129657Z"
    },
    "tags": []
   },
   "outputs": [],
   "source": [
    "import requests\n",
    "import zipfile\n",
    "import io\n",
    "import csv"
   ]
  },
  {
   "cell_type": "code",
   "execution_count": 6,
   "id": "36cfb250-c3df-40ae-988d-179466d65cda",
   "metadata": {
    "execution": {
     "iopub.execute_input": "2023-06-06T05:58:34.171497Z",
     "iopub.status.busy": "2023-06-06T05:58:34.171247Z",
     "iopub.status.idle": "2023-06-06T05:58:36.309750Z",
     "shell.execute_reply": "2023-06-06T05:58:36.309120Z",
     "shell.execute_reply.started": "2023-06-06T05:58:34.171468Z"
    },
    "tags": []
   },
   "outputs": [
    {
     "name": "stderr",
     "output_type": "stream",
     "text": [
      "Setting default log level to \"WARN\".\n",
      "To adjust logging level use sc.setLogLevel(newLevel). For SparkR, use setLogLevel(newLevel).\n",
      "23/06/06 02:58:35 WARN NativeCodeLoader: Unable to load native-hadoop library for your platform... using builtin-java classes where applicable\n"
     ]
    }
   ],
   "source": [
    "from pyspark.sql import SparkSession\n",
    "from pyspark.sql.functions import split\n",
    "from pyspark.sql.functions import expr\n",
    "\n",
    "# Crear una sesión de Spark\n",
    "spark = SparkSession.builder.getOrCreate()"
   ]
  },
  {
   "cell_type": "raw",
   "id": "768694c2-998a-47c4-afdd-949600adbc77",
   "metadata": {
    "execution": {
     "iopub.execute_input": "2023-06-05T17:02:31.705495Z",
     "iopub.status.busy": "2023-06-05T17:02:31.705267Z",
     "iopub.status.idle": "2023-06-05T17:02:31.994477Z",
     "shell.execute_reply": "2023-06-05T17:02:31.980692Z",
     "shell.execute_reply.started": "2023-06-05T17:02:31.705475Z"
    }
   },
   "source": [
    "from pyspark import SparkConf, SparkContext\n",
    "\n",
    "conf = SparkConf().set(\"spark.executor.memory\", \"4g\")\n",
    "sc = SparkContext(conf=conf)"
   ]
  },
  {
   "cell_type": "markdown",
   "id": "9772f2fa-2256-4368-8633-6b012945081a",
   "metadata": {},
   "source": [
    "Los códigos de estado HTTP son números de tres dígitos que se utilizan para indicar el resultado de una solicitud al servidor. Algunos ejemplos comunes de códigos de estado son:\n",
    "\n",
    "    200 OK: La solicitud ha sido exitosa.\n",
    "    400 Bad Request: La solicitud no se pudo entender o contiene sintaxis incorrecta.\n",
    "    401 Unauthorized: La solicitud requiere autenticación o el usuario no tiene los permisos necesarios.\n",
    "    404 Not Found: El recurso solicitado no se encuentra en el servidor.\n",
    "    500 Internal Server Error: El servidor encontró una condición inesperada que le impidió cumplir con la solicitud."
   ]
  },
  {
   "cell_type": "markdown",
   "id": "4cb03bc8-eab8-4a2b-bb73-e5fc5540b1f0",
   "metadata": {},
   "source": [
    "# Esperanza de vida al nacer, total (años)\n",
    "\n",
    "La esperanza de vida al nacer indica la cantidad de años que viviría un recién nacido si los patrones de mortalidad vigentes al momento de su nacimiento no cambian a lo largo de la vida del infante.\n",
    "\n",
    "https://datos.bancomundial.org/indicador/SP.DYN.LE00.IN?view=chart"
   ]
  },
  {
   "cell_type": "code",
   "execution_count": 7,
   "id": "89288d7d-39b9-4fbf-ad8a-ecd080ac1fb2",
   "metadata": {
    "execution": {
     "iopub.execute_input": "2023-06-06T05:58:36.312268Z",
     "iopub.status.busy": "2023-06-06T05:58:36.312061Z",
     "iopub.status.idle": "2023-06-06T05:58:36.315436Z",
     "shell.execute_reply": "2023-06-06T05:58:36.314881Z",
     "shell.execute_reply.started": "2023-06-06T05:58:36.312248Z"
    },
    "tags": []
   },
   "outputs": [],
   "source": [
    "url_00 = \"https://api.worldbank.org/v2/es/indicator/SP.DYN.LE00.IN?downloadformat=csv\""
   ]
  },
  {
   "cell_type": "code",
   "execution_count": 8,
   "id": "663ab509-e1be-4917-ac22-3975c4d5609a",
   "metadata": {
    "execution": {
     "iopub.execute_input": "2023-06-06T05:58:36.316281Z",
     "iopub.status.busy": "2023-06-06T05:58:36.316120Z",
     "iopub.status.idle": "2023-06-06T05:58:37.611832Z",
     "shell.execute_reply": "2023-06-06T05:58:37.610585Z",
     "shell.execute_reply.started": "2023-06-06T05:58:36.316266Z"
    },
    "tags": []
   },
   "outputs": [],
   "source": [
    "response_url_00 = requests.get(url_00)"
   ]
  },
  {
   "cell_type": "code",
   "execution_count": 9,
   "id": "fefc5ff6-0789-4370-80d1-42a1aab38d0b",
   "metadata": {
    "execution": {
     "iopub.execute_input": "2023-06-06T05:58:37.614390Z",
     "iopub.status.busy": "2023-06-06T05:58:37.614017Z",
     "iopub.status.idle": "2023-06-06T05:58:37.626129Z",
     "shell.execute_reply": "2023-06-06T05:58:37.625594Z",
     "shell.execute_reply.started": "2023-06-06T05:58:37.614350Z"
    },
    "tags": []
   },
   "outputs": [
    {
     "name": "stdout",
     "output_type": "stream",
     "text": [
      "El archivo ZIP se ha descargado y descomprimido correctamente.\n"
     ]
    }
   ],
   "source": [
    "if response_url_00.status_code == 200:\n",
    "    # Crear un objeto ZipFile a partir de los datos de la respuesta\n",
    "    with zipfile.ZipFile(io.BytesIO(response_url_00.content), \"r\") as zip_url_00:\n",
    "        # Extraer todos los archivos del archivo ZIP en el directorio actual\n",
    "        zip_url_00.extractall(\"dataset\")\n",
    "\n",
    "    print(\"El archivo ZIP se ha descargado y descomprimido correctamente.\")\n",
    "else:\n",
    "    print(\"Error al descargar el archivo ZIP:\", response_url_00.status_code)"
   ]
  },
  {
   "cell_type": "code",
   "execution_count": 10,
   "id": "933e642f-6b87-4080-b6d4-a3dcc92e47b3",
   "metadata": {
    "execution": {
     "iopub.execute_input": "2023-06-06T05:58:37.627018Z",
     "iopub.status.busy": "2023-06-06T05:58:37.626819Z",
     "iopub.status.idle": "2023-06-06T05:58:37.630211Z",
     "shell.execute_reply": "2023-06-06T05:58:37.629580Z",
     "shell.execute_reply.started": "2023-06-06T05:58:37.626985Z"
    },
    "tags": []
   },
   "outputs": [],
   "source": [
    "# Ruta del archivo CSV\n",
    "\n",
    "csv_url_00 = \"dataset/API_SP.DYN.LE00.IN_DS2_es_csv_v2_5466462.csv\"\n",
    "\n",
    "# Crear una lista para almacenar las filas del archivo CSV\n",
    "rows_url_00 = []\n",
    "\n",
    "\n",
    "#API_SE.PRM.CMPT.ZS_DS2_es_csv_v2_5478942"
   ]
  },
  {
   "cell_type": "code",
   "execution_count": 11,
   "id": "56500448-a26f-42b3-b95e-031726a0ebc3",
   "metadata": {
    "execution": {
     "iopub.execute_input": "2023-06-06T05:58:37.631120Z",
     "iopub.status.busy": "2023-06-06T05:58:37.630929Z",
     "iopub.status.idle": "2023-06-06T05:58:37.643098Z",
     "shell.execute_reply": "2023-06-06T05:58:37.642482Z",
     "shell.execute_reply.started": "2023-06-06T05:58:37.631104Z"
    },
    "tags": []
   },
   "outputs": [],
   "source": [
    "# Leer el archivo CSV y almacenar las filas en la lista\n",
    "with open(csv_url_00, \"r\") as file_csv_url_00:\n",
    "    csv_reader_url_00 = csv.reader(file_csv_url_00)\n",
    "    rows_url_00 = list(csv_reader_url_00)\n"
   ]
  },
  {
   "cell_type": "code",
   "execution_count": 12,
   "id": "53576dc9-a1c9-41e2-b2c1-27b362861348",
   "metadata": {
    "execution": {
     "iopub.execute_input": "2023-06-06T05:58:37.643905Z",
     "iopub.status.busy": "2023-06-06T05:58:37.643710Z",
     "iopub.status.idle": "2023-06-06T05:58:37.651238Z",
     "shell.execute_reply": "2023-06-06T05:58:37.650714Z",
     "shell.execute_reply.started": "2023-06-06T05:58:37.643890Z"
    },
    "tags": []
   },
   "outputs": [],
   "source": [
    "# Eliminar las primeras 4 filas\n",
    "\n",
    "rows_url_00 = rows_url_00[3:]\n",
    "\n",
    "# Escribir las filas modificadas en un nuevo archivo CSV\n",
    "with open(\"dataset/data/data_00.csv\", \"w\", newline=\"\") as file_csv_url_00:\n",
    "    csv_writer_url_00 = csv.writer(file_csv_url_00)\n",
    "    csv_writer_url_00.writerows(rows_url_00)"
   ]
  },
  {
   "cell_type": "code",
   "execution_count": 13,
   "id": "6512ad8f-3a37-49c8-94bd-895e334ae742",
   "metadata": {
    "execution": {
     "iopub.execute_input": "2023-06-06T05:58:37.652067Z",
     "iopub.status.busy": "2023-06-06T05:58:37.651892Z",
     "iopub.status.idle": "2023-06-06T05:58:40.196750Z",
     "shell.execute_reply": "2023-06-06T05:58:40.196191Z",
     "shell.execute_reply.started": "2023-06-06T05:58:37.652052Z"
    },
    "tags": []
   },
   "outputs": [],
   "source": [
    "data_00 = spark.read.csv(\"dataset/data/data_00.csv\", header=True)"
   ]
  },
  {
   "cell_type": "code",
   "execution_count": 14,
   "id": "732d004e-a918-41a1-9fc2-33b98bfb7f66",
   "metadata": {
    "execution": {
     "iopub.execute_input": "2023-06-06T05:58:40.197606Z",
     "iopub.status.busy": "2023-06-06T05:58:40.197435Z",
     "iopub.status.idle": "2023-06-06T05:58:40.232470Z",
     "shell.execute_reply": "2023-06-06T05:58:40.231749Z",
     "shell.execute_reply.started": "2023-06-06T05:58:40.197591Z"
    },
    "tags": []
   },
   "outputs": [],
   "source": [
    "data_00 = data_00.drop(\"_c66\",\"_c67\")"
   ]
  },
  {
   "cell_type": "code",
   "execution_count": 15,
   "id": "20da272d-077f-4ebd-b2d7-b5875bbd512e",
   "metadata": {
    "execution": {
     "iopub.execute_input": "2023-06-06T05:58:40.233958Z",
     "iopub.status.busy": "2023-06-06T05:58:40.233401Z",
     "iopub.status.idle": "2023-06-06T05:58:41.281768Z",
     "shell.execute_reply": "2023-06-06T05:58:41.281234Z",
     "shell.execute_reply.started": "2023-06-06T05:58:40.233932Z"
    },
    "tags": []
   },
   "outputs": [
    {
     "name": "stderr",
     "output_type": "stream",
     "text": [
      "/usr/lib/python3.10/site-packages/pyspark/pandas/__init__.py:50: UserWarning: 'PYARROW_IGNORE_TIMEZONE' environment variable was not set. It is required to set this environment variable to '1' in both driver and executor sides if you use pyarrow>=2.0.0. pandas-on-Spark will set it for you but it does not work if there is a Spark context already launched.\n",
      "  warnings.warn(\n",
      "23/06/06 02:58:40 WARN package: Truncated the string representation of a plan since it was too large. This behavior can be adjusted by setting 'spark.sql.debug.maxToStringFields'.\n"
     ]
    },
    {
     "data": {
      "text/html": [
       "<div>\n",
       "<style scoped>\n",
       "    .dataframe tbody tr th:only-of-type {\n",
       "        vertical-align: middle;\n",
       "    }\n",
       "\n",
       "    .dataframe tbody tr th {\n",
       "        vertical-align: top;\n",
       "    }\n",
       "\n",
       "    .dataframe thead th {\n",
       "        text-align: right;\n",
       "    }\n",
       "</style>\n",
       "<table border=\"1\" class=\"dataframe\">\n",
       "  <thead>\n",
       "    <tr style=\"text-align: right;\">\n",
       "      <th></th>\n",
       "      <th>Country Name</th>\n",
       "      <th>Country Code</th>\n",
       "      <th>Indicator Name</th>\n",
       "      <th>Indicator Code</th>\n",
       "      <th>1960</th>\n",
       "      <th>1961</th>\n",
       "      <th>1962</th>\n",
       "      <th>1963</th>\n",
       "      <th>1964</th>\n",
       "      <th>1965</th>\n",
       "      <th>1966</th>\n",
       "      <th>1967</th>\n",
       "      <th>1968</th>\n",
       "      <th>1969</th>\n",
       "      <th>1970</th>\n",
       "      <th>1971</th>\n",
       "      <th>1972</th>\n",
       "      <th>1973</th>\n",
       "      <th>1974</th>\n",
       "      <th>1975</th>\n",
       "      <th>1976</th>\n",
       "      <th>1977</th>\n",
       "      <th>1978</th>\n",
       "      <th>1979</th>\n",
       "      <th>1980</th>\n",
       "      <th>1981</th>\n",
       "      <th>1982</th>\n",
       "      <th>1983</th>\n",
       "      <th>1984</th>\n",
       "      <th>1985</th>\n",
       "      <th>1986</th>\n",
       "      <th>1987</th>\n",
       "      <th>1988</th>\n",
       "      <th>1989</th>\n",
       "      <th>1990</th>\n",
       "      <th>1991</th>\n",
       "      <th>1992</th>\n",
       "      <th>1993</th>\n",
       "      <th>1994</th>\n",
       "      <th>1995</th>\n",
       "      <th>1996</th>\n",
       "      <th>1997</th>\n",
       "      <th>1998</th>\n",
       "      <th>1999</th>\n",
       "      <th>2000</th>\n",
       "      <th>2001</th>\n",
       "      <th>2002</th>\n",
       "      <th>2003</th>\n",
       "      <th>2004</th>\n",
       "      <th>2005</th>\n",
       "      <th>2006</th>\n",
       "      <th>2007</th>\n",
       "      <th>2008</th>\n",
       "      <th>2009</th>\n",
       "      <th>2010</th>\n",
       "      <th>2011</th>\n",
       "      <th>2012</th>\n",
       "      <th>2013</th>\n",
       "      <th>2014</th>\n",
       "      <th>2015</th>\n",
       "      <th>2016</th>\n",
       "      <th>2017</th>\n",
       "      <th>2018</th>\n",
       "      <th>2019</th>\n",
       "      <th>2020</th>\n",
       "      <th>2021</th>\n",
       "      <th>2022</th>\n",
       "    </tr>\n",
       "  </thead>\n",
       "  <tbody>\n",
       "    <tr>\n",
       "      <th>0</th>\n",
       "      <td>Aruba</td>\n",
       "      <td>ABW</td>\n",
       "      <td>Esperanza de vida al nacer, total (años)</td>\n",
       "      <td>SP.DYN.LE00.IN</td>\n",
       "      <td>64.152</td>\n",
       "      <td>64.537</td>\n",
       "      <td>64.752</td>\n",
       "      <td>65.132</td>\n",
       "      <td>65.294</td>\n",
       "      <td>65.502</td>\n",
       "      <td>66.063</td>\n",
       "      <td>66.439</td>\n",
       "      <td>66.757</td>\n",
       "      <td>67.168</td>\n",
       "      <td>67.583</td>\n",
       "      <td>67.975</td>\n",
       "      <td>68.577</td>\n",
       "      <td>69.092</td>\n",
       "      <td>69.503</td>\n",
       "      <td>69.762</td>\n",
       "      <td>70.035</td>\n",
       "      <td>70.264</td>\n",
       "      <td>70.494</td>\n",
       "      <td>70.778</td>\n",
       "      <td>71.066</td>\n",
       "      <td>71.722</td>\n",
       "      <td>71.959</td>\n",
       "      <td>72.105</td>\n",
       "      <td>72.251</td>\n",
       "      <td>72.388</td>\n",
       "      <td>72.462</td>\n",
       "      <td>72.789</td>\n",
       "      <td>73.047</td>\n",
       "      <td>73.023</td>\n",
       "      <td>73.076</td>\n",
       "      <td>73.1</td>\n",
       "      <td>73.179</td>\n",
       "      <td>73.225</td>\n",
       "      <td>73.272</td>\n",
       "      <td>73.349</td>\n",
       "      <td>73.448</td>\n",
       "      <td>73.452</td>\n",
       "      <td>73.491</td>\n",
       "      <td>73.561</td>\n",
       "      <td>73.569</td>\n",
       "      <td>73.647</td>\n",
       "      <td>73.726</td>\n",
       "      <td>73.752</td>\n",
       "      <td>73.576</td>\n",
       "      <td>73.811</td>\n",
       "      <td>74.026</td>\n",
       "      <td>74.21</td>\n",
       "      <td>74.147</td>\n",
       "      <td>74.56</td>\n",
       "      <td>75.404</td>\n",
       "      <td>75.465</td>\n",
       "      <td>75.531</td>\n",
       "      <td>75.636</td>\n",
       "      <td>75.601</td>\n",
       "      <td>75.683</td>\n",
       "      <td>75.617</td>\n",
       "      <td>75.903</td>\n",
       "      <td>76.072</td>\n",
       "      <td>76.248</td>\n",
       "      <td>75.723</td>\n",
       "      <td>74.626</td>\n",
       "      <td>None</td>\n",
       "    </tr>\n",
       "    <tr>\n",
       "      <th>1</th>\n",
       "      <td>None</td>\n",
       "      <td>AFE</td>\n",
       "      <td>Esperanza de vida al nacer, total (años)</td>\n",
       "      <td>SP.DYN.LE00.IN</td>\n",
       "      <td>44.0855518454965</td>\n",
       "      <td>44.386696928982</td>\n",
       "      <td>44.7521818697994</td>\n",
       "      <td>44.9131593023895</td>\n",
       "      <td>45.4790430350925</td>\n",
       "      <td>45.4983377851245</td>\n",
       "      <td>45.249104629175</td>\n",
       "      <td>45.9249050028634</td>\n",
       "      <td>46.2230965735857</td>\n",
       "      <td>46.4323030920124</td>\n",
       "      <td>46.7184845197579</td>\n",
       "      <td>47.1929422628056</td>\n",
       "      <td>46.8973892484582</td>\n",
       "      <td>47.6923174333564</td>\n",
       "      <td>47.5980637543936</td>\n",
       "      <td>47.7598869102852</td>\n",
       "      <td>48.3495880515137</td>\n",
       "      <td>48.6359051941044</td>\n",
       "      <td>48.7636045995518</td>\n",
       "      <td>49.261335737194</td>\n",
       "      <td>49.6365376633939</td>\n",
       "      <td>50.0570732913929</td>\n",
       "      <td>50.2968491379812</td>\n",
       "      <td>48.7033305923076</td>\n",
       "      <td>48.6526645552392</td>\n",
       "      <td>49.0116307202704</td>\n",
       "      <td>49.6397190079537</td>\n",
       "      <td>50.0758875408274</td>\n",
       "      <td>49.3597265265243</td>\n",
       "      <td>50.6840997852884</td>\n",
       "      <td>50.6077275337211</td>\n",
       "      <td>50.3904596093263</td>\n",
       "      <td>49.9621136475362</td>\n",
       "      <td>50.2736279712378</td>\n",
       "      <td>50.882581820857</td>\n",
       "      <td>51.0019252899341</td>\n",
       "      <td>50.8106889705148</td>\n",
       "      <td>50.9742313589474</td>\n",
       "      <td>50.3259127442221</td>\n",
       "      <td>51.2378519083819</td>\n",
       "      <td>51.9644813247726</td>\n",
       "      <td>52.189648214333</td>\n",
       "      <td>52.540794004192</td>\n",
       "      <td>53.0220345898659</td>\n",
       "      <td>53.5454571098034</td>\n",
       "      <td>54.2196508058582</td>\n",
       "      <td>55.1505461100496</td>\n",
       "      <td>55.9338017149142</td>\n",
       "      <td>56.6804188973962</td>\n",
       "      <td>57.6208515442432</td>\n",
       "      <td>58.4111497501441</td>\n",
       "      <td>59.2932713889337</td>\n",
       "      <td>60.0507802468673</td>\n",
       "      <td>60.709863140516</td>\n",
       "      <td>61.337911447657</td>\n",
       "      <td>61.8564524336049</td>\n",
       "      <td>62.4440448894169</td>\n",
       "      <td>62.9223846035263</td>\n",
       "      <td>63.3658579512383</td>\n",
       "      <td>63.7556736140197</td>\n",
       "      <td>63.3138559861117</td>\n",
       "      <td>62.4545852699516</td>\n",
       "      <td>None</td>\n",
       "    </tr>\n",
       "    <tr>\n",
       "      <th>2</th>\n",
       "      <td>Afganistán</td>\n",
       "      <td>AFG</td>\n",
       "      <td>Esperanza de vida al nacer, total (años)</td>\n",
       "      <td>SP.DYN.LE00.IN</td>\n",
       "      <td>32.535</td>\n",
       "      <td>33.068</td>\n",
       "      <td>33.547</td>\n",
       "      <td>34.016</td>\n",
       "      <td>34.494</td>\n",
       "      <td>34.953</td>\n",
       "      <td>35.453</td>\n",
       "      <td>35.924</td>\n",
       "      <td>36.418</td>\n",
       "      <td>36.91</td>\n",
       "      <td>37.418</td>\n",
       "      <td>37.923</td>\n",
       "      <td>38.444</td>\n",
       "      <td>39.003</td>\n",
       "      <td>39.55</td>\n",
       "      <td>40.1</td>\n",
       "      <td>40.645</td>\n",
       "      <td>41.228</td>\n",
       "      <td>40.271</td>\n",
       "      <td>39.086</td>\n",
       "      <td>39.618</td>\n",
       "      <td>40.164</td>\n",
       "      <td>37.766</td>\n",
       "      <td>38.187</td>\n",
       "      <td>33.329</td>\n",
       "      <td>33.55</td>\n",
       "      <td>39.396</td>\n",
       "      <td>39.844</td>\n",
       "      <td>43.958</td>\n",
       "      <td>45.158</td>\n",
       "      <td>45.967</td>\n",
       "      <td>46.663</td>\n",
       "      <td>47.596</td>\n",
       "      <td>51.466</td>\n",
       "      <td>51.495</td>\n",
       "      <td>52.544</td>\n",
       "      <td>53.243</td>\n",
       "      <td>53.634</td>\n",
       "      <td>52.943</td>\n",
       "      <td>54.846</td>\n",
       "      <td>55.298</td>\n",
       "      <td>55.798</td>\n",
       "      <td>56.454</td>\n",
       "      <td>57.344</td>\n",
       "      <td>57.944</td>\n",
       "      <td>58.361</td>\n",
       "      <td>58.684</td>\n",
       "      <td>59.111</td>\n",
       "      <td>59.852</td>\n",
       "      <td>60.364</td>\n",
       "      <td>60.851</td>\n",
       "      <td>61.419</td>\n",
       "      <td>61.923</td>\n",
       "      <td>62.417</td>\n",
       "      <td>62.545</td>\n",
       "      <td>62.659</td>\n",
       "      <td>63.136</td>\n",
       "      <td>63.016</td>\n",
       "      <td>63.081</td>\n",
       "      <td>63.565</td>\n",
       "      <td>62.575</td>\n",
       "      <td>61.982</td>\n",
       "      <td>None</td>\n",
       "    </tr>\n",
       "  </tbody>\n",
       "</table>\n",
       "</div>"
      ],
      "text/plain": [
       "  Country Name Country Code                            Indicator Name  Indicator Code              1960             1961              1962              1963              1964              1965             1966              1967              1968              1969              1970              1971              1972              1973              1974              1975              1976              1977              1978             1979              1980              1981              1982              1983              1984              1985              1986              1987              1988              1989              1990              1991              1992              1993             1994              1995              1996              1997              1998              1999              2000             2001             2002              2003              2004              2005              2006              2007              2008              2009              2010              2011              2012             2013             2014              2015              2016              2017              2018              2019              2020              2021  2022\n",
       "0        Aruba          ABW  Esperanza de vida al nacer, total (años)  SP.DYN.LE00.IN            64.152           64.537            64.752            65.132            65.294            65.502           66.063            66.439            66.757            67.168            67.583            67.975            68.577            69.092            69.503            69.762            70.035            70.264            70.494           70.778            71.066            71.722            71.959            72.105            72.251            72.388            72.462            72.789            73.047            73.023            73.076              73.1            73.179            73.225           73.272            73.349            73.448            73.452            73.491            73.561            73.569           73.647           73.726            73.752            73.576            73.811            74.026             74.21            74.147             74.56            75.404            75.465            75.531           75.636           75.601            75.683            75.617            75.903            76.072            76.248            75.723            74.626  None\n",
       "1         None          AFE  Esperanza de vida al nacer, total (años)  SP.DYN.LE00.IN  44.0855518454965  44.386696928982  44.7521818697994  44.9131593023895  45.4790430350925  45.4983377851245  45.249104629175  45.9249050028634  46.2230965735857  46.4323030920124  46.7184845197579  47.1929422628056  46.8973892484582  47.6923174333564  47.5980637543936  47.7598869102852  48.3495880515137  48.6359051941044  48.7636045995518  49.261335737194  49.6365376633939  50.0570732913929  50.2968491379812  48.7033305923076  48.6526645552392  49.0116307202704  49.6397190079537  50.0758875408274  49.3597265265243  50.6840997852884  50.6077275337211  50.3904596093263  49.9621136475362  50.2736279712378  50.882581820857  51.0019252899341  50.8106889705148  50.9742313589474  50.3259127442221  51.2378519083819  51.9644813247726  52.189648214333  52.540794004192  53.0220345898659  53.5454571098034  54.2196508058582  55.1505461100496  55.9338017149142  56.6804188973962  57.6208515442432  58.4111497501441  59.2932713889337  60.0507802468673  60.709863140516  61.337911447657  61.8564524336049  62.4440448894169  62.9223846035263  63.3658579512383  63.7556736140197  63.3138559861117  62.4545852699516  None\n",
       "2   Afganistán          AFG  Esperanza de vida al nacer, total (años)  SP.DYN.LE00.IN            32.535           33.068            33.547            34.016            34.494            34.953           35.453            35.924            36.418             36.91            37.418            37.923            38.444            39.003             39.55              40.1            40.645            41.228            40.271           39.086            39.618            40.164            37.766            38.187            33.329             33.55            39.396            39.844            43.958            45.158            45.967            46.663            47.596            51.466           51.495            52.544            53.243            53.634            52.943            54.846            55.298           55.798           56.454            57.344            57.944            58.361            58.684            59.111            59.852            60.364            60.851            61.419            61.923           62.417           62.545            62.659            63.136            63.016            63.081            63.565            62.575            61.982  None"
      ]
     },
     "execution_count": 15,
     "metadata": {},
     "output_type": "execute_result"
    }
   ],
   "source": [
    "data_00.limit(3).pandas_api()\n"
   ]
  },
  {
   "cell_type": "code",
   "execution_count": 16,
   "id": "8caedda6-d947-4ba1-adb2-e1d32afe03a2",
   "metadata": {
    "execution": {
     "iopub.execute_input": "2023-06-06T05:58:41.282554Z",
     "iopub.status.busy": "2023-06-06T05:58:41.282376Z",
     "iopub.status.idle": "2023-06-06T05:58:41.389535Z",
     "shell.execute_reply": "2023-06-06T05:58:41.388511Z",
     "shell.execute_reply.started": "2023-06-06T05:58:41.282529Z"
    },
    "tags": []
   },
   "outputs": [],
   "source": [
    "data_00 = data_00.selectExpr('`Country Name`', '`Country Code`', \"`Indicator Name`\", \"`Indicator Code`\", \"stack(63, \\\n",
    "'1960', `1960`, '1961', `1961`, '1962', `1962`, '1963', `1963`, '1964', `1964`, \\\n",
    "'1965', `1965`, '1966', `1966`, '1967', `1967`, '1968', `1968`, '1969', `1969`, \\\n",
    "'1970', `1970`, '1971', `1971`, '1972', `1972`, '1973', `1973`, '1974', `1974`, \\\n",
    "'1975', `1975`, '1976', `1976`, '1977', `1977`, '1978', `1978`, '1979', `1979`, \\\n",
    "'1980', `1980`, '1981', `1981`, '1982', `1982`, '1983', `1983`, '1984', `1984`, \\\n",
    "'1985', `1985`, '1986', `1986`, '1987', `1987`, '1988', `1988`, '1989', `1989`, \\\n",
    "'1990', `1990`, '1991', `1991`, '1992', `1992`, '1993', `1993`, '1994', `1994`, \\\n",
    "'1995', `1995`, '1996', `1996`, '1997', `1997`, '1998', `1998`, '1999', `1999`, \\\n",
    "'2000', `2000`, '2001', `2001`, '2002', `2002`, '2003', `2003`, '2004', `2004`, \\\n",
    "'2005', `2005`, '2006', `2006`, '2007', `2007`, '2008', `2008`, '2009', `2009`, \\\n",
    "'2010', `2010`, '2011', `2011`, '2012', `2012`, '2013', `2013`, '2014', `2014`, \\\n",
    "'2015', `2015`, '2016', `2016`, '2017', `2017`, '2018', `2018`, '2019', `2019`, \\\n",
    "'2020', `2020`, '2021', `2021`, '2022', `2022`) as (Year, life_expatancy)\")"
   ]
  },
  {
   "cell_type": "code",
   "execution_count": 351,
   "id": "f5c3cdc2-c1c7-4345-899d-d2d8355a6412",
   "metadata": {
    "execution": {
     "iopub.execute_input": "2023-06-06T07:07:27.808428Z",
     "iopub.status.busy": "2023-06-06T07:07:27.808152Z",
     "iopub.status.idle": "2023-06-06T07:07:28.081444Z",
     "shell.execute_reply": "2023-06-06T07:07:28.080699Z",
     "shell.execute_reply.started": "2023-06-06T07:07:27.808403Z"
    },
    "tags": []
   },
   "outputs": [
    {
     "ename": "ConnectionRefusedError",
     "evalue": "[Errno 111] Connection refused",
     "output_type": "error",
     "traceback": [
      "\u001b[0;31m---------------------------------------------------------------------------\u001b[0m",
      "\u001b[0;31mConnectionRefusedError\u001b[0m                    Traceback (most recent call last)",
      "Cell \u001b[0;32mIn[351], line 1\u001b[0m\n\u001b[0;32m----> 1\u001b[0m data_00 \u001b[38;5;241m=\u001b[39m data_00\u001b[38;5;241m.\u001b[39mfilter(\u001b[43mcol\u001b[49m\u001b[43m(\u001b[49m\u001b[38;5;124;43m\"\u001b[39;49m\u001b[38;5;124;43mCountry Name\u001b[39;49m\u001b[38;5;124;43m\"\u001b[39;49m\u001b[43m)\u001b[49m\u001b[38;5;241m.\u001b[39misin(americans_countries) \u001b[38;5;241m|\u001b[39m col(\u001b[38;5;124m\"\u001b[39m\u001b[38;5;124mCountry Name\u001b[39m\u001b[38;5;124m\"\u001b[39m)\u001b[38;5;241m.\u001b[39misin(oceanic_countries))\n\u001b[1;32m      2\u001b[0m data_00 \u001b[38;5;241m=\u001b[39m data_00\u001b[38;5;241m.\u001b[39mfilter(col(\u001b[38;5;124m\"\u001b[39m\u001b[38;5;124mYear\u001b[39m\u001b[38;5;124m\"\u001b[39m) \u001b[38;5;241m>\u001b[39m\u001b[38;5;241m=\u001b[39m \u001b[38;5;124m\"\u001b[39m\u001b[38;5;124m1985\u001b[39m\u001b[38;5;124m\"\u001b[39m)\n",
      "File \u001b[0;32m/usr/lib/python3.10/site-packages/pyspark/sql/utils.py:159\u001b[0m, in \u001b[0;36mtry_remote_functions.<locals>.wrapped\u001b[0;34m(*args, **kwargs)\u001b[0m\n\u001b[1;32m    157\u001b[0m     \u001b[38;5;28;01mreturn\u001b[39;00m \u001b[38;5;28mgetattr\u001b[39m(functions, f\u001b[38;5;241m.\u001b[39m\u001b[38;5;18m__name__\u001b[39m)(\u001b[38;5;241m*\u001b[39margs, \u001b[38;5;241m*\u001b[39m\u001b[38;5;241m*\u001b[39mkwargs)\n\u001b[1;32m    158\u001b[0m \u001b[38;5;28;01melse\u001b[39;00m:\n\u001b[0;32m--> 159\u001b[0m     \u001b[38;5;28;01mreturn\u001b[39;00m \u001b[43mf\u001b[49m\u001b[43m(\u001b[49m\u001b[38;5;241;43m*\u001b[39;49m\u001b[43margs\u001b[49m\u001b[43m,\u001b[49m\u001b[43m \u001b[49m\u001b[38;5;241;43m*\u001b[39;49m\u001b[38;5;241;43m*\u001b[39;49m\u001b[43mkwargs\u001b[49m\u001b[43m)\u001b[49m\n",
      "File \u001b[0;32m/usr/lib/python3.10/site-packages/pyspark/sql/functions.py:221\u001b[0m, in \u001b[0;36mcol\u001b[0;34m(col)\u001b[0m\n\u001b[1;32m    194\u001b[0m \u001b[38;5;129m@try_remote_functions\u001b[39m\n\u001b[1;32m    195\u001b[0m \u001b[38;5;28;01mdef\u001b[39;00m \u001b[38;5;21mcol\u001b[39m(col: \u001b[38;5;28mstr\u001b[39m) \u001b[38;5;241m-\u001b[39m\u001b[38;5;241m>\u001b[39m Column:\n\u001b[1;32m    196\u001b[0m \u001b[38;5;250m    \u001b[39m\u001b[38;5;124;03m\"\"\"\u001b[39;00m\n\u001b[1;32m    197\u001b[0m \u001b[38;5;124;03m    Returns a :class:`~pyspark.sql.Column` based on the given column name.\u001b[39;00m\n\u001b[1;32m    198\u001b[0m \n\u001b[0;32m   (...)\u001b[0m\n\u001b[1;32m    219\u001b[0m \u001b[38;5;124;03m    Column<'x'>\u001b[39;00m\n\u001b[1;32m    220\u001b[0m \u001b[38;5;124;03m    \"\"\"\u001b[39;00m\n\u001b[0;32m--> 221\u001b[0m     \u001b[38;5;28;01mreturn\u001b[39;00m \u001b[43m_invoke_function\u001b[49m\u001b[43m(\u001b[49m\u001b[38;5;124;43m\"\u001b[39;49m\u001b[38;5;124;43mcol\u001b[39;49m\u001b[38;5;124;43m\"\u001b[39;49m\u001b[43m,\u001b[49m\u001b[43m \u001b[49m\u001b[43mcol\u001b[49m\u001b[43m)\u001b[49m\n",
      "File \u001b[0;32m/usr/lib/python3.10/site-packages/pyspark/sql/functions.py:94\u001b[0m, in \u001b[0;36m_invoke_function\u001b[0;34m(name, *args)\u001b[0m\n\u001b[1;32m     89\u001b[0m \u001b[38;5;250m\u001b[39m\u001b[38;5;124;03m\"\"\"\u001b[39;00m\n\u001b[1;32m     90\u001b[0m \u001b[38;5;124;03mInvokes JVM function identified by name with args\u001b[39;00m\n\u001b[1;32m     91\u001b[0m \u001b[38;5;124;03mand wraps the result with :class:`~pyspark.sql.Column`.\u001b[39;00m\n\u001b[1;32m     92\u001b[0m \u001b[38;5;124;03m\"\"\"\u001b[39;00m\n\u001b[1;32m     93\u001b[0m \u001b[38;5;28;01massert\u001b[39;00m SparkContext\u001b[38;5;241m.\u001b[39m_active_spark_context \u001b[38;5;129;01mis\u001b[39;00m \u001b[38;5;129;01mnot\u001b[39;00m \u001b[38;5;28;01mNone\u001b[39;00m\n\u001b[0;32m---> 94\u001b[0m jf \u001b[38;5;241m=\u001b[39m \u001b[43m_get_jvm_function\u001b[49m\u001b[43m(\u001b[49m\u001b[43mname\u001b[49m\u001b[43m,\u001b[49m\u001b[43m \u001b[49m\u001b[43mSparkContext\u001b[49m\u001b[38;5;241;43m.\u001b[39;49m\u001b[43m_active_spark_context\u001b[49m\u001b[43m)\u001b[49m\n\u001b[1;32m     95\u001b[0m \u001b[38;5;28;01mreturn\u001b[39;00m Column(jf(\u001b[38;5;241m*\u001b[39margs))\n",
      "File \u001b[0;32m/usr/lib/python3.10/site-packages/pyspark/sql/functions.py:85\u001b[0m, in \u001b[0;36m_get_jvm_function\u001b[0;34m(name, sc)\u001b[0m\n\u001b[1;32m     80\u001b[0m \u001b[38;5;250m\u001b[39m\u001b[38;5;124;03m\"\"\"\u001b[39;00m\n\u001b[1;32m     81\u001b[0m \u001b[38;5;124;03mRetrieves JVM function identified by name from\u001b[39;00m\n\u001b[1;32m     82\u001b[0m \u001b[38;5;124;03mJava gateway associated with sc.\u001b[39;00m\n\u001b[1;32m     83\u001b[0m \u001b[38;5;124;03m\"\"\"\u001b[39;00m\n\u001b[1;32m     84\u001b[0m \u001b[38;5;28;01massert\u001b[39;00m sc\u001b[38;5;241m.\u001b[39m_jvm \u001b[38;5;129;01mis\u001b[39;00m \u001b[38;5;129;01mnot\u001b[39;00m \u001b[38;5;28;01mNone\u001b[39;00m\n\u001b[0;32m---> 85\u001b[0m \u001b[38;5;28;01mreturn\u001b[39;00m \u001b[38;5;28mgetattr\u001b[39m(\u001b[43msc\u001b[49m\u001b[38;5;241;43m.\u001b[39;49m\u001b[43m_jvm\u001b[49m\u001b[38;5;241;43m.\u001b[39;49m\u001b[43mfunctions\u001b[49m, name)\n",
      "File \u001b[0;32m/usr/lib/python3.10/site-packages/py4j/java_gateway.py:1712\u001b[0m, in \u001b[0;36mJVMView.__getattr__\u001b[0;34m(self, name)\u001b[0m\n\u001b[1;32m   1709\u001b[0m \u001b[38;5;28;01mif\u001b[39;00m name \u001b[38;5;241m==\u001b[39m UserHelpAutoCompletion\u001b[38;5;241m.\u001b[39mKEY:\n\u001b[1;32m   1710\u001b[0m     \u001b[38;5;28;01mreturn\u001b[39;00m UserHelpAutoCompletion()\n\u001b[0;32m-> 1712\u001b[0m answer \u001b[38;5;241m=\u001b[39m \u001b[38;5;28;43mself\u001b[39;49m\u001b[38;5;241;43m.\u001b[39;49m\u001b[43m_gateway_client\u001b[49m\u001b[38;5;241;43m.\u001b[39;49m\u001b[43msend_command\u001b[49m\u001b[43m(\u001b[49m\n\u001b[1;32m   1713\u001b[0m \u001b[43m    \u001b[49m\u001b[43mproto\u001b[49m\u001b[38;5;241;43m.\u001b[39;49m\u001b[43mREFLECTION_COMMAND_NAME\u001b[49m\u001b[43m \u001b[49m\u001b[38;5;241;43m+\u001b[39;49m\n\u001b[1;32m   1714\u001b[0m \u001b[43m    \u001b[49m\u001b[43mproto\u001b[49m\u001b[38;5;241;43m.\u001b[39;49m\u001b[43mREFL_GET_UNKNOWN_SUB_COMMAND_NAME\u001b[49m\u001b[43m \u001b[49m\u001b[38;5;241;43m+\u001b[39;49m\u001b[43m \u001b[49m\u001b[43mname\u001b[49m\u001b[43m \u001b[49m\u001b[38;5;241;43m+\u001b[39;49m\u001b[43m \u001b[49m\u001b[38;5;124;43m\"\u001b[39;49m\u001b[38;5;130;43;01m\\n\u001b[39;49;00m\u001b[38;5;124;43m\"\u001b[39;49m\u001b[43m \u001b[49m\u001b[38;5;241;43m+\u001b[39;49m\u001b[43m \u001b[49m\u001b[38;5;28;43mself\u001b[39;49m\u001b[38;5;241;43m.\u001b[39;49m\u001b[43m_id\u001b[49m\u001b[43m \u001b[49m\u001b[38;5;241;43m+\u001b[39;49m\n\u001b[1;32m   1715\u001b[0m \u001b[43m    \u001b[49m\u001b[38;5;124;43m\"\u001b[39;49m\u001b[38;5;130;43;01m\\n\u001b[39;49;00m\u001b[38;5;124;43m\"\u001b[39;49m\u001b[43m \u001b[49m\u001b[38;5;241;43m+\u001b[39;49m\u001b[43m \u001b[49m\u001b[43mproto\u001b[49m\u001b[38;5;241;43m.\u001b[39;49m\u001b[43mEND_COMMAND_PART\u001b[49m\u001b[43m)\u001b[49m\n\u001b[1;32m   1716\u001b[0m \u001b[38;5;28;01mif\u001b[39;00m answer \u001b[38;5;241m==\u001b[39m proto\u001b[38;5;241m.\u001b[39mSUCCESS_PACKAGE:\n\u001b[1;32m   1717\u001b[0m     \u001b[38;5;28;01mreturn\u001b[39;00m JavaPackage(name, \u001b[38;5;28mself\u001b[39m\u001b[38;5;241m.\u001b[39m_gateway_client, jvm_id\u001b[38;5;241m=\u001b[39m\u001b[38;5;28mself\u001b[39m\u001b[38;5;241m.\u001b[39m_id)\n",
      "File \u001b[0;32m/usr/lib/python3.10/site-packages/py4j/java_gateway.py:1036\u001b[0m, in \u001b[0;36mGatewayClient.send_command\u001b[0;34m(self, command, retry, binary)\u001b[0m\n\u001b[1;32m   1015\u001b[0m \u001b[38;5;28;01mdef\u001b[39;00m \u001b[38;5;21msend_command\u001b[39m(\u001b[38;5;28mself\u001b[39m, command, retry\u001b[38;5;241m=\u001b[39m\u001b[38;5;28;01mTrue\u001b[39;00m, binary\u001b[38;5;241m=\u001b[39m\u001b[38;5;28;01mFalse\u001b[39;00m):\n\u001b[1;32m   1016\u001b[0m \u001b[38;5;250m    \u001b[39m\u001b[38;5;124;03m\"\"\"Sends a command to the JVM. This method is not intended to be\u001b[39;00m\n\u001b[1;32m   1017\u001b[0m \u001b[38;5;124;03m       called directly by Py4J users. It is usually called by\u001b[39;00m\n\u001b[1;32m   1018\u001b[0m \u001b[38;5;124;03m       :class:`JavaMember` instances.\u001b[39;00m\n\u001b[0;32m   (...)\u001b[0m\n\u001b[1;32m   1034\u001b[0m \u001b[38;5;124;03m     if `binary` is `True`.\u001b[39;00m\n\u001b[1;32m   1035\u001b[0m \u001b[38;5;124;03m    \"\"\"\u001b[39;00m\n\u001b[0;32m-> 1036\u001b[0m     connection \u001b[38;5;241m=\u001b[39m \u001b[38;5;28;43mself\u001b[39;49m\u001b[38;5;241;43m.\u001b[39;49m\u001b[43m_get_connection\u001b[49m\u001b[43m(\u001b[49m\u001b[43m)\u001b[49m\n\u001b[1;32m   1037\u001b[0m     \u001b[38;5;28;01mtry\u001b[39;00m:\n\u001b[1;32m   1038\u001b[0m         response \u001b[38;5;241m=\u001b[39m connection\u001b[38;5;241m.\u001b[39msend_command(command)\n",
      "File \u001b[0;32m/usr/lib/python3.10/site-packages/py4j/clientserver.py:284\u001b[0m, in \u001b[0;36mJavaClient._get_connection\u001b[0;34m(self)\u001b[0m\n\u001b[1;32m    281\u001b[0m     \u001b[38;5;28;01mpass\u001b[39;00m\n\u001b[1;32m    283\u001b[0m \u001b[38;5;28;01mif\u001b[39;00m connection \u001b[38;5;129;01mis\u001b[39;00m \u001b[38;5;28;01mNone\u001b[39;00m \u001b[38;5;129;01mor\u001b[39;00m connection\u001b[38;5;241m.\u001b[39msocket \u001b[38;5;129;01mis\u001b[39;00m \u001b[38;5;28;01mNone\u001b[39;00m:\n\u001b[0;32m--> 284\u001b[0m     connection \u001b[38;5;241m=\u001b[39m \u001b[38;5;28;43mself\u001b[39;49m\u001b[38;5;241;43m.\u001b[39;49m\u001b[43m_create_new_connection\u001b[49m\u001b[43m(\u001b[49m\u001b[43m)\u001b[49m\n\u001b[1;32m    285\u001b[0m \u001b[38;5;28;01mreturn\u001b[39;00m connection\n",
      "File \u001b[0;32m/usr/lib/python3.10/site-packages/py4j/clientserver.py:291\u001b[0m, in \u001b[0;36mJavaClient._create_new_connection\u001b[0;34m(self)\u001b[0m\n\u001b[1;32m    287\u001b[0m \u001b[38;5;28;01mdef\u001b[39;00m \u001b[38;5;21m_create_new_connection\u001b[39m(\u001b[38;5;28mself\u001b[39m):\n\u001b[1;32m    288\u001b[0m     connection \u001b[38;5;241m=\u001b[39m ClientServerConnection(\n\u001b[1;32m    289\u001b[0m         \u001b[38;5;28mself\u001b[39m\u001b[38;5;241m.\u001b[39mjava_parameters, \u001b[38;5;28mself\u001b[39m\u001b[38;5;241m.\u001b[39mpython_parameters,\n\u001b[1;32m    290\u001b[0m         \u001b[38;5;28mself\u001b[39m\u001b[38;5;241m.\u001b[39mgateway_property, \u001b[38;5;28mself\u001b[39m)\n\u001b[0;32m--> 291\u001b[0m     \u001b[43mconnection\u001b[49m\u001b[38;5;241;43m.\u001b[39;49m\u001b[43mconnect_to_java_server\u001b[49m\u001b[43m(\u001b[49m\u001b[43m)\u001b[49m\n\u001b[1;32m    292\u001b[0m     \u001b[38;5;28mself\u001b[39m\u001b[38;5;241m.\u001b[39mset_thread_connection(connection)\n\u001b[1;32m    293\u001b[0m     \u001b[38;5;28;01mreturn\u001b[39;00m connection\n",
      "File \u001b[0;32m/usr/lib/python3.10/site-packages/py4j/clientserver.py:438\u001b[0m, in \u001b[0;36mClientServerConnection.connect_to_java_server\u001b[0;34m(self)\u001b[0m\n\u001b[1;32m    435\u001b[0m \u001b[38;5;28;01mif\u001b[39;00m \u001b[38;5;28mself\u001b[39m\u001b[38;5;241m.\u001b[39mssl_context:\n\u001b[1;32m    436\u001b[0m     \u001b[38;5;28mself\u001b[39m\u001b[38;5;241m.\u001b[39msocket \u001b[38;5;241m=\u001b[39m \u001b[38;5;28mself\u001b[39m\u001b[38;5;241m.\u001b[39mssl_context\u001b[38;5;241m.\u001b[39mwrap_socket(\n\u001b[1;32m    437\u001b[0m         \u001b[38;5;28mself\u001b[39m\u001b[38;5;241m.\u001b[39msocket, server_hostname\u001b[38;5;241m=\u001b[39m\u001b[38;5;28mself\u001b[39m\u001b[38;5;241m.\u001b[39mjava_address)\n\u001b[0;32m--> 438\u001b[0m \u001b[38;5;28;43mself\u001b[39;49m\u001b[38;5;241;43m.\u001b[39;49m\u001b[43msocket\u001b[49m\u001b[38;5;241;43m.\u001b[39;49m\u001b[43mconnect\u001b[49m\u001b[43m(\u001b[49m\u001b[43m(\u001b[49m\u001b[38;5;28;43mself\u001b[39;49m\u001b[38;5;241;43m.\u001b[39;49m\u001b[43mjava_address\u001b[49m\u001b[43m,\u001b[49m\u001b[43m \u001b[49m\u001b[38;5;28;43mself\u001b[39;49m\u001b[38;5;241;43m.\u001b[39;49m\u001b[43mjava_port\u001b[49m\u001b[43m)\u001b[49m\u001b[43m)\u001b[49m\n\u001b[1;32m    439\u001b[0m \u001b[38;5;28mself\u001b[39m\u001b[38;5;241m.\u001b[39mstream \u001b[38;5;241m=\u001b[39m \u001b[38;5;28mself\u001b[39m\u001b[38;5;241m.\u001b[39msocket\u001b[38;5;241m.\u001b[39mmakefile(\u001b[38;5;124m\"\u001b[39m\u001b[38;5;124mrb\u001b[39m\u001b[38;5;124m\"\u001b[39m)\n\u001b[1;32m    440\u001b[0m \u001b[38;5;28mself\u001b[39m\u001b[38;5;241m.\u001b[39mis_connected \u001b[38;5;241m=\u001b[39m \u001b[38;5;28;01mTrue\u001b[39;00m\n",
      "\u001b[0;31mConnectionRefusedError\u001b[0m: [Errno 111] Connection refused"
     ]
    }
   ],
   "source": [
    "data_00 = data_00.filter(col(\"Country Name\").isin(americans_countries) | col(\"Country Name\").isin(oceanic_countries))\n",
    "data_00 = data_00.filter(col(\"Year\") >= \"1985\")"
   ]
  },
  {
   "cell_type": "code",
   "execution_count": 17,
   "id": "29a085bd-5493-45fd-9a70-c43ecec24db0",
   "metadata": {
    "execution": {
     "iopub.execute_input": "2023-06-06T05:58:41.391025Z",
     "iopub.status.busy": "2023-06-06T05:58:41.390623Z",
     "iopub.status.idle": "2023-06-06T05:58:41.675886Z",
     "shell.execute_reply": "2023-06-06T05:58:41.675231Z",
     "shell.execute_reply.started": "2023-06-06T05:58:41.390995Z"
    },
    "tags": []
   },
   "outputs": [
    {
     "data": {
      "text/html": [
       "<div>\n",
       "<style scoped>\n",
       "    .dataframe tbody tr th:only-of-type {\n",
       "        vertical-align: middle;\n",
       "    }\n",
       "\n",
       "    .dataframe tbody tr th {\n",
       "        vertical-align: top;\n",
       "    }\n",
       "\n",
       "    .dataframe thead th {\n",
       "        text-align: right;\n",
       "    }\n",
       "</style>\n",
       "<table border=\"1\" class=\"dataframe\">\n",
       "  <thead>\n",
       "    <tr style=\"text-align: right;\">\n",
       "      <th></th>\n",
       "      <th>Country Name</th>\n",
       "      <th>Country Code</th>\n",
       "      <th>Indicator Name</th>\n",
       "      <th>Indicator Code</th>\n",
       "      <th>Year</th>\n",
       "      <th>life_expatancy</th>\n",
       "    </tr>\n",
       "  </thead>\n",
       "  <tbody>\n",
       "    <tr>\n",
       "      <th>0</th>\n",
       "      <td>Aruba</td>\n",
       "      <td>ABW</td>\n",
       "      <td>Esperanza de vida al nacer, total (años)</td>\n",
       "      <td>SP.DYN.LE00.IN</td>\n",
       "      <td>1960</td>\n",
       "      <td>64.152</td>\n",
       "    </tr>\n",
       "    <tr>\n",
       "      <th>1</th>\n",
       "      <td>Aruba</td>\n",
       "      <td>ABW</td>\n",
       "      <td>Esperanza de vida al nacer, total (años)</td>\n",
       "      <td>SP.DYN.LE00.IN</td>\n",
       "      <td>1961</td>\n",
       "      <td>64.537</td>\n",
       "    </tr>\n",
       "    <tr>\n",
       "      <th>2</th>\n",
       "      <td>Aruba</td>\n",
       "      <td>ABW</td>\n",
       "      <td>Esperanza de vida al nacer, total (años)</td>\n",
       "      <td>SP.DYN.LE00.IN</td>\n",
       "      <td>1962</td>\n",
       "      <td>64.752</td>\n",
       "    </tr>\n",
       "  </tbody>\n",
       "</table>\n",
       "</div>"
      ],
      "text/plain": [
       "  Country Name Country Code                            Indicator Name  Indicator Code  Year life_expatancy\n",
       "0        Aruba          ABW  Esperanza de vida al nacer, total (años)  SP.DYN.LE00.IN  1960         64.152\n",
       "1        Aruba          ABW  Esperanza de vida al nacer, total (años)  SP.DYN.LE00.IN  1961         64.537\n",
       "2        Aruba          ABW  Esperanza de vida al nacer, total (años)  SP.DYN.LE00.IN  1962         64.752"
      ]
     },
     "execution_count": 17,
     "metadata": {},
     "output_type": "execute_result"
    }
   ],
   "source": [
    "data_00.limit(3).pandas_api()"
   ]
  },
  {
   "cell_type": "code",
   "execution_count": 18,
   "id": "2b1c5739-6cda-4078-b3c8-074c4743f565",
   "metadata": {
    "execution": {
     "iopub.execute_input": "2023-06-06T05:58:41.676954Z",
     "iopub.status.busy": "2023-06-06T05:58:41.676687Z",
     "iopub.status.idle": "2023-06-06T05:58:41.684781Z",
     "shell.execute_reply": "2023-06-06T05:58:41.684126Z",
     "shell.execute_reply.started": "2023-06-06T05:58:41.676931Z"
    },
    "tags": []
   },
   "outputs": [],
   "source": [
    "data_00 = data_00.drop(\"Indicator Name\",\"Indicator Code\")"
   ]
  },
  {
   "cell_type": "markdown",
   "id": "b644b51d-4e5b-4460-8d4a-95a5ab7af080",
   "metadata": {},
   "source": [
    "# Esperanza de vida al nacer, varones (años)\n",
    "Algunos metadatos están solo en inglés\n",
    "\n",
    "La esperanza de vida al nacer indica la cantidad de años que viviría un recién nacido si los patrones de mortalidad vigentes al momento de su nacimiento no cambian a lo largo de la vida del infante.\n",
    "\n",
    "https://datos.bancomundial.org/indicator/SP.DYN.LE00.MA.IN?view=chart\n"
   ]
  },
  {
   "cell_type": "code",
   "execution_count": 19,
   "id": "c4b35583-2991-4a6c-a6f6-cd11c11ad114",
   "metadata": {
    "execution": {
     "iopub.execute_input": "2023-06-06T05:58:41.685915Z",
     "iopub.status.busy": "2023-06-06T05:58:41.685670Z",
     "iopub.status.idle": "2023-06-06T05:58:41.693894Z",
     "shell.execute_reply": "2023-06-06T05:58:41.693215Z",
     "shell.execute_reply.started": "2023-06-06T05:58:41.685891Z"
    },
    "tags": []
   },
   "outputs": [],
   "source": [
    "url_01 =\"https://api.worldbank.org/v2/es/indicator/SP.DYN.LE00.MA.IN?downloadformat=csv\""
   ]
  },
  {
   "cell_type": "code",
   "execution_count": 20,
   "id": "aa4eb7b7-f261-4840-87ec-a2bd9ce5c2c6",
   "metadata": {
    "execution": {
     "iopub.execute_input": "2023-06-06T05:58:41.694978Z",
     "iopub.status.busy": "2023-06-06T05:58:41.694652Z",
     "iopub.status.idle": "2023-06-06T05:58:42.891509Z",
     "shell.execute_reply": "2023-06-06T05:58:42.890480Z",
     "shell.execute_reply.started": "2023-06-06T05:58:41.694956Z"
    },
    "tags": []
   },
   "outputs": [],
   "source": [
    "response_url_01 = requests.get(url_01)"
   ]
  },
  {
   "cell_type": "code",
   "execution_count": 21,
   "id": "190d35b9-c239-43a4-b79c-79c170b41498",
   "metadata": {
    "execution": {
     "iopub.execute_input": "2023-06-06T05:58:42.893394Z",
     "iopub.status.busy": "2023-06-06T05:58:42.893003Z",
     "iopub.status.idle": "2023-06-06T05:58:42.903173Z",
     "shell.execute_reply": "2023-06-06T05:58:42.901762Z",
     "shell.execute_reply.started": "2023-06-06T05:58:42.893350Z"
    },
    "tags": []
   },
   "outputs": [
    {
     "name": "stdout",
     "output_type": "stream",
     "text": [
      "El archivo ZIP se ha descargado y descomprimido correctamente.\n"
     ]
    }
   ],
   "source": [
    "if response_url_01.status_code == 200:\n",
    "    # Crear un objeto ZipFile a partir de los datos de la respuesta\n",
    "    with zipfile.ZipFile(io.BytesIO(response_url_01.content), \"r\") as zip_url_01:\n",
    "        # Extraer todos los archivos del archivo ZIP en el directorio actual\n",
    "        zip_url_01.extractall(\"dataset\")\n",
    "\n",
    "    print(\"El archivo ZIP se ha descargado y descomprimido correctamente.\")\n",
    "else:\n",
    "    print(\"Error al descargar el archivo ZIP:\", response_url_01.status_code)"
   ]
  },
  {
   "cell_type": "code",
   "execution_count": 22,
   "id": "1dbd53c4-b1b0-42f9-b62f-908cb0078390",
   "metadata": {
    "execution": {
     "iopub.execute_input": "2023-06-06T05:58:42.913092Z",
     "iopub.status.busy": "2023-06-06T05:58:42.912729Z",
     "iopub.status.idle": "2023-06-06T05:58:42.916531Z",
     "shell.execute_reply": "2023-06-06T05:58:42.916007Z",
     "shell.execute_reply.started": "2023-06-06T05:58:42.913059Z"
    },
    "tags": []
   },
   "outputs": [],
   "source": [
    "# Ruta del archivo CSV\n",
    "\n",
    "csv_url_01 = \"dataset/API_SP.DYN.LE00.MA.IN_DS2_es_csv_v2_5501246.csv\"\n",
    "\n",
    "# Crear una lista para almacenar las filas del archivo CSV\n",
    "rows_url_01 = []\n",
    "\n",
    "\n",
    "#API_SE.PRM.CMPT.ZS_DS2_es_csv_v2_5478942"
   ]
  },
  {
   "cell_type": "code",
   "execution_count": 23,
   "id": "e87b8ae4-2993-4bfa-aa30-2140646cef21",
   "metadata": {
    "execution": {
     "iopub.execute_input": "2023-06-06T05:58:42.917524Z",
     "iopub.status.busy": "2023-06-06T05:58:42.917312Z",
     "iopub.status.idle": "2023-06-06T05:58:42.932760Z",
     "shell.execute_reply": "2023-06-06T05:58:42.932161Z",
     "shell.execute_reply.started": "2023-06-06T05:58:42.917505Z"
    },
    "tags": []
   },
   "outputs": [],
   "source": [
    "# Leer el archivo CSV y almacenar las filas en la lista\n",
    "with open(csv_url_01, \"r\") as file_csv_url_01:\n",
    "    csv_reader_url_01 = csv.reader(file_csv_url_01)\n",
    "    rows_url_01 = list(csv_reader_url_01)\n"
   ]
  },
  {
   "cell_type": "code",
   "execution_count": 24,
   "id": "63051689-1b15-460a-acb5-92d922128506",
   "metadata": {
    "execution": {
     "iopub.execute_input": "2023-06-06T05:58:42.933835Z",
     "iopub.status.busy": "2023-06-06T05:58:42.933611Z",
     "iopub.status.idle": "2023-06-06T05:58:42.943426Z",
     "shell.execute_reply": "2023-06-06T05:58:42.942817Z",
     "shell.execute_reply.started": "2023-06-06T05:58:42.933819Z"
    },
    "tags": []
   },
   "outputs": [],
   "source": [
    "# Eliminar las primeras 4 filas\n",
    "\n",
    "rows_url_01 = rows_url_01[3:]\n",
    "\n",
    "# Escribir las filas modificadas en un nuevo archivo CSV\n",
    "with open(\"dataset/data/data_01.csv\", \"w\", newline=\"\") as file_csv_url_01:\n",
    "    csv_writer_url_01 = csv.writer(file_csv_url_01)\n",
    "    csv_writer_url_01.writerows(rows_url_01)"
   ]
  },
  {
   "cell_type": "code",
   "execution_count": 25,
   "id": "c790daeb-6d0b-4ef2-8c0a-9364e3b40e6f",
   "metadata": {
    "execution": {
     "iopub.execute_input": "2023-06-06T05:58:42.944507Z",
     "iopub.status.busy": "2023-06-06T05:58:42.944327Z",
     "iopub.status.idle": "2023-06-06T05:58:43.067902Z",
     "shell.execute_reply": "2023-06-06T05:58:43.067268Z",
     "shell.execute_reply.started": "2023-06-06T05:58:42.944492Z"
    },
    "tags": []
   },
   "outputs": [],
   "source": [
    "data_01 = spark.read.csv(\"dataset/data/data_01.csv\", header=True)"
   ]
  },
  {
   "cell_type": "code",
   "execution_count": 26,
   "id": "a9b70fcc-6495-4e8a-9c10-6753418c56e5",
   "metadata": {
    "execution": {
     "iopub.execute_input": "2023-06-06T05:58:43.068867Z",
     "iopub.status.busy": "2023-06-06T05:58:43.068650Z",
     "iopub.status.idle": "2023-06-06T05:58:43.082224Z",
     "shell.execute_reply": "2023-06-06T05:58:43.081562Z",
     "shell.execute_reply.started": "2023-06-06T05:58:43.068850Z"
    },
    "tags": []
   },
   "outputs": [],
   "source": [
    "data_01 = data_01.drop(\"_c66\",\"_c67\")"
   ]
  },
  {
   "cell_type": "code",
   "execution_count": 27,
   "id": "3d1e5ffe-2e40-4892-bf75-1f04e6244c14",
   "metadata": {
    "execution": {
     "iopub.execute_input": "2023-06-06T05:58:43.083258Z",
     "iopub.status.busy": "2023-06-06T05:58:43.083038Z",
     "iopub.status.idle": "2023-06-06T05:58:43.476292Z",
     "shell.execute_reply": "2023-06-06T05:58:43.475558Z",
     "shell.execute_reply.started": "2023-06-06T05:58:43.083236Z"
    },
    "tags": []
   },
   "outputs": [
    {
     "data": {
      "text/html": [
       "<div>\n",
       "<style scoped>\n",
       "    .dataframe tbody tr th:only-of-type {\n",
       "        vertical-align: middle;\n",
       "    }\n",
       "\n",
       "    .dataframe tbody tr th {\n",
       "        vertical-align: top;\n",
       "    }\n",
       "\n",
       "    .dataframe thead th {\n",
       "        text-align: right;\n",
       "    }\n",
       "</style>\n",
       "<table border=\"1\" class=\"dataframe\">\n",
       "  <thead>\n",
       "    <tr style=\"text-align: right;\">\n",
       "      <th></th>\n",
       "      <th>Country Name</th>\n",
       "      <th>Country Code</th>\n",
       "      <th>Indicator Name</th>\n",
       "      <th>Indicator Code</th>\n",
       "      <th>1960</th>\n",
       "      <th>1961</th>\n",
       "      <th>1962</th>\n",
       "      <th>1963</th>\n",
       "      <th>1964</th>\n",
       "      <th>1965</th>\n",
       "      <th>1966</th>\n",
       "      <th>1967</th>\n",
       "      <th>1968</th>\n",
       "      <th>1969</th>\n",
       "      <th>1970</th>\n",
       "      <th>1971</th>\n",
       "      <th>1972</th>\n",
       "      <th>1973</th>\n",
       "      <th>1974</th>\n",
       "      <th>1975</th>\n",
       "      <th>1976</th>\n",
       "      <th>1977</th>\n",
       "      <th>1978</th>\n",
       "      <th>1979</th>\n",
       "      <th>1980</th>\n",
       "      <th>1981</th>\n",
       "      <th>1982</th>\n",
       "      <th>1983</th>\n",
       "      <th>1984</th>\n",
       "      <th>1985</th>\n",
       "      <th>1986</th>\n",
       "      <th>1987</th>\n",
       "      <th>1988</th>\n",
       "      <th>1989</th>\n",
       "      <th>1990</th>\n",
       "      <th>1991</th>\n",
       "      <th>1992</th>\n",
       "      <th>1993</th>\n",
       "      <th>1994</th>\n",
       "      <th>1995</th>\n",
       "      <th>1996</th>\n",
       "      <th>1997</th>\n",
       "      <th>1998</th>\n",
       "      <th>1999</th>\n",
       "      <th>2000</th>\n",
       "      <th>2001</th>\n",
       "      <th>2002</th>\n",
       "      <th>2003</th>\n",
       "      <th>2004</th>\n",
       "      <th>2005</th>\n",
       "      <th>2006</th>\n",
       "      <th>2007</th>\n",
       "      <th>2008</th>\n",
       "      <th>2009</th>\n",
       "      <th>2010</th>\n",
       "      <th>2011</th>\n",
       "      <th>2012</th>\n",
       "      <th>2013</th>\n",
       "      <th>2014</th>\n",
       "      <th>2015</th>\n",
       "      <th>2016</th>\n",
       "      <th>2017</th>\n",
       "      <th>2018</th>\n",
       "      <th>2019</th>\n",
       "      <th>2020</th>\n",
       "      <th>2021</th>\n",
       "      <th>2022</th>\n",
       "    </tr>\n",
       "  </thead>\n",
       "  <tbody>\n",
       "    <tr>\n",
       "      <th>0</th>\n",
       "      <td>Aruba</td>\n",
       "      <td>ABW</td>\n",
       "      <td>Esperanza de vida al nacer, varones (años)</td>\n",
       "      <td>SP.DYN.LE00.MA.IN</td>\n",
       "      <td>60.582</td>\n",
       "      <td>60.88</td>\n",
       "      <td>61.023</td>\n",
       "      <td>61.372</td>\n",
       "      <td>61.522</td>\n",
       "      <td>61.686</td>\n",
       "      <td>62.329</td>\n",
       "      <td>62.702</td>\n",
       "      <td>62.966</td>\n",
       "      <td>63.335</td>\n",
       "      <td>63.715</td>\n",
       "      <td>64.073</td>\n",
       "      <td>64.516</td>\n",
       "      <td>64.868</td>\n",
       "      <td>65.259</td>\n",
       "      <td>65.428</td>\n",
       "      <td>65.807</td>\n",
       "      <td>66.14</td>\n",
       "      <td>66.491</td>\n",
       "      <td>66.908</td>\n",
       "      <td>67.372</td>\n",
       "      <td>68.178</td>\n",
       "      <td>68.456</td>\n",
       "      <td>68.587</td>\n",
       "      <td>68.751</td>\n",
       "      <td>68.861</td>\n",
       "      <td>68.954</td>\n",
       "      <td>69.581</td>\n",
       "      <td>70.082</td>\n",
       "      <td>70.039</td>\n",
       "      <td>70.096</td>\n",
       "      <td>70.142</td>\n",
       "      <td>70.177</td>\n",
       "      <td>70.223</td>\n",
       "      <td>70.27</td>\n",
       "      <td>70.311</td>\n",
       "      <td>70.447</td>\n",
       "      <td>70.491</td>\n",
       "      <td>70.54</td>\n",
       "      <td>70.591</td>\n",
       "      <td>70.597</td>\n",
       "      <td>70.724</td>\n",
       "      <td>70.817</td>\n",
       "      <td>70.91</td>\n",
       "      <td>70.63</td>\n",
       "      <td>70.965</td>\n",
       "      <td>71.384</td>\n",
       "      <td>71.797</td>\n",
       "      <td>71.256</td>\n",
       "      <td>71.644</td>\n",
       "      <td>72.126</td>\n",
       "      <td>72.223</td>\n",
       "      <td>72.346</td>\n",
       "      <td>72.361</td>\n",
       "      <td>72.448</td>\n",
       "      <td>72.569</td>\n",
       "      <td>72.582</td>\n",
       "      <td>72.838</td>\n",
       "      <td>73.096</td>\n",
       "      <td>73.286</td>\n",
       "      <td>72.828</td>\n",
       "      <td>71.798</td>\n",
       "      <td>None</td>\n",
       "    </tr>\n",
       "    <tr>\n",
       "      <th>1</th>\n",
       "      <td>None</td>\n",
       "      <td>AFE</td>\n",
       "      <td>Esperanza de vida al nacer, varones (años)</td>\n",
       "      <td>SP.DYN.LE00.MA.IN</td>\n",
       "      <td>42.5431627109112</td>\n",
       "      <td>42.7429203642934</td>\n",
       "      <td>43.1134272779315</td>\n",
       "      <td>43.1577660426942</td>\n",
       "      <td>43.7050555142663</td>\n",
       "      <td>43.6826894478482</td>\n",
       "      <td>43.4901619048218</td>\n",
       "      <td>44.1149282976705</td>\n",
       "      <td>44.4032620497399</td>\n",
       "      <td>44.5792318064182</td>\n",
       "      <td>44.8664574804166</td>\n",
       "      <td>45.289742041229</td>\n",
       "      <td>44.9977009823533</td>\n",
       "      <td>45.8845481825658</td>\n",
       "      <td>45.8106928597236</td>\n",
       "      <td>46.0004021974988</td>\n",
       "      <td>46.4799182704524</td>\n",
       "      <td>46.7053081652754</td>\n",
       "      <td>46.7388753685675</td>\n",
       "      <td>47.2851743112482</td>\n",
       "      <td>47.6924367667017</td>\n",
       "      <td>48.0392527793917</td>\n",
       "      <td>48.2469716773968</td>\n",
       "      <td>46.6509666694814</td>\n",
       "      <td>46.4401788685541</td>\n",
       "      <td>46.7983927211196</td>\n",
       "      <td>47.3735998846512</td>\n",
       "      <td>47.6959634809497</td>\n",
       "      <td>46.9193669772453</td>\n",
       "      <td>48.3707975811769</td>\n",
       "      <td>48.2336956594134</td>\n",
       "      <td>48.103799345053</td>\n",
       "      <td>47.6512676870803</td>\n",
       "      <td>47.9092598236726</td>\n",
       "      <td>48.7719685025176</td>\n",
       "      <td>48.83997573395</td>\n",
       "      <td>48.6764095511719</td>\n",
       "      <td>48.9097550234422</td>\n",
       "      <td>48.0877684845754</td>\n",
       "      <td>49.1074005198067</td>\n",
       "      <td>50.2368403625047</td>\n",
       "      <td>50.5732792132029</td>\n",
       "      <td>50.9383927817432</td>\n",
       "      <td>51.5061246422434</td>\n",
       "      <td>52.0291796349508</td>\n",
       "      <td>52.6792907826266</td>\n",
       "      <td>53.5822670689842</td>\n",
       "      <td>54.2943348209578</td>\n",
       "      <td>54.9409629503684</td>\n",
       "      <td>55.7571338969576</td>\n",
       "      <td>56.4796472634335</td>\n",
       "      <td>57.2591451349442</td>\n",
       "      <td>57.9297138124994</td>\n",
       "      <td>58.4716979727039</td>\n",
       "      <td>59.0281376974846</td>\n",
       "      <td>59.5174587951231</td>\n",
       "      <td>60.0212437222169</td>\n",
       "      <td>60.5358346413935</td>\n",
       "      <td>60.9051812348701</td>\n",
       "      <td>61.2907170080319</td>\n",
       "      <td>60.8174801969809</td>\n",
       "      <td>59.8945050965862</td>\n",
       "      <td>None</td>\n",
       "    </tr>\n",
       "    <tr>\n",
       "      <th>2</th>\n",
       "      <td>Afganistán</td>\n",
       "      <td>AFG</td>\n",
       "      <td>Esperanza de vida al nacer, varones (años)</td>\n",
       "      <td>SP.DYN.LE00.MA.IN</td>\n",
       "      <td>31.87</td>\n",
       "      <td>32.409</td>\n",
       "      <td>32.883</td>\n",
       "      <td>33.346</td>\n",
       "      <td>33.828</td>\n",
       "      <td>34.289</td>\n",
       "      <td>34.768</td>\n",
       "      <td>35.225</td>\n",
       "      <td>35.712</td>\n",
       "      <td>36.206</td>\n",
       "      <td>36.692</td>\n",
       "      <td>37.178</td>\n",
       "      <td>37.681</td>\n",
       "      <td>38.241</td>\n",
       "      <td>38.792</td>\n",
       "      <td>39.35</td>\n",
       "      <td>39.892</td>\n",
       "      <td>40.492</td>\n",
       "      <td>39.022</td>\n",
       "      <td>37.314</td>\n",
       "      <td>37.799</td>\n",
       "      <td>38.312</td>\n",
       "      <td>35.212</td>\n",
       "      <td>35.518</td>\n",
       "      <td>29.793</td>\n",
       "      <td>29.896</td>\n",
       "      <td>36.389</td>\n",
       "      <td>36.739</td>\n",
       "      <td>41.572</td>\n",
       "      <td>42.891</td>\n",
       "      <td>43.709</td>\n",
       "      <td>44.353</td>\n",
       "      <td>45.07</td>\n",
       "      <td>50.216</td>\n",
       "      <td>49.531</td>\n",
       "      <td>51.039</td>\n",
       "      <td>51.722</td>\n",
       "      <td>52.153</td>\n",
       "      <td>51.134</td>\n",
       "      <td>53.41</td>\n",
       "      <td>53.762</td>\n",
       "      <td>54.272</td>\n",
       "      <td>55.227</td>\n",
       "      <td>56.032</td>\n",
       "      <td>56.658</td>\n",
       "      <td>57.013</td>\n",
       "      <td>57.133</td>\n",
       "      <td>57.342</td>\n",
       "      <td>58.172</td>\n",
       "      <td>58.82</td>\n",
       "      <td>59.278</td>\n",
       "      <td>59.825</td>\n",
       "      <td>60.317</td>\n",
       "      <td>60.791</td>\n",
       "      <td>60.812</td>\n",
       "      <td>60.76</td>\n",
       "      <td>61.193</td>\n",
       "      <td>60.105</td>\n",
       "      <td>59.923</td>\n",
       "      <td>60.619</td>\n",
       "      <td>59.866</td>\n",
       "      <td>58.915</td>\n",
       "      <td>None</td>\n",
       "    </tr>\n",
       "  </tbody>\n",
       "</table>\n",
       "</div>"
      ],
      "text/plain": [
       "  Country Name Country Code                              Indicator Name     Indicator Code              1960              1961              1962              1963              1964              1965              1966              1967              1968              1969              1970             1971              1972              1973              1974              1975              1976              1977              1978              1979              1980              1981              1982              1983              1984              1985              1986              1987              1988              1989              1990             1991              1992              1993              1994            1995              1996              1997              1998              1999              2000              2001              2002              2003              2004              2005              2006              2007              2008              2009              2010              2011              2012              2013              2014              2015              2016              2017              2018              2019              2020              2021  2022\n",
       "0        Aruba          ABW  Esperanza de vida al nacer, varones (años)  SP.DYN.LE00.MA.IN            60.582             60.88            61.023            61.372            61.522            61.686            62.329            62.702            62.966            63.335            63.715           64.073            64.516            64.868            65.259            65.428            65.807             66.14            66.491            66.908            67.372            68.178            68.456            68.587            68.751            68.861            68.954            69.581            70.082            70.039            70.096           70.142            70.177            70.223             70.27          70.311            70.447            70.491             70.54            70.591            70.597            70.724            70.817             70.91             70.63            70.965            71.384            71.797            71.256            71.644            72.126            72.223            72.346            72.361            72.448            72.569            72.582            72.838            73.096            73.286            72.828            71.798  None\n",
       "1         None          AFE  Esperanza de vida al nacer, varones (años)  SP.DYN.LE00.MA.IN  42.5431627109112  42.7429203642934  43.1134272779315  43.1577660426942  43.7050555142663  43.6826894478482  43.4901619048218  44.1149282976705  44.4032620497399  44.5792318064182  44.8664574804166  45.289742041229  44.9977009823533  45.8845481825658  45.8106928597236  46.0004021974988  46.4799182704524  46.7053081652754  46.7388753685675  47.2851743112482  47.6924367667017  48.0392527793917  48.2469716773968  46.6509666694814  46.4401788685541  46.7983927211196  47.3735998846512  47.6959634809497  46.9193669772453  48.3707975811769  48.2336956594134  48.103799345053  47.6512676870803  47.9092598236726  48.7719685025176  48.83997573395  48.6764095511719  48.9097550234422  48.0877684845754  49.1074005198067  50.2368403625047  50.5732792132029  50.9383927817432  51.5061246422434  52.0291796349508  52.6792907826266  53.5822670689842  54.2943348209578  54.9409629503684  55.7571338969576  56.4796472634335  57.2591451349442  57.9297138124994  58.4716979727039  59.0281376974846  59.5174587951231  60.0212437222169  60.5358346413935  60.9051812348701  61.2907170080319  60.8174801969809  59.8945050965862  None\n",
       "2   Afganistán          AFG  Esperanza de vida al nacer, varones (años)  SP.DYN.LE00.MA.IN             31.87            32.409            32.883            33.346            33.828            34.289            34.768            35.225            35.712            36.206            36.692           37.178            37.681            38.241            38.792             39.35            39.892            40.492            39.022            37.314            37.799            38.312            35.212            35.518            29.793            29.896            36.389            36.739            41.572            42.891            43.709           44.353             45.07            50.216            49.531          51.039            51.722            52.153            51.134             53.41            53.762            54.272            55.227            56.032            56.658            57.013            57.133            57.342            58.172             58.82            59.278            59.825            60.317            60.791            60.812             60.76            61.193            60.105            59.923            60.619            59.866            58.915  None"
      ]
     },
     "execution_count": 27,
     "metadata": {},
     "output_type": "execute_result"
    }
   ],
   "source": [
    "data_01.limit(3).pandas_api()\n"
   ]
  },
  {
   "cell_type": "code",
   "execution_count": 28,
   "id": "dc902bbb-a661-4be4-a6ab-c829948aa804",
   "metadata": {
    "execution": {
     "iopub.execute_input": "2023-06-06T05:58:43.477849Z",
     "iopub.status.busy": "2023-06-06T05:58:43.477348Z",
     "iopub.status.idle": "2023-06-06T05:58:43.500609Z",
     "shell.execute_reply": "2023-06-06T05:58:43.500004Z",
     "shell.execute_reply.started": "2023-06-06T05:58:43.477824Z"
    },
    "tags": []
   },
   "outputs": [],
   "source": [
    "data_01 = data_01.selectExpr('`Country Name`', '`Country Code`', \"`Indicator Name`\", \"`Indicator Code`\", \"stack(63, \\\n",
    "'1960', `1960`, '1961', `1961`, '1962', `1962`, '1963', `1963`, '1964', `1964`, \\\n",
    "'1965', `1965`, '1966', `1966`, '1967', `1967`, '1968', `1968`, '1969', `1969`, \\\n",
    "'1970', `1970`, '1971', `1971`, '1972', `1972`, '1973', `1973`, '1974', `1974`, \\\n",
    "'1975', `1975`, '1976', `1976`, '1977', `1977`, '1978', `1978`, '1979', `1979`, \\\n",
    "'1980', `1980`, '1981', `1981`, '1982', `1982`, '1983', `1983`, '1984', `1984`, \\\n",
    "'1985', `1985`, '1986', `1986`, '1987', `1987`, '1988', `1988`, '1989', `1989`, \\\n",
    "'1990', `1990`, '1991', `1991`, '1992', `1992`, '1993', `1993`, '1994', `1994`, \\\n",
    "'1995', `1995`, '1996', `1996`, '1997', `1997`, '1998', `1998`, '1999', `1999`, \\\n",
    "'2010', `2010`, '2011', `2011`, '2012', `2012`, '2013', `2013`, '2014', `2014`, \\\n",
    "'2015', `2015`, '2016', `2016`, '2017', `2017`, '2018', `2018`, '2019', `2019`, \\\n",
    "'2010', `2010`, '2011', `2011`, '2012', `2012`, '2013', `2013`, '2014', `2014`, \\\n",
    "'2015', `2015`, '2016', `2016`, '2017', `2017`, '2018', `2018`, '2019', `2019`, \\\n",
    "'2020', `2020`, '2021', `2021`, '2022', `2022`) as (Year, life_expatancy_male)\")"
   ]
  },
  {
   "cell_type": "code",
   "execution_count": null,
   "id": "a74d3c73-ca61-4883-bc95-a4076b83563e",
   "metadata": {},
   "outputs": [],
   "source": [
    "data_01 = data_01.filter(col(\"Country Name\").isin(americans_countries) | col(\"Country Name\").isin(oceanic_countries))\n",
    "data_01 = data_01.filter(col(\"Year\") >= \"1985\")"
   ]
  },
  {
   "cell_type": "code",
   "execution_count": 29,
   "id": "373249e6-0a56-47b0-ab0e-f897abdbc6ad",
   "metadata": {
    "execution": {
     "iopub.execute_input": "2023-06-06T05:58:43.501457Z",
     "iopub.status.busy": "2023-06-06T05:58:43.501257Z",
     "iopub.status.idle": "2023-06-06T05:58:43.699684Z",
     "shell.execute_reply": "2023-06-06T05:58:43.699073Z",
     "shell.execute_reply.started": "2023-06-06T05:58:43.501441Z"
    },
    "tags": []
   },
   "outputs": [
    {
     "data": {
      "text/html": [
       "<div>\n",
       "<style scoped>\n",
       "    .dataframe tbody tr th:only-of-type {\n",
       "        vertical-align: middle;\n",
       "    }\n",
       "\n",
       "    .dataframe tbody tr th {\n",
       "        vertical-align: top;\n",
       "    }\n",
       "\n",
       "    .dataframe thead th {\n",
       "        text-align: right;\n",
       "    }\n",
       "</style>\n",
       "<table border=\"1\" class=\"dataframe\">\n",
       "  <thead>\n",
       "    <tr style=\"text-align: right;\">\n",
       "      <th></th>\n",
       "      <th>Country Name</th>\n",
       "      <th>Country Code</th>\n",
       "      <th>Indicator Name</th>\n",
       "      <th>Indicator Code</th>\n",
       "      <th>Year</th>\n",
       "      <th>life_expatancy_male</th>\n",
       "    </tr>\n",
       "  </thead>\n",
       "  <tbody>\n",
       "    <tr>\n",
       "      <th>0</th>\n",
       "      <td>Aruba</td>\n",
       "      <td>ABW</td>\n",
       "      <td>Esperanza de vida al nacer, varones (años)</td>\n",
       "      <td>SP.DYN.LE00.MA.IN</td>\n",
       "      <td>1960</td>\n",
       "      <td>60.582</td>\n",
       "    </tr>\n",
       "    <tr>\n",
       "      <th>1</th>\n",
       "      <td>Aruba</td>\n",
       "      <td>ABW</td>\n",
       "      <td>Esperanza de vida al nacer, varones (años)</td>\n",
       "      <td>SP.DYN.LE00.MA.IN</td>\n",
       "      <td>1961</td>\n",
       "      <td>60.88</td>\n",
       "    </tr>\n",
       "    <tr>\n",
       "      <th>2</th>\n",
       "      <td>Aruba</td>\n",
       "      <td>ABW</td>\n",
       "      <td>Esperanza de vida al nacer, varones (años)</td>\n",
       "      <td>SP.DYN.LE00.MA.IN</td>\n",
       "      <td>1962</td>\n",
       "      <td>61.023</td>\n",
       "    </tr>\n",
       "  </tbody>\n",
       "</table>\n",
       "</div>"
      ],
      "text/plain": [
       "  Country Name Country Code                              Indicator Name     Indicator Code  Year life_expatancy_male\n",
       "0        Aruba          ABW  Esperanza de vida al nacer, varones (años)  SP.DYN.LE00.MA.IN  1960              60.582\n",
       "1        Aruba          ABW  Esperanza de vida al nacer, varones (años)  SP.DYN.LE00.MA.IN  1961               60.88\n",
       "2        Aruba          ABW  Esperanza de vida al nacer, varones (años)  SP.DYN.LE00.MA.IN  1962              61.023"
      ]
     },
     "execution_count": 29,
     "metadata": {},
     "output_type": "execute_result"
    }
   ],
   "source": [
    "data_01.limit(3).pandas_api()"
   ]
  },
  {
   "cell_type": "code",
   "execution_count": 30,
   "id": "2361d0e7-7585-42bb-9a46-be1f4b46616d",
   "metadata": {
    "execution": {
     "iopub.execute_input": "2023-06-06T05:58:43.700929Z",
     "iopub.status.busy": "2023-06-06T05:58:43.700567Z",
     "iopub.status.idle": "2023-06-06T05:58:43.707308Z",
     "shell.execute_reply": "2023-06-06T05:58:43.706637Z",
     "shell.execute_reply.started": "2023-06-06T05:58:43.700906Z"
    },
    "tags": []
   },
   "outputs": [],
   "source": [
    "data_01 = data_01.drop(\"Country Name\",\"Indicator Name\",\"Indicator Code\")"
   ]
  },
  {
   "cell_type": "markdown",
   "id": "a21c8088-796f-48b9-8e1d-cf4370701380",
   "metadata": {},
   "source": [
    "# Esperanza de vida al nacer, mujeres (años)\n",
    "Algunos metadatos están solo en inglés\n",
    "\n",
    "La esperanza de vida al nacer indica la cantidad de años que viviría un recién nacido si los patrones de mortalidad vigentes al momento de su nacimiento no cambian a lo largo de la vida del infante.\n",
    "\n",
    "https://datos.bancomundial.org/indicador/SP.DYN.LE00.FE.IN?view=chart"
   ]
  },
  {
   "cell_type": "code",
   "execution_count": 31,
   "id": "0dbb33cd-bb36-4a6c-858a-ae84ec4417f3",
   "metadata": {
    "execution": {
     "iopub.execute_input": "2023-06-06T05:58:43.708383Z",
     "iopub.status.busy": "2023-06-06T05:58:43.708135Z",
     "iopub.status.idle": "2023-06-06T05:58:43.714571Z",
     "shell.execute_reply": "2023-06-06T05:58:43.713949Z",
     "shell.execute_reply.started": "2023-06-06T05:58:43.708360Z"
    },
    "tags": []
   },
   "outputs": [],
   "source": [
    "url_02 =\"https://api.worldbank.org/v2/es/indicator/SP.DYN.LE00.FE.IN?downloadformat=csv\""
   ]
  },
  {
   "cell_type": "code",
   "execution_count": 32,
   "id": "de236e83-7679-4728-bdc8-dc55cfc49595",
   "metadata": {
    "execution": {
     "iopub.execute_input": "2023-06-06T05:58:43.715889Z",
     "iopub.status.busy": "2023-06-06T05:58:43.715411Z",
     "iopub.status.idle": "2023-06-06T05:58:44.904494Z",
     "shell.execute_reply": "2023-06-06T05:58:44.903320Z",
     "shell.execute_reply.started": "2023-06-06T05:58:43.715866Z"
    },
    "tags": []
   },
   "outputs": [],
   "source": [
    "response_url_02 = requests.get(url_02)"
   ]
  },
  {
   "cell_type": "code",
   "execution_count": 33,
   "id": "5ef8e145-f4bb-4991-a259-cfade51a06fa",
   "metadata": {
    "execution": {
     "iopub.execute_input": "2023-06-06T05:58:44.906454Z",
     "iopub.status.busy": "2023-06-06T05:58:44.906117Z",
     "iopub.status.idle": "2023-06-06T05:58:44.915311Z",
     "shell.execute_reply": "2023-06-06T05:58:44.914399Z",
     "shell.execute_reply.started": "2023-06-06T05:58:44.906426Z"
    },
    "tags": []
   },
   "outputs": [
    {
     "name": "stdout",
     "output_type": "stream",
     "text": [
      "El archivo ZIP se ha descargado y descomprimido correctamente.\n"
     ]
    }
   ],
   "source": [
    "if response_url_02.status_code == 200:\n",
    "    # Crear un objeto ZipFile a partir de los datos de la respuesta\n",
    "    with zipfile.ZipFile(io.BytesIO(response_url_02.content), \"r\") as zip_url_02:\n",
    "        # Extraer todos los archivos del archivo ZIP en el directorio actual\n",
    "        zip_url_02.extractall(\"dataset\")\n",
    "\n",
    "    print(\"El archivo ZIP se ha descargado y descomprimido correctamente.\")\n",
    "else:\n",
    "    print(\"Error al descargar el archivo ZIP:\", response_url_02.status_code)"
   ]
  },
  {
   "cell_type": "code",
   "execution_count": 34,
   "id": "b687562f-1bf7-4032-a219-2614f1a0fc08",
   "metadata": {
    "execution": {
     "iopub.execute_input": "2023-06-06T05:58:44.916444Z",
     "iopub.status.busy": "2023-06-06T05:58:44.916150Z",
     "iopub.status.idle": "2023-06-06T05:58:44.922261Z",
     "shell.execute_reply": "2023-06-06T05:58:44.921352Z",
     "shell.execute_reply.started": "2023-06-06T05:58:44.916416Z"
    },
    "tags": []
   },
   "outputs": [],
   "source": [
    "# Ruta del archivo CSV\n",
    "\n",
    "csv_url_02 = \"dataset/API_SP.DYN.LE00.FE.IN_DS2_es_csv_v2_5513518.csv\"\n",
    "\n",
    "# Crear una lista para almacenar las filas del archivo CSV\n",
    "rows_url_02 = []\n",
    "\n",
    "\n",
    "#API_SE.PRM.CMPT.ZS_DS2_es_csv_v2_5478942"
   ]
  },
  {
   "cell_type": "code",
   "execution_count": 35,
   "id": "3a2c79c8-4686-4e3d-9cde-8d7ebfa6147c",
   "metadata": {
    "execution": {
     "iopub.execute_input": "2023-06-06T05:58:44.923110Z",
     "iopub.status.busy": "2023-06-06T05:58:44.922945Z",
     "iopub.status.idle": "2023-06-06T05:58:44.933633Z",
     "shell.execute_reply": "2023-06-06T05:58:44.933094Z",
     "shell.execute_reply.started": "2023-06-06T05:58:44.923094Z"
    },
    "tags": []
   },
   "outputs": [],
   "source": [
    "# Leer el archivo CSV y almacenar las filas en la lista\n",
    "with open(csv_url_02, \"r\") as file_csv_url_02:\n",
    "    csv_reader_url_02 = csv.reader(file_csv_url_02)\n",
    "    rows_url_02 = list(csv_reader_url_02)\n"
   ]
  },
  {
   "cell_type": "code",
   "execution_count": 36,
   "id": "f7c9fb1d-3a40-4f79-9015-5883b0f4d736",
   "metadata": {
    "execution": {
     "iopub.execute_input": "2023-06-06T05:58:44.934648Z",
     "iopub.status.busy": "2023-06-06T05:58:44.934477Z",
     "iopub.status.idle": "2023-06-06T05:58:44.945997Z",
     "shell.execute_reply": "2023-06-06T05:58:44.945434Z",
     "shell.execute_reply.started": "2023-06-06T05:58:44.934633Z"
    },
    "tags": []
   },
   "outputs": [],
   "source": [
    "# Eliminar las primeras 4 filas\n",
    "\n",
    "rows_url_02 = rows_url_02[3:]\n",
    "\n",
    "# Escribir las filas modificadas en un nuevo archivo CSV\n",
    "with open(\"dataset/data/data_02.csv\", \"w\", newline=\"\") as file_csv_url_02:\n",
    "    csv_writer_url_02 = csv.writer(file_csv_url_02)\n",
    "    csv_writer_url_02.writerows(rows_url_02)"
   ]
  },
  {
   "cell_type": "code",
   "execution_count": 37,
   "id": "d6059461-35a9-403d-a9cb-6d2c9906a6b0",
   "metadata": {
    "execution": {
     "iopub.execute_input": "2023-06-06T05:58:44.946833Z",
     "iopub.status.busy": "2023-06-06T05:58:44.946662Z",
     "iopub.status.idle": "2023-06-06T05:58:45.048079Z",
     "shell.execute_reply": "2023-06-06T05:58:45.047381Z",
     "shell.execute_reply.started": "2023-06-06T05:58:44.946817Z"
    },
    "tags": []
   },
   "outputs": [],
   "source": [
    "data_02 = spark.read.csv(\"dataset/data/data_02.csv\", header=True)"
   ]
  },
  {
   "cell_type": "code",
   "execution_count": 38,
   "id": "4a921ce4-a453-4859-b7f2-dca5d6be4b96",
   "metadata": {
    "execution": {
     "iopub.execute_input": "2023-06-06T05:58:45.048836Z",
     "iopub.status.busy": "2023-06-06T05:58:45.048664Z",
     "iopub.status.idle": "2023-06-06T05:58:45.058534Z",
     "shell.execute_reply": "2023-06-06T05:58:45.057758Z",
     "shell.execute_reply.started": "2023-06-06T05:58:45.048820Z"
    },
    "tags": []
   },
   "outputs": [],
   "source": [
    "data_02 = data_02.drop(\"_c67\")"
   ]
  },
  {
   "cell_type": "code",
   "execution_count": 39,
   "id": "c994fcc7-d812-4c7b-a9d4-fbbce1e58dfe",
   "metadata": {
    "execution": {
     "iopub.execute_input": "2023-06-06T05:58:45.059664Z",
     "iopub.status.busy": "2023-06-06T05:58:45.059431Z",
     "iopub.status.idle": "2023-06-06T05:58:45.395788Z",
     "shell.execute_reply": "2023-06-06T05:58:45.395143Z",
     "shell.execute_reply.started": "2023-06-06T05:58:45.059642Z"
    },
    "tags": []
   },
   "outputs": [
    {
     "data": {
      "text/html": [
       "<div>\n",
       "<style scoped>\n",
       "    .dataframe tbody tr th:only-of-type {\n",
       "        vertical-align: middle;\n",
       "    }\n",
       "\n",
       "    .dataframe tbody tr th {\n",
       "        vertical-align: top;\n",
       "    }\n",
       "\n",
       "    .dataframe thead th {\n",
       "        text-align: right;\n",
       "    }\n",
       "</style>\n",
       "<table border=\"1\" class=\"dataframe\">\n",
       "  <thead>\n",
       "    <tr style=\"text-align: right;\">\n",
       "      <th></th>\n",
       "      <th>Country Name</th>\n",
       "      <th>Country Code</th>\n",
       "      <th>Indicator Name</th>\n",
       "      <th>Indicator Code</th>\n",
       "      <th>1960</th>\n",
       "      <th>1961</th>\n",
       "      <th>1962</th>\n",
       "      <th>1963</th>\n",
       "      <th>1964</th>\n",
       "      <th>1965</th>\n",
       "      <th>1966</th>\n",
       "      <th>1967</th>\n",
       "      <th>1968</th>\n",
       "      <th>1969</th>\n",
       "      <th>1970</th>\n",
       "      <th>1971</th>\n",
       "      <th>1972</th>\n",
       "      <th>1973</th>\n",
       "      <th>1974</th>\n",
       "      <th>1975</th>\n",
       "      <th>1976</th>\n",
       "      <th>1977</th>\n",
       "      <th>1978</th>\n",
       "      <th>1979</th>\n",
       "      <th>1980</th>\n",
       "      <th>1981</th>\n",
       "      <th>1982</th>\n",
       "      <th>1983</th>\n",
       "      <th>1984</th>\n",
       "      <th>1985</th>\n",
       "      <th>1986</th>\n",
       "      <th>1987</th>\n",
       "      <th>1988</th>\n",
       "      <th>1989</th>\n",
       "      <th>1990</th>\n",
       "      <th>1991</th>\n",
       "      <th>1992</th>\n",
       "      <th>1993</th>\n",
       "      <th>1994</th>\n",
       "      <th>1995</th>\n",
       "      <th>1996</th>\n",
       "      <th>1997</th>\n",
       "      <th>1998</th>\n",
       "      <th>1999</th>\n",
       "      <th>2000</th>\n",
       "      <th>2001</th>\n",
       "      <th>2002</th>\n",
       "      <th>2003</th>\n",
       "      <th>2004</th>\n",
       "      <th>2005</th>\n",
       "      <th>2006</th>\n",
       "      <th>2007</th>\n",
       "      <th>2008</th>\n",
       "      <th>2009</th>\n",
       "      <th>2010</th>\n",
       "      <th>2011</th>\n",
       "      <th>2012</th>\n",
       "      <th>2013</th>\n",
       "      <th>2014</th>\n",
       "      <th>2015</th>\n",
       "      <th>2016</th>\n",
       "      <th>2017</th>\n",
       "      <th>2018</th>\n",
       "      <th>2019</th>\n",
       "      <th>2020</th>\n",
       "      <th>2021</th>\n",
       "      <th>2022</th>\n",
       "    </tr>\n",
       "  </thead>\n",
       "  <tbody>\n",
       "    <tr>\n",
       "      <th>0</th>\n",
       "      <td>Aruba</td>\n",
       "      <td>ABW</td>\n",
       "      <td>Esperanza de vida al nacer, mujeres (años)</td>\n",
       "      <td>SP.DYN.LE00.FE.IN</td>\n",
       "      <td>67.783</td>\n",
       "      <td>68.269</td>\n",
       "      <td>68.579</td>\n",
       "      <td>68.992</td>\n",
       "      <td>69.18</td>\n",
       "      <td>69.449</td>\n",
       "      <td>69.901</td>\n",
       "      <td>70.281</td>\n",
       "      <td>70.673</td>\n",
       "      <td>71.135</td>\n",
       "      <td>71.585</td>\n",
       "      <td>72.006</td>\n",
       "      <td>72.785</td>\n",
       "      <td>73.487</td>\n",
       "      <td>73.909</td>\n",
       "      <td>74.284</td>\n",
       "      <td>74.417</td>\n",
       "      <td>74.525</td>\n",
       "      <td>74.615</td>\n",
       "      <td>74.746</td>\n",
       "      <td>74.83</td>\n",
       "      <td>75.298</td>\n",
       "      <td>75.504</td>\n",
       "      <td>75.707</td>\n",
       "      <td>75.855</td>\n",
       "      <td>76.052</td>\n",
       "      <td>76.139</td>\n",
       "      <td>76.117</td>\n",
       "      <td>76.113</td>\n",
       "      <td>76.147</td>\n",
       "      <td>76.196</td>\n",
       "      <td>76.147</td>\n",
       "      <td>76.181</td>\n",
       "      <td>76.218</td>\n",
       "      <td>76.253</td>\n",
       "      <td>76.36</td>\n",
       "      <td>76.403</td>\n",
       "      <td>76.355</td>\n",
       "      <td>76.378</td>\n",
       "      <td>76.466</td>\n",
       "      <td>76.477</td>\n",
       "      <td>76.495</td>\n",
       "      <td>76.555</td>\n",
       "      <td>76.503</td>\n",
       "      <td>76.45</td>\n",
       "      <td>76.56</td>\n",
       "      <td>76.542</td>\n",
       "      <td>76.478</td>\n",
       "      <td>76.944</td>\n",
       "      <td>77.371</td>\n",
       "      <td>78.612</td>\n",
       "      <td>78.62</td>\n",
       "      <td>78.603</td>\n",
       "      <td>78.803</td>\n",
       "      <td>78.614</td>\n",
       "      <td>78.644</td>\n",
       "      <td>78.486</td>\n",
       "      <td>78.794</td>\n",
       "      <td>78.854</td>\n",
       "      <td>79.01</td>\n",
       "      <td>78.445</td>\n",
       "      <td>77.315</td>\n",
       "      <td>None</td>\n",
       "    </tr>\n",
       "    <tr>\n",
       "      <th>1</th>\n",
       "      <td>None</td>\n",
       "      <td>AFE</td>\n",
       "      <td>Esperanza de vida al nacer, mujeres (años)</td>\n",
       "      <td>SP.DYN.LE00.FE.IN</td>\n",
       "      <td>45.7073806114601</td>\n",
       "      <td>46.1187374476268</td>\n",
       "      <td>46.4793254952251</td>\n",
       "      <td>46.772370142972</td>\n",
       "      <td>47.3501615657085</td>\n",
       "      <td>47.4204739661519</td>\n",
       "      <td>47.1182913268798</td>\n",
       "      <td>47.8452250201486</td>\n",
       "      <td>48.1519717962566</td>\n",
       "      <td>48.3988985188352</td>\n",
       "      <td>48.6813269726716</td>\n",
       "      <td>49.2065120887183</td>\n",
       "      <td>48.9153642228006</td>\n",
       "      <td>49.5970021157428</td>\n",
       "      <td>49.4879689150577</td>\n",
       "      <td>49.619009310466</td>\n",
       "      <td>50.3314263344778</td>\n",
       "      <td>50.6851958046723</td>\n",
       "      <td>50.9293719093031</td>\n",
       "      <td>51.3649720386453</td>\n",
       "      <td>51.7179843504051</td>\n",
       "      <td>52.2219537716552</td>\n",
       "      <td>52.493403158806</td>\n",
       "      <td>50.8975139636199</td>\n",
       "      <td>51.0159667552218</td>\n",
       "      <td>51.3479765137673</td>\n",
       "      <td>52.0056410096266</td>\n",
       "      <td>52.5973633731797</td>\n",
       "      <td>51.9874975930103</td>\n",
       "      <td>53.0807189796995</td>\n",
       "      <td>53.0658395514734</td>\n",
       "      <td>52.7460551271059</td>\n",
       "      <td>52.3678484485409</td>\n",
       "      <td>52.7353252238145</td>\n",
       "      <td>53.0321322371138</td>\n",
       "      <td>53.1898367759865</td>\n",
       "      <td>52.9603591651235</td>\n",
       "      <td>53.0385817343631</td>\n",
       "      <td>52.620748145347</td>\n",
       "      <td>53.3961139305132</td>\n",
       "      <td>53.6622075489618</td>\n",
       "      <td>53.7726263118707</td>\n",
       "      <td>54.104872027507</td>\n",
       "      <td>54.4953652961009</td>\n",
       "      <td>55.0200370909508</td>\n",
       "      <td>55.7176973630047</td>\n",
       "      <td>56.6712952845485</td>\n",
       "      <td>57.5312565460398</td>\n",
       "      <td>58.3793864857342</td>\n",
       "      <td>59.4509527719329</td>\n",
       "      <td>60.3096746217232</td>\n",
       "      <td>61.3002881377364</td>\n",
       "      <td>62.1479837948472</td>\n",
       "      <td>62.9358932228363</td>\n",
       "      <td>63.6411707885006</td>\n",
       "      <td>64.1911189450575</td>\n",
       "      <td>64.8677850678876</td>\n",
       "      <td>65.3040042282935</td>\n",
       "      <td>65.8281020897847</td>\n",
       "      <td>66.2197216216821</td>\n",
       "      <td>65.836460467651</td>\n",
       "      <td>65.07846739695</td>\n",
       "      <td>None</td>\n",
       "    </tr>\n",
       "    <tr>\n",
       "      <th>2</th>\n",
       "      <td>Afganistán</td>\n",
       "      <td>AFG</td>\n",
       "      <td>Esperanza de vida al nacer, mujeres (años)</td>\n",
       "      <td>SP.DYN.LE00.FE.IN</td>\n",
       "      <td>33.285</td>\n",
       "      <td>33.813</td>\n",
       "      <td>34.297</td>\n",
       "      <td>34.773</td>\n",
       "      <td>35.246</td>\n",
       "      <td>35.702</td>\n",
       "      <td>36.226</td>\n",
       "      <td>36.711</td>\n",
       "      <td>37.214</td>\n",
       "      <td>37.701</td>\n",
       "      <td>38.233</td>\n",
       "      <td>38.76</td>\n",
       "      <td>39.3</td>\n",
       "      <td>39.857</td>\n",
       "      <td>40.397</td>\n",
       "      <td>40.938</td>\n",
       "      <td>41.483</td>\n",
       "      <td>42.044</td>\n",
       "      <td>41.685</td>\n",
       "      <td>41.143</td>\n",
       "      <td>41.72</td>\n",
       "      <td>42.295</td>\n",
       "      <td>40.833</td>\n",
       "      <td>41.38</td>\n",
       "      <td>37.974</td>\n",
       "      <td>38.316</td>\n",
       "      <td>42.909</td>\n",
       "      <td>43.453</td>\n",
       "      <td>46.569</td>\n",
       "      <td>47.61</td>\n",
       "      <td>48.397</td>\n",
       "      <td>49.144</td>\n",
       "      <td>50.32</td>\n",
       "      <td>52.739</td>\n",
       "      <td>53.544</td>\n",
       "      <td>54.087</td>\n",
       "      <td>54.806</td>\n",
       "      <td>55.151</td>\n",
       "      <td>54.818</td>\n",
       "      <td>56.3</td>\n",
       "      <td>56.858</td>\n",
       "      <td>57.344</td>\n",
       "      <td>57.672</td>\n",
       "      <td>58.65</td>\n",
       "      <td>59.216</td>\n",
       "      <td>59.697</td>\n",
       "      <td>60.243</td>\n",
       "      <td>60.909</td>\n",
       "      <td>61.529</td>\n",
       "      <td>61.892</td>\n",
       "      <td>62.408</td>\n",
       "      <td>62.993</td>\n",
       "      <td>63.514</td>\n",
       "      <td>64.027</td>\n",
       "      <td>64.274</td>\n",
       "      <td>64.576</td>\n",
       "      <td>65.096</td>\n",
       "      <td>66.099</td>\n",
       "      <td>66.458</td>\n",
       "      <td>66.677</td>\n",
       "      <td>65.432</td>\n",
       "      <td>65.279</td>\n",
       "      <td>None</td>\n",
       "    </tr>\n",
       "  </tbody>\n",
       "</table>\n",
       "</div>"
      ],
      "text/plain": [
       "  Country Name Country Code                              Indicator Name     Indicator Code              1960              1961              1962             1963              1964              1965              1966              1967              1968              1969              1970              1971              1972              1973              1974             1975              1976              1977              1978              1979              1980              1981             1982              1983              1984              1985              1986              1987              1988              1989              1990              1991              1992              1993              1994              1995              1996              1997             1998              1999              2000              2001             2002              2003              2004              2005              2006              2007              2008              2009              2010              2011              2012              2013              2014              2015              2016              2017              2018              2019             2020            2021  2022\n",
       "0        Aruba          ABW  Esperanza de vida al nacer, mujeres (años)  SP.DYN.LE00.FE.IN            67.783            68.269            68.579           68.992             69.18            69.449            69.901            70.281            70.673            71.135            71.585            72.006            72.785            73.487            73.909           74.284            74.417            74.525            74.615            74.746             74.83            75.298           75.504            75.707            75.855            76.052            76.139            76.117            76.113            76.147            76.196            76.147            76.181            76.218            76.253             76.36            76.403            76.355           76.378            76.466            76.477            76.495           76.555            76.503             76.45             76.56            76.542            76.478            76.944            77.371            78.612             78.62            78.603            78.803            78.614            78.644            78.486            78.794            78.854             79.01           78.445          77.315  None\n",
       "1         None          AFE  Esperanza de vida al nacer, mujeres (años)  SP.DYN.LE00.FE.IN  45.7073806114601  46.1187374476268  46.4793254952251  46.772370142972  47.3501615657085  47.4204739661519  47.1182913268798  47.8452250201486  48.1519717962566  48.3988985188352  48.6813269726716  49.2065120887183  48.9153642228006  49.5970021157428  49.4879689150577  49.619009310466  50.3314263344778  50.6851958046723  50.9293719093031  51.3649720386453  51.7179843504051  52.2219537716552  52.493403158806  50.8975139636199  51.0159667552218  51.3479765137673  52.0056410096266  52.5973633731797  51.9874975930103  53.0807189796995  53.0658395514734  52.7460551271059  52.3678484485409  52.7353252238145  53.0321322371138  53.1898367759865  52.9603591651235  53.0385817343631  52.620748145347  53.3961139305132  53.6622075489618  53.7726263118707  54.104872027507  54.4953652961009  55.0200370909508  55.7176973630047  56.6712952845485  57.5312565460398  58.3793864857342  59.4509527719329  60.3096746217232  61.3002881377364  62.1479837948472  62.9358932228363  63.6411707885006  64.1911189450575  64.8677850678876  65.3040042282935  65.8281020897847  66.2197216216821  65.836460467651  65.07846739695  None\n",
       "2   Afganistán          AFG  Esperanza de vida al nacer, mujeres (años)  SP.DYN.LE00.FE.IN            33.285            33.813            34.297           34.773            35.246            35.702            36.226            36.711            37.214            37.701            38.233             38.76              39.3            39.857            40.397           40.938            41.483            42.044            41.685            41.143             41.72            42.295           40.833             41.38            37.974            38.316            42.909            43.453            46.569             47.61            48.397            49.144             50.32            52.739            53.544            54.087            54.806            55.151           54.818              56.3            56.858            57.344           57.672             58.65            59.216            59.697            60.243            60.909            61.529            61.892            62.408            62.993            63.514            64.027            64.274            64.576            65.096            66.099            66.458            66.677           65.432          65.279  None"
      ]
     },
     "execution_count": 39,
     "metadata": {},
     "output_type": "execute_result"
    }
   ],
   "source": [
    "data_02.limit(3).pandas_api()\n"
   ]
  },
  {
   "cell_type": "code",
   "execution_count": 40,
   "id": "47f5f2de-a6b0-449a-99ea-5d286ec745a3",
   "metadata": {
    "execution": {
     "iopub.execute_input": "2023-06-06T05:58:45.396984Z",
     "iopub.status.busy": "2023-06-06T05:58:45.396674Z",
     "iopub.status.idle": "2023-06-06T05:58:45.420786Z",
     "shell.execute_reply": "2023-06-06T05:58:45.420201Z",
     "shell.execute_reply.started": "2023-06-06T05:58:45.396959Z"
    },
    "tags": []
   },
   "outputs": [],
   "source": [
    "data_02 = data_02.selectExpr('`Country Name`', '`Country Code`', \"`Indicator Name`\", \"`Indicator Code`\", \"stack(63, \\\n",
    "'1960', `1960`, '1961', `1961`, '1962', `1962`, '1963', `1963`, '1964', `1964`, \\\n",
    "'1965', `1965`, '1966', `1966`, '1967', `1967`, '1968', `1968`, '1969', `1969`, \\\n",
    "'1970', `1970`, '1971', `1971`, '1972', `1972`, '1973', `1973`, '1974', `1974`, \\\n",
    "'1975', `1975`, '1976', `1976`, '1977', `1977`, '1978', `1978`, '1979', `1979`, \\\n",
    "'1980', `1980`, '1981', `1981`, '1982', `1982`, '1983', `1983`, '1984', `1984`, \\\n",
    "'1985', `1985`, '1986', `1986`, '1987', `1987`, '1988', `1988`, '1989', `1989`, \\\n",
    "'1990', `1990`, '1991', `1991`, '1992', `1992`, '1993', `1993`, '1994', `1994`, \\\n",
    "'1995', `1995`, '1996', `1996`, '1997', `1997`, '1998', `1998`, '1999', `1999`, \\\n",
    "'2010', `2010`, '2011', `2011`, '2012', `2012`, '2013', `2013`, '2014', `2014`, \\\n",
    "'2015', `2015`, '2016', `2016`, '2017', `2017`, '2018', `2018`, '2019', `2019`, \\\n",
    "'2010', `2010`, '2011', `2011`, '2012', `2012`, '2013', `2013`, '2014', `2014`, \\\n",
    "'2015', `2015`, '2016', `2016`, '2017', `2017`, '2018', `2018`, '2019', `2019`, \\\n",
    "'2020', `2020`, '2021', `2021`, '2022', `2022`) as (Year, life_expatancy_female)\")"
   ]
  },
  {
   "cell_type": "code",
   "execution_count": null,
   "id": "b4f48e67-d826-4235-93a0-d24b552efea7",
   "metadata": {},
   "outputs": [],
   "source": [
    "data_02 = data_02.filter(col(\"Country Name\").isin(americans_countries) | col(\"Country Name\").isin(oceanic_countries))\n",
    "data_02 = data_02.filter(col(\"Year\") >= \"1985\")"
   ]
  },
  {
   "cell_type": "code",
   "execution_count": 41,
   "id": "8b3e77e9-388c-42ce-b9d8-140e309fc123",
   "metadata": {
    "execution": {
     "iopub.execute_input": "2023-06-06T05:58:45.421827Z",
     "iopub.status.busy": "2023-06-06T05:58:45.421579Z",
     "iopub.status.idle": "2023-06-06T05:58:45.589250Z",
     "shell.execute_reply": "2023-06-06T05:58:45.588586Z",
     "shell.execute_reply.started": "2023-06-06T05:58:45.421803Z"
    },
    "tags": []
   },
   "outputs": [
    {
     "data": {
      "text/html": [
       "<div>\n",
       "<style scoped>\n",
       "    .dataframe tbody tr th:only-of-type {\n",
       "        vertical-align: middle;\n",
       "    }\n",
       "\n",
       "    .dataframe tbody tr th {\n",
       "        vertical-align: top;\n",
       "    }\n",
       "\n",
       "    .dataframe thead th {\n",
       "        text-align: right;\n",
       "    }\n",
       "</style>\n",
       "<table border=\"1\" class=\"dataframe\">\n",
       "  <thead>\n",
       "    <tr style=\"text-align: right;\">\n",
       "      <th></th>\n",
       "      <th>Country Name</th>\n",
       "      <th>Country Code</th>\n",
       "      <th>Indicator Name</th>\n",
       "      <th>Indicator Code</th>\n",
       "      <th>Year</th>\n",
       "      <th>life_expatancy_female</th>\n",
       "    </tr>\n",
       "  </thead>\n",
       "  <tbody>\n",
       "    <tr>\n",
       "      <th>0</th>\n",
       "      <td>Aruba</td>\n",
       "      <td>ABW</td>\n",
       "      <td>Esperanza de vida al nacer, mujeres (años)</td>\n",
       "      <td>SP.DYN.LE00.FE.IN</td>\n",
       "      <td>1960</td>\n",
       "      <td>67.783</td>\n",
       "    </tr>\n",
       "    <tr>\n",
       "      <th>1</th>\n",
       "      <td>Aruba</td>\n",
       "      <td>ABW</td>\n",
       "      <td>Esperanza de vida al nacer, mujeres (años)</td>\n",
       "      <td>SP.DYN.LE00.FE.IN</td>\n",
       "      <td>1961</td>\n",
       "      <td>68.269</td>\n",
       "    </tr>\n",
       "    <tr>\n",
       "      <th>2</th>\n",
       "      <td>Aruba</td>\n",
       "      <td>ABW</td>\n",
       "      <td>Esperanza de vida al nacer, mujeres (años)</td>\n",
       "      <td>SP.DYN.LE00.FE.IN</td>\n",
       "      <td>1962</td>\n",
       "      <td>68.579</td>\n",
       "    </tr>\n",
       "  </tbody>\n",
       "</table>\n",
       "</div>"
      ],
      "text/plain": [
       "  Country Name Country Code                              Indicator Name     Indicator Code  Year life_expatancy_female\n",
       "0        Aruba          ABW  Esperanza de vida al nacer, mujeres (años)  SP.DYN.LE00.FE.IN  1960                67.783\n",
       "1        Aruba          ABW  Esperanza de vida al nacer, mujeres (años)  SP.DYN.LE00.FE.IN  1961                68.269\n",
       "2        Aruba          ABW  Esperanza de vida al nacer, mujeres (años)  SP.DYN.LE00.FE.IN  1962                68.579"
      ]
     },
     "execution_count": 41,
     "metadata": {},
     "output_type": "execute_result"
    }
   ],
   "source": [
    "data_02.limit(3).pandas_api()\n"
   ]
  },
  {
   "cell_type": "code",
   "execution_count": null,
   "id": "28f8ba15-10a1-4d3a-8ecc-7ef927ee88bf",
   "metadata": {},
   "outputs": [],
   "source": []
  },
  {
   "cell_type": "code",
   "execution_count": 42,
   "id": "e1e3b47a-469f-4f95-86cb-a3225f19bd98",
   "metadata": {
    "execution": {
     "iopub.execute_input": "2023-06-06T05:58:45.590195Z",
     "iopub.status.busy": "2023-06-06T05:58:45.589977Z",
     "iopub.status.idle": "2023-06-06T05:58:45.596643Z",
     "shell.execute_reply": "2023-06-06T05:58:45.596040Z",
     "shell.execute_reply.started": "2023-06-06T05:58:45.590173Z"
    },
    "tags": []
   },
   "outputs": [],
   "source": [
    "data_02 = data_02.drop(\"Country Name\",\"Indicator Name\",\"Indicator Code\")"
   ]
  },
  {
   "cell_type": "markdown",
   "id": "43a65cb2-e5a4-4086-aaf4-6eb918c4ef12",
   "metadata": {
    "execution": {
     "iopub.execute_input": "2023-06-04T08:32:48.493404Z",
     "iopub.status.busy": "2023-06-04T08:32:48.492817Z",
     "iopub.status.idle": "2023-06-04T08:32:48.497548Z",
     "shell.execute_reply": "2023-06-04T08:32:48.496674Z",
     "shell.execute_reply.started": "2023-06-04T08:32:48.493381Z"
    },
    "tags": []
   },
   "source": [
    "# Tasa de mortalidad, neonatal (por cada 1.000 nacidos vivos)\n",
    "Algunos metadatos están solo en inglés\n",
    "\n",
    "La tasa de mortalidad neonatal es el número de recién nacidos que mueren antes de alcanzar los 28 días de edad, por cada 1.000 nacidos vivos en un año determinado.\n",
    "\n",
    "https://datos.bancomundial.org/indicador/SH.DYN.NMRT?view=chart\n",
    "\n"
   ]
  },
  {
   "cell_type": "code",
   "execution_count": 43,
   "id": "d84eb6f1-3faa-4d7a-afba-cb4711ecc14a",
   "metadata": {
    "execution": {
     "iopub.execute_input": "2023-06-06T05:58:45.597570Z",
     "iopub.status.busy": "2023-06-06T05:58:45.597370Z",
     "iopub.status.idle": "2023-06-06T05:58:45.605577Z",
     "shell.execute_reply": "2023-06-06T05:58:45.604998Z",
     "shell.execute_reply.started": "2023-06-06T05:58:45.597546Z"
    },
    "tags": []
   },
   "outputs": [],
   "source": [
    "url_03 = \"https://api.worldbank.org/v2/es/indicator/SH.DYN.NMRT?downloadformat=csv\""
   ]
  },
  {
   "cell_type": "code",
   "execution_count": 44,
   "id": "108eeda7-288f-403c-9f00-a8669920cd71",
   "metadata": {
    "execution": {
     "iopub.execute_input": "2023-06-06T05:58:45.606256Z",
     "iopub.status.busy": "2023-06-06T05:58:45.606091Z",
     "iopub.status.idle": "2023-06-06T05:58:46.638388Z",
     "shell.execute_reply": "2023-06-06T05:58:46.636961Z",
     "shell.execute_reply.started": "2023-06-06T05:58:45.606239Z"
    },
    "tags": []
   },
   "outputs": [],
   "source": [
    "response_url_03 = requests.get(url_03)"
   ]
  },
  {
   "cell_type": "code",
   "execution_count": 45,
   "id": "863e859a-eaee-4648-89bd-1ce39284ff83",
   "metadata": {
    "execution": {
     "iopub.execute_input": "2023-06-06T05:58:46.640924Z",
     "iopub.status.busy": "2023-06-06T05:58:46.640520Z",
     "iopub.status.idle": "2023-06-06T05:58:46.652995Z",
     "shell.execute_reply": "2023-06-06T05:58:46.651147Z",
     "shell.execute_reply.started": "2023-06-06T05:58:46.640886Z"
    },
    "tags": []
   },
   "outputs": [
    {
     "name": "stdout",
     "output_type": "stream",
     "text": [
      "El archivo ZIP se ha descargado y descomprimido correctamente.\n"
     ]
    }
   ],
   "source": [
    "if response_url_03.status_code == 200:\n",
    "    # Crear un objeto ZipFile a partir de los datos de la respuesta\n",
    "    with zipfile.ZipFile(io.BytesIO(response_url_03.content), \"r\") as zip_url_03:\n",
    "        # Extraer todos los archivos del archivo ZIP en el directorio actual\n",
    "        zip_url_03.extractall(\"dataset\")\n",
    "\n",
    "    print(\"El archivo ZIP se ha descargado y descomprimido correctamente.\")\n",
    "else:\n",
    "    print(\"Error al descargar el archivo ZIP:\", response_url_03.status_code)"
   ]
  },
  {
   "cell_type": "code",
   "execution_count": 46,
   "id": "6079a955-1834-492b-b7ee-0fa64bbe41b5",
   "metadata": {
    "execution": {
     "iopub.execute_input": "2023-06-06T05:58:46.654762Z",
     "iopub.status.busy": "2023-06-06T05:58:46.654363Z",
     "iopub.status.idle": "2023-06-06T05:58:46.659383Z",
     "shell.execute_reply": "2023-06-06T05:58:46.658531Z",
     "shell.execute_reply.started": "2023-06-06T05:58:46.654731Z"
    },
    "tags": []
   },
   "outputs": [],
   "source": [
    "# Ruta del archivo CSV\n",
    "\n",
    "csv_url_03 = \"dataset/API_SH.DYN.NMRT_DS2_es_csv_v2_5462559.csv\"\n",
    "\n",
    "# Crear una lista para almacenar las filas del archivo CSV\n",
    "rows_url_03 = []\n",
    "\n",
    "\n",
    "#API_SE.PRM.CMPT.ZS_DS2_es_csv_v2_5478942"
   ]
  },
  {
   "cell_type": "code",
   "execution_count": 47,
   "id": "f0eebc12-f75c-4353-8800-b018e7f67b2d",
   "metadata": {
    "execution": {
     "iopub.execute_input": "2023-06-06T05:58:46.660631Z",
     "iopub.status.busy": "2023-06-06T05:58:46.660371Z",
     "iopub.status.idle": "2023-06-06T05:58:46.670829Z",
     "shell.execute_reply": "2023-06-06T05:58:46.670168Z",
     "shell.execute_reply.started": "2023-06-06T05:58:46.660608Z"
    },
    "tags": []
   },
   "outputs": [],
   "source": [
    "# Leer el archivo CSV y almacenar las filas en la lista\n",
    "with open(csv_url_03, \"r\") as file_csv_url_03:\n",
    "    csv_reader_url_03 = csv.reader(file_csv_url_03)\n",
    "    rows_url_03 = list(csv_reader_url_03)\n"
   ]
  },
  {
   "cell_type": "code",
   "execution_count": 48,
   "id": "d933ef09-c895-4bb1-9793-d44705354735",
   "metadata": {
    "execution": {
     "iopub.execute_input": "2023-06-06T05:58:46.671703Z",
     "iopub.status.busy": "2023-06-06T05:58:46.671518Z",
     "iopub.status.idle": "2023-06-06T05:58:46.682157Z",
     "shell.execute_reply": "2023-06-06T05:58:46.681530Z",
     "shell.execute_reply.started": "2023-06-06T05:58:46.671686Z"
    },
    "tags": []
   },
   "outputs": [],
   "source": [
    "# Eliminar las primeras 4 filas\n",
    "\n",
    "rows_url_03 = rows_url_03[3:]\n",
    "\n",
    "# Escribir las filas modificadas en un nuevo archivo CSV\n",
    "with open(\"dataset/data/data_03.csv\", \"w\", newline=\"\") as file_csv_url_03:\n",
    "    csv_writer_url_03 = csv.writer(file_csv_url_03)\n",
    "    csv_writer_url_03.writerows(rows_url_03)"
   ]
  },
  {
   "cell_type": "code",
   "execution_count": 49,
   "id": "ac43e9ef-cdb5-43c4-8d60-7f890ce4a172",
   "metadata": {
    "execution": {
     "iopub.execute_input": "2023-06-06T05:58:46.682974Z",
     "iopub.status.busy": "2023-06-06T05:58:46.682812Z",
     "iopub.status.idle": "2023-06-06T05:58:46.783775Z",
     "shell.execute_reply": "2023-06-06T05:58:46.783084Z",
     "shell.execute_reply.started": "2023-06-06T05:58:46.682958Z"
    },
    "tags": []
   },
   "outputs": [],
   "source": [
    "data_03 = spark.read.csv(\"dataset/data/data_03.csv\", header=True)"
   ]
  },
  {
   "cell_type": "code",
   "execution_count": 50,
   "id": "90d6d983-8c96-423b-97f8-4257d17d922e",
   "metadata": {
    "execution": {
     "iopub.execute_input": "2023-06-06T05:58:46.785203Z",
     "iopub.status.busy": "2023-06-06T05:58:46.784870Z",
     "iopub.status.idle": "2023-06-06T05:58:46.798893Z",
     "shell.execute_reply": "2023-06-06T05:58:46.798247Z",
     "shell.execute_reply.started": "2023-06-06T05:58:46.785178Z"
    },
    "tags": []
   },
   "outputs": [],
   "source": [
    "data_03 = data_03.drop(\"_c66\",\"_c67\")"
   ]
  },
  {
   "cell_type": "code",
   "execution_count": 51,
   "id": "f6b6dc2b-c52e-44a5-a529-d6e79be26117",
   "metadata": {
    "execution": {
     "iopub.execute_input": "2023-06-06T05:58:46.799739Z",
     "iopub.status.busy": "2023-06-06T05:58:46.799552Z",
     "iopub.status.idle": "2023-06-06T05:58:47.110267Z",
     "shell.execute_reply": "2023-06-06T05:58:47.109752Z",
     "shell.execute_reply.started": "2023-06-06T05:58:46.799722Z"
    },
    "tags": []
   },
   "outputs": [
    {
     "data": {
      "text/html": [
       "<div>\n",
       "<style scoped>\n",
       "    .dataframe tbody tr th:only-of-type {\n",
       "        vertical-align: middle;\n",
       "    }\n",
       "\n",
       "    .dataframe tbody tr th {\n",
       "        vertical-align: top;\n",
       "    }\n",
       "\n",
       "    .dataframe thead th {\n",
       "        text-align: right;\n",
       "    }\n",
       "</style>\n",
       "<table border=\"1\" class=\"dataframe\">\n",
       "  <thead>\n",
       "    <tr style=\"text-align: right;\">\n",
       "      <th></th>\n",
       "      <th>Country Name</th>\n",
       "      <th>Country Code</th>\n",
       "      <th>Indicator Name</th>\n",
       "      <th>Indicator Code</th>\n",
       "      <th>1960</th>\n",
       "      <th>1961</th>\n",
       "      <th>1962</th>\n",
       "      <th>1963</th>\n",
       "      <th>1964</th>\n",
       "      <th>1965</th>\n",
       "      <th>1966</th>\n",
       "      <th>1967</th>\n",
       "      <th>1968</th>\n",
       "      <th>1969</th>\n",
       "      <th>1970</th>\n",
       "      <th>1971</th>\n",
       "      <th>1972</th>\n",
       "      <th>1973</th>\n",
       "      <th>1974</th>\n",
       "      <th>1975</th>\n",
       "      <th>1976</th>\n",
       "      <th>1977</th>\n",
       "      <th>1978</th>\n",
       "      <th>1979</th>\n",
       "      <th>1980</th>\n",
       "      <th>1981</th>\n",
       "      <th>1982</th>\n",
       "      <th>1983</th>\n",
       "      <th>1984</th>\n",
       "      <th>1985</th>\n",
       "      <th>1986</th>\n",
       "      <th>1987</th>\n",
       "      <th>1988</th>\n",
       "      <th>1989</th>\n",
       "      <th>1990</th>\n",
       "      <th>1991</th>\n",
       "      <th>1992</th>\n",
       "      <th>1993</th>\n",
       "      <th>1994</th>\n",
       "      <th>1995</th>\n",
       "      <th>1996</th>\n",
       "      <th>1997</th>\n",
       "      <th>1998</th>\n",
       "      <th>1999</th>\n",
       "      <th>2000</th>\n",
       "      <th>2001</th>\n",
       "      <th>2002</th>\n",
       "      <th>2003</th>\n",
       "      <th>2004</th>\n",
       "      <th>2005</th>\n",
       "      <th>2006</th>\n",
       "      <th>2007</th>\n",
       "      <th>2008</th>\n",
       "      <th>2009</th>\n",
       "      <th>2010</th>\n",
       "      <th>2011</th>\n",
       "      <th>2012</th>\n",
       "      <th>2013</th>\n",
       "      <th>2014</th>\n",
       "      <th>2015</th>\n",
       "      <th>2016</th>\n",
       "      <th>2017</th>\n",
       "      <th>2018</th>\n",
       "      <th>2019</th>\n",
       "      <th>2020</th>\n",
       "      <th>2021</th>\n",
       "      <th>2022</th>\n",
       "    </tr>\n",
       "  </thead>\n",
       "  <tbody>\n",
       "    <tr>\n",
       "      <th>0</th>\n",
       "      <td>Aruba</td>\n",
       "      <td>ABW</td>\n",
       "      <td>Tasa de mortalidad, neonatal (por cada 1.000 ...</td>\n",
       "      <td>SH.DYN.NMRT</td>\n",
       "      <td>None</td>\n",
       "      <td>None</td>\n",
       "      <td>None</td>\n",
       "      <td>None</td>\n",
       "      <td>None</td>\n",
       "      <td>None</td>\n",
       "      <td>None</td>\n",
       "      <td>None</td>\n",
       "      <td>None</td>\n",
       "      <td>None</td>\n",
       "      <td>None</td>\n",
       "      <td>None</td>\n",
       "      <td>None</td>\n",
       "      <td>None</td>\n",
       "      <td>None</td>\n",
       "      <td>None</td>\n",
       "      <td>None</td>\n",
       "      <td>None</td>\n",
       "      <td>None</td>\n",
       "      <td>None</td>\n",
       "      <td>None</td>\n",
       "      <td>None</td>\n",
       "      <td>None</td>\n",
       "      <td>None</td>\n",
       "      <td>None</td>\n",
       "      <td>None</td>\n",
       "      <td>None</td>\n",
       "      <td>None</td>\n",
       "      <td>None</td>\n",
       "      <td>None</td>\n",
       "      <td>None</td>\n",
       "      <td>None</td>\n",
       "      <td>None</td>\n",
       "      <td>None</td>\n",
       "      <td>None</td>\n",
       "      <td>None</td>\n",
       "      <td>None</td>\n",
       "      <td>None</td>\n",
       "      <td>None</td>\n",
       "      <td>None</td>\n",
       "      <td>None</td>\n",
       "      <td>None</td>\n",
       "      <td>None</td>\n",
       "      <td>None</td>\n",
       "      <td>None</td>\n",
       "      <td>None</td>\n",
       "      <td>None</td>\n",
       "      <td>None</td>\n",
       "      <td>None</td>\n",
       "      <td>None</td>\n",
       "      <td>None</td>\n",
       "      <td>None</td>\n",
       "      <td>None</td>\n",
       "      <td>None</td>\n",
       "      <td>None</td>\n",
       "      <td>None</td>\n",
       "      <td>None</td>\n",
       "      <td>None</td>\n",
       "      <td>None</td>\n",
       "      <td>None</td>\n",
       "      <td>None</td>\n",
       "      <td>None</td>\n",
       "      <td>None</td>\n",
       "    </tr>\n",
       "    <tr>\n",
       "      <th>1</th>\n",
       "      <td>None</td>\n",
       "      <td>AFE</td>\n",
       "      <td>Tasa de mortalidad, neonatal (por cada 1.000 ...</td>\n",
       "      <td>SH.DYN.NMRT</td>\n",
       "      <td>None</td>\n",
       "      <td>None</td>\n",
       "      <td>None</td>\n",
       "      <td>None</td>\n",
       "      <td>None</td>\n",
       "      <td>None</td>\n",
       "      <td>None</td>\n",
       "      <td>None</td>\n",
       "      <td>None</td>\n",
       "      <td>None</td>\n",
       "      <td>None</td>\n",
       "      <td>None</td>\n",
       "      <td>None</td>\n",
       "      <td>None</td>\n",
       "      <td>None</td>\n",
       "      <td>None</td>\n",
       "      <td>None</td>\n",
       "      <td>None</td>\n",
       "      <td>None</td>\n",
       "      <td>None</td>\n",
       "      <td>None</td>\n",
       "      <td>None</td>\n",
       "      <td>None</td>\n",
       "      <td>None</td>\n",
       "      <td>None</td>\n",
       "      <td>None</td>\n",
       "      <td>None</td>\n",
       "      <td>None</td>\n",
       "      <td>None</td>\n",
       "      <td>None</td>\n",
       "      <td>42.8297549630242</td>\n",
       "      <td>42.4113690560679</td>\n",
       "      <td>42.0003745337893</td>\n",
       "      <td>41.6017221913987</td>\n",
       "      <td>41.2516316717628</td>\n",
       "      <td>40.7085720917521</td>\n",
       "      <td>40.2880835884816</td>\n",
       "      <td>39.8967440749264</td>\n",
       "      <td>39.291052253688</td>\n",
       "      <td>38.6330999868164</td>\n",
       "      <td>37.9601637494138</td>\n",
       "      <td>37.160568482565</td>\n",
       "      <td>36.3835979901586</td>\n",
       "      <td>35.5361863680893</td>\n",
       "      <td>34.656877548392</td>\n",
       "      <td>33.8365654095307</td>\n",
       "      <td>33.0376461174565</td>\n",
       "      <td>32.2716635496204</td>\n",
       "      <td>31.4812178052392</td>\n",
       "      <td>30.8197722535952</td>\n",
       "      <td>30.1543631971504</td>\n",
       "      <td>29.4644187838301</td>\n",
       "      <td>28.7862930365553</td>\n",
       "      <td>28.1307423875659</td>\n",
       "      <td>27.5083932781221</td>\n",
       "      <td>26.9392074730253</td>\n",
       "      <td>26.4032313662393</td>\n",
       "      <td>25.815463081475</td>\n",
       "      <td>25.2704152491122</td>\n",
       "      <td>24.7590627470514</td>\n",
       "      <td>24.3172841944318</td>\n",
       "      <td>23.8201577306965</td>\n",
       "      <td>None</td>\n",
       "    </tr>\n",
       "    <tr>\n",
       "      <th>2</th>\n",
       "      <td>Afganistán</td>\n",
       "      <td>AFG</td>\n",
       "      <td>Tasa de mortalidad, neonatal (por cada 1.000 ...</td>\n",
       "      <td>SH.DYN.NMRT</td>\n",
       "      <td>None</td>\n",
       "      <td>None</td>\n",
       "      <td>None</td>\n",
       "      <td>None</td>\n",
       "      <td>None</td>\n",
       "      <td>None</td>\n",
       "      <td>None</td>\n",
       "      <td>None</td>\n",
       "      <td>None</td>\n",
       "      <td>None</td>\n",
       "      <td>None</td>\n",
       "      <td>None</td>\n",
       "      <td>None</td>\n",
       "      <td>None</td>\n",
       "      <td>None</td>\n",
       "      <td>None</td>\n",
       "      <td>None</td>\n",
       "      <td>None</td>\n",
       "      <td>None</td>\n",
       "      <td>None</td>\n",
       "      <td>None</td>\n",
       "      <td>None</td>\n",
       "      <td>None</td>\n",
       "      <td>None</td>\n",
       "      <td>None</td>\n",
       "      <td>None</td>\n",
       "      <td>None</td>\n",
       "      <td>79</td>\n",
       "      <td>77.4</td>\n",
       "      <td>75.9</td>\n",
       "      <td>74.4</td>\n",
       "      <td>72.9</td>\n",
       "      <td>71.3</td>\n",
       "      <td>69.8</td>\n",
       "      <td>68.4</td>\n",
       "      <td>67</td>\n",
       "      <td>65.7</td>\n",
       "      <td>64.5</td>\n",
       "      <td>63.3</td>\n",
       "      <td>62.2</td>\n",
       "      <td>61</td>\n",
       "      <td>59.7</td>\n",
       "      <td>58.5</td>\n",
       "      <td>57.2</td>\n",
       "      <td>55.9</td>\n",
       "      <td>54.5</td>\n",
       "      <td>53.2</td>\n",
       "      <td>51.8</td>\n",
       "      <td>50.4</td>\n",
       "      <td>48.9</td>\n",
       "      <td>47.4</td>\n",
       "      <td>46</td>\n",
       "      <td>44.5</td>\n",
       "      <td>43.1</td>\n",
       "      <td>41.8</td>\n",
       "      <td>40.4</td>\n",
       "      <td>39.2</td>\n",
       "      <td>38</td>\n",
       "      <td>37</td>\n",
       "      <td>36</td>\n",
       "      <td>35</td>\n",
       "      <td>34.1</td>\n",
       "      <td>None</td>\n",
       "    </tr>\n",
       "  </tbody>\n",
       "</table>\n",
       "</div>"
      ],
      "text/plain": [
       "  Country Name Country Code                                                Indicator Name Indicator Code  1960  1961  1962  1963  1964  1965  1966  1967  1968  1969  1970  1971  1972  1973  1974  1975  1976  1977  1978  1979  1980  1981  1982  1983  1984  1985  1986  1987  1988  1989              1990              1991              1992              1993              1994              1995              1996              1997             1998              1999              2000             2001              2002              2003             2004              2005              2006              2007              2008              2009              2010              2011              2012              2013              2014              2015              2016             2017              2018              2019              2020              2021  2022\n",
       "0        Aruba          ABW   Tasa de mortalidad, neonatal (por cada 1.000 nacidos vivos)    SH.DYN.NMRT  None  None  None  None  None  None  None  None  None  None  None  None  None  None  None  None  None  None  None  None  None  None  None  None  None  None  None  None  None  None              None              None              None              None              None              None              None              None             None              None              None             None              None              None             None              None              None              None              None              None              None              None              None              None              None              None              None             None              None              None              None              None  None\n",
       "1         None          AFE   Tasa de mortalidad, neonatal (por cada 1.000 nacidos vivos)    SH.DYN.NMRT  None  None  None  None  None  None  None  None  None  None  None  None  None  None  None  None  None  None  None  None  None  None  None  None  None  None  None  None  None  None  42.8297549630242  42.4113690560679  42.0003745337893  41.6017221913987  41.2516316717628  40.7085720917521  40.2880835884816  39.8967440749264  39.291052253688  38.6330999868164  37.9601637494138  37.160568482565  36.3835979901586  35.5361863680893  34.656877548392  33.8365654095307  33.0376461174565  32.2716635496204  31.4812178052392  30.8197722535952  30.1543631971504  29.4644187838301  28.7862930365553  28.1307423875659  27.5083932781221  26.9392074730253  26.4032313662393  25.815463081475  25.2704152491122  24.7590627470514  24.3172841944318  23.8201577306965  None\n",
       "2   Afganistán          AFG   Tasa de mortalidad, neonatal (por cada 1.000 nacidos vivos)    SH.DYN.NMRT  None  None  None  None  None  None  None  None  None  None  None  None  None  None  None  None  None  None  None  None  None  None  None  None  None  None  None    79  77.4  75.9              74.4              72.9              71.3              69.8              68.4                67              65.7              64.5             63.3              62.2                61             59.7              58.5              57.2             55.9              54.5              53.2              51.8              50.4              48.9              47.4                46              44.5              43.1              41.8              40.4              39.2               38                37                36                35              34.1  None"
      ]
     },
     "execution_count": 51,
     "metadata": {},
     "output_type": "execute_result"
    }
   ],
   "source": [
    "data_03.limit(3).pandas_api()\n"
   ]
  },
  {
   "cell_type": "code",
   "execution_count": 52,
   "id": "f12e0970-dcea-458c-b6e3-4080766a0dcd",
   "metadata": {
    "execution": {
     "iopub.execute_input": "2023-06-06T05:58:47.111136Z",
     "iopub.status.busy": "2023-06-06T05:58:47.110963Z",
     "iopub.status.idle": "2023-06-06T05:58:47.131870Z",
     "shell.execute_reply": "2023-06-06T05:58:47.131308Z",
     "shell.execute_reply.started": "2023-06-06T05:58:47.111120Z"
    },
    "tags": []
   },
   "outputs": [],
   "source": [
    "data_03 = data_03.selectExpr('`Country Name`', '`Country Code`', \"`Indicator Name`\", \"`Indicator Code`\", \"stack(63, \\\n",
    "'1960', `1960`, '1961', `1961`, '1962', `1962`, '1963', `1963`, '1964', `1964`, \\\n",
    "'1965', `1965`, '1966', `1966`, '1967', `1967`, '1968', `1968`, '1969', `1969`, \\\n",
    "'1970', `1970`, '1971', `1971`, '1972', `1972`, '1973', `1973`, '1974', `1974`, \\\n",
    "'1975', `1975`, '1976', `1976`, '1977', `1977`, '1978', `1978`, '1979', `1979`, \\\n",
    "'1980', `1980`, '1981', `1981`, '1982', `1982`, '1983', `1983`, '1984', `1984`, \\\n",
    "'1985', `1985`, '1986', `1986`, '1987', `1987`, '1988', `1988`, '1989', `1989`, \\\n",
    "'1990', `1990`, '1991', `1991`, '1992', `1992`, '1993', `1993`, '1994', `1994`, \\\n",
    "'1995', `1995`, '1996', `1996`, '1997', `1997`, '1998', `1998`, '1999', `1999`, \\\n",
    "'2010', `2010`, '2011', `2011`, '2012', `2012`, '2013', `2013`, '2014', `2014`, \\\n",
    "'2015', `2015`, '2016', `2016`, '2017', `2017`, '2018', `2018`, '2019', `2019`, \\\n",
    "'2010', `2010`, '2011', `2011`, '2012', `2012`, '2013', `2013`, '2014', `2014`, \\\n",
    "'2015', `2015`, '2016', `2016`, '2017', `2017`, '2018', `2018`, '2019', `2019`, \\\n",
    "'2020', `2020`, '2021', `2021`, '2022', `2022`) as (Year, ratio_mort_neonatal)\")"
   ]
  },
  {
   "cell_type": "code",
   "execution_count": null,
   "id": "4e0908a2-2fb3-4d66-b478-8161b6bd1de6",
   "metadata": {},
   "outputs": [],
   "source": [
    "data_03 = data_03.filter(col(\"Country Name\").isin(americans_countries) | col(\"Country Name\").isin(oceanic_countries))\n",
    "data_03 = data_03.filter(col(\"Year\") >= \"1985\")"
   ]
  },
  {
   "cell_type": "code",
   "execution_count": 53,
   "id": "ce863cb5-447d-45a9-9c2b-823a86fbc4fa",
   "metadata": {
    "execution": {
     "iopub.execute_input": "2023-06-06T05:58:47.132815Z",
     "iopub.status.busy": "2023-06-06T05:58:47.132516Z",
     "iopub.status.idle": "2023-06-06T05:58:47.304434Z",
     "shell.execute_reply": "2023-06-06T05:58:47.303916Z",
     "shell.execute_reply.started": "2023-06-06T05:58:47.132799Z"
    },
    "tags": []
   },
   "outputs": [
    {
     "data": {
      "text/html": [
       "<div>\n",
       "<style scoped>\n",
       "    .dataframe tbody tr th:only-of-type {\n",
       "        vertical-align: middle;\n",
       "    }\n",
       "\n",
       "    .dataframe tbody tr th {\n",
       "        vertical-align: top;\n",
       "    }\n",
       "\n",
       "    .dataframe thead th {\n",
       "        text-align: right;\n",
       "    }\n",
       "</style>\n",
       "<table border=\"1\" class=\"dataframe\">\n",
       "  <thead>\n",
       "    <tr style=\"text-align: right;\">\n",
       "      <th></th>\n",
       "      <th>Country Name</th>\n",
       "      <th>Country Code</th>\n",
       "      <th>Indicator Name</th>\n",
       "      <th>Indicator Code</th>\n",
       "      <th>Year</th>\n",
       "      <th>ratio_mort_neonatal</th>\n",
       "    </tr>\n",
       "  </thead>\n",
       "  <tbody>\n",
       "    <tr>\n",
       "      <th>0</th>\n",
       "      <td>Aruba</td>\n",
       "      <td>ABW</td>\n",
       "      <td>Tasa de mortalidad, neonatal (por cada 1.000 ...</td>\n",
       "      <td>SH.DYN.NMRT</td>\n",
       "      <td>1960</td>\n",
       "      <td>None</td>\n",
       "    </tr>\n",
       "    <tr>\n",
       "      <th>1</th>\n",
       "      <td>Aruba</td>\n",
       "      <td>ABW</td>\n",
       "      <td>Tasa de mortalidad, neonatal (por cada 1.000 ...</td>\n",
       "      <td>SH.DYN.NMRT</td>\n",
       "      <td>1961</td>\n",
       "      <td>None</td>\n",
       "    </tr>\n",
       "    <tr>\n",
       "      <th>2</th>\n",
       "      <td>Aruba</td>\n",
       "      <td>ABW</td>\n",
       "      <td>Tasa de mortalidad, neonatal (por cada 1.000 ...</td>\n",
       "      <td>SH.DYN.NMRT</td>\n",
       "      <td>1962</td>\n",
       "      <td>None</td>\n",
       "    </tr>\n",
       "  </tbody>\n",
       "</table>\n",
       "</div>"
      ],
      "text/plain": [
       "  Country Name Country Code                                                Indicator Name Indicator Code  Year ratio_mort_neonatal\n",
       "0        Aruba          ABW   Tasa de mortalidad, neonatal (por cada 1.000 nacidos vivos)    SH.DYN.NMRT  1960                None\n",
       "1        Aruba          ABW   Tasa de mortalidad, neonatal (por cada 1.000 nacidos vivos)    SH.DYN.NMRT  1961                None\n",
       "2        Aruba          ABW   Tasa de mortalidad, neonatal (por cada 1.000 nacidos vivos)    SH.DYN.NMRT  1962                None"
      ]
     },
     "execution_count": 53,
     "metadata": {},
     "output_type": "execute_result"
    }
   ],
   "source": [
    "data_03.limit(3).pandas_api()\n"
   ]
  },
  {
   "cell_type": "code",
   "execution_count": 54,
   "id": "7ad186d7-162b-43dc-838b-165d669061a3",
   "metadata": {
    "execution": {
     "iopub.execute_input": "2023-06-06T05:58:47.305236Z",
     "iopub.status.busy": "2023-06-06T05:58:47.305043Z",
     "iopub.status.idle": "2023-06-06T05:58:47.310875Z",
     "shell.execute_reply": "2023-06-06T05:58:47.310355Z",
     "shell.execute_reply.started": "2023-06-06T05:58:47.305219Z"
    },
    "tags": []
   },
   "outputs": [],
   "source": [
    "data_03 = data_03.drop(\"Country Name\",\"Indicator Name\",\"Indicator Code\")"
   ]
  },
  {
   "cell_type": "markdown",
   "id": "8af3ac92-ea73-4b00-8ed4-59a173785515",
   "metadata": {
    "execution": {
     "iopub.execute_input": "2023-06-04T08:16:36.239800Z",
     "iopub.status.busy": "2023-06-04T08:16:36.239416Z",
     "iopub.status.idle": "2023-06-04T08:16:36.245578Z",
     "shell.execute_reply": "2023-06-04T08:16:36.244628Z",
     "shell.execute_reply.started": "2023-06-04T08:16:36.239760Z"
    },
    "tags": []
   },
   "source": [
    "# Tasa de mortalidad, bebés (por cada 1.000 nacidos vivos)\n",
    "\n",
    "\n",
    "La tasa de mortalidad infantil es la cantidad de infantes que mueren antes de llegar al año de vida, por cada 1000 nacidos vivos, en un año determinado.\n",
    "\n",
    "https://datos.bancomundial.org/indicador/SP.DYN.IMRT.IN?view=chart\n"
   ]
  },
  {
   "cell_type": "code",
   "execution_count": 55,
   "id": "b672a3ba-e7c1-468b-a5bc-998da148e6d1",
   "metadata": {
    "execution": {
     "iopub.execute_input": "2023-06-06T05:58:47.311702Z",
     "iopub.status.busy": "2023-06-06T05:58:47.311511Z",
     "iopub.status.idle": "2023-06-06T05:58:47.321578Z",
     "shell.execute_reply": "2023-06-06T05:58:47.321037Z",
     "shell.execute_reply.started": "2023-06-06T05:58:47.311687Z"
    },
    "tags": []
   },
   "outputs": [],
   "source": [
    "url_04 = \"https://api.worldbank.org/v2/es/indicator/SP.DYN.IMRT.IN?downloadformat=csv\""
   ]
  },
  {
   "cell_type": "code",
   "execution_count": 56,
   "id": "b3b8e085-c9d9-4c9e-bada-16d8d1229548",
   "metadata": {
    "execution": {
     "iopub.execute_input": "2023-06-06T05:58:47.322383Z",
     "iopub.status.busy": "2023-06-06T05:58:47.322221Z",
     "iopub.status.idle": "2023-06-06T05:58:48.545440Z",
     "shell.execute_reply": "2023-06-06T05:58:48.544453Z",
     "shell.execute_reply.started": "2023-06-06T05:58:47.322368Z"
    },
    "tags": []
   },
   "outputs": [],
   "source": [
    "response_url_04 = requests.get(url_04)"
   ]
  },
  {
   "cell_type": "code",
   "execution_count": 57,
   "id": "364e0cec-5866-4768-82d0-c0ede043ed7b",
   "metadata": {
    "execution": {
     "iopub.execute_input": "2023-06-06T05:58:48.547303Z",
     "iopub.status.busy": "2023-06-06T05:58:48.546966Z",
     "iopub.status.idle": "2023-06-06T05:58:48.556190Z",
     "shell.execute_reply": "2023-06-06T05:58:48.555264Z",
     "shell.execute_reply.started": "2023-06-06T05:58:48.547274Z"
    },
    "tags": []
   },
   "outputs": [
    {
     "name": "stdout",
     "output_type": "stream",
     "text": [
      "El archivo ZIP se ha descargado y descomprimido correctamente.\n"
     ]
    }
   ],
   "source": [
    "if response_url_04.status_code == 200:\n",
    "    # Crear un objeto ZipFile a partir de los datos de la respuesta\n",
    "    with zipfile.ZipFile(io.BytesIO(response_url_04.content), \"r\") as zip_url_04:\n",
    "        # Extraer todos los archivos del archivo ZIP en el directorio actual\n",
    "        zip_url_04.extractall(\"dataset\")\n",
    "\n",
    "    print(\"El archivo ZIP se ha descargado y descomprimido correctamente.\")\n",
    "else:\n",
    "    print(\"Error al descargar el archivo ZIP:\", response_url_03.status_code)"
   ]
  },
  {
   "cell_type": "code",
   "execution_count": 58,
   "id": "f257c45c-c997-402d-9404-664ee88f20f3",
   "metadata": {
    "execution": {
     "iopub.execute_input": "2023-06-06T05:58:48.557692Z",
     "iopub.status.busy": "2023-06-06T05:58:48.557384Z",
     "iopub.status.idle": "2023-06-06T05:58:48.563933Z",
     "shell.execute_reply": "2023-06-06T05:58:48.563032Z",
     "shell.execute_reply.started": "2023-06-06T05:58:48.557664Z"
    },
    "tags": []
   },
   "outputs": [],
   "source": [
    "# Ruta del archivo CSV\n",
    "\n",
    "csv_url_04 = \"dataset/API_SP.DYN.IMRT.IN_DS2_es_csv_v2_5491556.csv\"\n",
    "\n",
    "# Crear una lista para almacenar las filas del archivo CSV\n",
    "rows_url_04 = []\n",
    "\n",
    "\n",
    "#API_SE.PRM.CMPT.ZS_DS2_es_csv_v2_5478942"
   ]
  },
  {
   "cell_type": "code",
   "execution_count": 59,
   "id": "1b794546-869c-4b9b-9293-4a632fb62d69",
   "metadata": {
    "execution": {
     "iopub.execute_input": "2023-06-06T05:58:48.565414Z",
     "iopub.status.busy": "2023-06-06T05:58:48.565156Z",
     "iopub.status.idle": "2023-06-06T05:58:48.575875Z",
     "shell.execute_reply": "2023-06-06T05:58:48.575244Z",
     "shell.execute_reply.started": "2023-06-06T05:58:48.565390Z"
    },
    "tags": []
   },
   "outputs": [],
   "source": [
    "# Leer el archivo CSV y almacenar las filas en la lista\n",
    "with open(csv_url_04, \"r\") as file_csv_url_04:\n",
    "    csv_reader_url_04 = csv.reader(file_csv_url_04)\n",
    "    rows_url_04 = list(csv_reader_url_04)\n"
   ]
  },
  {
   "cell_type": "code",
   "execution_count": 60,
   "id": "ef9dee16-65ab-4302-a51d-3e376184de87",
   "metadata": {
    "execution": {
     "iopub.execute_input": "2023-06-06T05:58:48.576969Z",
     "iopub.status.busy": "2023-06-06T05:58:48.576607Z",
     "iopub.status.idle": "2023-06-06T05:58:48.588347Z",
     "shell.execute_reply": "2023-06-06T05:58:48.587793Z",
     "shell.execute_reply.started": "2023-06-06T05:58:48.576950Z"
    },
    "tags": []
   },
   "outputs": [],
   "source": [
    "# Eliminar las primeras 4 filas\n",
    "\n",
    "rows_url_04 = rows_url_04[4:]\n",
    "\n",
    "# Escribir las filas modificadas en un nuevo archivo CSV\n",
    "with open(\"dataset/data/data_04.csv\", \"w\", newline=\"\") as file_csv_url_03:\n",
    "    csv_writer_url_03 = csv.writer(file_csv_url_03)\n",
    "    csv_writer_url_03.writerows(rows_url_03)"
   ]
  },
  {
   "cell_type": "code",
   "execution_count": 61,
   "id": "8c7dd22e-8326-429d-892c-308582715670",
   "metadata": {
    "execution": {
     "iopub.execute_input": "2023-06-06T05:58:48.589444Z",
     "iopub.status.busy": "2023-06-06T05:58:48.589059Z",
     "iopub.status.idle": "2023-06-06T05:58:48.679734Z",
     "shell.execute_reply": "2023-06-06T05:58:48.679109Z",
     "shell.execute_reply.started": "2023-06-06T05:58:48.589427Z"
    },
    "tags": []
   },
   "outputs": [],
   "source": [
    "data_04 = spark.read.csv(\"dataset/data/data_04.csv\", header=True)"
   ]
  },
  {
   "cell_type": "code",
   "execution_count": 62,
   "id": "ce9f45ad-aef3-4113-84f8-e7642d0896d7",
   "metadata": {
    "execution": {
     "iopub.execute_input": "2023-06-06T05:58:48.681307Z",
     "iopub.status.busy": "2023-06-06T05:58:48.680586Z",
     "iopub.status.idle": "2023-06-06T05:58:48.691950Z",
     "shell.execute_reply": "2023-06-06T05:58:48.691340Z",
     "shell.execute_reply.started": "2023-06-06T05:58:48.681289Z"
    },
    "tags": []
   },
   "outputs": [],
   "source": [
    "data_04 = data_04.drop(\"_c67\")"
   ]
  },
  {
   "cell_type": "code",
   "execution_count": 63,
   "id": "8bfbd115-28e5-490b-9454-89318cd6dd41",
   "metadata": {
    "execution": {
     "iopub.execute_input": "2023-06-06T05:58:48.693047Z",
     "iopub.status.busy": "2023-06-06T05:58:48.692825Z",
     "iopub.status.idle": "2023-06-06T05:58:48.971795Z",
     "shell.execute_reply": "2023-06-06T05:58:48.971396Z",
     "shell.execute_reply.started": "2023-06-06T05:58:48.693025Z"
    },
    "tags": []
   },
   "outputs": [
    {
     "data": {
      "text/html": [
       "<div>\n",
       "<style scoped>\n",
       "    .dataframe tbody tr th:only-of-type {\n",
       "        vertical-align: middle;\n",
       "    }\n",
       "\n",
       "    .dataframe tbody tr th {\n",
       "        vertical-align: top;\n",
       "    }\n",
       "\n",
       "    .dataframe thead th {\n",
       "        text-align: right;\n",
       "    }\n",
       "</style>\n",
       "<table border=\"1\" class=\"dataframe\">\n",
       "  <thead>\n",
       "    <tr style=\"text-align: right;\">\n",
       "      <th></th>\n",
       "      <th>Country Name</th>\n",
       "      <th>Country Code</th>\n",
       "      <th>Indicator Name</th>\n",
       "      <th>Indicator Code</th>\n",
       "      <th>1960</th>\n",
       "      <th>1961</th>\n",
       "      <th>1962</th>\n",
       "      <th>1963</th>\n",
       "      <th>1964</th>\n",
       "      <th>1965</th>\n",
       "      <th>1966</th>\n",
       "      <th>1967</th>\n",
       "      <th>1968</th>\n",
       "      <th>1969</th>\n",
       "      <th>1970</th>\n",
       "      <th>1971</th>\n",
       "      <th>1972</th>\n",
       "      <th>1973</th>\n",
       "      <th>1974</th>\n",
       "      <th>1975</th>\n",
       "      <th>1976</th>\n",
       "      <th>1977</th>\n",
       "      <th>1978</th>\n",
       "      <th>1979</th>\n",
       "      <th>1980</th>\n",
       "      <th>1981</th>\n",
       "      <th>1982</th>\n",
       "      <th>1983</th>\n",
       "      <th>1984</th>\n",
       "      <th>1985</th>\n",
       "      <th>1986</th>\n",
       "      <th>1987</th>\n",
       "      <th>1988</th>\n",
       "      <th>1989</th>\n",
       "      <th>1990</th>\n",
       "      <th>1991</th>\n",
       "      <th>1992</th>\n",
       "      <th>1993</th>\n",
       "      <th>1994</th>\n",
       "      <th>1995</th>\n",
       "      <th>1996</th>\n",
       "      <th>1997</th>\n",
       "      <th>1998</th>\n",
       "      <th>1999</th>\n",
       "      <th>2000</th>\n",
       "      <th>2001</th>\n",
       "      <th>2002</th>\n",
       "      <th>2003</th>\n",
       "      <th>2004</th>\n",
       "      <th>2005</th>\n",
       "      <th>2006</th>\n",
       "      <th>2007</th>\n",
       "      <th>2008</th>\n",
       "      <th>2009</th>\n",
       "      <th>2010</th>\n",
       "      <th>2011</th>\n",
       "      <th>2012</th>\n",
       "      <th>2013</th>\n",
       "      <th>2014</th>\n",
       "      <th>2015</th>\n",
       "      <th>2016</th>\n",
       "      <th>2017</th>\n",
       "      <th>2018</th>\n",
       "      <th>2019</th>\n",
       "      <th>2020</th>\n",
       "      <th>2021</th>\n",
       "      <th>2022</th>\n",
       "    </tr>\n",
       "  </thead>\n",
       "  <tbody>\n",
       "    <tr>\n",
       "      <th>0</th>\n",
       "      <td>Aruba</td>\n",
       "      <td>ABW</td>\n",
       "      <td>Tasa de mortalidad, neonatal (por cada 1.000 ...</td>\n",
       "      <td>SH.DYN.NMRT</td>\n",
       "      <td>None</td>\n",
       "      <td>None</td>\n",
       "      <td>None</td>\n",
       "      <td>None</td>\n",
       "      <td>None</td>\n",
       "      <td>None</td>\n",
       "      <td>None</td>\n",
       "      <td>None</td>\n",
       "      <td>None</td>\n",
       "      <td>None</td>\n",
       "      <td>None</td>\n",
       "      <td>None</td>\n",
       "      <td>None</td>\n",
       "      <td>None</td>\n",
       "      <td>None</td>\n",
       "      <td>None</td>\n",
       "      <td>None</td>\n",
       "      <td>None</td>\n",
       "      <td>None</td>\n",
       "      <td>None</td>\n",
       "      <td>None</td>\n",
       "      <td>None</td>\n",
       "      <td>None</td>\n",
       "      <td>None</td>\n",
       "      <td>None</td>\n",
       "      <td>None</td>\n",
       "      <td>None</td>\n",
       "      <td>None</td>\n",
       "      <td>None</td>\n",
       "      <td>None</td>\n",
       "      <td>None</td>\n",
       "      <td>None</td>\n",
       "      <td>None</td>\n",
       "      <td>None</td>\n",
       "      <td>None</td>\n",
       "      <td>None</td>\n",
       "      <td>None</td>\n",
       "      <td>None</td>\n",
       "      <td>None</td>\n",
       "      <td>None</td>\n",
       "      <td>None</td>\n",
       "      <td>None</td>\n",
       "      <td>None</td>\n",
       "      <td>None</td>\n",
       "      <td>None</td>\n",
       "      <td>None</td>\n",
       "      <td>None</td>\n",
       "      <td>None</td>\n",
       "      <td>None</td>\n",
       "      <td>None</td>\n",
       "      <td>None</td>\n",
       "      <td>None</td>\n",
       "      <td>None</td>\n",
       "      <td>None</td>\n",
       "      <td>None</td>\n",
       "      <td>None</td>\n",
       "      <td>None</td>\n",
       "      <td>None</td>\n",
       "      <td>None</td>\n",
       "      <td>None</td>\n",
       "      <td>None</td>\n",
       "      <td>None</td>\n",
       "      <td>None</td>\n",
       "    </tr>\n",
       "    <tr>\n",
       "      <th>1</th>\n",
       "      <td>None</td>\n",
       "      <td>AFE</td>\n",
       "      <td>Tasa de mortalidad, neonatal (por cada 1.000 ...</td>\n",
       "      <td>SH.DYN.NMRT</td>\n",
       "      <td>None</td>\n",
       "      <td>None</td>\n",
       "      <td>None</td>\n",
       "      <td>None</td>\n",
       "      <td>None</td>\n",
       "      <td>None</td>\n",
       "      <td>None</td>\n",
       "      <td>None</td>\n",
       "      <td>None</td>\n",
       "      <td>None</td>\n",
       "      <td>None</td>\n",
       "      <td>None</td>\n",
       "      <td>None</td>\n",
       "      <td>None</td>\n",
       "      <td>None</td>\n",
       "      <td>None</td>\n",
       "      <td>None</td>\n",
       "      <td>None</td>\n",
       "      <td>None</td>\n",
       "      <td>None</td>\n",
       "      <td>None</td>\n",
       "      <td>None</td>\n",
       "      <td>None</td>\n",
       "      <td>None</td>\n",
       "      <td>None</td>\n",
       "      <td>None</td>\n",
       "      <td>None</td>\n",
       "      <td>None</td>\n",
       "      <td>None</td>\n",
       "      <td>None</td>\n",
       "      <td>42.8297549630242</td>\n",
       "      <td>42.4113690560679</td>\n",
       "      <td>42.0003745337893</td>\n",
       "      <td>41.6017221913987</td>\n",
       "      <td>41.2516316717628</td>\n",
       "      <td>40.7085720917521</td>\n",
       "      <td>40.2880835884816</td>\n",
       "      <td>39.8967440749264</td>\n",
       "      <td>39.291052253688</td>\n",
       "      <td>38.6330999868164</td>\n",
       "      <td>37.9601637494138</td>\n",
       "      <td>37.160568482565</td>\n",
       "      <td>36.3835979901586</td>\n",
       "      <td>35.5361863680893</td>\n",
       "      <td>34.656877548392</td>\n",
       "      <td>33.8365654095307</td>\n",
       "      <td>33.0376461174565</td>\n",
       "      <td>32.2716635496204</td>\n",
       "      <td>31.4812178052392</td>\n",
       "      <td>30.8197722535952</td>\n",
       "      <td>30.1543631971504</td>\n",
       "      <td>29.4644187838301</td>\n",
       "      <td>28.7862930365553</td>\n",
       "      <td>28.1307423875659</td>\n",
       "      <td>27.5083932781221</td>\n",
       "      <td>26.9392074730253</td>\n",
       "      <td>26.4032313662393</td>\n",
       "      <td>25.815463081475</td>\n",
       "      <td>25.2704152491122</td>\n",
       "      <td>24.7590627470514</td>\n",
       "      <td>24.3172841944318</td>\n",
       "      <td>23.8201577306965</td>\n",
       "      <td>None</td>\n",
       "    </tr>\n",
       "    <tr>\n",
       "      <th>2</th>\n",
       "      <td>Afganistán</td>\n",
       "      <td>AFG</td>\n",
       "      <td>Tasa de mortalidad, neonatal (por cada 1.000 ...</td>\n",
       "      <td>SH.DYN.NMRT</td>\n",
       "      <td>None</td>\n",
       "      <td>None</td>\n",
       "      <td>None</td>\n",
       "      <td>None</td>\n",
       "      <td>None</td>\n",
       "      <td>None</td>\n",
       "      <td>None</td>\n",
       "      <td>None</td>\n",
       "      <td>None</td>\n",
       "      <td>None</td>\n",
       "      <td>None</td>\n",
       "      <td>None</td>\n",
       "      <td>None</td>\n",
       "      <td>None</td>\n",
       "      <td>None</td>\n",
       "      <td>None</td>\n",
       "      <td>None</td>\n",
       "      <td>None</td>\n",
       "      <td>None</td>\n",
       "      <td>None</td>\n",
       "      <td>None</td>\n",
       "      <td>None</td>\n",
       "      <td>None</td>\n",
       "      <td>None</td>\n",
       "      <td>None</td>\n",
       "      <td>None</td>\n",
       "      <td>None</td>\n",
       "      <td>79</td>\n",
       "      <td>77.4</td>\n",
       "      <td>75.9</td>\n",
       "      <td>74.4</td>\n",
       "      <td>72.9</td>\n",
       "      <td>71.3</td>\n",
       "      <td>69.8</td>\n",
       "      <td>68.4</td>\n",
       "      <td>67</td>\n",
       "      <td>65.7</td>\n",
       "      <td>64.5</td>\n",
       "      <td>63.3</td>\n",
       "      <td>62.2</td>\n",
       "      <td>61</td>\n",
       "      <td>59.7</td>\n",
       "      <td>58.5</td>\n",
       "      <td>57.2</td>\n",
       "      <td>55.9</td>\n",
       "      <td>54.5</td>\n",
       "      <td>53.2</td>\n",
       "      <td>51.8</td>\n",
       "      <td>50.4</td>\n",
       "      <td>48.9</td>\n",
       "      <td>47.4</td>\n",
       "      <td>46</td>\n",
       "      <td>44.5</td>\n",
       "      <td>43.1</td>\n",
       "      <td>41.8</td>\n",
       "      <td>40.4</td>\n",
       "      <td>39.2</td>\n",
       "      <td>38</td>\n",
       "      <td>37</td>\n",
       "      <td>36</td>\n",
       "      <td>35</td>\n",
       "      <td>34.1</td>\n",
       "      <td>None</td>\n",
       "    </tr>\n",
       "  </tbody>\n",
       "</table>\n",
       "</div>"
      ],
      "text/plain": [
       "  Country Name Country Code                                                Indicator Name Indicator Code  1960  1961  1962  1963  1964  1965  1966  1967  1968  1969  1970  1971  1972  1973  1974  1975  1976  1977  1978  1979  1980  1981  1982  1983  1984  1985  1986  1987  1988  1989              1990              1991              1992              1993              1994              1995              1996              1997             1998              1999              2000             2001              2002              2003             2004              2005              2006              2007              2008              2009              2010              2011              2012              2013              2014              2015              2016             2017              2018              2019              2020              2021  2022\n",
       "0        Aruba          ABW   Tasa de mortalidad, neonatal (por cada 1.000 nacidos vivos)    SH.DYN.NMRT  None  None  None  None  None  None  None  None  None  None  None  None  None  None  None  None  None  None  None  None  None  None  None  None  None  None  None  None  None  None              None              None              None              None              None              None              None              None             None              None              None             None              None              None             None              None              None              None              None              None              None              None              None              None              None              None              None             None              None              None              None              None  None\n",
       "1         None          AFE   Tasa de mortalidad, neonatal (por cada 1.000 nacidos vivos)    SH.DYN.NMRT  None  None  None  None  None  None  None  None  None  None  None  None  None  None  None  None  None  None  None  None  None  None  None  None  None  None  None  None  None  None  42.8297549630242  42.4113690560679  42.0003745337893  41.6017221913987  41.2516316717628  40.7085720917521  40.2880835884816  39.8967440749264  39.291052253688  38.6330999868164  37.9601637494138  37.160568482565  36.3835979901586  35.5361863680893  34.656877548392  33.8365654095307  33.0376461174565  32.2716635496204  31.4812178052392  30.8197722535952  30.1543631971504  29.4644187838301  28.7862930365553  28.1307423875659  27.5083932781221  26.9392074730253  26.4032313662393  25.815463081475  25.2704152491122  24.7590627470514  24.3172841944318  23.8201577306965  None\n",
       "2   Afganistán          AFG   Tasa de mortalidad, neonatal (por cada 1.000 nacidos vivos)    SH.DYN.NMRT  None  None  None  None  None  None  None  None  None  None  None  None  None  None  None  None  None  None  None  None  None  None  None  None  None  None  None    79  77.4  75.9              74.4              72.9              71.3              69.8              68.4                67              65.7              64.5             63.3              62.2                61             59.7              58.5              57.2             55.9              54.5              53.2              51.8              50.4              48.9              47.4                46              44.5              43.1              41.8              40.4              39.2               38                37                36                35              34.1  None"
      ]
     },
     "execution_count": 63,
     "metadata": {},
     "output_type": "execute_result"
    }
   ],
   "source": [
    "data_04.limit(3).pandas_api()\n"
   ]
  },
  {
   "cell_type": "code",
   "execution_count": 64,
   "id": "56eed837-6000-462c-870d-b3f51ee0b68f",
   "metadata": {
    "execution": {
     "iopub.execute_input": "2023-06-06T05:58:48.972677Z",
     "iopub.status.busy": "2023-06-06T05:58:48.972472Z",
     "iopub.status.idle": "2023-06-06T05:58:48.992903Z",
     "shell.execute_reply": "2023-06-06T05:58:48.992297Z",
     "shell.execute_reply.started": "2023-06-06T05:58:48.972660Z"
    },
    "tags": []
   },
   "outputs": [],
   "source": [
    "data_04 = data_04.selectExpr('`Country Name`', '`Country Code`', \"`Indicator Name`\", \"`Indicator Code`\", \"stack(63, \\\n",
    "'1960', `1960`, '1961', `1961`, '1962', `1962`, '1963', `1963`, '1964', `1964`, \\\n",
    "'1965', `1965`, '1966', `1966`, '1967', `1967`, '1968', `1968`, '1969', `1969`, \\\n",
    "'1970', `1970`, '1971', `1971`, '1972', `1972`, '1973', `1973`, '1974', `1974`, \\\n",
    "'1975', `1975`, '1976', `1976`, '1977', `1977`, '1978', `1978`, '1979', `1979`, \\\n",
    "'1980', `1980`, '1981', `1981`, '1982', `1982`, '1983', `1983`, '1984', `1984`, \\\n",
    "'1985', `1985`, '1986', `1986`, '1987', `1987`, '1988', `1988`, '1989', `1989`, \\\n",
    "'1990', `1990`, '1991', `1991`, '1992', `1992`, '1993', `1993`, '1994', `1994`, \\\n",
    "'1995', `1995`, '1996', `1996`, '1997', `1997`, '1998', `1998`, '1999', `1999`, \\\n",
    "'2010', `2010`, '2011', `2011`, '2012', `2012`, '2013', `2013`, '2014', `2014`, \\\n",
    "'2015', `2015`, '2016', `2016`, '2017', `2017`, '2018', `2018`, '2019', `2019`, \\\n",
    "'2010', `2010`, '2011', `2011`, '2012', `2012`, '2013', `2013`, '2014', `2014`, \\\n",
    "'2015', `2015`, '2016', `2016`, '2017', `2017`, '2018', `2018`, '2019', `2019`, \\\n",
    "'2020', `2020`, '2021', `2021`, '2022', `2022`) as (Year, ratio_mort_one_year)\")"
   ]
  },
  {
   "cell_type": "code",
   "execution_count": null,
   "id": "b371aced-4970-4ef1-97e4-9f58d8c73f7a",
   "metadata": {},
   "outputs": [],
   "source": [
    "data_04 = data_04.filter(col(\"Country Name\").isin(americans_countries) | col(\"Country Name\").isin(oceanic_countries))\n",
    "data_04 = data_04.filter(col(\"Year\") >= \"1985\")"
   ]
  },
  {
   "cell_type": "code",
   "execution_count": 65,
   "id": "9ea12f05-f226-48f3-a508-62eb8db09895",
   "metadata": {
    "execution": {
     "iopub.execute_input": "2023-06-06T05:58:48.993811Z",
     "iopub.status.busy": "2023-06-06T05:58:48.993615Z",
     "iopub.status.idle": "2023-06-06T05:58:49.145684Z",
     "shell.execute_reply": "2023-06-06T05:58:49.144976Z",
     "shell.execute_reply.started": "2023-06-06T05:58:48.993794Z"
    },
    "tags": []
   },
   "outputs": [
    {
     "data": {
      "text/html": [
       "<div>\n",
       "<style scoped>\n",
       "    .dataframe tbody tr th:only-of-type {\n",
       "        vertical-align: middle;\n",
       "    }\n",
       "\n",
       "    .dataframe tbody tr th {\n",
       "        vertical-align: top;\n",
       "    }\n",
       "\n",
       "    .dataframe thead th {\n",
       "        text-align: right;\n",
       "    }\n",
       "</style>\n",
       "<table border=\"1\" class=\"dataframe\">\n",
       "  <thead>\n",
       "    <tr style=\"text-align: right;\">\n",
       "      <th></th>\n",
       "      <th>Country Name</th>\n",
       "      <th>Country Code</th>\n",
       "      <th>Indicator Name</th>\n",
       "      <th>Indicator Code</th>\n",
       "      <th>Year</th>\n",
       "      <th>ratio_mort_one_year</th>\n",
       "    </tr>\n",
       "  </thead>\n",
       "  <tbody>\n",
       "    <tr>\n",
       "      <th>0</th>\n",
       "      <td>Aruba</td>\n",
       "      <td>ABW</td>\n",
       "      <td>Tasa de mortalidad, neonatal (por cada 1.000 ...</td>\n",
       "      <td>SH.DYN.NMRT</td>\n",
       "      <td>1960</td>\n",
       "      <td>None</td>\n",
       "    </tr>\n",
       "    <tr>\n",
       "      <th>1</th>\n",
       "      <td>Aruba</td>\n",
       "      <td>ABW</td>\n",
       "      <td>Tasa de mortalidad, neonatal (por cada 1.000 ...</td>\n",
       "      <td>SH.DYN.NMRT</td>\n",
       "      <td>1961</td>\n",
       "      <td>None</td>\n",
       "    </tr>\n",
       "    <tr>\n",
       "      <th>2</th>\n",
       "      <td>Aruba</td>\n",
       "      <td>ABW</td>\n",
       "      <td>Tasa de mortalidad, neonatal (por cada 1.000 ...</td>\n",
       "      <td>SH.DYN.NMRT</td>\n",
       "      <td>1962</td>\n",
       "      <td>None</td>\n",
       "    </tr>\n",
       "  </tbody>\n",
       "</table>\n",
       "</div>"
      ],
      "text/plain": [
       "  Country Name Country Code                                                Indicator Name Indicator Code  Year ratio_mort_one_year\n",
       "0        Aruba          ABW   Tasa de mortalidad, neonatal (por cada 1.000 nacidos vivos)    SH.DYN.NMRT  1960                None\n",
       "1        Aruba          ABW   Tasa de mortalidad, neonatal (por cada 1.000 nacidos vivos)    SH.DYN.NMRT  1961                None\n",
       "2        Aruba          ABW   Tasa de mortalidad, neonatal (por cada 1.000 nacidos vivos)    SH.DYN.NMRT  1962                None"
      ]
     },
     "execution_count": 65,
     "metadata": {},
     "output_type": "execute_result"
    }
   ],
   "source": [
    "data_04.limit(3).pandas_api()\n"
   ]
  },
  {
   "cell_type": "code",
   "execution_count": 66,
   "id": "021c3fce-9f6e-4119-b7a7-f9f1d0a9b286",
   "metadata": {
    "execution": {
     "iopub.execute_input": "2023-06-06T05:58:49.146877Z",
     "iopub.status.busy": "2023-06-06T05:58:49.146610Z",
     "iopub.status.idle": "2023-06-06T05:58:49.153935Z",
     "shell.execute_reply": "2023-06-06T05:58:49.153234Z",
     "shell.execute_reply.started": "2023-06-06T05:58:49.146841Z"
    },
    "tags": []
   },
   "outputs": [],
   "source": [
    "data_04 = data_04.drop(\"Country Name\",\"Indicator Name\",\"Indicator Code\")"
   ]
  },
  {
   "cell_type": "markdown",
   "id": "9a76e944-8853-4e39-8c56-e0e965f98a74",
   "metadata": {
    "execution": {
     "iopub.execute_input": "2023-06-04T09:30:01.191529Z",
     "iopub.status.busy": "2023-06-04T09:30:01.191144Z",
     "iopub.status.idle": "2023-06-04T09:30:01.198084Z",
     "shell.execute_reply": "2023-06-04T09:30:01.197269Z",
     "shell.execute_reply.started": "2023-06-04T09:30:01.191493Z"
    },
    "tags": []
   },
   "source": [
    "# Tasa de mortalidad, menores de 5 años (por cada 1.000)\n",
    "Algunos metadatos están solo en inglés\n",
    "\n",
    "Menores de cinco años la tasa de mortalidad es la probabilidad por cada 1.000 que un recién nacido muera antes de cumplir cinco años de edad, si está sujeto a las tasas de mortalidad específicas por edad del año especificado.\n",
    "\n",
    "https://datos.bancomundial.org/indicador/SH.DYN.MORT?view=chart"
   ]
  },
  {
   "cell_type": "code",
   "execution_count": 67,
   "id": "d946bfa1-10c5-4df9-be32-bed03d2ee5eb",
   "metadata": {
    "execution": {
     "iopub.execute_input": "2023-06-06T05:58:49.171981Z",
     "iopub.status.busy": "2023-06-06T05:58:49.171659Z",
     "iopub.status.idle": "2023-06-06T05:58:49.174955Z",
     "shell.execute_reply": "2023-06-06T05:58:49.174430Z",
     "shell.execute_reply.started": "2023-06-06T05:58:49.171955Z"
    },
    "tags": []
   },
   "outputs": [],
   "source": [
    "url_05 = \"https://api.worldbank.org/v2/es/indicator/SH.DYN.MORT?downloadformat=csv\""
   ]
  },
  {
   "cell_type": "code",
   "execution_count": 68,
   "id": "48167bfd-98df-401e-8837-cdab204f3890",
   "metadata": {
    "execution": {
     "iopub.execute_input": "2023-06-06T05:58:49.176288Z",
     "iopub.status.busy": "2023-06-06T05:58:49.175835Z",
     "iopub.status.idle": "2023-06-06T05:58:50.384379Z",
     "shell.execute_reply": "2023-06-06T05:58:50.383278Z",
     "shell.execute_reply.started": "2023-06-06T05:58:49.176262Z"
    },
    "tags": []
   },
   "outputs": [
    {
     "name": "stderr",
     "output_type": "stream",
     "text": [
      "23/06/06 02:58:49 WARN GarbageCollectionMetrics: To enable non-built-in garbage collector(s) List(G1 Concurrent GC), users should configure it(them) to spark.eventLog.gcMetrics.youngGenerationGarbageCollectors or spark.eventLog.gcMetrics.oldGenerationGarbageCollectors\n"
     ]
    }
   ],
   "source": [
    "response_url_05 = requests.get(url_05)"
   ]
  },
  {
   "cell_type": "code",
   "execution_count": 69,
   "id": "2376655c-49e7-4f45-ba5f-623f3486dd34",
   "metadata": {
    "execution": {
     "iopub.execute_input": "2023-06-06T05:58:50.386667Z",
     "iopub.status.busy": "2023-06-06T05:58:50.386333Z",
     "iopub.status.idle": "2023-06-06T05:58:50.393326Z",
     "shell.execute_reply": "2023-06-06T05:58:50.392757Z",
     "shell.execute_reply.started": "2023-06-06T05:58:50.386636Z"
    },
    "tags": []
   },
   "outputs": [
    {
     "name": "stdout",
     "output_type": "stream",
     "text": [
      "El archivo ZIP se ha descargado y descomprimido correctamente.\n"
     ]
    }
   ],
   "source": [
    "if response_url_05.status_code == 200:\n",
    "    # Crear un objeto ZipFile a partir de los datos de la respuesta\n",
    "    with zipfile.ZipFile(io.BytesIO(response_url_05.content), \"r\") as zip_url_05:\n",
    "        # Extraer todos los archivos del archivo ZIP en el directorio actual\n",
    "        zip_url_05.extractall(\"dataset\")\n",
    "\n",
    "    print(\"El archivo ZIP se ha descargado y descomprimido correctamente.\")\n",
    "else:\n",
    "    print(\"Error al descargar el archivo ZIP:\", response_url_05.status_code)"
   ]
  },
  {
   "cell_type": "code",
   "execution_count": 70,
   "id": "06f2194c-3c95-47ef-83a1-cee2dbbb6546",
   "metadata": {
    "execution": {
     "iopub.execute_input": "2023-06-06T05:58:50.394709Z",
     "iopub.status.busy": "2023-06-06T05:58:50.394205Z",
     "iopub.status.idle": "2023-06-06T05:58:50.404424Z",
     "shell.execute_reply": "2023-06-06T05:58:50.403811Z",
     "shell.execute_reply.started": "2023-06-06T05:58:50.394687Z"
    },
    "tags": []
   },
   "outputs": [],
   "source": [
    "# Ruta del archivo CSV\n",
    "\n",
    "csv_url_05 = \"dataset/API_SH.DYN.MORT_DS2_es_csv_v2_5455726.csv\"\n",
    "\n",
    "# Crear una lista para almacenar las filas del archivo CSV\n",
    "rows_url_05 = []\n",
    "\n",
    "\n",
    "#API_SE.PRM.CMPT.ZS_DS2_es_csv_v2_5478942"
   ]
  },
  {
   "cell_type": "code",
   "execution_count": 71,
   "id": "787413c1-3103-42d7-b5da-85f6b634e6cc",
   "metadata": {
    "execution": {
     "iopub.execute_input": "2023-06-06T05:58:50.405361Z",
     "iopub.status.busy": "2023-06-06T05:58:50.405183Z",
     "iopub.status.idle": "2023-06-06T05:58:50.420398Z",
     "shell.execute_reply": "2023-06-06T05:58:50.419747Z",
     "shell.execute_reply.started": "2023-06-06T05:58:50.405345Z"
    },
    "tags": []
   },
   "outputs": [],
   "source": [
    "# Leer el archivo CSV y almacenar las filas en la lista\n",
    "with open(csv_url_05, \"r\") as file_csv_url_05:\n",
    "    csv_reader_url_05 = csv.reader(file_csv_url_05)\n",
    "    rows_url_05 = list(csv_reader_url_05)\n"
   ]
  },
  {
   "cell_type": "code",
   "execution_count": 72,
   "id": "227a8def-fbf9-4de4-90b5-d4620eba8e43",
   "metadata": {
    "execution": {
     "iopub.execute_input": "2023-06-06T05:58:50.421439Z",
     "iopub.status.busy": "2023-06-06T05:58:50.421260Z",
     "iopub.status.idle": "2023-06-06T05:58:50.430460Z",
     "shell.execute_reply": "2023-06-06T05:58:50.429912Z",
     "shell.execute_reply.started": "2023-06-06T05:58:50.421423Z"
    },
    "tags": []
   },
   "outputs": [],
   "source": [
    "# Eliminar las primeras 4 filas\n",
    "\n",
    "rows_url_05 = rows_url_05[3:]\n",
    "\n",
    "# Escribir las filas modificadas en un nuevo archivo CSV\n",
    "with open(\"dataset/data/data_05.csv\", \"w\", newline=\"\") as file_csv_url_05:\n",
    "    csv_writer_url_05 = csv.writer(file_csv_url_05)\n",
    "    csv_writer_url_05.writerows(rows_url_05)"
   ]
  },
  {
   "cell_type": "code",
   "execution_count": 73,
   "id": "a4eb0c35-6d7f-40b8-8da7-5463fa03d8d5",
   "metadata": {
    "execution": {
     "iopub.execute_input": "2023-06-06T05:58:50.431261Z",
     "iopub.status.busy": "2023-06-06T05:58:50.431070Z",
     "iopub.status.idle": "2023-06-06T05:58:50.530114Z",
     "shell.execute_reply": "2023-06-06T05:58:50.529456Z",
     "shell.execute_reply.started": "2023-06-06T05:58:50.431246Z"
    },
    "tags": []
   },
   "outputs": [],
   "source": [
    "data_05 = spark.read.csv(\"dataset/data/data_05.csv\", header=True)"
   ]
  },
  {
   "cell_type": "code",
   "execution_count": 74,
   "id": "633ad798-ef9a-4cd5-93c3-d934f70c9a67",
   "metadata": {
    "execution": {
     "iopub.execute_input": "2023-06-06T05:58:50.531259Z",
     "iopub.status.busy": "2023-06-06T05:58:50.530999Z",
     "iopub.status.idle": "2023-06-06T05:58:50.540621Z",
     "shell.execute_reply": "2023-06-06T05:58:50.539930Z",
     "shell.execute_reply.started": "2023-06-06T05:58:50.531235Z"
    },
    "tags": []
   },
   "outputs": [],
   "source": [
    "data_05 = data_05.drop(\"_c66\",\"_c67\")"
   ]
  },
  {
   "cell_type": "code",
   "execution_count": 75,
   "id": "417ad195-b77e-47a3-b090-6e0fdfa7803e",
   "metadata": {
    "execution": {
     "iopub.execute_input": "2023-06-06T05:58:50.541709Z",
     "iopub.status.busy": "2023-06-06T05:58:50.541357Z",
     "iopub.status.idle": "2023-06-06T05:58:50.871276Z",
     "shell.execute_reply": "2023-06-06T05:58:50.870741Z",
     "shell.execute_reply.started": "2023-06-06T05:58:50.541685Z"
    },
    "tags": []
   },
   "outputs": [
    {
     "data": {
      "text/html": [
       "<div>\n",
       "<style scoped>\n",
       "    .dataframe tbody tr th:only-of-type {\n",
       "        vertical-align: middle;\n",
       "    }\n",
       "\n",
       "    .dataframe tbody tr th {\n",
       "        vertical-align: top;\n",
       "    }\n",
       "\n",
       "    .dataframe thead th {\n",
       "        text-align: right;\n",
       "    }\n",
       "</style>\n",
       "<table border=\"1\" class=\"dataframe\">\n",
       "  <thead>\n",
       "    <tr style=\"text-align: right;\">\n",
       "      <th></th>\n",
       "      <th>Country Name</th>\n",
       "      <th>Country Code</th>\n",
       "      <th>Indicator Name</th>\n",
       "      <th>Indicator Code</th>\n",
       "      <th>1960</th>\n",
       "      <th>1961</th>\n",
       "      <th>1962</th>\n",
       "      <th>1963</th>\n",
       "      <th>1964</th>\n",
       "      <th>1965</th>\n",
       "      <th>1966</th>\n",
       "      <th>1967</th>\n",
       "      <th>1968</th>\n",
       "      <th>1969</th>\n",
       "      <th>1970</th>\n",
       "      <th>1971</th>\n",
       "      <th>1972</th>\n",
       "      <th>1973</th>\n",
       "      <th>1974</th>\n",
       "      <th>1975</th>\n",
       "      <th>1976</th>\n",
       "      <th>1977</th>\n",
       "      <th>1978</th>\n",
       "      <th>1979</th>\n",
       "      <th>1980</th>\n",
       "      <th>1981</th>\n",
       "      <th>1982</th>\n",
       "      <th>1983</th>\n",
       "      <th>1984</th>\n",
       "      <th>1985</th>\n",
       "      <th>1986</th>\n",
       "      <th>1987</th>\n",
       "      <th>1988</th>\n",
       "      <th>1989</th>\n",
       "      <th>1990</th>\n",
       "      <th>1991</th>\n",
       "      <th>1992</th>\n",
       "      <th>1993</th>\n",
       "      <th>1994</th>\n",
       "      <th>1995</th>\n",
       "      <th>1996</th>\n",
       "      <th>1997</th>\n",
       "      <th>1998</th>\n",
       "      <th>1999</th>\n",
       "      <th>2000</th>\n",
       "      <th>2001</th>\n",
       "      <th>2002</th>\n",
       "      <th>2003</th>\n",
       "      <th>2004</th>\n",
       "      <th>2005</th>\n",
       "      <th>2006</th>\n",
       "      <th>2007</th>\n",
       "      <th>2008</th>\n",
       "      <th>2009</th>\n",
       "      <th>2010</th>\n",
       "      <th>2011</th>\n",
       "      <th>2012</th>\n",
       "      <th>2013</th>\n",
       "      <th>2014</th>\n",
       "      <th>2015</th>\n",
       "      <th>2016</th>\n",
       "      <th>2017</th>\n",
       "      <th>2018</th>\n",
       "      <th>2019</th>\n",
       "      <th>2020</th>\n",
       "      <th>2021</th>\n",
       "      <th>2022</th>\n",
       "    </tr>\n",
       "  </thead>\n",
       "  <tbody>\n",
       "    <tr>\n",
       "      <th>0</th>\n",
       "      <td>Aruba</td>\n",
       "      <td>ABW</td>\n",
       "      <td>Tasa de mortalidad, menores de 5 años (por cad...</td>\n",
       "      <td>SH.DYN.MORT</td>\n",
       "      <td>None</td>\n",
       "      <td>None</td>\n",
       "      <td>None</td>\n",
       "      <td>None</td>\n",
       "      <td>None</td>\n",
       "      <td>None</td>\n",
       "      <td>None</td>\n",
       "      <td>None</td>\n",
       "      <td>None</td>\n",
       "      <td>None</td>\n",
       "      <td>None</td>\n",
       "      <td>None</td>\n",
       "      <td>None</td>\n",
       "      <td>None</td>\n",
       "      <td>None</td>\n",
       "      <td>None</td>\n",
       "      <td>None</td>\n",
       "      <td>None</td>\n",
       "      <td>None</td>\n",
       "      <td>None</td>\n",
       "      <td>None</td>\n",
       "      <td>None</td>\n",
       "      <td>None</td>\n",
       "      <td>None</td>\n",
       "      <td>None</td>\n",
       "      <td>None</td>\n",
       "      <td>None</td>\n",
       "      <td>None</td>\n",
       "      <td>None</td>\n",
       "      <td>None</td>\n",
       "      <td>None</td>\n",
       "      <td>None</td>\n",
       "      <td>None</td>\n",
       "      <td>None</td>\n",
       "      <td>None</td>\n",
       "      <td>None</td>\n",
       "      <td>None</td>\n",
       "      <td>None</td>\n",
       "      <td>None</td>\n",
       "      <td>None</td>\n",
       "      <td>None</td>\n",
       "      <td>None</td>\n",
       "      <td>None</td>\n",
       "      <td>None</td>\n",
       "      <td>None</td>\n",
       "      <td>None</td>\n",
       "      <td>None</td>\n",
       "      <td>None</td>\n",
       "      <td>None</td>\n",
       "      <td>None</td>\n",
       "      <td>None</td>\n",
       "      <td>None</td>\n",
       "      <td>None</td>\n",
       "      <td>None</td>\n",
       "      <td>None</td>\n",
       "      <td>None</td>\n",
       "      <td>None</td>\n",
       "      <td>None</td>\n",
       "      <td>None</td>\n",
       "      <td>None</td>\n",
       "      <td>None</td>\n",
       "      <td>None</td>\n",
       "      <td>None</td>\n",
       "    </tr>\n",
       "    <tr>\n",
       "      <th>1</th>\n",
       "      <td>None</td>\n",
       "      <td>AFE</td>\n",
       "      <td>Tasa de mortalidad, menores de 5 años (por cad...</td>\n",
       "      <td>SH.DYN.MORT</td>\n",
       "      <td>None</td>\n",
       "      <td>None</td>\n",
       "      <td>None</td>\n",
       "      <td>None</td>\n",
       "      <td>None</td>\n",
       "      <td>None</td>\n",
       "      <td>None</td>\n",
       "      <td>None</td>\n",
       "      <td>None</td>\n",
       "      <td>None</td>\n",
       "      <td>None</td>\n",
       "      <td>None</td>\n",
       "      <td>None</td>\n",
       "      <td>None</td>\n",
       "      <td>None</td>\n",
       "      <td>None</td>\n",
       "      <td>None</td>\n",
       "      <td>None</td>\n",
       "      <td>None</td>\n",
       "      <td>None</td>\n",
       "      <td>None</td>\n",
       "      <td>None</td>\n",
       "      <td>None</td>\n",
       "      <td>None</td>\n",
       "      <td>None</td>\n",
       "      <td>None</td>\n",
       "      <td>None</td>\n",
       "      <td>None</td>\n",
       "      <td>None</td>\n",
       "      <td>None</td>\n",
       "      <td>165.832561519295</td>\n",
       "      <td>164.161054739235</td>\n",
       "      <td>162.695216656375</td>\n",
       "      <td>161.379202446574</td>\n",
       "      <td>161.983963117422</td>\n",
       "      <td>156.580561402565</td>\n",
       "      <td>153.998650706914</td>\n",
       "      <td>151.260901621137</td>\n",
       "      <td>147.410842670347</td>\n",
       "      <td>142.992355070727</td>\n",
       "      <td>138.18023473864</td>\n",
       "      <td>132.744121726178</td>\n",
       "      <td>127.135609785381</td>\n",
       "      <td>121.43551493647</td>\n",
       "      <td>115.828866802817</td>\n",
       "      <td>110.471932277019</td>\n",
       "      <td>105.457181745716</td>\n",
       "      <td>100.411263900067</td>\n",
       "      <td>95.3811815990238</td>\n",
       "      <td>90.7111291854921</td>\n",
       "      <td>86.4163803141884</td>\n",
       "      <td>82.4915063909405</td>\n",
       "      <td>78.7877273029938</td>\n",
       "      <td>75.4426897327386</td>\n",
       "      <td>72.4923836880967</td>\n",
       "      <td>69.8691858575132</td>\n",
       "      <td>67.3639290496706</td>\n",
       "      <td>65.0910528384151</td>\n",
       "      <td>62.8571893618424</td>\n",
       "      <td>60.8559168091663</td>\n",
       "      <td>59.0873088673173</td>\n",
       "      <td>57.2847270993243</td>\n",
       "      <td>None</td>\n",
       "    </tr>\n",
       "    <tr>\n",
       "      <th>2</th>\n",
       "      <td>Afganistán</td>\n",
       "      <td>AFG</td>\n",
       "      <td>Tasa de mortalidad, menores de 5 años (por cad...</td>\n",
       "      <td>SH.DYN.MORT</td>\n",
       "      <td>357.3</td>\n",
       "      <td>351.7</td>\n",
       "      <td>345.8</td>\n",
       "      <td>340.2</td>\n",
       "      <td>334.8</td>\n",
       "      <td>329.4</td>\n",
       "      <td>323.9</td>\n",
       "      <td>318.4</td>\n",
       "      <td>312.8</td>\n",
       "      <td>307.2</td>\n",
       "      <td>301.9</td>\n",
       "      <td>296.4</td>\n",
       "      <td>290.7</td>\n",
       "      <td>285.2</td>\n",
       "      <td>279.6</td>\n",
       "      <td>274</td>\n",
       "      <td>268.3</td>\n",
       "      <td>262.4</td>\n",
       "      <td>256.4</td>\n",
       "      <td>250.3</td>\n",
       "      <td>243.8</td>\n",
       "      <td>237.3</td>\n",
       "      <td>230.8</td>\n",
       "      <td>224.2</td>\n",
       "      <td>217.7</td>\n",
       "      <td>211.1</td>\n",
       "      <td>204.6</td>\n",
       "      <td>197.9</td>\n",
       "      <td>191.4</td>\n",
       "      <td>184.9</td>\n",
       "      <td>178.5</td>\n",
       "      <td>172.2</td>\n",
       "      <td>166.3</td>\n",
       "      <td>160.8</td>\n",
       "      <td>155.5</td>\n",
       "      <td>150.6</td>\n",
       "      <td>146</td>\n",
       "      <td>141.6</td>\n",
       "      <td>137.3</td>\n",
       "      <td>133.3</td>\n",
       "      <td>129.3</td>\n",
       "      <td>125.3</td>\n",
       "      <td>121.2</td>\n",
       "      <td>117</td>\n",
       "      <td>112.8</td>\n",
       "      <td>108.6</td>\n",
       "      <td>104.3</td>\n",
       "      <td>100</td>\n",
       "      <td>95.9</td>\n",
       "      <td>91.8</td>\n",
       "      <td>87.8</td>\n",
       "      <td>84</td>\n",
       "      <td>80.3</td>\n",
       "      <td>76.8</td>\n",
       "      <td>73.4</td>\n",
       "      <td>70.2</td>\n",
       "      <td>67.2</td>\n",
       "      <td>64.6</td>\n",
       "      <td>62.2</td>\n",
       "      <td>59.9</td>\n",
       "      <td>57.8</td>\n",
       "      <td>55.7</td>\n",
       "      <td>None</td>\n",
       "    </tr>\n",
       "  </tbody>\n",
       "</table>\n",
       "</div>"
      ],
      "text/plain": [
       "  Country Name Country Code                                          Indicator Name Indicator Code   1960   1961   1962   1963   1964   1965   1966   1967   1968   1969   1970   1971   1972   1973   1974  1975   1976   1977   1978   1979   1980   1981   1982   1983   1984   1985   1986   1987   1988   1989              1990              1991              1992              1993              1994              1995              1996              1997              1998              1999             2000              2001              2002             2003              2004              2005              2006              2007              2008              2009              2010              2011              2012              2013              2014              2015              2016              2017              2018              2019              2020              2021  2022\n",
       "0        Aruba          ABW  Tasa de mortalidad, menores de 5 años (por cada 1.000)    SH.DYN.MORT   None   None   None   None   None   None   None   None   None   None   None   None   None   None   None  None   None   None   None   None   None   None   None   None   None   None   None   None   None   None              None              None              None              None              None              None              None              None              None              None             None              None              None             None              None              None              None              None              None              None              None              None              None              None              None              None              None              None              None              None              None              None  None\n",
       "1         None          AFE  Tasa de mortalidad, menores de 5 años (por cada 1.000)    SH.DYN.MORT   None   None   None   None   None   None   None   None   None   None   None   None   None   None   None  None   None   None   None   None   None   None   None   None   None   None   None   None   None   None  165.832561519295  164.161054739235  162.695216656375  161.379202446574  161.983963117422  156.580561402565  153.998650706914  151.260901621137  147.410842670347  142.992355070727  138.18023473864  132.744121726178  127.135609785381  121.43551493647  115.828866802817  110.471932277019  105.457181745716  100.411263900067  95.3811815990238  90.7111291854921  86.4163803141884  82.4915063909405  78.7877273029938  75.4426897327386  72.4923836880967  69.8691858575132  67.3639290496706  65.0910528384151  62.8571893618424  60.8559168091663  59.0873088673173  57.2847270993243  None\n",
       "2   Afganistán          AFG  Tasa de mortalidad, menores de 5 años (por cada 1.000)    SH.DYN.MORT  357.3  351.7  345.8  340.2  334.8  329.4  323.9  318.4  312.8  307.2  301.9  296.4  290.7  285.2  279.6   274  268.3  262.4  256.4  250.3  243.8  237.3  230.8  224.2  217.7  211.1  204.6  197.9  191.4  184.9             178.5             172.2             166.3             160.8             155.5             150.6               146             141.6             137.3             133.3            129.3             125.3             121.2              117             112.8             108.6             104.3               100              95.9              91.8              87.8                84              80.3              76.8              73.4              70.2              67.2              64.6              62.2              59.9              57.8              55.7  None"
      ]
     },
     "execution_count": 75,
     "metadata": {},
     "output_type": "execute_result"
    }
   ],
   "source": [
    "data_05.limit(3).pandas_api()\n"
   ]
  },
  {
   "cell_type": "code",
   "execution_count": null,
   "id": "b2373fc5-864c-4ceb-9704-df2b4a3277d5",
   "metadata": {},
   "outputs": [],
   "source": []
  },
  {
   "cell_type": "code",
   "execution_count": 76,
   "id": "ede234e6-5e41-4d11-9372-5aa9c37c1a04",
   "metadata": {
    "execution": {
     "iopub.execute_input": "2023-06-06T05:58:50.872075Z",
     "iopub.status.busy": "2023-06-06T05:58:50.871908Z",
     "iopub.status.idle": "2023-06-06T05:58:50.887333Z",
     "shell.execute_reply": "2023-06-06T05:58:50.886813Z",
     "shell.execute_reply.started": "2023-06-06T05:58:50.872060Z"
    },
    "tags": []
   },
   "outputs": [],
   "source": [
    "data_05 = data_05.selectExpr('`Country Name`', '`Country Code`', \"`Indicator Name`\", \"`Indicator Code`\", \"stack(63, \\\n",
    "'1960', `1960`, '1961', `1961`, '1962', `1962`, '1963', `1963`, '1964', `1964`, \\\n",
    "'1965', `1965`, '1966', `1966`, '1967', `1967`, '1968', `1968`, '1969', `1969`, \\\n",
    "'1970', `1970`, '1971', `1971`, '1972', `1972`, '1973', `1973`, '1974', `1974`, \\\n",
    "'1975', `1975`, '1976', `1976`, '1977', `1977`, '1978', `1978`, '1979', `1979`, \\\n",
    "'1980', `1980`, '1981', `1981`, '1982', `1982`, '1983', `1983`, '1984', `1984`, \\\n",
    "'1985', `1985`, '1986', `1986`, '1987', `1987`, '1988', `1988`, '1989', `1989`, \\\n",
    "'1990', `1990`, '1991', `1991`, '1992', `1992`, '1993', `1993`, '1994', `1994`, \\\n",
    "'1995', `1995`, '1996', `1996`, '1997', `1997`, '1998', `1998`, '1999', `1999`, \\\n",
    "'2010', `2010`, '2011', `2011`, '2012', `2012`, '2013', `2013`, '2014', `2014`, \\\n",
    "'2015', `2015`, '2016', `2016`, '2017', `2017`, '2018', `2018`, '2019', `2019`, \\\n",
    "'2010', `2010`, '2011', `2011`, '2012', `2012`, '2013', `2013`, '2014', `2014`, \\\n",
    "'2015', `2015`, '2016', `2016`, '2017', `2017`, '2018', `2018`, '2019', `2019`, \\\n",
    "'2020', `2020`, '2021', `2021`, '2022', `2022`) as (Year, ratio_mort_five_year)\")"
   ]
  },
  {
   "cell_type": "code",
   "execution_count": 77,
   "id": "bbd5e7f1-ed51-4591-a7fd-b19141176618",
   "metadata": {
    "execution": {
     "iopub.execute_input": "2023-06-06T05:58:50.888305Z",
     "iopub.status.busy": "2023-06-06T05:58:50.888003Z",
     "iopub.status.idle": "2023-06-06T05:58:51.022479Z",
     "shell.execute_reply": "2023-06-06T05:58:51.021786Z",
     "shell.execute_reply.started": "2023-06-06T05:58:50.888288Z"
    },
    "tags": []
   },
   "outputs": [
    {
     "data": {
      "text/html": [
       "<div>\n",
       "<style scoped>\n",
       "    .dataframe tbody tr th:only-of-type {\n",
       "        vertical-align: middle;\n",
       "    }\n",
       "\n",
       "    .dataframe tbody tr th {\n",
       "        vertical-align: top;\n",
       "    }\n",
       "\n",
       "    .dataframe thead th {\n",
       "        text-align: right;\n",
       "    }\n",
       "</style>\n",
       "<table border=\"1\" class=\"dataframe\">\n",
       "  <thead>\n",
       "    <tr style=\"text-align: right;\">\n",
       "      <th></th>\n",
       "      <th>Country Name</th>\n",
       "      <th>Country Code</th>\n",
       "      <th>Indicator Name</th>\n",
       "      <th>Indicator Code</th>\n",
       "      <th>Year</th>\n",
       "      <th>ratio_mort_five_year</th>\n",
       "    </tr>\n",
       "  </thead>\n",
       "  <tbody>\n",
       "    <tr>\n",
       "      <th>0</th>\n",
       "      <td>Aruba</td>\n",
       "      <td>ABW</td>\n",
       "      <td>Tasa de mortalidad, menores de 5 años (por cad...</td>\n",
       "      <td>SH.DYN.MORT</td>\n",
       "      <td>1960</td>\n",
       "      <td>None</td>\n",
       "    </tr>\n",
       "    <tr>\n",
       "      <th>1</th>\n",
       "      <td>Aruba</td>\n",
       "      <td>ABW</td>\n",
       "      <td>Tasa de mortalidad, menores de 5 años (por cad...</td>\n",
       "      <td>SH.DYN.MORT</td>\n",
       "      <td>1961</td>\n",
       "      <td>None</td>\n",
       "    </tr>\n",
       "    <tr>\n",
       "      <th>2</th>\n",
       "      <td>Aruba</td>\n",
       "      <td>ABW</td>\n",
       "      <td>Tasa de mortalidad, menores de 5 años (por cad...</td>\n",
       "      <td>SH.DYN.MORT</td>\n",
       "      <td>1962</td>\n",
       "      <td>None</td>\n",
       "    </tr>\n",
       "  </tbody>\n",
       "</table>\n",
       "</div>"
      ],
      "text/plain": [
       "  Country Name Country Code                                          Indicator Name Indicator Code  Year ratio_mort_five_year\n",
       "0        Aruba          ABW  Tasa de mortalidad, menores de 5 años (por cada 1.000)    SH.DYN.MORT  1960                 None\n",
       "1        Aruba          ABW  Tasa de mortalidad, menores de 5 años (por cada 1.000)    SH.DYN.MORT  1961                 None\n",
       "2        Aruba          ABW  Tasa de mortalidad, menores de 5 años (por cada 1.000)    SH.DYN.MORT  1962                 None"
      ]
     },
     "execution_count": 77,
     "metadata": {},
     "output_type": "execute_result"
    }
   ],
   "source": [
    "data_05.limit(3).pandas_api()\n"
   ]
  },
  {
   "cell_type": "code",
   "execution_count": 78,
   "id": "fd5247d0-82a0-4698-9e5b-54f3fa810cef",
   "metadata": {
    "execution": {
     "iopub.execute_input": "2023-06-06T05:58:51.023677Z",
     "iopub.status.busy": "2023-06-06T05:58:51.023423Z",
     "iopub.status.idle": "2023-06-06T05:58:51.030057Z",
     "shell.execute_reply": "2023-06-06T05:58:51.029415Z",
     "shell.execute_reply.started": "2023-06-06T05:58:51.023637Z"
    },
    "tags": []
   },
   "outputs": [],
   "source": [
    "data_05 = data_05.drop(\"Country Name\",\"Indicator Name\",\"Indicator Code\")"
   ]
  },
  {
   "cell_type": "markdown",
   "id": "1a865754-3303-4d0b-8bd2-520348f11ee2",
   "metadata": {
    "execution": {
     "iopub.execute_input": "2023-06-04T09:39:58.572482Z",
     "iopub.status.busy": "2023-06-04T09:39:58.572293Z",
     "iopub.status.idle": "2023-06-04T09:39:58.576422Z",
     "shell.execute_reply": "2023-06-04T09:39:58.575699Z",
     "shell.execute_reply.started": "2023-06-04T09:39:58.572466Z"
    },
    "tags": []
   },
   "source": [
    "# Tasa de mortalidad materna (estimado mediante modelo, por cada 100.000 nacidos vivos)\n",
    "Algunos metadatos están solo en inglés\n",
    "\n",
    "La tasa de mortalidad materna es la cantidad de mujeres que mueren durante el embarazo y el parto por cada 100.000 nacidos vivos. Los datos se estiman según un modelo de regresión que usa información sobre fertilidad, asistentes para el parto y prevalencia del VIH.\n",
    "\n",
    "https://datos.bancomundial.org/indicator/SH.STA.MMRT?view=chart\n",
    "\n",
    "#url_06 = \"https://api.worldbank.org/v2/es/indicator/SP.DYN.IMRT.FE.IN?downloadformat=csv\""
   ]
  },
  {
   "cell_type": "code",
   "execution_count": 79,
   "id": "5fdee331-8e58-4cd4-a492-f45f91f2aeef",
   "metadata": {
    "execution": {
     "iopub.execute_input": "2023-06-06T05:58:51.031437Z",
     "iopub.status.busy": "2023-06-06T05:58:51.030974Z",
     "iopub.status.idle": "2023-06-06T05:58:51.038053Z",
     "shell.execute_reply": "2023-06-06T05:58:51.037402Z",
     "shell.execute_reply.started": "2023-06-06T05:58:51.031412Z"
    },
    "tags": []
   },
   "outputs": [],
   "source": [
    "url_06 = \"https://api.worldbank.org/v2/es/indicator/SH.STA.MMRT?downloadformat=csv\""
   ]
  },
  {
   "cell_type": "code",
   "execution_count": 80,
   "id": "58596c7c-cd04-429f-8573-57362b65de99",
   "metadata": {
    "execution": {
     "iopub.execute_input": "2023-06-06T05:58:51.039234Z",
     "iopub.status.busy": "2023-06-06T05:58:51.038977Z",
     "iopub.status.idle": "2023-06-06T05:58:52.045590Z",
     "shell.execute_reply": "2023-06-06T05:58:52.044995Z",
     "shell.execute_reply.started": "2023-06-06T05:58:51.039210Z"
    },
    "tags": []
   },
   "outputs": [],
   "source": [
    "response_url_06 = requests.get(url_06)"
   ]
  },
  {
   "cell_type": "code",
   "execution_count": 81,
   "id": "36595855-b201-4c54-a151-6be262cd09d6",
   "metadata": {
    "execution": {
     "iopub.execute_input": "2023-06-06T05:58:52.046708Z",
     "iopub.status.busy": "2023-06-06T05:58:52.046535Z",
     "iopub.status.idle": "2023-06-06T05:58:52.051055Z",
     "shell.execute_reply": "2023-06-06T05:58:52.050452Z",
     "shell.execute_reply.started": "2023-06-06T05:58:52.046692Z"
    },
    "tags": []
   },
   "outputs": [
    {
     "name": "stdout",
     "output_type": "stream",
     "text": [
      "El archivo ZIP se ha descargado y descomprimido correctamente.\n"
     ]
    }
   ],
   "source": [
    "if response_url_06.status_code == 200:\n",
    "    # Crear un objeto ZipFile a partir de los datos de la respuesta\n",
    "    with zipfile.ZipFile(io.BytesIO(response_url_06.content), \"r\") as zip_url_06:\n",
    "        # Extraer todos los archivos del archivo ZIP en el directorio actual\n",
    "        zip_url_06.extractall(\"dataset\")\n",
    "\n",
    "    print(\"El archivo ZIP se ha descargado y descomprimido correctamente.\")\n",
    "else:\n",
    "    print(\"Error al descargar el archivo ZIP:\", response_url_06.status_code)"
   ]
  },
  {
   "cell_type": "code",
   "execution_count": 82,
   "id": "8b6f334a-1dde-43ae-af77-f1aaddf37436",
   "metadata": {
    "execution": {
     "iopub.execute_input": "2023-06-06T05:58:52.051993Z",
     "iopub.status.busy": "2023-06-06T05:58:52.051769Z",
     "iopub.status.idle": "2023-06-06T05:58:52.060510Z",
     "shell.execute_reply": "2023-06-06T05:58:52.059892Z",
     "shell.execute_reply.started": "2023-06-06T05:58:52.051966Z"
    },
    "tags": []
   },
   "outputs": [],
   "source": [
    "# Ruta del archivo CSV\n",
    "\n",
    "csv_url_06 = \"dataset/API_SH.STA.MMRT_DS2_es_csv_v2_5465523.csv\"\n",
    "\n",
    "# Crear una lista para almacenar las filas del archivo CSV\n",
    "rows_url_06 = []\n",
    "\n",
    "\n",
    "#API_SE.PRM.CMPT.ZS_DS2_es_csv_v2_5478942"
   ]
  },
  {
   "cell_type": "code",
   "execution_count": 83,
   "id": "ea038e59-21f1-4eb1-b071-6251b18d808b",
   "metadata": {
    "execution": {
     "iopub.execute_input": "2023-06-06T05:58:52.061391Z",
     "iopub.status.busy": "2023-06-06T05:58:52.061197Z",
     "iopub.status.idle": "2023-06-06T05:58:52.071477Z",
     "shell.execute_reply": "2023-06-06T05:58:52.070933Z",
     "shell.execute_reply.started": "2023-06-06T05:58:52.061375Z"
    },
    "tags": []
   },
   "outputs": [],
   "source": [
    "# Leer el archivo CSV y almacenar las filas en la lista\n",
    "with open(csv_url_06, \"r\") as file_csv_url_06:\n",
    "    csv_reader_url_06 = csv.reader(file_csv_url_06)\n",
    "    rows_url_06 = list(csv_reader_url_06)\n"
   ]
  },
  {
   "cell_type": "code",
   "execution_count": 84,
   "id": "d1ea29b2-8099-447b-87dd-29d76931f28a",
   "metadata": {
    "execution": {
     "iopub.execute_input": "2023-06-06T05:58:52.072378Z",
     "iopub.status.busy": "2023-06-06T05:58:52.072170Z",
     "iopub.status.idle": "2023-06-06T05:58:52.079184Z",
     "shell.execute_reply": "2023-06-06T05:58:52.078605Z",
     "shell.execute_reply.started": "2023-06-06T05:58:52.072362Z"
    },
    "tags": []
   },
   "outputs": [],
   "source": [
    "# Eliminar las primeras 4 filas\n",
    "\n",
    "rows_url_06 = rows_url_06[3:]\n",
    "\n",
    "# Escribir las filas modificadas en un nuevo archivo CSV\n",
    "with open(\"dataset/data/data_06.csv\", \"w\", newline=\"\") as file_csv_url_06:\n",
    "    csv_writer_url_06 = csv.writer(file_csv_url_06)\n",
    "    csv_writer_url_06.writerows(rows_url_06)"
   ]
  },
  {
   "cell_type": "code",
   "execution_count": 85,
   "id": "a6c61c39-4041-48ff-8e21-0614dc5207c8",
   "metadata": {
    "execution": {
     "iopub.execute_input": "2023-06-06T05:58:52.080011Z",
     "iopub.status.busy": "2023-06-06T05:58:52.079842Z",
     "iopub.status.idle": "2023-06-06T05:58:52.182742Z",
     "shell.execute_reply": "2023-06-06T05:58:52.182122Z",
     "shell.execute_reply.started": "2023-06-06T05:58:52.079996Z"
    },
    "tags": []
   },
   "outputs": [],
   "source": [
    "data_06 = spark.read.csv(\"dataset/data/data_06.csv\", header=True)"
   ]
  },
  {
   "cell_type": "code",
   "execution_count": 86,
   "id": "6d508376-2f02-472f-b10d-8238462f30aa",
   "metadata": {
    "execution": {
     "iopub.execute_input": "2023-06-06T05:58:52.183590Z",
     "iopub.status.busy": "2023-06-06T05:58:52.183423Z",
     "iopub.status.idle": "2023-06-06T05:58:52.190315Z",
     "shell.execute_reply": "2023-06-06T05:58:52.189735Z",
     "shell.execute_reply.started": "2023-06-06T05:58:52.183574Z"
    },
    "tags": []
   },
   "outputs": [],
   "source": [
    "data_06 = data_06.drop(\"_c66\",\"_c67\")"
   ]
  },
  {
   "cell_type": "code",
   "execution_count": 87,
   "id": "6da14364-b5a7-4853-9562-ed7cd619b406",
   "metadata": {
    "execution": {
     "iopub.execute_input": "2023-06-06T05:58:52.191025Z",
     "iopub.status.busy": "2023-06-06T05:58:52.190859Z",
     "iopub.status.idle": "2023-06-06T05:58:52.452973Z",
     "shell.execute_reply": "2023-06-06T05:58:52.452438Z",
     "shell.execute_reply.started": "2023-06-06T05:58:52.191009Z"
    },
    "tags": []
   },
   "outputs": [
    {
     "data": {
      "text/html": [
       "<div>\n",
       "<style scoped>\n",
       "    .dataframe tbody tr th:only-of-type {\n",
       "        vertical-align: middle;\n",
       "    }\n",
       "\n",
       "    .dataframe tbody tr th {\n",
       "        vertical-align: top;\n",
       "    }\n",
       "\n",
       "    .dataframe thead th {\n",
       "        text-align: right;\n",
       "    }\n",
       "</style>\n",
       "<table border=\"1\" class=\"dataframe\">\n",
       "  <thead>\n",
       "    <tr style=\"text-align: right;\">\n",
       "      <th></th>\n",
       "      <th>Country Name</th>\n",
       "      <th>Country Code</th>\n",
       "      <th>Indicator Name</th>\n",
       "      <th>Indicator Code</th>\n",
       "      <th>1960</th>\n",
       "      <th>1961</th>\n",
       "      <th>1962</th>\n",
       "      <th>1963</th>\n",
       "      <th>1964</th>\n",
       "      <th>1965</th>\n",
       "      <th>1966</th>\n",
       "      <th>1967</th>\n",
       "      <th>1968</th>\n",
       "      <th>1969</th>\n",
       "      <th>1970</th>\n",
       "      <th>1971</th>\n",
       "      <th>1972</th>\n",
       "      <th>1973</th>\n",
       "      <th>1974</th>\n",
       "      <th>1975</th>\n",
       "      <th>1976</th>\n",
       "      <th>1977</th>\n",
       "      <th>1978</th>\n",
       "      <th>1979</th>\n",
       "      <th>1980</th>\n",
       "      <th>1981</th>\n",
       "      <th>1982</th>\n",
       "      <th>1983</th>\n",
       "      <th>1984</th>\n",
       "      <th>1985</th>\n",
       "      <th>1986</th>\n",
       "      <th>1987</th>\n",
       "      <th>1988</th>\n",
       "      <th>1989</th>\n",
       "      <th>1990</th>\n",
       "      <th>1991</th>\n",
       "      <th>1992</th>\n",
       "      <th>1993</th>\n",
       "      <th>1994</th>\n",
       "      <th>1995</th>\n",
       "      <th>1996</th>\n",
       "      <th>1997</th>\n",
       "      <th>1998</th>\n",
       "      <th>1999</th>\n",
       "      <th>2000</th>\n",
       "      <th>2001</th>\n",
       "      <th>2002</th>\n",
       "      <th>2003</th>\n",
       "      <th>2004</th>\n",
       "      <th>2005</th>\n",
       "      <th>2006</th>\n",
       "      <th>2007</th>\n",
       "      <th>2008</th>\n",
       "      <th>2009</th>\n",
       "      <th>2010</th>\n",
       "      <th>2011</th>\n",
       "      <th>2012</th>\n",
       "      <th>2013</th>\n",
       "      <th>2014</th>\n",
       "      <th>2015</th>\n",
       "      <th>2016</th>\n",
       "      <th>2017</th>\n",
       "      <th>2018</th>\n",
       "      <th>2019</th>\n",
       "      <th>2020</th>\n",
       "      <th>2021</th>\n",
       "      <th>2022</th>\n",
       "    </tr>\n",
       "  </thead>\n",
       "  <tbody>\n",
       "    <tr>\n",
       "      <th>0</th>\n",
       "      <td>Aruba</td>\n",
       "      <td>ABW</td>\n",
       "      <td>Tasa de mortalidad materna (estimado mediante ...</td>\n",
       "      <td>SH.STA.MMRT</td>\n",
       "      <td>None</td>\n",
       "      <td>None</td>\n",
       "      <td>None</td>\n",
       "      <td>None</td>\n",
       "      <td>None</td>\n",
       "      <td>None</td>\n",
       "      <td>None</td>\n",
       "      <td>None</td>\n",
       "      <td>None</td>\n",
       "      <td>None</td>\n",
       "      <td>None</td>\n",
       "      <td>None</td>\n",
       "      <td>None</td>\n",
       "      <td>None</td>\n",
       "      <td>None</td>\n",
       "      <td>None</td>\n",
       "      <td>None</td>\n",
       "      <td>None</td>\n",
       "      <td>None</td>\n",
       "      <td>None</td>\n",
       "      <td>None</td>\n",
       "      <td>None</td>\n",
       "      <td>None</td>\n",
       "      <td>None</td>\n",
       "      <td>None</td>\n",
       "      <td>None</td>\n",
       "      <td>None</td>\n",
       "      <td>None</td>\n",
       "      <td>None</td>\n",
       "      <td>None</td>\n",
       "      <td>None</td>\n",
       "      <td>None</td>\n",
       "      <td>None</td>\n",
       "      <td>None</td>\n",
       "      <td>None</td>\n",
       "      <td>None</td>\n",
       "      <td>None</td>\n",
       "      <td>None</td>\n",
       "      <td>None</td>\n",
       "      <td>None</td>\n",
       "      <td>None</td>\n",
       "      <td>None</td>\n",
       "      <td>None</td>\n",
       "      <td>None</td>\n",
       "      <td>None</td>\n",
       "      <td>None</td>\n",
       "      <td>None</td>\n",
       "      <td>None</td>\n",
       "      <td>None</td>\n",
       "      <td>None</td>\n",
       "      <td>None</td>\n",
       "      <td>None</td>\n",
       "      <td>None</td>\n",
       "      <td>None</td>\n",
       "      <td>None</td>\n",
       "      <td>None</td>\n",
       "      <td>None</td>\n",
       "      <td>None</td>\n",
       "      <td>None</td>\n",
       "      <td>None</td>\n",
       "      <td>None</td>\n",
       "      <td>None</td>\n",
       "      <td>None</td>\n",
       "    </tr>\n",
       "    <tr>\n",
       "      <th>1</th>\n",
       "      <td>None</td>\n",
       "      <td>AFE</td>\n",
       "      <td>Tasa de mortalidad materna (estimado mediante ...</td>\n",
       "      <td>SH.STA.MMRT</td>\n",
       "      <td>None</td>\n",
       "      <td>None</td>\n",
       "      <td>None</td>\n",
       "      <td>None</td>\n",
       "      <td>None</td>\n",
       "      <td>None</td>\n",
       "      <td>None</td>\n",
       "      <td>None</td>\n",
       "      <td>None</td>\n",
       "      <td>None</td>\n",
       "      <td>None</td>\n",
       "      <td>None</td>\n",
       "      <td>None</td>\n",
       "      <td>None</td>\n",
       "      <td>None</td>\n",
       "      <td>None</td>\n",
       "      <td>None</td>\n",
       "      <td>None</td>\n",
       "      <td>None</td>\n",
       "      <td>None</td>\n",
       "      <td>None</td>\n",
       "      <td>None</td>\n",
       "      <td>None</td>\n",
       "      <td>None</td>\n",
       "      <td>None</td>\n",
       "      <td>None</td>\n",
       "      <td>None</td>\n",
       "      <td>None</td>\n",
       "      <td>None</td>\n",
       "      <td>None</td>\n",
       "      <td>None</td>\n",
       "      <td>None</td>\n",
       "      <td>None</td>\n",
       "      <td>None</td>\n",
       "      <td>None</td>\n",
       "      <td>None</td>\n",
       "      <td>None</td>\n",
       "      <td>None</td>\n",
       "      <td>None</td>\n",
       "      <td>None</td>\n",
       "      <td>697</td>\n",
       "      <td>684</td>\n",
       "      <td>670</td>\n",
       "      <td>640</td>\n",
       "      <td>617</td>\n",
       "      <td>598</td>\n",
       "      <td>572</td>\n",
       "      <td>560</td>\n",
       "      <td>551</td>\n",
       "      <td>529</td>\n",
       "      <td>507</td>\n",
       "      <td>485</td>\n",
       "      <td>458</td>\n",
       "      <td>442</td>\n",
       "      <td>425</td>\n",
       "      <td>410</td>\n",
       "      <td>392</td>\n",
       "      <td>381</td>\n",
       "      <td>364</td>\n",
       "      <td>354</td>\n",
       "      <td>347</td>\n",
       "      <td>None</td>\n",
       "      <td>None</td>\n",
       "    </tr>\n",
       "    <tr>\n",
       "      <th>2</th>\n",
       "      <td>Afganistán</td>\n",
       "      <td>AFG</td>\n",
       "      <td>Tasa de mortalidad materna (estimado mediante ...</td>\n",
       "      <td>SH.STA.MMRT</td>\n",
       "      <td>None</td>\n",
       "      <td>None</td>\n",
       "      <td>None</td>\n",
       "      <td>None</td>\n",
       "      <td>None</td>\n",
       "      <td>None</td>\n",
       "      <td>None</td>\n",
       "      <td>None</td>\n",
       "      <td>None</td>\n",
       "      <td>None</td>\n",
       "      <td>None</td>\n",
       "      <td>None</td>\n",
       "      <td>None</td>\n",
       "      <td>None</td>\n",
       "      <td>None</td>\n",
       "      <td>None</td>\n",
       "      <td>None</td>\n",
       "      <td>None</td>\n",
       "      <td>None</td>\n",
       "      <td>None</td>\n",
       "      <td>None</td>\n",
       "      <td>None</td>\n",
       "      <td>None</td>\n",
       "      <td>None</td>\n",
       "      <td>None</td>\n",
       "      <td>None</td>\n",
       "      <td>None</td>\n",
       "      <td>None</td>\n",
       "      <td>None</td>\n",
       "      <td>None</td>\n",
       "      <td>None</td>\n",
       "      <td>None</td>\n",
       "      <td>None</td>\n",
       "      <td>None</td>\n",
       "      <td>None</td>\n",
       "      <td>None</td>\n",
       "      <td>None</td>\n",
       "      <td>None</td>\n",
       "      <td>None</td>\n",
       "      <td>None</td>\n",
       "      <td>1346</td>\n",
       "      <td>1273</td>\n",
       "      <td>1277</td>\n",
       "      <td>1196</td>\n",
       "      <td>1115</td>\n",
       "      <td>1103</td>\n",
       "      <td>1044</td>\n",
       "      <td>1023</td>\n",
       "      <td>962</td>\n",
       "      <td>913</td>\n",
       "      <td>899</td>\n",
       "      <td>884</td>\n",
       "      <td>833</td>\n",
       "      <td>821</td>\n",
       "      <td>785</td>\n",
       "      <td>776</td>\n",
       "      <td>750</td>\n",
       "      <td>682</td>\n",
       "      <td>663</td>\n",
       "      <td>644</td>\n",
       "      <td>620</td>\n",
       "      <td>None</td>\n",
       "      <td>None</td>\n",
       "    </tr>\n",
       "  </tbody>\n",
       "</table>\n",
       "</div>"
      ],
      "text/plain": [
       "  Country Name Country Code                                                                         Indicator Name Indicator Code  1960  1961  1962  1963  1964  1965  1966  1967  1968  1969  1970  1971  1972  1973  1974  1975  1976  1977  1978  1979  1980  1981  1982  1983  1984  1985  1986  1987  1988  1989  1990  1991  1992  1993  1994  1995  1996  1997  1998  1999  2000  2001  2002  2003  2004  2005  2006  2007  2008  2009  2010  2011  2012  2013  2014  2015  2016  2017  2018  2019  2020  2021  2022\n",
       "0        Aruba          ABW  Tasa de mortalidad materna (estimado mediante modelo, por cada 100.000 nacidos vivos)    SH.STA.MMRT  None  None  None  None  None  None  None  None  None  None  None  None  None  None  None  None  None  None  None  None  None  None  None  None  None  None  None  None  None  None  None  None  None  None  None  None  None  None  None  None  None  None  None  None  None  None  None  None  None  None  None  None  None  None  None  None  None  None  None  None  None  None  None\n",
       "1         None          AFE  Tasa de mortalidad materna (estimado mediante modelo, por cada 100.000 nacidos vivos)    SH.STA.MMRT  None  None  None  None  None  None  None  None  None  None  None  None  None  None  None  None  None  None  None  None  None  None  None  None  None  None  None  None  None  None  None  None  None  None  None  None  None  None  None  None   697   684   670   640   617   598   572   560   551   529   507   485   458   442   425   410   392   381   364   354   347  None  None\n",
       "2   Afganistán          AFG  Tasa de mortalidad materna (estimado mediante modelo, por cada 100.000 nacidos vivos)    SH.STA.MMRT  None  None  None  None  None  None  None  None  None  None  None  None  None  None  None  None  None  None  None  None  None  None  None  None  None  None  None  None  None  None  None  None  None  None  None  None  None  None  None  None  1346  1273  1277  1196  1115  1103  1044  1023   962   913   899   884   833   821   785   776   750   682   663   644   620  None  None"
      ]
     },
     "execution_count": 87,
     "metadata": {},
     "output_type": "execute_result"
    }
   ],
   "source": [
    "data_06.limit(3).pandas_api()\n"
   ]
  },
  {
   "cell_type": "code",
   "execution_count": 88,
   "id": "ce2465ef-f53a-4c61-8d87-b82645c0d9d8",
   "metadata": {
    "execution": {
     "iopub.execute_input": "2023-06-06T05:58:52.453734Z",
     "iopub.status.busy": "2023-06-06T05:58:52.453545Z",
     "iopub.status.idle": "2023-06-06T05:58:52.476517Z",
     "shell.execute_reply": "2023-06-06T05:58:52.475771Z",
     "shell.execute_reply.started": "2023-06-06T05:58:52.453718Z"
    },
    "tags": []
   },
   "outputs": [],
   "source": [
    "data_06 = data_06.selectExpr('`Country Name`', '`Country Code`', \"`Indicator Name`\", \"`Indicator Code`\", \"stack(63, \\\n",
    "'1960', `1960`, '1961', `1961`, '1962', `1962`, '1963', `1963`, '1964', `1964`, \\\n",
    "'1965', `1965`, '1966', `1966`, '1967', `1967`, '1968', `1968`, '1969', `1969`, \\\n",
    "'1970', `1970`, '1971', `1971`, '1972', `1972`, '1973', `1973`, '1974', `1974`, \\\n",
    "'1975', `1975`, '1976', `1976`, '1977', `1977`, '1978', `1978`, '1979', `1979`, \\\n",
    "'1980', `1980`, '1981', `1981`, '1982', `1982`, '1983', `1983`, '1984', `1984`, \\\n",
    "'1985', `1985`, '1986', `1986`, '1987', `1987`, '1988', `1988`, '1989', `1989`, \\\n",
    "'1990', `1990`, '1991', `1991`, '1992', `1992`, '1993', `1993`, '1994', `1994`, \\\n",
    "'1995', `1995`, '1996', `1996`, '1997', `1997`, '1998', `1998`, '1999', `1999`, \\\n",
    "'2010', `2010`, '2011', `2011`, '2012', `2012`, '2013', `2013`, '2014', `2014`, \\\n",
    "'2015', `2015`, '2016', `2016`, '2017', `2017`, '2018', `2018`, '2019', `2019`, \\\n",
    "'2010', `2010`, '2011', `2011`, '2012', `2012`, '2013', `2013`, '2014', `2014`, \\\n",
    "'2015', `2015`, '2016', `2016`, '2017', `2017`, '2018', `2018`, '2019', `2019`, \\\n",
    "'2020', `2020`, '2021', `2021`, '2022', `2022`) as (Year, ratio_maternal_mort)\")"
   ]
  },
  {
   "cell_type": "code",
   "execution_count": 89,
   "id": "afc2f3e0-13c6-4ff6-8cd1-36f3b78dd7e5",
   "metadata": {
    "execution": {
     "iopub.execute_input": "2023-06-06T05:58:52.477805Z",
     "iopub.status.busy": "2023-06-06T05:58:52.477505Z",
     "iopub.status.idle": "2023-06-06T05:58:52.612405Z",
     "shell.execute_reply": "2023-06-06T05:58:52.611758Z",
     "shell.execute_reply.started": "2023-06-06T05:58:52.477786Z"
    },
    "tags": []
   },
   "outputs": [
    {
     "data": {
      "text/html": [
       "<div>\n",
       "<style scoped>\n",
       "    .dataframe tbody tr th:only-of-type {\n",
       "        vertical-align: middle;\n",
       "    }\n",
       "\n",
       "    .dataframe tbody tr th {\n",
       "        vertical-align: top;\n",
       "    }\n",
       "\n",
       "    .dataframe thead th {\n",
       "        text-align: right;\n",
       "    }\n",
       "</style>\n",
       "<table border=\"1\" class=\"dataframe\">\n",
       "  <thead>\n",
       "    <tr style=\"text-align: right;\">\n",
       "      <th></th>\n",
       "      <th>Country Name</th>\n",
       "      <th>Country Code</th>\n",
       "      <th>Indicator Name</th>\n",
       "      <th>Indicator Code</th>\n",
       "      <th>Year</th>\n",
       "      <th>ratio_maternal_mort</th>\n",
       "    </tr>\n",
       "  </thead>\n",
       "  <tbody>\n",
       "    <tr>\n",
       "      <th>0</th>\n",
       "      <td>Aruba</td>\n",
       "      <td>ABW</td>\n",
       "      <td>Tasa de mortalidad materna (estimado mediante ...</td>\n",
       "      <td>SH.STA.MMRT</td>\n",
       "      <td>1960</td>\n",
       "      <td>None</td>\n",
       "    </tr>\n",
       "    <tr>\n",
       "      <th>1</th>\n",
       "      <td>Aruba</td>\n",
       "      <td>ABW</td>\n",
       "      <td>Tasa de mortalidad materna (estimado mediante ...</td>\n",
       "      <td>SH.STA.MMRT</td>\n",
       "      <td>1961</td>\n",
       "      <td>None</td>\n",
       "    </tr>\n",
       "    <tr>\n",
       "      <th>2</th>\n",
       "      <td>Aruba</td>\n",
       "      <td>ABW</td>\n",
       "      <td>Tasa de mortalidad materna (estimado mediante ...</td>\n",
       "      <td>SH.STA.MMRT</td>\n",
       "      <td>1962</td>\n",
       "      <td>None</td>\n",
       "    </tr>\n",
       "  </tbody>\n",
       "</table>\n",
       "</div>"
      ],
      "text/plain": [
       "  Country Name Country Code                                                                         Indicator Name Indicator Code  Year ratio_maternal_mort\n",
       "0        Aruba          ABW  Tasa de mortalidad materna (estimado mediante modelo, por cada 100.000 nacidos vivos)    SH.STA.MMRT  1960                None\n",
       "1        Aruba          ABW  Tasa de mortalidad materna (estimado mediante modelo, por cada 100.000 nacidos vivos)    SH.STA.MMRT  1961                None\n",
       "2        Aruba          ABW  Tasa de mortalidad materna (estimado mediante modelo, por cada 100.000 nacidos vivos)    SH.STA.MMRT  1962                None"
      ]
     },
     "execution_count": 89,
     "metadata": {},
     "output_type": "execute_result"
    }
   ],
   "source": [
    "data_06.limit(3).pandas_api()\n"
   ]
  },
  {
   "cell_type": "code",
   "execution_count": 90,
   "id": "8ee74875-b2d0-484b-a640-2f856d7aef31",
   "metadata": {
    "execution": {
     "iopub.execute_input": "2023-06-06T05:58:52.613536Z",
     "iopub.status.busy": "2023-06-06T05:58:52.613316Z",
     "iopub.status.idle": "2023-06-06T05:58:52.619695Z",
     "shell.execute_reply": "2023-06-06T05:58:52.619099Z",
     "shell.execute_reply.started": "2023-06-06T05:58:52.613513Z"
    },
    "tags": []
   },
   "outputs": [],
   "source": [
    "data_06 = data_06.drop(\"Country Name\",\"Indicator Name\",\"Indicator Code\")"
   ]
  },
  {
   "cell_type": "markdown",
   "id": "76ca002b-949b-44b5-bda2-70c0c1644e2b",
   "metadata": {},
   "source": [
    "Tasa de mortalidad en un año (por cada 1.000 personas)\n",
    "Algunos metadatos están solo en inglés\n",
    "\n",
    "La tasa bruta de mortalidad es la cantidad de muertes en un año, por cada 1000 habitantes, estimada a mitad de año. Si se resta la tasa bruta de mortalidad a la tasa bruta de natalidad ofrece la tasa de incremento natural, que es igual a la tasa de crecimiento de la población en ausencia de migración. \n",
    "\n",
    "https://datos.bancomundial.org/indicador/SP.DYN.CDRT.IN?view=chart\n"
   ]
  },
  {
   "cell_type": "code",
   "execution_count": 91,
   "id": "25c2ff29-3995-4eeb-adad-4c5fd04978f3",
   "metadata": {
    "execution": {
     "iopub.execute_input": "2023-06-06T05:58:52.620992Z",
     "iopub.status.busy": "2023-06-06T05:58:52.620597Z",
     "iopub.status.idle": "2023-06-06T05:58:52.627741Z",
     "shell.execute_reply": "2023-06-06T05:58:52.627230Z",
     "shell.execute_reply.started": "2023-06-06T05:58:52.620969Z"
    },
    "tags": []
   },
   "outputs": [],
   "source": [
    "url_07 = \"https://api.worldbank.org/v2/es/indicator/SP.DYN.CDRT.IN?downloadformat=csv\""
   ]
  },
  {
   "cell_type": "code",
   "execution_count": 92,
   "id": "a653c119-1cb2-45f4-94c1-ecdae16a497d",
   "metadata": {
    "execution": {
     "iopub.execute_input": "2023-06-06T05:58:52.628584Z",
     "iopub.status.busy": "2023-06-06T05:58:52.628379Z",
     "iopub.status.idle": "2023-06-06T05:58:53.825179Z",
     "shell.execute_reply": "2023-06-06T05:58:53.824051Z",
     "shell.execute_reply.started": "2023-06-06T05:58:52.628568Z"
    },
    "tags": []
   },
   "outputs": [],
   "source": [
    "response_url_07 = requests.get(url_07)"
   ]
  },
  {
   "cell_type": "code",
   "execution_count": 93,
   "id": "7ad0f5da-261b-4b4b-bb34-de85ed4a77d6",
   "metadata": {
    "execution": {
     "iopub.execute_input": "2023-06-06T05:58:53.827726Z",
     "iopub.status.busy": "2023-06-06T05:58:53.827186Z",
     "iopub.status.idle": "2023-06-06T05:58:53.838242Z",
     "shell.execute_reply": "2023-06-06T05:58:53.837235Z",
     "shell.execute_reply.started": "2023-06-06T05:58:53.827686Z"
    },
    "tags": []
   },
   "outputs": [
    {
     "name": "stdout",
     "output_type": "stream",
     "text": [
      "El archivo ZIP se ha descargado y descomprimido correctamente.\n"
     ]
    }
   ],
   "source": [
    "if response_url_07.status_code == 200:\n",
    "    # Crear un objeto ZipFile a partir de los datos de la respuesta\n",
    "    with zipfile.ZipFile(io.BytesIO(response_url_07.content), \"r\") as zip_url_07:\n",
    "        # Extraer todos los archivos del archivo ZIP en el directorio actual\n",
    "        zip_url_07.extractall(\"dataset\")\n",
    "\n",
    "    print(\"El archivo ZIP se ha descargado y descomprimido correctamente.\")\n",
    "else:\n",
    "    print(\"Error al descargar el archivo ZIP:\", response_url_07.status_code)"
   ]
  },
  {
   "cell_type": "code",
   "execution_count": 94,
   "id": "5b4449b3-3a84-4d2b-b16d-bafd5dcdadac",
   "metadata": {
    "execution": {
     "iopub.execute_input": "2023-06-06T05:58:53.839379Z",
     "iopub.status.busy": "2023-06-06T05:58:53.839120Z",
     "iopub.status.idle": "2023-06-06T05:58:53.844278Z",
     "shell.execute_reply": "2023-06-06T05:58:53.843601Z",
     "shell.execute_reply.started": "2023-06-06T05:58:53.839357Z"
    },
    "tags": []
   },
   "outputs": [],
   "source": [
    "# Ruta del archivo CSV\n",
    "\n",
    "csv_url_07 = \"dataset/API_SP.DYN.CDRT.IN_DS2_es_csv_v2_5464535.csv\"\n",
    "\n",
    "# Crear una lista para almacenar las filas del archivo CSV\n",
    "rows_url_07 = []\n",
    "\n",
    "\n",
    "#API_SE.PRM.CMPT.ZS_DS2_es_csv_v2_5478942"
   ]
  },
  {
   "cell_type": "code",
   "execution_count": 95,
   "id": "a8edc02b-8ab1-4385-be8e-a47535cb05c8",
   "metadata": {
    "execution": {
     "iopub.execute_input": "2023-06-06T05:58:53.845364Z",
     "iopub.status.busy": "2023-06-06T05:58:53.845113Z",
     "iopub.status.idle": "2023-06-06T05:58:53.858964Z",
     "shell.execute_reply": "2023-06-06T05:58:53.858359Z",
     "shell.execute_reply.started": "2023-06-06T05:58:53.845343Z"
    },
    "tags": []
   },
   "outputs": [],
   "source": [
    "# Leer el archivo CSV y almacenar las filas en la lista\n",
    "with open(csv_url_07, \"r\") as file_csv_url_07:\n",
    "    csv_reader_url_07 = csv.reader(file_csv_url_07)\n",
    "    rows_url_07 = list(csv_reader_url_07)\n"
   ]
  },
  {
   "cell_type": "code",
   "execution_count": 96,
   "id": "791362fe-52b2-421c-a0e0-4f706dce2398",
   "metadata": {
    "execution": {
     "iopub.execute_input": "2023-06-06T05:58:53.859942Z",
     "iopub.status.busy": "2023-06-06T05:58:53.859646Z",
     "iopub.status.idle": "2023-06-06T05:58:53.868041Z",
     "shell.execute_reply": "2023-06-06T05:58:53.867441Z",
     "shell.execute_reply.started": "2023-06-06T05:58:53.859920Z"
    },
    "tags": []
   },
   "outputs": [],
   "source": [
    "# Eliminar las primeras 4 filas\n",
    "\n",
    "rows_url_07 = rows_url_07[3:]\n",
    "\n",
    "# Escribir las filas modificadas en un nuevo archivo CSV\n",
    "with open(\"dataset/data/data_07.csv\", \"w\", newline=\"\") as file_csv_url_07:\n",
    "    csv_writer_url_07 = csv.writer(file_csv_url_07)\n",
    "    csv_writer_url_07.writerows(rows_url_07)"
   ]
  },
  {
   "cell_type": "code",
   "execution_count": 97,
   "id": "28128367-6540-4216-9a45-6829bca7be83",
   "metadata": {
    "execution": {
     "iopub.execute_input": "2023-06-06T05:58:53.869161Z",
     "iopub.status.busy": "2023-06-06T05:58:53.868919Z",
     "iopub.status.idle": "2023-06-06T05:58:53.944824Z",
     "shell.execute_reply": "2023-06-06T05:58:53.944242Z",
     "shell.execute_reply.started": "2023-06-06T05:58:53.869140Z"
    },
    "tags": []
   },
   "outputs": [],
   "source": [
    "data_07 = spark.read.csv(\"dataset/data/data_07.csv\", header=True)"
   ]
  },
  {
   "cell_type": "code",
   "execution_count": 98,
   "id": "c8d507b0-4299-4e64-aada-52cf6e688195",
   "metadata": {
    "execution": {
     "iopub.execute_input": "2023-06-06T05:58:53.945727Z",
     "iopub.status.busy": "2023-06-06T05:58:53.945371Z",
     "iopub.status.idle": "2023-06-06T05:58:53.952504Z",
     "shell.execute_reply": "2023-06-06T05:58:53.951920Z",
     "shell.execute_reply.started": "2023-06-06T05:58:53.945709Z"
    },
    "tags": []
   },
   "outputs": [],
   "source": [
    "data_07 = data_07.drop(\"_c66\",\"_c67\")"
   ]
  },
  {
   "cell_type": "code",
   "execution_count": 99,
   "id": "466bb67c-5155-4a97-af65-8caf8a268768",
   "metadata": {
    "execution": {
     "iopub.execute_input": "2023-06-06T05:58:53.953474Z",
     "iopub.status.busy": "2023-06-06T05:58:53.953209Z",
     "iopub.status.idle": "2023-06-06T05:58:54.201513Z",
     "shell.execute_reply": "2023-06-06T05:58:54.200992Z",
     "shell.execute_reply.started": "2023-06-06T05:58:53.953457Z"
    },
    "tags": []
   },
   "outputs": [
    {
     "data": {
      "text/html": [
       "<div>\n",
       "<style scoped>\n",
       "    .dataframe tbody tr th:only-of-type {\n",
       "        vertical-align: middle;\n",
       "    }\n",
       "\n",
       "    .dataframe tbody tr th {\n",
       "        vertical-align: top;\n",
       "    }\n",
       "\n",
       "    .dataframe thead th {\n",
       "        text-align: right;\n",
       "    }\n",
       "</style>\n",
       "<table border=\"1\" class=\"dataframe\">\n",
       "  <thead>\n",
       "    <tr style=\"text-align: right;\">\n",
       "      <th></th>\n",
       "      <th>Country Name</th>\n",
       "      <th>Country Code</th>\n",
       "      <th>Indicator Name</th>\n",
       "      <th>Indicator Code</th>\n",
       "      <th>1960</th>\n",
       "      <th>1961</th>\n",
       "      <th>1962</th>\n",
       "      <th>1963</th>\n",
       "      <th>1964</th>\n",
       "      <th>1965</th>\n",
       "      <th>1966</th>\n",
       "      <th>1967</th>\n",
       "      <th>1968</th>\n",
       "      <th>1969</th>\n",
       "      <th>1970</th>\n",
       "      <th>1971</th>\n",
       "      <th>1972</th>\n",
       "      <th>1973</th>\n",
       "      <th>1974</th>\n",
       "      <th>1975</th>\n",
       "      <th>1976</th>\n",
       "      <th>1977</th>\n",
       "      <th>1978</th>\n",
       "      <th>1979</th>\n",
       "      <th>1980</th>\n",
       "      <th>1981</th>\n",
       "      <th>1982</th>\n",
       "      <th>1983</th>\n",
       "      <th>1984</th>\n",
       "      <th>1985</th>\n",
       "      <th>1986</th>\n",
       "      <th>1987</th>\n",
       "      <th>1988</th>\n",
       "      <th>1989</th>\n",
       "      <th>1990</th>\n",
       "      <th>1991</th>\n",
       "      <th>1992</th>\n",
       "      <th>1993</th>\n",
       "      <th>1994</th>\n",
       "      <th>1995</th>\n",
       "      <th>1996</th>\n",
       "      <th>1997</th>\n",
       "      <th>1998</th>\n",
       "      <th>1999</th>\n",
       "      <th>2000</th>\n",
       "      <th>2001</th>\n",
       "      <th>2002</th>\n",
       "      <th>2003</th>\n",
       "      <th>2004</th>\n",
       "      <th>2005</th>\n",
       "      <th>2006</th>\n",
       "      <th>2007</th>\n",
       "      <th>2008</th>\n",
       "      <th>2009</th>\n",
       "      <th>2010</th>\n",
       "      <th>2011</th>\n",
       "      <th>2012</th>\n",
       "      <th>2013</th>\n",
       "      <th>2014</th>\n",
       "      <th>2015</th>\n",
       "      <th>2016</th>\n",
       "      <th>2017</th>\n",
       "      <th>2018</th>\n",
       "      <th>2019</th>\n",
       "      <th>2020</th>\n",
       "      <th>2021</th>\n",
       "      <th>2022</th>\n",
       "    </tr>\n",
       "  </thead>\n",
       "  <tbody>\n",
       "    <tr>\n",
       "      <th>0</th>\n",
       "      <td>Aruba</td>\n",
       "      <td>ABW</td>\n",
       "      <td>Tasa de mortalidad en un año (por cada 1.000 p...</td>\n",
       "      <td>SP.DYN.CDRT.IN</td>\n",
       "      <td>6.594</td>\n",
       "      <td>6.456</td>\n",
       "      <td>6.394</td>\n",
       "      <td>6.275</td>\n",
       "      <td>6.25</td>\n",
       "      <td>6.216</td>\n",
       "      <td>6.047</td>\n",
       "      <td>5.967</td>\n",
       "      <td>5.957</td>\n",
       "      <td>5.916</td>\n",
       "      <td>5.88</td>\n",
       "      <td>5.861</td>\n",
       "      <td>5.754</td>\n",
       "      <td>5.677</td>\n",
       "      <td>5.657</td>\n",
       "      <td>5.699</td>\n",
       "      <td>5.741</td>\n",
       "      <td>5.838</td>\n",
       "      <td>5.934</td>\n",
       "      <td>6</td>\n",
       "      <td>6.06</td>\n",
       "      <td>5.935</td>\n",
       "      <td>6.118</td>\n",
       "      <td>6.253</td>\n",
       "      <td>6.366</td>\n",
       "      <td>6.498</td>\n",
       "      <td>6.69</td>\n",
       "      <td>6.78</td>\n",
       "      <td>6.902</td>\n",
       "      <td>7.129</td>\n",
       "      <td>7.1</td>\n",
       "      <td>6.869</td>\n",
       "      <td>6.418</td>\n",
       "      <td>6.411</td>\n",
       "      <td>6.388</td>\n",
       "      <td>6.366</td>\n",
       "      <td>6.338</td>\n",
       "      <td>6.359</td>\n",
       "      <td>6.339</td>\n",
       "      <td>6.313</td>\n",
       "      <td>6.335</td>\n",
       "      <td>6.348</td>\n",
       "      <td>6.42</td>\n",
       "      <td>6.549</td>\n",
       "      <td>6.808</td>\n",
       "      <td>6.839</td>\n",
       "      <td>6.887</td>\n",
       "      <td>6.958</td>\n",
       "      <td>7.179</td>\n",
       "      <td>7.094</td>\n",
       "      <td>6.745</td>\n",
       "      <td>6.945</td>\n",
       "      <td>7.187</td>\n",
       "      <td>7.403</td>\n",
       "      <td>7.729</td>\n",
       "      <td>7.968</td>\n",
       "      <td>8.336</td>\n",
       "      <td>8.414</td>\n",
       "      <td>8.597</td>\n",
       "      <td>8.778</td>\n",
       "      <td>9.69</td>\n",
       "      <td>11.235</td>\n",
       "      <td>None</td>\n",
       "    </tr>\n",
       "    <tr>\n",
       "      <th>1</th>\n",
       "      <td>None</td>\n",
       "      <td>AFE</td>\n",
       "      <td>Tasa de mortalidad en un año (por cada 1.000 p...</td>\n",
       "      <td>SP.DYN.CDRT.IN</td>\n",
       "      <td>20.9181075540334</td>\n",
       "      <td>20.6814037084123</td>\n",
       "      <td>20.3931182132739</td>\n",
       "      <td>20.2546340226112</td>\n",
       "      <td>19.8084915885047</td>\n",
       "      <td>19.7955586733842</td>\n",
       "      <td>20.0475420648391</td>\n",
       "      <td>19.4645380816404</td>\n",
       "      <td>19.2369192473959</td>\n",
       "      <td>19.0942882435246</td>\n",
       "      <td>18.8765433133638</td>\n",
       "      <td>18.474162520435</td>\n",
       "      <td>18.8197995486089</td>\n",
       "      <td>18.1259370849401</td>\n",
       "      <td>18.237209408909</td>\n",
       "      <td>18.0930053686215</td>\n",
       "      <td>17.5592278381769</td>\n",
       "      <td>17.3564034992962</td>\n",
       "      <td>17.2442005722328</td>\n",
       "      <td>16.9003662966933</td>\n",
       "      <td>16.6805167351597</td>\n",
       "      <td>16.443989250957</td>\n",
       "      <td>16.2441479956268</td>\n",
       "      <td>17.6213835986256</td>\n",
       "      <td>17.5989568342311</td>\n",
       "      <td>17.2709323329327</td>\n",
       "      <td>16.7716874800497</td>\n",
       "      <td>16.3449467825335</td>\n",
       "      <td>17.224145717891</td>\n",
       "      <td>15.6406540782482</td>\n",
       "      <td>15.6053387597827</td>\n",
       "      <td>15.8224838028085</td>\n",
       "      <td>16.0772796978922</td>\n",
       "      <td>15.6194055296085</td>\n",
       "      <td>16.2807659084593</td>\n",
       "      <td>14.8200950507174</td>\n",
       "      <td>14.8321153104661</td>\n",
       "      <td>14.6342154835785</td>\n",
       "      <td>15.1479185859315</td>\n",
       "      <td>14.2454433701731</td>\n",
       "      <td>13.7756980933728</td>\n",
       "      <td>13.5923980889675</td>\n",
       "      <td>13.3095890478815</td>\n",
       "      <td>12.9812714657523</td>\n",
       "      <td>12.6284413203686</td>\n",
       "      <td>12.2334892737562</td>\n",
       "      <td>11.731215202071</td>\n",
       "      <td>11.2880673010023</td>\n",
       "      <td>10.8631297240559</td>\n",
       "      <td>10.361905180101</td>\n",
       "      <td>9.93944940849568</td>\n",
       "      <td>9.49932316123333</td>\n",
       "      <td>9.10105039129286</td>\n",
       "      <td>8.77559583403619</td>\n",
       "      <td>8.47589951462709</td>\n",
       "      <td>8.23961908727907</td>\n",
       "      <td>7.97369548695164</td>\n",
       "      <td>7.77341294390762</td>\n",
       "      <td>7.58811002596642</td>\n",
       "      <td>7.43464348818395</td>\n",
       "      <td>7.620547330425</td>\n",
       "      <td>8.03689808015181</td>\n",
       "      <td>None</td>\n",
       "    </tr>\n",
       "    <tr>\n",
       "      <th>2</th>\n",
       "      <td>Afganistán</td>\n",
       "      <td>AFG</td>\n",
       "      <td>Tasa de mortalidad en un año (por cada 1.000 p...</td>\n",
       "      <td>SP.DYN.CDRT.IN</td>\n",
       "      <td>31.921</td>\n",
       "      <td>31.349</td>\n",
       "      <td>30.845</td>\n",
       "      <td>30.359</td>\n",
       "      <td>29.867</td>\n",
       "      <td>29.389</td>\n",
       "      <td>28.872</td>\n",
       "      <td>28.396</td>\n",
       "      <td>27.895</td>\n",
       "      <td>27.398</td>\n",
       "      <td>26.875</td>\n",
       "      <td>26.364</td>\n",
       "      <td>25.845</td>\n",
       "      <td>25.297</td>\n",
       "      <td>24.773</td>\n",
       "      <td>24.241</td>\n",
       "      <td>23.718</td>\n",
       "      <td>23.179</td>\n",
       "      <td>23.875</td>\n",
       "      <td>24.797</td>\n",
       "      <td>24.209</td>\n",
       "      <td>23.611</td>\n",
       "      <td>25.622</td>\n",
       "      <td>25.107</td>\n",
       "      <td>30.03</td>\n",
       "      <td>29.661</td>\n",
       "      <td>23.705</td>\n",
       "      <td>23.285</td>\n",
       "      <td>19.945</td>\n",
       "      <td>19.047</td>\n",
       "      <td>18.449</td>\n",
       "      <td>17.946</td>\n",
       "      <td>17.222</td>\n",
       "      <td>14.838</td>\n",
       "      <td>14.689</td>\n",
       "      <td>14.092</td>\n",
       "      <td>13.627</td>\n",
       "      <td>13.334</td>\n",
       "      <td>13.565</td>\n",
       "      <td>12.463</td>\n",
       "      <td>12.096</td>\n",
       "      <td>11.713</td>\n",
       "      <td>11.28</td>\n",
       "      <td>10.698</td>\n",
       "      <td>10.277</td>\n",
       "      <td>9.941</td>\n",
       "      <td>9.679</td>\n",
       "      <td>9.359</td>\n",
       "      <td>8.832</td>\n",
       "      <td>8.535</td>\n",
       "      <td>8.254</td>\n",
       "      <td>7.931</td>\n",
       "      <td>7.711</td>\n",
       "      <td>7.478</td>\n",
       "      <td>7.395</td>\n",
       "      <td>7.331</td>\n",
       "      <td>7.077</td>\n",
       "      <td>7.027</td>\n",
       "      <td>6.981</td>\n",
       "      <td>6.791</td>\n",
       "      <td>7.113</td>\n",
       "      <td>7.344</td>\n",
       "      <td>None</td>\n",
       "    </tr>\n",
       "  </tbody>\n",
       "</table>\n",
       "</div>"
      ],
      "text/plain": [
       "  Country Name Country Code                                          Indicator Name  Indicator Code              1960              1961              1962              1963              1964              1965              1966              1967              1968              1969              1970             1971              1972              1973             1974              1975              1976              1977              1978              1979              1980             1981              1982              1983              1984              1985              1986              1987             1988              1989              1990              1991              1992              1993              1994              1995              1996              1997              1998              1999              2000              2001              2002              2003              2004              2005             2006              2007              2008             2009              2010              2011              2012              2013              2014              2015              2016              2017              2018              2019            2020              2021  2022\n",
       "0        Aruba          ABW  Tasa de mortalidad en un año (por cada 1.000 personas)  SP.DYN.CDRT.IN             6.594             6.456             6.394             6.275              6.25             6.216             6.047             5.967             5.957             5.916              5.88            5.861             5.754             5.677            5.657             5.699             5.741             5.838             5.934                 6              6.06            5.935             6.118             6.253             6.366             6.498              6.69              6.78            6.902             7.129               7.1             6.869             6.418             6.411             6.388             6.366             6.338             6.359             6.339             6.313             6.335             6.348              6.42             6.549             6.808             6.839            6.887             6.958             7.179            7.094             6.745             6.945             7.187             7.403             7.729             7.968             8.336             8.414             8.597             8.778            9.69            11.235  None\n",
       "1         None          AFE  Tasa de mortalidad en un año (por cada 1.000 personas)  SP.DYN.CDRT.IN  20.9181075540334  20.6814037084123  20.3931182132739  20.2546340226112  19.8084915885047  19.7955586733842  20.0475420648391  19.4645380816404  19.2369192473959  19.0942882435246  18.8765433133638  18.474162520435  18.8197995486089  18.1259370849401  18.237209408909  18.0930053686215  17.5592278381769  17.3564034992962  17.2442005722328  16.9003662966933  16.6805167351597  16.443989250957  16.2441479956268  17.6213835986256  17.5989568342311  17.2709323329327  16.7716874800497  16.3449467825335  17.224145717891  15.6406540782482  15.6053387597827  15.8224838028085  16.0772796978922  15.6194055296085  16.2807659084593  14.8200950507174  14.8321153104661  14.6342154835785  15.1479185859315  14.2454433701731  13.7756980933728  13.5923980889675  13.3095890478815  12.9812714657523  12.6284413203686  12.2334892737562  11.731215202071  11.2880673010023  10.8631297240559  10.361905180101  9.93944940849568  9.49932316123333  9.10105039129286  8.77559583403619  8.47589951462709  8.23961908727907  7.97369548695164  7.77341294390762  7.58811002596642  7.43464348818395  7.620547330425  8.03689808015181  None\n",
       "2   Afganistán          AFG  Tasa de mortalidad en un año (por cada 1.000 personas)  SP.DYN.CDRT.IN            31.921            31.349            30.845            30.359            29.867            29.389            28.872            28.396            27.895            27.398            26.875           26.364            25.845            25.297           24.773            24.241            23.718            23.179            23.875            24.797            24.209           23.611            25.622            25.107             30.03            29.661            23.705            23.285           19.945            19.047            18.449            17.946            17.222            14.838            14.689            14.092            13.627            13.334            13.565            12.463            12.096            11.713             11.28            10.698            10.277             9.941            9.679             9.359             8.832            8.535             8.254             7.931             7.711             7.478             7.395             7.331             7.077             7.027             6.981             6.791           7.113             7.344  None"
      ]
     },
     "execution_count": 99,
     "metadata": {},
     "output_type": "execute_result"
    }
   ],
   "source": [
    "data_07.limit(3).pandas_api()\n"
   ]
  },
  {
   "cell_type": "code",
   "execution_count": 100,
   "id": "0756043e-643d-441b-9bc5-b8e2031f6376",
   "metadata": {
    "execution": {
     "iopub.execute_input": "2023-06-06T05:58:54.202326Z",
     "iopub.status.busy": "2023-06-06T05:58:54.202154Z",
     "iopub.status.idle": "2023-06-06T05:58:54.217051Z",
     "shell.execute_reply": "2023-06-06T05:58:54.216446Z",
     "shell.execute_reply.started": "2023-06-06T05:58:54.202310Z"
    },
    "tags": []
   },
   "outputs": [],
   "source": [
    "data_07 = data_07.selectExpr('`Country Name`', '`Country Code`', \"`Indicator Name`\", \"`Indicator Code`\", \"stack(63, \\\n",
    "'1960', `1960`, '1961', `1961`, '1962', `1962`, '1963', `1963`, '1964', `1964`, \\\n",
    "'1965', `1965`, '1966', `1966`, '1967', `1967`, '1968', `1968`, '1969', `1969`, \\\n",
    "'1970', `1970`, '1971', `1971`, '1972', `1972`, '1973', `1973`, '1974', `1974`, \\\n",
    "'1975', `1975`, '1976', `1976`, '1977', `1977`, '1978', `1978`, '1979', `1979`, \\\n",
    "'1980', `1980`, '1981', `1981`, '1982', `1982`, '1983', `1983`, '1984', `1984`, \\\n",
    "'1985', `1985`, '1986', `1986`, '1987', `1987`, '1988', `1988`, '1989', `1989`, \\\n",
    "'1990', `1990`, '1991', `1991`, '1992', `1992`, '1993', `1993`, '1994', `1994`, \\\n",
    "'1995', `1995`, '1996', `1996`, '1997', `1997`, '1998', `1998`, '1999', `1999`, \\\n",
    "'2010', `2010`, '2011', `2011`, '2012', `2012`, '2013', `2013`, '2014', `2014`, \\\n",
    "'2015', `2015`, '2016', `2016`, '2017', `2017`, '2018', `2018`, '2019', `2019`, \\\n",
    "'2010', `2010`, '2011', `2011`, '2012', `2012`, '2013', `2013`, '2014', `2014`, \\\n",
    "'2015', `2015`, '2016', `2016`, '2017', `2017`, '2018', `2018`, '2019', `2019`, \\\n",
    "'2020', `2020`, '2021', `2021`, '2022', `2022`) as (Year, ratio_mort_in_year)\")"
   ]
  },
  {
   "cell_type": "code",
   "execution_count": 101,
   "id": "996f6c14-10ae-4177-bfc0-9dae84cb4f8a",
   "metadata": {
    "execution": {
     "iopub.execute_input": "2023-06-06T05:58:54.218883Z",
     "iopub.status.busy": "2023-06-06T05:58:54.218427Z",
     "iopub.status.idle": "2023-06-06T05:58:54.555263Z",
     "shell.execute_reply": "2023-06-06T05:58:54.554653Z",
     "shell.execute_reply.started": "2023-06-06T05:58:54.218856Z"
    },
    "tags": []
   },
   "outputs": [
    {
     "data": {
      "text/html": [
       "<div>\n",
       "<style scoped>\n",
       "    .dataframe tbody tr th:only-of-type {\n",
       "        vertical-align: middle;\n",
       "    }\n",
       "\n",
       "    .dataframe tbody tr th {\n",
       "        vertical-align: top;\n",
       "    }\n",
       "\n",
       "    .dataframe thead th {\n",
       "        text-align: right;\n",
       "    }\n",
       "</style>\n",
       "<table border=\"1\" class=\"dataframe\">\n",
       "  <thead>\n",
       "    <tr style=\"text-align: right;\">\n",
       "      <th></th>\n",
       "      <th>Country Name</th>\n",
       "      <th>Country Code</th>\n",
       "      <th>Indicator Name</th>\n",
       "      <th>Indicator Code</th>\n",
       "      <th>Year</th>\n",
       "      <th>ratio_mort_in_year</th>\n",
       "    </tr>\n",
       "  </thead>\n",
       "  <tbody>\n",
       "    <tr>\n",
       "      <th>0</th>\n",
       "      <td>None</td>\n",
       "      <td>AFE</td>\n",
       "      <td>Tasa de mortalidad en un año (por cada 1.000 p...</td>\n",
       "      <td>SP.DYN.CDRT.IN</td>\n",
       "      <td>1993</td>\n",
       "      <td>15.6194055296085</td>\n",
       "    </tr>\n",
       "    <tr>\n",
       "      <th>1</th>\n",
       "      <td>Afganistán</td>\n",
       "      <td>AFG</td>\n",
       "      <td>Tasa de mortalidad en un año (por cada 1.000 p...</td>\n",
       "      <td>SP.DYN.CDRT.IN</td>\n",
       "      <td>1998</td>\n",
       "      <td>13.565</td>\n",
       "    </tr>\n",
       "    <tr>\n",
       "      <th>2</th>\n",
       "      <td>Angola</td>\n",
       "      <td>AGO</td>\n",
       "      <td>Tasa de mortalidad en un año (por cada 1.000 p...</td>\n",
       "      <td>SP.DYN.CDRT.IN</td>\n",
       "      <td>2013</td>\n",
       "      <td>9.607</td>\n",
       "    </tr>\n",
       "  </tbody>\n",
       "</table>\n",
       "</div>"
      ],
      "text/plain": [
       "  Country Name Country Code                                          Indicator Name  Indicator Code  Year ratio_mort_in_year\n",
       "0         None          AFE  Tasa de mortalidad en un año (por cada 1.000 personas)  SP.DYN.CDRT.IN  1993   15.6194055296085\n",
       "1   Afganistán          AFG  Tasa de mortalidad en un año (por cada 1.000 personas)  SP.DYN.CDRT.IN  1998             13.565\n",
       "2       Angola          AGO  Tasa de mortalidad en un año (por cada 1.000 personas)  SP.DYN.CDRT.IN  2013              9.607"
      ]
     },
     "execution_count": 101,
     "metadata": {},
     "output_type": "execute_result"
    }
   ],
   "source": [
    "data_07.sample(False, 100/data_07.count(), seed=150).limit(3).pandas_api()\n"
   ]
  },
  {
   "cell_type": "code",
   "execution_count": 102,
   "id": "0e1aa5df-a9f2-4d99-8cd5-11a368a1204b",
   "metadata": {
    "execution": {
     "iopub.execute_input": "2023-06-06T05:58:54.556368Z",
     "iopub.status.busy": "2023-06-06T05:58:54.556139Z",
     "iopub.status.idle": "2023-06-06T05:58:54.562537Z",
     "shell.execute_reply": "2023-06-06T05:58:54.561954Z",
     "shell.execute_reply.started": "2023-06-06T05:58:54.556346Z"
    },
    "tags": []
   },
   "outputs": [],
   "source": [
    "data_07 = data_07.drop(\"Country Name\",\"Indicator Name\",\"Indicator Code\")"
   ]
  },
  {
   "cell_type": "markdown",
   "id": "9c1ae130-d971-431e-a390-cc719babcd72",
   "metadata": {},
   "source": [
    "# Población entre 0 y 14 años de edad (% del total)\n",
    "Algunos metadatos están solo en inglés\n",
    "\n",
    "Población entre 0 y 14 años como porcentaje de la población total. La población se basa en la definición de facto de población.\n",
    "\n",
    "https://datos.bancomundial.org/indicador/SP.POP.0014.TO.ZS?view=chart"
   ]
  },
  {
   "cell_type": "code",
   "execution_count": 103,
   "id": "58e79b69-1653-40b0-b243-4f7f1facaf65",
   "metadata": {
    "execution": {
     "iopub.execute_input": "2023-06-06T05:58:54.563634Z",
     "iopub.status.busy": "2023-06-06T05:58:54.563400Z",
     "iopub.status.idle": "2023-06-06T05:58:54.587631Z",
     "shell.execute_reply": "2023-06-06T05:58:54.587028Z",
     "shell.execute_reply.started": "2023-06-06T05:58:54.563612Z"
    },
    "tags": []
   },
   "outputs": [],
   "source": [
    "url_08 = \"https://api.worldbank.org/v2/es/indicator/SP.POP.0014.TO.ZS?downloadformat=csv\"\n"
   ]
  },
  {
   "cell_type": "code",
   "execution_count": 104,
   "id": "3d364320-b6c9-409e-ad23-35f9b68ad92d",
   "metadata": {
    "execution": {
     "iopub.execute_input": "2023-06-06T05:58:54.588712Z",
     "iopub.status.busy": "2023-06-06T05:58:54.588494Z",
     "iopub.status.idle": "2023-06-06T05:58:55.944824Z",
     "shell.execute_reply": "2023-06-06T05:58:55.943799Z",
     "shell.execute_reply.started": "2023-06-06T05:58:54.588691Z"
    },
    "tags": []
   },
   "outputs": [],
   "source": [
    "response_url_08 = requests.get(url_08)"
   ]
  },
  {
   "cell_type": "code",
   "execution_count": 105,
   "id": "494a6297-840a-4b3d-82ca-53f02e843b3e",
   "metadata": {
    "execution": {
     "iopub.execute_input": "2023-06-06T05:58:55.947087Z",
     "iopub.status.busy": "2023-06-06T05:58:55.946207Z",
     "iopub.status.idle": "2023-06-06T05:58:55.956574Z",
     "shell.execute_reply": "2023-06-06T05:58:55.955935Z",
     "shell.execute_reply.started": "2023-06-06T05:58:55.947050Z"
    },
    "tags": []
   },
   "outputs": [
    {
     "name": "stdout",
     "output_type": "stream",
     "text": [
      "El archivo ZIP se ha descargado y descomprimido correctamente.\n"
     ]
    }
   ],
   "source": [
    "if response_url_08.status_code == 200:\n",
    "    # Crear un objeto ZipFile a partir de los datos de la respuesta\n",
    "    with zipfile.ZipFile(io.BytesIO(response_url_08.content), \"r\") as zip_url_08:\n",
    "        # Extraer todos los archivos del archivo ZIP en el directorio actual\n",
    "        zip_url_08.extractall(\"dataset\")\n",
    "\n",
    "    print(\"El archivo ZIP se ha descargado y descomprimido correctamente.\")\n",
    "else:\n",
    "    print(\"Error al descargar el archivo ZIP:\", response_url_08.status_code)"
   ]
  },
  {
   "cell_type": "code",
   "execution_count": 106,
   "id": "0016b621-2f28-47e5-b801-37baf7c403c6",
   "metadata": {
    "execution": {
     "iopub.execute_input": "2023-06-06T05:58:55.957664Z",
     "iopub.status.busy": "2023-06-06T05:58:55.957399Z",
     "iopub.status.idle": "2023-06-06T05:58:55.961234Z",
     "shell.execute_reply": "2023-06-06T05:58:55.960616Z",
     "shell.execute_reply.started": "2023-06-06T05:58:55.957643Z"
    },
    "tags": []
   },
   "outputs": [],
   "source": [
    "# Ruta del archivo CSV\n",
    "\n",
    "csv_url_08 = \"dataset/API_SP.POP.0014.TO.ZS_DS2_es_csv_v2_5521643.csv\"\n",
    "\n",
    "# Crear una lista para almacenar las filas del archivo CSV\n",
    "rows_url_08 = []\n",
    "\n",
    "\n",
    "#API_SE.PRM.CMPT.ZS_DS2_es_csv_v2_5478942"
   ]
  },
  {
   "cell_type": "code",
   "execution_count": 107,
   "id": "95919304-d7ac-4a4a-b4e1-d743b5f5b8d7",
   "metadata": {
    "execution": {
     "iopub.execute_input": "2023-06-06T05:58:55.962188Z",
     "iopub.status.busy": "2023-06-06T05:58:55.961960Z",
     "iopub.status.idle": "2023-06-06T05:58:55.974780Z",
     "shell.execute_reply": "2023-06-06T05:58:55.974241Z",
     "shell.execute_reply.started": "2023-06-06T05:58:55.962169Z"
    },
    "tags": []
   },
   "outputs": [],
   "source": [
    "# Leer el archivo CSV y almacenar las filas en la lista\n",
    "with open(csv_url_08, \"r\") as file_csv_url_08:\n",
    "    csv_reader_url_08 = csv.reader(file_csv_url_08)\n",
    "    rows_url_08 = list(csv_reader_url_08)\n"
   ]
  },
  {
   "cell_type": "code",
   "execution_count": 108,
   "id": "46af6391-0800-46ef-a0b5-570bc4d9f407",
   "metadata": {
    "execution": {
     "iopub.execute_input": "2023-06-06T05:58:55.975619Z",
     "iopub.status.busy": "2023-06-06T05:58:55.975454Z",
     "iopub.status.idle": "2023-06-06T05:58:55.988264Z",
     "shell.execute_reply": "2023-06-06T05:58:55.987630Z",
     "shell.execute_reply.started": "2023-06-06T05:58:55.975604Z"
    },
    "tags": []
   },
   "outputs": [],
   "source": [
    "# Eliminar las primeras 4 filas\n",
    "\n",
    "rows_url_08 = rows_url_08[3:]\n",
    "\n",
    "# Escribir las filas modificadas en un nuevo archivo CSV\n",
    "with open(\"dataset/data/data_08.csv\", \"w\", newline=\"\") as file_csv_url_08:\n",
    "    csv_writer_url_08 = csv.writer(file_csv_url_08)\n",
    "    csv_writer_url_08.writerows(rows_url_08)"
   ]
  },
  {
   "cell_type": "code",
   "execution_count": 109,
   "id": "f5594147-0135-42f6-943c-323308f40324",
   "metadata": {
    "execution": {
     "iopub.execute_input": "2023-06-06T05:58:55.989401Z",
     "iopub.status.busy": "2023-06-06T05:58:55.989056Z",
     "iopub.status.idle": "2023-06-06T05:58:56.073064Z",
     "shell.execute_reply": "2023-06-06T05:58:56.072460Z",
     "shell.execute_reply.started": "2023-06-06T05:58:55.989386Z"
    },
    "tags": []
   },
   "outputs": [],
   "source": [
    "data_08 = spark.read.csv(\"dataset/data/data_08.csv\", header=True)"
   ]
  },
  {
   "cell_type": "code",
   "execution_count": 110,
   "id": "d3bc1e3c-732f-45b1-aa1f-25ffa1a4904c",
   "metadata": {
    "execution": {
     "iopub.execute_input": "2023-06-06T05:58:56.073822Z",
     "iopub.status.busy": "2023-06-06T05:58:56.073620Z",
     "iopub.status.idle": "2023-06-06T05:58:56.081127Z",
     "shell.execute_reply": "2023-06-06T05:58:56.080556Z",
     "shell.execute_reply.started": "2023-06-06T05:58:56.073797Z"
    },
    "tags": []
   },
   "outputs": [],
   "source": [
    "data_08 = data_08.drop(\"_c66\",\"_c67\")"
   ]
  },
  {
   "cell_type": "code",
   "execution_count": 111,
   "id": "32eeecdc-f61a-433d-8a37-c76a37e8b7ee",
   "metadata": {
    "execution": {
     "iopub.execute_input": "2023-06-06T05:58:56.082093Z",
     "iopub.status.busy": "2023-06-06T05:58:56.081930Z",
     "iopub.status.idle": "2023-06-06T05:58:56.390272Z",
     "shell.execute_reply": "2023-06-06T05:58:56.389740Z",
     "shell.execute_reply.started": "2023-06-06T05:58:56.082078Z"
    },
    "tags": []
   },
   "outputs": [
    {
     "data": {
      "text/html": [
       "<div>\n",
       "<style scoped>\n",
       "    .dataframe tbody tr th:only-of-type {\n",
       "        vertical-align: middle;\n",
       "    }\n",
       "\n",
       "    .dataframe tbody tr th {\n",
       "        vertical-align: top;\n",
       "    }\n",
       "\n",
       "    .dataframe thead th {\n",
       "        text-align: right;\n",
       "    }\n",
       "</style>\n",
       "<table border=\"1\" class=\"dataframe\">\n",
       "  <thead>\n",
       "    <tr style=\"text-align: right;\">\n",
       "      <th></th>\n",
       "      <th>Country Name</th>\n",
       "      <th>Country Code</th>\n",
       "      <th>Indicator Name</th>\n",
       "      <th>Indicator Code</th>\n",
       "      <th>1960</th>\n",
       "      <th>1961</th>\n",
       "      <th>1962</th>\n",
       "      <th>1963</th>\n",
       "      <th>1964</th>\n",
       "      <th>1965</th>\n",
       "      <th>1966</th>\n",
       "      <th>1967</th>\n",
       "      <th>1968</th>\n",
       "      <th>1969</th>\n",
       "      <th>1970</th>\n",
       "      <th>1971</th>\n",
       "      <th>1972</th>\n",
       "      <th>1973</th>\n",
       "      <th>1974</th>\n",
       "      <th>1975</th>\n",
       "      <th>1976</th>\n",
       "      <th>1977</th>\n",
       "      <th>1978</th>\n",
       "      <th>1979</th>\n",
       "      <th>1980</th>\n",
       "      <th>1981</th>\n",
       "      <th>1982</th>\n",
       "      <th>1983</th>\n",
       "      <th>1984</th>\n",
       "      <th>1985</th>\n",
       "      <th>1986</th>\n",
       "      <th>1987</th>\n",
       "      <th>1988</th>\n",
       "      <th>1989</th>\n",
       "      <th>1990</th>\n",
       "      <th>1991</th>\n",
       "      <th>1992</th>\n",
       "      <th>1993</th>\n",
       "      <th>1994</th>\n",
       "      <th>1995</th>\n",
       "      <th>1996</th>\n",
       "      <th>1997</th>\n",
       "      <th>1998</th>\n",
       "      <th>1999</th>\n",
       "      <th>2000</th>\n",
       "      <th>2001</th>\n",
       "      <th>2002</th>\n",
       "      <th>2003</th>\n",
       "      <th>2004</th>\n",
       "      <th>2005</th>\n",
       "      <th>2006</th>\n",
       "      <th>2007</th>\n",
       "      <th>2008</th>\n",
       "      <th>2009</th>\n",
       "      <th>2010</th>\n",
       "      <th>2011</th>\n",
       "      <th>2012</th>\n",
       "      <th>2013</th>\n",
       "      <th>2014</th>\n",
       "      <th>2015</th>\n",
       "      <th>2016</th>\n",
       "      <th>2017</th>\n",
       "      <th>2018</th>\n",
       "      <th>2019</th>\n",
       "      <th>2020</th>\n",
       "      <th>2021</th>\n",
       "      <th>2022</th>\n",
       "    </tr>\n",
       "  </thead>\n",
       "  <tbody>\n",
       "    <tr>\n",
       "      <th>0</th>\n",
       "      <td>Aruba</td>\n",
       "      <td>ABW</td>\n",
       "      <td>Población entre 0 y 14 años de edad (% del total)</td>\n",
       "      <td>SP.POP.0014.TO.ZS</td>\n",
       "      <td>43.1310430706124</td>\n",
       "      <td>42.9494185733995</td>\n",
       "      <td>42.8527323247916</td>\n",
       "      <td>42.6611570247934</td>\n",
       "      <td>42.3591594688668</td>\n",
       "      <td>41.9366637462467</td>\n",
       "      <td>41.4062961182652</td>\n",
       "      <td>40.725620154062</td>\n",
       "      <td>39.9492185201066</td>\n",
       "      <td>39.1934940165178</td>\n",
       "      <td>38.4280916650453</td>\n",
       "      <td>37.6186954341044</td>\n",
       "      <td>36.690708599876</td>\n",
       "      <td>35.6158037917646</td>\n",
       "      <td>34.4725334221815</td>\n",
       "      <td>33.3498035921634</td>\n",
       "      <td>32.1853168280427</td>\n",
       "      <td>31.0564462991434</td>\n",
       "      <td>30.1394602999773</td>\n",
       "      <td>29.423765442054</td>\n",
       "      <td>28.9240602892406</td>\n",
       "      <td>28.6966868167408</td>\n",
       "      <td>28.4832689017048</td>\n",
       "      <td>28.1802050782783</td>\n",
       "      <td>27.9012691957086</td>\n",
       "      <td>27.534973169143</td>\n",
       "      <td>27.0591606896659</td>\n",
       "      <td>26.5275407292475</td>\n",
       "      <td>26.0813131980445</td>\n",
       "      <td>26.0056815103219</td>\n",
       "      <td>26.5592780563524</td>\n",
       "      <td>27.6965696098078</td>\n",
       "      <td>28.102405561927</td>\n",
       "      <td>27.5241846323936</td>\n",
       "      <td>26.8469626090041</td>\n",
       "      <td>26.0090850097339</td>\n",
       "      <td>25.1488975911958</td>\n",
       "      <td>24.4795866011874</td>\n",
       "      <td>23.9784245154407</td>\n",
       "      <td>23.608504955852</td>\n",
       "      <td>23.2556312499299</td>\n",
       "      <td>22.8794636703955</td>\n",
       "      <td>22.5041130517209</td>\n",
       "      <td>22.1027820627609</td>\n",
       "      <td>21.6689206164241</td>\n",
       "      <td>21.3578103997545</td>\n",
       "      <td>21.2401876441455</td>\n",
       "      <td>21.1831134346555</td>\n",
       "      <td>21.1304543042573</td>\n",
       "      <td>21.0513849131153</td>\n",
       "      <td>20.7486433828476</td>\n",
       "      <td>20.2250019745676</td>\n",
       "      <td>19.7372480083046</td>\n",
       "      <td>19.3487558320373</td>\n",
       "      <td>19.0455045659015</td>\n",
       "      <td>18.7996067429202</td>\n",
       "      <td>18.5717214384812</td>\n",
       "      <td>18.3348587091053</td>\n",
       "      <td>18.0697706242362</td>\n",
       "      <td>17.7673391737323</td>\n",
       "      <td>17.3510219591029</td>\n",
       "      <td>16.7994067760814</td>\n",
       "      <td>None</td>\n",
       "    </tr>\n",
       "    <tr>\n",
       "      <th>1</th>\n",
       "      <td>None</td>\n",
       "      <td>AFE</td>\n",
       "      <td>Población entre 0 y 14 años de edad (% del total)</td>\n",
       "      <td>SP.POP.0014.TO.ZS</td>\n",
       "      <td>44.2000161820481</td>\n",
       "      <td>44.285568588289</td>\n",
       "      <td>44.3819921563279</td>\n",
       "      <td>44.4950978851111</td>\n",
       "      <td>44.6098096523218</td>\n",
       "      <td>44.7288589221977</td>\n",
       "      <td>44.8547629154212</td>\n",
       "      <td>44.9735331734901</td>\n",
       "      <td>45.0839111744781</td>\n",
       "      <td>45.1920354584117</td>\n",
       "      <td>45.3102679138395</td>\n",
       "      <td>45.4285747989249</td>\n",
       "      <td>45.5395933572709</td>\n",
       "      <td>45.6181880061979</td>\n",
       "      <td>45.6522277977864</td>\n",
       "      <td>45.6767443704248</td>\n",
       "      <td>45.7160922613424</td>\n",
       "      <td>45.739127929765</td>\n",
       "      <td>45.7206612590142</td>\n",
       "      <td>45.7020960422987</td>\n",
       "      <td>45.6741830578868</td>\n",
       "      <td>45.6605096568793</td>\n",
       "      <td>45.6649575169904</td>\n",
       "      <td>45.6365197830601</td>\n",
       "      <td>45.5786886264196</td>\n",
       "      <td>45.5197481444781</td>\n",
       "      <td>45.4788747945669</td>\n",
       "      <td>45.4754018375813</td>\n",
       "      <td>45.5069949121705</td>\n",
       "      <td>45.5386650874645</td>\n",
       "      <td>45.5602375679936</td>\n",
       "      <td>45.5808496987614</td>\n",
       "      <td>45.6075275574049</td>\n",
       "      <td>45.6435242910124</td>\n",
       "      <td>45.5685297989557</td>\n",
       "      <td>45.4488521680713</td>\n",
       "      <td>45.4166582225268</td>\n",
       "      <td>45.3629893920904</td>\n",
       "      <td>45.2259728997999</td>\n",
       "      <td>45.042418977025</td>\n",
       "      <td>44.8507743046745</td>\n",
       "      <td>44.6461589317462</td>\n",
       "      <td>44.4445584713958</td>\n",
       "      <td>44.2581117437644</td>\n",
       "      <td>44.0855575941329</td>\n",
       "      <td>43.9346272237786</td>\n",
       "      <td>43.7995792106487</td>\n",
       "      <td>43.6755418260986</td>\n",
       "      <td>43.5661319791078</td>\n",
       "      <td>43.4605719989725</td>\n",
       "      <td>43.3412574781264</td>\n",
       "      <td>43.2077638965504</td>\n",
       "      <td>43.0727197145178</td>\n",
       "      <td>42.9336951964389</td>\n",
       "      <td>42.7773435923648</td>\n",
       "      <td>42.5941707727048</td>\n",
       "      <td>42.4240042900302</td>\n",
       "      <td>42.2552613358142</td>\n",
       "      <td>42.0527862927101</td>\n",
       "      <td>41.8320998283195</td>\n",
       "      <td>41.5981147490549</td>\n",
       "      <td>41.3627387766738</td>\n",
       "      <td>None</td>\n",
       "    </tr>\n",
       "    <tr>\n",
       "      <th>2</th>\n",
       "      <td>Afganistán</td>\n",
       "      <td>AFG</td>\n",
       "      <td>Población entre 0 y 14 años de edad (% del total)</td>\n",
       "      <td>SP.POP.0014.TO.ZS</td>\n",
       "      <td>41.6271864684651</td>\n",
       "      <td>41.6953029189524</td>\n",
       "      <td>41.7691668785528</td>\n",
       "      <td>41.8853766782279</td>\n",
       "      <td>42.0593887198501</td>\n",
       "      <td>42.3141327571861</td>\n",
       "      <td>42.6201405335114</td>\n",
       "      <td>42.9187974461615</td>\n",
       "      <td>43.2083750435887</td>\n",
       "      <td>43.4894284281289</td>\n",
       "      <td>43.7592715650739</td>\n",
       "      <td>44.0151410825322</td>\n",
       "      <td>44.2605080602237</td>\n",
       "      <td>44.4977192608626</td>\n",
       "      <td>44.7285117535112</td>\n",
       "      <td>44.9499012369929</td>\n",
       "      <td>45.1597601419849</td>\n",
       "      <td>45.3646939816162</td>\n",
       "      <td>45.5686425294341</td>\n",
       "      <td>45.7722670594067</td>\n",
       "      <td>45.9728550490178</td>\n",
       "      <td>46.1650423860811</td>\n",
       "      <td>46.3499581717949</td>\n",
       "      <td>46.507146848665</td>\n",
       "      <td>46.6609847929259</td>\n",
       "      <td>46.8224818131924</td>\n",
       "      <td>46.970919060034</td>\n",
       "      <td>47.0996849872873</td>\n",
       "      <td>47.2213523826043</td>\n",
       "      <td>47.3372457297943</td>\n",
       "      <td>47.474496007217</td>\n",
       "      <td>47.6428472447194</td>\n",
       "      <td>47.8215139159388</td>\n",
       "      <td>48.001529589196</td>\n",
       "      <td>48.2181114886561</td>\n",
       "      <td>48.466018942059</td>\n",
       "      <td>48.7306518705022</td>\n",
       "      <td>49.0016341163514</td>\n",
       "      <td>49.2689718539834</td>\n",
       "      <td>49.5154857037621</td>\n",
       "      <td>49.7182582034242</td>\n",
       "      <td>49.8659492984086</td>\n",
       "      <td>49.9436209267254</td>\n",
       "      <td>49.9614310008377</td>\n",
       "      <td>49.9220361703005</td>\n",
       "      <td>49.6154806542516</td>\n",
       "      <td>49.2306747206613</td>\n",
       "      <td>49.6953911336511</td>\n",
       "      <td>49.8904632307041</td>\n",
       "      <td>49.3195082801243</td>\n",
       "      <td>48.9689982912891</td>\n",
       "      <td>48.2643602343821</td>\n",
       "      <td>47.4324904337073</td>\n",
       "      <td>46.867620814212</td>\n",
       "      <td>46.2315378217709</td>\n",
       "      <td>45.7921058791564</td>\n",
       "      <td>45.5209667513396</td>\n",
       "      <td>45.1186155199624</td>\n",
       "      <td>44.7084445995593</td>\n",
       "      <td>44.2913519225043</td>\n",
       "      <td>43.8079121491391</td>\n",
       "      <td>43.424542703341</td>\n",
       "      <td>None</td>\n",
       "    </tr>\n",
       "  </tbody>\n",
       "</table>\n",
       "</div>"
      ],
      "text/plain": [
       "  Country Name Country Code                                     Indicator Name     Indicator Code              1960              1961              1962              1963              1964              1965              1966              1967              1968              1969              1970              1971              1972              1973              1974              1975              1976              1977              1978              1979              1980              1981              1982              1983              1984              1985              1986              1987              1988              1989              1990              1991              1992              1993              1994              1995              1996              1997              1998              1999              2000              2001              2002              2003              2004              2005              2006              2007              2008              2009              2010              2011              2012              2013              2014              2015              2016              2017              2018              2019              2020              2021  2022\n",
       "0        Aruba          ABW  Población entre 0 y 14 años de edad (% del total)  SP.POP.0014.TO.ZS  43.1310430706124  42.9494185733995  42.8527323247916  42.6611570247934  42.3591594688668  41.9366637462467  41.4062961182652   40.725620154062  39.9492185201066  39.1934940165178  38.4280916650453  37.6186954341044   36.690708599876  35.6158037917646  34.4725334221815  33.3498035921634  32.1853168280427  31.0564462991434  30.1394602999773   29.423765442054  28.9240602892406  28.6966868167408  28.4832689017048  28.1802050782783  27.9012691957086   27.534973169143  27.0591606896659  26.5275407292475  26.0813131980445  26.0056815103219  26.5592780563524  27.6965696098078   28.102405561927  27.5241846323936  26.8469626090041  26.0090850097339  25.1488975911958  24.4795866011874  23.9784245154407   23.608504955852  23.2556312499299  22.8794636703955  22.5041130517209  22.1027820627609  21.6689206164241  21.3578103997545  21.2401876441455  21.1831134346555  21.1304543042573  21.0513849131153  20.7486433828476  20.2250019745676  19.7372480083046  19.3487558320373  19.0455045659015  18.7996067429202  18.5717214384812  18.3348587091053  18.0697706242362  17.7673391737323  17.3510219591029  16.7994067760814  None\n",
       "1         None          AFE  Población entre 0 y 14 años de edad (% del total)  SP.POP.0014.TO.ZS  44.2000161820481   44.285568588289  44.3819921563279  44.4950978851111  44.6098096523218  44.7288589221977  44.8547629154212  44.9735331734901  45.0839111744781  45.1920354584117  45.3102679138395  45.4285747989249  45.5395933572709  45.6181880061979  45.6522277977864  45.6767443704248  45.7160922613424   45.739127929765  45.7206612590142  45.7020960422987  45.6741830578868  45.6605096568793  45.6649575169904  45.6365197830601  45.5786886264196  45.5197481444781  45.4788747945669  45.4754018375813  45.5069949121705  45.5386650874645  45.5602375679936  45.5808496987614  45.6075275574049  45.6435242910124  45.5685297989557  45.4488521680713  45.4166582225268  45.3629893920904  45.2259728997999   45.042418977025  44.8507743046745  44.6461589317462  44.4445584713958  44.2581117437644  44.0855575941329  43.9346272237786  43.7995792106487  43.6755418260986  43.5661319791078  43.4605719989725  43.3412574781264  43.2077638965504  43.0727197145178  42.9336951964389  42.7773435923648  42.5941707727048  42.4240042900302  42.2552613358142  42.0527862927101  41.8320998283195  41.5981147490549  41.3627387766738  None\n",
       "2   Afganistán          AFG  Población entre 0 y 14 años de edad (% del total)  SP.POP.0014.TO.ZS  41.6271864684651  41.6953029189524  41.7691668785528  41.8853766782279  42.0593887198501  42.3141327571861  42.6201405335114  42.9187974461615  43.2083750435887  43.4894284281289  43.7592715650739  44.0151410825322  44.2605080602237  44.4977192608626  44.7285117535112  44.9499012369929  45.1597601419849  45.3646939816162  45.5686425294341  45.7722670594067  45.9728550490178  46.1650423860811  46.3499581717949   46.507146848665  46.6609847929259  46.8224818131924   46.970919060034  47.0996849872873  47.2213523826043  47.3372457297943   47.474496007217  47.6428472447194  47.8215139159388   48.001529589196  48.2181114886561   48.466018942059  48.7306518705022  49.0016341163514  49.2689718539834  49.5154857037621  49.7182582034242  49.8659492984086  49.9436209267254  49.9614310008377  49.9220361703005  49.6154806542516  49.2306747206613  49.6953911336511  49.8904632307041  49.3195082801243  48.9689982912891  48.2643602343821  47.4324904337073   46.867620814212  46.2315378217709  45.7921058791564  45.5209667513396  45.1186155199624  44.7084445995593  44.2913519225043  43.8079121491391   43.424542703341  None"
      ]
     },
     "execution_count": 111,
     "metadata": {},
     "output_type": "execute_result"
    }
   ],
   "source": [
    "data_08.limit(3).pandas_api()\n"
   ]
  },
  {
   "cell_type": "code",
   "execution_count": null,
   "id": "bf81e488-43f3-4183-b609-7c2b7508fa9d",
   "metadata": {},
   "outputs": [],
   "source": []
  },
  {
   "cell_type": "code",
   "execution_count": 112,
   "id": "6389760f-88c7-480c-97d5-cadefaf0c9ee",
   "metadata": {
    "execution": {
     "iopub.execute_input": "2023-06-06T05:58:56.391075Z",
     "iopub.status.busy": "2023-06-06T05:58:56.390911Z",
     "iopub.status.idle": "2023-06-06T05:58:56.406373Z",
     "shell.execute_reply": "2023-06-06T05:58:56.405868Z",
     "shell.execute_reply.started": "2023-06-06T05:58:56.391059Z"
    },
    "tags": []
   },
   "outputs": [],
   "source": [
    "data_08 = data_08.selectExpr('`Country Name`', '`Country Code`', \"`Indicator Name`\", \"`Indicator Code`\", \"stack(63, \\\n",
    "'1960', `1960`, '1961', `1961`, '1962', `1962`, '1963', `1963`, '1964', `1964`, \\\n",
    "'1965', `1965`, '1966', `1966`, '1967', `1967`, '1968', `1968`, '1969', `1969`, \\\n",
    "'1970', `1970`, '1971', `1971`, '1972', `1972`, '1973', `1973`, '1974', `1974`, \\\n",
    "'1975', `1975`, '1976', `1976`, '1977', `1977`, '1978', `1978`, '1979', `1979`, \\\n",
    "'1980', `1980`, '1981', `1981`, '1982', `1982`, '1983', `1983`, '1984', `1984`, \\\n",
    "'1985', `1985`, '1986', `1986`, '1987', `1987`, '1988', `1988`, '1989', `1989`, \\\n",
    "'1990', `1990`, '1991', `1991`, '1992', `1992`, '1993', `1993`, '1994', `1994`, \\\n",
    "'1995', `1995`, '1996', `1996`, '1997', `1997`, '1998', `1998`, '1999', `1999`, \\\n",
    "'2010', `2010`, '2011', `2011`, '2012', `2012`, '2013', `2013`, '2014', `2014`, \\\n",
    "'2015', `2015`, '2016', `2016`, '2017', `2017`, '2018', `2018`, '2019', `2019`, \\\n",
    "'2010', `2010`, '2011', `2011`, '2012', `2012`, '2013', `2013`, '2014', `2014`, \\\n",
    "'2015', `2015`, '2016', `2016`, '2017', `2017`, '2018', `2018`, '2019', `2019`, \\\n",
    "'2020', `2020`, '2021', `2021`, '2022', `2022`) as (Year, ratio_poblation_0_14_year)\")"
   ]
  },
  {
   "cell_type": "code",
   "execution_count": 113,
   "id": "dfe78577-2576-4ca2-a36d-35fe24ff0da3",
   "metadata": {
    "execution": {
     "iopub.execute_input": "2023-06-06T05:58:56.407203Z",
     "iopub.status.busy": "2023-06-06T05:58:56.407038Z",
     "iopub.status.idle": "2023-06-06T05:58:56.644721Z",
     "shell.execute_reply": "2023-06-06T05:58:56.644001Z",
     "shell.execute_reply.started": "2023-06-06T05:58:56.407187Z"
    },
    "tags": []
   },
   "outputs": [
    {
     "data": {
      "text/html": [
       "<div>\n",
       "<style scoped>\n",
       "    .dataframe tbody tr th:only-of-type {\n",
       "        vertical-align: middle;\n",
       "    }\n",
       "\n",
       "    .dataframe tbody tr th {\n",
       "        vertical-align: top;\n",
       "    }\n",
       "\n",
       "    .dataframe thead th {\n",
       "        text-align: right;\n",
       "    }\n",
       "</style>\n",
       "<table border=\"1\" class=\"dataframe\">\n",
       "  <thead>\n",
       "    <tr style=\"text-align: right;\">\n",
       "      <th></th>\n",
       "      <th>Country Name</th>\n",
       "      <th>Country Code</th>\n",
       "      <th>Indicator Name</th>\n",
       "      <th>Indicator Code</th>\n",
       "      <th>Year</th>\n",
       "      <th>ratio_poblation_0_14_year</th>\n",
       "    </tr>\n",
       "  </thead>\n",
       "  <tbody>\n",
       "    <tr>\n",
       "      <th>0</th>\n",
       "      <td>None</td>\n",
       "      <td>AFE</td>\n",
       "      <td>Población entre 0 y 14 años de edad (% del total)</td>\n",
       "      <td>SP.POP.0014.TO.ZS</td>\n",
       "      <td>1993</td>\n",
       "      <td>45.6435242910124</td>\n",
       "    </tr>\n",
       "    <tr>\n",
       "      <th>1</th>\n",
       "      <td>Cabo Verde</td>\n",
       "      <td>CPV</td>\n",
       "      <td>Población entre 0 y 14 años de edad (% del total)</td>\n",
       "      <td>SP.POP.0014.TO.ZS</td>\n",
       "      <td>2016</td>\n",
       "      <td>28.6145368552162</td>\n",
       "    </tr>\n",
       "    <tr>\n",
       "      <th>2</th>\n",
       "      <td>Israel</td>\n",
       "      <td>ISR</td>\n",
       "      <td>Población entre 0 y 14 años de edad (% del total)</td>\n",
       "      <td>SP.POP.0014.TO.ZS</td>\n",
       "      <td>1988</td>\n",
       "      <td>31.3151266173891</td>\n",
       "    </tr>\n",
       "  </tbody>\n",
       "</table>\n",
       "</div>"
      ],
      "text/plain": [
       "  Country Name Country Code                                     Indicator Name     Indicator Code  Year ratio_poblation_0_14_year\n",
       "0         None          AFE  Población entre 0 y 14 años de edad (% del total)  SP.POP.0014.TO.ZS  1993          45.6435242910124\n",
       "1   Cabo Verde          CPV  Población entre 0 y 14 años de edad (% del total)  SP.POP.0014.TO.ZS  2016          28.6145368552162\n",
       "2       Israel          ISR  Población entre 0 y 14 años de edad (% del total)  SP.POP.0014.TO.ZS  1988          31.3151266173891"
      ]
     },
     "execution_count": 113,
     "metadata": {},
     "output_type": "execute_result"
    }
   ],
   "source": [
    "data_08.sample(False, 3/data_08.count(), seed=150).limit(3).pandas_api()\n"
   ]
  },
  {
   "cell_type": "code",
   "execution_count": 114,
   "id": "54c62b15-2dc3-4a79-a5be-3efc7bc8141c",
   "metadata": {
    "execution": {
     "iopub.execute_input": "2023-06-06T05:58:56.645850Z",
     "iopub.status.busy": "2023-06-06T05:58:56.645482Z",
     "iopub.status.idle": "2023-06-06T05:58:56.652048Z",
     "shell.execute_reply": "2023-06-06T05:58:56.651159Z",
     "shell.execute_reply.started": "2023-06-06T05:58:56.645834Z"
    },
    "tags": []
   },
   "outputs": [],
   "source": [
    "data_08 = data_08.drop(\"Country Name\",\"Indicator Name\",\"Indicator Code\")"
   ]
  },
  {
   "cell_type": "markdown",
   "id": "62300483-811b-4c8d-bc84-0431e4738656",
   "metadata": {
    "execution": {
     "iopub.execute_input": "2023-06-04T11:46:21.075115Z",
     "iopub.status.busy": "2023-06-04T11:46:21.074856Z",
     "iopub.status.idle": "2023-06-04T11:46:21.089727Z",
     "shell.execute_reply": "2023-06-04T11:46:21.089030Z",
     "shell.execute_reply.started": "2023-06-04T11:46:21.075093Z"
    },
    "tags": []
   },
   "source": [
    "# Población entre 15 y 64 años de edad (% del total)\n",
    "\n",
    "La población entre 15 y 64 años es el porcentaje de la población total en el grupo etario de 15 a 64 años. La población se basa en la definición de facto de población.\n",
    "\n",
    "https://datos.bancomundial.org/indicador/SP.POP.1564.TO.ZS?view=chart\n",
    "\n",
    "\n"
   ]
  },
  {
   "cell_type": "code",
   "execution_count": 115,
   "id": "3727700f-cbf8-451f-a345-1447ad87c7fd",
   "metadata": {
    "execution": {
     "iopub.execute_input": "2023-06-06T05:58:56.653362Z",
     "iopub.status.busy": "2023-06-06T05:58:56.653138Z",
     "iopub.status.idle": "2023-06-06T05:58:56.659892Z",
     "shell.execute_reply": "2023-06-06T05:58:56.659219Z",
     "shell.execute_reply.started": "2023-06-06T05:58:56.653344Z"
    },
    "tags": []
   },
   "outputs": [],
   "source": [
    "url_09 =\"https://api.worldbank.org/v2/es/indicator/SP.POP.1564.TO.ZS?downloadformat=csv\""
   ]
  },
  {
   "cell_type": "code",
   "execution_count": 116,
   "id": "fb907025-f03c-4460-91e9-ab0992c10a63",
   "metadata": {
    "execution": {
     "iopub.execute_input": "2023-06-06T05:58:56.661008Z",
     "iopub.status.busy": "2023-06-06T05:58:56.660815Z",
     "iopub.status.idle": "2023-06-06T05:58:58.027616Z",
     "shell.execute_reply": "2023-06-06T05:58:58.026886Z",
     "shell.execute_reply.started": "2023-06-06T05:58:56.660992Z"
    },
    "tags": []
   },
   "outputs": [],
   "source": [
    "response_url_09 = requests.get(url_09)"
   ]
  },
  {
   "cell_type": "code",
   "execution_count": 117,
   "id": "0b759e85-ada7-4b7f-ab23-4faed054d109",
   "metadata": {
    "execution": {
     "iopub.execute_input": "2023-06-06T05:58:58.029286Z",
     "iopub.status.busy": "2023-06-06T05:58:58.028895Z",
     "iopub.status.idle": "2023-06-06T05:58:58.038973Z",
     "shell.execute_reply": "2023-06-06T05:58:58.038293Z",
     "shell.execute_reply.started": "2023-06-06T05:58:58.029250Z"
    },
    "tags": []
   },
   "outputs": [
    {
     "name": "stdout",
     "output_type": "stream",
     "text": [
      "El archivo ZIP se ha descargado y descomprimido correctamente.\n"
     ]
    }
   ],
   "source": [
    "if response_url_09.status_code == 200:\n",
    "    # Crear un objeto ZipFile a partir de los datos de la respuesta\n",
    "    with zipfile.ZipFile(io.BytesIO(response_url_09.content), \"r\") as zip_url_09:\n",
    "        # Extraer todos los archivos del archivo ZIP en el directorio actual\n",
    "        zip_url_09.extractall(\"dataset\")\n",
    "\n",
    "    print(\"El archivo ZIP se ha descargado y descomprimido correctamente.\")\n",
    "else:\n",
    "    print(\"Error al descargar el archivo ZIP:\", response_url_09.status_code)"
   ]
  },
  {
   "cell_type": "code",
   "execution_count": 118,
   "id": "f6bbd5a3-384d-44bf-a985-65217335a90a",
   "metadata": {
    "execution": {
     "iopub.execute_input": "2023-06-06T05:58:58.039890Z",
     "iopub.status.busy": "2023-06-06T05:58:58.039721Z",
     "iopub.status.idle": "2023-06-06T05:58:58.047478Z",
     "shell.execute_reply": "2023-06-06T05:58:58.046820Z",
     "shell.execute_reply.started": "2023-06-06T05:58:58.039873Z"
    },
    "tags": []
   },
   "outputs": [],
   "source": [
    "# Ruta del archivo CSV\n",
    "\n",
    "csv_url_09 = \"dataset/API_SP.POP.1564.TO.ZS_DS2_es_csv_v2_5489860.csv\"\n",
    "\n",
    "# Crear una lista para almacenar las filas del archivo CSV\n",
    "rows_url_09 = []\n",
    "\n",
    "\n",
    "#API_SE.PRM.CMPT.ZS_DS2_es_csv_v2_5478942"
   ]
  },
  {
   "cell_type": "code",
   "execution_count": 119,
   "id": "b0f06a90-75aa-4a57-98bd-467eb9f87088",
   "metadata": {
    "execution": {
     "iopub.execute_input": "2023-06-06T05:58:58.048310Z",
     "iopub.status.busy": "2023-06-06T05:58:58.048154Z",
     "iopub.status.idle": "2023-06-06T05:58:58.059600Z",
     "shell.execute_reply": "2023-06-06T05:58:58.059023Z",
     "shell.execute_reply.started": "2023-06-06T05:58:58.048295Z"
    },
    "tags": []
   },
   "outputs": [],
   "source": [
    "# Leer el archivo CSV y almacenar las filas en la lista\n",
    "with open(csv_url_09, \"r\") as file_csv_url_09:\n",
    "    csv_reader_url_09 = csv.reader(file_csv_url_09)\n",
    "    rows_url_09 = list(csv_reader_url_09)\n"
   ]
  },
  {
   "cell_type": "code",
   "execution_count": 120,
   "id": "51167b0f-771f-4867-b46a-19cec643640b",
   "metadata": {
    "execution": {
     "iopub.execute_input": "2023-06-06T05:58:58.060556Z",
     "iopub.status.busy": "2023-06-06T05:58:58.060379Z",
     "iopub.status.idle": "2023-06-06T05:58:58.071664Z",
     "shell.execute_reply": "2023-06-06T05:58:58.070764Z",
     "shell.execute_reply.started": "2023-06-06T05:58:58.060540Z"
    },
    "tags": []
   },
   "outputs": [],
   "source": [
    "# Eliminar las primeras 4 filas\n",
    "\n",
    "rows_url_09 = rows_url_09[3:]\n",
    "\n",
    "# Escribir las filas modificadas en un nuevo archivo CSV\n",
    "with open(\"dataset/data/data_09.csv\", \"w\", newline=\"\") as file_csv_url_09:\n",
    "    csv_writer_url_09 = csv.writer(file_csv_url_09)\n",
    "    csv_writer_url_09.writerows(rows_url_09)"
   ]
  },
  {
   "cell_type": "code",
   "execution_count": 121,
   "id": "679adda9-24f9-421c-91b2-768418a4c32f",
   "metadata": {
    "execution": {
     "iopub.execute_input": "2023-06-06T05:58:58.072752Z",
     "iopub.status.busy": "2023-06-06T05:58:58.072565Z",
     "iopub.status.idle": "2023-06-06T05:58:58.155674Z",
     "shell.execute_reply": "2023-06-06T05:58:58.155017Z",
     "shell.execute_reply.started": "2023-06-06T05:58:58.072737Z"
    },
    "tags": []
   },
   "outputs": [],
   "source": [
    "data_09 = spark.read.csv(\"dataset/data/data_09.csv\", header=True)"
   ]
  },
  {
   "cell_type": "code",
   "execution_count": 122,
   "id": "f376e5e7-47b8-42fd-8375-7b8b8fd3ca56",
   "metadata": {
    "execution": {
     "iopub.execute_input": "2023-06-06T05:58:58.156544Z",
     "iopub.status.busy": "2023-06-06T05:58:58.156372Z",
     "iopub.status.idle": "2023-06-06T05:58:58.163965Z",
     "shell.execute_reply": "2023-06-06T05:58:58.163330Z",
     "shell.execute_reply.started": "2023-06-06T05:58:58.156528Z"
    },
    "tags": []
   },
   "outputs": [],
   "source": [
    "data_09 = data_09.drop(\"_c66\",\"_c67\")"
   ]
  },
  {
   "cell_type": "code",
   "execution_count": 123,
   "id": "00b83d07-3063-47e0-a8ed-9bc739fa3e6e",
   "metadata": {
    "execution": {
     "iopub.execute_input": "2023-06-06T05:58:58.164932Z",
     "iopub.status.busy": "2023-06-06T05:58:58.164768Z",
     "iopub.status.idle": "2023-06-06T05:58:58.393703Z",
     "shell.execute_reply": "2023-06-06T05:58:58.393133Z",
     "shell.execute_reply.started": "2023-06-06T05:58:58.164916Z"
    },
    "tags": []
   },
   "outputs": [
    {
     "data": {
      "text/html": [
       "<div>\n",
       "<style scoped>\n",
       "    .dataframe tbody tr th:only-of-type {\n",
       "        vertical-align: middle;\n",
       "    }\n",
       "\n",
       "    .dataframe tbody tr th {\n",
       "        vertical-align: top;\n",
       "    }\n",
       "\n",
       "    .dataframe thead th {\n",
       "        text-align: right;\n",
       "    }\n",
       "</style>\n",
       "<table border=\"1\" class=\"dataframe\">\n",
       "  <thead>\n",
       "    <tr style=\"text-align: right;\">\n",
       "      <th></th>\n",
       "      <th>Country Name</th>\n",
       "      <th>Country Code</th>\n",
       "      <th>Indicator Name</th>\n",
       "      <th>Indicator Code</th>\n",
       "      <th>1960</th>\n",
       "      <th>1961</th>\n",
       "      <th>1962</th>\n",
       "      <th>1963</th>\n",
       "      <th>1964</th>\n",
       "      <th>1965</th>\n",
       "      <th>1966</th>\n",
       "      <th>1967</th>\n",
       "      <th>1968</th>\n",
       "      <th>1969</th>\n",
       "      <th>1970</th>\n",
       "      <th>1971</th>\n",
       "      <th>1972</th>\n",
       "      <th>1973</th>\n",
       "      <th>1974</th>\n",
       "      <th>1975</th>\n",
       "      <th>1976</th>\n",
       "      <th>1977</th>\n",
       "      <th>1978</th>\n",
       "      <th>1979</th>\n",
       "      <th>1980</th>\n",
       "      <th>1981</th>\n",
       "      <th>1982</th>\n",
       "      <th>1983</th>\n",
       "      <th>1984</th>\n",
       "      <th>1985</th>\n",
       "      <th>1986</th>\n",
       "      <th>1987</th>\n",
       "      <th>1988</th>\n",
       "      <th>1989</th>\n",
       "      <th>1990</th>\n",
       "      <th>1991</th>\n",
       "      <th>1992</th>\n",
       "      <th>1993</th>\n",
       "      <th>1994</th>\n",
       "      <th>1995</th>\n",
       "      <th>1996</th>\n",
       "      <th>1997</th>\n",
       "      <th>1998</th>\n",
       "      <th>1999</th>\n",
       "      <th>2000</th>\n",
       "      <th>2001</th>\n",
       "      <th>2002</th>\n",
       "      <th>2003</th>\n",
       "      <th>2004</th>\n",
       "      <th>2005</th>\n",
       "      <th>2006</th>\n",
       "      <th>2007</th>\n",
       "      <th>2008</th>\n",
       "      <th>2009</th>\n",
       "      <th>2010</th>\n",
       "      <th>2011</th>\n",
       "      <th>2012</th>\n",
       "      <th>2013</th>\n",
       "      <th>2014</th>\n",
       "      <th>2015</th>\n",
       "      <th>2016</th>\n",
       "      <th>2017</th>\n",
       "      <th>2018</th>\n",
       "      <th>2019</th>\n",
       "      <th>2020</th>\n",
       "      <th>2021</th>\n",
       "      <th>2022</th>\n",
       "    </tr>\n",
       "  </thead>\n",
       "  <tbody>\n",
       "    <tr>\n",
       "      <th>0</th>\n",
       "      <td>Aruba</td>\n",
       "      <td>ABW</td>\n",
       "      <td>Población entre 15 y 64 años de edad (% del to...</td>\n",
       "      <td>SP.POP.1564.TO.ZS</td>\n",
       "      <td>54.4956782888954</td>\n",
       "      <td>54.5887011521026</td>\n",
       "      <td>54.5856304855996</td>\n",
       "      <td>54.6742061765985</td>\n",
       "      <td>54.8734476386919</td>\n",
       "      <td>55.1814771654347</td>\n",
       "      <td>55.5772003946669</td>\n",
       "      <td>56.0864561544988</td>\n",
       "      <td>56.6457319175053</td>\n",
       "      <td>57.1582673183887</td>\n",
       "      <td>57.6637087291584</td>\n",
       "      <td>58.1886035381228</td>\n",
       "      <td>58.8500649896781</td>\n",
       "      <td>59.6853391279447</td>\n",
       "      <td>60.5938944650368</td>\n",
       "      <td>61.4875937775362</td>\n",
       "      <td>62.4038893655268</td>\n",
       "      <td>63.2777737104555</td>\n",
       "      <td>63.9743755871586</td>\n",
       "      <td>64.5187562493952</td>\n",
       "      <td>64.8759766487598</td>\n",
       "      <td>64.8997420684038</td>\n",
       "      <td>64.8947968819317</td>\n",
       "      <td>65.0715261529765</td>\n",
       "      <td>65.2876142393007</td>\n",
       "      <td>65.6332392443935</td>\n",
       "      <td>66.1014979938965</td>\n",
       "      <td>66.5903801396431</td>\n",
       "      <td>66.9842922984852</td>\n",
       "      <td>67.0882646623991</td>\n",
       "      <td>66.6861964800682</td>\n",
       "      <td>65.7845101968643</td>\n",
       "      <td>65.5378500245756</td>\n",
       "      <td>66.147042564953</td>\n",
       "      <td>66.8031936608643</td>\n",
       "      <td>67.5853341985724</td>\n",
       "      <td>68.3789364997419</td>\n",
       "      <td>68.9633267365438</td>\n",
       "      <td>69.3592555272361</td>\n",
       "      <td>69.6196484280567</td>\n",
       "      <td>69.8252544864816</td>\n",
       "      <td>69.9709451375833</td>\n",
       "      <td>70.0700580730217</td>\n",
       "      <td>70.1966537577804</td>\n",
       "      <td>70.3381993703195</td>\n",
       "      <td>70.3571012774785</td>\n",
       "      <td>70.2185520858937</td>\n",
       "      <td>70.0372983975121</td>\n",
       "      <td>69.8421364137312</td>\n",
       "      <td>69.6508486876588</td>\n",
       "      <td>69.6416736843679</td>\n",
       "      <td>69.7940526024801</td>\n",
       "      <td>69.8594183808876</td>\n",
       "      <td>69.7953926905132</td>\n",
       "      <td>69.6208274610499</td>\n",
       "      <td>69.3523247727981</td>\n",
       "      <td>69.027742682921</td>\n",
       "      <td>68.6812691758703</td>\n",
       "      <td>68.3205692633645</td>\n",
       "      <td>67.9625149728727</td>\n",
       "      <td>67.7120031524284</td>\n",
       "      <td>67.6570940475799</td>\n",
       "      <td>None</td>\n",
       "    </tr>\n",
       "    <tr>\n",
       "      <th>1</th>\n",
       "      <td>None</td>\n",
       "      <td>AFE</td>\n",
       "      <td>Población entre 15 y 64 años de edad (% del to...</td>\n",
       "      <td>SP.POP.1564.TO.ZS</td>\n",
       "      <td>52.8274157784759</td>\n",
       "      <td>52.7604902756957</td>\n",
       "      <td>52.6826758354695</td>\n",
       "      <td>52.5865096608518</td>\n",
       "      <td>52.4855200146271</td>\n",
       "      <td>52.3766281889937</td>\n",
       "      <td>52.2577618164994</td>\n",
       "      <td>52.1421537435157</td>\n",
       "      <td>52.0315761082849</td>\n",
       "      <td>51.9218982595951</td>\n",
       "      <td>51.80144226831</td>\n",
       "      <td>51.6792373973474</td>\n",
       "      <td>51.5638756920615</td>\n",
       "      <td>51.4804645818136</td>\n",
       "      <td>51.4419733135378</td>\n",
       "      <td>51.4142213823217</td>\n",
       "      <td>51.3699940717839</td>\n",
       "      <td>51.3413341806288</td>\n",
       "      <td>51.3525439741294</td>\n",
       "      <td>51.3619443024619</td>\n",
       "      <td>51.3868750841146</td>\n",
       "      <td>51.4008466283297</td>\n",
       "      <td>51.3955325823119</td>\n",
       "      <td>51.4281247559813</td>\n",
       "      <td>51.491572512832</td>\n",
       "      <td>51.5528417981183</td>\n",
       "      <td>51.597103219366</td>\n",
       "      <td>51.6009536893046</td>\n",
       "      <td>51.5738965551601</td>\n",
       "      <td>51.5522338123665</td>\n",
       "      <td>51.5369286027593</td>\n",
       "      <td>51.5186468555464</td>\n",
       "      <td>51.4926682415313</td>\n",
       "      <td>51.4607031320348</td>\n",
       "      <td>51.5444172479884</td>\n",
       "      <td>51.6742761687718</td>\n",
       "      <td>51.7121942522526</td>\n",
       "      <td>51.770112526495</td>\n",
       "      <td>51.9131917655101</td>\n",
       "      <td>52.1009742276052</td>\n",
       "      <td>52.292565736414</td>\n",
       "      <td>52.4952894128363</td>\n",
       "      <td>52.6952781133297</td>\n",
       "      <td>52.8812795012001</td>\n",
       "      <td>53.0530316413024</td>\n",
       "      <td>53.2014025490894</td>\n",
       "      <td>53.3335669231418</td>\n",
       "      <td>53.4548876185475</td>\n",
       "      <td>53.561747990582</td>\n",
       "      <td>53.6613407718808</td>\n",
       "      <td>53.7671315110531</td>\n",
       "      <td>53.8800733974156</td>\n",
       "      <td>53.9908273606468</td>\n",
       "      <td>54.1048190498773</td>\n",
       "      <td>54.2343884361198</td>\n",
       "      <td>54.3903502447806</td>\n",
       "      <td>54.5306781585856</td>\n",
       "      <td>54.6660704907447</td>\n",
       "      <td>54.83426630198</td>\n",
       "      <td>55.0215384291933</td>\n",
       "      <td>55.2351937516876</td>\n",
       "      <td>55.4719259144227</td>\n",
       "      <td>None</td>\n",
       "    </tr>\n",
       "    <tr>\n",
       "      <th>2</th>\n",
       "      <td>Afganistán</td>\n",
       "      <td>AFG</td>\n",
       "      <td>Población entre 15 y 64 años de edad (% del to...</td>\n",
       "      <td>SP.POP.1564.TO.ZS</td>\n",
       "      <td>55.5397840942487</td>\n",
       "      <td>55.4870229598163</td>\n",
       "      <td>55.4317786177159</td>\n",
       "      <td>55.3356554098572</td>\n",
       "      <td>55.181682160916</td>\n",
       "      <td>54.9466202662646</td>\n",
       "      <td>54.6583323341661</td>\n",
       "      <td>54.3749968781312</td>\n",
       "      <td>54.0996271436168</td>\n",
       "      <td>53.8326614172133</td>\n",
       "      <td>53.5777064042251</td>\n",
       "      <td>53.3352829471189</td>\n",
       "      <td>53.1029186650456</td>\n",
       "      <td>52.8797665754711</td>\n",
       "      <td>52.6614615305456</td>\n",
       "      <td>52.4502471172668</td>\n",
       "      <td>52.2475914502444</td>\n",
       "      <td>52.0508163221312</td>\n",
       "      <td>51.8606291704545</td>\n",
       "      <td>51.6775551349265</td>\n",
       "      <td>51.5025969974368</td>\n",
       "      <td>51.3369869374762</td>\n",
       "      <td>51.1852084721804</td>\n",
       "      <td>51.0646640504312</td>\n",
       "      <td>50.9568991593017</td>\n",
       "      <td>50.8505457195703</td>\n",
       "      <td>50.7414622553995</td>\n",
       "      <td>50.6349804964913</td>\n",
       "      <td>50.5264791565855</td>\n",
       "      <td>50.4132114095266</td>\n",
       "      <td>50.2789300515877</td>\n",
       "      <td>50.1109894336682</td>\n",
       "      <td>49.9245652038871</td>\n",
       "      <td>49.7334037429947</td>\n",
       "      <td>49.5078193409366</td>\n",
       "      <td>49.2541771342705</td>\n",
       "      <td>48.985053747252</td>\n",
       "      <td>48.7118959386792</td>\n",
       "      <td>48.4451497993958</td>\n",
       "      <td>48.1991642201393</td>\n",
       "      <td>47.9969344494884</td>\n",
       "      <td>47.8492043568795</td>\n",
       "      <td>47.7675451249846</td>\n",
       "      <td>47.7446563565764</td>\n",
       "      <td>47.7813164516322</td>\n",
       "      <td>48.0851067054677</td>\n",
       "      <td>48.4669443127336</td>\n",
       "      <td>47.9988968973278</td>\n",
       "      <td>47.7919226324364</td>\n",
       "      <td>48.3451993372724</td>\n",
       "      <td>48.6775706365083</td>\n",
       "      <td>49.3617576739049</td>\n",
       "      <td>50.1755248805667</td>\n",
       "      <td>50.729094606505</td>\n",
       "      <td>51.3593001756622</td>\n",
       "      <td>51.8020783563802</td>\n",
       "      <td>52.0800436941602</td>\n",
       "      <td>52.4815668980114</td>\n",
       "      <td>52.8844624265785</td>\n",
       "      <td>53.290894238376</td>\n",
       "      <td>53.7751348360726</td>\n",
       "      <td>54.1713988581692</td>\n",
       "      <td>None</td>\n",
       "    </tr>\n",
       "  </tbody>\n",
       "</table>\n",
       "</div>"
      ],
      "text/plain": [
       "  Country Name Country Code                                      Indicator Name     Indicator Code              1960              1961              1962              1963              1964              1965              1966              1967              1968              1969              1970              1971              1972              1973              1974              1975              1976              1977              1978              1979              1980              1981              1982              1983              1984              1985              1986              1987              1988              1989              1990              1991              1992              1993              1994              1995              1996              1997              1998              1999              2000              2001              2002              2003              2004              2005              2006              2007              2008              2009              2010              2011              2012              2013              2014              2015              2016              2017              2018              2019              2020              2021  2022\n",
       "0        Aruba          ABW  Población entre 15 y 64 años de edad (% del total)  SP.POP.1564.TO.ZS  54.4956782888954  54.5887011521026  54.5856304855996  54.6742061765985  54.8734476386919  55.1814771654347  55.5772003946669  56.0864561544988  56.6457319175053  57.1582673183887  57.6637087291584  58.1886035381228  58.8500649896781  59.6853391279447  60.5938944650368  61.4875937775362  62.4038893655268  63.2777737104555  63.9743755871586  64.5187562493952  64.8759766487598  64.8997420684038  64.8947968819317  65.0715261529765  65.2876142393007  65.6332392443935  66.1014979938965  66.5903801396431  66.9842922984852  67.0882646623991  66.6861964800682  65.7845101968643  65.5378500245756   66.147042564953  66.8031936608643  67.5853341985724  68.3789364997419  68.9633267365438  69.3592555272361  69.6196484280567  69.8252544864816  69.9709451375833  70.0700580730217  70.1966537577804  70.3381993703195  70.3571012774785  70.2185520858937  70.0372983975121  69.8421364137312  69.6508486876588  69.6416736843679  69.7940526024801  69.8594183808876  69.7953926905132  69.6208274610499  69.3523247727981   69.027742682921  68.6812691758703  68.3205692633645  67.9625149728727  67.7120031524284  67.6570940475799  None\n",
       "1         None          AFE  Población entre 15 y 64 años de edad (% del total)  SP.POP.1564.TO.ZS  52.8274157784759  52.7604902756957  52.6826758354695  52.5865096608518  52.4855200146271  52.3766281889937  52.2577618164994  52.1421537435157  52.0315761082849  51.9218982595951    51.80144226831  51.6792373973474  51.5638756920615  51.4804645818136  51.4419733135378  51.4142213823217  51.3699940717839  51.3413341806288  51.3525439741294  51.3619443024619  51.3868750841146  51.4008466283297  51.3955325823119  51.4281247559813   51.491572512832  51.5528417981183   51.597103219366  51.6009536893046  51.5738965551601  51.5522338123665  51.5369286027593  51.5186468555464  51.4926682415313  51.4607031320348  51.5444172479884  51.6742761687718  51.7121942522526   51.770112526495  51.9131917655101  52.1009742276052   52.292565736414  52.4952894128363  52.6952781133297  52.8812795012001  53.0530316413024  53.2014025490894  53.3335669231418  53.4548876185475   53.561747990582  53.6613407718808  53.7671315110531  53.8800733974156  53.9908273606468  54.1048190498773  54.2343884361198  54.3903502447806  54.5306781585856  54.6660704907447    54.83426630198  55.0215384291933  55.2351937516876  55.4719259144227  None\n",
       "2   Afganistán          AFG  Población entre 15 y 64 años de edad (% del total)  SP.POP.1564.TO.ZS  55.5397840942487  55.4870229598163  55.4317786177159  55.3356554098572   55.181682160916  54.9466202662646  54.6583323341661  54.3749968781312  54.0996271436168  53.8326614172133  53.5777064042251  53.3352829471189  53.1029186650456  52.8797665754711  52.6614615305456  52.4502471172668  52.2475914502444  52.0508163221312  51.8606291704545  51.6775551349265  51.5025969974368  51.3369869374762  51.1852084721804  51.0646640504312  50.9568991593017  50.8505457195703  50.7414622553995  50.6349804964913  50.5264791565855  50.4132114095266  50.2789300515877  50.1109894336682  49.9245652038871  49.7334037429947  49.5078193409366  49.2541771342705   48.985053747252  48.7118959386792  48.4451497993958  48.1991642201393  47.9969344494884  47.8492043568795  47.7675451249846  47.7446563565764  47.7813164516322  48.0851067054677  48.4669443127336  47.9988968973278  47.7919226324364  48.3451993372724  48.6775706365083  49.3617576739049  50.1755248805667   50.729094606505  51.3593001756622  51.8020783563802  52.0800436941602  52.4815668980114  52.8844624265785   53.290894238376  53.7751348360726  54.1713988581692  None"
      ]
     },
     "execution_count": 123,
     "metadata": {},
     "output_type": "execute_result"
    }
   ],
   "source": [
    "data_09.limit(3).pandas_api()\n"
   ]
  },
  {
   "cell_type": "code",
   "execution_count": 124,
   "id": "ccc05955-07fe-4549-af45-ce25e15a2921",
   "metadata": {
    "execution": {
     "iopub.execute_input": "2023-06-06T05:58:58.394803Z",
     "iopub.status.busy": "2023-06-06T05:58:58.394566Z",
     "iopub.status.idle": "2023-06-06T05:58:58.408314Z",
     "shell.execute_reply": "2023-06-06T05:58:58.407701Z",
     "shell.execute_reply.started": "2023-06-06T05:58:58.394780Z"
    },
    "tags": []
   },
   "outputs": [],
   "source": [
    "data_09 = data_09.selectExpr('`Country Name`', '`Country Code`', \"`Indicator Name`\", \"`Indicator Code`\", \"stack(63, \\\n",
    "'1960', `1960`, '1961', `1961`, '1962', `1962`, '1963', `1963`, '1964', `1964`, \\\n",
    "'1965', `1965`, '1966', `1966`, '1967', `1967`, '1968', `1968`, '1969', `1969`, \\\n",
    "'1970', `1970`, '1971', `1971`, '1972', `1972`, '1973', `1973`, '1974', `1974`, \\\n",
    "'1975', `1975`, '1976', `1976`, '1977', `1977`, '1978', `1978`, '1979', `1979`, \\\n",
    "'1980', `1980`, '1981', `1981`, '1982', `1982`, '1983', `1983`, '1984', `1984`, \\\n",
    "'1985', `1985`, '1986', `1986`, '1987', `1987`, '1988', `1988`, '1989', `1989`, \\\n",
    "'1990', `1990`, '1991', `1991`, '1992', `1992`, '1993', `1993`, '1994', `1994`, \\\n",
    "'1995', `1995`, '1996', `1996`, '1997', `1997`, '1998', `1998`, '1999', `1999`, \\\n",
    "'2010', `2010`, '2011', `2011`, '2012', `2012`, '2013', `2013`, '2014', `2014`, \\\n",
    "'2015', `2015`, '2016', `2016`, '2017', `2017`, '2018', `2018`, '2019', `2019`, \\\n",
    "'2010', `2010`, '2011', `2011`, '2012', `2012`, '2013', `2013`, '2014', `2014`, \\\n",
    "'2015', `2015`, '2016', `2016`, '2017', `2017`, '2018', `2018`, '2019', `2019`, \\\n",
    "'2020', `2020`, '2021', `2021`, '2022', `2022`) as (Year, ratio_poblation_15_64_year)\")"
   ]
  },
  {
   "cell_type": "code",
   "execution_count": 125,
   "id": "4d680e5a-59fc-479d-84f2-b00d0668d9a2",
   "metadata": {
    "execution": {
     "iopub.execute_input": "2023-06-06T05:58:58.409125Z",
     "iopub.status.busy": "2023-06-06T05:58:58.408961Z",
     "iopub.status.idle": "2023-06-06T05:58:58.644928Z",
     "shell.execute_reply": "2023-06-06T05:58:58.644101Z",
     "shell.execute_reply.started": "2023-06-06T05:58:58.409110Z"
    },
    "tags": []
   },
   "outputs": [
    {
     "data": {
      "text/html": [
       "<div>\n",
       "<style scoped>\n",
       "    .dataframe tbody tr th:only-of-type {\n",
       "        vertical-align: middle;\n",
       "    }\n",
       "\n",
       "    .dataframe tbody tr th {\n",
       "        vertical-align: top;\n",
       "    }\n",
       "\n",
       "    .dataframe thead th {\n",
       "        text-align: right;\n",
       "    }\n",
       "</style>\n",
       "<table border=\"1\" class=\"dataframe\">\n",
       "  <thead>\n",
       "    <tr style=\"text-align: right;\">\n",
       "      <th></th>\n",
       "      <th>Country Name</th>\n",
       "      <th>Country Code</th>\n",
       "      <th>Indicator Name</th>\n",
       "      <th>Indicator Code</th>\n",
       "      <th>Year</th>\n",
       "      <th>ratio_poblation_15_64_year</th>\n",
       "    </tr>\n",
       "  </thead>\n",
       "  <tbody>\n",
       "    <tr>\n",
       "      <th>0</th>\n",
       "      <td>None</td>\n",
       "      <td>AFE</td>\n",
       "      <td>Población entre 15 y 64 años de edad (% del to...</td>\n",
       "      <td>SP.POP.1564.TO.ZS</td>\n",
       "      <td>1993</td>\n",
       "      <td>51.4607031320348</td>\n",
       "    </tr>\n",
       "    <tr>\n",
       "      <th>1</th>\n",
       "      <td>Cabo Verde</td>\n",
       "      <td>CPV</td>\n",
       "      <td>Población entre 15 y 64 años de edad (% del to...</td>\n",
       "      <td>SP.POP.1564.TO.ZS</td>\n",
       "      <td>2016</td>\n",
       "      <td>66.1595878899237</td>\n",
       "    </tr>\n",
       "    <tr>\n",
       "      <th>2</th>\n",
       "      <td>Israel</td>\n",
       "      <td>ISR</td>\n",
       "      <td>Población entre 15 y 64 años de edad (% del to...</td>\n",
       "      <td>SP.POP.1564.TO.ZS</td>\n",
       "      <td>1988</td>\n",
       "      <td>59.200982670532</td>\n",
       "    </tr>\n",
       "  </tbody>\n",
       "</table>\n",
       "</div>"
      ],
      "text/plain": [
       "  Country Name Country Code                                      Indicator Name     Indicator Code  Year ratio_poblation_15_64_year\n",
       "0         None          AFE  Población entre 15 y 64 años de edad (% del total)  SP.POP.1564.TO.ZS  1993           51.4607031320348\n",
       "1   Cabo Verde          CPV  Población entre 15 y 64 años de edad (% del total)  SP.POP.1564.TO.ZS  2016           66.1595878899237\n",
       "2       Israel          ISR  Población entre 15 y 64 años de edad (% del total)  SP.POP.1564.TO.ZS  1988            59.200982670532"
      ]
     },
     "execution_count": 125,
     "metadata": {},
     "output_type": "execute_result"
    }
   ],
   "source": [
    "data_09.sample(False, 3/data_09.count(), seed=150).limit(3).pandas_api()\n"
   ]
  },
  {
   "cell_type": "code",
   "execution_count": 126,
   "id": "c9996ca2-69a7-4f6a-861e-f08835c275c5",
   "metadata": {
    "execution": {
     "iopub.execute_input": "2023-06-06T05:58:58.646315Z",
     "iopub.status.busy": "2023-06-06T05:58:58.645991Z",
     "iopub.status.idle": "2023-06-06T05:58:58.656197Z",
     "shell.execute_reply": "2023-06-06T05:58:58.655031Z",
     "shell.execute_reply.started": "2023-06-06T05:58:58.646288Z"
    },
    "tags": []
   },
   "outputs": [],
   "source": [
    "data_09 = data_09.drop(\"Country Name\",\"Indicator Name\",\"Indicator Code\")"
   ]
  },
  {
   "cell_type": "markdown",
   "id": "8cbd8c76-5943-4184-8d38-dbaff8721c6c",
   "metadata": {},
   "source": [
    "# Población de 65 años de edad y más (% del total)\n",
    "\n",
    "\n",
    "Población mayor de 65 años como porcentaje de la población total. Población se basa en la definición establecida de dicho término, que contabiliza a todos los residentes independientemente de su situación legal o de ciudadanía, excluyendo a los refugiados no asentados permanentemente en el país de acogida, a quienes se les considera usualmente parte de la población de sus respectivos países de origen.\n",
    "\n",
    "https://datos.bancomundial.org/indicador/SP.POP.65UP.TO.ZS?view=chart"
   ]
  },
  {
   "cell_type": "code",
   "execution_count": 127,
   "id": "5c02c8f8-9fd5-44e8-bc52-943452c169f4",
   "metadata": {
    "execution": {
     "iopub.execute_input": "2023-06-06T05:58:58.657815Z",
     "iopub.status.busy": "2023-06-06T05:58:58.657397Z",
     "iopub.status.idle": "2023-06-06T05:58:58.661080Z",
     "shell.execute_reply": "2023-06-06T05:58:58.660438Z",
     "shell.execute_reply.started": "2023-06-06T05:58:58.657783Z"
    },
    "tags": []
   },
   "outputs": [],
   "source": [
    "url_10 =\"https://api.worldbank.org/v2/es/indicator/SP.POP.65UP.TO.ZS?downloadformat=csv\""
   ]
  },
  {
   "cell_type": "code",
   "execution_count": 128,
   "id": "0f2e9619-014f-4f98-87f8-67af05c6ef85",
   "metadata": {
    "execution": {
     "iopub.execute_input": "2023-06-06T05:58:58.662181Z",
     "iopub.status.busy": "2023-06-06T05:58:58.661938Z",
     "iopub.status.idle": "2023-06-06T05:59:00.048202Z",
     "shell.execute_reply": "2023-06-06T05:59:00.047112Z",
     "shell.execute_reply.started": "2023-06-06T05:58:58.662157Z"
    },
    "tags": []
   },
   "outputs": [],
   "source": [
    "response_url_10 = requests.get(url_10)"
   ]
  },
  {
   "cell_type": "code",
   "execution_count": 129,
   "id": "23283db4-004a-4b55-b2dc-5867925d0f31",
   "metadata": {
    "execution": {
     "iopub.execute_input": "2023-06-06T05:59:00.049858Z",
     "iopub.status.busy": "2023-06-06T05:59:00.049497Z",
     "iopub.status.idle": "2023-06-06T05:59:00.061657Z",
     "shell.execute_reply": "2023-06-06T05:59:00.060690Z",
     "shell.execute_reply.started": "2023-06-06T05:59:00.049828Z"
    },
    "tags": []
   },
   "outputs": [
    {
     "name": "stdout",
     "output_type": "stream",
     "text": [
      "El archivo ZIP se ha descargado y descomprimido correctamente.\n"
     ]
    }
   ],
   "source": [
    "if response_url_10.status_code == 200:\n",
    "    # Crear un objeto ZipFile a partir de los datos de la respuesta\n",
    "    with zipfile.ZipFile(io.BytesIO(response_url_10.content), \"r\") as zip_url_10:\n",
    "        # Extraer todos los archivos del archivo ZIP en el directorio actual\n",
    "        zip_url_10.extractall(\"dataset\")\n",
    "\n",
    "    print(\"El archivo ZIP se ha descargado y descomprimido correctamente.\")\n",
    "else:\n",
    "    print(\"Error al descargar el archivo ZIP:\", response_url_10.status_code)"
   ]
  },
  {
   "cell_type": "code",
   "execution_count": 130,
   "id": "bffc3e9e-310e-457d-968d-af7a144c9b78",
   "metadata": {
    "execution": {
     "iopub.execute_input": "2023-06-06T05:59:00.063280Z",
     "iopub.status.busy": "2023-06-06T05:59:00.062989Z",
     "iopub.status.idle": "2023-06-06T05:59:00.069822Z",
     "shell.execute_reply": "2023-06-06T05:59:00.068440Z",
     "shell.execute_reply.started": "2023-06-06T05:59:00.063252Z"
    },
    "tags": []
   },
   "outputs": [],
   "source": [
    "# Ruta del archivo CSV\n",
    "\n",
    "csv_url_10 = \"dataset/API_SP.POP.65UP.TO.ZS_DS2_es_csv_v2_5455592.csv\"\n",
    "\n",
    "# Crear una lista para almacenar las filas del archivo CSV\n",
    "rows_url_10 = []\n",
    "\n",
    "\n",
    "#API_SE.PRM.CMPT.ZS_DS2_es_csv_v2_5478942"
   ]
  },
  {
   "cell_type": "code",
   "execution_count": 131,
   "id": "5ac022ec-9fee-41fd-9149-ce9b0f1f2e22",
   "metadata": {
    "execution": {
     "iopub.execute_input": "2023-06-06T05:59:00.071684Z",
     "iopub.status.busy": "2023-06-06T05:59:00.071258Z",
     "iopub.status.idle": "2023-06-06T05:59:00.087267Z",
     "shell.execute_reply": "2023-06-06T05:59:00.086561Z",
     "shell.execute_reply.started": "2023-06-06T05:59:00.071643Z"
    },
    "tags": []
   },
   "outputs": [],
   "source": [
    "# Leer el archivo CSV y almacenar las filas en la lista\n",
    "with open(csv_url_10, \"r\") as file_csv_url_10:\n",
    "    csv_reader_url_10 = csv.reader(file_csv_url_10)\n",
    "    rows_url_10 = list(csv_reader_url_10)\n"
   ]
  },
  {
   "cell_type": "code",
   "execution_count": 132,
   "id": "b070f344-5fe9-488f-9375-130b43694df1",
   "metadata": {
    "execution": {
     "iopub.execute_input": "2023-06-06T05:59:00.088435Z",
     "iopub.status.busy": "2023-06-06T05:59:00.088025Z",
     "iopub.status.idle": "2023-06-06T05:59:00.104167Z",
     "shell.execute_reply": "2023-06-06T05:59:00.103445Z",
     "shell.execute_reply.started": "2023-06-06T05:59:00.088416Z"
    },
    "tags": []
   },
   "outputs": [],
   "source": [
    "# Eliminar las primeras 4 filas\n",
    "\n",
    "rows_url_10 = rows_url_10[3:]\n",
    "\n",
    "# Escribir las filas modificadas en un nuevo archivo CSV\n",
    "with open(\"dataset/data/data_10.csv\", \"w\", newline=\"\") as file_csv_url_10:\n",
    "    csv_writer_url_10 = csv.writer(file_csv_url_10)\n",
    "    csv_writer_url_10.writerows(rows_url_10)"
   ]
  },
  {
   "cell_type": "code",
   "execution_count": 133,
   "id": "b7ec101b-095e-4b59-ba4b-3c69ac12ddf3",
   "metadata": {
    "execution": {
     "iopub.execute_input": "2023-06-06T05:59:00.105104Z",
     "iopub.status.busy": "2023-06-06T05:59:00.104906Z",
     "iopub.status.idle": "2023-06-06T05:59:00.184157Z",
     "shell.execute_reply": "2023-06-06T05:59:00.183535Z",
     "shell.execute_reply.started": "2023-06-06T05:59:00.105088Z"
    },
    "tags": []
   },
   "outputs": [],
   "source": [
    "data_10 = spark.read.csv(\"dataset/data/data_10.csv\", header=True)"
   ]
  },
  {
   "cell_type": "code",
   "execution_count": 134,
   "id": "7e859ada-13e7-41f1-a070-cf75cedddec7",
   "metadata": {
    "execution": {
     "iopub.execute_input": "2023-06-06T05:59:00.185258Z",
     "iopub.status.busy": "2023-06-06T05:59:00.185000Z",
     "iopub.status.idle": "2023-06-06T05:59:00.195640Z",
     "shell.execute_reply": "2023-06-06T05:59:00.194933Z",
     "shell.execute_reply.started": "2023-06-06T05:59:00.185231Z"
    },
    "tags": []
   },
   "outputs": [],
   "source": [
    "data_10 = data_10.drop(\"_c66\",\"_c67\")"
   ]
  },
  {
   "cell_type": "code",
   "execution_count": 135,
   "id": "aaf46378-bf9f-411d-9d59-4a5515239171",
   "metadata": {
    "execution": {
     "iopub.execute_input": "2023-06-06T05:59:00.196645Z",
     "iopub.status.busy": "2023-06-06T05:59:00.196459Z",
     "iopub.status.idle": "2023-06-06T05:59:00.444824Z",
     "shell.execute_reply": "2023-06-06T05:59:00.444285Z",
     "shell.execute_reply.started": "2023-06-06T05:59:00.196629Z"
    },
    "tags": []
   },
   "outputs": [
    {
     "data": {
      "text/html": [
       "<div>\n",
       "<style scoped>\n",
       "    .dataframe tbody tr th:only-of-type {\n",
       "        vertical-align: middle;\n",
       "    }\n",
       "\n",
       "    .dataframe tbody tr th {\n",
       "        vertical-align: top;\n",
       "    }\n",
       "\n",
       "    .dataframe thead th {\n",
       "        text-align: right;\n",
       "    }\n",
       "</style>\n",
       "<table border=\"1\" class=\"dataframe\">\n",
       "  <thead>\n",
       "    <tr style=\"text-align: right;\">\n",
       "      <th></th>\n",
       "      <th>Country Name</th>\n",
       "      <th>Country Code</th>\n",
       "      <th>Indicator Name</th>\n",
       "      <th>Indicator Code</th>\n",
       "      <th>1960</th>\n",
       "      <th>1961</th>\n",
       "      <th>1962</th>\n",
       "      <th>1963</th>\n",
       "      <th>1964</th>\n",
       "      <th>1965</th>\n",
       "      <th>1966</th>\n",
       "      <th>1967</th>\n",
       "      <th>1968</th>\n",
       "      <th>1969</th>\n",
       "      <th>1970</th>\n",
       "      <th>1971</th>\n",
       "      <th>1972</th>\n",
       "      <th>1973</th>\n",
       "      <th>1974</th>\n",
       "      <th>1975</th>\n",
       "      <th>1976</th>\n",
       "      <th>1977</th>\n",
       "      <th>1978</th>\n",
       "      <th>1979</th>\n",
       "      <th>1980</th>\n",
       "      <th>1981</th>\n",
       "      <th>1982</th>\n",
       "      <th>1983</th>\n",
       "      <th>1984</th>\n",
       "      <th>1985</th>\n",
       "      <th>1986</th>\n",
       "      <th>1987</th>\n",
       "      <th>1988</th>\n",
       "      <th>1989</th>\n",
       "      <th>1990</th>\n",
       "      <th>1991</th>\n",
       "      <th>1992</th>\n",
       "      <th>1993</th>\n",
       "      <th>1994</th>\n",
       "      <th>1995</th>\n",
       "      <th>1996</th>\n",
       "      <th>1997</th>\n",
       "      <th>1998</th>\n",
       "      <th>1999</th>\n",
       "      <th>2000</th>\n",
       "      <th>2001</th>\n",
       "      <th>2002</th>\n",
       "      <th>2003</th>\n",
       "      <th>2004</th>\n",
       "      <th>2005</th>\n",
       "      <th>2006</th>\n",
       "      <th>2007</th>\n",
       "      <th>2008</th>\n",
       "      <th>2009</th>\n",
       "      <th>2010</th>\n",
       "      <th>2011</th>\n",
       "      <th>2012</th>\n",
       "      <th>2013</th>\n",
       "      <th>2014</th>\n",
       "      <th>2015</th>\n",
       "      <th>2016</th>\n",
       "      <th>2017</th>\n",
       "      <th>2018</th>\n",
       "      <th>2019</th>\n",
       "      <th>2020</th>\n",
       "      <th>2021</th>\n",
       "      <th>2022</th>\n",
       "    </tr>\n",
       "  </thead>\n",
       "  <tbody>\n",
       "    <tr>\n",
       "      <th>0</th>\n",
       "      <td>Aruba</td>\n",
       "      <td>ABW</td>\n",
       "      <td>Población de 65 años de edad y más (% del total)</td>\n",
       "      <td>SP.POP.65UP.TO.ZS</td>\n",
       "      <td>2.37327864049224</td>\n",
       "      <td>2.46188027449786</td>\n",
       "      <td>2.56163718960879</td>\n",
       "      <td>2.66463679860809</td>\n",
       "      <td>2.76739289244124</td>\n",
       "      <td>2.8818590883186</td>\n",
       "      <td>3.01650348706791</td>\n",
       "      <td>3.18792369143923</td>\n",
       "      <td>3.40504956238807</td>\n",
       "      <td>3.64823866509354</td>\n",
       "      <td>3.90819960579632</td>\n",
       "      <td>4.19270102777282</td>\n",
       "      <td>4.45922641044592</td>\n",
       "      <td>4.69885708029074</td>\n",
       "      <td>4.93357211278164</td>\n",
       "      <td>5.16260263030034</td>\n",
       "      <td>5.41079380643053</td>\n",
       "      <td>5.66577999040112</td>\n",
       "      <td>5.88616411286404</td>\n",
       "      <td>6.05747830855078</td>\n",
       "      <td>6.19996306199963</td>\n",
       "      <td>6.40357111485542</td>\n",
       "      <td>6.62193421636352</td>\n",
       "      <td>6.74826876874519</td>\n",
       "      <td>6.81111656499077</td>\n",
       "      <td>6.8317875864636</td>\n",
       "      <td>6.83934131643766</td>\n",
       "      <td>6.88207913110939</td>\n",
       "      <td>6.93439450347031</td>\n",
       "      <td>6.90605382727899</td>\n",
       "      <td>6.75452546357943</td>\n",
       "      <td>6.51892019332783</td>\n",
       "      <td>6.35974441349736</td>\n",
       "      <td>6.3287728026534</td>\n",
       "      <td>6.34984373013164</td>\n",
       "      <td>6.40558079169371</td>\n",
       "      <td>6.47216590906229</td>\n",
       "      <td>6.55708666226881</td>\n",
       "      <td>6.66231995732322</td>\n",
       "      <td>6.77184661609127</td>\n",
       "      <td>6.91911426358851</td>\n",
       "      <td>7.14959119202121</td>\n",
       "      <td>7.42582887525741</td>\n",
       "      <td>7.70056417945869</td>\n",
       "      <td>7.99288001325643</td>\n",
       "      <td>8.28508832276706</td>\n",
       "      <td>8.54126026996073</td>\n",
       "      <td>8.77958816783246</td>\n",
       "      <td>9.02740928201151</td>\n",
       "      <td>9.2977663992259</td>\n",
       "      <td>9.60968293278454</td>\n",
       "      <td>9.98094542295237</td>\n",
       "      <td>10.4033336108078</td>\n",
       "      <td>10.8558514774495</td>\n",
       "      <td>11.3336679730486</td>\n",
       "      <td>11.8480684842817</td>\n",
       "      <td>12.4005358785978</td>\n",
       "      <td>12.9838721150244</td>\n",
       "      <td>13.6096601123993</td>\n",
       "      <td>14.270145853395</td>\n",
       "      <td>14.9369748884688</td>\n",
       "      <td>15.5434991763386</td>\n",
       "      <td>None</td>\n",
       "    </tr>\n",
       "    <tr>\n",
       "      <th>1</th>\n",
       "      <td>None</td>\n",
       "      <td>AFE</td>\n",
       "      <td>Población de 65 años de edad y más (% del total)</td>\n",
       "      <td>SP.POP.65UP.TO.ZS</td>\n",
       "      <td>2.97256803947601</td>\n",
       "      <td>2.95394113601538</td>\n",
       "      <td>2.93533200820256</td>\n",
       "      <td>2.91839245403704</td>\n",
       "      <td>2.90467033305114</td>\n",
       "      <td>2.89451288880863</td>\n",
       "      <td>2.88747526807938</td>\n",
       "      <td>2.88431308299416</td>\n",
       "      <td>2.88451271723696</td>\n",
       "      <td>2.88606628199314</td>\n",
       "      <td>2.88828981785057</td>\n",
       "      <td>2.89218780372774</td>\n",
       "      <td>2.89653095066763</td>\n",
       "      <td>2.90134741198854</td>\n",
       "      <td>2.9057988886758</td>\n",
       "      <td>2.90903424725347</td>\n",
       "      <td>2.91391366687369</td>\n",
       "      <td>2.91953788960614</td>\n",
       "      <td>2.92679476685641</td>\n",
       "      <td>2.93595965523942</td>\n",
       "      <td>2.93894185799866</td>\n",
       "      <td>2.93864371479093</td>\n",
       "      <td>2.9395099006977</td>\n",
       "      <td>2.9353554609586</td>\n",
       "      <td>2.92973886074844</td>\n",
       "      <td>2.92741005740368</td>\n",
       "      <td>2.92402198606717</td>\n",
       "      <td>2.92364447311404</td>\n",
       "      <td>2.91910853266942</td>\n",
       "      <td>2.90910110016893</td>\n",
       "      <td>2.90283382924712</td>\n",
       "      <td>2.90050344569217</td>\n",
       "      <td>2.89980420106374</td>\n",
       "      <td>2.89577257695287</td>\n",
       "      <td>2.88705295305594</td>\n",
       "      <td>2.8768716631569</td>\n",
       "      <td>2.87114752522055</td>\n",
       "      <td>2.86689808141456</td>\n",
       "      <td>2.86083533469004</td>\n",
       "      <td>2.85660679536975</td>\n",
       "      <td>2.85665995891157</td>\n",
       "      <td>2.85855165541747</td>\n",
       "      <td>2.86016341527444</td>\n",
       "      <td>2.86060875503548</td>\n",
       "      <td>2.86141076456476</td>\n",
       "      <td>2.86397022713204</td>\n",
       "      <td>2.86685386620957</td>\n",
       "      <td>2.86957055535392</td>\n",
       "      <td>2.87212003031023</td>\n",
       "      <td>2.87808722914673</td>\n",
       "      <td>2.89161101082053</td>\n",
       "      <td>2.91216270603393</td>\n",
       "      <td>2.93645292483533</td>\n",
       "      <td>2.9614857536838</td>\n",
       "      <td>2.98826797151546</td>\n",
       "      <td>3.01547898251469</td>\n",
       "      <td>3.04531755138417</td>\n",
       "      <td>3.07866817344104</td>\n",
       "      <td>3.11294740530993</td>\n",
       "      <td>3.1463617424872</td>\n",
       "      <td>3.16669149925752</td>\n",
       "      <td>3.16533530890346</td>\n",
       "      <td>None</td>\n",
       "    </tr>\n",
       "    <tr>\n",
       "      <th>2</th>\n",
       "      <td>Afganistán</td>\n",
       "      <td>AFG</td>\n",
       "      <td>Población de 65 años de edad y más (% del total)</td>\n",
       "      <td>SP.POP.65UP.TO.ZS</td>\n",
       "      <td>2.83302943728627</td>\n",
       "      <td>2.81767412123129</td>\n",
       "      <td>2.79905450373125</td>\n",
       "      <td>2.77896791191492</td>\n",
       "      <td>2.75892911923386</td>\n",
       "      <td>2.73924697654934</td>\n",
       "      <td>2.72152713232255</td>\n",
       "      <td>2.70620567570727</td>\n",
       "      <td>2.69199781279447</td>\n",
       "      <td>2.67791015465783</td>\n",
       "      <td>2.663022030701</td>\n",
       "      <td>2.64957597034893</td>\n",
       "      <td>2.63657327473071</td>\n",
       "      <td>2.62251416366628</td>\n",
       "      <td>2.61002671594322</td>\n",
       "      <td>2.59985164574029</td>\n",
       "      <td>2.5926484077707</td>\n",
       "      <td>2.58448969625259</td>\n",
       "      <td>2.57072830011139</td>\n",
       "      <td>2.55017780566685</td>\n",
       "      <td>2.52454795354536</td>\n",
       "      <td>2.49797067644268</td>\n",
       "      <td>2.46483335602466</td>\n",
       "      <td>2.4281891009038</td>\n",
       "      <td>2.38211604777245</td>\n",
       "      <td>2.3269724672373</td>\n",
       "      <td>2.2876186845665</td>\n",
       "      <td>2.26533451622134</td>\n",
       "      <td>2.2521684608102</td>\n",
       "      <td>2.24954286067909</td>\n",
       "      <td>2.24657394119533</td>\n",
       "      <td>2.24616332161241</td>\n",
       "      <td>2.25392088017408</td>\n",
       "      <td>2.26506666780922</td>\n",
       "      <td>2.27406917040731</td>\n",
       "      <td>2.27980392367046</td>\n",
       "      <td>2.28429438224573</td>\n",
       "      <td>2.28646994496937</td>\n",
       "      <td>2.28587834662079</td>\n",
       "      <td>2.28535007609856</td>\n",
       "      <td>2.28480734708738</td>\n",
       "      <td>2.28484634471185</td>\n",
       "      <td>2.28883394829011</td>\n",
       "      <td>2.29391264258585</td>\n",
       "      <td>2.29664737806727</td>\n",
       "      <td>2.29941264028069</td>\n",
       "      <td>2.30238096660512</td>\n",
       "      <td>2.30571196902109</td>\n",
       "      <td>2.31761413685953</td>\n",
       "      <td>2.33529238260334</td>\n",
       "      <td>2.35343107220261</td>\n",
       "      <td>2.37388209171293</td>\n",
       "      <td>2.39198468572599</td>\n",
       "      <td>2.403284579283</td>\n",
       "      <td>2.40916200256692</td>\n",
       "      <td>2.40581576446341</td>\n",
       "      <td>2.39898955450016</td>\n",
       "      <td>2.39981758202619</td>\n",
       "      <td>2.4070929738622</td>\n",
       "      <td>2.41775383911968</td>\n",
       "      <td>2.41695301478831</td>\n",
       "      <td>2.40405843848977</td>\n",
       "      <td>None</td>\n",
       "    </tr>\n",
       "  </tbody>\n",
       "</table>\n",
       "</div>"
      ],
      "text/plain": [
       "  Country Name Country Code                                    Indicator Name     Indicator Code              1960              1961              1962              1963              1964              1965              1966              1967              1968              1969              1970              1971              1972              1973              1974              1975              1976              1977              1978              1979              1980              1981              1982              1983              1984              1985              1986              1987              1988              1989              1990              1991              1992              1993              1994              1995              1996              1997              1998              1999              2000              2001              2002              2003              2004              2005              2006              2007              2008              2009              2010              2011              2012              2013              2014              2015              2016              2017              2018              2019              2020              2021  2022\n",
       "0        Aruba          ABW  Población de 65 años de edad y más (% del total)  SP.POP.65UP.TO.ZS  2.37327864049224  2.46188027449786  2.56163718960879  2.66463679860809  2.76739289244124   2.8818590883186  3.01650348706791  3.18792369143923  3.40504956238807  3.64823866509354  3.90819960579632  4.19270102777282  4.45922641044592  4.69885708029074  4.93357211278164  5.16260263030034  5.41079380643053  5.66577999040112  5.88616411286404  6.05747830855078  6.19996306199963  6.40357111485542  6.62193421636352  6.74826876874519  6.81111656499077   6.8317875864636  6.83934131643766  6.88207913110939  6.93439450347031  6.90605382727899  6.75452546357943  6.51892019332783  6.35974441349736   6.3287728026534  6.34984373013164  6.40558079169371  6.47216590906229  6.55708666226881  6.66231995732322  6.77184661609127  6.91911426358851  7.14959119202121  7.42582887525741  7.70056417945869  7.99288001325643  8.28508832276706  8.54126026996073  8.77958816783246  9.02740928201151   9.2977663992259  9.60968293278454  9.98094542295237  10.4033336108078  10.8558514774495  11.3336679730486  11.8480684842817  12.4005358785978  12.9838721150244  13.6096601123993   14.270145853395  14.9369748884688  15.5434991763386  None\n",
       "1         None          AFE  Población de 65 años de edad y más (% del total)  SP.POP.65UP.TO.ZS  2.97256803947601  2.95394113601538  2.93533200820256  2.91839245403704  2.90467033305114  2.89451288880863  2.88747526807938  2.88431308299416  2.88451271723696  2.88606628199314  2.88828981785057  2.89218780372774  2.89653095066763  2.90134741198854   2.9057988886758  2.90903424725347  2.91391366687369  2.91953788960614  2.92679476685641  2.93595965523942  2.93894185799866  2.93864371479093   2.9395099006977   2.9353554609586  2.92973886074844  2.92741005740368  2.92402198606717  2.92364447311404  2.91910853266942  2.90910110016893  2.90283382924712  2.90050344569217  2.89980420106374  2.89577257695287  2.88705295305594   2.8768716631569  2.87114752522055  2.86689808141456  2.86083533469004  2.85660679536975  2.85665995891157  2.85855165541747  2.86016341527444  2.86060875503548  2.86141076456476  2.86397022713204  2.86685386620957  2.86957055535392  2.87212003031023  2.87808722914673  2.89161101082053  2.91216270603393  2.93645292483533   2.9614857536838  2.98826797151546  3.01547898251469  3.04531755138417  3.07866817344104  3.11294740530993   3.1463617424872  3.16669149925752  3.16533530890346  None\n",
       "2   Afganistán          AFG  Población de 65 años de edad y más (% del total)  SP.POP.65UP.TO.ZS  2.83302943728627  2.81767412123129  2.79905450373125  2.77896791191492  2.75892911923386  2.73924697654934  2.72152713232255  2.70620567570727  2.69199781279447  2.67791015465783    2.663022030701  2.64957597034893  2.63657327473071  2.62251416366628  2.61002671594322  2.59985164574029   2.5926484077707  2.58448969625259  2.57072830011139  2.55017780566685  2.52454795354536  2.49797067644268  2.46483335602466   2.4281891009038  2.38211604777245   2.3269724672373   2.2876186845665  2.26533451622134   2.2521684608102  2.24954286067909  2.24657394119533  2.24616332161241  2.25392088017408  2.26506666780922  2.27406917040731  2.27980392367046  2.28429438224573  2.28646994496937  2.28587834662079  2.28535007609856  2.28480734708738  2.28484634471185  2.28883394829011  2.29391264258585  2.29664737806727  2.29941264028069  2.30238096660512  2.30571196902109  2.31761413685953  2.33529238260334  2.35343107220261  2.37388209171293  2.39198468572599    2.403284579283  2.40916200256692  2.40581576446341  2.39898955450016  2.39981758202619   2.4070929738622  2.41775383911968  2.41695301478831  2.40405843848977  None"
      ]
     },
     "execution_count": 135,
     "metadata": {},
     "output_type": "execute_result"
    }
   ],
   "source": [
    "data_10.limit(3).pandas_api()\n"
   ]
  },
  {
   "cell_type": "code",
   "execution_count": null,
   "id": "2c6626f2-b471-48f6-a108-f0bfab7b6eec",
   "metadata": {},
   "outputs": [],
   "source": []
  },
  {
   "cell_type": "code",
   "execution_count": 136,
   "id": "55d8d0bd-9bc0-4cdf-8044-c4d2b9795782",
   "metadata": {
    "execution": {
     "iopub.execute_input": "2023-06-06T05:59:00.445711Z",
     "iopub.status.busy": "2023-06-06T05:59:00.445487Z",
     "iopub.status.idle": "2023-06-06T05:59:00.458750Z",
     "shell.execute_reply": "2023-06-06T05:59:00.458136Z",
     "shell.execute_reply.started": "2023-06-06T05:59:00.445694Z"
    },
    "tags": []
   },
   "outputs": [],
   "source": [
    "data_10 = data_10.selectExpr('`Country Name`', '`Country Code`', \"`Indicator Name`\", \"`Indicator Code`\", \"stack(63, \\\n",
    "'1960', `1960`, '1961', `1961`, '1962', `1962`, '1963', `1963`, '1964', `1964`, \\\n",
    "'1965', `1965`, '1966', `1966`, '1967', `1967`, '1968', `1968`, '1969', `1969`, \\\n",
    "'1970', `1970`, '1971', `1971`, '1972', `1972`, '1973', `1973`, '1974', `1974`, \\\n",
    "'1975', `1975`, '1976', `1976`, '1977', `1977`, '1978', `1978`, '1979', `1979`, \\\n",
    "'1980', `1980`, '1981', `1981`, '1982', `1982`, '1983', `1983`, '1984', `1984`, \\\n",
    "'1985', `1985`, '1986', `1986`, '1987', `1987`, '1988', `1988`, '1989', `1989`, \\\n",
    "'1990', `1990`, '1991', `1991`, '1992', `1992`, '1993', `1993`, '1994', `1994`, \\\n",
    "'1995', `1995`, '1996', `1996`, '1997', `1997`, '1998', `1998`, '1999', `1999`, \\\n",
    "'2010', `2010`, '2011', `2011`, '2012', `2012`, '2013', `2013`, '2014', `2014`, \\\n",
    "'2015', `2015`, '2016', `2016`, '2017', `2017`, '2018', `2018`, '2019', `2019`, \\\n",
    "'2010', `2010`, '2011', `2011`, '2012', `2012`, '2013', `2013`, '2014', `2014`, \\\n",
    "'2015', `2015`, '2016', `2016`, '2017', `2017`, '2018', `2018`, '2019', `2019`, \\\n",
    "'2020', `2020`, '2021', `2021`, '2022', `2022`) as (Year, ratio_poblation_more_64_year)\")"
   ]
  },
  {
   "cell_type": "code",
   "execution_count": 137,
   "id": "d038b434-85cb-4266-850c-873294d06b84",
   "metadata": {
    "execution": {
     "iopub.execute_input": "2023-06-06T05:59:00.459938Z",
     "iopub.status.busy": "2023-06-06T05:59:00.459641Z",
     "iopub.status.idle": "2023-06-06T05:59:00.652357Z",
     "shell.execute_reply": "2023-06-06T05:59:00.651745Z",
     "shell.execute_reply.started": "2023-06-06T05:59:00.459914Z"
    },
    "tags": []
   },
   "outputs": [
    {
     "data": {
      "text/html": [
       "<div>\n",
       "<style scoped>\n",
       "    .dataframe tbody tr th:only-of-type {\n",
       "        vertical-align: middle;\n",
       "    }\n",
       "\n",
       "    .dataframe tbody tr th {\n",
       "        vertical-align: top;\n",
       "    }\n",
       "\n",
       "    .dataframe thead th {\n",
       "        text-align: right;\n",
       "    }\n",
       "</style>\n",
       "<table border=\"1\" class=\"dataframe\">\n",
       "  <thead>\n",
       "    <tr style=\"text-align: right;\">\n",
       "      <th></th>\n",
       "      <th>Country Name</th>\n",
       "      <th>Country Code</th>\n",
       "      <th>Indicator Name</th>\n",
       "      <th>Indicator Code</th>\n",
       "      <th>Year</th>\n",
       "      <th>ratio_poblation_more_64_year</th>\n",
       "    </tr>\n",
       "  </thead>\n",
       "  <tbody>\n",
       "    <tr>\n",
       "      <th>0</th>\n",
       "      <td>None</td>\n",
       "      <td>AFE</td>\n",
       "      <td>Población de 65 años de edad y más (% del total)</td>\n",
       "      <td>SP.POP.65UP.TO.ZS</td>\n",
       "      <td>1993</td>\n",
       "      <td>2.89577257695287</td>\n",
       "    </tr>\n",
       "    <tr>\n",
       "      <th>1</th>\n",
       "      <td>Cabo Verde</td>\n",
       "      <td>CPV</td>\n",
       "      <td>Población de 65 años de edad y más (% del total)</td>\n",
       "      <td>SP.POP.65UP.TO.ZS</td>\n",
       "      <td>2016</td>\n",
       "      <td>5.22587525486014</td>\n",
       "    </tr>\n",
       "    <tr>\n",
       "      <th>2</th>\n",
       "      <td>Israel</td>\n",
       "      <td>ISR</td>\n",
       "      <td>Población de 65 años de edad y más (% del total)</td>\n",
       "      <td>SP.POP.65UP.TO.ZS</td>\n",
       "      <td>1988</td>\n",
       "      <td>9.48389071207895</td>\n",
       "    </tr>\n",
       "  </tbody>\n",
       "</table>\n",
       "</div>"
      ],
      "text/plain": [
       "  Country Name Country Code                                    Indicator Name     Indicator Code  Year ratio_poblation_more_64_year\n",
       "0         None          AFE  Población de 65 años de edad y más (% del total)  SP.POP.65UP.TO.ZS  1993             2.89577257695287\n",
       "1   Cabo Verde          CPV  Población de 65 años de edad y más (% del total)  SP.POP.65UP.TO.ZS  2016             5.22587525486014\n",
       "2       Israel          ISR  Población de 65 años de edad y más (% del total)  SP.POP.65UP.TO.ZS  1988             9.48389071207895"
      ]
     },
     "execution_count": 137,
     "metadata": {},
     "output_type": "execute_result"
    }
   ],
   "source": [
    "data_10.sample(False, 3/data_09.count(), seed=150).limit(3).pandas_api()\n"
   ]
  },
  {
   "cell_type": "code",
   "execution_count": 138,
   "id": "7829974b-ab84-45c3-8941-82bfd3abab68",
   "metadata": {
    "execution": {
     "iopub.execute_input": "2023-06-06T05:59:00.653248Z",
     "iopub.status.busy": "2023-06-06T05:59:00.652973Z",
     "iopub.status.idle": "2023-06-06T05:59:00.659030Z",
     "shell.execute_reply": "2023-06-06T05:59:00.658371Z",
     "shell.execute_reply.started": "2023-06-06T05:59:00.653232Z"
    },
    "tags": []
   },
   "outputs": [],
   "source": [
    "data_10 = data_10.drop(\"Country Name\",\"Indicator Name\",\"Indicator Code\")"
   ]
  },
  {
   "cell_type": "markdown",
   "id": "40a1ec5a-3729-4153-93e1-61be5d1d6adb",
   "metadata": {},
   "source": [
    "# Crecimiento de la población (% anual)\n",
    "\n",
    "Annual population growth rate for year t is the exponential rate of growth of midyear population from year t-1 to t, expressed as a percentage . Population is based on the de facto definition of population, which counts all residents regardless of legal status or citizenship.\n",
    "\n",
    "https://datos.bancomundial.org/indicador/SP.POP.GROW?view=chart\n"
   ]
  },
  {
   "cell_type": "code",
   "execution_count": 139,
   "id": "5b65cc53-7235-41d2-9bfc-1e15c579f408",
   "metadata": {
    "execution": {
     "iopub.execute_input": "2023-06-06T05:59:00.660139Z",
     "iopub.status.busy": "2023-06-06T05:59:00.659872Z",
     "iopub.status.idle": "2023-06-06T05:59:00.665676Z",
     "shell.execute_reply": "2023-06-06T05:59:00.665218Z",
     "shell.execute_reply.started": "2023-06-06T05:59:00.660117Z"
    },
    "tags": []
   },
   "outputs": [],
   "source": [
    "url_11 =\"https://api.worldbank.org/v2/es/indicator/SP.POP.GROW?downloadformat=csv\""
   ]
  },
  {
   "cell_type": "code",
   "execution_count": 140,
   "id": "3a20d64a-0669-4c78-8526-3c3243632b0a",
   "metadata": {
    "execution": {
     "iopub.execute_input": "2023-06-06T05:59:00.666421Z",
     "iopub.status.busy": "2023-06-06T05:59:00.666262Z",
     "iopub.status.idle": "2023-06-06T05:59:02.000810Z",
     "shell.execute_reply": "2023-06-06T05:59:01.999718Z",
     "shell.execute_reply.started": "2023-06-06T05:59:00.666404Z"
    },
    "tags": []
   },
   "outputs": [],
   "source": [
    "response_url_11 = requests.get(url_11)"
   ]
  },
  {
   "cell_type": "code",
   "execution_count": 141,
   "id": "d8c42950-cab1-4038-b886-36ce89526134",
   "metadata": {
    "execution": {
     "iopub.execute_input": "2023-06-06T05:59:02.003803Z",
     "iopub.status.busy": "2023-06-06T05:59:02.003398Z",
     "iopub.status.idle": "2023-06-06T05:59:02.015504Z",
     "shell.execute_reply": "2023-06-06T05:59:02.014368Z",
     "shell.execute_reply.started": "2023-06-06T05:59:02.003753Z"
    },
    "tags": []
   },
   "outputs": [
    {
     "name": "stdout",
     "output_type": "stream",
     "text": [
      "El archivo ZIP se ha descargado y descomprimido correctamente.\n"
     ]
    }
   ],
   "source": [
    "if response_url_11.status_code == 200:\n",
    "    # Crear un objeto ZipFile a partir de los datos de la respuesta\n",
    "    with zipfile.ZipFile(io.BytesIO(response_url_11.content), \"r\") as zip_url_11:\n",
    "        # Extraer todos los archivos del archivo ZIP en el directorio actual\n",
    "        zip_url_11.extractall(\"dataset\")\n",
    "\n",
    "    print(\"El archivo ZIP se ha descargado y descomprimido correctamente.\")\n",
    "else:\n",
    "    print(\"Error al descargar el archivo ZIP:\", response_url_11.status_code)"
   ]
  },
  {
   "cell_type": "code",
   "execution_count": 142,
   "id": "5516e733-4bad-4cd6-859b-1b3d486c643f",
   "metadata": {
    "execution": {
     "iopub.execute_input": "2023-06-06T05:59:02.017088Z",
     "iopub.status.busy": "2023-06-06T05:59:02.016742Z",
     "iopub.status.idle": "2023-06-06T05:59:02.024038Z",
     "shell.execute_reply": "2023-06-06T05:59:02.023055Z",
     "shell.execute_reply.started": "2023-06-06T05:59:02.017057Z"
    },
    "tags": []
   },
   "outputs": [],
   "source": [
    "# Ruta del archivo CSV\n",
    "\n",
    "csv_url_11 = \"dataset/API_SP.POP.GROW_DS2_es_csv_v2_5457838.csv\"\n",
    "\n",
    "# Crear una lista para almacenar las filas del archivo CSV\n",
    "rows_url_11 = []\n",
    "\n",
    "\n",
    "#API_SE.PRM.CMPT.ZS_DS2_es_csv_v2_5478942"
   ]
  },
  {
   "cell_type": "code",
   "execution_count": 143,
   "id": "dea46489-b89d-492b-973b-fd8d39dab44d",
   "metadata": {
    "execution": {
     "iopub.execute_input": "2023-06-06T05:59:02.025589Z",
     "iopub.status.busy": "2023-06-06T05:59:02.025230Z",
     "iopub.status.idle": "2023-06-06T05:59:02.044041Z",
     "shell.execute_reply": "2023-06-06T05:59:02.043457Z",
     "shell.execute_reply.started": "2023-06-06T05:59:02.025540Z"
    },
    "tags": []
   },
   "outputs": [],
   "source": [
    "# Leer el archivo CSV y almacenar las filas en la lista\n",
    "with open(csv_url_11, \"r\") as file_csv_url_11:\n",
    "    csv_reader_url_11 = csv.reader(file_csv_url_11)\n",
    "    rows_url_11 = list(csv_reader_url_11)\n"
   ]
  },
  {
   "cell_type": "code",
   "execution_count": 144,
   "id": "b69e1334-195f-46c5-beb8-06a82496ed38",
   "metadata": {
    "execution": {
     "iopub.execute_input": "2023-06-06T05:59:02.045169Z",
     "iopub.status.busy": "2023-06-06T05:59:02.044926Z",
     "iopub.status.idle": "2023-06-06T05:59:02.062007Z",
     "shell.execute_reply": "2023-06-06T05:59:02.061463Z",
     "shell.execute_reply.started": "2023-06-06T05:59:02.045144Z"
    },
    "tags": []
   },
   "outputs": [],
   "source": [
    "# Eliminar las primeras 4 filas\n",
    "\n",
    "rows_url_11 = rows_url_11[3:]\n",
    "\n",
    "# Escribir las filas modificadas en un nuevo archivo CSV\n",
    "with open(\"dataset/data/data_11.csv\", \"w\", newline=\"\") as file_csv_url_11:\n",
    "    csv_writer_url_11 = csv.writer(file_csv_url_11)\n",
    "    csv_writer_url_11.writerows(rows_url_11)"
   ]
  },
  {
   "cell_type": "code",
   "execution_count": 145,
   "id": "dc6824a5-42a2-4fb7-ada1-19f42766e1f6",
   "metadata": {
    "execution": {
     "iopub.execute_input": "2023-06-06T05:59:02.062764Z",
     "iopub.status.busy": "2023-06-06T05:59:02.062590Z",
     "iopub.status.idle": "2023-06-06T05:59:02.131158Z",
     "shell.execute_reply": "2023-06-06T05:59:02.130473Z",
     "shell.execute_reply.started": "2023-06-06T05:59:02.062749Z"
    },
    "tags": []
   },
   "outputs": [],
   "source": [
    "data_11 = spark.read.csv(\"dataset/data/data_11.csv\", header=True)"
   ]
  },
  {
   "cell_type": "code",
   "execution_count": 146,
   "id": "4562ac73-06bf-4cba-bfd5-94ba9cf08022",
   "metadata": {
    "execution": {
     "iopub.execute_input": "2023-06-06T05:59:02.132476Z",
     "iopub.status.busy": "2023-06-06T05:59:02.132146Z",
     "iopub.status.idle": "2023-06-06T05:59:02.140832Z",
     "shell.execute_reply": "2023-06-06T05:59:02.140198Z",
     "shell.execute_reply.started": "2023-06-06T05:59:02.132449Z"
    },
    "tags": []
   },
   "outputs": [],
   "source": [
    "data_11 = data_11.drop(\"_c66\",\"_c67\")"
   ]
  },
  {
   "cell_type": "code",
   "execution_count": 147,
   "id": "8359a701-c878-45d3-8413-eda73958eacb",
   "metadata": {
    "execution": {
     "iopub.execute_input": "2023-06-06T05:59:02.141996Z",
     "iopub.status.busy": "2023-06-06T05:59:02.141752Z",
     "iopub.status.idle": "2023-06-06T05:59:02.383869Z",
     "shell.execute_reply": "2023-06-06T05:59:02.383296Z",
     "shell.execute_reply.started": "2023-06-06T05:59:02.141973Z"
    },
    "tags": []
   },
   "outputs": [
    {
     "data": {
      "text/html": [
       "<div>\n",
       "<style scoped>\n",
       "    .dataframe tbody tr th:only-of-type {\n",
       "        vertical-align: middle;\n",
       "    }\n",
       "\n",
       "    .dataframe tbody tr th {\n",
       "        vertical-align: top;\n",
       "    }\n",
       "\n",
       "    .dataframe thead th {\n",
       "        text-align: right;\n",
       "    }\n",
       "</style>\n",
       "<table border=\"1\" class=\"dataframe\">\n",
       "  <thead>\n",
       "    <tr style=\"text-align: right;\">\n",
       "      <th></th>\n",
       "      <th>Country Name</th>\n",
       "      <th>Country Code</th>\n",
       "      <th>Indicator Name</th>\n",
       "      <th>Indicator Code</th>\n",
       "      <th>1960</th>\n",
       "      <th>1961</th>\n",
       "      <th>1962</th>\n",
       "      <th>1963</th>\n",
       "      <th>1964</th>\n",
       "      <th>1965</th>\n",
       "      <th>1966</th>\n",
       "      <th>1967</th>\n",
       "      <th>1968</th>\n",
       "      <th>1969</th>\n",
       "      <th>1970</th>\n",
       "      <th>1971</th>\n",
       "      <th>1972</th>\n",
       "      <th>1973</th>\n",
       "      <th>1974</th>\n",
       "      <th>1975</th>\n",
       "      <th>1976</th>\n",
       "      <th>1977</th>\n",
       "      <th>1978</th>\n",
       "      <th>1979</th>\n",
       "      <th>1980</th>\n",
       "      <th>1981</th>\n",
       "      <th>1982</th>\n",
       "      <th>1983</th>\n",
       "      <th>1984</th>\n",
       "      <th>1985</th>\n",
       "      <th>1986</th>\n",
       "      <th>1987</th>\n",
       "      <th>1988</th>\n",
       "      <th>1989</th>\n",
       "      <th>1990</th>\n",
       "      <th>1991</th>\n",
       "      <th>1992</th>\n",
       "      <th>1993</th>\n",
       "      <th>1994</th>\n",
       "      <th>1995</th>\n",
       "      <th>1996</th>\n",
       "      <th>1997</th>\n",
       "      <th>1998</th>\n",
       "      <th>1999</th>\n",
       "      <th>2000</th>\n",
       "      <th>2001</th>\n",
       "      <th>2002</th>\n",
       "      <th>2003</th>\n",
       "      <th>2004</th>\n",
       "      <th>2005</th>\n",
       "      <th>2006</th>\n",
       "      <th>2007</th>\n",
       "      <th>2008</th>\n",
       "      <th>2009</th>\n",
       "      <th>2010</th>\n",
       "      <th>2011</th>\n",
       "      <th>2012</th>\n",
       "      <th>2013</th>\n",
       "      <th>2014</th>\n",
       "      <th>2015</th>\n",
       "      <th>2016</th>\n",
       "      <th>2017</th>\n",
       "      <th>2018</th>\n",
       "      <th>2019</th>\n",
       "      <th>2020</th>\n",
       "      <th>2021</th>\n",
       "      <th>2022</th>\n",
       "    </tr>\n",
       "  </thead>\n",
       "  <tbody>\n",
       "    <tr>\n",
       "      <th>0</th>\n",
       "      <td>Aruba</td>\n",
       "      <td>ABW</td>\n",
       "      <td>Crecimiento de la población (% anual)</td>\n",
       "      <td>SP.POP.GROW</td>\n",
       "      <td>None</td>\n",
       "      <td>2.17905904113205</td>\n",
       "      <td>1.54857174393805</td>\n",
       "      <td>1.3893370634193</td>\n",
       "      <td>1.21572057526871</td>\n",
       "      <td>1.03284091886278</td>\n",
       "      <td>0.86218382371151</td>\n",
       "      <td>0.388846828315926</td>\n",
       "      <td>-0.0857193332764354</td>\n",
       "      <td>-0.237371850751822</td>\n",
       "      <td>-0.378263816895484</td>\n",
       "      <td>-0.491851536837525</td>\n",
       "      <td>0.0662865131222005</td>\n",
       "      <td>0.862803525331165</td>\n",
       "      <td>1.11062929159876</td>\n",
       "      <td>1.13796644720391</td>\n",
       "      <td>0.784201938574436</td>\n",
       "      <td>0.443510322777766</td>\n",
       "      <td>0.443171752006989</td>\n",
       "      <td>0.433152991694554</td>\n",
       "      <td>0.420043587504175</td>\n",
       "      <td>0.555730484303276</td>\n",
       "      <td>0.798540789902855</td>\n",
       "      <td>0.894334780580153</td>\n",
       "      <td>0.768049326467615</td>\n",
       "      <td>0.472593610369669</td>\n",
       "      <td>0.116251146540699</td>\n",
       "      <td>-0.159686242780767</td>\n",
       "      <td>-0.183255475179547</td>\n",
       "      <td>0.409531473341962</td>\n",
       "      <td>1.71290678473822</td>\n",
       "      <td>3.22241452912309</td>\n",
       "      <td>3.37286419184246</td>\n",
       "      <td>3.04193161032362</td>\n",
       "      <td>3.19602914606154</td>\n",
       "      <td>3.08406097784149</td>\n",
       "      <td>3.02578893630418</td>\n",
       "      <td>3.02735876796255</td>\n",
       "      <td>3.00480452491461</td>\n",
       "      <td>2.93441292558764</td>\n",
       "      <td>2.53923444445246</td>\n",
       "      <td>1.76875662143885</td>\n",
       "      <td>1.19471805545637</td>\n",
       "      <td>0.997395547284924</td>\n",
       "      <td>0.900989229759957</td>\n",
       "      <td>1.00307718391638</td>\n",
       "      <td>1.18156554573069</td>\n",
       "      <td>1.22771081489399</td>\n",
       "      <td>1.24139737678817</td>\n",
       "      <td>1.23323132057229</td>\n",
       "      <td>1.13154104048985</td>\n",
       "      <td>0.939355909629835</td>\n",
       "      <td>0.810230587788097</td>\n",
       "      <td>0.749301039347625</td>\n",
       "      <td>0.691615260101675</td>\n",
       "      <td>0.63795916173479</td>\n",
       "      <td>0.590062487333077</td>\n",
       "      <td>0.537295706145068</td>\n",
       "      <td>0.494795263046989</td>\n",
       "      <td>0.451969658863314</td>\n",
       "      <td>0.134255302359952</td>\n",
       "      <td>-0.0450446230906329</td>\n",
       "      <td>None</td>\n",
       "    </tr>\n",
       "    <tr>\n",
       "      <th>1</th>\n",
       "      <td>None</td>\n",
       "      <td>AFE</td>\n",
       "      <td>Crecimiento de la población (% anual)</td>\n",
       "      <td>SP.POP.GROW</td>\n",
       "      <td>None</td>\n",
       "      <td>2.66018011627118</td>\n",
       "      <td>2.73263311469827</td>\n",
       "      <td>2.75324827208996</td>\n",
       "      <td>2.80691497157682</td>\n",
       "      <td>2.84078687831499</td>\n",
       "      <td>2.81360949114521</td>\n",
       "      <td>2.83050527400394</td>\n",
       "      <td>2.88158851658864</td>\n",
       "      <td>2.89853202978372</td>\n",
       "      <td>2.91152613520499</td>\n",
       "      <td>2.91485587604232</td>\n",
       "      <td>2.87088142744661</td>\n",
       "      <td>2.90393831750268</td>\n",
       "      <td>2.98629564506714</td>\n",
       "      <td>2.98240909513056</td>\n",
       "      <td>2.96980990535009</td>\n",
       "      <td>2.88409601533984</td>\n",
       "      <td>3.01273283156685</td>\n",
       "      <td>3.14259397423467</td>\n",
       "      <td>2.96540623601945</td>\n",
       "      <td>3.01756402832467</td>\n",
       "      <td>3.13076216275165</td>\n",
       "      <td>3.01280081105612</td>\n",
       "      <td>2.93908811438321</td>\n",
       "      <td>2.97029294692479</td>\n",
       "      <td>3.02226383813252</td>\n",
       "      <td>3.06281660734588</td>\n",
       "      <td>2.91918186875581</td>\n",
       "      <td>2.84488762052256</td>\n",
       "      <td>2.91101286615705</td>\n",
       "      <td>2.79241035799646</td>\n",
       "      <td>2.63368225866559</td>\n",
       "      <td>2.65852640219622</td>\n",
       "      <td>2.6199545435715</td>\n",
       "      <td>2.62710702979302</td>\n",
       "      <td>2.69309772778222</td>\n",
       "      <td>2.5803841220214</td>\n",
       "      <td>2.51465393399148</td>\n",
       "      <td>2.55966248170103</td>\n",
       "      <td>2.5835792421522</td>\n",
       "      <td>2.58996060035651</td>\n",
       "      <td>2.60659802563768</td>\n",
       "      <td>2.617764283814</td>\n",
       "      <td>2.64496843028186</td>\n",
       "      <td>2.66624158730311</td>\n",
       "      <td>2.70252112091536</td>\n",
       "      <td>2.74710885116298</td>\n",
       "      <td>2.76581597609149</td>\n",
       "      <td>2.75574529766985</td>\n",
       "      <td>2.75792914247424</td>\n",
       "      <td>2.73818484544645</td>\n",
       "      <td>2.74040483423965</td>\n",
       "      <td>2.78015724354725</td>\n",
       "      <td>2.7749916302289</td>\n",
       "      <td>2.80258713657233</td>\n",
       "      <td>2.72815977582972</td>\n",
       "      <td>2.65567277976353</td>\n",
       "      <td>2.68837259222772</td>\n",
       "      <td>2.69113551540509</td>\n",
       "      <td>2.67818481620223</td>\n",
       "      <td>2.60747273691268</td>\n",
       "      <td>None</td>\n",
       "    </tr>\n",
       "    <tr>\n",
       "      <th>2</th>\n",
       "      <td>Afganistán</td>\n",
       "      <td>AFG</td>\n",
       "      <td>Crecimiento de la población (% anual)</td>\n",
       "      <td>SP.POP.GROW</td>\n",
       "      <td>None</td>\n",
       "      <td>1.92595161110872</td>\n",
       "      <td>2.01487886339461</td>\n",
       "      <td>2.07899662655224</td>\n",
       "      <td>2.13965084372647</td>\n",
       "      <td>2.21600692082533</td>\n",
       "      <td>2.25352401228011</td>\n",
       "      <td>2.29263788976095</td>\n",
       "      <td>2.34735064349307</td>\n",
       "      <td>2.37891654743303</td>\n",
       "      <td>2.43318262480668</td>\n",
       "      <td>2.41536917407618</td>\n",
       "      <td>2.42939569274321</td>\n",
       "      <td>2.52442123659969</td>\n",
       "      <td>2.51300652866696</td>\n",
       "      <td>2.39328715201941</td>\n",
       "      <td>2.17951743613923</td>\n",
       "      <td>2.08695112645253</td>\n",
       "      <td>1.96337688969092</td>\n",
       "      <td>0.366492805213276</td>\n",
       "      <td>-3.92417169353628</td>\n",
       "      <td>-11.2753243281662</td>\n",
       "      <td>-10.0530062531184</td>\n",
       "      <td>-1.36570774423119</td>\n",
       "      <td>2.89433470700097</td>\n",
       "      <td>2.58769693348811</td>\n",
       "      <td>-0.608560872677256</td>\n",
       "      <td>-1.21019039755447</td>\n",
       "      <td>0.586318311683292</td>\n",
       "      <td>2.75187729340688</td>\n",
       "      <td>0.202433955671883</td>\n",
       "      <td>0.469880406765633</td>\n",
       "      <td>11.5225244151801</td>\n",
       "      <td>14.9644548746872</td>\n",
       "      <td>9.86426206628341</td>\n",
       "      <td>6.04653555233991</td>\n",
       "      <td>4.1030220499493</td>\n",
       "      <td>3.9106052193522</td>\n",
       "      <td>3.88293060489748</td>\n",
       "      <td>4.07787948472197</td>\n",
       "      <td>1.4438030241194</td>\n",
       "      <td>0.742516834396313</td>\n",
       "      <td>6.44932147797304</td>\n",
       "      <td>7.54101896480183</td>\n",
       "      <td>3.93317768847308</td>\n",
       "      <td>3.57650800354462</td>\n",
       "      <td>4.13967803534352</td>\n",
       "      <td>1.79319572747206</td>\n",
       "      <td>2.00233326232255</td>\n",
       "      <td>3.56128837446668</td>\n",
       "      <td>2.89490410370988</td>\n",
       "      <td>3.68950830230738</td>\n",
       "      <td>4.07762772858795</td>\n",
       "      <td>3.46678830410982</td>\n",
       "      <td>3.65757606530364</td>\n",
       "      <td>3.12134122890873</td>\n",
       "      <td>2.58154939895659</td>\n",
       "      <td>2.86649214750073</td>\n",
       "      <td>2.88520797304849</td>\n",
       "      <td>2.90852909268743</td>\n",
       "      <td>3.13474690779163</td>\n",
       "      <td>2.85135765449931</td>\n",
       "      <td>None</td>\n",
       "    </tr>\n",
       "  </tbody>\n",
       "</table>\n",
       "</div>"
      ],
      "text/plain": [
       "  Country Name Country Code                         Indicator Name Indicator Code  1960              1961              1962              1963              1964              1965              1966               1967                 1968                1969                1970                1971                1972               1973              1974              1975               1976               1977               1978               1979               1980               1981               1982               1983               1984               1985                1986                1987                1988               1989               1990               1991              1992              1993              1994              1995              1996              1997              1998              1999              2000               2001              2002               2003               2004              2005              2006              2007              2008              2009              2010               2011               2012               2013               2014              2015               2016               2017               2018               2019               2020                 2021  2022\n",
       "0        Aruba          ABW  Crecimiento de la población (% anual)    SP.POP.GROW  None  2.17905904113205  1.54857174393805   1.3893370634193  1.21572057526871  1.03284091886278  0.86218382371151  0.388846828315926  -0.0857193332764354  -0.237371850751822  -0.378263816895484  -0.491851536837525  0.0662865131222005  0.862803525331165  1.11062929159876  1.13796644720391  0.784201938574436  0.443510322777766  0.443171752006989  0.433152991694554  0.420043587504175  0.555730484303276  0.798540789902855  0.894334780580153  0.768049326467615  0.472593610369669   0.116251146540699  -0.159686242780767  -0.183255475179547  0.409531473341962   1.71290678473822   3.22241452912309  3.37286419184246  3.04193161032362  3.19602914606154  3.08406097784149  3.02578893630418  3.02735876796255  3.00480452491461  2.93441292558764  2.53923444445246   1.76875662143885  1.19471805545637  0.997395547284924  0.900989229759957  1.00307718391638  1.18156554573069  1.22771081489399  1.24139737678817  1.23323132057229  1.13154104048985  0.939355909629835  0.810230587788097  0.749301039347625  0.691615260101675  0.63795916173479  0.590062487333077  0.537295706145068  0.494795263046989  0.451969658863314  0.134255302359952  -0.0450446230906329  None\n",
       "1         None          AFE  Crecimiento de la población (% anual)    SP.POP.GROW  None  2.66018011627118  2.73263311469827  2.75324827208996  2.80691497157682  2.84078687831499  2.81360949114521   2.83050527400394     2.88158851658864    2.89853202978372    2.91152613520499    2.91485587604232    2.87088142744661   2.90393831750268  2.98629564506714  2.98240909513056   2.96980990535009   2.88409601533984   3.01273283156685   3.14259397423467   2.96540623601945   3.01756402832467   3.13076216275165   3.01280081105612   2.93908811438321   2.97029294692479    3.02226383813252    3.06281660734588    2.91918186875581   2.84488762052256   2.91101286615705   2.79241035799646  2.63368225866559  2.65852640219622   2.6199545435715  2.62710702979302  2.69309772778222   2.5803841220214  2.51465393399148  2.55966248170103   2.5835792421522   2.58996060035651  2.60659802563768     2.617764283814   2.64496843028186  2.66624158730311  2.70252112091536  2.74710885116298  2.76581597609149  2.75574529766985  2.75792914247424   2.73818484544645   2.74040483423965   2.78015724354725    2.7749916302289  2.80258713657233   2.72815977582972   2.65567277976353   2.68837259222772   2.69113551540509   2.67818481620223     2.60747273691268  None\n",
       "2   Afganistán          AFG  Crecimiento de la población (% anual)    SP.POP.GROW  None  1.92595161110872  2.01487886339461  2.07899662655224  2.13965084372647  2.21600692082533  2.25352401228011   2.29263788976095     2.34735064349307    2.37891654743303    2.43318262480668    2.41536917407618    2.42939569274321   2.52442123659969  2.51300652866696  2.39328715201941   2.17951743613923   2.08695112645253   1.96337688969092  0.366492805213276  -3.92417169353628  -11.2753243281662  -10.0530062531184  -1.36570774423119   2.89433470700097   2.58769693348811  -0.608560872677256   -1.21019039755447   0.586318311683292   2.75187729340688  0.202433955671883  0.469880406765633  11.5225244151801  14.9644548746872  9.86426206628341  6.04653555233991   4.1030220499493   3.9106052193522  3.88293060489748  4.07787948472197   1.4438030241194  0.742516834396313  6.44932147797304   7.54101896480183   3.93317768847308  3.57650800354462  4.13967803534352  1.79319572747206  2.00233326232255  3.56128837446668  2.89490410370988   3.68950830230738   4.07762772858795   3.46678830410982   3.65757606530364  3.12134122890873   2.58154939895659   2.86649214750073   2.88520797304849   2.90852909268743   3.13474690779163     2.85135765449931  None"
      ]
     },
     "execution_count": 147,
     "metadata": {},
     "output_type": "execute_result"
    }
   ],
   "source": [
    "data_11.limit(3).pandas_api()\n"
   ]
  },
  {
   "cell_type": "code",
   "execution_count": 148,
   "id": "03e56d82-6541-40a8-88ab-2070d30851fe",
   "metadata": {
    "execution": {
     "iopub.execute_input": "2023-06-06T05:59:02.384951Z",
     "iopub.status.busy": "2023-06-06T05:59:02.384695Z",
     "iopub.status.idle": "2023-06-06T05:59:02.400664Z",
     "shell.execute_reply": "2023-06-06T05:59:02.400123Z",
     "shell.execute_reply.started": "2023-06-06T05:59:02.384932Z"
    },
    "tags": []
   },
   "outputs": [],
   "source": [
    "data_11 = data_11.selectExpr('`Country Name`', '`Country Code`', \"`Indicator Name`\", \"`Indicator Code`\", \"stack(63, \\\n",
    "'1960', `1960`, '1961', `1961`, '1962', `1962`, '1963', `1963`, '1964', `1964`, \\\n",
    "'1965', `1965`, '1966', `1966`, '1967', `1967`, '1968', `1968`, '1969', `1969`, \\\n",
    "'1970', `1970`, '1971', `1971`, '1972', `1972`, '1973', `1973`, '1974', `1974`, \\\n",
    "'1975', `1975`, '1976', `1976`, '1977', `1977`, '1978', `1978`, '1979', `1979`, \\\n",
    "'1980', `1980`, '1981', `1981`, '1982', `1982`, '1983', `1983`, '1984', `1984`, \\\n",
    "'1985', `1985`, '1986', `1986`, '1987', `1987`, '1988', `1988`, '1989', `1989`, \\\n",
    "'1990', `1990`, '1991', `1991`, '1992', `1992`, '1993', `1993`, '1994', `1994`, \\\n",
    "'1995', `1995`, '1996', `1996`, '1997', `1997`, '1998', `1998`, '1999', `1999`, \\\n",
    "'2010', `2010`, '2011', `2011`, '2012', `2012`, '2013', `2013`, '2014', `2014`, \\\n",
    "'2015', `2015`, '2016', `2016`, '2017', `2017`, '2018', `2018`, '2019', `2019`, \\\n",
    "'2010', `2010`, '2011', `2011`, '2012', `2012`, '2013', `2013`, '2014', `2014`, \\\n",
    "'2015', `2015`, '2016', `2016`, '2017', `2017`, '2018', `2018`, '2019', `2019`, \\\n",
    "'2020', `2020`, '2021', `2021`, '2022', `2022`) as (Year, ratio_population_growth)\")"
   ]
  },
  {
   "cell_type": "code",
   "execution_count": 149,
   "id": "0b2f8c4c-0c8b-4a09-861a-0c179a38fd43",
   "metadata": {
    "execution": {
     "iopub.execute_input": "2023-06-06T05:59:02.401655Z",
     "iopub.status.busy": "2023-06-06T05:59:02.401344Z",
     "iopub.status.idle": "2023-06-06T05:59:02.597583Z",
     "shell.execute_reply": "2023-06-06T05:59:02.596942Z",
     "shell.execute_reply.started": "2023-06-06T05:59:02.401638Z"
    },
    "tags": []
   },
   "outputs": [
    {
     "data": {
      "text/html": [
       "<div>\n",
       "<style scoped>\n",
       "    .dataframe tbody tr th:only-of-type {\n",
       "        vertical-align: middle;\n",
       "    }\n",
       "\n",
       "    .dataframe tbody tr th {\n",
       "        vertical-align: top;\n",
       "    }\n",
       "\n",
       "    .dataframe thead th {\n",
       "        text-align: right;\n",
       "    }\n",
       "</style>\n",
       "<table border=\"1\" class=\"dataframe\">\n",
       "  <thead>\n",
       "    <tr style=\"text-align: right;\">\n",
       "      <th></th>\n",
       "      <th>Country Name</th>\n",
       "      <th>Country Code</th>\n",
       "      <th>Indicator Name</th>\n",
       "      <th>Indicator Code</th>\n",
       "      <th>Year</th>\n",
       "      <th>ratio_population_growth</th>\n",
       "    </tr>\n",
       "  </thead>\n",
       "  <tbody>\n",
       "    <tr>\n",
       "      <th>0</th>\n",
       "      <td>None</td>\n",
       "      <td>AFE</td>\n",
       "      <td>Crecimiento de la población (% anual)</td>\n",
       "      <td>SP.POP.GROW</td>\n",
       "      <td>1993</td>\n",
       "      <td>2.65852640219622</td>\n",
       "    </tr>\n",
       "    <tr>\n",
       "      <th>1</th>\n",
       "      <td>Cabo Verde</td>\n",
       "      <td>CPV</td>\n",
       "      <td>Crecimiento de la población (% anual)</td>\n",
       "      <td>SP.POP.GROW</td>\n",
       "      <td>2016</td>\n",
       "      <td>1.12160806985756</td>\n",
       "    </tr>\n",
       "    <tr>\n",
       "      <th>2</th>\n",
       "      <td>Israel</td>\n",
       "      <td>ISR</td>\n",
       "      <td>Crecimiento de la población (% anual)</td>\n",
       "      <td>SP.POP.GROW</td>\n",
       "      <td>1988</td>\n",
       "      <td>1.65705755029368</td>\n",
       "    </tr>\n",
       "  </tbody>\n",
       "</table>\n",
       "</div>"
      ],
      "text/plain": [
       "  Country Name Country Code                         Indicator Name Indicator Code  Year ratio_population_growth\n",
       "0         None          AFE  Crecimiento de la población (% anual)    SP.POP.GROW  1993        2.65852640219622\n",
       "1   Cabo Verde          CPV  Crecimiento de la población (% anual)    SP.POP.GROW  2016        1.12160806985756\n",
       "2       Israel          ISR  Crecimiento de la población (% anual)    SP.POP.GROW  1988        1.65705755029368"
      ]
     },
     "execution_count": 149,
     "metadata": {},
     "output_type": "execute_result"
    }
   ],
   "source": [
    "data_11.sample(False, 3/data_11.count(), seed=150).limit(3).pandas_api()\n"
   ]
  },
  {
   "cell_type": "code",
   "execution_count": 150,
   "id": "03543346-2ae0-4989-8118-f2ee0686575b",
   "metadata": {
    "execution": {
     "iopub.execute_input": "2023-06-06T05:59:02.598603Z",
     "iopub.status.busy": "2023-06-06T05:59:02.598334Z",
     "iopub.status.idle": "2023-06-06T05:59:02.604601Z",
     "shell.execute_reply": "2023-06-06T05:59:02.603950Z",
     "shell.execute_reply.started": "2023-06-06T05:59:02.598578Z"
    },
    "tags": []
   },
   "outputs": [],
   "source": [
    "data_11 = data_11.drop(\"Country Name\",\"Indicator Name\",\"Indicator Code\")"
   ]
  },
  {
   "cell_type": "markdown",
   "id": "87fe59aa-6e60-4c2f-9324-eebffaed626f",
   "metadata": {
    "execution": {
     "iopub.execute_input": "2023-06-04T12:45:21.389511Z",
     "iopub.status.busy": "2023-06-04T12:45:21.389177Z",
     "iopub.status.idle": "2023-06-04T12:45:21.396864Z",
     "shell.execute_reply": "2023-06-04T12:45:21.395665Z",
     "shell.execute_reply.started": "2023-06-04T12:45:21.389482Z"
    },
    "tags": []
   },
   "source": [
    "# Mortalidad provocada por enfermedades cardiovasculares, cáncer, diabetes o enfermedades respiratorias crónicas entre las edades exactas de 30 y 70 años (%)\n",
    "\n",
    "\n",
    "Mortality from CVD, cancer, diabetes or CRD is the percent of 30-year-old-people who would die before their 70th birthday from any of cardiovascular disease, cancer, diabetes, or chronic respiratory disease, assuming that s/he would experience current mortality rates at every age and s/he would not die from any other cause of death (e.g., injuries or HIV/AIDS).\n",
    "\n",
    "https://datos.bancomundial.org/indicador/SH.DYN.NCOM.ZS?view=chart"
   ]
  },
  {
   "cell_type": "code",
   "execution_count": 151,
   "id": "a74cf1f5-4a51-49f8-afd7-9c72dc5e2fc4",
   "metadata": {
    "execution": {
     "iopub.execute_input": "2023-06-06T05:59:02.605749Z",
     "iopub.status.busy": "2023-06-06T05:59:02.605332Z",
     "iopub.status.idle": "2023-06-06T05:59:02.612703Z",
     "shell.execute_reply": "2023-06-06T05:59:02.612037Z",
     "shell.execute_reply.started": "2023-06-06T05:59:02.605725Z"
    },
    "tags": []
   },
   "outputs": [],
   "source": [
    "url_12 =\"https://api.worldbank.org/v2/es/indicator/SH.DYN.NCOM.ZS?downloadformat=csv\""
   ]
  },
  {
   "cell_type": "code",
   "execution_count": 152,
   "id": "18385bba-1fee-4b75-9870-fdfb38dbd736",
   "metadata": {
    "execution": {
     "iopub.execute_input": "2023-06-06T05:59:02.613924Z",
     "iopub.status.busy": "2023-06-06T05:59:02.613464Z",
     "iopub.status.idle": "2023-06-06T05:59:03.626268Z",
     "shell.execute_reply": "2023-06-06T05:59:03.625734Z",
     "shell.execute_reply.started": "2023-06-06T05:59:02.613899Z"
    },
    "tags": []
   },
   "outputs": [],
   "source": [
    "response_url_12 = requests.get(url_12)"
   ]
  },
  {
   "cell_type": "code",
   "execution_count": 153,
   "id": "4617c510-e093-4eb2-a9bb-226665e52fa1",
   "metadata": {
    "execution": {
     "iopub.execute_input": "2023-06-06T05:59:03.627360Z",
     "iopub.status.busy": "2023-06-06T05:59:03.627203Z",
     "iopub.status.idle": "2023-06-06T05:59:03.632281Z",
     "shell.execute_reply": "2023-06-06T05:59:03.631765Z",
     "shell.execute_reply.started": "2023-06-06T05:59:03.627344Z"
    },
    "tags": []
   },
   "outputs": [
    {
     "name": "stdout",
     "output_type": "stream",
     "text": [
      "El archivo ZIP se ha descargado y descomprimido correctamente.\n"
     ]
    }
   ],
   "source": [
    "if response_url_12.status_code == 200:\n",
    "    # Crear un objeto ZipFile a partir de los datos de la respuesta\n",
    "    with zipfile.ZipFile(io.BytesIO(response_url_12.content), \"r\") as zip_url_12:\n",
    "        # Extraer todos los archivos del archivo ZIP en el directorio actual\n",
    "        zip_url_12.extractall(\"dataset\")\n",
    "\n",
    "    print(\"El archivo ZIP se ha descargado y descomprimido correctamente.\")\n",
    "else:\n",
    "    print(\"Error al descargar el archivo ZIP:\", response_url_12.status_code)"
   ]
  },
  {
   "cell_type": "code",
   "execution_count": 154,
   "id": "48c697a1-3c66-4b20-9e4a-67f988d817ff",
   "metadata": {
    "execution": {
     "iopub.execute_input": "2023-06-06T05:59:03.633169Z",
     "iopub.status.busy": "2023-06-06T05:59:03.632937Z",
     "iopub.status.idle": "2023-06-06T05:59:03.644555Z",
     "shell.execute_reply": "2023-06-06T05:59:03.644001Z",
     "shell.execute_reply.started": "2023-06-06T05:59:03.633153Z"
    },
    "tags": []
   },
   "outputs": [],
   "source": [
    "# Ruta del archivo CSV\n",
    "\n",
    "csv_url_12 = \"dataset/API_SH.DYN.NCOM.ZS_DS2_es_csv_v2_5476465.csv\"\n",
    "\n",
    "# Crear una lista para almacenar las filas del archivo CSV\n",
    "rows_url_12 = []\n",
    "\n",
    "\n",
    "#API_SE.PRM.CMPT.ZS_DS2_es_csv_v2_5478942"
   ]
  },
  {
   "cell_type": "code",
   "execution_count": 155,
   "id": "b201287b-a522-4010-99a2-6464d4b5ec76",
   "metadata": {
    "execution": {
     "iopub.execute_input": "2023-06-06T05:59:03.645425Z",
     "iopub.status.busy": "2023-06-06T05:59:03.645228Z",
     "iopub.status.idle": "2023-06-06T05:59:03.655836Z",
     "shell.execute_reply": "2023-06-06T05:59:03.655243Z",
     "shell.execute_reply.started": "2023-06-06T05:59:03.645410Z"
    },
    "tags": []
   },
   "outputs": [],
   "source": [
    "# Leer el archivo CSV y almacenar las filas en la lista\n",
    "with open(csv_url_12, \"r\") as file_csv_url_12:\n",
    "    csv_reader_url_12 = csv.reader(file_csv_url_12)\n",
    "    rows_url_12 = list(csv_reader_url_12)\n"
   ]
  },
  {
   "cell_type": "code",
   "execution_count": 156,
   "id": "f84cf681-dba4-4fb6-ae0a-3e1e0a93f5ae",
   "metadata": {
    "execution": {
     "iopub.execute_input": "2023-06-06T05:59:03.656790Z",
     "iopub.status.busy": "2023-06-06T05:59:03.656464Z",
     "iopub.status.idle": "2023-06-06T05:59:03.666632Z",
     "shell.execute_reply": "2023-06-06T05:59:03.666057Z",
     "shell.execute_reply.started": "2023-06-06T05:59:03.656774Z"
    },
    "tags": []
   },
   "outputs": [],
   "source": [
    "# Eliminar las primeras 4 filas\n",
    "\n",
    "rows_url_12 = rows_url_12[3:]\n",
    "\n",
    "# Escribir las filas modificadas en un nuevo archivo CSV\n",
    "with open(\"dataset/data/data_12.csv\", \"w\", newline=\"\") as file_csv_url_12:\n",
    "    csv_writer_url_12 = csv.writer(file_csv_url_12)\n",
    "    csv_writer_url_12.writerows(rows_url_12)"
   ]
  },
  {
   "cell_type": "code",
   "execution_count": 157,
   "id": "873bbb6c-8bb7-4125-9e3c-20fb13569690",
   "metadata": {
    "execution": {
     "iopub.execute_input": "2023-06-06T05:59:03.667607Z",
     "iopub.status.busy": "2023-06-06T05:59:03.667310Z",
     "iopub.status.idle": "2023-06-06T05:59:03.744433Z",
     "shell.execute_reply": "2023-06-06T05:59:03.743867Z",
     "shell.execute_reply.started": "2023-06-06T05:59:03.667591Z"
    },
    "tags": []
   },
   "outputs": [],
   "source": [
    "data_12 = spark.read.csv(\"dataset/data/data_12.csv\", header=True)"
   ]
  },
  {
   "cell_type": "code",
   "execution_count": 158,
   "id": "a1b177e8-563e-493c-bc67-5da7776e931b",
   "metadata": {
    "execution": {
     "iopub.execute_input": "2023-06-06T05:59:03.745111Z",
     "iopub.status.busy": "2023-06-06T05:59:03.744957Z",
     "iopub.status.idle": "2023-06-06T05:59:03.751234Z",
     "shell.execute_reply": "2023-06-06T05:59:03.750673Z",
     "shell.execute_reply.started": "2023-06-06T05:59:03.745096Z"
    },
    "tags": []
   },
   "outputs": [],
   "source": [
    "data_12 = data_12.drop(\"_c66\",\"_c67\")"
   ]
  },
  {
   "cell_type": "code",
   "execution_count": 159,
   "id": "0844a5d9-4efe-4abe-b8ca-896ba2c5b2ff",
   "metadata": {
    "execution": {
     "iopub.execute_input": "2023-06-06T05:59:03.752086Z",
     "iopub.status.busy": "2023-06-06T05:59:03.751817Z",
     "iopub.status.idle": "2023-06-06T05:59:04.031384Z",
     "shell.execute_reply": "2023-06-06T05:59:04.030844Z",
     "shell.execute_reply.started": "2023-06-06T05:59:03.752070Z"
    },
    "tags": []
   },
   "outputs": [
    {
     "data": {
      "text/html": [
       "<div>\n",
       "<style scoped>\n",
       "    .dataframe tbody tr th:only-of-type {\n",
       "        vertical-align: middle;\n",
       "    }\n",
       "\n",
       "    .dataframe tbody tr th {\n",
       "        vertical-align: top;\n",
       "    }\n",
       "\n",
       "    .dataframe thead th {\n",
       "        text-align: right;\n",
       "    }\n",
       "</style>\n",
       "<table border=\"1\" class=\"dataframe\">\n",
       "  <thead>\n",
       "    <tr style=\"text-align: right;\">\n",
       "      <th></th>\n",
       "      <th>Country Name</th>\n",
       "      <th>Country Code</th>\n",
       "      <th>Indicator Name</th>\n",
       "      <th>Indicator Code</th>\n",
       "      <th>1960</th>\n",
       "      <th>1961</th>\n",
       "      <th>1962</th>\n",
       "      <th>1963</th>\n",
       "      <th>1964</th>\n",
       "      <th>1965</th>\n",
       "      <th>1966</th>\n",
       "      <th>1967</th>\n",
       "      <th>1968</th>\n",
       "      <th>1969</th>\n",
       "      <th>1970</th>\n",
       "      <th>1971</th>\n",
       "      <th>1972</th>\n",
       "      <th>1973</th>\n",
       "      <th>1974</th>\n",
       "      <th>1975</th>\n",
       "      <th>1976</th>\n",
       "      <th>1977</th>\n",
       "      <th>1978</th>\n",
       "      <th>1979</th>\n",
       "      <th>1980</th>\n",
       "      <th>1981</th>\n",
       "      <th>1982</th>\n",
       "      <th>1983</th>\n",
       "      <th>1984</th>\n",
       "      <th>1985</th>\n",
       "      <th>1986</th>\n",
       "      <th>1987</th>\n",
       "      <th>1988</th>\n",
       "      <th>1989</th>\n",
       "      <th>1990</th>\n",
       "      <th>1991</th>\n",
       "      <th>1992</th>\n",
       "      <th>1993</th>\n",
       "      <th>1994</th>\n",
       "      <th>1995</th>\n",
       "      <th>1996</th>\n",
       "      <th>1997</th>\n",
       "      <th>1998</th>\n",
       "      <th>1999</th>\n",
       "      <th>2000</th>\n",
       "      <th>2001</th>\n",
       "      <th>2002</th>\n",
       "      <th>2003</th>\n",
       "      <th>2004</th>\n",
       "      <th>2005</th>\n",
       "      <th>2006</th>\n",
       "      <th>2007</th>\n",
       "      <th>2008</th>\n",
       "      <th>2009</th>\n",
       "      <th>2010</th>\n",
       "      <th>2011</th>\n",
       "      <th>2012</th>\n",
       "      <th>2013</th>\n",
       "      <th>2014</th>\n",
       "      <th>2015</th>\n",
       "      <th>2016</th>\n",
       "      <th>2017</th>\n",
       "      <th>2018</th>\n",
       "      <th>2019</th>\n",
       "      <th>2020</th>\n",
       "      <th>2021</th>\n",
       "      <th>2022</th>\n",
       "    </tr>\n",
       "  </thead>\n",
       "  <tbody>\n",
       "    <tr>\n",
       "      <th>0</th>\n",
       "      <td>Aruba</td>\n",
       "      <td>ABW</td>\n",
       "      <td>Mortalidad provocada por enfermedades cardiova...</td>\n",
       "      <td>SH.DYN.NCOM.ZS</td>\n",
       "      <td>None</td>\n",
       "      <td>None</td>\n",
       "      <td>None</td>\n",
       "      <td>None</td>\n",
       "      <td>None</td>\n",
       "      <td>None</td>\n",
       "      <td>None</td>\n",
       "      <td>None</td>\n",
       "      <td>None</td>\n",
       "      <td>None</td>\n",
       "      <td>None</td>\n",
       "      <td>None</td>\n",
       "      <td>None</td>\n",
       "      <td>None</td>\n",
       "      <td>None</td>\n",
       "      <td>None</td>\n",
       "      <td>None</td>\n",
       "      <td>None</td>\n",
       "      <td>None</td>\n",
       "      <td>None</td>\n",
       "      <td>None</td>\n",
       "      <td>None</td>\n",
       "      <td>None</td>\n",
       "      <td>None</td>\n",
       "      <td>None</td>\n",
       "      <td>None</td>\n",
       "      <td>None</td>\n",
       "      <td>None</td>\n",
       "      <td>None</td>\n",
       "      <td>None</td>\n",
       "      <td>None</td>\n",
       "      <td>None</td>\n",
       "      <td>None</td>\n",
       "      <td>None</td>\n",
       "      <td>None</td>\n",
       "      <td>None</td>\n",
       "      <td>None</td>\n",
       "      <td>None</td>\n",
       "      <td>None</td>\n",
       "      <td>None</td>\n",
       "      <td>None</td>\n",
       "      <td>None</td>\n",
       "      <td>None</td>\n",
       "      <td>None</td>\n",
       "      <td>None</td>\n",
       "      <td>None</td>\n",
       "      <td>None</td>\n",
       "      <td>None</td>\n",
       "      <td>None</td>\n",
       "      <td>None</td>\n",
       "      <td>None</td>\n",
       "      <td>None</td>\n",
       "      <td>None</td>\n",
       "      <td>None</td>\n",
       "      <td>None</td>\n",
       "      <td>None</td>\n",
       "      <td>None</td>\n",
       "      <td>None</td>\n",
       "      <td>None</td>\n",
       "      <td>None</td>\n",
       "      <td>None</td>\n",
       "      <td>None</td>\n",
       "      <td>None</td>\n",
       "    </tr>\n",
       "    <tr>\n",
       "      <th>1</th>\n",
       "      <td>None</td>\n",
       "      <td>AFE</td>\n",
       "      <td>Mortalidad provocada por enfermedades cardiova...</td>\n",
       "      <td>SH.DYN.NCOM.ZS</td>\n",
       "      <td>None</td>\n",
       "      <td>None</td>\n",
       "      <td>None</td>\n",
       "      <td>None</td>\n",
       "      <td>None</td>\n",
       "      <td>None</td>\n",
       "      <td>None</td>\n",
       "      <td>None</td>\n",
       "      <td>None</td>\n",
       "      <td>None</td>\n",
       "      <td>None</td>\n",
       "      <td>None</td>\n",
       "      <td>None</td>\n",
       "      <td>None</td>\n",
       "      <td>None</td>\n",
       "      <td>None</td>\n",
       "      <td>None</td>\n",
       "      <td>None</td>\n",
       "      <td>None</td>\n",
       "      <td>None</td>\n",
       "      <td>None</td>\n",
       "      <td>None</td>\n",
       "      <td>None</td>\n",
       "      <td>None</td>\n",
       "      <td>None</td>\n",
       "      <td>None</td>\n",
       "      <td>None</td>\n",
       "      <td>None</td>\n",
       "      <td>None</td>\n",
       "      <td>None</td>\n",
       "      <td>None</td>\n",
       "      <td>None</td>\n",
       "      <td>None</td>\n",
       "      <td>None</td>\n",
       "      <td>None</td>\n",
       "      <td>None</td>\n",
       "      <td>None</td>\n",
       "      <td>None</td>\n",
       "      <td>None</td>\n",
       "      <td>None</td>\n",
       "      <td>28.2733800536648</td>\n",
       "      <td>27.6771368480359</td>\n",
       "      <td>27.3046489815554</td>\n",
       "      <td>27.0930191887463</td>\n",
       "      <td>26.7782522823306</td>\n",
       "      <td>26.5421519153433</td>\n",
       "      <td>26.3391682496035</td>\n",
       "      <td>26.0046378067277</td>\n",
       "      <td>25.8937010959456</td>\n",
       "      <td>25.6081986661493</td>\n",
       "      <td>25.1987976042742</td>\n",
       "      <td>24.759162211563</td>\n",
       "      <td>24.2751403652027</td>\n",
       "      <td>23.9400712460361</td>\n",
       "      <td>23.6305671729774</td>\n",
       "      <td>23.4504709976819</td>\n",
       "      <td>23.2102460795151</td>\n",
       "      <td>22.8814394017632</td>\n",
       "      <td>22.5315597289214</td>\n",
       "      <td>22.2638109969202</td>\n",
       "      <td>None</td>\n",
       "      <td>None</td>\n",
       "      <td>None</td>\n",
       "    </tr>\n",
       "    <tr>\n",
       "      <th>2</th>\n",
       "      <td>Afganistán</td>\n",
       "      <td>AFG</td>\n",
       "      <td>Mortalidad provocada por enfermedades cardiova...</td>\n",
       "      <td>SH.DYN.NCOM.ZS</td>\n",
       "      <td>None</td>\n",
       "      <td>None</td>\n",
       "      <td>None</td>\n",
       "      <td>None</td>\n",
       "      <td>None</td>\n",
       "      <td>None</td>\n",
       "      <td>None</td>\n",
       "      <td>None</td>\n",
       "      <td>None</td>\n",
       "      <td>None</td>\n",
       "      <td>None</td>\n",
       "      <td>None</td>\n",
       "      <td>None</td>\n",
       "      <td>None</td>\n",
       "      <td>None</td>\n",
       "      <td>None</td>\n",
       "      <td>None</td>\n",
       "      <td>None</td>\n",
       "      <td>None</td>\n",
       "      <td>None</td>\n",
       "      <td>None</td>\n",
       "      <td>None</td>\n",
       "      <td>None</td>\n",
       "      <td>None</td>\n",
       "      <td>None</td>\n",
       "      <td>None</td>\n",
       "      <td>None</td>\n",
       "      <td>None</td>\n",
       "      <td>None</td>\n",
       "      <td>None</td>\n",
       "      <td>None</td>\n",
       "      <td>None</td>\n",
       "      <td>None</td>\n",
       "      <td>None</td>\n",
       "      <td>None</td>\n",
       "      <td>None</td>\n",
       "      <td>None</td>\n",
       "      <td>None</td>\n",
       "      <td>None</td>\n",
       "      <td>None</td>\n",
       "      <td>41.7</td>\n",
       "      <td>42.1</td>\n",
       "      <td>42.1</td>\n",
       "      <td>41.5</td>\n",
       "      <td>41.4</td>\n",
       "      <td>40.9</td>\n",
       "      <td>40.5</td>\n",
       "      <td>40.1</td>\n",
       "      <td>39.4</td>\n",
       "      <td>38.4</td>\n",
       "      <td>37.8</td>\n",
       "      <td>37.1</td>\n",
       "      <td>36.6</td>\n",
       "      <td>36.2</td>\n",
       "      <td>35.7</td>\n",
       "      <td>35.6</td>\n",
       "      <td>35.6</td>\n",
       "      <td>35.5</td>\n",
       "      <td>35.4</td>\n",
       "      <td>35.3</td>\n",
       "      <td>None</td>\n",
       "      <td>None</td>\n",
       "      <td>None</td>\n",
       "    </tr>\n",
       "  </tbody>\n",
       "</table>\n",
       "</div>"
      ],
      "text/plain": [
       "  Country Name Country Code                                                                                                                                               Indicator Name  Indicator Code  1960  1961  1962  1963  1964  1965  1966  1967  1968  1969  1970  1971  1972  1973  1974  1975  1976  1977  1978  1979  1980  1981  1982  1983  1984  1985  1986  1987  1988  1989  1990  1991  1992  1993  1994  1995  1996  1997  1998  1999              2000              2001              2002              2003              2004              2005              2006              2007              2008              2009              2010             2011              2012              2013              2014              2015              2016              2017              2018              2019  2020  2021  2022\n",
       "0        Aruba          ABW  Mortalidad provocada por enfermedades cardiovasculares, cáncer, diabetes o enfermedades respiratorias crónicas entre las edades exactas de 30 y 70 años (%)  SH.DYN.NCOM.ZS  None  None  None  None  None  None  None  None  None  None  None  None  None  None  None  None  None  None  None  None  None  None  None  None  None  None  None  None  None  None  None  None  None  None  None  None  None  None  None  None              None              None              None              None              None              None              None              None              None              None              None             None              None              None              None              None              None              None              None              None  None  None  None\n",
       "1         None          AFE  Mortalidad provocada por enfermedades cardiovasculares, cáncer, diabetes o enfermedades respiratorias crónicas entre las edades exactas de 30 y 70 años (%)  SH.DYN.NCOM.ZS  None  None  None  None  None  None  None  None  None  None  None  None  None  None  None  None  None  None  None  None  None  None  None  None  None  None  None  None  None  None  None  None  None  None  None  None  None  None  None  None  28.2733800536648  27.6771368480359  27.3046489815554  27.0930191887463  26.7782522823306  26.5421519153433  26.3391682496035  26.0046378067277  25.8937010959456  25.6081986661493  25.1987976042742  24.759162211563  24.2751403652027  23.9400712460361  23.6305671729774  23.4504709976819  23.2102460795151  22.8814394017632  22.5315597289214  22.2638109969202  None  None  None\n",
       "2   Afganistán          AFG  Mortalidad provocada por enfermedades cardiovasculares, cáncer, diabetes o enfermedades respiratorias crónicas entre las edades exactas de 30 y 70 años (%)  SH.DYN.NCOM.ZS  None  None  None  None  None  None  None  None  None  None  None  None  None  None  None  None  None  None  None  None  None  None  None  None  None  None  None  None  None  None  None  None  None  None  None  None  None  None  None  None              41.7              42.1              42.1              41.5              41.4              40.9              40.5              40.1              39.4              38.4              37.8             37.1              36.6              36.2              35.7              35.6              35.6              35.5              35.4              35.3  None  None  None"
      ]
     },
     "execution_count": 159,
     "metadata": {},
     "output_type": "execute_result"
    }
   ],
   "source": [
    "data_12.limit(3).pandas_api()\n"
   ]
  },
  {
   "cell_type": "code",
   "execution_count": 160,
   "id": "30698068-196f-41d3-aa89-e274ae63aefb",
   "metadata": {
    "execution": {
     "iopub.execute_input": "2023-06-06T05:59:04.032189Z",
     "iopub.status.busy": "2023-06-06T05:59:04.032028Z",
     "iopub.status.idle": "2023-06-06T05:59:04.047618Z",
     "shell.execute_reply": "2023-06-06T05:59:04.046982Z",
     "shell.execute_reply.started": "2023-06-06T05:59:04.032173Z"
    },
    "tags": []
   },
   "outputs": [],
   "source": [
    "data_12 = data_12.selectExpr('`Country Name`', '`Country Code`', \"`Indicator Name`\", \"`Indicator Code`\", \"stack(63, \\\n",
    "'1960', `1960`, '1961', `1961`, '1962', `1962`, '1963', `1963`, '1964', `1964`, \\\n",
    "'1965', `1965`, '1966', `1966`, '1967', `1967`, '1968', `1968`, '1969', `1969`, \\\n",
    "'1970', `1970`, '1971', `1971`, '1972', `1972`, '1973', `1973`, '1974', `1974`, \\\n",
    "'1975', `1975`, '1976', `1976`, '1977', `1977`, '1978', `1978`, '1979', `1979`, \\\n",
    "'1980', `1980`, '1981', `1981`, '1982', `1982`, '1983', `1983`, '1984', `1984`, \\\n",
    "'1985', `1985`, '1986', `1986`, '1987', `1987`, '1988', `1988`, '1989', `1989`, \\\n",
    "'1990', `1990`, '1991', `1991`, '1992', `1992`, '1993', `1993`, '1994', `1994`, \\\n",
    "'1995', `1995`, '1996', `1996`, '1997', `1997`, '1998', `1998`, '1999', `1999`, \\\n",
    "'2010', `2010`, '2011', `2011`, '2012', `2012`, '2013', `2013`, '2014', `2014`, \\\n",
    "'2015', `2015`, '2016', `2016`, '2017', `2017`, '2018', `2018`, '2019', `2019`, \\\n",
    "'2010', `2010`, '2011', `2011`, '2012', `2012`, '2013', `2013`, '2014', `2014`, \\\n",
    "'2015', `2015`, '2016', `2016`, '2017', `2017`, '2018', `2018`, '2019', `2019`, \\\n",
    "'2020', `2020`, '2021', `2021`, '2022', `2022`) as (Year, ratio_mortality_CVD_cancer_diabetes_CRD)\")"
   ]
  },
  {
   "cell_type": "code",
   "execution_count": 161,
   "id": "6063f07a-f205-462e-862d-aa9304ceaed1",
   "metadata": {
    "execution": {
     "iopub.execute_input": "2023-06-06T05:59:04.048743Z",
     "iopub.status.busy": "2023-06-06T05:59:04.048506Z",
     "iopub.status.idle": "2023-06-06T05:59:04.243008Z",
     "shell.execute_reply": "2023-06-06T05:59:04.242469Z",
     "shell.execute_reply.started": "2023-06-06T05:59:04.048720Z"
    },
    "tags": []
   },
   "outputs": [
    {
     "data": {
      "text/html": [
       "<div>\n",
       "<style scoped>\n",
       "    .dataframe tbody tr th:only-of-type {\n",
       "        vertical-align: middle;\n",
       "    }\n",
       "\n",
       "    .dataframe tbody tr th {\n",
       "        vertical-align: top;\n",
       "    }\n",
       "\n",
       "    .dataframe thead th {\n",
       "        text-align: right;\n",
       "    }\n",
       "</style>\n",
       "<table border=\"1\" class=\"dataframe\">\n",
       "  <thead>\n",
       "    <tr style=\"text-align: right;\">\n",
       "      <th></th>\n",
       "      <th>Country Name</th>\n",
       "      <th>Country Code</th>\n",
       "      <th>Indicator Name</th>\n",
       "      <th>Indicator Code</th>\n",
       "      <th>Year</th>\n",
       "      <th>ratio_mortality_CVD_cancer_diabetes_CRD</th>\n",
       "    </tr>\n",
       "  </thead>\n",
       "  <tbody>\n",
       "    <tr>\n",
       "      <th>0</th>\n",
       "      <td>None</td>\n",
       "      <td>AFE</td>\n",
       "      <td>Mortalidad provocada por enfermedades cardiova...</td>\n",
       "      <td>SH.DYN.NCOM.ZS</td>\n",
       "      <td>1993</td>\n",
       "      <td>None</td>\n",
       "    </tr>\n",
       "    <tr>\n",
       "      <th>1</th>\n",
       "      <td>Cabo Verde</td>\n",
       "      <td>CPV</td>\n",
       "      <td>Mortalidad provocada por enfermedades cardiova...</td>\n",
       "      <td>SH.DYN.NCOM.ZS</td>\n",
       "      <td>2016</td>\n",
       "      <td>15.1</td>\n",
       "    </tr>\n",
       "    <tr>\n",
       "      <th>2</th>\n",
       "      <td>Israel</td>\n",
       "      <td>ISR</td>\n",
       "      <td>Mortalidad provocada por enfermedades cardiova...</td>\n",
       "      <td>SH.DYN.NCOM.ZS</td>\n",
       "      <td>1988</td>\n",
       "      <td>None</td>\n",
       "    </tr>\n",
       "  </tbody>\n",
       "</table>\n",
       "</div>"
      ],
      "text/plain": [
       "  Country Name Country Code                                                                                                                                               Indicator Name  Indicator Code  Year ratio_mortality_CVD_cancer_diabetes_CRD\n",
       "0         None          AFE  Mortalidad provocada por enfermedades cardiovasculares, cáncer, diabetes o enfermedades respiratorias crónicas entre las edades exactas de 30 y 70 años (%)  SH.DYN.NCOM.ZS  1993                                    None\n",
       "1   Cabo Verde          CPV  Mortalidad provocada por enfermedades cardiovasculares, cáncer, diabetes o enfermedades respiratorias crónicas entre las edades exactas de 30 y 70 años (%)  SH.DYN.NCOM.ZS  2016                                    15.1\n",
       "2       Israel          ISR  Mortalidad provocada por enfermedades cardiovasculares, cáncer, diabetes o enfermedades respiratorias crónicas entre las edades exactas de 30 y 70 años (%)  SH.DYN.NCOM.ZS  1988                                    None"
      ]
     },
     "execution_count": 161,
     "metadata": {},
     "output_type": "execute_result"
    }
   ],
   "source": [
    "data_12.sample(False, 3/data_12.count(), seed=150).limit(3).pandas_api()\n"
   ]
  },
  {
   "cell_type": "code",
   "execution_count": 162,
   "id": "dfc9f78a-3bc2-4fb7-b57d-ef83d2bd3843",
   "metadata": {
    "execution": {
     "iopub.execute_input": "2023-06-06T05:59:04.243695Z",
     "iopub.status.busy": "2023-06-06T05:59:04.243521Z",
     "iopub.status.idle": "2023-06-06T05:59:04.248491Z",
     "shell.execute_reply": "2023-06-06T05:59:04.247869Z",
     "shell.execute_reply.started": "2023-06-06T05:59:04.243679Z"
    },
    "tags": []
   },
   "outputs": [],
   "source": [
    "data_12 = data_12.drop(\"Country Name\",\"Indicator Name\",\"Indicator Code\")"
   ]
  },
  {
   "cell_type": "markdown",
   "id": "b7bb4130-60b1-4f65-a833-e3c2b58258a8",
   "metadata": {},
   "source": [
    "# Causa de muerte, por enfermedades transmisibles y condiciones maternales, prenatales y en materia de nutrición (% del total)\n",
    "Algunos metadatos están solo en inglés\n",
    "\n",
    "Cause of death refers to the share of all deaths for all ages by underlying causes. Communicable diseases and maternal, prenatal and nutrition conditions include infectious and parasitic diseases, respiratory infections, and nutritional deficiencies such as underweight and stunting.\n",
    "\n",
    "https://datos.bancomundial.org/indicador/SH.DTH.COMM.ZS?view=chart\n"
   ]
  },
  {
   "cell_type": "code",
   "execution_count": 163,
   "id": "256e22ce-fef6-4556-bdf8-209b1b470d6d",
   "metadata": {
    "execution": {
     "iopub.execute_input": "2023-06-06T05:59:04.249626Z",
     "iopub.status.busy": "2023-06-06T05:59:04.249365Z",
     "iopub.status.idle": "2023-06-06T05:59:04.259448Z",
     "shell.execute_reply": "2023-06-06T05:59:04.258822Z",
     "shell.execute_reply.started": "2023-06-06T05:59:04.249603Z"
    },
    "tags": []
   },
   "outputs": [],
   "source": [
    "url_13 =\"https://api.worldbank.org/v2/es/indicator/SH.DTH.COMM.ZS?downloadformat=csv\""
   ]
  },
  {
   "cell_type": "code",
   "execution_count": 164,
   "id": "666a08d6-d57d-4418-b473-b30c0cac70e1",
   "metadata": {
    "execution": {
     "iopub.execute_input": "2023-06-06T05:59:04.260553Z",
     "iopub.status.busy": "2023-06-06T05:59:04.260296Z",
     "iopub.status.idle": "2023-06-06T05:59:05.290373Z",
     "shell.execute_reply": "2023-06-06T05:59:05.289674Z",
     "shell.execute_reply.started": "2023-06-06T05:59:04.260531Z"
    },
    "tags": []
   },
   "outputs": [],
   "source": [
    "response_url_13 = requests.get(url_13)"
   ]
  },
  {
   "cell_type": "code",
   "execution_count": 165,
   "id": "d7a06688-35b9-4543-945c-6690a6afe09b",
   "metadata": {
    "execution": {
     "iopub.execute_input": "2023-06-06T05:59:05.291501Z",
     "iopub.status.busy": "2023-06-06T05:59:05.291301Z",
     "iopub.status.idle": "2023-06-06T05:59:05.296924Z",
     "shell.execute_reply": "2023-06-06T05:59:05.296321Z",
     "shell.execute_reply.started": "2023-06-06T05:59:05.291484Z"
    },
    "tags": []
   },
   "outputs": [
    {
     "name": "stdout",
     "output_type": "stream",
     "text": [
      "El archivo ZIP se ha descargado y descomprimido correctamente.\n"
     ]
    }
   ],
   "source": [
    "if response_url_13.status_code == 200:\n",
    "    # Crear un objeto ZipFile a partir de los datos de la respuesta\n",
    "    with zipfile.ZipFile(io.BytesIO(response_url_13.content), \"r\") as zip_url_13:\n",
    "        # Extraer todos los archivos del archivo ZIP en el directorio actual\n",
    "        zip_url_13.extractall(\"dataset\")\n",
    "\n",
    "    print(\"El archivo ZIP se ha descargado y descomprimido correctamente.\")\n",
    "else:\n",
    "    print(\"Error al descargar el archivo ZIP:\", response_url_13.status_code)"
   ]
  },
  {
   "cell_type": "code",
   "execution_count": 166,
   "id": "841a9b61-b1fc-4ec4-b150-5000633b5238",
   "metadata": {
    "execution": {
     "iopub.execute_input": "2023-06-06T05:59:05.298065Z",
     "iopub.status.busy": "2023-06-06T05:59:05.297899Z",
     "iopub.status.idle": "2023-06-06T05:59:05.307824Z",
     "shell.execute_reply": "2023-06-06T05:59:05.307258Z",
     "shell.execute_reply.started": "2023-06-06T05:59:05.298049Z"
    },
    "tags": []
   },
   "outputs": [],
   "source": [
    "import csv\n",
    "\n",
    "# Ruta del archivo CSV\n",
    "\n",
    "csv_url_13 = \"dataset/API_SH.DTH.COMM.ZS_DS2_es_csv_v2_5494256.csv\"\n",
    "\n",
    "# Crear una lista para almacenar las filas del archivo CSV\n",
    "rows_url_13 = []\n",
    "\n",
    "\n",
    "#API_SE.PRM.CMPT.ZS_DS2_es_csv_v2_5478942"
   ]
  },
  {
   "cell_type": "code",
   "execution_count": 167,
   "id": "909b877d-5825-4793-80a2-8d2baf2694fc",
   "metadata": {
    "execution": {
     "iopub.execute_input": "2023-06-06T05:59:05.309028Z",
     "iopub.status.busy": "2023-06-06T05:59:05.308768Z",
     "iopub.status.idle": "2023-06-06T05:59:05.320424Z",
     "shell.execute_reply": "2023-06-06T05:59:05.319751Z",
     "shell.execute_reply.started": "2023-06-06T05:59:05.309006Z"
    },
    "tags": []
   },
   "outputs": [],
   "source": [
    "# Leer el archivo CSV y almacenar las filas en la lista\n",
    "with open(csv_url_13, \"r\") as file_csv_url_13:\n",
    "    csv_reader_url_13 = csv.reader(file_csv_url_13)\n",
    "    rows_url_13 = list(csv_reader_url_13)\n"
   ]
  },
  {
   "cell_type": "code",
   "execution_count": 168,
   "id": "c8357cac-9a89-4925-9f26-a8102a32f700",
   "metadata": {
    "execution": {
     "iopub.execute_input": "2023-06-06T05:59:05.321652Z",
     "iopub.status.busy": "2023-06-06T05:59:05.321348Z",
     "iopub.status.idle": "2023-06-06T05:59:05.328489Z",
     "shell.execute_reply": "2023-06-06T05:59:05.327952Z",
     "shell.execute_reply.started": "2023-06-06T05:59:05.321629Z"
    },
    "tags": []
   },
   "outputs": [],
   "source": [
    "# Eliminar las primeras 4 filas\n",
    "\n",
    "rows_url_13 = rows_url_13[4:]\n",
    "\n",
    "# Escribir las filas modificadas en un nuevo archivo CSV\n",
    "with open(\"dataset/data/dataset_13.csv\", \"w\", newline=\"\") as file_csv_url_13:\n",
    "    csv_writer_url_13 = csv.writer(file_csv_url_13)\n",
    "    csv_writer_url_13.writerows(rows_url_13)"
   ]
  },
  {
   "cell_type": "code",
   "execution_count": 169,
   "id": "021c84d5-5e90-4edf-b245-bb7715bf2a53",
   "metadata": {
    "execution": {
     "iopub.execute_input": "2023-06-06T05:59:05.329416Z",
     "iopub.status.busy": "2023-06-06T05:59:05.329112Z",
     "iopub.status.idle": "2023-06-06T05:59:05.405699Z",
     "shell.execute_reply": "2023-06-06T05:59:05.405107Z",
     "shell.execute_reply.started": "2023-06-06T05:59:05.329400Z"
    },
    "tags": []
   },
   "outputs": [],
   "source": [
    "data_13 = spark.read.csv(\"dataset_13.csv\", header=True)"
   ]
  },
  {
   "cell_type": "code",
   "execution_count": 170,
   "id": "cd710e15-cad9-406b-af31-5cbd16fdd3f5",
   "metadata": {
    "execution": {
     "iopub.execute_input": "2023-06-06T05:59:05.406497Z",
     "iopub.status.busy": "2023-06-06T05:59:05.406336Z",
     "iopub.status.idle": "2023-06-06T05:59:05.412786Z",
     "shell.execute_reply": "2023-06-06T05:59:05.412221Z",
     "shell.execute_reply.started": "2023-06-06T05:59:05.406481Z"
    },
    "tags": []
   },
   "outputs": [],
   "source": [
    "data_13 = data_13.drop(\"_c66\",\"_c67\")"
   ]
  },
  {
   "cell_type": "code",
   "execution_count": 171,
   "id": "fc0ab6fe-9e56-46d2-85a5-9fce8ec50610",
   "metadata": {
    "execution": {
     "iopub.execute_input": "2023-06-06T05:59:05.413725Z",
     "iopub.status.busy": "2023-06-06T05:59:05.413521Z",
     "iopub.status.idle": "2023-06-06T05:59:05.645659Z",
     "shell.execute_reply": "2023-06-06T05:59:05.645215Z",
     "shell.execute_reply.started": "2023-06-06T05:59:05.413709Z"
    },
    "tags": []
   },
   "outputs": [
    {
     "data": {
      "text/html": [
       "<div>\n",
       "<style scoped>\n",
       "    .dataframe tbody tr th:only-of-type {\n",
       "        vertical-align: middle;\n",
       "    }\n",
       "\n",
       "    .dataframe tbody tr th {\n",
       "        vertical-align: top;\n",
       "    }\n",
       "\n",
       "    .dataframe thead th {\n",
       "        text-align: right;\n",
       "    }\n",
       "</style>\n",
       "<table border=\"1\" class=\"dataframe\">\n",
       "  <thead>\n",
       "    <tr style=\"text-align: right;\">\n",
       "      <th></th>\n",
       "      <th>Country Name</th>\n",
       "      <th>Country Code</th>\n",
       "      <th>Indicator Name</th>\n",
       "      <th>Indicator Code</th>\n",
       "      <th>1960</th>\n",
       "      <th>1961</th>\n",
       "      <th>1962</th>\n",
       "      <th>1963</th>\n",
       "      <th>1964</th>\n",
       "      <th>1965</th>\n",
       "      <th>1966</th>\n",
       "      <th>1967</th>\n",
       "      <th>1968</th>\n",
       "      <th>1969</th>\n",
       "      <th>1970</th>\n",
       "      <th>1971</th>\n",
       "      <th>1972</th>\n",
       "      <th>1973</th>\n",
       "      <th>1974</th>\n",
       "      <th>1975</th>\n",
       "      <th>1976</th>\n",
       "      <th>1977</th>\n",
       "      <th>1978</th>\n",
       "      <th>1979</th>\n",
       "      <th>1980</th>\n",
       "      <th>1981</th>\n",
       "      <th>1982</th>\n",
       "      <th>1983</th>\n",
       "      <th>1984</th>\n",
       "      <th>1985</th>\n",
       "      <th>1986</th>\n",
       "      <th>1987</th>\n",
       "      <th>1988</th>\n",
       "      <th>1989</th>\n",
       "      <th>1990</th>\n",
       "      <th>1991</th>\n",
       "      <th>1992</th>\n",
       "      <th>1993</th>\n",
       "      <th>1994</th>\n",
       "      <th>1995</th>\n",
       "      <th>1996</th>\n",
       "      <th>1997</th>\n",
       "      <th>1998</th>\n",
       "      <th>1999</th>\n",
       "      <th>2000</th>\n",
       "      <th>2001</th>\n",
       "      <th>2002</th>\n",
       "      <th>2003</th>\n",
       "      <th>2004</th>\n",
       "      <th>2005</th>\n",
       "      <th>2006</th>\n",
       "      <th>2007</th>\n",
       "      <th>2008</th>\n",
       "      <th>2009</th>\n",
       "      <th>2010</th>\n",
       "      <th>2011</th>\n",
       "      <th>2012</th>\n",
       "      <th>2013</th>\n",
       "      <th>2014</th>\n",
       "      <th>2015</th>\n",
       "      <th>2016</th>\n",
       "      <th>2017</th>\n",
       "      <th>2018</th>\n",
       "      <th>2019</th>\n",
       "      <th>2020</th>\n",
       "      <th>2021</th>\n",
       "      <th>2022</th>\n",
       "    </tr>\n",
       "  </thead>\n",
       "  <tbody>\n",
       "    <tr>\n",
       "      <th>0</th>\n",
       "      <td>Aruba</td>\n",
       "      <td>ABW</td>\n",
       "      <td>Causa de muerte, por enfermedades transmisible...</td>\n",
       "      <td>SH.DTH.COMM.ZS</td>\n",
       "      <td>None</td>\n",
       "      <td>None</td>\n",
       "      <td>None</td>\n",
       "      <td>None</td>\n",
       "      <td>None</td>\n",
       "      <td>None</td>\n",
       "      <td>None</td>\n",
       "      <td>None</td>\n",
       "      <td>None</td>\n",
       "      <td>None</td>\n",
       "      <td>None</td>\n",
       "      <td>None</td>\n",
       "      <td>None</td>\n",
       "      <td>None</td>\n",
       "      <td>None</td>\n",
       "      <td>None</td>\n",
       "      <td>None</td>\n",
       "      <td>None</td>\n",
       "      <td>None</td>\n",
       "      <td>None</td>\n",
       "      <td>None</td>\n",
       "      <td>None</td>\n",
       "      <td>None</td>\n",
       "      <td>None</td>\n",
       "      <td>None</td>\n",
       "      <td>None</td>\n",
       "      <td>None</td>\n",
       "      <td>None</td>\n",
       "      <td>None</td>\n",
       "      <td>None</td>\n",
       "      <td>None</td>\n",
       "      <td>None</td>\n",
       "      <td>None</td>\n",
       "      <td>None</td>\n",
       "      <td>None</td>\n",
       "      <td>None</td>\n",
       "      <td>None</td>\n",
       "      <td>None</td>\n",
       "      <td>None</td>\n",
       "      <td>None</td>\n",
       "      <td>None</td>\n",
       "      <td>None</td>\n",
       "      <td>None</td>\n",
       "      <td>None</td>\n",
       "      <td>None</td>\n",
       "      <td>None</td>\n",
       "      <td>None</td>\n",
       "      <td>None</td>\n",
       "      <td>None</td>\n",
       "      <td>None</td>\n",
       "      <td>None</td>\n",
       "      <td>None</td>\n",
       "      <td>None</td>\n",
       "      <td>None</td>\n",
       "      <td>None</td>\n",
       "      <td>None</td>\n",
       "      <td>None</td>\n",
       "      <td>None</td>\n",
       "      <td>None</td>\n",
       "      <td>None</td>\n",
       "      <td>None</td>\n",
       "      <td>None</td>\n",
       "      <td>None</td>\n",
       "    </tr>\n",
       "    <tr>\n",
       "      <th>1</th>\n",
       "      <td>None</td>\n",
       "      <td>AFE</td>\n",
       "      <td>Causa de muerte, por enfermedades transmisible...</td>\n",
       "      <td>SH.DTH.COMM.ZS</td>\n",
       "      <td>None</td>\n",
       "      <td>None</td>\n",
       "      <td>None</td>\n",
       "      <td>None</td>\n",
       "      <td>None</td>\n",
       "      <td>None</td>\n",
       "      <td>None</td>\n",
       "      <td>None</td>\n",
       "      <td>None</td>\n",
       "      <td>None</td>\n",
       "      <td>None</td>\n",
       "      <td>None</td>\n",
       "      <td>None</td>\n",
       "      <td>None</td>\n",
       "      <td>None</td>\n",
       "      <td>None</td>\n",
       "      <td>None</td>\n",
       "      <td>None</td>\n",
       "      <td>None</td>\n",
       "      <td>None</td>\n",
       "      <td>None</td>\n",
       "      <td>None</td>\n",
       "      <td>None</td>\n",
       "      <td>None</td>\n",
       "      <td>None</td>\n",
       "      <td>None</td>\n",
       "      <td>None</td>\n",
       "      <td>None</td>\n",
       "      <td>None</td>\n",
       "      <td>None</td>\n",
       "      <td>None</td>\n",
       "      <td>None</td>\n",
       "      <td>None</td>\n",
       "      <td>None</td>\n",
       "      <td>None</td>\n",
       "      <td>None</td>\n",
       "      <td>None</td>\n",
       "      <td>None</td>\n",
       "      <td>None</td>\n",
       "      <td>None</td>\n",
       "      <td>67.042887053288</td>\n",
       "      <td>None</td>\n",
       "      <td>None</td>\n",
       "      <td>None</td>\n",
       "      <td>None</td>\n",
       "      <td>None</td>\n",
       "      <td>None</td>\n",
       "      <td>None</td>\n",
       "      <td>None</td>\n",
       "      <td>None</td>\n",
       "      <td>59.1548866588657</td>\n",
       "      <td>None</td>\n",
       "      <td>None</td>\n",
       "      <td>None</td>\n",
       "      <td>None</td>\n",
       "      <td>52.911433522748</td>\n",
       "      <td>None</td>\n",
       "      <td>None</td>\n",
       "      <td>None</td>\n",
       "      <td>49.0198435796198</td>\n",
       "      <td>None</td>\n",
       "      <td>None</td>\n",
       "      <td>None</td>\n",
       "    </tr>\n",
       "    <tr>\n",
       "      <th>2</th>\n",
       "      <td>Afganistán</td>\n",
       "      <td>AFG</td>\n",
       "      <td>Causa de muerte, por enfermedades transmisible...</td>\n",
       "      <td>SH.DTH.COMM.ZS</td>\n",
       "      <td>None</td>\n",
       "      <td>None</td>\n",
       "      <td>None</td>\n",
       "      <td>None</td>\n",
       "      <td>None</td>\n",
       "      <td>None</td>\n",
       "      <td>None</td>\n",
       "      <td>None</td>\n",
       "      <td>None</td>\n",
       "      <td>None</td>\n",
       "      <td>None</td>\n",
       "      <td>None</td>\n",
       "      <td>None</td>\n",
       "      <td>None</td>\n",
       "      <td>None</td>\n",
       "      <td>None</td>\n",
       "      <td>None</td>\n",
       "      <td>None</td>\n",
       "      <td>None</td>\n",
       "      <td>None</td>\n",
       "      <td>None</td>\n",
       "      <td>None</td>\n",
       "      <td>None</td>\n",
       "      <td>None</td>\n",
       "      <td>None</td>\n",
       "      <td>None</td>\n",
       "      <td>None</td>\n",
       "      <td>None</td>\n",
       "      <td>None</td>\n",
       "      <td>None</td>\n",
       "      <td>None</td>\n",
       "      <td>None</td>\n",
       "      <td>None</td>\n",
       "      <td>None</td>\n",
       "      <td>None</td>\n",
       "      <td>None</td>\n",
       "      <td>None</td>\n",
       "      <td>None</td>\n",
       "      <td>None</td>\n",
       "      <td>None</td>\n",
       "      <td>59.8146503168484</td>\n",
       "      <td>None</td>\n",
       "      <td>None</td>\n",
       "      <td>None</td>\n",
       "      <td>None</td>\n",
       "      <td>None</td>\n",
       "      <td>None</td>\n",
       "      <td>None</td>\n",
       "      <td>None</td>\n",
       "      <td>None</td>\n",
       "      <td>48.1499135188659</td>\n",
       "      <td>None</td>\n",
       "      <td>None</td>\n",
       "      <td>None</td>\n",
       "      <td>None</td>\n",
       "      <td>39.3909806318543</td>\n",
       "      <td>None</td>\n",
       "      <td>None</td>\n",
       "      <td>None</td>\n",
       "      <td>32.9304513537869</td>\n",
       "      <td>None</td>\n",
       "      <td>None</td>\n",
       "      <td>None</td>\n",
       "    </tr>\n",
       "  </tbody>\n",
       "</table>\n",
       "</div>"
      ],
      "text/plain": [
       "  Country Name Country Code                                                                                                                Indicator Name  Indicator Code  1960  1961  1962  1963  1964  1965  1966  1967  1968  1969  1970  1971  1972  1973  1974  1975  1976  1977  1978  1979  1980  1981  1982  1983  1984  1985  1986  1987  1988  1989  1990  1991  1992  1993  1994  1995  1996  1997  1998  1999              2000  2001  2002  2003  2004  2005  2006  2007  2008  2009              2010  2011  2012  2013  2014              2015  2016  2017  2018              2019  2020  2021  2022\n",
       "0        Aruba          ABW  Causa de muerte, por enfermedades transmisibles y condiciones maternales, prenatales y en materia de nutrición (% del total)  SH.DTH.COMM.ZS  None  None  None  None  None  None  None  None  None  None  None  None  None  None  None  None  None  None  None  None  None  None  None  None  None  None  None  None  None  None  None  None  None  None  None  None  None  None  None  None              None  None  None  None  None  None  None  None  None  None              None  None  None  None  None              None  None  None  None              None  None  None  None\n",
       "1         None          AFE  Causa de muerte, por enfermedades transmisibles y condiciones maternales, prenatales y en materia de nutrición (% del total)  SH.DTH.COMM.ZS  None  None  None  None  None  None  None  None  None  None  None  None  None  None  None  None  None  None  None  None  None  None  None  None  None  None  None  None  None  None  None  None  None  None  None  None  None  None  None  None   67.042887053288  None  None  None  None  None  None  None  None  None  59.1548866588657  None  None  None  None   52.911433522748  None  None  None  49.0198435796198  None  None  None\n",
       "2   Afganistán          AFG  Causa de muerte, por enfermedades transmisibles y condiciones maternales, prenatales y en materia de nutrición (% del total)  SH.DTH.COMM.ZS  None  None  None  None  None  None  None  None  None  None  None  None  None  None  None  None  None  None  None  None  None  None  None  None  None  None  None  None  None  None  None  None  None  None  None  None  None  None  None  None  59.8146503168484  None  None  None  None  None  None  None  None  None  48.1499135188659  None  None  None  None  39.3909806318543  None  None  None  32.9304513537869  None  None  None"
      ]
     },
     "execution_count": 171,
     "metadata": {},
     "output_type": "execute_result"
    }
   ],
   "source": [
    "data_13.limit(3).pandas_api()"
   ]
  },
  {
   "cell_type": "code",
   "execution_count": 172,
   "id": "c0ff5cac-461f-424f-b694-33243360a058",
   "metadata": {
    "execution": {
     "iopub.execute_input": "2023-06-06T05:59:05.646497Z",
     "iopub.status.busy": "2023-06-06T05:59:05.646332Z",
     "iopub.status.idle": "2023-06-06T05:59:05.657230Z",
     "shell.execute_reply": "2023-06-06T05:59:05.656566Z",
     "shell.execute_reply.started": "2023-06-06T05:59:05.646481Z"
    },
    "tags": []
   },
   "outputs": [],
   "source": [
    "data_13 = data_13.selectExpr('`Country Name`', '`Country Code`', \"`Indicator Name`\", \"`Indicator Code`\", \"stack(63, \\\n",
    "'1960', `1960`, '1961', `1961`, '1962', `1962`, '1963', `1963`, '1964', `1964`, \\\n",
    "'1965', `1965`, '1966', `1966`, '1967', `1967`, '1968', `1968`, '1969', `1969`, \\\n",
    "'1970', `1970`, '1971', `1971`, '1972', `1972`, '1973', `1973`, '1974', `1974`, \\\n",
    "'1975', `1975`, '1976', `1976`, '1977', `1977`, '1978', `1978`, '1979', `1979`, \\\n",
    "'1980', `1980`, '1981', `1981`, '1982', `1982`, '1983', `1983`, '1984', `1984`, \\\n",
    "'1985', `1985`, '1986', `1986`, '1987', `1987`, '1988', `1988`, '1989', `1989`, \\\n",
    "'1990', `1990`, '1991', `1991`, '1992', `1992`, '1993', `1993`, '1994', `1994`, \\\n",
    "'1995', `1995`, '1996', `1996`, '1997', `1997`, '1998', `1998`, '1999', `1999`, \\\n",
    "'2010', `2010`, '2011', `2011`, '2012', `2012`, '2013', `2013`, '2014', `2014`, \\\n",
    "'2015', `2015`, '2016', `2016`, '2017', `2017`, '2018', `2018`, '2019', `2019`, \\\n",
    "'2010', `2010`, '2011', `2011`, '2012', `2012`, '2013', `2013`, '2014', `2014`, \\\n",
    "'2015', `2015`, '2016', `2016`, '2017', `2017`, '2018', `2018`, '2019', `2019`, \\\n",
    "'2020', `2020`, '2021', `2021`, '2022', `2022`) as (Year, ratio_infectious_diseases)\")"
   ]
  },
  {
   "cell_type": "code",
   "execution_count": 173,
   "id": "88723bf1-0416-465d-96a8-1f93c6cf2e49",
   "metadata": {
    "execution": {
     "iopub.execute_input": "2023-06-06T05:59:05.658155Z",
     "iopub.status.busy": "2023-06-06T05:59:05.657937Z",
     "iopub.status.idle": "2023-06-06T05:59:05.843056Z",
     "shell.execute_reply": "2023-06-06T05:59:05.842512Z",
     "shell.execute_reply.started": "2023-06-06T05:59:05.658138Z"
    },
    "tags": []
   },
   "outputs": [
    {
     "data": {
      "text/html": [
       "<div>\n",
       "<style scoped>\n",
       "    .dataframe tbody tr th:only-of-type {\n",
       "        vertical-align: middle;\n",
       "    }\n",
       "\n",
       "    .dataframe tbody tr th {\n",
       "        vertical-align: top;\n",
       "    }\n",
       "\n",
       "    .dataframe thead th {\n",
       "        text-align: right;\n",
       "    }\n",
       "</style>\n",
       "<table border=\"1\" class=\"dataframe\">\n",
       "  <thead>\n",
       "    <tr style=\"text-align: right;\">\n",
       "      <th></th>\n",
       "      <th>Country Name</th>\n",
       "      <th>Country Code</th>\n",
       "      <th>Indicator Name</th>\n",
       "      <th>Indicator Code</th>\n",
       "      <th>Year</th>\n",
       "      <th>ratio_infectious_diseases</th>\n",
       "    </tr>\n",
       "  </thead>\n",
       "  <tbody>\n",
       "    <tr>\n",
       "      <th>0</th>\n",
       "      <td>None</td>\n",
       "      <td>AFE</td>\n",
       "      <td>Causa de muerte, por enfermedades transmisible...</td>\n",
       "      <td>SH.DTH.COMM.ZS</td>\n",
       "      <td>1993</td>\n",
       "      <td>None</td>\n",
       "    </tr>\n",
       "    <tr>\n",
       "      <th>1</th>\n",
       "      <td>Cabo Verde</td>\n",
       "      <td>CPV</td>\n",
       "      <td>Causa de muerte, por enfermedades transmisible...</td>\n",
       "      <td>SH.DTH.COMM.ZS</td>\n",
       "      <td>2016</td>\n",
       "      <td>None</td>\n",
       "    </tr>\n",
       "    <tr>\n",
       "      <th>2</th>\n",
       "      <td>Israel</td>\n",
       "      <td>ISR</td>\n",
       "      <td>Causa de muerte, por enfermedades transmisible...</td>\n",
       "      <td>SH.DTH.COMM.ZS</td>\n",
       "      <td>1988</td>\n",
       "      <td>None</td>\n",
       "    </tr>\n",
       "  </tbody>\n",
       "</table>\n",
       "</div>"
      ],
      "text/plain": [
       "  Country Name Country Code                                                                                                                Indicator Name  Indicator Code  Year ratio_infectious_diseases\n",
       "0         None          AFE  Causa de muerte, por enfermedades transmisibles y condiciones maternales, prenatales y en materia de nutrición (% del total)  SH.DTH.COMM.ZS  1993                      None\n",
       "1   Cabo Verde          CPV  Causa de muerte, por enfermedades transmisibles y condiciones maternales, prenatales y en materia de nutrición (% del total)  SH.DTH.COMM.ZS  2016                      None\n",
       "2       Israel          ISR  Causa de muerte, por enfermedades transmisibles y condiciones maternales, prenatales y en materia de nutrición (% del total)  SH.DTH.COMM.ZS  1988                      None"
      ]
     },
     "execution_count": 173,
     "metadata": {},
     "output_type": "execute_result"
    }
   ],
   "source": [
    "data_13.sample(False, 3/data_13.count(), seed=150).limit(3).pandas_api()\n"
   ]
  },
  {
   "cell_type": "code",
   "execution_count": 174,
   "id": "c0e4e65c-72e3-47dc-8a3a-988fddedc2fe",
   "metadata": {
    "execution": {
     "iopub.execute_input": "2023-06-06T05:59:05.843902Z",
     "iopub.status.busy": "2023-06-06T05:59:05.843722Z",
     "iopub.status.idle": "2023-06-06T05:59:05.849347Z",
     "shell.execute_reply": "2023-06-06T05:59:05.848804Z",
     "shell.execute_reply.started": "2023-06-06T05:59:05.843886Z"
    },
    "tags": []
   },
   "outputs": [],
   "source": [
    "data_13 = data_13.drop(\"Country Name\",\"Indicator Name\",\"Indicator Code\")"
   ]
  },
  {
   "cell_type": "markdown",
   "id": "144f80dc-cbb7-4616-b667-7462c0475eca",
   "metadata": {},
   "source": [
    "# Prevalencia de desnutrición (% de la población)\n",
    "\n",
    "La población ubicada por debajo del nivel mínimo de consumo alimenticio de energía (indicador también conocido como prevalencia de desnutrición) muestra el porcentaje de la población cuya ingesta de alimentos no alcanza para satisfacer sus requisitos alimenticios de energía de manera continua. Los datos mostrados como 5 muestran una prevalencia de desnutrición menor del 5%\n",
    "\n",
    "https://datos.bancomundial.org/indicador/SN.ITK.DEFC.ZS?view=chart"
   ]
  },
  {
   "cell_type": "code",
   "execution_count": 175,
   "id": "bd8cd21a-de8b-4816-bceb-56a4a20b893e",
   "metadata": {
    "execution": {
     "iopub.execute_input": "2023-06-06T05:59:05.850226Z",
     "iopub.status.busy": "2023-06-06T05:59:05.850014Z",
     "iopub.status.idle": "2023-06-06T05:59:05.857415Z",
     "shell.execute_reply": "2023-06-06T05:59:05.856817Z",
     "shell.execute_reply.started": "2023-06-06T05:59:05.850210Z"
    },
    "tags": []
   },
   "outputs": [],
   "source": [
    "url_14 =\"https://api.worldbank.org/v2/es/indicator/SN.ITK.DEFC.ZS?downloadformat=csv\""
   ]
  },
  {
   "cell_type": "code",
   "execution_count": 176,
   "id": "f09cfbb8-de47-4483-ace1-1c3b9008f7ba",
   "metadata": {
    "execution": {
     "iopub.execute_input": "2023-06-06T05:59:05.858820Z",
     "iopub.status.busy": "2023-06-06T05:59:05.858301Z",
     "iopub.status.idle": "2023-06-06T05:59:06.850816Z",
     "shell.execute_reply": "2023-06-06T05:59:06.850036Z",
     "shell.execute_reply.started": "2023-06-06T05:59:05.858792Z"
    },
    "tags": []
   },
   "outputs": [],
   "source": [
    "response_url_14 = requests.get(url_14)"
   ]
  },
  {
   "cell_type": "code",
   "execution_count": 177,
   "id": "b05720ea-8b9c-4ec3-9f0d-3935f39f6e4d",
   "metadata": {
    "execution": {
     "iopub.execute_input": "2023-06-06T05:59:06.852701Z",
     "iopub.status.busy": "2023-06-06T05:59:06.852478Z",
     "iopub.status.idle": "2023-06-06T05:59:06.857829Z",
     "shell.execute_reply": "2023-06-06T05:59:06.857307Z",
     "shell.execute_reply.started": "2023-06-06T05:59:06.852684Z"
    },
    "tags": []
   },
   "outputs": [
    {
     "name": "stdout",
     "output_type": "stream",
     "text": [
      "El archivo ZIP se ha descargado y descomprimido correctamente.\n"
     ]
    }
   ],
   "source": [
    "if response_url_14.status_code == 200:\n",
    "    # Crear un objeto ZipFile a partir de los datos de la respuesta\n",
    "    with zipfile.ZipFile(io.BytesIO(response_url_14.content), \"r\") as zip_url_14:\n",
    "        # Extraer todos los archivos del archivo ZIP en el directorio actual\n",
    "        zip_url_14.extractall(\"dataset\")\n",
    "\n",
    "    print(\"El archivo ZIP se ha descargado y descomprimido correctamente.\")\n",
    "else:\n",
    "    print(\"Error al descargar el archivo ZIP:\", response_url_14.status_code)"
   ]
  },
  {
   "cell_type": "code",
   "execution_count": 178,
   "id": "a01522f3-bf91-4a8a-833c-1768ab0ad513",
   "metadata": {
    "execution": {
     "iopub.execute_input": "2023-06-06T05:59:06.858638Z",
     "iopub.status.busy": "2023-06-06T05:59:06.858473Z",
     "iopub.status.idle": "2023-06-06T05:59:06.865897Z",
     "shell.execute_reply": "2023-06-06T05:59:06.865410Z",
     "shell.execute_reply.started": "2023-06-06T05:59:06.858622Z"
    },
    "tags": []
   },
   "outputs": [],
   "source": [
    "# Ruta del archivo CSV\n",
    "\n",
    "csv_url_14 = \"dataset/API_SN.ITK.DEFC.ZS_DS2_es_csv_v2_5465519.csv\"\n",
    "\n",
    "# Crear una lista para almacenar las filas del archivo CSV\n",
    "rows_url_14 = []\n",
    "\n",
    "\n",
    "#API_SE.PRM.CMPT.ZS_DS2_es_csv_v2_5478942"
   ]
  },
  {
   "cell_type": "code",
   "execution_count": 179,
   "id": "807b0144-b5cd-4e36-a913-c803bff87f7e",
   "metadata": {
    "execution": {
     "iopub.execute_input": "2023-06-06T05:59:06.866652Z",
     "iopub.status.busy": "2023-06-06T05:59:06.866495Z",
     "iopub.status.idle": "2023-06-06T05:59:06.876932Z",
     "shell.execute_reply": "2023-06-06T05:59:06.876379Z",
     "shell.execute_reply.started": "2023-06-06T05:59:06.866636Z"
    },
    "tags": []
   },
   "outputs": [],
   "source": [
    "# Leer el archivo CSV y almacenar las filas en la lista\n",
    "with open(csv_url_14, \"r\") as file_csv_url_14:\n",
    "    csv_reader_url_14 = csv.reader(file_csv_url_14)\n",
    "    rows_url_14 = list(csv_reader_url_14)\n"
   ]
  },
  {
   "cell_type": "code",
   "execution_count": 180,
   "id": "038485cc-0d42-47a0-a608-6f42fee0294d",
   "metadata": {
    "execution": {
     "iopub.execute_input": "2023-06-06T05:59:06.878197Z",
     "iopub.status.busy": "2023-06-06T05:59:06.877657Z",
     "iopub.status.idle": "2023-06-06T05:59:06.888382Z",
     "shell.execute_reply": "2023-06-06T05:59:06.887684Z",
     "shell.execute_reply.started": "2023-06-06T05:59:06.878174Z"
    },
    "tags": []
   },
   "outputs": [],
   "source": [
    "# Eliminar las primeras 4 filas\n",
    "\n",
    "rows_url_14 = rows_url_14[3:]\n",
    "\n",
    "# Escribir las filas modificadas en un nuevo archivo CSV\n",
    "with open(\"dataset/data/dataset_14.csv\", \"w\", newline=\"\") as file_csv_url_14:\n",
    "    csv_writer_url_14 = csv.writer(file_csv_url_14)\n",
    "    csv_writer_url_14.writerows(rows_url_14)"
   ]
  },
  {
   "cell_type": "code",
   "execution_count": 181,
   "id": "9d01e5f1-aee0-45cb-9459-0fa02362910f",
   "metadata": {
    "execution": {
     "iopub.execute_input": "2023-06-06T05:59:06.889558Z",
     "iopub.status.busy": "2023-06-06T05:59:06.889304Z",
     "iopub.status.idle": "2023-06-06T05:59:06.967427Z",
     "shell.execute_reply": "2023-06-06T05:59:06.966748Z",
     "shell.execute_reply.started": "2023-06-06T05:59:06.889528Z"
    },
    "tags": []
   },
   "outputs": [],
   "source": [
    "data_14 = spark.read.csv(\"dataset_14.csv\", header=True)"
   ]
  },
  {
   "cell_type": "code",
   "execution_count": 182,
   "id": "4ba27b6b-17ab-4721-97bc-08874511cef2",
   "metadata": {
    "execution": {
     "iopub.execute_input": "2023-06-06T05:59:06.968856Z",
     "iopub.status.busy": "2023-06-06T05:59:06.968592Z",
     "iopub.status.idle": "2023-06-06T05:59:06.977303Z",
     "shell.execute_reply": "2023-06-06T05:59:06.976691Z",
     "shell.execute_reply.started": "2023-06-06T05:59:06.968837Z"
    },
    "tags": []
   },
   "outputs": [],
   "source": [
    "data_14 = data_14.drop(\"_c66\",\"_c67\")"
   ]
  },
  {
   "cell_type": "code",
   "execution_count": 183,
   "id": "8d440d26-a209-437c-a776-dbc0bb0ce4ba",
   "metadata": {
    "execution": {
     "iopub.execute_input": "2023-06-06T05:59:06.978345Z",
     "iopub.status.busy": "2023-06-06T05:59:06.978014Z",
     "iopub.status.idle": "2023-06-06T05:59:07.211866Z",
     "shell.execute_reply": "2023-06-06T05:59:07.211278Z",
     "shell.execute_reply.started": "2023-06-06T05:59:06.978328Z"
    },
    "tags": []
   },
   "outputs": [
    {
     "data": {
      "text/html": [
       "<div>\n",
       "<style scoped>\n",
       "    .dataframe tbody tr th:only-of-type {\n",
       "        vertical-align: middle;\n",
       "    }\n",
       "\n",
       "    .dataframe tbody tr th {\n",
       "        vertical-align: top;\n",
       "    }\n",
       "\n",
       "    .dataframe thead th {\n",
       "        text-align: right;\n",
       "    }\n",
       "</style>\n",
       "<table border=\"1\" class=\"dataframe\">\n",
       "  <thead>\n",
       "    <tr style=\"text-align: right;\">\n",
       "      <th></th>\n",
       "      <th>Country Name</th>\n",
       "      <th>Country Code</th>\n",
       "      <th>Indicator Name</th>\n",
       "      <th>Indicator Code</th>\n",
       "      <th>1960</th>\n",
       "      <th>1961</th>\n",
       "      <th>1962</th>\n",
       "      <th>1963</th>\n",
       "      <th>1964</th>\n",
       "      <th>1965</th>\n",
       "      <th>1966</th>\n",
       "      <th>1967</th>\n",
       "      <th>1968</th>\n",
       "      <th>1969</th>\n",
       "      <th>1970</th>\n",
       "      <th>1971</th>\n",
       "      <th>1972</th>\n",
       "      <th>1973</th>\n",
       "      <th>1974</th>\n",
       "      <th>1975</th>\n",
       "      <th>1976</th>\n",
       "      <th>1977</th>\n",
       "      <th>1978</th>\n",
       "      <th>1979</th>\n",
       "      <th>1980</th>\n",
       "      <th>1981</th>\n",
       "      <th>1982</th>\n",
       "      <th>1983</th>\n",
       "      <th>1984</th>\n",
       "      <th>1985</th>\n",
       "      <th>1986</th>\n",
       "      <th>1987</th>\n",
       "      <th>1988</th>\n",
       "      <th>1989</th>\n",
       "      <th>1990</th>\n",
       "      <th>1991</th>\n",
       "      <th>1992</th>\n",
       "      <th>1993</th>\n",
       "      <th>1994</th>\n",
       "      <th>1995</th>\n",
       "      <th>1996</th>\n",
       "      <th>1997</th>\n",
       "      <th>1998</th>\n",
       "      <th>1999</th>\n",
       "      <th>2000</th>\n",
       "      <th>2001</th>\n",
       "      <th>2002</th>\n",
       "      <th>2003</th>\n",
       "      <th>2004</th>\n",
       "      <th>2005</th>\n",
       "      <th>2006</th>\n",
       "      <th>2007</th>\n",
       "      <th>2008</th>\n",
       "      <th>2009</th>\n",
       "      <th>2010</th>\n",
       "      <th>2011</th>\n",
       "      <th>2012</th>\n",
       "      <th>2013</th>\n",
       "      <th>2014</th>\n",
       "      <th>2015</th>\n",
       "      <th>2016</th>\n",
       "      <th>2017</th>\n",
       "      <th>2018</th>\n",
       "      <th>2019</th>\n",
       "      <th>2020</th>\n",
       "      <th>2021</th>\n",
       "      <th>2022</th>\n",
       "    </tr>\n",
       "  </thead>\n",
       "  <tbody>\n",
       "    <tr>\n",
       "      <th>0</th>\n",
       "      <td>Aruba</td>\n",
       "      <td>ABW</td>\n",
       "      <td>Prevalencia de desnutrición (% de la población)</td>\n",
       "      <td>SN.ITK.DEFC.ZS</td>\n",
       "      <td>None</td>\n",
       "      <td>None</td>\n",
       "      <td>None</td>\n",
       "      <td>None</td>\n",
       "      <td>None</td>\n",
       "      <td>None</td>\n",
       "      <td>None</td>\n",
       "      <td>None</td>\n",
       "      <td>None</td>\n",
       "      <td>None</td>\n",
       "      <td>None</td>\n",
       "      <td>None</td>\n",
       "      <td>None</td>\n",
       "      <td>None</td>\n",
       "      <td>None</td>\n",
       "      <td>None</td>\n",
       "      <td>None</td>\n",
       "      <td>None</td>\n",
       "      <td>None</td>\n",
       "      <td>None</td>\n",
       "      <td>None</td>\n",
       "      <td>None</td>\n",
       "      <td>None</td>\n",
       "      <td>None</td>\n",
       "      <td>None</td>\n",
       "      <td>None</td>\n",
       "      <td>None</td>\n",
       "      <td>None</td>\n",
       "      <td>None</td>\n",
       "      <td>None</td>\n",
       "      <td>None</td>\n",
       "      <td>None</td>\n",
       "      <td>None</td>\n",
       "      <td>None</td>\n",
       "      <td>None</td>\n",
       "      <td>None</td>\n",
       "      <td>None</td>\n",
       "      <td>None</td>\n",
       "      <td>None</td>\n",
       "      <td>None</td>\n",
       "      <td>None</td>\n",
       "      <td>None</td>\n",
       "      <td>None</td>\n",
       "      <td>None</td>\n",
       "      <td>None</td>\n",
       "      <td>None</td>\n",
       "      <td>None</td>\n",
       "      <td>None</td>\n",
       "      <td>None</td>\n",
       "      <td>None</td>\n",
       "      <td>None</td>\n",
       "      <td>None</td>\n",
       "      <td>None</td>\n",
       "      <td>None</td>\n",
       "      <td>None</td>\n",
       "      <td>None</td>\n",
       "      <td>None</td>\n",
       "      <td>None</td>\n",
       "      <td>None</td>\n",
       "      <td>None</td>\n",
       "      <td>None</td>\n",
       "      <td>None</td>\n",
       "      <td>None</td>\n",
       "    </tr>\n",
       "    <tr>\n",
       "      <th>1</th>\n",
       "      <td>None</td>\n",
       "      <td>AFE</td>\n",
       "      <td>Prevalencia de desnutrición (% de la población)</td>\n",
       "      <td>SN.ITK.DEFC.ZS</td>\n",
       "      <td>None</td>\n",
       "      <td>None</td>\n",
       "      <td>None</td>\n",
       "      <td>None</td>\n",
       "      <td>None</td>\n",
       "      <td>None</td>\n",
       "      <td>None</td>\n",
       "      <td>None</td>\n",
       "      <td>None</td>\n",
       "      <td>None</td>\n",
       "      <td>None</td>\n",
       "      <td>None</td>\n",
       "      <td>None</td>\n",
       "      <td>None</td>\n",
       "      <td>None</td>\n",
       "      <td>None</td>\n",
       "      <td>None</td>\n",
       "      <td>None</td>\n",
       "      <td>None</td>\n",
       "      <td>None</td>\n",
       "      <td>None</td>\n",
       "      <td>None</td>\n",
       "      <td>None</td>\n",
       "      <td>None</td>\n",
       "      <td>None</td>\n",
       "      <td>None</td>\n",
       "      <td>None</td>\n",
       "      <td>None</td>\n",
       "      <td>None</td>\n",
       "      <td>None</td>\n",
       "      <td>None</td>\n",
       "      <td>None</td>\n",
       "      <td>None</td>\n",
       "      <td>None</td>\n",
       "      <td>None</td>\n",
       "      <td>None</td>\n",
       "      <td>None</td>\n",
       "      <td>None</td>\n",
       "      <td>None</td>\n",
       "      <td>None</td>\n",
       "      <td>None</td>\n",
       "      <td>33.0643933560435</td>\n",
       "      <td>32.6428707376993</td>\n",
       "      <td>32.2679936739954</td>\n",
       "      <td>31.0352017834494</td>\n",
       "      <td>29.6833670127598</td>\n",
       "      <td>28.5035112785995</td>\n",
       "      <td>28.0573791199456</td>\n",
       "      <td>27.4878580806953</td>\n",
       "      <td>25.7297057710846</td>\n",
       "      <td>23.9532905698366</td>\n",
       "      <td>22.2924321233599</td>\n",
       "      <td>21.7180622248758</td>\n",
       "      <td>21.4042727579889</td>\n",
       "      <td>21.4441615610215</td>\n",
       "      <td>21.9518481417626</td>\n",
       "      <td>22.4664366753986</td>\n",
       "      <td>23.0749593317083</td>\n",
       "      <td>23.6542422358629</td>\n",
       "      <td>25.128371989046</td>\n",
       "      <td>26.5420142899351</td>\n",
       "      <td>None</td>\n",
       "      <td>None</td>\n",
       "    </tr>\n",
       "    <tr>\n",
       "      <th>2</th>\n",
       "      <td>Afganistán</td>\n",
       "      <td>AFG</td>\n",
       "      <td>Prevalencia de desnutrición (% de la población)</td>\n",
       "      <td>SN.ITK.DEFC.ZS</td>\n",
       "      <td>None</td>\n",
       "      <td>None</td>\n",
       "      <td>None</td>\n",
       "      <td>None</td>\n",
       "      <td>None</td>\n",
       "      <td>None</td>\n",
       "      <td>None</td>\n",
       "      <td>None</td>\n",
       "      <td>None</td>\n",
       "      <td>None</td>\n",
       "      <td>None</td>\n",
       "      <td>None</td>\n",
       "      <td>None</td>\n",
       "      <td>None</td>\n",
       "      <td>None</td>\n",
       "      <td>None</td>\n",
       "      <td>None</td>\n",
       "      <td>None</td>\n",
       "      <td>None</td>\n",
       "      <td>None</td>\n",
       "      <td>None</td>\n",
       "      <td>None</td>\n",
       "      <td>None</td>\n",
       "      <td>None</td>\n",
       "      <td>None</td>\n",
       "      <td>None</td>\n",
       "      <td>None</td>\n",
       "      <td>None</td>\n",
       "      <td>None</td>\n",
       "      <td>None</td>\n",
       "      <td>None</td>\n",
       "      <td>None</td>\n",
       "      <td>None</td>\n",
       "      <td>None</td>\n",
       "      <td>None</td>\n",
       "      <td>None</td>\n",
       "      <td>None</td>\n",
       "      <td>None</td>\n",
       "      <td>None</td>\n",
       "      <td>None</td>\n",
       "      <td>None</td>\n",
       "      <td>47.8</td>\n",
       "      <td>45.6</td>\n",
       "      <td>40.6</td>\n",
       "      <td>38</td>\n",
       "      <td>36.1</td>\n",
       "      <td>33.3</td>\n",
       "      <td>29.8</td>\n",
       "      <td>26.5</td>\n",
       "      <td>23.3</td>\n",
       "      <td>21.2</td>\n",
       "      <td>20.2</td>\n",
       "      <td>21.1</td>\n",
       "      <td>20.7</td>\n",
       "      <td>20.7</td>\n",
       "      <td>21.5</td>\n",
       "      <td>22.2</td>\n",
       "      <td>23</td>\n",
       "      <td>24</td>\n",
       "      <td>26.9</td>\n",
       "      <td>29.8</td>\n",
       "      <td>None</td>\n",
       "      <td>None</td>\n",
       "    </tr>\n",
       "  </tbody>\n",
       "</table>\n",
       "</div>"
      ],
      "text/plain": [
       "  Country Name Country Code                                   Indicator Name  Indicator Code  1960  1961  1962  1963  1964  1965  1966  1967  1968  1969  1970  1971  1972  1973  1974  1975  1976  1977  1978  1979  1980  1981  1982  1983  1984  1985  1986  1987  1988  1989  1990  1991  1992  1993  1994  1995  1996  1997  1998  1999  2000              2001              2002              2003              2004              2005              2006              2007              2008              2009              2010              2011              2012              2013              2014              2015              2016              2017              2018             2019              2020  2021  2022\n",
       "0        Aruba          ABW  Prevalencia de desnutrición (% de la población)  SN.ITK.DEFC.ZS  None  None  None  None  None  None  None  None  None  None  None  None  None  None  None  None  None  None  None  None  None  None  None  None  None  None  None  None  None  None  None  None  None  None  None  None  None  None  None  None  None              None              None              None              None              None              None              None              None              None              None              None              None              None              None              None              None              None              None             None              None  None  None\n",
       "1         None          AFE  Prevalencia de desnutrición (% de la población)  SN.ITK.DEFC.ZS  None  None  None  None  None  None  None  None  None  None  None  None  None  None  None  None  None  None  None  None  None  None  None  None  None  None  None  None  None  None  None  None  None  None  None  None  None  None  None  None  None  33.0643933560435  32.6428707376993  32.2679936739954  31.0352017834494  29.6833670127598  28.5035112785995  28.0573791199456  27.4878580806953  25.7297057710846  23.9532905698366  22.2924321233599  21.7180622248758  21.4042727579889  21.4441615610215  21.9518481417626  22.4664366753986  23.0749593317083  23.6542422358629  25.128371989046  26.5420142899351  None  None\n",
       "2   Afganistán          AFG  Prevalencia de desnutrición (% de la población)  SN.ITK.DEFC.ZS  None  None  None  None  None  None  None  None  None  None  None  None  None  None  None  None  None  None  None  None  None  None  None  None  None  None  None  None  None  None  None  None  None  None  None  None  None  None  None  None  None              47.8              45.6              40.6                38              36.1              33.3              29.8              26.5              23.3              21.2              20.2              21.1              20.7              20.7              21.5              22.2                23                24             26.9              29.8  None  None"
      ]
     },
     "execution_count": 183,
     "metadata": {},
     "output_type": "execute_result"
    }
   ],
   "source": [
    "data_14.limit(3).pandas_api()"
   ]
  },
  {
   "cell_type": "code",
   "execution_count": null,
   "id": "8ec54b9f-f9c9-41cc-8d33-c6c23171685c",
   "metadata": {},
   "outputs": [],
   "source": []
  },
  {
   "cell_type": "code",
   "execution_count": 184,
   "id": "c53f1e34-3fec-4000-819b-d2ad4c29ab92",
   "metadata": {
    "execution": {
     "iopub.execute_input": "2023-06-06T05:59:07.213060Z",
     "iopub.status.busy": "2023-06-06T05:59:07.212719Z",
     "iopub.status.idle": "2023-06-06T05:59:07.227136Z",
     "shell.execute_reply": "2023-06-06T05:59:07.226582Z",
     "shell.execute_reply.started": "2023-06-06T05:59:07.213038Z"
    },
    "tags": []
   },
   "outputs": [],
   "source": [
    "data_14 = data_14.selectExpr('`Country Name`', '`Country Code`', \"`Indicator Name`\", \"`Indicator Code`\", \"stack(63, \\\n",
    "'1960', `1960`, '1961', `1961`, '1962', `1962`, '1963', `1963`, '1964', `1964`, \\\n",
    "'1965', `1965`, '1966', `1966`, '1967', `1967`, '1968', `1968`, '1969', `1969`, \\\n",
    "'1970', `1970`, '1971', `1971`, '1972', `1972`, '1973', `1973`, '1974', `1974`, \\\n",
    "'1975', `1975`, '1976', `1976`, '1977', `1977`, '1978', `1978`, '1979', `1979`, \\\n",
    "'1980', `1980`, '1981', `1981`, '1982', `1982`, '1983', `1983`, '1984', `1984`, \\\n",
    "'1985', `1985`, '1986', `1986`, '1987', `1987`, '1988', `1988`, '1989', `1989`, \\\n",
    "'1990', `1990`, '1991', `1991`, '1992', `1992`, '1993', `1993`, '1994', `1994`, \\\n",
    "'1995', `1995`, '1996', `1996`, '1997', `1997`, '1998', `1998`, '1999', `1999`, \\\n",
    "'2010', `2010`, '2011', `2011`, '2012', `2012`, '2013', `2013`, '2014', `2014`, \\\n",
    "'2015', `2015`, '2016', `2016`, '2017', `2017`, '2018', `2018`, '2019', `2019`, \\\n",
    "'2010', `2010`, '2011', `2011`, '2012', `2012`, '2013', `2013`, '2014', `2014`, \\\n",
    "'2015', `2015`, '2016', `2016`, '2017', `2017`, '2018', `2018`, '2019', `2019`, \\\n",
    "'2020', `2020`, '2021', `2021`, '2022', `2022`) as (Year, porc_prev_malnutrition)\")"
   ]
  },
  {
   "cell_type": "code",
   "execution_count": 185,
   "id": "6f85f44b-7fea-40a4-8489-26fb7223a50b",
   "metadata": {
    "execution": {
     "iopub.execute_input": "2023-06-06T05:59:07.227957Z",
     "iopub.status.busy": "2023-06-06T05:59:07.227785Z",
     "iopub.status.idle": "2023-06-06T05:59:07.393047Z",
     "shell.execute_reply": "2023-06-06T05:59:07.392468Z",
     "shell.execute_reply.started": "2023-06-06T05:59:07.227940Z"
    },
    "tags": []
   },
   "outputs": [
    {
     "data": {
      "text/html": [
       "<div>\n",
       "<style scoped>\n",
       "    .dataframe tbody tr th:only-of-type {\n",
       "        vertical-align: middle;\n",
       "    }\n",
       "\n",
       "    .dataframe tbody tr th {\n",
       "        vertical-align: top;\n",
       "    }\n",
       "\n",
       "    .dataframe thead th {\n",
       "        text-align: right;\n",
       "    }\n",
       "</style>\n",
       "<table border=\"1\" class=\"dataframe\">\n",
       "  <thead>\n",
       "    <tr style=\"text-align: right;\">\n",
       "      <th></th>\n",
       "      <th>Country Name</th>\n",
       "      <th>Country Code</th>\n",
       "      <th>Indicator Name</th>\n",
       "      <th>Indicator Code</th>\n",
       "      <th>Year</th>\n",
       "      <th>porc_prev_malnutrition</th>\n",
       "    </tr>\n",
       "  </thead>\n",
       "  <tbody>\n",
       "    <tr>\n",
       "      <th>0</th>\n",
       "      <td>None</td>\n",
       "      <td>AFE</td>\n",
       "      <td>Prevalencia de desnutrición (% de la población)</td>\n",
       "      <td>SN.ITK.DEFC.ZS</td>\n",
       "      <td>1993</td>\n",
       "      <td>None</td>\n",
       "    </tr>\n",
       "    <tr>\n",
       "      <th>1</th>\n",
       "      <td>Cabo Verde</td>\n",
       "      <td>CPV</td>\n",
       "      <td>Prevalencia de desnutrición (% de la población)</td>\n",
       "      <td>SN.ITK.DEFC.ZS</td>\n",
       "      <td>2016</td>\n",
       "      <td>17</td>\n",
       "    </tr>\n",
       "    <tr>\n",
       "      <th>2</th>\n",
       "      <td>Israel</td>\n",
       "      <td>ISR</td>\n",
       "      <td>Prevalencia de desnutrición (% de la población)</td>\n",
       "      <td>SN.ITK.DEFC.ZS</td>\n",
       "      <td>1988</td>\n",
       "      <td>None</td>\n",
       "    </tr>\n",
       "  </tbody>\n",
       "</table>\n",
       "</div>"
      ],
      "text/plain": [
       "  Country Name Country Code                                   Indicator Name  Indicator Code  Year porc_prev_malnutrition\n",
       "0         None          AFE  Prevalencia de desnutrición (% de la población)  SN.ITK.DEFC.ZS  1993                   None\n",
       "1   Cabo Verde          CPV  Prevalencia de desnutrición (% de la población)  SN.ITK.DEFC.ZS  2016                     17\n",
       "2       Israel          ISR  Prevalencia de desnutrición (% de la población)  SN.ITK.DEFC.ZS  1988                   None"
      ]
     },
     "execution_count": 185,
     "metadata": {},
     "output_type": "execute_result"
    }
   ],
   "source": [
    "data_14.sample(False, 3/data_14.count(), seed=150).limit(3).pandas_api()\n"
   ]
  },
  {
   "cell_type": "code",
   "execution_count": 186,
   "id": "ef59a221-1019-420a-ba84-95277ca00caa",
   "metadata": {
    "execution": {
     "iopub.execute_input": "2023-06-06T05:59:07.394137Z",
     "iopub.status.busy": "2023-06-06T05:59:07.393938Z",
     "iopub.status.idle": "2023-06-06T05:59:07.398765Z",
     "shell.execute_reply": "2023-06-06T05:59:07.398231Z",
     "shell.execute_reply.started": "2023-06-06T05:59:07.394121Z"
    },
    "tags": []
   },
   "outputs": [],
   "source": [
    "data_14 = data_14.drop(\"Country Name\",\"Indicator Name\",\"Indicator Code\")"
   ]
  },
  {
   "cell_type": "markdown",
   "id": "25a07854-d1d3-4213-b212-971d29d7315c",
   "metadata": {
    "execution": {
     "iopub.execute_input": "2023-06-04T13:41:41.803988Z",
     "iopub.status.busy": "2023-06-04T13:41:41.803708Z",
     "iopub.status.idle": "2023-06-04T13:41:41.808645Z",
     "shell.execute_reply": "2023-06-04T13:41:41.807833Z",
     "shell.execute_reply.started": "2023-06-04T13:41:41.803963Z"
    },
    "tags": []
   },
   "source": [
    "# Médicos (por cada 1.000 personas)\n",
    "\n",
    "Los médicos incluyen a profesionales de cabecera y especialistas.\n",
    "\n",
    "https://datos.bancomundial.org/indicador/SH.MED.PHYS.ZS?view=chart"
   ]
  },
  {
   "cell_type": "code",
   "execution_count": 187,
   "id": "4ca288cc-c531-4436-a2c2-47d56707ad5e",
   "metadata": {
    "execution": {
     "iopub.execute_input": "2023-06-06T05:59:07.399536Z",
     "iopub.status.busy": "2023-06-06T05:59:07.399366Z",
     "iopub.status.idle": "2023-06-06T05:59:07.410973Z",
     "shell.execute_reply": "2023-06-06T05:59:07.410406Z",
     "shell.execute_reply.started": "2023-06-06T05:59:07.399520Z"
    },
    "tags": []
   },
   "outputs": [],
   "source": [
    "url_15 =\"https://api.worldbank.org/v2/es/indicator/SH.MED.PHYS.ZS?downloadformat=csv\""
   ]
  },
  {
   "cell_type": "code",
   "execution_count": 188,
   "id": "60f62da7-319a-4c9d-a138-b9e8b61610fe",
   "metadata": {
    "execution": {
     "iopub.execute_input": "2023-06-06T05:59:07.411750Z",
     "iopub.status.busy": "2023-06-06T05:59:07.411580Z",
     "iopub.status.idle": "2023-06-06T05:59:08.414296Z",
     "shell.execute_reply": "2023-06-06T05:59:08.413638Z",
     "shell.execute_reply.started": "2023-06-06T05:59:07.411734Z"
    },
    "tags": []
   },
   "outputs": [],
   "source": [
    "response_url_15 = requests.get(url_15)"
   ]
  },
  {
   "cell_type": "code",
   "execution_count": 189,
   "id": "cc3aafa7-a749-48db-bfff-ade5c9f1ce87",
   "metadata": {
    "execution": {
     "iopub.execute_input": "2023-06-06T05:59:08.415384Z",
     "iopub.status.busy": "2023-06-06T05:59:08.415190Z",
     "iopub.status.idle": "2023-06-06T05:59:08.421366Z",
     "shell.execute_reply": "2023-06-06T05:59:08.420563Z",
     "shell.execute_reply.started": "2023-06-06T05:59:08.415364Z"
    },
    "tags": []
   },
   "outputs": [
    {
     "name": "stdout",
     "output_type": "stream",
     "text": [
      "El archivo ZIP se ha descargado y descomprimido correctamente.\n"
     ]
    }
   ],
   "source": [
    "if response_url_15.status_code == 200:\n",
    "    # Crear un objeto ZipFile a partir de los datos de la respuesta\n",
    "    with zipfile.ZipFile(io.BytesIO(response_url_15.content), \"r\") as zip_url_15:\n",
    "        # Extraer todos los archivos del archivo ZIP en el directorio actual\n",
    "        zip_url_15.extractall(\"dataset\")\n",
    "\n",
    "    print(\"El archivo ZIP se ha descargado y descomprimido correctamente.\")\n",
    "else:\n",
    "    print(\"Error al descargar el archivo ZIP:\", response_url_15.status_code)"
   ]
  },
  {
   "cell_type": "code",
   "execution_count": 190,
   "id": "9773403d-5489-47ae-9ada-84bc23d8884b",
   "metadata": {
    "execution": {
     "iopub.execute_input": "2023-06-06T05:59:08.422558Z",
     "iopub.status.busy": "2023-06-06T05:59:08.422302Z",
     "iopub.status.idle": "2023-06-06T05:59:08.430551Z",
     "shell.execute_reply": "2023-06-06T05:59:08.429864Z",
     "shell.execute_reply.started": "2023-06-06T05:59:08.422533Z"
    },
    "tags": []
   },
   "outputs": [],
   "source": [
    "# Ruta del archivo CSV\n",
    "\n",
    "csv_url_15 = \"dataset/API_SH.MED.PHYS.ZS_DS2_es_csv_v2_5465722.csv\"\n",
    "\n",
    "# Crear una lista para almacenar las filas del archivo CSV\n",
    "rows_url_15 = []\n",
    "\n",
    "\n",
    "#API_SE.PRM.CMPT.ZS_DS2_es_csv_v2_5478942"
   ]
  },
  {
   "cell_type": "code",
   "execution_count": 191,
   "id": "562db494-45ac-45c5-97b2-bf4aa5cde2d6",
   "metadata": {
    "execution": {
     "iopub.execute_input": "2023-06-06T05:59:08.431518Z",
     "iopub.status.busy": "2023-06-06T05:59:08.431327Z",
     "iopub.status.idle": "2023-06-06T05:59:08.445221Z",
     "shell.execute_reply": "2023-06-06T05:59:08.444641Z",
     "shell.execute_reply.started": "2023-06-06T05:59:08.431500Z"
    },
    "tags": []
   },
   "outputs": [],
   "source": [
    "# Leer el archivo CSV y almacenar las filas en la lista\n",
    "with open(csv_url_15, \"r\") as file_csv_url_15:\n",
    "    csv_reader_url_15 = csv.reader(file_csv_url_15)\n",
    "    rows_url_15 = list(csv_reader_url_15)\n"
   ]
  },
  {
   "cell_type": "code",
   "execution_count": 192,
   "id": "eb7d5042-c916-4dfe-a284-c4a5e1612a87",
   "metadata": {
    "execution": {
     "iopub.execute_input": "2023-06-06T05:59:08.446090Z",
     "iopub.status.busy": "2023-06-06T05:59:08.445922Z",
     "iopub.status.idle": "2023-06-06T05:59:08.456182Z",
     "shell.execute_reply": "2023-06-06T05:59:08.455686Z",
     "shell.execute_reply.started": "2023-06-06T05:59:08.446074Z"
    },
    "tags": []
   },
   "outputs": [],
   "source": [
    "# Eliminar las primeras 4 filas\n",
    "\n",
    "rows_url_15 = rows_url_15[4:]\n",
    "\n",
    "# Escribir las filas modificadas en un nuevo archivo CSV\n",
    "with open(\"dataset/data/dataset_15.csv\", \"w\", newline=\"\") as file_csv_url_15:\n",
    "    csv_writer_url_15 = csv.writer(file_csv_url_15)\n",
    "    csv_writer_url_15.writerows(rows_url_15)"
   ]
  },
  {
   "cell_type": "code",
   "execution_count": 193,
   "id": "dd9a6355-a0b2-4e97-bece-6c62751434a8",
   "metadata": {
    "execution": {
     "iopub.execute_input": "2023-06-06T05:59:08.457130Z",
     "iopub.status.busy": "2023-06-06T05:59:08.456921Z",
     "iopub.status.idle": "2023-06-06T05:59:08.520706Z",
     "shell.execute_reply": "2023-06-06T05:59:08.519988Z",
     "shell.execute_reply.started": "2023-06-06T05:59:08.457115Z"
    },
    "tags": []
   },
   "outputs": [],
   "source": [
    "data_15 = spark.read.csv(\"dataset_15.csv\", header=True)"
   ]
  },
  {
   "cell_type": "code",
   "execution_count": 194,
   "id": "89289387-96ff-4d08-90e9-c6a738d84a3a",
   "metadata": {
    "execution": {
     "iopub.execute_input": "2023-06-06T05:59:08.521836Z",
     "iopub.status.busy": "2023-06-06T05:59:08.521572Z",
     "iopub.status.idle": "2023-06-06T05:59:08.530796Z",
     "shell.execute_reply": "2023-06-06T05:59:08.530232Z",
     "shell.execute_reply.started": "2023-06-06T05:59:08.521810Z"
    },
    "tags": []
   },
   "outputs": [],
   "source": [
    "data_15 = data_15.drop(\"_c66\",\"_c67\")"
   ]
  },
  {
   "cell_type": "code",
   "execution_count": 195,
   "id": "77755c9a-8a86-49da-94cf-3f281209069a",
   "metadata": {
    "execution": {
     "iopub.execute_input": "2023-06-06T05:59:08.531834Z",
     "iopub.status.busy": "2023-06-06T05:59:08.531595Z",
     "iopub.status.idle": "2023-06-06T05:59:08.788979Z",
     "shell.execute_reply": "2023-06-06T05:59:08.788105Z",
     "shell.execute_reply.started": "2023-06-06T05:59:08.531811Z"
    },
    "tags": []
   },
   "outputs": [
    {
     "data": {
      "text/html": [
       "<div>\n",
       "<style scoped>\n",
       "    .dataframe tbody tr th:only-of-type {\n",
       "        vertical-align: middle;\n",
       "    }\n",
       "\n",
       "    .dataframe tbody tr th {\n",
       "        vertical-align: top;\n",
       "    }\n",
       "\n",
       "    .dataframe thead th {\n",
       "        text-align: right;\n",
       "    }\n",
       "</style>\n",
       "<table border=\"1\" class=\"dataframe\">\n",
       "  <thead>\n",
       "    <tr style=\"text-align: right;\">\n",
       "      <th></th>\n",
       "      <th>Country Name</th>\n",
       "      <th>Country Code</th>\n",
       "      <th>Indicator Name</th>\n",
       "      <th>Indicator Code</th>\n",
       "      <th>1960</th>\n",
       "      <th>1961</th>\n",
       "      <th>1962</th>\n",
       "      <th>1963</th>\n",
       "      <th>1964</th>\n",
       "      <th>1965</th>\n",
       "      <th>1966</th>\n",
       "      <th>1967</th>\n",
       "      <th>1968</th>\n",
       "      <th>1969</th>\n",
       "      <th>1970</th>\n",
       "      <th>1971</th>\n",
       "      <th>1972</th>\n",
       "      <th>1973</th>\n",
       "      <th>1974</th>\n",
       "      <th>1975</th>\n",
       "      <th>1976</th>\n",
       "      <th>1977</th>\n",
       "      <th>1978</th>\n",
       "      <th>1979</th>\n",
       "      <th>1980</th>\n",
       "      <th>1981</th>\n",
       "      <th>1982</th>\n",
       "      <th>1983</th>\n",
       "      <th>1984</th>\n",
       "      <th>1985</th>\n",
       "      <th>1986</th>\n",
       "      <th>1987</th>\n",
       "      <th>1988</th>\n",
       "      <th>1989</th>\n",
       "      <th>1990</th>\n",
       "      <th>1991</th>\n",
       "      <th>1992</th>\n",
       "      <th>1993</th>\n",
       "      <th>1994</th>\n",
       "      <th>1995</th>\n",
       "      <th>1996</th>\n",
       "      <th>1997</th>\n",
       "      <th>1998</th>\n",
       "      <th>1999</th>\n",
       "      <th>2000</th>\n",
       "      <th>2001</th>\n",
       "      <th>2002</th>\n",
       "      <th>2003</th>\n",
       "      <th>2004</th>\n",
       "      <th>2005</th>\n",
       "      <th>2006</th>\n",
       "      <th>2007</th>\n",
       "      <th>2008</th>\n",
       "      <th>2009</th>\n",
       "      <th>2010</th>\n",
       "      <th>2011</th>\n",
       "      <th>2012</th>\n",
       "      <th>2013</th>\n",
       "      <th>2014</th>\n",
       "      <th>2015</th>\n",
       "      <th>2016</th>\n",
       "      <th>2017</th>\n",
       "      <th>2018</th>\n",
       "      <th>2019</th>\n",
       "      <th>2020</th>\n",
       "      <th>2021</th>\n",
       "      <th>2022</th>\n",
       "    </tr>\n",
       "  </thead>\n",
       "  <tbody>\n",
       "    <tr>\n",
       "      <th>0</th>\n",
       "      <td>Aruba</td>\n",
       "      <td>ABW</td>\n",
       "      <td>Médicos (por cada 1.000 personas)</td>\n",
       "      <td>SH.MED.PHYS.ZS</td>\n",
       "      <td>None</td>\n",
       "      <td>None</td>\n",
       "      <td>None</td>\n",
       "      <td>None</td>\n",
       "      <td>None</td>\n",
       "      <td>None</td>\n",
       "      <td>None</td>\n",
       "      <td>None</td>\n",
       "      <td>None</td>\n",
       "      <td>None</td>\n",
       "      <td>None</td>\n",
       "      <td>None</td>\n",
       "      <td>None</td>\n",
       "      <td>None</td>\n",
       "      <td>None</td>\n",
       "      <td>None</td>\n",
       "      <td>None</td>\n",
       "      <td>None</td>\n",
       "      <td>None</td>\n",
       "      <td>None</td>\n",
       "      <td>None</td>\n",
       "      <td>None</td>\n",
       "      <td>None</td>\n",
       "      <td>None</td>\n",
       "      <td>None</td>\n",
       "      <td>None</td>\n",
       "      <td>None</td>\n",
       "      <td>None</td>\n",
       "      <td>None</td>\n",
       "      <td>None</td>\n",
       "      <td>None</td>\n",
       "      <td>None</td>\n",
       "      <td>None</td>\n",
       "      <td>None</td>\n",
       "      <td>None</td>\n",
       "      <td>1.12</td>\n",
       "      <td>None</td>\n",
       "      <td>None</td>\n",
       "      <td>None</td>\n",
       "      <td>None</td>\n",
       "      <td>None</td>\n",
       "      <td>None</td>\n",
       "      <td>None</td>\n",
       "      <td>None</td>\n",
       "      <td>None</td>\n",
       "      <td>None</td>\n",
       "      <td>None</td>\n",
       "      <td>None</td>\n",
       "      <td>None</td>\n",
       "      <td>None</td>\n",
       "      <td>None</td>\n",
       "      <td>None</td>\n",
       "      <td>None</td>\n",
       "      <td>None</td>\n",
       "      <td>None</td>\n",
       "      <td>None</td>\n",
       "      <td>None</td>\n",
       "      <td>None</td>\n",
       "      <td>None</td>\n",
       "      <td>None</td>\n",
       "      <td>None</td>\n",
       "      <td>None</td>\n",
       "      <td>None</td>\n",
       "    </tr>\n",
       "    <tr>\n",
       "      <th>1</th>\n",
       "      <td>None</td>\n",
       "      <td>AFE</td>\n",
       "      <td>Médicos (por cada 1.000 personas)</td>\n",
       "      <td>SH.MED.PHYS.ZS</td>\n",
       "      <td>None</td>\n",
       "      <td>None</td>\n",
       "      <td>None</td>\n",
       "      <td>None</td>\n",
       "      <td>None</td>\n",
       "      <td>None</td>\n",
       "      <td>None</td>\n",
       "      <td>None</td>\n",
       "      <td>None</td>\n",
       "      <td>None</td>\n",
       "      <td>None</td>\n",
       "      <td>None</td>\n",
       "      <td>None</td>\n",
       "      <td>None</td>\n",
       "      <td>None</td>\n",
       "      <td>None</td>\n",
       "      <td>None</td>\n",
       "      <td>None</td>\n",
       "      <td>None</td>\n",
       "      <td>None</td>\n",
       "      <td>None</td>\n",
       "      <td>None</td>\n",
       "      <td>None</td>\n",
       "      <td>None</td>\n",
       "      <td>None</td>\n",
       "      <td>None</td>\n",
       "      <td>None</td>\n",
       "      <td>None</td>\n",
       "      <td>None</td>\n",
       "      <td>None</td>\n",
       "      <td>0.160298794326942</td>\n",
       "      <td>None</td>\n",
       "      <td>None</td>\n",
       "      <td>None</td>\n",
       "      <td>None</td>\n",
       "      <td>None</td>\n",
       "      <td>None</td>\n",
       "      <td>None</td>\n",
       "      <td>None</td>\n",
       "      <td>None</td>\n",
       "      <td>None</td>\n",
       "      <td>None</td>\n",
       "      <td>None</td>\n",
       "      <td>None</td>\n",
       "      <td>None</td>\n",
       "      <td>None</td>\n",
       "      <td>None</td>\n",
       "      <td>None</td>\n",
       "      <td>None</td>\n",
       "      <td>None</td>\n",
       "      <td>0.103359172473203</td>\n",
       "      <td>None</td>\n",
       "      <td>None</td>\n",
       "      <td>None</td>\n",
       "      <td>None</td>\n",
       "      <td>None</td>\n",
       "      <td>None</td>\n",
       "      <td>None</td>\n",
       "      <td>0.229967326754284</td>\n",
       "      <td>None</td>\n",
       "      <td>None</td>\n",
       "      <td>None</td>\n",
       "      <td>None</td>\n",
       "    </tr>\n",
       "    <tr>\n",
       "      <th>2</th>\n",
       "      <td>Afganistán</td>\n",
       "      <td>AFG</td>\n",
       "      <td>Médicos (por cada 1.000 personas)</td>\n",
       "      <td>SH.MED.PHYS.ZS</td>\n",
       "      <td>0.035</td>\n",
       "      <td>None</td>\n",
       "      <td>None</td>\n",
       "      <td>None</td>\n",
       "      <td>None</td>\n",
       "      <td>0.063</td>\n",
       "      <td>None</td>\n",
       "      <td>None</td>\n",
       "      <td>None</td>\n",
       "      <td>None</td>\n",
       "      <td>0.065</td>\n",
       "      <td>None</td>\n",
       "      <td>None</td>\n",
       "      <td>None</td>\n",
       "      <td>None</td>\n",
       "      <td>None</td>\n",
       "      <td>None</td>\n",
       "      <td>None</td>\n",
       "      <td>None</td>\n",
       "      <td>None</td>\n",
       "      <td>None</td>\n",
       "      <td>0.077</td>\n",
       "      <td>None</td>\n",
       "      <td>None</td>\n",
       "      <td>None</td>\n",
       "      <td>None</td>\n",
       "      <td>0.183</td>\n",
       "      <td>0.179</td>\n",
       "      <td>None</td>\n",
       "      <td>0.129</td>\n",
       "      <td>0.109</td>\n",
       "      <td>None</td>\n",
       "      <td>None</td>\n",
       "      <td>0.143</td>\n",
       "      <td>None</td>\n",
       "      <td>None</td>\n",
       "      <td>None</td>\n",
       "      <td>0.11</td>\n",
       "      <td>None</td>\n",
       "      <td>None</td>\n",
       "      <td>None</td>\n",
       "      <td>0.1899</td>\n",
       "      <td>None</td>\n",
       "      <td>None</td>\n",
       "      <td>None</td>\n",
       "      <td>None</td>\n",
       "      <td>0.1596</td>\n",
       "      <td>0.1743</td>\n",
       "      <td>0.1744</td>\n",
       "      <td>0.2126</td>\n",
       "      <td>0.2365</td>\n",
       "      <td>0.2518</td>\n",
       "      <td>0.2414</td>\n",
       "      <td>0.2846</td>\n",
       "      <td>0.2983</td>\n",
       "      <td>0.285</td>\n",
       "      <td>0.2782</td>\n",
       "      <td>0.2409</td>\n",
       "      <td>0.2966</td>\n",
       "      <td>0.2125</td>\n",
       "      <td>0.2538</td>\n",
       "      <td>None</td>\n",
       "      <td>None</td>\n",
       "    </tr>\n",
       "  </tbody>\n",
       "</table>\n",
       "</div>"
      ],
      "text/plain": [
       "  Country Name Country Code                     Indicator Name  Indicator Code   1960  1961  1962  1963  1964   1965  1966  1967  1968  1969   1970  1971  1972  1973  1974  1975  1976  1977  1978  1979  1980   1981  1982  1983  1984  1985   1986   1987  1988   1989               1990  1991  1992   1993  1994  1995  1996  1997  1998  1999  2000    2001  2002  2003  2004  2005    2006    2007    2008    2009               2010    2011    2012    2013    2014   2015    2016    2017               2018    2019    2020  2021  2022\n",
       "0        Aruba          ABW  Médicos (por cada 1.000 personas)  SH.MED.PHYS.ZS   None  None  None  None  None   None  None  None  None  None   None  None  None  None  None  None  None  None  None  None  None   None  None  None  None  None   None   None  None   None               None  None  None   None  None  1.12  None  None  None  None  None    None  None  None  None  None    None    None    None    None               None    None    None    None    None   None    None    None               None    None    None  None  None\n",
       "1         None          AFE  Médicos (por cada 1.000 personas)  SH.MED.PHYS.ZS   None  None  None  None  None   None  None  None  None  None   None  None  None  None  None  None  None  None  None  None  None   None  None  None  None  None   None   None  None   None  0.160298794326942  None  None   None  None  None  None  None  None  None  None    None  None  None  None  None    None    None    None    None  0.103359172473203    None    None    None    None   None    None    None  0.229967326754284    None    None  None  None\n",
       "2   Afganistán          AFG  Médicos (por cada 1.000 personas)  SH.MED.PHYS.ZS  0.035  None  None  None  None  0.063  None  None  None  None  0.065  None  None  None  None  None  None  None  None  None  None  0.077  None  None  None  None  0.183  0.179  None  0.129              0.109  None  None  0.143  None  None  None  0.11  None  None  None  0.1899  None  None  None  None  0.1596  0.1743  0.1744  0.2126             0.2365  0.2518  0.2414  0.2846  0.2983  0.285  0.2782  0.2409             0.2966  0.2125  0.2538  None  None"
      ]
     },
     "execution_count": 195,
     "metadata": {},
     "output_type": "execute_result"
    }
   ],
   "source": [
    "data_15.limit(3).pandas_api()"
   ]
  },
  {
   "cell_type": "code",
   "execution_count": null,
   "id": "159d6bca-8b33-4699-b264-b305efba3910",
   "metadata": {},
   "outputs": [],
   "source": []
  },
  {
   "cell_type": "code",
   "execution_count": 196,
   "id": "b6471939-914d-4bdf-b28c-252a82651110",
   "metadata": {
    "execution": {
     "iopub.execute_input": "2023-06-06T05:59:08.790449Z",
     "iopub.status.busy": "2023-06-06T05:59:08.790066Z",
     "iopub.status.idle": "2023-06-06T05:59:08.804479Z",
     "shell.execute_reply": "2023-06-06T05:59:08.803787Z",
     "shell.execute_reply.started": "2023-06-06T05:59:08.790431Z"
    },
    "tags": []
   },
   "outputs": [],
   "source": [
    "data_15 = data_15.selectExpr('`Country Name`', '`Country Code`', \"`Indicator Name`\", \"`Indicator Code`\", \"stack(63, \\\n",
    "'1960', `1960`, '1961', `1961`, '1962', `1962`, '1963', `1963`, '1964', `1964`, \\\n",
    "'1965', `1965`, '1966', `1966`, '1967', `1967`, '1968', `1968`, '1969', `1969`, \\\n",
    "'1970', `1970`, '1971', `1971`, '1972', `1972`, '1973', `1973`, '1974', `1974`, \\\n",
    "'1975', `1975`, '1976', `1976`, '1977', `1977`, '1978', `1978`, '1979', `1979`, \\\n",
    "'1980', `1980`, '1981', `1981`, '1982', `1982`, '1983', `1983`, '1984', `1984`, \\\n",
    "'1985', `1985`, '1986', `1986`, '1987', `1987`, '1988', `1988`, '1989', `1989`, \\\n",
    "'1990', `1990`, '1991', `1991`, '1992', `1992`, '1993', `1993`, '1994', `1994`, \\\n",
    "'1995', `1995`, '1996', `1996`, '1997', `1997`, '1998', `1998`, '1999', `1999`, \\\n",
    "'2010', `2010`, '2011', `2011`, '2012', `2012`, '2013', `2013`, '2014', `2014`, \\\n",
    "'2015', `2015`, '2016', `2016`, '2017', `2017`, '2018', `2018`, '2019', `2019`, \\\n",
    "'2010', `2010`, '2011', `2011`, '2012', `2012`, '2013', `2013`, '2014', `2014`, \\\n",
    "'2015', `2015`, '2016', `2016`, '2017', `2017`, '2018', `2018`, '2019', `2019`, \\\n",
    "'2020', `2020`, '2021', `2021`, '2022', `2022`) as (Year, doctor_1000_people)\")"
   ]
  },
  {
   "cell_type": "code",
   "execution_count": 197,
   "id": "db961f8d-0f36-4f75-a96f-402415724bb3",
   "metadata": {
    "execution": {
     "iopub.execute_input": "2023-06-06T05:59:08.805396Z",
     "iopub.status.busy": "2023-06-06T05:59:08.805230Z",
     "iopub.status.idle": "2023-06-06T05:59:08.991616Z",
     "shell.execute_reply": "2023-06-06T05:59:08.991014Z",
     "shell.execute_reply.started": "2023-06-06T05:59:08.805381Z"
    },
    "tags": []
   },
   "outputs": [
    {
     "data": {
      "text/html": [
       "<div>\n",
       "<style scoped>\n",
       "    .dataframe tbody tr th:only-of-type {\n",
       "        vertical-align: middle;\n",
       "    }\n",
       "\n",
       "    .dataframe tbody tr th {\n",
       "        vertical-align: top;\n",
       "    }\n",
       "\n",
       "    .dataframe thead th {\n",
       "        text-align: right;\n",
       "    }\n",
       "</style>\n",
       "<table border=\"1\" class=\"dataframe\">\n",
       "  <thead>\n",
       "    <tr style=\"text-align: right;\">\n",
       "      <th></th>\n",
       "      <th>Country Name</th>\n",
       "      <th>Country Code</th>\n",
       "      <th>Indicator Name</th>\n",
       "      <th>Indicator Code</th>\n",
       "      <th>Year</th>\n",
       "      <th>doctor_1000_people</th>\n",
       "    </tr>\n",
       "  </thead>\n",
       "  <tbody>\n",
       "    <tr>\n",
       "      <th>0</th>\n",
       "      <td>None</td>\n",
       "      <td>AFE</td>\n",
       "      <td>Médicos (por cada 1.000 personas)</td>\n",
       "      <td>SH.MED.PHYS.ZS</td>\n",
       "      <td>1993</td>\n",
       "      <td>None</td>\n",
       "    </tr>\n",
       "    <tr>\n",
       "      <th>1</th>\n",
       "      <td>Cabo Verde</td>\n",
       "      <td>CPV</td>\n",
       "      <td>Médicos (por cada 1.000 personas)</td>\n",
       "      <td>SH.MED.PHYS.ZS</td>\n",
       "      <td>2016</td>\n",
       "      <td>0.7682</td>\n",
       "    </tr>\n",
       "    <tr>\n",
       "      <th>2</th>\n",
       "      <td>Israel</td>\n",
       "      <td>ISR</td>\n",
       "      <td>Médicos (por cada 1.000 personas)</td>\n",
       "      <td>SH.MED.PHYS.ZS</td>\n",
       "      <td>1988</td>\n",
       "      <td>None</td>\n",
       "    </tr>\n",
       "  </tbody>\n",
       "</table>\n",
       "</div>"
      ],
      "text/plain": [
       "  Country Name Country Code                     Indicator Name  Indicator Code  Year doctor_1000_people\n",
       "0         None          AFE  Médicos (por cada 1.000 personas)  SH.MED.PHYS.ZS  1993               None\n",
       "1   Cabo Verde          CPV  Médicos (por cada 1.000 personas)  SH.MED.PHYS.ZS  2016             0.7682\n",
       "2       Israel          ISR  Médicos (por cada 1.000 personas)  SH.MED.PHYS.ZS  1988               None"
      ]
     },
     "execution_count": 197,
     "metadata": {},
     "output_type": "execute_result"
    }
   ],
   "source": [
    "data_15.sample(False, 3/data_15.count(), seed=150).limit(3).pandas_api()\n"
   ]
  },
  {
   "cell_type": "code",
   "execution_count": 198,
   "id": "3397bc67-fbdb-4eeb-8c6b-2e9332f6c176",
   "metadata": {
    "execution": {
     "iopub.execute_input": "2023-06-06T05:59:08.992614Z",
     "iopub.status.busy": "2023-06-06T05:59:08.992368Z",
     "iopub.status.idle": "2023-06-06T05:59:08.998022Z",
     "shell.execute_reply": "2023-06-06T05:59:08.997460Z",
     "shell.execute_reply.started": "2023-06-06T05:59:08.992588Z"
    },
    "tags": []
   },
   "outputs": [],
   "source": [
    "data_15 = data_15.drop(\"Country Name\",\"Indicator Name\",\"Indicator Code\")"
   ]
  },
  {
   "cell_type": "markdown",
   "id": "ae11a09c-ba15-4001-b872-0ae38c3a424a",
   "metadata": {},
   "source": [
    "# Camas hospitalarias (por cada 1.000 personas)\n",
    "\n",
    "Las camas hospitalarias se refiere a la cantidad de camas disponibles para internaciones en hospitales públicos, privados, generales y especializados, y centros de rehabilitación. En la mayoría de los casos se incluyen tanto las camas para atención de agudos como las camas para atención de enfermos crónicos.\n",
    "\n",
    "https://datos.bancomundial.org/indicador/SH.MED.BEDS.ZS?view=chart"
   ]
  },
  {
   "cell_type": "code",
   "execution_count": 199,
   "id": "0832ea51-bf56-48d7-9545-875f2f8a8326",
   "metadata": {
    "execution": {
     "iopub.execute_input": "2023-06-06T05:59:08.998902Z",
     "iopub.status.busy": "2023-06-06T05:59:08.998656Z",
     "iopub.status.idle": "2023-06-06T05:59:09.009471Z",
     "shell.execute_reply": "2023-06-06T05:59:09.008956Z",
     "shell.execute_reply.started": "2023-06-06T05:59:08.998877Z"
    },
    "tags": []
   },
   "outputs": [],
   "source": [
    "url_16 =\"https://api.worldbank.org/v2/es/indicator/SH.MED.BEDS.ZS?downloadformat=csv\""
   ]
  },
  {
   "cell_type": "code",
   "execution_count": 200,
   "id": "74f42249-9ee8-45ec-9d03-84691c2231a5",
   "metadata": {
    "execution": {
     "iopub.execute_input": "2023-06-06T05:59:09.010506Z",
     "iopub.status.busy": "2023-06-06T05:59:09.010244Z",
     "iopub.status.idle": "2023-06-06T05:59:10.126983Z",
     "shell.execute_reply": "2023-06-06T05:59:10.126324Z",
     "shell.execute_reply.started": "2023-06-06T05:59:09.010483Z"
    },
    "tags": []
   },
   "outputs": [],
   "source": [
    "response_url_16 = requests.get(url_16)"
   ]
  },
  {
   "cell_type": "code",
   "execution_count": 201,
   "id": "d3cace39-8206-4f15-a297-6440b98bd423",
   "metadata": {
    "execution": {
     "iopub.execute_input": "2023-06-06T05:59:10.128616Z",
     "iopub.status.busy": "2023-06-06T05:59:10.128351Z",
     "iopub.status.idle": "2023-06-06T05:59:10.135391Z",
     "shell.execute_reply": "2023-06-06T05:59:10.134271Z",
     "shell.execute_reply.started": "2023-06-06T05:59:10.128592Z"
    },
    "tags": []
   },
   "outputs": [
    {
     "name": "stdout",
     "output_type": "stream",
     "text": [
      "El archivo ZIP se ha descargado y descomprimido correctamente.\n"
     ]
    }
   ],
   "source": [
    "if response_url_16.status_code == 200:\n",
    "    # Crear un objeto ZipFile a partir de los datos de la respuesta\n",
    "    with zipfile.ZipFile(io.BytesIO(response_url_16.content), \"r\") as zip_url_16:\n",
    "        # Extraer todos los archivos del archivo ZIP en el directorio actual\n",
    "        zip_url_16.extractall(\"dataset\")\n",
    "\n",
    "    print(\"El archivo ZIP se ha descargado y descomprimido correctamente.\")\n",
    "else:\n",
    "    print(\"Error al descargar el archivo ZIP:\", response_url_16.status_code)"
   ]
  },
  {
   "cell_type": "code",
   "execution_count": 202,
   "id": "9a165da8-d6d4-4c63-8598-5546de55b2d2",
   "metadata": {
    "execution": {
     "iopub.execute_input": "2023-06-06T05:59:10.154015Z",
     "iopub.status.busy": "2023-06-06T05:59:10.153706Z",
     "iopub.status.idle": "2023-06-06T05:59:10.157230Z",
     "shell.execute_reply": "2023-06-06T05:59:10.156523Z",
     "shell.execute_reply.started": "2023-06-06T05:59:10.153997Z"
    },
    "tags": []
   },
   "outputs": [],
   "source": [
    "# Ruta del archivo CSV\n",
    "\n",
    "csv_url_16 = \"dataset/API_SH.MED.BEDS.ZS_DS2_es_csv_v2_5465852.csv\"\n",
    "\n",
    "# Crear una lista para almacenar las filas del archivo CSV\n",
    "rows_url_16 = []"
   ]
  },
  {
   "cell_type": "code",
   "execution_count": 203,
   "id": "c3d3246e-2baf-410b-9415-2c2a32119465",
   "metadata": {
    "execution": {
     "iopub.execute_input": "2023-06-06T05:59:10.158221Z",
     "iopub.status.busy": "2023-06-06T05:59:10.157976Z",
     "iopub.status.idle": "2023-06-06T05:59:10.176130Z",
     "shell.execute_reply": "2023-06-06T05:59:10.175544Z",
     "shell.execute_reply.started": "2023-06-06T05:59:10.158196Z"
    },
    "tags": []
   },
   "outputs": [],
   "source": [
    "# Leer el archivo CSV y almacenar las filas en la lista\n",
    "with open(csv_url_16, \"r\") as file_csv_url_16:\n",
    "    csv_reader_url_16 = csv.reader(file_csv_url_16)\n",
    "    rows_url_16 = list(csv_reader_url_16)\n"
   ]
  },
  {
   "cell_type": "code",
   "execution_count": 204,
   "id": "660e145f-ae6c-4a82-97c6-2d577e535235",
   "metadata": {
    "execution": {
     "iopub.execute_input": "2023-06-06T05:59:10.177142Z",
     "iopub.status.busy": "2023-06-06T05:59:10.176877Z",
     "iopub.status.idle": "2023-06-06T05:59:10.188095Z",
     "shell.execute_reply": "2023-06-06T05:59:10.187400Z",
     "shell.execute_reply.started": "2023-06-06T05:59:10.177117Z"
    },
    "tags": []
   },
   "outputs": [],
   "source": [
    "# Eliminar las primeras 4 filas\n",
    "\n",
    "rows_url_16 = rows_url_16[4:]\n",
    "\n",
    "# Escribir las filas modificadas en un nuevo archivo CSV\n",
    "with open(\"dataset/data/dataset_16.csv\", \"w\", newline=\"\") as file_csv_url_16:\n",
    "    csv_writer_url_16 = csv.writer(file_csv_url_16)\n",
    "    csv_writer_url_16.writerows(rows_url_16)"
   ]
  },
  {
   "cell_type": "code",
   "execution_count": 205,
   "id": "02bc7879-ef20-4dc2-ae4a-ecf27886f93b",
   "metadata": {
    "execution": {
     "iopub.execute_input": "2023-06-06T05:59:10.189422Z",
     "iopub.status.busy": "2023-06-06T05:59:10.189117Z",
     "iopub.status.idle": "2023-06-06T05:59:10.268084Z",
     "shell.execute_reply": "2023-06-06T05:59:10.267492Z",
     "shell.execute_reply.started": "2023-06-06T05:59:10.189394Z"
    },
    "tags": []
   },
   "outputs": [],
   "source": [
    "data_16 = spark.read.csv(\"dataset_16.csv\", header=True)"
   ]
  },
  {
   "cell_type": "code",
   "execution_count": 206,
   "id": "ed5b2967-c946-4c0d-82a8-b948bcaeb256",
   "metadata": {
    "execution": {
     "iopub.execute_input": "2023-06-06T05:59:10.269075Z",
     "iopub.status.busy": "2023-06-06T05:59:10.268815Z",
     "iopub.status.idle": "2023-06-06T05:59:10.277902Z",
     "shell.execute_reply": "2023-06-06T05:59:10.277147Z",
     "shell.execute_reply.started": "2023-06-06T05:59:10.269047Z"
    },
    "tags": []
   },
   "outputs": [],
   "source": [
    "data_16 = data_16.drop(\"_c66\",\"_c67\")"
   ]
  },
  {
   "cell_type": "code",
   "execution_count": 207,
   "id": "18176756-476e-45d6-bff8-179a92f3202b",
   "metadata": {
    "execution": {
     "iopub.execute_input": "2023-06-06T05:59:10.279058Z",
     "iopub.status.busy": "2023-06-06T05:59:10.278836Z",
     "iopub.status.idle": "2023-06-06T05:59:10.521201Z",
     "shell.execute_reply": "2023-06-06T05:59:10.520641Z",
     "shell.execute_reply.started": "2023-06-06T05:59:10.279036Z"
    },
    "tags": []
   },
   "outputs": [
    {
     "data": {
      "text/html": [
       "<div>\n",
       "<style scoped>\n",
       "    .dataframe tbody tr th:only-of-type {\n",
       "        vertical-align: middle;\n",
       "    }\n",
       "\n",
       "    .dataframe tbody tr th {\n",
       "        vertical-align: top;\n",
       "    }\n",
       "\n",
       "    .dataframe thead th {\n",
       "        text-align: right;\n",
       "    }\n",
       "</style>\n",
       "<table border=\"1\" class=\"dataframe\">\n",
       "  <thead>\n",
       "    <tr style=\"text-align: right;\">\n",
       "      <th></th>\n",
       "      <th>Country Name</th>\n",
       "      <th>Country Code</th>\n",
       "      <th>Indicator Name</th>\n",
       "      <th>Indicator Code</th>\n",
       "      <th>1960</th>\n",
       "      <th>1961</th>\n",
       "      <th>1962</th>\n",
       "      <th>1963</th>\n",
       "      <th>1964</th>\n",
       "      <th>1965</th>\n",
       "      <th>1966</th>\n",
       "      <th>1967</th>\n",
       "      <th>1968</th>\n",
       "      <th>1969</th>\n",
       "      <th>1970</th>\n",
       "      <th>1971</th>\n",
       "      <th>1972</th>\n",
       "      <th>1973</th>\n",
       "      <th>1974</th>\n",
       "      <th>1975</th>\n",
       "      <th>1976</th>\n",
       "      <th>1977</th>\n",
       "      <th>1978</th>\n",
       "      <th>1979</th>\n",
       "      <th>1980</th>\n",
       "      <th>1981</th>\n",
       "      <th>1982</th>\n",
       "      <th>1983</th>\n",
       "      <th>1984</th>\n",
       "      <th>1985</th>\n",
       "      <th>1986</th>\n",
       "      <th>1987</th>\n",
       "      <th>1988</th>\n",
       "      <th>1989</th>\n",
       "      <th>1990</th>\n",
       "      <th>1991</th>\n",
       "      <th>1992</th>\n",
       "      <th>1993</th>\n",
       "      <th>1994</th>\n",
       "      <th>1995</th>\n",
       "      <th>1996</th>\n",
       "      <th>1997</th>\n",
       "      <th>1998</th>\n",
       "      <th>1999</th>\n",
       "      <th>2000</th>\n",
       "      <th>2001</th>\n",
       "      <th>2002</th>\n",
       "      <th>2003</th>\n",
       "      <th>2004</th>\n",
       "      <th>2005</th>\n",
       "      <th>2006</th>\n",
       "      <th>2007</th>\n",
       "      <th>2008</th>\n",
       "      <th>2009</th>\n",
       "      <th>2010</th>\n",
       "      <th>2011</th>\n",
       "      <th>2012</th>\n",
       "      <th>2013</th>\n",
       "      <th>2014</th>\n",
       "      <th>2015</th>\n",
       "      <th>2016</th>\n",
       "      <th>2017</th>\n",
       "      <th>2018</th>\n",
       "      <th>2019</th>\n",
       "      <th>2020</th>\n",
       "      <th>2021</th>\n",
       "      <th>2022</th>\n",
       "    </tr>\n",
       "  </thead>\n",
       "  <tbody>\n",
       "    <tr>\n",
       "      <th>0</th>\n",
       "      <td>Aruba</td>\n",
       "      <td>ABW</td>\n",
       "      <td>Camas hospitalarias (por cada 1.000 personas)</td>\n",
       "      <td>SH.MED.BEDS.ZS</td>\n",
       "      <td>None</td>\n",
       "      <td>None</td>\n",
       "      <td>None</td>\n",
       "      <td>None</td>\n",
       "      <td>None</td>\n",
       "      <td>None</td>\n",
       "      <td>None</td>\n",
       "      <td>None</td>\n",
       "      <td>None</td>\n",
       "      <td>None</td>\n",
       "      <td>None</td>\n",
       "      <td>None</td>\n",
       "      <td>None</td>\n",
       "      <td>None</td>\n",
       "      <td>None</td>\n",
       "      <td>None</td>\n",
       "      <td>None</td>\n",
       "      <td>None</td>\n",
       "      <td>None</td>\n",
       "      <td>None</td>\n",
       "      <td>None</td>\n",
       "      <td>None</td>\n",
       "      <td>None</td>\n",
       "      <td>None</td>\n",
       "      <td>None</td>\n",
       "      <td>None</td>\n",
       "      <td>None</td>\n",
       "      <td>None</td>\n",
       "      <td>None</td>\n",
       "      <td>None</td>\n",
       "      <td>None</td>\n",
       "      <td>None</td>\n",
       "      <td>None</td>\n",
       "      <td>None</td>\n",
       "      <td>None</td>\n",
       "      <td>None</td>\n",
       "      <td>None</td>\n",
       "      <td>None</td>\n",
       "      <td>None</td>\n",
       "      <td>None</td>\n",
       "      <td>None</td>\n",
       "      <td>None</td>\n",
       "      <td>None</td>\n",
       "      <td>None</td>\n",
       "      <td>None</td>\n",
       "      <td>None</td>\n",
       "      <td>None</td>\n",
       "      <td>None</td>\n",
       "      <td>None</td>\n",
       "      <td>None</td>\n",
       "      <td>None</td>\n",
       "      <td>None</td>\n",
       "      <td>None</td>\n",
       "      <td>None</td>\n",
       "      <td>None</td>\n",
       "      <td>None</td>\n",
       "      <td>None</td>\n",
       "      <td>None</td>\n",
       "      <td>None</td>\n",
       "      <td>None</td>\n",
       "      <td>None</td>\n",
       "      <td>None</td>\n",
       "      <td>None</td>\n",
       "    </tr>\n",
       "    <tr>\n",
       "      <th>1</th>\n",
       "      <td>None</td>\n",
       "      <td>AFE</td>\n",
       "      <td>Camas hospitalarias (por cada 1.000 personas)</td>\n",
       "      <td>SH.MED.BEDS.ZS</td>\n",
       "      <td>1.96644247316158</td>\n",
       "      <td>None</td>\n",
       "      <td>None</td>\n",
       "      <td>None</td>\n",
       "      <td>None</td>\n",
       "      <td>None</td>\n",
       "      <td>None</td>\n",
       "      <td>None</td>\n",
       "      <td>None</td>\n",
       "      <td>None</td>\n",
       "      <td>1.72278456987936</td>\n",
       "      <td>None</td>\n",
       "      <td>None</td>\n",
       "      <td>None</td>\n",
       "      <td>None</td>\n",
       "      <td>None</td>\n",
       "      <td>None</td>\n",
       "      <td>None</td>\n",
       "      <td>None</td>\n",
       "      <td>None</td>\n",
       "      <td>None</td>\n",
       "      <td>None</td>\n",
       "      <td>None</td>\n",
       "      <td>None</td>\n",
       "      <td>None</td>\n",
       "      <td>None</td>\n",
       "      <td>None</td>\n",
       "      <td>None</td>\n",
       "      <td>None</td>\n",
       "      <td>None</td>\n",
       "      <td>1.01027617850652</td>\n",
       "      <td>None</td>\n",
       "      <td>None</td>\n",
       "      <td>None</td>\n",
       "      <td>None</td>\n",
       "      <td>None</td>\n",
       "      <td>None</td>\n",
       "      <td>None</td>\n",
       "      <td>None</td>\n",
       "      <td>None</td>\n",
       "      <td>None</td>\n",
       "      <td>None</td>\n",
       "      <td>None</td>\n",
       "      <td>None</td>\n",
       "      <td>None</td>\n",
       "      <td>None</td>\n",
       "      <td>0.910850871743389</td>\n",
       "      <td>None</td>\n",
       "      <td>None</td>\n",
       "      <td>None</td>\n",
       "      <td>None</td>\n",
       "      <td>None</td>\n",
       "      <td>None</td>\n",
       "      <td>None</td>\n",
       "      <td>None</td>\n",
       "      <td>None</td>\n",
       "      <td>None</td>\n",
       "      <td>None</td>\n",
       "      <td>None</td>\n",
       "      <td>None</td>\n",
       "      <td>None</td>\n",
       "      <td>None</td>\n",
       "      <td>None</td>\n",
       "    </tr>\n",
       "    <tr>\n",
       "      <th>2</th>\n",
       "      <td>Afganistán</td>\n",
       "      <td>AFG</td>\n",
       "      <td>Camas hospitalarias (por cada 1.000 personas)</td>\n",
       "      <td>SH.MED.BEDS.ZS</td>\n",
       "      <td>0.170626997947693</td>\n",
       "      <td>None</td>\n",
       "      <td>None</td>\n",
       "      <td>None</td>\n",
       "      <td>None</td>\n",
       "      <td>None</td>\n",
       "      <td>None</td>\n",
       "      <td>None</td>\n",
       "      <td>None</td>\n",
       "      <td>None</td>\n",
       "      <td>0.199000000953674</td>\n",
       "      <td>None</td>\n",
       "      <td>None</td>\n",
       "      <td>None</td>\n",
       "      <td>None</td>\n",
       "      <td>None</td>\n",
       "      <td>None</td>\n",
       "      <td>None</td>\n",
       "      <td>None</td>\n",
       "      <td>None</td>\n",
       "      <td>None</td>\n",
       "      <td>0.275599986314774</td>\n",
       "      <td>None</td>\n",
       "      <td>None</td>\n",
       "      <td>None</td>\n",
       "      <td>None</td>\n",
       "      <td>None</td>\n",
       "      <td>0.3091000020504</td>\n",
       "      <td>None</td>\n",
       "      <td>None</td>\n",
       "      <td>0.2497999966</td>\n",
       "      <td>None</td>\n",
       "      <td>None</td>\n",
       "      <td>None</td>\n",
       "      <td>None</td>\n",
       "      <td>None</td>\n",
       "      <td>None</td>\n",
       "      <td>None</td>\n",
       "      <td>None</td>\n",
       "      <td>None</td>\n",
       "      <td>0.3</td>\n",
       "      <td>0.39</td>\n",
       "      <td>0.39</td>\n",
       "      <td>0.39</td>\n",
       "      <td>0.39</td>\n",
       "      <td>0.42</td>\n",
       "      <td>0.42</td>\n",
       "      <td>0.42</td>\n",
       "      <td>0.42</td>\n",
       "      <td>0.42</td>\n",
       "      <td>0.43</td>\n",
       "      <td>0.44</td>\n",
       "      <td>0.53</td>\n",
       "      <td>0.53</td>\n",
       "      <td>0.5</td>\n",
       "      <td>0.5</td>\n",
       "      <td>0.5</td>\n",
       "      <td>0.39</td>\n",
       "      <td>None</td>\n",
       "      <td>None</td>\n",
       "      <td>None</td>\n",
       "      <td>None</td>\n",
       "      <td>None</td>\n",
       "    </tr>\n",
       "  </tbody>\n",
       "</table>\n",
       "</div>"
      ],
      "text/plain": [
       "  Country Name Country Code                                 Indicator Name  Indicator Code               1960  1961  1962  1963  1964  1965  1966  1967  1968  1969               1970  1971  1972  1973  1974  1975  1976  1977  1978  1979  1980               1981  1982  1983  1984  1985  1986             1987  1988  1989              1990  1991  1992  1993  1994  1995  1996  1997  1998  1999  2000  2001  2002  2003  2004  2005               2006  2007  2008  2009  2010  2011  2012  2013  2014  2015  2016  2017  2018  2019  2020  2021  2022\n",
       "0        Aruba          ABW  Camas hospitalarias (por cada 1.000 personas)  SH.MED.BEDS.ZS               None  None  None  None  None  None  None  None  None  None               None  None  None  None  None  None  None  None  None  None  None               None  None  None  None  None  None             None  None  None              None  None  None  None  None  None  None  None  None  None  None  None  None  None  None  None               None  None  None  None  None  None  None  None  None  None  None  None  None  None  None  None  None\n",
       "1         None          AFE  Camas hospitalarias (por cada 1.000 personas)  SH.MED.BEDS.ZS   1.96644247316158  None  None  None  None  None  None  None  None  None   1.72278456987936  None  None  None  None  None  None  None  None  None  None               None  None  None  None  None  None             None  None  None  1.01027617850652  None  None  None  None  None  None  None  None  None  None  None  None  None  None  None  0.910850871743389  None  None  None  None  None  None  None  None  None  None  None  None  None  None  None  None\n",
       "2   Afganistán          AFG  Camas hospitalarias (por cada 1.000 personas)  SH.MED.BEDS.ZS  0.170626997947693  None  None  None  None  None  None  None  None  None  0.199000000953674  None  None  None  None  None  None  None  None  None  None  0.275599986314774  None  None  None  None  None  0.3091000020504  None  None      0.2497999966  None  None  None  None  None  None  None  None  None   0.3  0.39  0.39  0.39  0.39  0.42               0.42  0.42  0.42  0.42  0.43  0.44  0.53  0.53   0.5   0.5   0.5  0.39  None  None  None  None  None"
      ]
     },
     "execution_count": 207,
     "metadata": {},
     "output_type": "execute_result"
    }
   ],
   "source": [
    "data_16.limit(3).pandas_api()"
   ]
  },
  {
   "cell_type": "code",
   "execution_count": 208,
   "id": "cd2be03d-c5c6-44fb-8a42-c51e934591e2",
   "metadata": {
    "execution": {
     "iopub.execute_input": "2023-06-06T05:59:10.522382Z",
     "iopub.status.busy": "2023-06-06T05:59:10.522122Z",
     "iopub.status.idle": "2023-06-06T05:59:10.533625Z",
     "shell.execute_reply": "2023-06-06T05:59:10.532982Z",
     "shell.execute_reply.started": "2023-06-06T05:59:10.522357Z"
    },
    "tags": []
   },
   "outputs": [],
   "source": [
    "data_16 = data_16.selectExpr('`Country Name`', '`Country Code`', \"`Indicator Name`\", \"`Indicator Code`\", \"stack(63, \\\n",
    "'1960', `1960`, '1961', `1961`, '1962', `1962`, '1963', `1963`, '1964', `1964`, \\\n",
    "'1965', `1965`, '1966', `1966`, '1967', `1967`, '1968', `1968`, '1969', `1969`, \\\n",
    "'1970', `1970`, '1971', `1971`, '1972', `1972`, '1973', `1973`, '1974', `1974`, \\\n",
    "'1975', `1975`, '1976', `1976`, '1977', `1977`, '1978', `1978`, '1979', `1979`, \\\n",
    "'1980', `1980`, '1981', `1981`, '1982', `1982`, '1983', `1983`, '1984', `1984`, \\\n",
    "'1985', `1985`, '1986', `1986`, '1987', `1987`, '1988', `1988`, '1989', `1989`, \\\n",
    "'1990', `1990`, '1991', `1991`, '1992', `1992`, '1993', `1993`, '1994', `1994`, \\\n",
    "'1995', `1995`, '1996', `1996`, '1997', `1997`, '1998', `1998`, '1999', `1999`, \\\n",
    "'2010', `2010`, '2011', `2011`, '2012', `2012`, '2013', `2013`, '2014', `2014`, \\\n",
    "'2015', `2015`, '2016', `2016`, '2017', `2017`, '2018', `2018`, '2019', `2019`, \\\n",
    "'2010', `2010`, '2011', `2011`, '2012', `2012`, '2013', `2013`, '2014', `2014`, \\\n",
    "'2015', `2015`, '2016', `2016`, '2017', `2017`, '2018', `2018`, '2019', `2019`, \\\n",
    "'2020', `2020`, '2021', `2021`, '2022', `2022`) as (Year, bed_1000_people)\")"
   ]
  },
  {
   "cell_type": "code",
   "execution_count": 209,
   "id": "8b27c00b-d736-4def-bef0-ec7ad88face4",
   "metadata": {
    "execution": {
     "iopub.execute_input": "2023-06-06T05:59:10.534622Z",
     "iopub.status.busy": "2023-06-06T05:59:10.534382Z",
     "iopub.status.idle": "2023-06-06T05:59:10.699102Z",
     "shell.execute_reply": "2023-06-06T05:59:10.698500Z",
     "shell.execute_reply.started": "2023-06-06T05:59:10.534599Z"
    },
    "tags": []
   },
   "outputs": [
    {
     "data": {
      "text/html": [
       "<div>\n",
       "<style scoped>\n",
       "    .dataframe tbody tr th:only-of-type {\n",
       "        vertical-align: middle;\n",
       "    }\n",
       "\n",
       "    .dataframe tbody tr th {\n",
       "        vertical-align: top;\n",
       "    }\n",
       "\n",
       "    .dataframe thead th {\n",
       "        text-align: right;\n",
       "    }\n",
       "</style>\n",
       "<table border=\"1\" class=\"dataframe\">\n",
       "  <thead>\n",
       "    <tr style=\"text-align: right;\">\n",
       "      <th></th>\n",
       "      <th>Country Name</th>\n",
       "      <th>Country Code</th>\n",
       "      <th>Indicator Name</th>\n",
       "      <th>Indicator Code</th>\n",
       "      <th>Year</th>\n",
       "      <th>bed_1000_people</th>\n",
       "    </tr>\n",
       "  </thead>\n",
       "  <tbody>\n",
       "    <tr>\n",
       "      <th>0</th>\n",
       "      <td>None</td>\n",
       "      <td>AFE</td>\n",
       "      <td>Camas hospitalarias (por cada 1.000 personas)</td>\n",
       "      <td>SH.MED.BEDS.ZS</td>\n",
       "      <td>1993</td>\n",
       "      <td>None</td>\n",
       "    </tr>\n",
       "    <tr>\n",
       "      <th>1</th>\n",
       "      <td>Cabo Verde</td>\n",
       "      <td>CPV</td>\n",
       "      <td>Camas hospitalarias (por cada 1.000 personas)</td>\n",
       "      <td>SH.MED.BEDS.ZS</td>\n",
       "      <td>2016</td>\n",
       "      <td>None</td>\n",
       "    </tr>\n",
       "    <tr>\n",
       "      <th>2</th>\n",
       "      <td>Israel</td>\n",
       "      <td>ISR</td>\n",
       "      <td>Camas hospitalarias (por cada 1.000 personas)</td>\n",
       "      <td>SH.MED.BEDS.ZS</td>\n",
       "      <td>1988</td>\n",
       "      <td>6.31689977645874</td>\n",
       "    </tr>\n",
       "  </tbody>\n",
       "</table>\n",
       "</div>"
      ],
      "text/plain": [
       "  Country Name Country Code                                 Indicator Name  Indicator Code  Year   bed_1000_people\n",
       "0         None          AFE  Camas hospitalarias (por cada 1.000 personas)  SH.MED.BEDS.ZS  1993              None\n",
       "1   Cabo Verde          CPV  Camas hospitalarias (por cada 1.000 personas)  SH.MED.BEDS.ZS  2016              None\n",
       "2       Israel          ISR  Camas hospitalarias (por cada 1.000 personas)  SH.MED.BEDS.ZS  1988  6.31689977645874"
      ]
     },
     "execution_count": 209,
     "metadata": {},
     "output_type": "execute_result"
    }
   ],
   "source": [
    "data_16.sample(False, 3/data_16.count(), seed=150).limit(3).pandas_api()"
   ]
  },
  {
   "cell_type": "code",
   "execution_count": 210,
   "id": "1f557f14-6c33-418d-970b-bc157f7f01f3",
   "metadata": {
    "execution": {
     "iopub.execute_input": "2023-06-06T05:59:10.700159Z",
     "iopub.status.busy": "2023-06-06T05:59:10.699935Z",
     "iopub.status.idle": "2023-06-06T05:59:10.706969Z",
     "shell.execute_reply": "2023-06-06T05:59:10.706363Z",
     "shell.execute_reply.started": "2023-06-06T05:59:10.700137Z"
    },
    "tags": []
   },
   "outputs": [
    {
     "data": {
      "text/plain": [
       "['Country Code', 'Year', 'bed_1000_people']"
      ]
     },
     "execution_count": 210,
     "metadata": {},
     "output_type": "execute_result"
    }
   ],
   "source": [
    "data_16 = data_16.drop(\"Country Name\",\"Indicator Name\",\"Indicator Code\")\n",
    "data_16.columns"
   ]
  },
  {
   "cell_type": "markdown",
   "id": "b3ab694e-4008-491a-9d4c-a9b8454a96a0",
   "metadata": {},
   "source": [
    "# People using at least basic drinking water services (% of population)\n",
    "\n",
    "The percentage of people using at least basic water services. This indicator encompasses both people using basic water services as well as those using safely managed water services. Basic drinking water services is defined as drinking water from an improved source, provided collection time is not more than 30 minutes for a round trip. Improved water sources include piped water, boreholes or tubewells, protected dug wells, protected springs, and packaged or delivered water.\n",
    "\n",
    "https://datos.bancomundial.org/indicador/SH.H2O.BASW.ZS?view=chart"
   ]
  },
  {
   "cell_type": "code",
   "execution_count": 211,
   "id": "7d634497-cb92-48aa-a5e2-3c3b20c606ef",
   "metadata": {
    "execution": {
     "iopub.execute_input": "2023-06-06T05:59:10.708034Z",
     "iopub.status.busy": "2023-06-06T05:59:10.707814Z",
     "iopub.status.idle": "2023-06-06T05:59:10.712125Z",
     "shell.execute_reply": "2023-06-06T05:59:10.711558Z",
     "shell.execute_reply.started": "2023-06-06T05:59:10.708013Z"
    },
    "tags": []
   },
   "outputs": [],
   "source": [
    "url_17 =\"https://api.worldbank.org/v2/es/indicator/SH.H2O.BASW.ZS?downloadformat=csv\""
   ]
  },
  {
   "cell_type": "code",
   "execution_count": 212,
   "id": "cd8e5726-b30a-46b4-9c9c-222b2447c868",
   "metadata": {
    "execution": {
     "iopub.execute_input": "2023-06-06T05:59:10.713191Z",
     "iopub.status.busy": "2023-06-06T05:59:10.712949Z",
     "iopub.status.idle": "2023-06-06T05:59:11.733387Z",
     "shell.execute_reply": "2023-06-06T05:59:11.732558Z",
     "shell.execute_reply.started": "2023-06-06T05:59:10.713169Z"
    },
    "tags": []
   },
   "outputs": [],
   "source": [
    "response_url_17 = requests.get(url_17)"
   ]
  },
  {
   "cell_type": "code",
   "execution_count": 213,
   "id": "30fadc6b-abe7-4f48-a486-8c53c4f42b59",
   "metadata": {
    "execution": {
     "iopub.execute_input": "2023-06-06T05:59:11.735084Z",
     "iopub.status.busy": "2023-06-06T05:59:11.734788Z",
     "iopub.status.idle": "2023-06-06T05:59:11.743513Z",
     "shell.execute_reply": "2023-06-06T05:59:11.742543Z",
     "shell.execute_reply.started": "2023-06-06T05:59:11.735055Z"
    },
    "tags": []
   },
   "outputs": [
    {
     "name": "stdout",
     "output_type": "stream",
     "text": [
      "El archivo ZIP se ha descargado y descomprimido correctamente.\n"
     ]
    }
   ],
   "source": [
    "if response_url_17.status_code == 200:\n",
    "    # Crear un objeto ZipFile a partir de los datos de la respuesta\n",
    "    with zipfile.ZipFile(io.BytesIO(response_url_17.content), \"r\") as zip_url_17:\n",
    "        # Extraer todos los archivos del archivo ZIP en el directorio actual\n",
    "        zip_url_17.extractall(\"dataset\")\n",
    "\n",
    "    print(\"El archivo ZIP se ha descargado y descomprimido correctamente.\")\n",
    "else:\n",
    "    print(\"Error al descargar el archivo ZIP:\", response_url_17.status_code)"
   ]
  },
  {
   "cell_type": "code",
   "execution_count": 214,
   "id": "3127d32c-cbea-42cd-9e05-71a53bf5118a",
   "metadata": {
    "execution": {
     "iopub.execute_input": "2023-06-06T05:59:11.744802Z",
     "iopub.status.busy": "2023-06-06T05:59:11.744545Z",
     "iopub.status.idle": "2023-06-06T05:59:11.752749Z",
     "shell.execute_reply": "2023-06-06T05:59:11.751935Z",
     "shell.execute_reply.started": "2023-06-06T05:59:11.744777Z"
    },
    "tags": []
   },
   "outputs": [],
   "source": [
    "import csv\n",
    "\n",
    "# Ruta del archivo CSV\n",
    "\n",
    "csv_url_17 = \"dataset/API_SH.H2O.BASW.ZS_DS2_es_csv_v2_5522723.csv\"\n",
    "\n",
    "# Crear una lista para almacenar las filas del archivo CSV\n",
    "rows_url_17 = []\n",
    "\n",
    "\n",
    "#API_SE.PRM.CMPT.ZS_DS2_es_csv_v2_5478942"
   ]
  },
  {
   "cell_type": "code",
   "execution_count": 215,
   "id": "e71cedd4-14c4-44c4-ad12-238349c51a8f",
   "metadata": {
    "execution": {
     "iopub.execute_input": "2023-06-06T05:59:11.754050Z",
     "iopub.status.busy": "2023-06-06T05:59:11.753757Z",
     "iopub.status.idle": "2023-06-06T05:59:11.761216Z",
     "shell.execute_reply": "2023-06-06T05:59:11.760607Z",
     "shell.execute_reply.started": "2023-06-06T05:59:11.754006Z"
    },
    "tags": []
   },
   "outputs": [],
   "source": [
    "# Leer el archivo CSV y almacenar las filas en la lista\n",
    "with open(csv_url_17, \"r\") as file_csv_url_17:\n",
    "    csv_reader_url_17 = csv.reader(file_csv_url_17)\n",
    "    rows_url_17 = list(csv_reader_url_17)\n"
   ]
  },
  {
   "cell_type": "code",
   "execution_count": 216,
   "id": "183a0be8-6192-4d10-88f7-8392a7226cf9",
   "metadata": {
    "execution": {
     "iopub.execute_input": "2023-06-06T05:59:11.762243Z",
     "iopub.status.busy": "2023-06-06T05:59:11.761935Z",
     "iopub.status.idle": "2023-06-06T05:59:11.771555Z",
     "shell.execute_reply": "2023-06-06T05:59:11.770867Z",
     "shell.execute_reply.started": "2023-06-06T05:59:11.762225Z"
    },
    "tags": []
   },
   "outputs": [],
   "source": [
    "# Eliminar las primeras 4 filas\n",
    "\n",
    "rows_url_17 = rows_url_17[4:]\n",
    "\n",
    "# Escribir las filas modificadas en un nuevo archivo CSV\n",
    "with open(\"dataset/data/dataset_17.csv\", \"w\", newline=\"\") as file_csv_url_17:\n",
    "    csv_writer_url_17 = csv.writer(file_csv_url_17)\n",
    "    csv_writer_url_17.writerows(rows_url_17)"
   ]
  },
  {
   "cell_type": "code",
   "execution_count": 217,
   "id": "595859a9-58e0-4e99-a16f-38a2c046edd2",
   "metadata": {
    "execution": {
     "iopub.execute_input": "2023-06-06T05:59:11.772641Z",
     "iopub.status.busy": "2023-06-06T05:59:11.772418Z",
     "iopub.status.idle": "2023-06-06T05:59:11.842333Z",
     "shell.execute_reply": "2023-06-06T05:59:11.841778Z",
     "shell.execute_reply.started": "2023-06-06T05:59:11.772619Z"
    },
    "tags": []
   },
   "outputs": [],
   "source": [
    "data_17 = spark.read.csv(\"dataset_17.csv\", header=True)"
   ]
  },
  {
   "cell_type": "code",
   "execution_count": 218,
   "id": "d9411a62-c3aa-4a68-9991-86d5bc3dc5af",
   "metadata": {
    "execution": {
     "iopub.execute_input": "2023-06-06T05:59:11.843309Z",
     "iopub.status.busy": "2023-06-06T05:59:11.843097Z",
     "iopub.status.idle": "2023-06-06T05:59:11.850288Z",
     "shell.execute_reply": "2023-06-06T05:59:11.849629Z",
     "shell.execute_reply.started": "2023-06-06T05:59:11.843293Z"
    },
    "tags": []
   },
   "outputs": [],
   "source": [
    "data_17 = data_17.drop(\"_c66\",\"_c67\")"
   ]
  },
  {
   "cell_type": "code",
   "execution_count": 219,
   "id": "777a6ee5-0cca-4c4a-9d0f-3f92d634f7bd",
   "metadata": {
    "execution": {
     "iopub.execute_input": "2023-06-06T05:59:11.851188Z",
     "iopub.status.busy": "2023-06-06T05:59:11.850980Z",
     "iopub.status.idle": "2023-06-06T05:59:12.069874Z",
     "shell.execute_reply": "2023-06-06T05:59:12.069267Z",
     "shell.execute_reply.started": "2023-06-06T05:59:11.851172Z"
    },
    "tags": []
   },
   "outputs": [
    {
     "data": {
      "text/html": [
       "<div>\n",
       "<style scoped>\n",
       "    .dataframe tbody tr th:only-of-type {\n",
       "        vertical-align: middle;\n",
       "    }\n",
       "\n",
       "    .dataframe tbody tr th {\n",
       "        vertical-align: top;\n",
       "    }\n",
       "\n",
       "    .dataframe thead th {\n",
       "        text-align: right;\n",
       "    }\n",
       "</style>\n",
       "<table border=\"1\" class=\"dataframe\">\n",
       "  <thead>\n",
       "    <tr style=\"text-align: right;\">\n",
       "      <th></th>\n",
       "      <th>Country Name</th>\n",
       "      <th>Country Code</th>\n",
       "      <th>Indicator Name</th>\n",
       "      <th>Indicator Code</th>\n",
       "      <th>1960</th>\n",
       "      <th>1961</th>\n",
       "      <th>1962</th>\n",
       "      <th>1963</th>\n",
       "      <th>1964</th>\n",
       "      <th>1965</th>\n",
       "      <th>1966</th>\n",
       "      <th>1967</th>\n",
       "      <th>1968</th>\n",
       "      <th>1969</th>\n",
       "      <th>1970</th>\n",
       "      <th>1971</th>\n",
       "      <th>1972</th>\n",
       "      <th>1973</th>\n",
       "      <th>1974</th>\n",
       "      <th>1975</th>\n",
       "      <th>1976</th>\n",
       "      <th>1977</th>\n",
       "      <th>1978</th>\n",
       "      <th>1979</th>\n",
       "      <th>1980</th>\n",
       "      <th>1981</th>\n",
       "      <th>1982</th>\n",
       "      <th>1983</th>\n",
       "      <th>1984</th>\n",
       "      <th>1985</th>\n",
       "      <th>1986</th>\n",
       "      <th>1987</th>\n",
       "      <th>1988</th>\n",
       "      <th>1989</th>\n",
       "      <th>1990</th>\n",
       "      <th>1991</th>\n",
       "      <th>1992</th>\n",
       "      <th>1993</th>\n",
       "      <th>1994</th>\n",
       "      <th>1995</th>\n",
       "      <th>1996</th>\n",
       "      <th>1997</th>\n",
       "      <th>1998</th>\n",
       "      <th>1999</th>\n",
       "      <th>2000</th>\n",
       "      <th>2001</th>\n",
       "      <th>2002</th>\n",
       "      <th>2003</th>\n",
       "      <th>2004</th>\n",
       "      <th>2005</th>\n",
       "      <th>2006</th>\n",
       "      <th>2007</th>\n",
       "      <th>2008</th>\n",
       "      <th>2009</th>\n",
       "      <th>2010</th>\n",
       "      <th>2011</th>\n",
       "      <th>2012</th>\n",
       "      <th>2013</th>\n",
       "      <th>2014</th>\n",
       "      <th>2015</th>\n",
       "      <th>2016</th>\n",
       "      <th>2017</th>\n",
       "      <th>2018</th>\n",
       "      <th>2019</th>\n",
       "      <th>2020</th>\n",
       "      <th>2021</th>\n",
       "      <th>2022</th>\n",
       "    </tr>\n",
       "  </thead>\n",
       "  <tbody>\n",
       "    <tr>\n",
       "      <th>0</th>\n",
       "      <td>Aruba</td>\n",
       "      <td>ABW</td>\n",
       "      <td>People using at least basic drinking water ser...</td>\n",
       "      <td>SH.H2O.BASW.ZS</td>\n",
       "      <td>None</td>\n",
       "      <td>None</td>\n",
       "      <td>None</td>\n",
       "      <td>None</td>\n",
       "      <td>None</td>\n",
       "      <td>None</td>\n",
       "      <td>None</td>\n",
       "      <td>None</td>\n",
       "      <td>None</td>\n",
       "      <td>None</td>\n",
       "      <td>None</td>\n",
       "      <td>None</td>\n",
       "      <td>None</td>\n",
       "      <td>None</td>\n",
       "      <td>None</td>\n",
       "      <td>None</td>\n",
       "      <td>None</td>\n",
       "      <td>None</td>\n",
       "      <td>None</td>\n",
       "      <td>None</td>\n",
       "      <td>None</td>\n",
       "      <td>None</td>\n",
       "      <td>None</td>\n",
       "      <td>None</td>\n",
       "      <td>None</td>\n",
       "      <td>None</td>\n",
       "      <td>None</td>\n",
       "      <td>None</td>\n",
       "      <td>None</td>\n",
       "      <td>None</td>\n",
       "      <td>None</td>\n",
       "      <td>None</td>\n",
       "      <td>None</td>\n",
       "      <td>None</td>\n",
       "      <td>None</td>\n",
       "      <td>None</td>\n",
       "      <td>None</td>\n",
       "      <td>None</td>\n",
       "      <td>None</td>\n",
       "      <td>None</td>\n",
       "      <td>94.48880636</td>\n",
       "      <td>94.77049111</td>\n",
       "      <td>95.05217586</td>\n",
       "      <td>95.33386061</td>\n",
       "      <td>95.61554536</td>\n",
       "      <td>95.89723012</td>\n",
       "      <td>96.17891487</td>\n",
       "      <td>96.46059962</td>\n",
       "      <td>96.74228437</td>\n",
       "      <td>97.02396912</td>\n",
       "      <td>97.30565388</td>\n",
       "      <td>97.58733863</td>\n",
       "      <td>97.86902338</td>\n",
       "      <td>97.86902338</td>\n",
       "      <td>97.86902338</td>\n",
       "      <td>97.86902338</td>\n",
       "      <td>97.86902338</td>\n",
       "      <td>None</td>\n",
       "      <td>None</td>\n",
       "      <td>None</td>\n",
       "      <td>None</td>\n",
       "      <td>None</td>\n",
       "      <td>None</td>\n",
       "    </tr>\n",
       "    <tr>\n",
       "      <th>1</th>\n",
       "      <td>None</td>\n",
       "      <td>AFE</td>\n",
       "      <td>People using at least basic drinking water ser...</td>\n",
       "      <td>SH.H2O.BASW.ZS</td>\n",
       "      <td>None</td>\n",
       "      <td>None</td>\n",
       "      <td>None</td>\n",
       "      <td>None</td>\n",
       "      <td>None</td>\n",
       "      <td>None</td>\n",
       "      <td>None</td>\n",
       "      <td>None</td>\n",
       "      <td>None</td>\n",
       "      <td>None</td>\n",
       "      <td>None</td>\n",
       "      <td>None</td>\n",
       "      <td>None</td>\n",
       "      <td>None</td>\n",
       "      <td>None</td>\n",
       "      <td>None</td>\n",
       "      <td>None</td>\n",
       "      <td>None</td>\n",
       "      <td>None</td>\n",
       "      <td>None</td>\n",
       "      <td>None</td>\n",
       "      <td>None</td>\n",
       "      <td>None</td>\n",
       "      <td>None</td>\n",
       "      <td>None</td>\n",
       "      <td>None</td>\n",
       "      <td>None</td>\n",
       "      <td>None</td>\n",
       "      <td>None</td>\n",
       "      <td>None</td>\n",
       "      <td>None</td>\n",
       "      <td>None</td>\n",
       "      <td>None</td>\n",
       "      <td>None</td>\n",
       "      <td>None</td>\n",
       "      <td>None</td>\n",
       "      <td>None</td>\n",
       "      <td>None</td>\n",
       "      <td>None</td>\n",
       "      <td>None</td>\n",
       "      <td>40.9878385268091</td>\n",
       "      <td>41.7682656148738</td>\n",
       "      <td>42.5698622720551</td>\n",
       "      <td>43.3781884782194</td>\n",
       "      <td>44.2105385918685</td>\n",
       "      <td>45.1470186912513</td>\n",
       "      <td>46.0918117680801</td>\n",
       "      <td>47.0073117592765</td>\n",
       "      <td>48.0101726060988</td>\n",
       "      <td>49.0247944329415</td>\n",
       "      <td>50.0414306397136</td>\n",
       "      <td>50.8719017594393</td>\n",
       "      <td>51.8635661559826</td>\n",
       "      <td>52.8588798915792</td>\n",
       "      <td>53.8713936521778</td>\n",
       "      <td>54.9083250740821</td>\n",
       "      <td>55.9002536892858</td>\n",
       "      <td>56.8334800312711</td>\n",
       "      <td>57.7784113958775</td>\n",
       "      <td>58.7009541207744</td>\n",
       "      <td>59.4239608758381</td>\n",
       "      <td>None</td>\n",
       "      <td>None</td>\n",
       "    </tr>\n",
       "    <tr>\n",
       "      <th>2</th>\n",
       "      <td>Afganistán</td>\n",
       "      <td>AFG</td>\n",
       "      <td>People using at least basic drinking water ser...</td>\n",
       "      <td>SH.H2O.BASW.ZS</td>\n",
       "      <td>None</td>\n",
       "      <td>None</td>\n",
       "      <td>None</td>\n",
       "      <td>None</td>\n",
       "      <td>None</td>\n",
       "      <td>None</td>\n",
       "      <td>None</td>\n",
       "      <td>None</td>\n",
       "      <td>None</td>\n",
       "      <td>None</td>\n",
       "      <td>None</td>\n",
       "      <td>None</td>\n",
       "      <td>None</td>\n",
       "      <td>None</td>\n",
       "      <td>None</td>\n",
       "      <td>None</td>\n",
       "      <td>None</td>\n",
       "      <td>None</td>\n",
       "      <td>None</td>\n",
       "      <td>None</td>\n",
       "      <td>None</td>\n",
       "      <td>None</td>\n",
       "      <td>None</td>\n",
       "      <td>None</td>\n",
       "      <td>None</td>\n",
       "      <td>None</td>\n",
       "      <td>None</td>\n",
       "      <td>None</td>\n",
       "      <td>None</td>\n",
       "      <td>None</td>\n",
       "      <td>None</td>\n",
       "      <td>None</td>\n",
       "      <td>None</td>\n",
       "      <td>None</td>\n",
       "      <td>None</td>\n",
       "      <td>None</td>\n",
       "      <td>None</td>\n",
       "      <td>None</td>\n",
       "      <td>None</td>\n",
       "      <td>None</td>\n",
       "      <td>28.17141501</td>\n",
       "      <td>28.19936611</td>\n",
       "      <td>30.23638459</td>\n",
       "      <td>32.27372204</td>\n",
       "      <td>34.32855936</td>\n",
       "      <td>36.40150061</td>\n",
       "      <td>38.47545989</td>\n",
       "      <td>40.87574634</td>\n",
       "      <td>43.31114546</td>\n",
       "      <td>45.78160949</td>\n",
       "      <td>48.28708366</td>\n",
       "      <td>50.8278463</td>\n",
       "      <td>53.4035172</td>\n",
       "      <td>56.01404291</td>\n",
       "      <td>58.65937353</td>\n",
       "      <td>61.33978081</td>\n",
       "      <td>64.0548831</td>\n",
       "      <td>66.80870335</td>\n",
       "      <td>69.60193058</td>\n",
       "      <td>72.43421885</td>\n",
       "      <td>75.09141325</td>\n",
       "      <td>None</td>\n",
       "      <td>None</td>\n",
       "    </tr>\n",
       "  </tbody>\n",
       "</table>\n",
       "</div>"
      ],
      "text/plain": [
       "  Country Name Country Code                                                         Indicator Name  Indicator Code  1960  1961  1962  1963  1964  1965  1966  1967  1968  1969  1970  1971  1972  1973  1974  1975  1976  1977  1978  1979  1980  1981  1982  1983  1984  1985  1986  1987  1988  1989  1990  1991  1992  1993  1994  1995  1996  1997  1998  1999              2000              2001              2002              2003              2004              2005              2006              2007              2008              2009              2010              2011              2012              2013              2014              2015              2016              2017              2018              2019              2020  2021  2022\n",
       "0        Aruba          ABW  People using at least basic drinking water services (% of population)  SH.H2O.BASW.ZS  None  None  None  None  None  None  None  None  None  None  None  None  None  None  None  None  None  None  None  None  None  None  None  None  None  None  None  None  None  None  None  None  None  None  None  None  None  None  None  None       94.48880636       94.77049111       95.05217586       95.33386061       95.61554536       95.89723012       96.17891487       96.46059962       96.74228437       97.02396912       97.30565388       97.58733863       97.86902338       97.86902338       97.86902338       97.86902338       97.86902338              None              None              None              None  None  None\n",
       "1         None          AFE  People using at least basic drinking water services (% of population)  SH.H2O.BASW.ZS  None  None  None  None  None  None  None  None  None  None  None  None  None  None  None  None  None  None  None  None  None  None  None  None  None  None  None  None  None  None  None  None  None  None  None  None  None  None  None  None  40.9878385268091  41.7682656148738  42.5698622720551  43.3781884782194  44.2105385918685  45.1470186912513  46.0918117680801  47.0073117592765  48.0101726060988  49.0247944329415  50.0414306397136  50.8719017594393  51.8635661559826  52.8588798915792  53.8713936521778  54.9083250740821  55.9002536892858  56.8334800312711  57.7784113958775  58.7009541207744  59.4239608758381  None  None\n",
       "2   Afganistán          AFG  People using at least basic drinking water services (% of population)  SH.H2O.BASW.ZS  None  None  None  None  None  None  None  None  None  None  None  None  None  None  None  None  None  None  None  None  None  None  None  None  None  None  None  None  None  None  None  None  None  None  None  None  None  None  None  None       28.17141501       28.19936611       30.23638459       32.27372204       34.32855936       36.40150061       38.47545989       40.87574634       43.31114546       45.78160949       48.28708366        50.8278463        53.4035172       56.01404291       58.65937353       61.33978081        64.0548831       66.80870335       69.60193058       72.43421885       75.09141325  None  None"
      ]
     },
     "execution_count": 219,
     "metadata": {},
     "output_type": "execute_result"
    }
   ],
   "source": [
    "data_17.limit(3).pandas_api()"
   ]
  },
  {
   "cell_type": "code",
   "execution_count": null,
   "id": "4f67acf6-99df-4fa5-8827-b05babb44cdf",
   "metadata": {},
   "outputs": [],
   "source": []
  },
  {
   "cell_type": "code",
   "execution_count": 220,
   "id": "990165be-e49a-4357-8117-9eb7f58c939b",
   "metadata": {
    "execution": {
     "iopub.execute_input": "2023-06-06T05:59:12.070943Z",
     "iopub.status.busy": "2023-06-06T05:59:12.070726Z",
     "iopub.status.idle": "2023-06-06T05:59:12.081965Z",
     "shell.execute_reply": "2023-06-06T05:59:12.081365Z",
     "shell.execute_reply.started": "2023-06-06T05:59:12.070922Z"
    },
    "tags": []
   },
   "outputs": [],
   "source": [
    "data_17 = data_17.selectExpr('`Country Name`', '`Country Code`', \"`Indicator Name`\", \"`Indicator Code`\", \"stack(63, \\\n",
    "'1960', `1960`, '1961', `1961`, '1962', `1962`, '1963', `1963`, '1964', `1964`, \\\n",
    "'1965', `1965`, '1966', `1966`, '1967', `1967`, '1968', `1968`, '1969', `1969`, \\\n",
    "'1970', `1970`, '1971', `1971`, '1972', `1972`, '1973', `1973`, '1974', `1974`, \\\n",
    "'1975', `1975`, '1976', `1976`, '1977', `1977`, '1978', `1978`, '1979', `1979`, \\\n",
    "'1980', `1980`, '1981', `1981`, '1982', `1982`, '1983', `1983`, '1984', `1984`, \\\n",
    "'1985', `1985`, '1986', `1986`, '1987', `1987`, '1988', `1988`, '1989', `1989`, \\\n",
    "'1990', `1990`, '1991', `1991`, '1992', `1992`, '1993', `1993`, '1994', `1994`, \\\n",
    "'1995', `1995`, '1996', `1996`, '1997', `1997`, '1998', `1998`, '1999', `1999`, \\\n",
    "'2010', `2010`, '2011', `2011`, '2012', `2012`, '2013', `2013`, '2014', `2014`, \\\n",
    "'2015', `2015`, '2016', `2016`, '2017', `2017`, '2018', `2018`, '2019', `2019`, \\\n",
    "'2010', `2010`, '2011', `2011`, '2012', `2012`, '2013', `2013`, '2014', `2014`, \\\n",
    "'2015', `2015`, '2016', `2016`, '2017', `2017`, '2018', `2018`, '2019', `2019`, \\\n",
    "'2020', `2020`, '2021', `2021`, '2022', `2022`) as (Year, porc_water_service)\")"
   ]
  },
  {
   "cell_type": "code",
   "execution_count": 221,
   "id": "c728ac80-258e-400a-967c-7133489e5d35",
   "metadata": {
    "execution": {
     "iopub.execute_input": "2023-06-06T05:59:12.082898Z",
     "iopub.status.busy": "2023-06-06T05:59:12.082687Z",
     "iopub.status.idle": "2023-06-06T05:59:12.255037Z",
     "shell.execute_reply": "2023-06-06T05:59:12.254423Z",
     "shell.execute_reply.started": "2023-06-06T05:59:12.082876Z"
    },
    "tags": []
   },
   "outputs": [
    {
     "data": {
      "text/html": [
       "<div>\n",
       "<style scoped>\n",
       "    .dataframe tbody tr th:only-of-type {\n",
       "        vertical-align: middle;\n",
       "    }\n",
       "\n",
       "    .dataframe tbody tr th {\n",
       "        vertical-align: top;\n",
       "    }\n",
       "\n",
       "    .dataframe thead th {\n",
       "        text-align: right;\n",
       "    }\n",
       "</style>\n",
       "<table border=\"1\" class=\"dataframe\">\n",
       "  <thead>\n",
       "    <tr style=\"text-align: right;\">\n",
       "      <th></th>\n",
       "      <th>Country Name</th>\n",
       "      <th>Country Code</th>\n",
       "      <th>Indicator Name</th>\n",
       "      <th>Indicator Code</th>\n",
       "      <th>Year</th>\n",
       "      <th>porc_water_service</th>\n",
       "    </tr>\n",
       "  </thead>\n",
       "  <tbody>\n",
       "    <tr>\n",
       "      <th>0</th>\n",
       "      <td>None</td>\n",
       "      <td>AFE</td>\n",
       "      <td>People using at least basic drinking water ser...</td>\n",
       "      <td>SH.H2O.BASW.ZS</td>\n",
       "      <td>1993</td>\n",
       "      <td>None</td>\n",
       "    </tr>\n",
       "    <tr>\n",
       "      <th>1</th>\n",
       "      <td>Cabo Verde</td>\n",
       "      <td>CPV</td>\n",
       "      <td>People using at least basic drinking water ser...</td>\n",
       "      <td>SH.H2O.BASW.ZS</td>\n",
       "      <td>2016</td>\n",
       "      <td>86.34735905</td>\n",
       "    </tr>\n",
       "    <tr>\n",
       "      <th>2</th>\n",
       "      <td>Israel</td>\n",
       "      <td>ISR</td>\n",
       "      <td>People using at least basic drinking water ser...</td>\n",
       "      <td>SH.H2O.BASW.ZS</td>\n",
       "      <td>1988</td>\n",
       "      <td>None</td>\n",
       "    </tr>\n",
       "  </tbody>\n",
       "</table>\n",
       "</div>"
      ],
      "text/plain": [
       "  Country Name Country Code                                                         Indicator Name  Indicator Code  Year porc_water_service\n",
       "0         None          AFE  People using at least basic drinking water services (% of population)  SH.H2O.BASW.ZS  1993               None\n",
       "1   Cabo Verde          CPV  People using at least basic drinking water services (% of population)  SH.H2O.BASW.ZS  2016        86.34735905\n",
       "2       Israel          ISR  People using at least basic drinking water services (% of population)  SH.H2O.BASW.ZS  1988               None"
      ]
     },
     "execution_count": 221,
     "metadata": {},
     "output_type": "execute_result"
    }
   ],
   "source": [
    "data_17.sample(False, 3/data_16.count(), seed=150).limit(3).pandas_api()\n"
   ]
  },
  {
   "cell_type": "code",
   "execution_count": 222,
   "id": "a9ca7ba4-6c8d-4aa8-85c9-671363564b6a",
   "metadata": {
    "execution": {
     "iopub.execute_input": "2023-06-06T05:59:12.256095Z",
     "iopub.status.busy": "2023-06-06T05:59:12.255873Z",
     "iopub.status.idle": "2023-06-06T05:59:12.262841Z",
     "shell.execute_reply": "2023-06-06T05:59:12.262235Z",
     "shell.execute_reply.started": "2023-06-06T05:59:12.256073Z"
    },
    "tags": []
   },
   "outputs": [
    {
     "data": {
      "text/plain": [
       "['Country Code', 'Year', 'porc_water_service']"
      ]
     },
     "execution_count": 222,
     "metadata": {},
     "output_type": "execute_result"
    }
   ],
   "source": [
    "data_17 = data_17.drop(\"Country Name\",\"Indicator Name\",\"Indicator Code\")\n",
    "data_17.columns"
   ]
  },
  {
   "cell_type": "markdown",
   "id": "95939382-4f0a-4cda-b8c7-420b0dc0944b",
   "metadata": {
    "execution": {
     "iopub.execute_input": "2023-06-04T14:07:34.584267Z",
     "iopub.status.busy": "2023-06-04T14:07:34.583989Z",
     "iopub.status.idle": "2023-06-04T14:07:34.589628Z",
     "shell.execute_reply": "2023-06-04T14:07:34.588626Z",
     "shell.execute_reply.started": "2023-06-04T14:07:34.584245Z"
    },
    "tags": []
   },
   "source": [
    "# Personas que utilizan al menos servicios básicos de sanitarios (% de la población)\n",
    "People using at least basic sanitation services (% of population)\n",
    "\n",
    "The percentage of people using at least basic sanitation services, that is, improved sanitation facilities that are not shared with other households. This indicator encompasses both people using basic sanitation services as well as those using safely managed sanitation services. Improved sanitation facilities include flush/pour flush to piped sewer systems, septic tanks or pit latrines; ventilated improved pit latrines, compositing toilets or pit latrines with slabs.\n",
    "\n",
    "https://datos.bancomundial.org/indicador/SH.STA.BASS.ZS?view=chart"
   ]
  },
  {
   "cell_type": "code",
   "execution_count": 223,
   "id": "a275c4bd-b54b-4c9d-9571-c65366ad2ecd",
   "metadata": {
    "execution": {
     "iopub.execute_input": "2023-06-06T05:59:12.264107Z",
     "iopub.status.busy": "2023-06-06T05:59:12.263719Z",
     "iopub.status.idle": "2023-06-06T05:59:12.271546Z",
     "shell.execute_reply": "2023-06-06T05:59:12.271020Z",
     "shell.execute_reply.started": "2023-06-06T05:59:12.264090Z"
    },
    "tags": []
   },
   "outputs": [],
   "source": [
    "url_18 =\"https://api.worldbank.org/v2/es/indicator/SH.STA.BASS.ZS?downloadformat=csv\""
   ]
  },
  {
   "cell_type": "code",
   "execution_count": 224,
   "id": "ff308841-32a8-4119-ace5-88b176756a97",
   "metadata": {
    "execution": {
     "iopub.execute_input": "2023-06-06T05:59:12.272335Z",
     "iopub.status.busy": "2023-06-06T05:59:12.272171Z",
     "iopub.status.idle": "2023-06-06T05:59:13.430557Z",
     "shell.execute_reply": "2023-06-06T05:59:13.429504Z",
     "shell.execute_reply.started": "2023-06-06T05:59:12.272320Z"
    },
    "tags": []
   },
   "outputs": [],
   "source": [
    "response_url_18 = requests.get(url_18)"
   ]
  },
  {
   "cell_type": "code",
   "execution_count": 225,
   "id": "3c8fa210-0d48-4f44-be8b-7a75ebe0f5e0",
   "metadata": {
    "execution": {
     "iopub.execute_input": "2023-06-06T05:59:13.432905Z",
     "iopub.status.busy": "2023-06-06T05:59:13.432553Z",
     "iopub.status.idle": "2023-06-06T05:59:13.442002Z",
     "shell.execute_reply": "2023-06-06T05:59:13.441109Z",
     "shell.execute_reply.started": "2023-06-06T05:59:13.432876Z"
    },
    "tags": []
   },
   "outputs": [
    {
     "name": "stdout",
     "output_type": "stream",
     "text": [
      "El archivo ZIP se ha descargado y descomprimido correctamente.\n"
     ]
    }
   ],
   "source": [
    "if response_url_18.status_code == 200:\n",
    "    # Crear un objeto ZipFile a partir de los datos de la respuesta\n",
    "    with zipfile.ZipFile(io.BytesIO(response_url_18.content), \"r\") as zip_url_18:\n",
    "        # Extraer todos los archivos del archivo ZIP en el directorio actual\n",
    "        zip_url_18.extractall(\"dataset\")\n",
    "\n",
    "    print(\"El archivo ZIP se ha descargado y descomprimido correctamente.\")\n",
    "else:\n",
    "    print(\"Error al descargar el archivo ZIP:\", response_url_18.status_code)"
   ]
  },
  {
   "cell_type": "code",
   "execution_count": 226,
   "id": "ec71fdc0-5fca-4d3b-a1c1-5603ff2f7cf9",
   "metadata": {
    "execution": {
     "iopub.execute_input": "2023-06-06T05:59:13.443388Z",
     "iopub.status.busy": "2023-06-06T05:59:13.443101Z",
     "iopub.status.idle": "2023-06-06T05:59:13.448455Z",
     "shell.execute_reply": "2023-06-06T05:59:13.447736Z",
     "shell.execute_reply.started": "2023-06-06T05:59:13.443360Z"
    },
    "tags": []
   },
   "outputs": [],
   "source": [
    "import csv\n",
    "\n",
    "# Ruta del archivo CSV\n",
    "\n",
    "csv_url_18 = \"dataset/API_SH.STA.BASS.ZS_DS2_es_csv_v2_5504500.csv\"\n",
    "\n",
    "# Crear una lista para almacenar las filas del archivo CSV\n",
    "rows_url_18 = []\n",
    "\n",
    "\n",
    "#API_SE.PRM.CMPT.ZS_DS2_es_csv_v2_5478942"
   ]
  },
  {
   "cell_type": "code",
   "execution_count": 227,
   "id": "813dfeed-a249-4cab-af66-f541fb8036af",
   "metadata": {
    "execution": {
     "iopub.execute_input": "2023-06-06T05:59:13.449828Z",
     "iopub.status.busy": "2023-06-06T05:59:13.449532Z",
     "iopub.status.idle": "2023-06-06T05:59:13.458286Z",
     "shell.execute_reply": "2023-06-06T05:59:13.457605Z",
     "shell.execute_reply.started": "2023-06-06T05:59:13.449805Z"
    },
    "tags": []
   },
   "outputs": [],
   "source": [
    "# Leer el archivo CSV y almacenar las filas en la lista\n",
    "with open(csv_url_18, \"r\") as file_csv_url_18:\n",
    "    csv_reader_url_18 = csv.reader(file_csv_url_18)\n",
    "    rows_url_18 = list(csv_reader_url_18)\n"
   ]
  },
  {
   "cell_type": "code",
   "execution_count": 228,
   "id": "27d97125-c2cf-4fea-aff3-1f522ad418c0",
   "metadata": {
    "execution": {
     "iopub.execute_input": "2023-06-06T05:59:13.459232Z",
     "iopub.status.busy": "2023-06-06T05:59:13.458886Z",
     "iopub.status.idle": "2023-06-06T05:59:13.468446Z",
     "shell.execute_reply": "2023-06-06T05:59:13.467848Z",
     "shell.execute_reply.started": "2023-06-06T05:59:13.459212Z"
    },
    "tags": []
   },
   "outputs": [],
   "source": [
    "# Eliminar las primeras 4 filas\n",
    "\n",
    "rows_url_18 = rows_url_18[4:]\n",
    "\n",
    "# Escribir las filas modificadas en un nuevo archivo CSV\n",
    "with open(\"dataset/data/dataset_18.csv\", \"w\", newline=\"\") as file_csv_url_18:\n",
    "    csv_writer_url_18 = csv.writer(file_csv_url_18)\n",
    "    csv_writer_url_18.writerows(rows_url_18)"
   ]
  },
  {
   "cell_type": "code",
   "execution_count": 229,
   "id": "fc57c1c0-7912-4002-b1bb-4ef874b67b1a",
   "metadata": {
    "execution": {
     "iopub.execute_input": "2023-06-06T05:59:13.469310Z",
     "iopub.status.busy": "2023-06-06T05:59:13.469084Z",
     "iopub.status.idle": "2023-06-06T05:59:13.533566Z",
     "shell.execute_reply": "2023-06-06T05:59:13.533004Z",
     "shell.execute_reply.started": "2023-06-06T05:59:13.469294Z"
    },
    "tags": []
   },
   "outputs": [],
   "source": [
    "data_18 = spark.read.csv(\"dataset_18.csv\", header=True)"
   ]
  },
  {
   "cell_type": "code",
   "execution_count": 230,
   "id": "3dfe8604-89bc-4007-8025-9a5b2979e373",
   "metadata": {
    "execution": {
     "iopub.execute_input": "2023-06-06T05:59:13.534716Z",
     "iopub.status.busy": "2023-06-06T05:59:13.534486Z",
     "iopub.status.idle": "2023-06-06T05:59:13.542238Z",
     "shell.execute_reply": "2023-06-06T05:59:13.541677Z",
     "shell.execute_reply.started": "2023-06-06T05:59:13.534693Z"
    },
    "tags": []
   },
   "outputs": [],
   "source": [
    "data_18 = data_18.drop(\"_c66\",\"_c67\")"
   ]
  },
  {
   "cell_type": "code",
   "execution_count": 231,
   "id": "5e7675a7-d9f3-470a-ad80-7baa2a07dca0",
   "metadata": {
    "execution": {
     "iopub.execute_input": "2023-06-06T05:59:13.543137Z",
     "iopub.status.busy": "2023-06-06T05:59:13.542970Z",
     "iopub.status.idle": "2023-06-06T05:59:13.753183Z",
     "shell.execute_reply": "2023-06-06T05:59:13.752322Z",
     "shell.execute_reply.started": "2023-06-06T05:59:13.543121Z"
    },
    "tags": []
   },
   "outputs": [
    {
     "data": {
      "text/html": [
       "<div>\n",
       "<style scoped>\n",
       "    .dataframe tbody tr th:only-of-type {\n",
       "        vertical-align: middle;\n",
       "    }\n",
       "\n",
       "    .dataframe tbody tr th {\n",
       "        vertical-align: top;\n",
       "    }\n",
       "\n",
       "    .dataframe thead th {\n",
       "        text-align: right;\n",
       "    }\n",
       "</style>\n",
       "<table border=\"1\" class=\"dataframe\">\n",
       "  <thead>\n",
       "    <tr style=\"text-align: right;\">\n",
       "      <th></th>\n",
       "      <th>Country Name</th>\n",
       "      <th>Country Code</th>\n",
       "      <th>Indicator Name</th>\n",
       "      <th>Indicator Code</th>\n",
       "      <th>1960</th>\n",
       "      <th>1961</th>\n",
       "      <th>1962</th>\n",
       "      <th>1963</th>\n",
       "      <th>1964</th>\n",
       "      <th>1965</th>\n",
       "      <th>1966</th>\n",
       "      <th>1967</th>\n",
       "      <th>1968</th>\n",
       "      <th>1969</th>\n",
       "      <th>1970</th>\n",
       "      <th>1971</th>\n",
       "      <th>1972</th>\n",
       "      <th>1973</th>\n",
       "      <th>1974</th>\n",
       "      <th>1975</th>\n",
       "      <th>1976</th>\n",
       "      <th>1977</th>\n",
       "      <th>1978</th>\n",
       "      <th>1979</th>\n",
       "      <th>1980</th>\n",
       "      <th>1981</th>\n",
       "      <th>1982</th>\n",
       "      <th>1983</th>\n",
       "      <th>1984</th>\n",
       "      <th>1985</th>\n",
       "      <th>1986</th>\n",
       "      <th>1987</th>\n",
       "      <th>1988</th>\n",
       "      <th>1989</th>\n",
       "      <th>1990</th>\n",
       "      <th>1991</th>\n",
       "      <th>1992</th>\n",
       "      <th>1993</th>\n",
       "      <th>1994</th>\n",
       "      <th>1995</th>\n",
       "      <th>1996</th>\n",
       "      <th>1997</th>\n",
       "      <th>1998</th>\n",
       "      <th>1999</th>\n",
       "      <th>2000</th>\n",
       "      <th>2001</th>\n",
       "      <th>2002</th>\n",
       "      <th>2003</th>\n",
       "      <th>2004</th>\n",
       "      <th>2005</th>\n",
       "      <th>2006</th>\n",
       "      <th>2007</th>\n",
       "      <th>2008</th>\n",
       "      <th>2009</th>\n",
       "      <th>2010</th>\n",
       "      <th>2011</th>\n",
       "      <th>2012</th>\n",
       "      <th>2013</th>\n",
       "      <th>2014</th>\n",
       "      <th>2015</th>\n",
       "      <th>2016</th>\n",
       "      <th>2017</th>\n",
       "      <th>2018</th>\n",
       "      <th>2019</th>\n",
       "      <th>2020</th>\n",
       "      <th>2021</th>\n",
       "      <th>2022</th>\n",
       "    </tr>\n",
       "  </thead>\n",
       "  <tbody>\n",
       "    <tr>\n",
       "      <th>0</th>\n",
       "      <td>Aruba</td>\n",
       "      <td>ABW</td>\n",
       "      <td>People using at least basic sanitation service...</td>\n",
       "      <td>SH.STA.BASS.ZS</td>\n",
       "      <td>None</td>\n",
       "      <td>None</td>\n",
       "      <td>None</td>\n",
       "      <td>None</td>\n",
       "      <td>None</td>\n",
       "      <td>None</td>\n",
       "      <td>None</td>\n",
       "      <td>None</td>\n",
       "      <td>None</td>\n",
       "      <td>None</td>\n",
       "      <td>None</td>\n",
       "      <td>None</td>\n",
       "      <td>None</td>\n",
       "      <td>None</td>\n",
       "      <td>None</td>\n",
       "      <td>None</td>\n",
       "      <td>None</td>\n",
       "      <td>None</td>\n",
       "      <td>None</td>\n",
       "      <td>None</td>\n",
       "      <td>None</td>\n",
       "      <td>None</td>\n",
       "      <td>None</td>\n",
       "      <td>None</td>\n",
       "      <td>None</td>\n",
       "      <td>None</td>\n",
       "      <td>None</td>\n",
       "      <td>None</td>\n",
       "      <td>None</td>\n",
       "      <td>None</td>\n",
       "      <td>None</td>\n",
       "      <td>None</td>\n",
       "      <td>None</td>\n",
       "      <td>None</td>\n",
       "      <td>None</td>\n",
       "      <td>None</td>\n",
       "      <td>None</td>\n",
       "      <td>None</td>\n",
       "      <td>None</td>\n",
       "      <td>None</td>\n",
       "      <td>98.32020997</td>\n",
       "      <td>98.25548257</td>\n",
       "      <td>98.19075516</td>\n",
       "      <td>98.12602776</td>\n",
       "      <td>98.06130035</td>\n",
       "      <td>97.99657295</td>\n",
       "      <td>97.93184555</td>\n",
       "      <td>97.86711814</td>\n",
       "      <td>97.80239074</td>\n",
       "      <td>97.73766333</td>\n",
       "      <td>97.67293593</td>\n",
       "      <td>97.60820852</td>\n",
       "      <td>97.54348112</td>\n",
       "      <td>97.54348112</td>\n",
       "      <td>97.54348112</td>\n",
       "      <td>97.54348112</td>\n",
       "      <td>97.54348112</td>\n",
       "      <td>None</td>\n",
       "      <td>None</td>\n",
       "      <td>None</td>\n",
       "      <td>None</td>\n",
       "      <td>None</td>\n",
       "      <td>None</td>\n",
       "    </tr>\n",
       "    <tr>\n",
       "      <th>1</th>\n",
       "      <td>None</td>\n",
       "      <td>AFE</td>\n",
       "      <td>People using at least basic sanitation service...</td>\n",
       "      <td>SH.STA.BASS.ZS</td>\n",
       "      <td>None</td>\n",
       "      <td>None</td>\n",
       "      <td>None</td>\n",
       "      <td>None</td>\n",
       "      <td>None</td>\n",
       "      <td>None</td>\n",
       "      <td>None</td>\n",
       "      <td>None</td>\n",
       "      <td>None</td>\n",
       "      <td>None</td>\n",
       "      <td>None</td>\n",
       "      <td>None</td>\n",
       "      <td>None</td>\n",
       "      <td>None</td>\n",
       "      <td>None</td>\n",
       "      <td>None</td>\n",
       "      <td>None</td>\n",
       "      <td>None</td>\n",
       "      <td>None</td>\n",
       "      <td>None</td>\n",
       "      <td>None</td>\n",
       "      <td>None</td>\n",
       "      <td>None</td>\n",
       "      <td>None</td>\n",
       "      <td>None</td>\n",
       "      <td>None</td>\n",
       "      <td>None</td>\n",
       "      <td>None</td>\n",
       "      <td>None</td>\n",
       "      <td>None</td>\n",
       "      <td>None</td>\n",
       "      <td>None</td>\n",
       "      <td>None</td>\n",
       "      <td>None</td>\n",
       "      <td>None</td>\n",
       "      <td>None</td>\n",
       "      <td>None</td>\n",
       "      <td>None</td>\n",
       "      <td>None</td>\n",
       "      <td>None</td>\n",
       "      <td>22.8211065402296</td>\n",
       "      <td>23.2114986094774</td>\n",
       "      <td>23.6005186330166</td>\n",
       "      <td>23.9893097400314</td>\n",
       "      <td>24.3751904507651</td>\n",
       "      <td>24.8267807588928</td>\n",
       "      <td>25.2590283093078</td>\n",
       "      <td>25.6688533218626</td>\n",
       "      <td>26.1318641507104</td>\n",
       "      <td>26.6044167362961</td>\n",
       "      <td>27.0751579646983</td>\n",
       "      <td>27.14586376719</td>\n",
       "      <td>27.607319729902</td>\n",
       "      <td>28.0768927689278</td>\n",
       "      <td>28.5678982360644</td>\n",
       "      <td>29.0837989288035</td>\n",
       "      <td>29.5521388922933</td>\n",
       "      <td>30.0182843340688</td>\n",
       "      <td>30.2964096753337</td>\n",
       "      <td>30.6558737186025</td>\n",
       "      <td>30.8359427084217</td>\n",
       "      <td>None</td>\n",
       "      <td>None</td>\n",
       "    </tr>\n",
       "    <tr>\n",
       "      <th>2</th>\n",
       "      <td>Afganistán</td>\n",
       "      <td>AFG</td>\n",
       "      <td>People using at least basic sanitation service...</td>\n",
       "      <td>SH.STA.BASS.ZS</td>\n",
       "      <td>None</td>\n",
       "      <td>None</td>\n",
       "      <td>None</td>\n",
       "      <td>None</td>\n",
       "      <td>None</td>\n",
       "      <td>None</td>\n",
       "      <td>None</td>\n",
       "      <td>None</td>\n",
       "      <td>None</td>\n",
       "      <td>None</td>\n",
       "      <td>None</td>\n",
       "      <td>None</td>\n",
       "      <td>None</td>\n",
       "      <td>None</td>\n",
       "      <td>None</td>\n",
       "      <td>None</td>\n",
       "      <td>None</td>\n",
       "      <td>None</td>\n",
       "      <td>None</td>\n",
       "      <td>None</td>\n",
       "      <td>None</td>\n",
       "      <td>None</td>\n",
       "      <td>None</td>\n",
       "      <td>None</td>\n",
       "      <td>None</td>\n",
       "      <td>None</td>\n",
       "      <td>None</td>\n",
       "      <td>None</td>\n",
       "      <td>None</td>\n",
       "      <td>None</td>\n",
       "      <td>None</td>\n",
       "      <td>None</td>\n",
       "      <td>None</td>\n",
       "      <td>None</td>\n",
       "      <td>None</td>\n",
       "      <td>None</td>\n",
       "      <td>None</td>\n",
       "      <td>None</td>\n",
       "      <td>None</td>\n",
       "      <td>None</td>\n",
       "      <td>21.87080211</td>\n",
       "      <td>21.88130402</td>\n",
       "      <td>23.27419282</td>\n",
       "      <td>24.66743482</td>\n",
       "      <td>26.06769471</td>\n",
       "      <td>27.47541582</td>\n",
       "      <td>28.8840397</td>\n",
       "      <td>30.37464076</td>\n",
       "      <td>31.87385375</td>\n",
       "      <td>33.38186228</td>\n",
       "      <td>34.89884717</td>\n",
       "      <td>36.4251488</td>\n",
       "      <td>37.96080939</td>\n",
       "      <td>39.50601764</td>\n",
       "      <td>41.06096635</td>\n",
       "      <td>42.62602284</td>\n",
       "      <td>44.20121748</td>\n",
       "      <td>45.78912703</td>\n",
       "      <td>47.39066209</td>\n",
       "      <td>49.00616952</td>\n",
       "      <td>50.49964687</td>\n",
       "      <td>None</td>\n",
       "      <td>None</td>\n",
       "    </tr>\n",
       "  </tbody>\n",
       "</table>\n",
       "</div>"
      ],
      "text/plain": [
       "  Country Name Country Code                                                     Indicator Name  Indicator Code  1960  1961  1962  1963  1964  1965  1966  1967  1968  1969  1970  1971  1972  1973  1974  1975  1976  1977  1978  1979  1980  1981  1982  1983  1984  1985  1986  1987  1988  1989  1990  1991  1992  1993  1994  1995  1996  1997  1998  1999              2000              2001              2002              2003              2004              2005              2006              2007              2008              2009              2010            2011             2012              2013              2014              2015              2016              2017              2018              2019              2020  2021  2022\n",
       "0        Aruba          ABW  People using at least basic sanitation services (% of population)  SH.STA.BASS.ZS  None  None  None  None  None  None  None  None  None  None  None  None  None  None  None  None  None  None  None  None  None  None  None  None  None  None  None  None  None  None  None  None  None  None  None  None  None  None  None  None       98.32020997       98.25548257       98.19075516       98.12602776       98.06130035       97.99657295       97.93184555       97.86711814       97.80239074       97.73766333       97.67293593     97.60820852      97.54348112       97.54348112       97.54348112       97.54348112       97.54348112              None              None              None              None  None  None\n",
       "1         None          AFE  People using at least basic sanitation services (% of population)  SH.STA.BASS.ZS  None  None  None  None  None  None  None  None  None  None  None  None  None  None  None  None  None  None  None  None  None  None  None  None  None  None  None  None  None  None  None  None  None  None  None  None  None  None  None  None  22.8211065402296  23.2114986094774  23.6005186330166  23.9893097400314  24.3751904507651  24.8267807588928  25.2590283093078  25.6688533218626  26.1318641507104  26.6044167362961  27.0751579646983  27.14586376719  27.607319729902  28.0768927689278  28.5678982360644  29.0837989288035  29.5521388922933  30.0182843340688  30.2964096753337  30.6558737186025  30.8359427084217  None  None\n",
       "2   Afganistán          AFG  People using at least basic sanitation services (% of population)  SH.STA.BASS.ZS  None  None  None  None  None  None  None  None  None  None  None  None  None  None  None  None  None  None  None  None  None  None  None  None  None  None  None  None  None  None  None  None  None  None  None  None  None  None  None  None       21.87080211       21.88130402       23.27419282       24.66743482       26.06769471       27.47541582        28.8840397       30.37464076       31.87385375       33.38186228       34.89884717      36.4251488      37.96080939       39.50601764       41.06096635       42.62602284       44.20121748       45.78912703       47.39066209       49.00616952       50.49964687  None  None"
      ]
     },
     "execution_count": 231,
     "metadata": {},
     "output_type": "execute_result"
    }
   ],
   "source": [
    "data_18.limit(3).pandas_api()"
   ]
  },
  {
   "cell_type": "code",
   "execution_count": null,
   "id": "2cc15021-e40d-44a7-b546-8e53bc052554",
   "metadata": {},
   "outputs": [],
   "source": []
  },
  {
   "cell_type": "code",
   "execution_count": 232,
   "id": "7f23484e-a4b9-4f81-8e69-ac7cd3e85285",
   "metadata": {
    "execution": {
     "iopub.execute_input": "2023-06-06T05:59:13.754034Z",
     "iopub.status.busy": "2023-06-06T05:59:13.753847Z",
     "iopub.status.idle": "2023-06-06T05:59:13.765863Z",
     "shell.execute_reply": "2023-06-06T05:59:13.765261Z",
     "shell.execute_reply.started": "2023-06-06T05:59:13.754017Z"
    },
    "tags": []
   },
   "outputs": [],
   "source": [
    "data_18 = data_18.selectExpr('`Country Name`', '`Country Code`', \"`Indicator Name`\", \"`Indicator Code`\", \"stack(63, \\\n",
    "'1960', `1960`, '1961', `1961`, '1962', `1962`, '1963', `1963`, '1964', `1964`, \\\n",
    "'1965', `1965`, '1966', `1966`, '1967', `1967`, '1968', `1968`, '1969', `1969`, \\\n",
    "'1970', `1970`, '1971', `1971`, '1972', `1972`, '1973', `1973`, '1974', `1974`, \\\n",
    "'1975', `1975`, '1976', `1976`, '1977', `1977`, '1978', `1978`, '1979', `1979`, \\\n",
    "'1980', `1980`, '1981', `1981`, '1982', `1982`, '1983', `1983`, '1984', `1984`, \\\n",
    "'1985', `1985`, '1986', `1986`, '1987', `1987`, '1988', `1988`, '1989', `1989`, \\\n",
    "'1990', `1990`, '1991', `1991`, '1992', `1992`, '1993', `1993`, '1994', `1994`, \\\n",
    "'1995', `1995`, '1996', `1996`, '1997', `1997`, '1998', `1998`, '1999', `1999`, \\\n",
    "'2010', `2010`, '2011', `2011`, '2012', `2012`, '2013', `2013`, '2014', `2014`, \\\n",
    "'2015', `2015`, '2016', `2016`, '2017', `2017`, '2018', `2018`, '2019', `2019`, \\\n",
    "'2010', `2010`, '2011', `2011`, '2012', `2012`, '2013', `2013`, '2014', `2014`, \\\n",
    "'2015', `2015`, '2016', `2016`, '2017', `2017`, '2018', `2018`, '2019', `2019`, \\\n",
    "'2020', `2020`, '2021', `2021`, '2022', `2022`) as (Year, porc_sanitation_services)\")"
   ]
  },
  {
   "cell_type": "code",
   "execution_count": 233,
   "id": "ff288bc4-5e2d-43bd-94e8-f9d287bf4638",
   "metadata": {
    "execution": {
     "iopub.execute_input": "2023-06-06T05:59:13.767003Z",
     "iopub.status.busy": "2023-06-06T05:59:13.766658Z",
     "iopub.status.idle": "2023-06-06T05:59:13.979374Z",
     "shell.execute_reply": "2023-06-06T05:59:13.978861Z",
     "shell.execute_reply.started": "2023-06-06T05:59:13.766971Z"
    },
    "tags": []
   },
   "outputs": [
    {
     "data": {
      "text/html": [
       "<div>\n",
       "<style scoped>\n",
       "    .dataframe tbody tr th:only-of-type {\n",
       "        vertical-align: middle;\n",
       "    }\n",
       "\n",
       "    .dataframe tbody tr th {\n",
       "        vertical-align: top;\n",
       "    }\n",
       "\n",
       "    .dataframe thead th {\n",
       "        text-align: right;\n",
       "    }\n",
       "</style>\n",
       "<table border=\"1\" class=\"dataframe\">\n",
       "  <thead>\n",
       "    <tr style=\"text-align: right;\">\n",
       "      <th></th>\n",
       "      <th>Country Name</th>\n",
       "      <th>Country Code</th>\n",
       "      <th>Indicator Name</th>\n",
       "      <th>Indicator Code</th>\n",
       "      <th>Year</th>\n",
       "      <th>porc_sanitation_services</th>\n",
       "    </tr>\n",
       "  </thead>\n",
       "  <tbody>\n",
       "    <tr>\n",
       "      <th>0</th>\n",
       "      <td>None</td>\n",
       "      <td>AFE</td>\n",
       "      <td>People using at least basic sanitation service...</td>\n",
       "      <td>SH.STA.BASS.ZS</td>\n",
       "      <td>1993</td>\n",
       "      <td>None</td>\n",
       "    </tr>\n",
       "    <tr>\n",
       "      <th>1</th>\n",
       "      <td>Cabo Verde</td>\n",
       "      <td>CPV</td>\n",
       "      <td>People using at least basic sanitation service...</td>\n",
       "      <td>SH.STA.BASS.ZS</td>\n",
       "      <td>2016</td>\n",
       "      <td>72.27341972</td>\n",
       "    </tr>\n",
       "    <tr>\n",
       "      <th>2</th>\n",
       "      <td>Israel</td>\n",
       "      <td>ISR</td>\n",
       "      <td>People using at least basic sanitation service...</td>\n",
       "      <td>SH.STA.BASS.ZS</td>\n",
       "      <td>1988</td>\n",
       "      <td>None</td>\n",
       "    </tr>\n",
       "  </tbody>\n",
       "</table>\n",
       "</div>"
      ],
      "text/plain": [
       "  Country Name Country Code                                                     Indicator Name  Indicator Code  Year porc_sanitation_services\n",
       "0         None          AFE  People using at least basic sanitation services (% of population)  SH.STA.BASS.ZS  1993                     None\n",
       "1   Cabo Verde          CPV  People using at least basic sanitation services (% of population)  SH.STA.BASS.ZS  2016              72.27341972\n",
       "2       Israel          ISR  People using at least basic sanitation services (% of population)  SH.STA.BASS.ZS  1988                     None"
      ]
     },
     "execution_count": 233,
     "metadata": {},
     "output_type": "execute_result"
    }
   ],
   "source": [
    "data_18.sample(False, 3/data_18.count(), seed=150).limit(3).pandas_api()\n"
   ]
  },
  {
   "cell_type": "code",
   "execution_count": 234,
   "id": "d081940a-08d1-4363-8de1-ee3b0b8b2576",
   "metadata": {
    "execution": {
     "iopub.execute_input": "2023-06-06T05:59:13.980167Z",
     "iopub.status.busy": "2023-06-06T05:59:13.980003Z",
     "iopub.status.idle": "2023-06-06T05:59:13.986883Z",
     "shell.execute_reply": "2023-06-06T05:59:13.986369Z",
     "shell.execute_reply.started": "2023-06-06T05:59:13.980152Z"
    },
    "tags": []
   },
   "outputs": [
    {
     "data": {
      "text/plain": [
       "['Country Code', 'Year', 'porc_sanitation_services']"
      ]
     },
     "execution_count": 234,
     "metadata": {},
     "output_type": "execute_result"
    }
   ],
   "source": [
    "data_18 = data_18.drop(\"Country Name\",\"Indicator Name\",\"Indicator Code\")\n",
    "data_18.columns"
   ]
  },
  {
   "cell_type": "markdown",
   "id": "9a86421a-2692-436e-8467-92316ae97193",
   "metadata": {},
   "source": [
    "# Acceso a la electricidad (% de población)\n",
    "\n",
    "Acceso a la electricidad es el porcentaje de población con acceso a la electricidad. Los datos de electrificación se recopilan de la industria, las encuestas\n",
    "\n",
    "https://datos.bancomundial.org/indicador/EG.ELC.ACCS.ZS?view=chart"
   ]
  },
  {
   "cell_type": "code",
   "execution_count": 235,
   "id": "32d71af6-2a86-4bc8-b3ff-efaee9c93d7e",
   "metadata": {
    "execution": {
     "iopub.execute_input": "2023-06-06T05:59:13.987658Z",
     "iopub.status.busy": "2023-06-06T05:59:13.987497Z",
     "iopub.status.idle": "2023-06-06T05:59:13.994475Z",
     "shell.execute_reply": "2023-06-06T05:59:13.993928Z",
     "shell.execute_reply.started": "2023-06-06T05:59:13.987643Z"
    },
    "tags": []
   },
   "outputs": [],
   "source": [
    "url_19 =\"https://api.worldbank.org/v2/es/indicator/EG.ELC.ACCS.ZS?downloadformat=csv\""
   ]
  },
  {
   "cell_type": "code",
   "execution_count": 236,
   "id": "384775f7-5930-4d58-bd04-a510ed6a567d",
   "metadata": {
    "execution": {
     "iopub.execute_input": "2023-06-06T05:59:13.995268Z",
     "iopub.status.busy": "2023-06-06T05:59:13.995110Z",
     "iopub.status.idle": "2023-06-06T05:59:15.144827Z",
     "shell.execute_reply": "2023-06-06T05:59:15.143701Z",
     "shell.execute_reply.started": "2023-06-06T05:59:13.995252Z"
    },
    "tags": []
   },
   "outputs": [],
   "source": [
    "response_url_19 = requests.get(url_19)"
   ]
  },
  {
   "cell_type": "code",
   "execution_count": 237,
   "id": "a0e077cc-8e70-4837-83ee-4b47ad62c07c",
   "metadata": {
    "execution": {
     "iopub.execute_input": "2023-06-06T05:59:15.147516Z",
     "iopub.status.busy": "2023-06-06T05:59:15.147032Z",
     "iopub.status.idle": "2023-06-06T05:59:15.156371Z",
     "shell.execute_reply": "2023-06-06T05:59:15.155550Z",
     "shell.execute_reply.started": "2023-06-06T05:59:15.147471Z"
    },
    "tags": []
   },
   "outputs": [
    {
     "name": "stdout",
     "output_type": "stream",
     "text": [
      "El archivo ZIP se ha descargado y descomprimido correctamente.\n"
     ]
    }
   ],
   "source": [
    "if response_url_19.status_code == 200:\n",
    "    # Crear un objeto ZipFile a partir de los datos de la respuesta\n",
    "    with zipfile.ZipFile(io.BytesIO(response_url_19.content), \"r\") as zip_url_19:\n",
    "        # Extraer todos los archivos del archivo ZIP en el directorio actual\n",
    "        zip_url_19.extractall(\"dataset\")\n",
    "\n",
    "    print(\"El archivo ZIP se ha descargado y descomprimido correctamente.\")\n",
    "else:\n",
    "    print(\"Error al descargar el archivo ZIP:\", response_url_19.status_code)"
   ]
  },
  {
   "cell_type": "code",
   "execution_count": 238,
   "id": "a6ca6793-32fe-46bb-b04f-44dacd372b0b",
   "metadata": {
    "execution": {
     "iopub.execute_input": "2023-06-06T05:59:15.157779Z",
     "iopub.status.busy": "2023-06-06T05:59:15.157421Z",
     "iopub.status.idle": "2023-06-06T05:59:15.161243Z",
     "shell.execute_reply": "2023-06-06T05:59:15.160717Z",
     "shell.execute_reply.started": "2023-06-06T05:59:15.157754Z"
    },
    "tags": []
   },
   "outputs": [],
   "source": [
    "import csv\n",
    "\n",
    "# Ruta del archivo CSV\n",
    "\n",
    "csv_url_19 = \"dataset/API_EG.ELC.ACCS.ZS_DS2_es_csv_v2_5467323.csv\"\n",
    "\n",
    "# Crear una lista para almacenar las filas del archivo CSV\n",
    "rows_url_19 = []\n",
    "\n",
    "\n",
    "#API_SE.PRM.CMPT.ZS_DS2_es_csv_v2_5478942"
   ]
  },
  {
   "cell_type": "code",
   "execution_count": 239,
   "id": "016b2f34-5a14-4560-b367-a547d43e62e9",
   "metadata": {
    "execution": {
     "iopub.execute_input": "2023-06-06T05:59:15.161972Z",
     "iopub.status.busy": "2023-06-06T05:59:15.161814Z",
     "iopub.status.idle": "2023-06-06T05:59:15.173374Z",
     "shell.execute_reply": "2023-06-06T05:59:15.172801Z",
     "shell.execute_reply.started": "2023-06-06T05:59:15.161956Z"
    },
    "tags": []
   },
   "outputs": [],
   "source": [
    "# Leer el archivo CSV y almacenar las filas en la lista\n",
    "with open(csv_url_19, \"r\") as file_csv_url_19:\n",
    "    csv_reader_url_19 = csv.reader(file_csv_url_19)\n",
    "    rows_url_19 = list(csv_reader_url_19)\n"
   ]
  },
  {
   "cell_type": "code",
   "execution_count": 240,
   "id": "71dc7553-c448-4529-aa04-0ba1d8f14db3",
   "metadata": {
    "execution": {
     "iopub.execute_input": "2023-06-06T05:59:15.174228Z",
     "iopub.status.busy": "2023-06-06T05:59:15.174062Z",
     "iopub.status.idle": "2023-06-06T05:59:15.182515Z",
     "shell.execute_reply": "2023-06-06T05:59:15.181937Z",
     "shell.execute_reply.started": "2023-06-06T05:59:15.174211Z"
    },
    "tags": []
   },
   "outputs": [],
   "source": [
    "# Eliminar las primeras 4 filas\n",
    "\n",
    "rows_url_19 = rows_url_19[4:]\n",
    "\n",
    "# Escribir las filas modificadas en un nuevo archivo CSV\n",
    "with open(\"dataset/data/dataset_19.csv\", \"w\", newline=\"\") as file_csv_url_19:\n",
    "    csv_writer_url_19 = csv.writer(file_csv_url_19)\n",
    "    csv_writer_url_19.writerows(rows_url_19)"
   ]
  },
  {
   "cell_type": "code",
   "execution_count": 241,
   "id": "4dc1ea34-f8d5-4fae-9211-0c46976d6e42",
   "metadata": {
    "execution": {
     "iopub.execute_input": "2023-06-06T05:59:15.183201Z",
     "iopub.status.busy": "2023-06-06T05:59:15.183041Z",
     "iopub.status.idle": "2023-06-06T05:59:15.253050Z",
     "shell.execute_reply": "2023-06-06T05:59:15.252370Z",
     "shell.execute_reply.started": "2023-06-06T05:59:15.183185Z"
    },
    "tags": []
   },
   "outputs": [],
   "source": [
    "data_19 = spark.read.csv(\"dataset_19.csv\", header=True)"
   ]
  },
  {
   "cell_type": "code",
   "execution_count": 242,
   "id": "e8110a22-0deb-406a-9a58-ad4cd87c424c",
   "metadata": {
    "execution": {
     "iopub.execute_input": "2023-06-06T05:59:15.254402Z",
     "iopub.status.busy": "2023-06-06T05:59:15.254135Z",
     "iopub.status.idle": "2023-06-06T05:59:15.262685Z",
     "shell.execute_reply": "2023-06-06T05:59:15.262128Z",
     "shell.execute_reply.started": "2023-06-06T05:59:15.254378Z"
    },
    "tags": []
   },
   "outputs": [],
   "source": [
    "data_19 = data_19.drop(\"_c66\",\"_c67\")"
   ]
  },
  {
   "cell_type": "code",
   "execution_count": 243,
   "id": "44ffcf56-d704-4a64-ab54-d1a31b2d0e28",
   "metadata": {
    "execution": {
     "iopub.execute_input": "2023-06-06T05:59:15.263546Z",
     "iopub.status.busy": "2023-06-06T05:59:15.263302Z",
     "iopub.status.idle": "2023-06-06T05:59:15.477397Z",
     "shell.execute_reply": "2023-06-06T05:59:15.476850Z",
     "shell.execute_reply.started": "2023-06-06T05:59:15.263522Z"
    },
    "tags": []
   },
   "outputs": [
    {
     "data": {
      "text/html": [
       "<div>\n",
       "<style scoped>\n",
       "    .dataframe tbody tr th:only-of-type {\n",
       "        vertical-align: middle;\n",
       "    }\n",
       "\n",
       "    .dataframe tbody tr th {\n",
       "        vertical-align: top;\n",
       "    }\n",
       "\n",
       "    .dataframe thead th {\n",
       "        text-align: right;\n",
       "    }\n",
       "</style>\n",
       "<table border=\"1\" class=\"dataframe\">\n",
       "  <thead>\n",
       "    <tr style=\"text-align: right;\">\n",
       "      <th></th>\n",
       "      <th>Country Name</th>\n",
       "      <th>Country Code</th>\n",
       "      <th>Indicator Name</th>\n",
       "      <th>Indicator Code</th>\n",
       "      <th>1960</th>\n",
       "      <th>1961</th>\n",
       "      <th>1962</th>\n",
       "      <th>1963</th>\n",
       "      <th>1964</th>\n",
       "      <th>1965</th>\n",
       "      <th>1966</th>\n",
       "      <th>1967</th>\n",
       "      <th>1968</th>\n",
       "      <th>1969</th>\n",
       "      <th>1970</th>\n",
       "      <th>1971</th>\n",
       "      <th>1972</th>\n",
       "      <th>1973</th>\n",
       "      <th>1974</th>\n",
       "      <th>1975</th>\n",
       "      <th>1976</th>\n",
       "      <th>1977</th>\n",
       "      <th>1978</th>\n",
       "      <th>1979</th>\n",
       "      <th>1980</th>\n",
       "      <th>1981</th>\n",
       "      <th>1982</th>\n",
       "      <th>1983</th>\n",
       "      <th>1984</th>\n",
       "      <th>1985</th>\n",
       "      <th>1986</th>\n",
       "      <th>1987</th>\n",
       "      <th>1988</th>\n",
       "      <th>1989</th>\n",
       "      <th>1990</th>\n",
       "      <th>1991</th>\n",
       "      <th>1992</th>\n",
       "      <th>1993</th>\n",
       "      <th>1994</th>\n",
       "      <th>1995</th>\n",
       "      <th>1996</th>\n",
       "      <th>1997</th>\n",
       "      <th>1998</th>\n",
       "      <th>1999</th>\n",
       "      <th>2000</th>\n",
       "      <th>2001</th>\n",
       "      <th>2002</th>\n",
       "      <th>2003</th>\n",
       "      <th>2004</th>\n",
       "      <th>2005</th>\n",
       "      <th>2006</th>\n",
       "      <th>2007</th>\n",
       "      <th>2008</th>\n",
       "      <th>2009</th>\n",
       "      <th>2010</th>\n",
       "      <th>2011</th>\n",
       "      <th>2012</th>\n",
       "      <th>2013</th>\n",
       "      <th>2014</th>\n",
       "      <th>2015</th>\n",
       "      <th>2016</th>\n",
       "      <th>2017</th>\n",
       "      <th>2018</th>\n",
       "      <th>2019</th>\n",
       "      <th>2020</th>\n",
       "      <th>2021</th>\n",
       "      <th>2022</th>\n",
       "    </tr>\n",
       "  </thead>\n",
       "  <tbody>\n",
       "    <tr>\n",
       "      <th>0</th>\n",
       "      <td>Aruba</td>\n",
       "      <td>ABW</td>\n",
       "      <td>Acceso a la electricidad (% de población)</td>\n",
       "      <td>EG.ELC.ACCS.ZS</td>\n",
       "      <td>None</td>\n",
       "      <td>None</td>\n",
       "      <td>None</td>\n",
       "      <td>None</td>\n",
       "      <td>None</td>\n",
       "      <td>None</td>\n",
       "      <td>None</td>\n",
       "      <td>None</td>\n",
       "      <td>None</td>\n",
       "      <td>None</td>\n",
       "      <td>None</td>\n",
       "      <td>None</td>\n",
       "      <td>None</td>\n",
       "      <td>None</td>\n",
       "      <td>None</td>\n",
       "      <td>None</td>\n",
       "      <td>None</td>\n",
       "      <td>None</td>\n",
       "      <td>None</td>\n",
       "      <td>None</td>\n",
       "      <td>None</td>\n",
       "      <td>None</td>\n",
       "      <td>None</td>\n",
       "      <td>None</td>\n",
       "      <td>None</td>\n",
       "      <td>None</td>\n",
       "      <td>None</td>\n",
       "      <td>None</td>\n",
       "      <td>None</td>\n",
       "      <td>None</td>\n",
       "      <td>100</td>\n",
       "      <td>99.1536560058594</td>\n",
       "      <td>99.1971282958984</td>\n",
       "      <td>99.2399139404297</td>\n",
       "      <td>100</td>\n",
       "      <td>100</td>\n",
       "      <td>100</td>\n",
       "      <td>100</td>\n",
       "      <td>100</td>\n",
       "      <td>100</td>\n",
       "      <td>91.660400390625</td>\n",
       "      <td>100</td>\n",
       "      <td>100</td>\n",
       "      <td>100</td>\n",
       "      <td>100</td>\n",
       "      <td>100</td>\n",
       "      <td>100</td>\n",
       "      <td>100</td>\n",
       "      <td>100</td>\n",
       "      <td>100</td>\n",
       "      <td>93.3562927246094</td>\n",
       "      <td>100</td>\n",
       "      <td>100</td>\n",
       "      <td>100</td>\n",
       "      <td>100</td>\n",
       "      <td>100</td>\n",
       "      <td>100</td>\n",
       "      <td>100</td>\n",
       "      <td>100</td>\n",
       "      <td>100</td>\n",
       "      <td>100</td>\n",
       "      <td>None</td>\n",
       "      <td>None</td>\n",
       "    </tr>\n",
       "    <tr>\n",
       "      <th>1</th>\n",
       "      <td>None</td>\n",
       "      <td>AFE</td>\n",
       "      <td>Acceso a la electricidad (% de población)</td>\n",
       "      <td>EG.ELC.ACCS.ZS</td>\n",
       "      <td>None</td>\n",
       "      <td>None</td>\n",
       "      <td>None</td>\n",
       "      <td>None</td>\n",
       "      <td>None</td>\n",
       "      <td>None</td>\n",
       "      <td>None</td>\n",
       "      <td>None</td>\n",
       "      <td>None</td>\n",
       "      <td>None</td>\n",
       "      <td>None</td>\n",
       "      <td>None</td>\n",
       "      <td>None</td>\n",
       "      <td>None</td>\n",
       "      <td>None</td>\n",
       "      <td>None</td>\n",
       "      <td>None</td>\n",
       "      <td>None</td>\n",
       "      <td>None</td>\n",
       "      <td>None</td>\n",
       "      <td>None</td>\n",
       "      <td>None</td>\n",
       "      <td>None</td>\n",
       "      <td>None</td>\n",
       "      <td>None</td>\n",
       "      <td>None</td>\n",
       "      <td>None</td>\n",
       "      <td>None</td>\n",
       "      <td>None</td>\n",
       "      <td>None</td>\n",
       "      <td>None</td>\n",
       "      <td>None</td>\n",
       "      <td>None</td>\n",
       "      <td>None</td>\n",
       "      <td>None</td>\n",
       "      <td>None</td>\n",
       "      <td>None</td>\n",
       "      <td>None</td>\n",
       "      <td>None</td>\n",
       "      <td>None</td>\n",
       "      <td>19.9579298951035</td>\n",
       "      <td>19.9862203237456</td>\n",
       "      <td>21.6015034178654</td>\n",
       "      <td>22.5483066365335</td>\n",
       "      <td>23.8158804627515</td>\n",
       "      <td>23.4811562468684</td>\n",
       "      <td>24.7499128916126</td>\n",
       "      <td>26.7515912769659</td>\n",
       "      <td>25.913958456892</td>\n",
       "      <td>26.1513599969695</td>\n",
       "      <td>27.4827342843522</td>\n",
       "      <td>28.9486279353382</td>\n",
       "      <td>31.6823177047106</td>\n",
       "      <td>31.6106918811145</td>\n",
       "      <td>31.8249495513156</td>\n",
       "      <td>33.7444046301052</td>\n",
       "      <td>38.7333520303803</td>\n",
       "      <td>40.0921632933888</td>\n",
       "      <td>42.8809766258104</td>\n",
       "      <td>44.0739121045303</td>\n",
       "      <td>45.6096042884373</td>\n",
       "      <td>None</td>\n",
       "      <td>None</td>\n",
       "    </tr>\n",
       "    <tr>\n",
       "      <th>2</th>\n",
       "      <td>Afganistán</td>\n",
       "      <td>AFG</td>\n",
       "      <td>Acceso a la electricidad (% de población)</td>\n",
       "      <td>EG.ELC.ACCS.ZS</td>\n",
       "      <td>None</td>\n",
       "      <td>None</td>\n",
       "      <td>None</td>\n",
       "      <td>None</td>\n",
       "      <td>None</td>\n",
       "      <td>None</td>\n",
       "      <td>None</td>\n",
       "      <td>None</td>\n",
       "      <td>None</td>\n",
       "      <td>None</td>\n",
       "      <td>None</td>\n",
       "      <td>None</td>\n",
       "      <td>None</td>\n",
       "      <td>None</td>\n",
       "      <td>None</td>\n",
       "      <td>None</td>\n",
       "      <td>None</td>\n",
       "      <td>None</td>\n",
       "      <td>None</td>\n",
       "      <td>None</td>\n",
       "      <td>None</td>\n",
       "      <td>None</td>\n",
       "      <td>None</td>\n",
       "      <td>None</td>\n",
       "      <td>None</td>\n",
       "      <td>None</td>\n",
       "      <td>None</td>\n",
       "      <td>None</td>\n",
       "      <td>None</td>\n",
       "      <td>None</td>\n",
       "      <td>None</td>\n",
       "      <td>None</td>\n",
       "      <td>None</td>\n",
       "      <td>None</td>\n",
       "      <td>None</td>\n",
       "      <td>None</td>\n",
       "      <td>None</td>\n",
       "      <td>None</td>\n",
       "      <td>None</td>\n",
       "      <td>None</td>\n",
       "      <td>1.61359095573425</td>\n",
       "      <td>4.07457399368286</td>\n",
       "      <td>9.40915775299072</td>\n",
       "      <td>14.7385063171387</td>\n",
       "      <td>20.0649681091309</td>\n",
       "      <td>25.3908939361572</td>\n",
       "      <td>30.7186908721924</td>\n",
       "      <td>36.0510101318359</td>\n",
       "      <td>42.4000015258789</td>\n",
       "      <td>46.7400512695313</td>\n",
       "      <td>42.7000007629395</td>\n",
       "      <td>43.2220191955566</td>\n",
       "      <td>69.0999984741211</td>\n",
       "      <td>68.2906494140625</td>\n",
       "      <td>89.5</td>\n",
       "      <td>71.5</td>\n",
       "      <td>97.6999969482422</td>\n",
       "      <td>97.6999969482422</td>\n",
       "      <td>96.6161346435547</td>\n",
       "      <td>97.6999969482422</td>\n",
       "      <td>97.6999969482422</td>\n",
       "      <td>None</td>\n",
       "      <td>None</td>\n",
       "    </tr>\n",
       "  </tbody>\n",
       "</table>\n",
       "</div>"
      ],
      "text/plain": [
       "  Country Name Country Code                             Indicator Name  Indicator Code  1960  1961  1962  1963  1964  1965  1966  1967  1968  1969  1970  1971  1972  1973  1974  1975  1976  1977  1978  1979  1980  1981  1982  1983  1984  1985  1986  1987  1988  1989  1990              1991              1992              1993  1994  1995  1996  1997  1998  1999              2000              2001              2002              2003              2004              2005              2006              2007              2008              2009              2010              2011              2012              2013              2014              2015              2016              2017              2018              2019              2020  2021  2022\n",
       "0        Aruba          ABW  Acceso a la electricidad (% de población)  EG.ELC.ACCS.ZS  None  None  None  None  None  None  None  None  None  None  None  None  None  None  None  None  None  None  None  None  None  None  None  None  None  None  None  None  None  None   100  99.1536560058594  99.1971282958984  99.2399139404297   100   100   100   100   100   100   91.660400390625               100               100               100               100               100               100               100               100               100  93.3562927246094               100               100               100               100               100               100               100               100               100               100  None  None\n",
       "1         None          AFE  Acceso a la electricidad (% de población)  EG.ELC.ACCS.ZS  None  None  None  None  None  None  None  None  None  None  None  None  None  None  None  None  None  None  None  None  None  None  None  None  None  None  None  None  None  None  None              None              None              None  None  None  None  None  None  None  19.9579298951035  19.9862203237456  21.6015034178654  22.5483066365335  23.8158804627515  23.4811562468684  24.7499128916126  26.7515912769659   25.913958456892  26.1513599969695  27.4827342843522  28.9486279353382  31.6823177047106  31.6106918811145  31.8249495513156  33.7444046301052  38.7333520303803  40.0921632933888  42.8809766258104  44.0739121045303  45.6096042884373  None  None\n",
       "2   Afganistán          AFG  Acceso a la electricidad (% de población)  EG.ELC.ACCS.ZS  None  None  None  None  None  None  None  None  None  None  None  None  None  None  None  None  None  None  None  None  None  None  None  None  None  None  None  None  None  None  None              None              None              None  None  None  None  None  None  None  1.61359095573425  4.07457399368286  9.40915775299072  14.7385063171387  20.0649681091309  25.3908939361572  30.7186908721924  36.0510101318359  42.4000015258789  46.7400512695313  42.7000007629395  43.2220191955566  69.0999984741211  68.2906494140625              89.5              71.5  97.6999969482422  97.6999969482422  96.6161346435547  97.6999969482422  97.6999969482422  None  None"
      ]
     },
     "execution_count": 243,
     "metadata": {},
     "output_type": "execute_result"
    }
   ],
   "source": [
    "data_19.limit(3).pandas_api()"
   ]
  },
  {
   "cell_type": "code",
   "execution_count": 244,
   "id": "660ddbca-39e4-4e2b-9370-3d400b934aca",
   "metadata": {
    "execution": {
     "iopub.execute_input": "2023-06-06T05:59:15.478201Z",
     "iopub.status.busy": "2023-06-06T05:59:15.478032Z",
     "iopub.status.idle": "2023-06-06T05:59:15.488658Z",
     "shell.execute_reply": "2023-06-06T05:59:15.488056Z",
     "shell.execute_reply.started": "2023-06-06T05:59:15.478185Z"
    },
    "tags": []
   },
   "outputs": [],
   "source": [
    "data_19 = data_19.selectExpr('`Country Name`', '`Country Code`', \"`Indicator Name`\", \"`Indicator Code`\", \"stack(63, \\\n",
    "'1960', `1960`, '1961', `1961`, '1962', `1962`, '1963', `1963`, '1964', `1964`, \\\n",
    "'1965', `1965`, '1966', `1966`, '1967', `1967`, '1968', `1968`, '1969', `1969`, \\\n",
    "'1970', `1970`, '1971', `1971`, '1972', `1972`, '1973', `1973`, '1974', `1974`, \\\n",
    "'1975', `1975`, '1976', `1976`, '1977', `1977`, '1978', `1978`, '1979', `1979`, \\\n",
    "'1980', `1980`, '1981', `1981`, '1982', `1982`, '1983', `1983`, '1984', `1984`, \\\n",
    "'1985', `1985`, '1986', `1986`, '1987', `1987`, '1988', `1988`, '1989', `1989`, \\\n",
    "'1990', `1990`, '1991', `1991`, '1992', `1992`, '1993', `1993`, '1994', `1994`, \\\n",
    "'1995', `1995`, '1996', `1996`, '1997', `1997`, '1998', `1998`, '1999', `1999`, \\\n",
    "'2010', `2010`, '2011', `2011`, '2012', `2012`, '2013', `2013`, '2014', `2014`, \\\n",
    "'2015', `2015`, '2016', `2016`, '2017', `2017`, '2018', `2018`, '2019', `2019`, \\\n",
    "'2010', `2010`, '2011', `2011`, '2012', `2012`, '2013', `2013`, '2014', `2014`, \\\n",
    "'2015', `2015`, '2016', `2016`, '2017', `2017`, '2018', `2018`, '2019', `2019`, \\\n",
    "'2020', `2020`, '2021', `2021`, '2022', `2022`) as (Year, porc_electricity)\")"
   ]
  },
  {
   "cell_type": "code",
   "execution_count": 245,
   "id": "7ad2f71b-8efb-4ddd-9535-e6028d8fd2df",
   "metadata": {
    "execution": {
     "iopub.execute_input": "2023-06-06T05:59:15.489644Z",
     "iopub.status.busy": "2023-06-06T05:59:15.489424Z",
     "iopub.status.idle": "2023-06-06T05:59:15.711620Z",
     "shell.execute_reply": "2023-06-06T05:59:15.710981Z",
     "shell.execute_reply.started": "2023-06-06T05:59:15.489622Z"
    },
    "tags": []
   },
   "outputs": [
    {
     "data": {
      "text/html": [
       "<div>\n",
       "<style scoped>\n",
       "    .dataframe tbody tr th:only-of-type {\n",
       "        vertical-align: middle;\n",
       "    }\n",
       "\n",
       "    .dataframe tbody tr th {\n",
       "        vertical-align: top;\n",
       "    }\n",
       "\n",
       "    .dataframe thead th {\n",
       "        text-align: right;\n",
       "    }\n",
       "</style>\n",
       "<table border=\"1\" class=\"dataframe\">\n",
       "  <thead>\n",
       "    <tr style=\"text-align: right;\">\n",
       "      <th></th>\n",
       "      <th>Country Name</th>\n",
       "      <th>Country Code</th>\n",
       "      <th>Indicator Name</th>\n",
       "      <th>Indicator Code</th>\n",
       "      <th>Year</th>\n",
       "      <th>porc_electricity</th>\n",
       "    </tr>\n",
       "  </thead>\n",
       "  <tbody>\n",
       "    <tr>\n",
       "      <th>0</th>\n",
       "      <td>None</td>\n",
       "      <td>AFE</td>\n",
       "      <td>Acceso a la electricidad (% de población)</td>\n",
       "      <td>EG.ELC.ACCS.ZS</td>\n",
       "      <td>1993</td>\n",
       "      <td>None</td>\n",
       "    </tr>\n",
       "    <tr>\n",
       "      <th>1</th>\n",
       "      <td>Cabo Verde</td>\n",
       "      <td>CPV</td>\n",
       "      <td>Acceso a la electricidad (% de población)</td>\n",
       "      <td>EG.ELC.ACCS.ZS</td>\n",
       "      <td>2016</td>\n",
       "      <td>87.5449295043945</td>\n",
       "    </tr>\n",
       "    <tr>\n",
       "      <th>2</th>\n",
       "      <td>Israel</td>\n",
       "      <td>ISR</td>\n",
       "      <td>Acceso a la electricidad (% de población)</td>\n",
       "      <td>EG.ELC.ACCS.ZS</td>\n",
       "      <td>1988</td>\n",
       "      <td>None</td>\n",
       "    </tr>\n",
       "  </tbody>\n",
       "</table>\n",
       "</div>"
      ],
      "text/plain": [
       "  Country Name Country Code                             Indicator Name  Indicator Code  Year  porc_electricity\n",
       "0         None          AFE  Acceso a la electricidad (% de población)  EG.ELC.ACCS.ZS  1993              None\n",
       "1   Cabo Verde          CPV  Acceso a la electricidad (% de población)  EG.ELC.ACCS.ZS  2016  87.5449295043945\n",
       "2       Israel          ISR  Acceso a la electricidad (% de población)  EG.ELC.ACCS.ZS  1988              None"
      ]
     },
     "execution_count": 245,
     "metadata": {},
     "output_type": "execute_result"
    }
   ],
   "source": [
    "data_19.sample(False, 3/data_19.count(), seed=150).limit(3).pandas_api()\n"
   ]
  },
  {
   "cell_type": "code",
   "execution_count": 246,
   "id": "d2a30289-8766-41dd-bc14-33d78c014b4c",
   "metadata": {
    "execution": {
     "iopub.execute_input": "2023-06-06T05:59:15.712678Z",
     "iopub.status.busy": "2023-06-06T05:59:15.712261Z",
     "iopub.status.idle": "2023-06-06T05:59:15.718206Z",
     "shell.execute_reply": "2023-06-06T05:59:15.717608Z",
     "shell.execute_reply.started": "2023-06-06T05:59:15.712661Z"
    },
    "tags": []
   },
   "outputs": [
    {
     "data": {
      "text/plain": [
       "['Country Code', 'Year', 'porc_electricity']"
      ]
     },
     "execution_count": 246,
     "metadata": {},
     "output_type": "execute_result"
    }
   ],
   "source": [
    "data_19 = data_19.drop(\"Country Name\",\"Indicator Name\",\"Indicator Code\")\n",
    "data_19.columns"
   ]
  },
  {
   "cell_type": "markdown",
   "id": "18816763-d614-4277-a5f9-f03f40fbb1fd",
   "metadata": {},
   "source": [
    "# Personas que usan Internet (% de la población)\n",
    "\n",
    "Internet users are individuals who have used the Internet (from any location) in the last 3 months. The Internet can be used via a computer, mobile phone, personal digital assistant, games machine, digital TV etc.\n",
    "\n",
    "https://datos.bancomundial.org/indicador/IT.NET.USER.ZS?view=chart\n"
   ]
  },
  {
   "cell_type": "code",
   "execution_count": 247,
   "id": "7990de14-336c-4819-acc6-ea6b839014b4",
   "metadata": {
    "execution": {
     "iopub.execute_input": "2023-06-06T05:59:15.719479Z",
     "iopub.status.busy": "2023-06-06T05:59:15.718969Z",
     "iopub.status.idle": "2023-06-06T05:59:15.726795Z",
     "shell.execute_reply": "2023-06-06T05:59:15.726239Z",
     "shell.execute_reply.started": "2023-06-06T05:59:15.719455Z"
    },
    "tags": []
   },
   "outputs": [],
   "source": [
    "url_20 =\"https://api.worldbank.org/v2/es/indicator/IT.NET.USER.ZS?downloadformat=csv\""
   ]
  },
  {
   "cell_type": "code",
   "execution_count": 248,
   "id": "71f47a1f-4f42-4394-a2eb-1dfedcd46bc4",
   "metadata": {
    "execution": {
     "iopub.execute_input": "2023-06-06T05:59:15.727855Z",
     "iopub.status.busy": "2023-06-06T05:59:15.727610Z",
     "iopub.status.idle": "2023-06-06T05:59:16.945465Z",
     "shell.execute_reply": "2023-06-06T05:59:16.944424Z",
     "shell.execute_reply.started": "2023-06-06T05:59:15.727831Z"
    },
    "tags": []
   },
   "outputs": [],
   "source": [
    "response_url_20 = requests.get(url_20)"
   ]
  },
  {
   "cell_type": "code",
   "execution_count": 249,
   "id": "2660f375-a4ae-4a58-a05c-0e70a87ca3ac",
   "metadata": {
    "execution": {
     "iopub.execute_input": "2023-06-06T05:59:16.947255Z",
     "iopub.status.busy": "2023-06-06T05:59:16.946927Z",
     "iopub.status.idle": "2023-06-06T05:59:16.956076Z",
     "shell.execute_reply": "2023-06-06T05:59:16.955307Z",
     "shell.execute_reply.started": "2023-06-06T05:59:16.947227Z"
    },
    "tags": []
   },
   "outputs": [
    {
     "name": "stdout",
     "output_type": "stream",
     "text": [
      "El archivo ZIP se ha descargado y descomprimido correctamente.\n"
     ]
    }
   ],
   "source": [
    "if response_url_20.status_code == 200:\n",
    "    # Crear un objeto ZipFile a partir de los datos de la respuesta\n",
    "    with zipfile.ZipFile(io.BytesIO(response_url_20.content), \"r\") as zip_url_20:\n",
    "        # Extraer todos los archivos del archivo ZIP en el directorio actual\n",
    "        zip_url_20.extractall(\"dataset\")\n",
    "\n",
    "    print(\"El archivo ZIP se ha descargado y descomprimido correctamente.\")\n",
    "else:\n",
    "    print(\"Error al descargar el archivo ZIP:\", response_url_20.status_code)"
   ]
  },
  {
   "cell_type": "code",
   "execution_count": 250,
   "id": "2bc7fa41-3f14-4454-b8a0-a40565aaa7e0",
   "metadata": {
    "execution": {
     "iopub.execute_input": "2023-06-06T05:59:16.956940Z",
     "iopub.status.busy": "2023-06-06T05:59:16.956762Z",
     "iopub.status.idle": "2023-06-06T05:59:16.960131Z",
     "shell.execute_reply": "2023-06-06T05:59:16.959579Z",
     "shell.execute_reply.started": "2023-06-06T05:59:16.956924Z"
    },
    "tags": []
   },
   "outputs": [],
   "source": [
    "import csv\n",
    "\n",
    "# Ruta del archivo CSV\n",
    "\n",
    "csv_url_20 = \"dataset/API_IT.NET.USER.ZS_DS2_es_csv_v2_5458342.csv\"\n",
    "\n",
    "# Crear una lista para almacenar las filas del archivo CSV\n",
    "rows_url_20 = []\n",
    "\n",
    "\n",
    "#API_SE.PRM.CMPT.ZS_DS2_es_csv_v2_5478942"
   ]
  },
  {
   "cell_type": "code",
   "execution_count": 251,
   "id": "b8b6a1e9-9fb6-4506-b02b-cc68ad780d1f",
   "metadata": {
    "execution": {
     "iopub.execute_input": "2023-06-06T05:59:16.961038Z",
     "iopub.status.busy": "2023-06-06T05:59:16.960843Z",
     "iopub.status.idle": "2023-06-06T05:59:16.972978Z",
     "shell.execute_reply": "2023-06-06T05:59:16.972403Z",
     "shell.execute_reply.started": "2023-06-06T05:59:16.961023Z"
    },
    "tags": []
   },
   "outputs": [],
   "source": [
    "# Leer el archivo CSV y almacenar las filas en la lista\n",
    "with open(csv_url_20, \"r\") as file_csv_url_20:\n",
    "    csv_reader_url_20 = csv.reader(file_csv_url_20)\n",
    "    rows_url_20 = list(csv_reader_url_20)\n"
   ]
  },
  {
   "cell_type": "code",
   "execution_count": 252,
   "id": "fd3ee6fe-2c11-4e6d-91eb-9ff4254a6197",
   "metadata": {
    "execution": {
     "iopub.execute_input": "2023-06-06T05:59:16.973810Z",
     "iopub.status.busy": "2023-06-06T05:59:16.973641Z",
     "iopub.status.idle": "2023-06-06T05:59:16.979895Z",
     "shell.execute_reply": "2023-06-06T05:59:16.979301Z",
     "shell.execute_reply.started": "2023-06-06T05:59:16.973795Z"
    },
    "tags": []
   },
   "outputs": [],
   "source": [
    "# Eliminar las primeras 4 filas\n",
    "\n",
    "rows_url_20 = rows_url_20[4:]\n",
    "\n",
    "# Escribir las filas modificadas en un nuevo archivo CSV\n",
    "with open(\"dataset/data/dataset_20.csv\", \"w\", newline=\"\") as file_csv_url_20:\n",
    "    csv_writer_url_20 = csv.writer(file_csv_url_20)\n",
    "    csv_writer_url_20.writerows(rows_url_20)"
   ]
  },
  {
   "cell_type": "code",
   "execution_count": 253,
   "id": "563dbd9b-6646-4160-a7fc-b7dd5f27fe2f",
   "metadata": {
    "execution": {
     "iopub.execute_input": "2023-06-06T05:59:16.980733Z",
     "iopub.status.busy": "2023-06-06T05:59:16.980571Z",
     "iopub.status.idle": "2023-06-06T05:59:17.040140Z",
     "shell.execute_reply": "2023-06-06T05:59:17.039578Z",
     "shell.execute_reply.started": "2023-06-06T05:59:16.980717Z"
    },
    "tags": []
   },
   "outputs": [],
   "source": [
    "data_20 = spark.read.csv(\"dataset_20.csv\", header=True)"
   ]
  },
  {
   "cell_type": "code",
   "execution_count": 254,
   "id": "b660a506-c0ee-4c5f-a53c-9919b7fd1c10",
   "metadata": {
    "execution": {
     "iopub.execute_input": "2023-06-06T05:59:17.041023Z",
     "iopub.status.busy": "2023-06-06T05:59:17.040846Z",
     "iopub.status.idle": "2023-06-06T05:59:17.048786Z",
     "shell.execute_reply": "2023-06-06T05:59:17.048049Z",
     "shell.execute_reply.started": "2023-06-06T05:59:17.041007Z"
    },
    "tags": []
   },
   "outputs": [],
   "source": [
    "data_20 = data_20.drop(\"_c66\",\"_c67\")"
   ]
  },
  {
   "cell_type": "code",
   "execution_count": 255,
   "id": "dcc80411-58e2-42d3-befd-c80d9376be11",
   "metadata": {
    "execution": {
     "iopub.execute_input": "2023-06-06T05:59:17.049625Z",
     "iopub.status.busy": "2023-06-06T05:59:17.049462Z",
     "iopub.status.idle": "2023-06-06T05:59:17.291528Z",
     "shell.execute_reply": "2023-06-06T05:59:17.290971Z",
     "shell.execute_reply.started": "2023-06-06T05:59:17.049610Z"
    },
    "tags": []
   },
   "outputs": [
    {
     "data": {
      "text/html": [
       "<div>\n",
       "<style scoped>\n",
       "    .dataframe tbody tr th:only-of-type {\n",
       "        vertical-align: middle;\n",
       "    }\n",
       "\n",
       "    .dataframe tbody tr th {\n",
       "        vertical-align: top;\n",
       "    }\n",
       "\n",
       "    .dataframe thead th {\n",
       "        text-align: right;\n",
       "    }\n",
       "</style>\n",
       "<table border=\"1\" class=\"dataframe\">\n",
       "  <thead>\n",
       "    <tr style=\"text-align: right;\">\n",
       "      <th></th>\n",
       "      <th>Country Name</th>\n",
       "      <th>Country Code</th>\n",
       "      <th>Indicator Name</th>\n",
       "      <th>Indicator Code</th>\n",
       "      <th>1960</th>\n",
       "      <th>1961</th>\n",
       "      <th>1962</th>\n",
       "      <th>1963</th>\n",
       "      <th>1964</th>\n",
       "      <th>1965</th>\n",
       "      <th>1966</th>\n",
       "      <th>1967</th>\n",
       "      <th>1968</th>\n",
       "      <th>1969</th>\n",
       "      <th>1970</th>\n",
       "      <th>1971</th>\n",
       "      <th>1972</th>\n",
       "      <th>1973</th>\n",
       "      <th>1974</th>\n",
       "      <th>1975</th>\n",
       "      <th>1976</th>\n",
       "      <th>1977</th>\n",
       "      <th>1978</th>\n",
       "      <th>1979</th>\n",
       "      <th>1980</th>\n",
       "      <th>1981</th>\n",
       "      <th>1982</th>\n",
       "      <th>1983</th>\n",
       "      <th>1984</th>\n",
       "      <th>1985</th>\n",
       "      <th>1986</th>\n",
       "      <th>1987</th>\n",
       "      <th>1988</th>\n",
       "      <th>1989</th>\n",
       "      <th>1990</th>\n",
       "      <th>1991</th>\n",
       "      <th>1992</th>\n",
       "      <th>1993</th>\n",
       "      <th>1994</th>\n",
       "      <th>1995</th>\n",
       "      <th>1996</th>\n",
       "      <th>1997</th>\n",
       "      <th>1998</th>\n",
       "      <th>1999</th>\n",
       "      <th>2000</th>\n",
       "      <th>2001</th>\n",
       "      <th>2002</th>\n",
       "      <th>2003</th>\n",
       "      <th>2004</th>\n",
       "      <th>2005</th>\n",
       "      <th>2006</th>\n",
       "      <th>2007</th>\n",
       "      <th>2008</th>\n",
       "      <th>2009</th>\n",
       "      <th>2010</th>\n",
       "      <th>2011</th>\n",
       "      <th>2012</th>\n",
       "      <th>2013</th>\n",
       "      <th>2014</th>\n",
       "      <th>2015</th>\n",
       "      <th>2016</th>\n",
       "      <th>2017</th>\n",
       "      <th>2018</th>\n",
       "      <th>2019</th>\n",
       "      <th>2020</th>\n",
       "      <th>2021</th>\n",
       "      <th>2022</th>\n",
       "    </tr>\n",
       "  </thead>\n",
       "  <tbody>\n",
       "    <tr>\n",
       "      <th>0</th>\n",
       "      <td>Aruba</td>\n",
       "      <td>ABW</td>\n",
       "      <td>Personas que usan Internet (% de la población)</td>\n",
       "      <td>IT.NET.USER.ZS</td>\n",
       "      <td>None</td>\n",
       "      <td>None</td>\n",
       "      <td>None</td>\n",
       "      <td>None</td>\n",
       "      <td>None</td>\n",
       "      <td>None</td>\n",
       "      <td>None</td>\n",
       "      <td>None</td>\n",
       "      <td>None</td>\n",
       "      <td>None</td>\n",
       "      <td>None</td>\n",
       "      <td>None</td>\n",
       "      <td>None</td>\n",
       "      <td>None</td>\n",
       "      <td>None</td>\n",
       "      <td>None</td>\n",
       "      <td>None</td>\n",
       "      <td>None</td>\n",
       "      <td>None</td>\n",
       "      <td>None</td>\n",
       "      <td>None</td>\n",
       "      <td>None</td>\n",
       "      <td>None</td>\n",
       "      <td>None</td>\n",
       "      <td>None</td>\n",
       "      <td>None</td>\n",
       "      <td>None</td>\n",
       "      <td>None</td>\n",
       "      <td>None</td>\n",
       "      <td>None</td>\n",
       "      <td>0</td>\n",
       "      <td>0</td>\n",
       "      <td>0</td>\n",
       "      <td>0</td>\n",
       "      <td>0</td>\n",
       "      <td>0</td>\n",
       "      <td>2.768382663</td>\n",
       "      <td>None</td>\n",
       "      <td>None</td>\n",
       "      <td>4.506179098</td>\n",
       "      <td>15.44282295</td>\n",
       "      <td>17.1</td>\n",
       "      <td>18.8</td>\n",
       "      <td>20.8</td>\n",
       "      <td>23</td>\n",
       "      <td>25.4</td>\n",
       "      <td>28</td>\n",
       "      <td>30.9</td>\n",
       "      <td>52</td>\n",
       "      <td>58</td>\n",
       "      <td>62</td>\n",
       "      <td>69</td>\n",
       "      <td>74</td>\n",
       "      <td>78.9</td>\n",
       "      <td>83.78</td>\n",
       "      <td>88.66122693</td>\n",
       "      <td>93.54245387</td>\n",
       "      <td>97.17</td>\n",
       "      <td>None</td>\n",
       "      <td>None</td>\n",
       "      <td>None</td>\n",
       "      <td>None</td>\n",
       "      <td>None</td>\n",
       "    </tr>\n",
       "    <tr>\n",
       "      <th>1</th>\n",
       "      <td>None</td>\n",
       "      <td>AFE</td>\n",
       "      <td>Personas que usan Internet (% de la población)</td>\n",
       "      <td>IT.NET.USER.ZS</td>\n",
       "      <td>None</td>\n",
       "      <td>None</td>\n",
       "      <td>None</td>\n",
       "      <td>None</td>\n",
       "      <td>None</td>\n",
       "      <td>None</td>\n",
       "      <td>None</td>\n",
       "      <td>None</td>\n",
       "      <td>None</td>\n",
       "      <td>None</td>\n",
       "      <td>None</td>\n",
       "      <td>None</td>\n",
       "      <td>None</td>\n",
       "      <td>None</td>\n",
       "      <td>None</td>\n",
       "      <td>None</td>\n",
       "      <td>None</td>\n",
       "      <td>None</td>\n",
       "      <td>None</td>\n",
       "      <td>None</td>\n",
       "      <td>None</td>\n",
       "      <td>None</td>\n",
       "      <td>None</td>\n",
       "      <td>None</td>\n",
       "      <td>None</td>\n",
       "      <td>None</td>\n",
       "      <td>None</td>\n",
       "      <td>None</td>\n",
       "      <td>None</td>\n",
       "      <td>None</td>\n",
       "      <td>0</td>\n",
       "      <td>0.00173230248880555</td>\n",
       "      <td>0.00504080836448765</td>\n",
       "      <td>0.0146294941425636</td>\n",
       "      <td>0.0317097336371475</td>\n",
       "      <td>0.086496310561846</td>\n",
       "      <td>0.112752212160974</td>\n",
       "      <td>0.213192402155205</td>\n",
       "      <td>0.386772416959473</td>\n",
       "      <td>0.569512051222246</td>\n",
       "      <td>0.77421755469409</td>\n",
       "      <td>0.961552005089705</td>\n",
       "      <td>1.1316294433033</td>\n",
       "      <td>1.43039835507724</td>\n",
       "      <td>1.71604667481381</td>\n",
       "      <td>1.8055231421271</td>\n",
       "      <td>2.05810176814815</td>\n",
       "      <td>2.7732738256208</td>\n",
       "      <td>2.69414978147317</td>\n",
       "      <td>3.20741617179148</td>\n",
       "      <td>5.29697361379769</td>\n",
       "      <td>6.80275022096875</td>\n",
       "      <td>8.53475011696143</td>\n",
       "      <td>10.1269454655226</td>\n",
       "      <td>12.2377157932034</td>\n",
       "      <td>14.4858491534531</td>\n",
       "      <td>15.753329822739</td>\n",
       "      <td>17.3109868719447</td>\n",
       "      <td>20.0630242595526</td>\n",
       "      <td>22.5895992519959</td>\n",
       "      <td>24.9884008681592</td>\n",
       "      <td>27.660653781351</td>\n",
       "      <td>None</td>\n",
       "    </tr>\n",
       "    <tr>\n",
       "      <th>2</th>\n",
       "      <td>Afganistán</td>\n",
       "      <td>AFG</td>\n",
       "      <td>Personas que usan Internet (% de la población)</td>\n",
       "      <td>IT.NET.USER.ZS</td>\n",
       "      <td>None</td>\n",
       "      <td>None</td>\n",
       "      <td>None</td>\n",
       "      <td>None</td>\n",
       "      <td>None</td>\n",
       "      <td>None</td>\n",
       "      <td>None</td>\n",
       "      <td>None</td>\n",
       "      <td>None</td>\n",
       "      <td>None</td>\n",
       "      <td>None</td>\n",
       "      <td>None</td>\n",
       "      <td>None</td>\n",
       "      <td>None</td>\n",
       "      <td>None</td>\n",
       "      <td>None</td>\n",
       "      <td>None</td>\n",
       "      <td>None</td>\n",
       "      <td>None</td>\n",
       "      <td>None</td>\n",
       "      <td>None</td>\n",
       "      <td>None</td>\n",
       "      <td>None</td>\n",
       "      <td>None</td>\n",
       "      <td>None</td>\n",
       "      <td>None</td>\n",
       "      <td>None</td>\n",
       "      <td>None</td>\n",
       "      <td>None</td>\n",
       "      <td>None</td>\n",
       "      <td>0</td>\n",
       "      <td>0</td>\n",
       "      <td>0</td>\n",
       "      <td>0</td>\n",
       "      <td>0</td>\n",
       "      <td>0</td>\n",
       "      <td>None</td>\n",
       "      <td>None</td>\n",
       "      <td>None</td>\n",
       "      <td>None</td>\n",
       "      <td>None</td>\n",
       "      <td>0.004722568</td>\n",
       "      <td>0.004561395</td>\n",
       "      <td>0.087891253</td>\n",
       "      <td>0.10580903</td>\n",
       "      <td>1.224148084</td>\n",
       "      <td>2.107123645</td>\n",
       "      <td>1.9</td>\n",
       "      <td>1.84</td>\n",
       "      <td>3.55</td>\n",
       "      <td>4</td>\n",
       "      <td>5</td>\n",
       "      <td>5.454545455</td>\n",
       "      <td>5.9</td>\n",
       "      <td>7</td>\n",
       "      <td>8.26</td>\n",
       "      <td>11</td>\n",
       "      <td>13.5</td>\n",
       "      <td>16.8</td>\n",
       "      <td>17.6</td>\n",
       "      <td>18.4</td>\n",
       "      <td>None</td>\n",
       "      <td>None</td>\n",
       "    </tr>\n",
       "  </tbody>\n",
       "</table>\n",
       "</div>"
      ],
      "text/plain": [
       "  Country Name Country Code                                  Indicator Name  Indicator Code  1960  1961  1962  1963  1964  1965  1966  1967  1968  1969  1970  1971  1972  1973  1974  1975  1976  1977  1978  1979  1980  1981  1982  1983  1984  1985  1986  1987  1988  1989 1990                 1991                 1992                1993                1994               1995               1996               1997               1998               1999              2000               2001             2002              2003              2004             2005              2006             2007              2008              2009              2010              2011              2012              2013              2014              2015             2016              2017              2018              2019              2020             2021  2022\n",
       "0        Aruba          ABW  Personas que usan Internet (% de la población)  IT.NET.USER.ZS  None  None  None  None  None  None  None  None  None  None  None  None  None  None  None  None  None  None  None  None  None  None  None  None  None  None  None  None  None  None    0                    0                    0                   0                   0                  0        2.768382663               None               None        4.506179098       15.44282295               17.1             18.8              20.8                23             25.4                28             30.9                52                58                62                69                74              78.9             83.78       88.66122693      93.54245387             97.17              None              None              None             None  None\n",
       "1         None          AFE  Personas que usan Internet (% de la población)  IT.NET.USER.ZS  None  None  None  None  None  None  None  None  None  None  None  None  None  None  None  None  None  None  None  None  None  None  None  None  None  None  None  None  None  None    0  0.00173230248880555  0.00504080836448765  0.0146294941425636  0.0317097336371475  0.086496310561846  0.112752212160974  0.213192402155205  0.386772416959473  0.569512051222246  0.77421755469409  0.961552005089705  1.1316294433033  1.43039835507724  1.71604667481381  1.8055231421271  2.05810176814815  2.7732738256208  2.69414978147317  3.20741617179148  5.29697361379769  6.80275022096875  8.53475011696143  10.1269454655226  12.2377157932034  14.4858491534531  15.753329822739  17.3109868719447  20.0630242595526  22.5895992519959  24.9884008681592  27.660653781351  None\n",
       "2   Afganistán          AFG  Personas que usan Internet (% de la población)  IT.NET.USER.ZS  None  None  None  None  None  None  None  None  None  None  None  None  None  None  None  None  None  None  None  None  None  None  None  None  None  None  None  None  None  None    0                    0                    0                   0                   0                  0               None               None               None               None              None        0.004722568      0.004561395       0.087891253        0.10580903      1.224148084       2.107123645              1.9              1.84              3.55                 4                 5       5.454545455               5.9                 7              8.26               11              13.5              16.8              17.6              18.4             None  None"
      ]
     },
     "execution_count": 255,
     "metadata": {},
     "output_type": "execute_result"
    }
   ],
   "source": [
    "data_20.limit(3).pandas_api()"
   ]
  },
  {
   "cell_type": "code",
   "execution_count": 256,
   "id": "0cde1ff9-d698-4a14-a778-3a727f4fc4c0",
   "metadata": {
    "execution": {
     "iopub.execute_input": "2023-06-06T05:59:17.292462Z",
     "iopub.status.busy": "2023-06-06T05:59:17.292213Z",
     "iopub.status.idle": "2023-06-06T05:59:17.305993Z",
     "shell.execute_reply": "2023-06-06T05:59:17.305425Z",
     "shell.execute_reply.started": "2023-06-06T05:59:17.292445Z"
    },
    "tags": []
   },
   "outputs": [],
   "source": [
    "data_20 = data_20.selectExpr('`Country Name`', '`Country Code`', \"`Indicator Name`\", \"`Indicator Code`\", \"stack(63, \\\n",
    "'1960', `1960`, '1961', `1961`, '1962', `1962`, '1963', `1963`, '1964', `1964`, \\\n",
    "'1965', `1965`, '1966', `1966`, '1967', `1967`, '1968', `1968`, '1969', `1969`, \\\n",
    "'1970', `1970`, '1971', `1971`, '1972', `1972`, '1973', `1973`, '1974', `1974`, \\\n",
    "'1975', `1975`, '1976', `1976`, '1977', `1977`, '1978', `1978`, '1979', `1979`, \\\n",
    "'1980', `1980`, '1981', `1981`, '1982', `1982`, '1983', `1983`, '1984', `1984`, \\\n",
    "'1985', `1985`, '1986', `1986`, '1987', `1987`, '1988', `1988`, '1989', `1989`, \\\n",
    "'1990', `1990`, '1991', `1991`, '1992', `1992`, '1993', `1993`, '1994', `1994`, \\\n",
    "'1995', `1995`, '1996', `1996`, '1997', `1997`, '1998', `1998`, '1999', `1999`, \\\n",
    "'2010', `2010`, '2011', `2011`, '2012', `2012`, '2013', `2013`, '2014', `2014`, \\\n",
    "'2015', `2015`, '2016', `2016`, '2017', `2017`, '2018', `2018`, '2019', `2019`, \\\n",
    "'2010', `2010`, '2011', `2011`, '2012', `2012`, '2013', `2013`, '2014', `2014`, \\\n",
    "'2015', `2015`, '2016', `2016`, '2017', `2017`, '2018', `2018`, '2019', `2019`, \\\n",
    "'2020', `2020`, '2021', `2021`, '2022', `2022`) as (Year, porc_internet)\")"
   ]
  },
  {
   "cell_type": "code",
   "execution_count": 257,
   "id": "8e9b495a-66cc-4e8b-bd91-3c391b937ee5",
   "metadata": {
    "execution": {
     "iopub.execute_input": "2023-06-06T05:59:17.306806Z",
     "iopub.status.busy": "2023-06-06T05:59:17.306641Z",
     "iopub.status.idle": "2023-06-06T05:59:17.494325Z",
     "shell.execute_reply": "2023-06-06T05:59:17.493799Z",
     "shell.execute_reply.started": "2023-06-06T05:59:17.306790Z"
    },
    "tags": []
   },
   "outputs": [
    {
     "data": {
      "text/html": [
       "<div>\n",
       "<style scoped>\n",
       "    .dataframe tbody tr th:only-of-type {\n",
       "        vertical-align: middle;\n",
       "    }\n",
       "\n",
       "    .dataframe tbody tr th {\n",
       "        vertical-align: top;\n",
       "    }\n",
       "\n",
       "    .dataframe thead th {\n",
       "        text-align: right;\n",
       "    }\n",
       "</style>\n",
       "<table border=\"1\" class=\"dataframe\">\n",
       "  <thead>\n",
       "    <tr style=\"text-align: right;\">\n",
       "      <th></th>\n",
       "      <th>Country Name</th>\n",
       "      <th>Country Code</th>\n",
       "      <th>Indicator Name</th>\n",
       "      <th>Indicator Code</th>\n",
       "      <th>Year</th>\n",
       "      <th>porc_internet</th>\n",
       "    </tr>\n",
       "  </thead>\n",
       "  <tbody>\n",
       "    <tr>\n",
       "      <th>0</th>\n",
       "      <td>None</td>\n",
       "      <td>AFE</td>\n",
       "      <td>Personas que usan Internet (% de la población)</td>\n",
       "      <td>IT.NET.USER.ZS</td>\n",
       "      <td>1993</td>\n",
       "      <td>0.0146294941425636</td>\n",
       "    </tr>\n",
       "    <tr>\n",
       "      <th>1</th>\n",
       "      <td>Cabo Verde</td>\n",
       "      <td>CPV</td>\n",
       "      <td>Personas que usan Internet (% de la población)</td>\n",
       "      <td>IT.NET.USER.ZS</td>\n",
       "      <td>2016</td>\n",
       "      <td>50.32281787</td>\n",
       "    </tr>\n",
       "    <tr>\n",
       "      <th>2</th>\n",
       "      <td>Israel</td>\n",
       "      <td>ISR</td>\n",
       "      <td>Personas que usan Internet (% de la población)</td>\n",
       "      <td>IT.NET.USER.ZS</td>\n",
       "      <td>1988</td>\n",
       "      <td>None</td>\n",
       "    </tr>\n",
       "  </tbody>\n",
       "</table>\n",
       "</div>"
      ],
      "text/plain": [
       "  Country Name Country Code                                  Indicator Name  Indicator Code  Year       porc_internet\n",
       "0         None          AFE  Personas que usan Internet (% de la población)  IT.NET.USER.ZS  1993  0.0146294941425636\n",
       "1   Cabo Verde          CPV  Personas que usan Internet (% de la población)  IT.NET.USER.ZS  2016         50.32281787\n",
       "2       Israel          ISR  Personas que usan Internet (% de la población)  IT.NET.USER.ZS  1988                None"
      ]
     },
     "execution_count": 257,
     "metadata": {},
     "output_type": "execute_result"
    }
   ],
   "source": [
    "data_20.sample(False, 3/data_20.count(), seed=150).limit(3).pandas_api()\n"
   ]
  },
  {
   "cell_type": "code",
   "execution_count": 258,
   "id": "d043e322-b960-4e2f-a9a8-6c73bc632930",
   "metadata": {
    "execution": {
     "iopub.execute_input": "2023-06-06T05:59:17.495237Z",
     "iopub.status.busy": "2023-06-06T05:59:17.494985Z",
     "iopub.status.idle": "2023-06-06T05:59:17.501016Z",
     "shell.execute_reply": "2023-06-06T05:59:17.500486Z",
     "shell.execute_reply.started": "2023-06-06T05:59:17.495220Z"
    },
    "tags": []
   },
   "outputs": [
    {
     "data": {
      "text/plain": [
       "['Country Code', 'Year', 'porc_internet']"
      ]
     },
     "execution_count": 258,
     "metadata": {},
     "output_type": "execute_result"
    }
   ],
   "source": [
    "data_20 = data_20.drop(\"Country Name\",\"Indicator Name\",\"Indicator Code\")\n",
    "data_20.columns"
   ]
  },
  {
   "cell_type": "markdown",
   "id": "310358e0-62a0-413f-8ce7-1555175a8f3f",
   "metadata": {
    "execution": {
     "iopub.execute_input": "2023-06-04T14:37:50.176316Z",
     "iopub.status.busy": "2023-06-04T14:37:50.175934Z",
     "iopub.status.idle": "2023-06-04T14:37:50.183024Z",
     "shell.execute_reply": "2023-06-04T14:37:50.182122Z",
     "shell.execute_reply.started": "2023-06-04T14:37:50.176288Z"
    },
    "tags": []
   },
   "source": [
    "# Tasa de finalización de la educación de nivel primario, total (% del grupo etario correspondiente)\n",
    "\n",
    "Tasa de finalización de la educación primaria, total. Corresponde al número total de estudiantes que ingresan al último año de educación primaria, independientemente de su edad, expresado como porcentaje de la población total en edad oficial de ingresar a dicho grado. Este indicador también se denomina “tasa bruta de ingreso al último grado de primaria”. Esta tasa puede ser superior a 100% debido a niños mayores y menores de la edad oficial de ingreso que entran a la educación primaria de forma precoz o tardía y (o) que han repetido grado. \n",
    "\n",
    "https://datos.bancomundial.org/indicador/SE.PRM.CMPT.ZS?view=chart"
   ]
  },
  {
   "cell_type": "code",
   "execution_count": 259,
   "id": "4deeb986-7f05-41d5-9be1-c1e0d60d0fdc",
   "metadata": {
    "execution": {
     "iopub.execute_input": "2023-06-06T05:59:17.502048Z",
     "iopub.status.busy": "2023-06-06T05:59:17.501749Z",
     "iopub.status.idle": "2023-06-06T05:59:17.508044Z",
     "shell.execute_reply": "2023-06-06T05:59:17.507505Z",
     "shell.execute_reply.started": "2023-06-06T05:59:17.502026Z"
    },
    "tags": []
   },
   "outputs": [],
   "source": [
    "url_21 =\"https://api.worldbank.org/v2/es/indicator/SE.PRM.CMPT.ZS?downloadformat=csv\""
   ]
  },
  {
   "cell_type": "code",
   "execution_count": 260,
   "id": "ca67c676-0d15-4e15-ad09-90fd7b9a0b4a",
   "metadata": {
    "execution": {
     "iopub.execute_input": "2023-06-06T05:59:17.508937Z",
     "iopub.status.busy": "2023-06-06T05:59:17.508732Z",
     "iopub.status.idle": "2023-06-06T05:59:18.743818Z",
     "shell.execute_reply": "2023-06-06T05:59:18.742395Z",
     "shell.execute_reply.started": "2023-06-06T05:59:17.508921Z"
    },
    "tags": []
   },
   "outputs": [],
   "source": [
    "response_url_21 = requests.get(url_21)"
   ]
  },
  {
   "cell_type": "code",
   "execution_count": 261,
   "id": "f009356a-578a-4aba-ba81-bbced32fa106",
   "metadata": {
    "execution": {
     "iopub.execute_input": "2023-06-06T05:59:18.747331Z",
     "iopub.status.busy": "2023-06-06T05:59:18.746829Z",
     "iopub.status.idle": "2023-06-06T05:59:18.759064Z",
     "shell.execute_reply": "2023-06-06T05:59:18.757874Z",
     "shell.execute_reply.started": "2023-06-06T05:59:18.747273Z"
    },
    "tags": []
   },
   "outputs": [
    {
     "name": "stdout",
     "output_type": "stream",
     "text": [
      "El archivo ZIP se ha descargado y descomprimido correctamente.\n"
     ]
    }
   ],
   "source": [
    "if response_url_21.status_code == 200:\n",
    "    # Crear un objeto ZipFile a partir de los datos de la respuesta\n",
    "    with zipfile.ZipFile(io.BytesIO(response_url_21.content), \"r\") as zip_url_21:\n",
    "        # Extraer todos los archivos del archivo ZIP en el directorio actual\n",
    "        zip_url_21.extractall(\"dataset\")\n",
    "\n",
    "    print(\"El archivo ZIP se ha descargado y descomprimido correctamente.\")\n",
    "else:\n",
    "    print(\"Error al descargar el archivo ZIP:\", response_url_21.status_code)"
   ]
  },
  {
   "cell_type": "code",
   "execution_count": 262,
   "id": "ced9ea80-ff61-4d62-ba0d-713186ba559a",
   "metadata": {
    "execution": {
     "iopub.execute_input": "2023-06-06T05:59:18.760833Z",
     "iopub.status.busy": "2023-06-06T05:59:18.760463Z",
     "iopub.status.idle": "2023-06-06T05:59:18.766229Z",
     "shell.execute_reply": "2023-06-06T05:59:18.765246Z",
     "shell.execute_reply.started": "2023-06-06T05:59:18.760796Z"
    },
    "tags": []
   },
   "outputs": [],
   "source": [
    "# Ruta del archivo CSV\n",
    "\n",
    "csv_url_21 = \"dataset/API_SE.PRM.CMPT.ZS_DS2_es_csv_v2_5478942.csv\"\n",
    "\n",
    "# Crear una lista para almacenar las filas del archivo CSV\n",
    "rows_url_21 = []\n",
    "\n",
    "#API_SE.PRM.CMPT.ZS_DS2_es_csv_v2_5478942"
   ]
  },
  {
   "cell_type": "code",
   "execution_count": 263,
   "id": "234054f8-c310-40b0-8b90-72bef1488e43",
   "metadata": {
    "execution": {
     "iopub.execute_input": "2023-06-06T05:59:18.768042Z",
     "iopub.status.busy": "2023-06-06T05:59:18.767592Z",
     "iopub.status.idle": "2023-06-06T05:59:18.781552Z",
     "shell.execute_reply": "2023-06-06T05:59:18.780875Z",
     "shell.execute_reply.started": "2023-06-06T05:59:18.768007Z"
    },
    "tags": []
   },
   "outputs": [],
   "source": [
    "# Leer el archivo CSV y almacenar las filas en la lista\n",
    "with open(csv_url_21, \"r\") as file_csv_url_21:\n",
    "    csv_reader_url_21 = csv.reader(file_csv_url_21)\n",
    "    rows_url_21 = list(csv_reader_url_21)\n"
   ]
  },
  {
   "cell_type": "code",
   "execution_count": 264,
   "id": "e96d1afb-2ffa-4b18-9ad8-e43adb472520",
   "metadata": {
    "execution": {
     "iopub.execute_input": "2023-06-06T05:59:18.782536Z",
     "iopub.status.busy": "2023-06-06T05:59:18.782170Z",
     "iopub.status.idle": "2023-06-06T05:59:18.793520Z",
     "shell.execute_reply": "2023-06-06T05:59:18.792974Z",
     "shell.execute_reply.started": "2023-06-06T05:59:18.782517Z"
    },
    "tags": []
   },
   "outputs": [],
   "source": [
    "# Eliminar las primeras 4 filas\n",
    "\n",
    "rows_url_21 = rows_url_21[4:]\n",
    "\n",
    "# Escribir las filas modificadas en un nuevo archivo CSV\n",
    "with open(\"dataset/data/dataset_21.csv\", \"w\", newline=\"\") as file_csv_url_21:\n",
    "    csv_writer_url_21 = csv.writer(file_csv_url_21)\n",
    "    csv_writer_url_21.writerows(rows_url_21)"
   ]
  },
  {
   "cell_type": "code",
   "execution_count": 265,
   "id": "f0b7d85e-c0c6-4032-9523-bd5457736f41",
   "metadata": {
    "execution": {
     "iopub.execute_input": "2023-06-06T05:59:18.794387Z",
     "iopub.status.busy": "2023-06-06T05:59:18.794227Z",
     "iopub.status.idle": "2023-06-06T05:59:18.859577Z",
     "shell.execute_reply": "2023-06-06T05:59:18.859010Z",
     "shell.execute_reply.started": "2023-06-06T05:59:18.794371Z"
    },
    "tags": []
   },
   "outputs": [],
   "source": [
    "data_21 = spark.read.csv(\"dataset_21.csv\", header=True)"
   ]
  },
  {
   "cell_type": "code",
   "execution_count": 266,
   "id": "613214a5-f99a-47b5-acdb-9c2eccb9092a",
   "metadata": {
    "execution": {
     "iopub.execute_input": "2023-06-06T05:59:18.860468Z",
     "iopub.status.busy": "2023-06-06T05:59:18.860164Z",
     "iopub.status.idle": "2023-06-06T05:59:18.867925Z",
     "shell.execute_reply": "2023-06-06T05:59:18.867327Z",
     "shell.execute_reply.started": "2023-06-06T05:59:18.860452Z"
    },
    "tags": []
   },
   "outputs": [],
   "source": [
    "data_21 = data_21.drop(\"_c66\",\"_c67\")"
   ]
  },
  {
   "cell_type": "code",
   "execution_count": 267,
   "id": "cfde4302-276a-4ce0-aa64-6efb417faa4b",
   "metadata": {
    "execution": {
     "iopub.execute_input": "2023-06-06T05:59:18.868871Z",
     "iopub.status.busy": "2023-06-06T05:59:18.868576Z",
     "iopub.status.idle": "2023-06-06T05:59:19.088052Z",
     "shell.execute_reply": "2023-06-06T05:59:19.087541Z",
     "shell.execute_reply.started": "2023-06-06T05:59:18.868849Z"
    },
    "tags": []
   },
   "outputs": [
    {
     "data": {
      "text/html": [
       "<div>\n",
       "<style scoped>\n",
       "    .dataframe tbody tr th:only-of-type {\n",
       "        vertical-align: middle;\n",
       "    }\n",
       "\n",
       "    .dataframe tbody tr th {\n",
       "        vertical-align: top;\n",
       "    }\n",
       "\n",
       "    .dataframe thead th {\n",
       "        text-align: right;\n",
       "    }\n",
       "</style>\n",
       "<table border=\"1\" class=\"dataframe\">\n",
       "  <thead>\n",
       "    <tr style=\"text-align: right;\">\n",
       "      <th></th>\n",
       "      <th>Country Name</th>\n",
       "      <th>Country Code</th>\n",
       "      <th>Indicator Name</th>\n",
       "      <th>Indicator Code</th>\n",
       "      <th>1960</th>\n",
       "      <th>1961</th>\n",
       "      <th>1962</th>\n",
       "      <th>1963</th>\n",
       "      <th>1964</th>\n",
       "      <th>1965</th>\n",
       "      <th>1966</th>\n",
       "      <th>1967</th>\n",
       "      <th>1968</th>\n",
       "      <th>1969</th>\n",
       "      <th>1970</th>\n",
       "      <th>1971</th>\n",
       "      <th>1972</th>\n",
       "      <th>1973</th>\n",
       "      <th>1974</th>\n",
       "      <th>1975</th>\n",
       "      <th>1976</th>\n",
       "      <th>1977</th>\n",
       "      <th>1978</th>\n",
       "      <th>1979</th>\n",
       "      <th>1980</th>\n",
       "      <th>1981</th>\n",
       "      <th>1982</th>\n",
       "      <th>1983</th>\n",
       "      <th>1984</th>\n",
       "      <th>1985</th>\n",
       "      <th>1986</th>\n",
       "      <th>1987</th>\n",
       "      <th>1988</th>\n",
       "      <th>1989</th>\n",
       "      <th>1990</th>\n",
       "      <th>1991</th>\n",
       "      <th>1992</th>\n",
       "      <th>1993</th>\n",
       "      <th>1994</th>\n",
       "      <th>1995</th>\n",
       "      <th>1996</th>\n",
       "      <th>1997</th>\n",
       "      <th>1998</th>\n",
       "      <th>1999</th>\n",
       "      <th>2000</th>\n",
       "      <th>2001</th>\n",
       "      <th>2002</th>\n",
       "      <th>2003</th>\n",
       "      <th>2004</th>\n",
       "      <th>2005</th>\n",
       "      <th>2006</th>\n",
       "      <th>2007</th>\n",
       "      <th>2008</th>\n",
       "      <th>2009</th>\n",
       "      <th>2010</th>\n",
       "      <th>2011</th>\n",
       "      <th>2012</th>\n",
       "      <th>2013</th>\n",
       "      <th>2014</th>\n",
       "      <th>2015</th>\n",
       "      <th>2016</th>\n",
       "      <th>2017</th>\n",
       "      <th>2018</th>\n",
       "      <th>2019</th>\n",
       "      <th>2020</th>\n",
       "      <th>2021</th>\n",
       "      <th>2022</th>\n",
       "    </tr>\n",
       "  </thead>\n",
       "  <tbody>\n",
       "    <tr>\n",
       "      <th>0</th>\n",
       "      <td>Aruba</td>\n",
       "      <td>ABW</td>\n",
       "      <td>Tasa de finalización de la educación de nivel ...</td>\n",
       "      <td>SE.PRM.CMPT.ZS</td>\n",
       "      <td>None</td>\n",
       "      <td>None</td>\n",
       "      <td>None</td>\n",
       "      <td>None</td>\n",
       "      <td>None</td>\n",
       "      <td>None</td>\n",
       "      <td>None</td>\n",
       "      <td>None</td>\n",
       "      <td>None</td>\n",
       "      <td>None</td>\n",
       "      <td>None</td>\n",
       "      <td>None</td>\n",
       "      <td>None</td>\n",
       "      <td>None</td>\n",
       "      <td>None</td>\n",
       "      <td>None</td>\n",
       "      <td>None</td>\n",
       "      <td>None</td>\n",
       "      <td>None</td>\n",
       "      <td>None</td>\n",
       "      <td>None</td>\n",
       "      <td>None</td>\n",
       "      <td>None</td>\n",
       "      <td>None</td>\n",
       "      <td>None</td>\n",
       "      <td>None</td>\n",
       "      <td>None</td>\n",
       "      <td>None</td>\n",
       "      <td>None</td>\n",
       "      <td>None</td>\n",
       "      <td>None</td>\n",
       "      <td>None</td>\n",
       "      <td>None</td>\n",
       "      <td>None</td>\n",
       "      <td>None</td>\n",
       "      <td>None</td>\n",
       "      <td>None</td>\n",
       "      <td>None</td>\n",
       "      <td>None</td>\n",
       "      <td>101.619117736816</td>\n",
       "      <td>97.1428604125977</td>\n",
       "      <td>94.4040679931641</td>\n",
       "      <td>94.755241394043</td>\n",
       "      <td>90.2159194946289</td>\n",
       "      <td>90.5598983764648</td>\n",
       "      <td>88.1979675292969</td>\n",
       "      <td>93.1861190795898</td>\n",
       "      <td>95.5882415771484</td>\n",
       "      <td>95.1330337524414</td>\n",
       "      <td>96.2425765991211</td>\n",
       "      <td>94.7861022949219</td>\n",
       "      <td>None</td>\n",
       "      <td>None</td>\n",
       "      <td>96.5706405639648</td>\n",
       "      <td>101.180557250977</td>\n",
       "      <td>None</td>\n",
       "      <td>None</td>\n",
       "      <td>None</td>\n",
       "      <td>None</td>\n",
       "      <td>None</td>\n",
       "      <td>None</td>\n",
       "      <td>None</td>\n",
       "      <td>None</td>\n",
       "    </tr>\n",
       "    <tr>\n",
       "      <th>1</th>\n",
       "      <td>None</td>\n",
       "      <td>AFE</td>\n",
       "      <td>Tasa de finalización de la educación de nivel ...</td>\n",
       "      <td>SE.PRM.CMPT.ZS</td>\n",
       "      <td>None</td>\n",
       "      <td>None</td>\n",
       "      <td>None</td>\n",
       "      <td>None</td>\n",
       "      <td>None</td>\n",
       "      <td>None</td>\n",
       "      <td>None</td>\n",
       "      <td>None</td>\n",
       "      <td>None</td>\n",
       "      <td>None</td>\n",
       "      <td>None</td>\n",
       "      <td>41.6629981994629</td>\n",
       "      <td>42.637508392334</td>\n",
       "      <td>43.3848991394043</td>\n",
       "      <td>44.429931640625</td>\n",
       "      <td>45.4001998901367</td>\n",
       "      <td>46.2538108825684</td>\n",
       "      <td>47.8404083251953</td>\n",
       "      <td>49.3253402709961</td>\n",
       "      <td>51.9174003601074</td>\n",
       "      <td>52.6832809448242</td>\n",
       "      <td>54.075008392334</td>\n",
       "      <td>55.2577514648438</td>\n",
       "      <td>55.7916107177734</td>\n",
       "      <td>58.8742713928223</td>\n",
       "      <td>55.2768516540527</td>\n",
       "      <td>54.8070411682129</td>\n",
       "      <td>53.6615295410156</td>\n",
       "      <td>52.3084907531738</td>\n",
       "      <td>50.6883811950684</td>\n",
       "      <td>51.5261611938477</td>\n",
       "      <td>52.1606483459473</td>\n",
       "      <td>51.1751708984375</td>\n",
       "      <td>52.1927604675293</td>\n",
       "      <td>50.7563018798828</td>\n",
       "      <td>50.8544692993164</td>\n",
       "      <td>51.0122604370117</td>\n",
       "      <td>50.9097900390625</td>\n",
       "      <td>50.0661392211914</td>\n",
       "      <td>50.3088989257813</td>\n",
       "      <td>50.4125289916992</td>\n",
       "      <td>52.4814109802246</td>\n",
       "      <td>54.2634696960449</td>\n",
       "      <td>55.9368896484375</td>\n",
       "      <td>57.2593002319336</td>\n",
       "      <td>59.5904998779297</td>\n",
       "      <td>61.8936386108398</td>\n",
       "      <td>63.5756912231445</td>\n",
       "      <td>66.9495315551758</td>\n",
       "      <td>70.1065673828125</td>\n",
       "      <td>69.5502166748047</td>\n",
       "      <td>68.3240737915039</td>\n",
       "      <td>68.0312576293945</td>\n",
       "      <td>67.6544494628906</td>\n",
       "      <td>67.5930099487305</td>\n",
       "      <td>67.2124328613281</td>\n",
       "      <td>67.4798126220703</td>\n",
       "      <td>68.6649017333984</td>\n",
       "      <td>70.1976623535156</td>\n",
       "      <td>70.9132766723633</td>\n",
       "      <td>71.9691619873047</td>\n",
       "      <td>None</td>\n",
       "      <td>None</td>\n",
       "    </tr>\n",
       "    <tr>\n",
       "      <th>2</th>\n",
       "      <td>Afganistán</td>\n",
       "      <td>AFG</td>\n",
       "      <td>Tasa de finalización de la educación de nivel ...</td>\n",
       "      <td>SE.PRM.CMPT.ZS</td>\n",
       "      <td>None</td>\n",
       "      <td>None</td>\n",
       "      <td>None</td>\n",
       "      <td>None</td>\n",
       "      <td>None</td>\n",
       "      <td>None</td>\n",
       "      <td>None</td>\n",
       "      <td>None</td>\n",
       "      <td>None</td>\n",
       "      <td>None</td>\n",
       "      <td>None</td>\n",
       "      <td>None</td>\n",
       "      <td>None</td>\n",
       "      <td>None</td>\n",
       "      <td>16.6569995880127</td>\n",
       "      <td>None</td>\n",
       "      <td>None</td>\n",
       "      <td>17.8807601928711</td>\n",
       "      <td>19.6528396606445</td>\n",
       "      <td>None</td>\n",
       "      <td>26.3732395172119</td>\n",
       "      <td>32.7061195373535</td>\n",
       "      <td>None</td>\n",
       "      <td>None</td>\n",
       "      <td>17.8910293579102</td>\n",
       "      <td>18.5706005096436</td>\n",
       "      <td>None</td>\n",
       "      <td>None</td>\n",
       "      <td>None</td>\n",
       "      <td>None</td>\n",
       "      <td>None</td>\n",
       "      <td>None</td>\n",
       "      <td>None</td>\n",
       "      <td>27.5751705169678</td>\n",
       "      <td>None</td>\n",
       "      <td>None</td>\n",
       "      <td>None</td>\n",
       "      <td>None</td>\n",
       "      <td>None</td>\n",
       "      <td>None</td>\n",
       "      <td>None</td>\n",
       "      <td>None</td>\n",
       "      <td>None</td>\n",
       "      <td>None</td>\n",
       "      <td>None</td>\n",
       "      <td>None</td>\n",
       "      <td>None</td>\n",
       "      <td>None</td>\n",
       "      <td>None</td>\n",
       "      <td>None</td>\n",
       "      <td>None</td>\n",
       "      <td>None</td>\n",
       "      <td>None</td>\n",
       "      <td>None</td>\n",
       "      <td>None</td>\n",
       "      <td>None</td>\n",
       "      <td>80.4950408935547</td>\n",
       "      <td>84.4149475097656</td>\n",
       "      <td>85.6253280639648</td>\n",
       "      <td>84.3305892944336</td>\n",
       "      <td>None</td>\n",
       "      <td>None</td>\n",
       "      <td>None</td>\n",
       "    </tr>\n",
       "  </tbody>\n",
       "</table>\n",
       "</div>"
      ],
      "text/plain": [
       "  Country Name Country Code                                                                                      Indicator Name  Indicator Code  1960  1961  1962  1963  1964  1965  1966  1967  1968  1969  1970              1971             1972              1973              1974              1975              1976              1977              1978              1979              1980              1981              1982              1983              1984              1985              1986              1987              1988              1989              1990              1991              1992              1993              1994              1995              1996              1997              1998              1999              2000              2001              2002              2003              2004              2005              2006              2007              2008              2009              2010              2011              2012              2013              2014              2015              2016              2017              2018              2019              2020  2021  2022\n",
       "0        Aruba          ABW  Tasa de finalización de la educación de nivel primario, total (% del grupo etario correspondiente)  SE.PRM.CMPT.ZS  None  None  None  None  None  None  None  None  None  None  None              None             None              None              None              None              None              None              None              None              None              None              None              None              None              None              None              None              None              None              None              None              None              None              None              None              None              None              None  101.619117736816  97.1428604125977  94.4040679931641   94.755241394043  90.2159194946289  90.5598983764648  88.1979675292969  93.1861190795898  95.5882415771484  95.1330337524414  96.2425765991211  94.7861022949219              None              None  96.5706405639648  101.180557250977              None              None              None              None              None              None  None  None\n",
       "1         None          AFE  Tasa de finalización de la educación de nivel primario, total (% del grupo etario correspondiente)  SE.PRM.CMPT.ZS  None  None  None  None  None  None  None  None  None  None  None  41.6629981994629  42.637508392334  43.3848991394043   44.429931640625  45.4001998901367  46.2538108825684  47.8404083251953  49.3253402709961  51.9174003601074  52.6832809448242   54.075008392334  55.2577514648438  55.7916107177734  58.8742713928223  55.2768516540527  54.8070411682129  53.6615295410156  52.3084907531738  50.6883811950684  51.5261611938477  52.1606483459473  51.1751708984375  52.1927604675293  50.7563018798828  50.8544692993164  51.0122604370117  50.9097900390625  50.0661392211914  50.3088989257813  50.4125289916992  52.4814109802246  54.2634696960449  55.9368896484375  57.2593002319336  59.5904998779297  61.8936386108398  63.5756912231445  66.9495315551758  70.1065673828125  69.5502166748047  68.3240737915039  68.0312576293945  67.6544494628906  67.5930099487305  67.2124328613281  67.4798126220703  68.6649017333984  70.1976623535156  70.9132766723633  71.9691619873047  None  None\n",
       "2   Afganistán          AFG  Tasa de finalización de la educación de nivel primario, total (% del grupo etario correspondiente)  SE.PRM.CMPT.ZS  None  None  None  None  None  None  None  None  None  None  None              None             None              None  16.6569995880127              None              None  17.8807601928711  19.6528396606445              None  26.3732395172119  32.7061195373535              None              None  17.8910293579102  18.5706005096436              None              None              None              None              None              None              None  27.5751705169678              None              None              None              None              None              None              None              None              None              None              None              None              None              None              None              None              None              None              None              None              None              None  80.4950408935547  84.4149475097656  85.6253280639648  84.3305892944336              None  None  None"
      ]
     },
     "execution_count": 267,
     "metadata": {},
     "output_type": "execute_result"
    }
   ],
   "source": [
    "data_21.limit(3).pandas_api()"
   ]
  },
  {
   "cell_type": "code",
   "execution_count": 268,
   "id": "6ca83075-a012-4aaf-b624-72e6232f0a28",
   "metadata": {
    "execution": {
     "iopub.execute_input": "2023-06-06T05:59:19.089009Z",
     "iopub.status.busy": "2023-06-06T05:59:19.088646Z",
     "iopub.status.idle": "2023-06-06T05:59:19.100290Z",
     "shell.execute_reply": "2023-06-06T05:59:19.099793Z",
     "shell.execute_reply.started": "2023-06-06T05:59:19.088993Z"
    },
    "tags": []
   },
   "outputs": [],
   "source": [
    "data_21 = data_21.selectExpr('`Country Name`', '`Country Code`', \"`Indicator Name`\", \"`Indicator Code`\", \"stack(63, \\\n",
    "'1960', `1960`, '1961', `1961`, '1962', `1962`, '1963', `1963`, '1964', `1964`, \\\n",
    "'1965', `1965`, '1966', `1966`, '1967', `1967`, '1968', `1968`, '1969', `1969`, \\\n",
    "'1970', `1970`, '1971', `1971`, '1972', `1972`, '1973', `1973`, '1974', `1974`, \\\n",
    "'1975', `1975`, '1976', `1976`, '1977', `1977`, '1978', `1978`, '1979', `1979`, \\\n",
    "'1980', `1980`, '1981', `1981`, '1982', `1982`, '1983', `1983`, '1984', `1984`, \\\n",
    "'1985', `1985`, '1986', `1986`, '1987', `1987`, '1988', `1988`, '1989', `1989`, \\\n",
    "'1990', `1990`, '1991', `1991`, '1992', `1992`, '1993', `1993`, '1994', `1994`, \\\n",
    "'1995', `1995`, '1996', `1996`, '1997', `1997`, '1998', `1998`, '1999', `1999`, \\\n",
    "'2010', `2010`, '2011', `2011`, '2012', `2012`, '2013', `2013`, '2014', `2014`, \\\n",
    "'2015', `2015`, '2016', `2016`, '2017', `2017`, '2018', `2018`, '2019', `2019`, \\\n",
    "'2010', `2010`, '2011', `2011`, '2012', `2012`, '2013', `2013`, '2014', `2014`, \\\n",
    "'2015', `2015`, '2016', `2016`, '2017', `2017`, '2018', `2018`, '2019', `2019`, \\\n",
    "'2020', `2020`, '2021', `2021`, '2022', `2022`) as (Year, porc_primary_school_completion)\")"
   ]
  },
  {
   "cell_type": "code",
   "execution_count": 269,
   "id": "024a8bb1-59db-4937-ae00-63a8785698fc",
   "metadata": {
    "execution": {
     "iopub.execute_input": "2023-06-06T05:59:19.101160Z",
     "iopub.status.busy": "2023-06-06T05:59:19.100980Z",
     "iopub.status.idle": "2023-06-06T05:59:19.276613Z",
     "shell.execute_reply": "2023-06-06T05:59:19.276060Z",
     "shell.execute_reply.started": "2023-06-06T05:59:19.101132Z"
    },
    "tags": []
   },
   "outputs": [
    {
     "data": {
      "text/html": [
       "<div>\n",
       "<style scoped>\n",
       "    .dataframe tbody tr th:only-of-type {\n",
       "        vertical-align: middle;\n",
       "    }\n",
       "\n",
       "    .dataframe tbody tr th {\n",
       "        vertical-align: top;\n",
       "    }\n",
       "\n",
       "    .dataframe thead th {\n",
       "        text-align: right;\n",
       "    }\n",
       "</style>\n",
       "<table border=\"1\" class=\"dataframe\">\n",
       "  <thead>\n",
       "    <tr style=\"text-align: right;\">\n",
       "      <th></th>\n",
       "      <th>Country Name</th>\n",
       "      <th>Country Code</th>\n",
       "      <th>Indicator Name</th>\n",
       "      <th>Indicator Code</th>\n",
       "      <th>Year</th>\n",
       "      <th>porc_primary_school_completion</th>\n",
       "    </tr>\n",
       "  </thead>\n",
       "  <tbody>\n",
       "    <tr>\n",
       "      <th>0</th>\n",
       "      <td>None</td>\n",
       "      <td>AFE</td>\n",
       "      <td>Tasa de finalización de la educación de nivel ...</td>\n",
       "      <td>SE.PRM.CMPT.ZS</td>\n",
       "      <td>1993</td>\n",
       "      <td>52.1927604675293</td>\n",
       "    </tr>\n",
       "    <tr>\n",
       "      <th>1</th>\n",
       "      <td>Cabo Verde</td>\n",
       "      <td>CPV</td>\n",
       "      <td>Tasa de finalización de la educación de nivel ...</td>\n",
       "      <td>SE.PRM.CMPT.ZS</td>\n",
       "      <td>2016</td>\n",
       "      <td>91.0370635986328</td>\n",
       "    </tr>\n",
       "    <tr>\n",
       "      <th>2</th>\n",
       "      <td>Israel</td>\n",
       "      <td>ISR</td>\n",
       "      <td>Tasa de finalización de la educación de nivel ...</td>\n",
       "      <td>SE.PRM.CMPT.ZS</td>\n",
       "      <td>1988</td>\n",
       "      <td>None</td>\n",
       "    </tr>\n",
       "  </tbody>\n",
       "</table>\n",
       "</div>"
      ],
      "text/plain": [
       "  Country Name Country Code                                                                                      Indicator Name  Indicator Code  Year porc_primary_school_completion\n",
       "0         None          AFE  Tasa de finalización de la educación de nivel primario, total (% del grupo etario correspondiente)  SE.PRM.CMPT.ZS  1993               52.1927604675293\n",
       "1   Cabo Verde          CPV  Tasa de finalización de la educación de nivel primario, total (% del grupo etario correspondiente)  SE.PRM.CMPT.ZS  2016               91.0370635986328\n",
       "2       Israel          ISR  Tasa de finalización de la educación de nivel primario, total (% del grupo etario correspondiente)  SE.PRM.CMPT.ZS  1988                           None"
      ]
     },
     "execution_count": 269,
     "metadata": {},
     "output_type": "execute_result"
    }
   ],
   "source": [
    "data_21.sample(False, 3/data_20.count(), seed=150).limit(3).pandas_api()\n"
   ]
  },
  {
   "cell_type": "code",
   "execution_count": 270,
   "id": "802cdcfc-705e-42ad-ada0-c76e7c076c73",
   "metadata": {
    "execution": {
     "iopub.execute_input": "2023-06-06T05:59:19.277523Z",
     "iopub.status.busy": "2023-06-06T05:59:19.277355Z",
     "iopub.status.idle": "2023-06-06T05:59:19.284183Z",
     "shell.execute_reply": "2023-06-06T05:59:19.283680Z",
     "shell.execute_reply.started": "2023-06-06T05:59:19.277508Z"
    },
    "tags": []
   },
   "outputs": [
    {
     "data": {
      "text/plain": [
       "['Country Code', 'Year', 'porc_primary_school_completion']"
      ]
     },
     "execution_count": 270,
     "metadata": {},
     "output_type": "execute_result"
    }
   ],
   "source": [
    "data_21 = data_21.drop(\"Country Name\",\"Indicator Name\",\"Indicator Code\")\n",
    "data_21.columns"
   ]
  },
  {
   "cell_type": "markdown",
   "id": "5643522c-e907-48f6-b5e6-a08e7ce97e3c",
   "metadata": {},
   "source": [
    "# Tasa de finalización del ciclo inferior de la educación secundaria, total (% del grupo etario pertinente)\n",
    "\n",
    "Lower secondary education completion rate is measured as the gross intake ratio to the last grade of lower secondary education (general and pre-vocational). It is calculated as the number of new entrants in the last grade of lower secondary education, regardless of age, divided by the population at the entrance age for the last grade of lower secondary education.\n",
    "\n",
    "https://datos.bancomundial.org/indicador/SE.SEC.CMPT.LO.ZS?view=chart"
   ]
  },
  {
   "cell_type": "code",
   "execution_count": 271,
   "id": "72f77353-b9c4-45d2-9102-5c368bf5b5d4",
   "metadata": {
    "execution": {
     "iopub.execute_input": "2023-06-06T05:59:19.284919Z",
     "iopub.status.busy": "2023-06-06T05:59:19.284757Z",
     "iopub.status.idle": "2023-06-06T05:59:19.290832Z",
     "shell.execute_reply": "2023-06-06T05:59:19.290308Z",
     "shell.execute_reply.started": "2023-06-06T05:59:19.284904Z"
    },
    "tags": []
   },
   "outputs": [],
   "source": [
    "url_22 =\"https://api.worldbank.org/v2/es/indicator/SE.SEC.CMPT.LO.ZS?downloadformat=csv\""
   ]
  },
  {
   "cell_type": "code",
   "execution_count": 272,
   "id": "bfd89d5f-02eb-42ce-a553-98b9d7facd98",
   "metadata": {
    "execution": {
     "iopub.execute_input": "2023-06-06T05:59:19.291662Z",
     "iopub.status.busy": "2023-06-06T05:59:19.291501Z",
     "iopub.status.idle": "2023-06-06T05:59:20.489807Z",
     "shell.execute_reply": "2023-06-06T05:59:20.488926Z",
     "shell.execute_reply.started": "2023-06-06T05:59:19.291647Z"
    },
    "tags": []
   },
   "outputs": [],
   "source": [
    "response_url_22 = requests.get(url_22)"
   ]
  },
  {
   "cell_type": "code",
   "execution_count": 273,
   "id": "dd067677-ee25-4ef9-b1fd-6f6db79dd9fe",
   "metadata": {
    "execution": {
     "iopub.execute_input": "2023-06-06T05:59:20.491410Z",
     "iopub.status.busy": "2023-06-06T05:59:20.491155Z",
     "iopub.status.idle": "2023-06-06T05:59:20.499275Z",
     "shell.execute_reply": "2023-06-06T05:59:20.498483Z",
     "shell.execute_reply.started": "2023-06-06T05:59:20.491384Z"
    },
    "tags": []
   },
   "outputs": [
    {
     "name": "stdout",
     "output_type": "stream",
     "text": [
      "El archivo ZIP se ha descargado y descomprimido correctamente.\n"
     ]
    }
   ],
   "source": [
    "if response_url_22.status_code == 200:\n",
    "    # Crear un objeto ZipFile a partir de los datos de la respuesta\n",
    "    with zipfile.ZipFile(io.BytesIO(response_url_22.content), \"r\") as zip_url_22:\n",
    "        # Extraer todos los archivos del archivo ZIP en el directorio actual\n",
    "        zip_url_22.extractall(\"dataset\")\n",
    "\n",
    "    print(\"El archivo ZIP se ha descargado y descomprimido correctamente.\")\n",
    "else:\n",
    "    print(\"Error al descargar el archivo ZIP:\", response_url_22.status_code)"
   ]
  },
  {
   "cell_type": "code",
   "execution_count": 274,
   "id": "f79dfbd3-806c-4dbf-b8bb-3936f0f5a5a2",
   "metadata": {
    "execution": {
     "iopub.execute_input": "2023-06-06T05:59:20.500564Z",
     "iopub.status.busy": "2023-06-06T05:59:20.500287Z",
     "iopub.status.idle": "2023-06-06T05:59:20.510593Z",
     "shell.execute_reply": "2023-06-06T05:59:20.509717Z",
     "shell.execute_reply.started": "2023-06-06T05:59:20.500539Z"
    },
    "tags": []
   },
   "outputs": [],
   "source": [
    "# Ruta del archivo CSV\n",
    "\n",
    "csv_url_22 = \"dataset/API_SE.SEC.CMPT.LO.ZS_DS2_es_csv_v2_5473788.csv\"\n",
    "\n",
    "# Crear una lista para almacenar las filas del archivo CSV\n",
    "rows_url_22 = []\n",
    "\n",
    "\n",
    "#API_SE.PRM.CMPT.ZS_DS2_es_csv_v2_5478942"
   ]
  },
  {
   "cell_type": "code",
   "execution_count": 275,
   "id": "8c517928-24d0-4f9e-b7e7-c4bb340618c1",
   "metadata": {
    "execution": {
     "iopub.execute_input": "2023-06-06T05:59:20.511911Z",
     "iopub.status.busy": "2023-06-06T05:59:20.511657Z",
     "iopub.status.idle": "2023-06-06T05:59:20.522366Z",
     "shell.execute_reply": "2023-06-06T05:59:20.521732Z",
     "shell.execute_reply.started": "2023-06-06T05:59:20.511887Z"
    },
    "tags": []
   },
   "outputs": [],
   "source": [
    "# Leer el archivo CSV y almacenar las filas en la lista\n",
    "with open(csv_url_22, \"r\") as file_csv_url_22:\n",
    "    csv_reader_url_22 = csv.reader(file_csv_url_22)\n",
    "    rows_url_22 = list(csv_reader_url_22)\n"
   ]
  },
  {
   "cell_type": "code",
   "execution_count": 276,
   "id": "8478fd66-3998-44ea-b467-616e0b700e5b",
   "metadata": {
    "execution": {
     "iopub.execute_input": "2023-06-06T05:59:20.523324Z",
     "iopub.status.busy": "2023-06-06T05:59:20.523135Z",
     "iopub.status.idle": "2023-06-06T05:59:20.534611Z",
     "shell.execute_reply": "2023-06-06T05:59:20.533989Z",
     "shell.execute_reply.started": "2023-06-06T05:59:20.523306Z"
    },
    "tags": []
   },
   "outputs": [],
   "source": [
    "# Eliminar las primeras 4 filas\n",
    "\n",
    "rows_url_22 = rows_url_22[4:]\n",
    "\n",
    "# Escribir las filas modificadas en un nuevo archivo CSV\n",
    "with open(\"dataset/data/dataset_22.csv\", \"w\", newline=\"\") as file_csv_url_22:\n",
    "    csv_writer_url_22 = csv.writer(file_csv_url_22)\n",
    "    csv_writer_url_22.writerows(rows_url_22)"
   ]
  },
  {
   "cell_type": "code",
   "execution_count": 277,
   "id": "b1305d84-8eb2-4502-ae46-e805fa14fa58",
   "metadata": {
    "execution": {
     "iopub.execute_input": "2023-06-06T05:59:20.535530Z",
     "iopub.status.busy": "2023-06-06T05:59:20.535349Z",
     "iopub.status.idle": "2023-06-06T05:59:20.594146Z",
     "shell.execute_reply": "2023-06-06T05:59:20.593543Z",
     "shell.execute_reply.started": "2023-06-06T05:59:20.535513Z"
    },
    "tags": []
   },
   "outputs": [],
   "source": [
    "data_22 = spark.read.csv(\"dataset_22.csv\", header=True)"
   ]
  },
  {
   "cell_type": "code",
   "execution_count": 278,
   "id": "69c49874-802b-4b55-959f-5d3688ea99e1",
   "metadata": {
    "execution": {
     "iopub.execute_input": "2023-06-06T05:59:20.595121Z",
     "iopub.status.busy": "2023-06-06T05:59:20.594738Z",
     "iopub.status.idle": "2023-06-06T05:59:20.601690Z",
     "shell.execute_reply": "2023-06-06T05:59:20.601038Z",
     "shell.execute_reply.started": "2023-06-06T05:59:20.595104Z"
    },
    "tags": []
   },
   "outputs": [],
   "source": [
    "data_22 = data_22.drop(\"_c66\",\"_c67\")"
   ]
  },
  {
   "cell_type": "code",
   "execution_count": 279,
   "id": "5e76934b-74d4-431a-adf1-f62cd09a1973",
   "metadata": {
    "execution": {
     "iopub.execute_input": "2023-06-06T05:59:20.602987Z",
     "iopub.status.busy": "2023-06-06T05:59:20.602710Z",
     "iopub.status.idle": "2023-06-06T05:59:20.804644Z",
     "shell.execute_reply": "2023-06-06T05:59:20.804110Z",
     "shell.execute_reply.started": "2023-06-06T05:59:20.602967Z"
    },
    "tags": []
   },
   "outputs": [
    {
     "data": {
      "text/html": [
       "<div>\n",
       "<style scoped>\n",
       "    .dataframe tbody tr th:only-of-type {\n",
       "        vertical-align: middle;\n",
       "    }\n",
       "\n",
       "    .dataframe tbody tr th {\n",
       "        vertical-align: top;\n",
       "    }\n",
       "\n",
       "    .dataframe thead th {\n",
       "        text-align: right;\n",
       "    }\n",
       "</style>\n",
       "<table border=\"1\" class=\"dataframe\">\n",
       "  <thead>\n",
       "    <tr style=\"text-align: right;\">\n",
       "      <th></th>\n",
       "      <th>Country Name</th>\n",
       "      <th>Country Code</th>\n",
       "      <th>Indicator Name</th>\n",
       "      <th>Indicator Code</th>\n",
       "      <th>1960</th>\n",
       "      <th>1961</th>\n",
       "      <th>1962</th>\n",
       "      <th>1963</th>\n",
       "      <th>1964</th>\n",
       "      <th>1965</th>\n",
       "      <th>1966</th>\n",
       "      <th>1967</th>\n",
       "      <th>1968</th>\n",
       "      <th>1969</th>\n",
       "      <th>1970</th>\n",
       "      <th>1971</th>\n",
       "      <th>1972</th>\n",
       "      <th>1973</th>\n",
       "      <th>1974</th>\n",
       "      <th>1975</th>\n",
       "      <th>1976</th>\n",
       "      <th>1977</th>\n",
       "      <th>1978</th>\n",
       "      <th>1979</th>\n",
       "      <th>1980</th>\n",
       "      <th>1981</th>\n",
       "      <th>1982</th>\n",
       "      <th>1983</th>\n",
       "      <th>1984</th>\n",
       "      <th>1985</th>\n",
       "      <th>1986</th>\n",
       "      <th>1987</th>\n",
       "      <th>1988</th>\n",
       "      <th>1989</th>\n",
       "      <th>1990</th>\n",
       "      <th>1991</th>\n",
       "      <th>1992</th>\n",
       "      <th>1993</th>\n",
       "      <th>1994</th>\n",
       "      <th>1995</th>\n",
       "      <th>1996</th>\n",
       "      <th>1997</th>\n",
       "      <th>1998</th>\n",
       "      <th>1999</th>\n",
       "      <th>2000</th>\n",
       "      <th>2001</th>\n",
       "      <th>2002</th>\n",
       "      <th>2003</th>\n",
       "      <th>2004</th>\n",
       "      <th>2005</th>\n",
       "      <th>2006</th>\n",
       "      <th>2007</th>\n",
       "      <th>2008</th>\n",
       "      <th>2009</th>\n",
       "      <th>2010</th>\n",
       "      <th>2011</th>\n",
       "      <th>2012</th>\n",
       "      <th>2013</th>\n",
       "      <th>2014</th>\n",
       "      <th>2015</th>\n",
       "      <th>2016</th>\n",
       "      <th>2017</th>\n",
       "      <th>2018</th>\n",
       "      <th>2019</th>\n",
       "      <th>2020</th>\n",
       "      <th>2021</th>\n",
       "      <th>2022</th>\n",
       "    </tr>\n",
       "  </thead>\n",
       "  <tbody>\n",
       "    <tr>\n",
       "      <th>0</th>\n",
       "      <td>Aruba</td>\n",
       "      <td>ABW</td>\n",
       "      <td>Tasa de finalización del ciclo inferior de la ...</td>\n",
       "      <td>SE.SEC.CMPT.LO.ZS</td>\n",
       "      <td>None</td>\n",
       "      <td>None</td>\n",
       "      <td>None</td>\n",
       "      <td>None</td>\n",
       "      <td>None</td>\n",
       "      <td>None</td>\n",
       "      <td>None</td>\n",
       "      <td>None</td>\n",
       "      <td>None</td>\n",
       "      <td>None</td>\n",
       "      <td>None</td>\n",
       "      <td>None</td>\n",
       "      <td>None</td>\n",
       "      <td>None</td>\n",
       "      <td>None</td>\n",
       "      <td>None</td>\n",
       "      <td>None</td>\n",
       "      <td>None</td>\n",
       "      <td>None</td>\n",
       "      <td>None</td>\n",
       "      <td>None</td>\n",
       "      <td>None</td>\n",
       "      <td>None</td>\n",
       "      <td>None</td>\n",
       "      <td>None</td>\n",
       "      <td>None</td>\n",
       "      <td>None</td>\n",
       "      <td>None</td>\n",
       "      <td>None</td>\n",
       "      <td>None</td>\n",
       "      <td>None</td>\n",
       "      <td>None</td>\n",
       "      <td>None</td>\n",
       "      <td>None</td>\n",
       "      <td>None</td>\n",
       "      <td>None</td>\n",
       "      <td>None</td>\n",
       "      <td>None</td>\n",
       "      <td>None</td>\n",
       "      <td>93.6170196533203</td>\n",
       "      <td>94.8262481689453</td>\n",
       "      <td>98.2667694091797</td>\n",
       "      <td>97.1386566162109</td>\n",
       "      <td>89.5258331298828</td>\n",
       "      <td>87.5594787597656</td>\n",
       "      <td>87.5902786254883</td>\n",
       "      <td>None</td>\n",
       "      <td>89.0220794677734</td>\n",
       "      <td>None</td>\n",
       "      <td>96.1910934448242</td>\n",
       "      <td>None</td>\n",
       "      <td>None</td>\n",
       "      <td>None</td>\n",
       "      <td>101.545700073242</td>\n",
       "      <td>99.2572631835938</td>\n",
       "      <td>None</td>\n",
       "      <td>None</td>\n",
       "      <td>None</td>\n",
       "      <td>None</td>\n",
       "      <td>None</td>\n",
       "      <td>None</td>\n",
       "      <td>None</td>\n",
       "      <td>None</td>\n",
       "    </tr>\n",
       "    <tr>\n",
       "      <th>1</th>\n",
       "      <td>None</td>\n",
       "      <td>AFE</td>\n",
       "      <td>Tasa de finalización del ciclo inferior de la ...</td>\n",
       "      <td>SE.SEC.CMPT.LO.ZS</td>\n",
       "      <td>None</td>\n",
       "      <td>None</td>\n",
       "      <td>None</td>\n",
       "      <td>None</td>\n",
       "      <td>None</td>\n",
       "      <td>None</td>\n",
       "      <td>None</td>\n",
       "      <td>None</td>\n",
       "      <td>None</td>\n",
       "      <td>None</td>\n",
       "      <td>None</td>\n",
       "      <td>None</td>\n",
       "      <td>None</td>\n",
       "      <td>None</td>\n",
       "      <td>None</td>\n",
       "      <td>None</td>\n",
       "      <td>24.3201103210449</td>\n",
       "      <td>24.511999130249</td>\n",
       "      <td>24.6560707092285</td>\n",
       "      <td>24.7215194702148</td>\n",
       "      <td>24.9958992004395</td>\n",
       "      <td>25.0259304046631</td>\n",
       "      <td>25.1622695922852</td>\n",
       "      <td>25.2455806732178</td>\n",
       "      <td>25.4166297912598</td>\n",
       "      <td>25.5515899658203</td>\n",
       "      <td>25.499080657959</td>\n",
       "      <td>25.5499801635742</td>\n",
       "      <td>25.7534408569336</td>\n",
       "      <td>25.9363708496094</td>\n",
       "      <td>25.7921600341797</td>\n",
       "      <td>25.8832893371582</td>\n",
       "      <td>25.7905902862549</td>\n",
       "      <td>26.5919990539551</td>\n",
       "      <td>26.948600769043</td>\n",
       "      <td>28.2395706176758</td>\n",
       "      <td>28.6701202392578</td>\n",
       "      <td>28.8856105804443</td>\n",
       "      <td>29.5753993988037</td>\n",
       "      <td>29.7661399841309</td>\n",
       "      <td>30.0601005554199</td>\n",
       "      <td>31.6068305969238</td>\n",
       "      <td>33.6173896789551</td>\n",
       "      <td>32.8705101013184</td>\n",
       "      <td>33.1322784423828</td>\n",
       "      <td>34.1036491394043</td>\n",
       "      <td>35.4262084960938</td>\n",
       "      <td>36.7879104614258</td>\n",
       "      <td>38.6221504211426</td>\n",
       "      <td>39.5837516784668</td>\n",
       "      <td>40.7856101989746</td>\n",
       "      <td>41.4754486083984</td>\n",
       "      <td>41.9407501220703</td>\n",
       "      <td>42.6220397949219</td>\n",
       "      <td>43.7790412902832</td>\n",
       "      <td>44.0443916320801</td>\n",
       "      <td>44.0727005004883</td>\n",
       "      <td>44.0504493713379</td>\n",
       "      <td>43.9863014221191</td>\n",
       "      <td>44.3850288391113</td>\n",
       "      <td>44.5507392883301</td>\n",
       "      <td>None</td>\n",
       "      <td>None</td>\n",
       "    </tr>\n",
       "    <tr>\n",
       "      <th>2</th>\n",
       "      <td>Afganistán</td>\n",
       "      <td>AFG</td>\n",
       "      <td>Tasa de finalización del ciclo inferior de la ...</td>\n",
       "      <td>SE.SEC.CMPT.LO.ZS</td>\n",
       "      <td>None</td>\n",
       "      <td>None</td>\n",
       "      <td>None</td>\n",
       "      <td>None</td>\n",
       "      <td>None</td>\n",
       "      <td>None</td>\n",
       "      <td>None</td>\n",
       "      <td>None</td>\n",
       "      <td>None</td>\n",
       "      <td>None</td>\n",
       "      <td>None</td>\n",
       "      <td>None</td>\n",
       "      <td>None</td>\n",
       "      <td>9.60499954223633</td>\n",
       "      <td>8.40972995758057</td>\n",
       "      <td>None</td>\n",
       "      <td>None</td>\n",
       "      <td>6.96337985992432</td>\n",
       "      <td>9.33279991149902</td>\n",
       "      <td>None</td>\n",
       "      <td>13.4953098297119</td>\n",
       "      <td>16.1467800140381</td>\n",
       "      <td>10.7438201904297</td>\n",
       "      <td>None</td>\n",
       "      <td>12.7984104156494</td>\n",
       "      <td>13.1899900436401</td>\n",
       "      <td>None</td>\n",
       "      <td>None</td>\n",
       "      <td>None</td>\n",
       "      <td>None</td>\n",
       "      <td>None</td>\n",
       "      <td>None</td>\n",
       "      <td>None</td>\n",
       "      <td>17.8644599914551</td>\n",
       "      <td>None</td>\n",
       "      <td>None</td>\n",
       "      <td>None</td>\n",
       "      <td>None</td>\n",
       "      <td>None</td>\n",
       "      <td>None</td>\n",
       "      <td>None</td>\n",
       "      <td>None</td>\n",
       "      <td>None</td>\n",
       "      <td>None</td>\n",
       "      <td>None</td>\n",
       "      <td>16.0289402008057</td>\n",
       "      <td>None</td>\n",
       "      <td>None</td>\n",
       "      <td>None</td>\n",
       "      <td>None</td>\n",
       "      <td>None</td>\n",
       "      <td>None</td>\n",
       "      <td>None</td>\n",
       "      <td>None</td>\n",
       "      <td>None</td>\n",
       "      <td>None</td>\n",
       "      <td>50.6940689086914</td>\n",
       "      <td>53.0751419067383</td>\n",
       "      <td>55.3464202880859</td>\n",
       "      <td>58.305850982666</td>\n",
       "      <td>None</td>\n",
       "      <td>None</td>\n",
       "      <td>None</td>\n",
       "    </tr>\n",
       "  </tbody>\n",
       "</table>\n",
       "</div>"
      ],
      "text/plain": [
       "  Country Name Country Code                                                                                             Indicator Name     Indicator Code  1960  1961  1962  1963  1964  1965  1966  1967  1968  1969  1970  1971  1972              1973              1974  1975              1976              1977              1978              1979              1980              1981              1982              1983              1984              1985             1986              1987              1988              1989              1990              1991              1992              1993             1994              1995              1996              1997              1998              1999              2000              2001              2002              2003              2004              2005              2006              2007              2008              2009              2010              2011              2012              2013              2014              2015              2016              2017              2018              2019              2020  2021  2022\n",
       "0        Aruba          ABW  Tasa de finalización del ciclo inferior de la educación secundaria, total (% del grupo etario pertinente)  SE.SEC.CMPT.LO.ZS  None  None  None  None  None  None  None  None  None  None  None  None  None              None              None  None              None              None              None              None              None              None              None              None              None              None             None              None              None              None              None              None              None              None             None              None              None              None              None  93.6170196533203  94.8262481689453  98.2667694091797  97.1386566162109  89.5258331298828  87.5594787597656  87.5902786254883              None  89.0220794677734              None  96.1910934448242              None              None              None  101.545700073242  99.2572631835938              None              None              None              None              None              None  None  None\n",
       "1         None          AFE  Tasa de finalización del ciclo inferior de la educación secundaria, total (% del grupo etario pertinente)  SE.SEC.CMPT.LO.ZS  None  None  None  None  None  None  None  None  None  None  None  None  None              None              None  None  24.3201103210449   24.511999130249  24.6560707092285  24.7215194702148  24.9958992004395  25.0259304046631  25.1622695922852  25.2455806732178  25.4166297912598  25.5515899658203  25.499080657959  25.5499801635742  25.7534408569336  25.9363708496094  25.7921600341797  25.8832893371582  25.7905902862549  26.5919990539551  26.948600769043  28.2395706176758  28.6701202392578  28.8856105804443  29.5753993988037  29.7661399841309  30.0601005554199  31.6068305969238  33.6173896789551  32.8705101013184  33.1322784423828  34.1036491394043  35.4262084960938  36.7879104614258  38.6221504211426  39.5837516784668  40.7856101989746  41.4754486083984  41.9407501220703  42.6220397949219  43.7790412902832  44.0443916320801  44.0727005004883  44.0504493713379  43.9863014221191  44.3850288391113  44.5507392883301  None  None\n",
       "2   Afganistán          AFG  Tasa de finalización del ciclo inferior de la educación secundaria, total (% del grupo etario pertinente)  SE.SEC.CMPT.LO.ZS  None  None  None  None  None  None  None  None  None  None  None  None  None  9.60499954223633  8.40972995758057  None              None  6.96337985992432  9.33279991149902              None  13.4953098297119  16.1467800140381  10.7438201904297              None  12.7984104156494  13.1899900436401             None              None              None              None              None              None              None  17.8644599914551             None              None              None              None              None              None              None              None              None              None              None  16.0289402008057              None              None              None              None              None              None              None              None              None              None  50.6940689086914  53.0751419067383  55.3464202880859   58.305850982666              None  None  None"
      ]
     },
     "execution_count": 279,
     "metadata": {},
     "output_type": "execute_result"
    }
   ],
   "source": [
    "data_22.limit(3).pandas_api()"
   ]
  },
  {
   "cell_type": "code",
   "execution_count": null,
   "id": "230204c8-ef27-4044-ad26-8aa7c3c5e0a5",
   "metadata": {},
   "outputs": [],
   "source": []
  },
  {
   "cell_type": "code",
   "execution_count": 280,
   "id": "9053f50e-fe5b-486d-8f16-8991335ce93f",
   "metadata": {
    "execution": {
     "iopub.execute_input": "2023-06-06T05:59:20.805486Z",
     "iopub.status.busy": "2023-06-06T05:59:20.805322Z",
     "iopub.status.idle": "2023-06-06T05:59:20.815788Z",
     "shell.execute_reply": "2023-06-06T05:59:20.815176Z",
     "shell.execute_reply.started": "2023-06-06T05:59:20.805470Z"
    },
    "tags": []
   },
   "outputs": [],
   "source": [
    "data_22 = data_22.selectExpr('`Country Name`', '`Country Code`', \"`Indicator Name`\", \"`Indicator Code`\", \"stack(63, \\\n",
    "'1960', `1960`, '1961', `1961`, '1962', `1962`, '1963', `1963`, '1964', `1964`, \\\n",
    "'1965', `1965`, '1966', `1966`, '1967', `1967`, '1968', `1968`, '1969', `1969`, \\\n",
    "'1970', `1970`, '1971', `1971`, '1972', `1972`, '1973', `1973`, '1974', `1974`, \\\n",
    "'1975', `1975`, '1976', `1976`, '1977', `1977`, '1978', `1978`, '1979', `1979`, \\\n",
    "'1980', `1980`, '1981', `1981`, '1982', `1982`, '1983', `1983`, '1984', `1984`, \\\n",
    "'1985', `1985`, '1986', `1986`, '1987', `1987`, '1988', `1988`, '1989', `1989`, \\\n",
    "'1990', `1990`, '1991', `1991`, '1992', `1992`, '1993', `1993`, '1994', `1994`, \\\n",
    "'1995', `1995`, '1996', `1996`, '1997', `1997`, '1998', `1998`, '1999', `1999`, \\\n",
    "'2010', `2010`, '2011', `2011`, '2012', `2012`, '2013', `2013`, '2014', `2014`, \\\n",
    "'2015', `2015`, '2016', `2016`, '2017', `2017`, '2018', `2018`, '2019', `2019`, \\\n",
    "'2010', `2010`, '2011', `2011`, '2012', `2012`, '2013', `2013`, '2014', `2014`, \\\n",
    "'2015', `2015`, '2016', `2016`, '2017', `2017`, '2018', `2018`, '2019', `2019`, \\\n",
    "'2020', `2020`, '2021', `2021`, '2022', `2022`) as (Year, porc_secundary_school_compl)\")"
   ]
  },
  {
   "cell_type": "code",
   "execution_count": 281,
   "id": "75a569f3-402a-4ea0-8732-345a3e3555e3",
   "metadata": {
    "execution": {
     "iopub.execute_input": "2023-06-06T05:59:20.816888Z",
     "iopub.status.busy": "2023-06-06T05:59:20.816671Z",
     "iopub.status.idle": "2023-06-06T05:59:21.034613Z",
     "shell.execute_reply": "2023-06-06T05:59:21.034030Z",
     "shell.execute_reply.started": "2023-06-06T05:59:20.816867Z"
    },
    "tags": []
   },
   "outputs": [
    {
     "data": {
      "text/html": [
       "<div>\n",
       "<style scoped>\n",
       "    .dataframe tbody tr th:only-of-type {\n",
       "        vertical-align: middle;\n",
       "    }\n",
       "\n",
       "    .dataframe tbody tr th {\n",
       "        vertical-align: top;\n",
       "    }\n",
       "\n",
       "    .dataframe thead th {\n",
       "        text-align: right;\n",
       "    }\n",
       "</style>\n",
       "<table border=\"1\" class=\"dataframe\">\n",
       "  <thead>\n",
       "    <tr style=\"text-align: right;\">\n",
       "      <th></th>\n",
       "      <th>Country Name</th>\n",
       "      <th>Country Code</th>\n",
       "      <th>Indicator Name</th>\n",
       "      <th>Indicator Code</th>\n",
       "      <th>Year</th>\n",
       "      <th>porc_secundary_school_compl</th>\n",
       "    </tr>\n",
       "  </thead>\n",
       "  <tbody>\n",
       "    <tr>\n",
       "      <th>0</th>\n",
       "      <td>None</td>\n",
       "      <td>AFE</td>\n",
       "      <td>Tasa de finalización del ciclo inferior de la ...</td>\n",
       "      <td>SE.SEC.CMPT.LO.ZS</td>\n",
       "      <td>1993</td>\n",
       "      <td>26.5919990539551</td>\n",
       "    </tr>\n",
       "    <tr>\n",
       "      <th>1</th>\n",
       "      <td>Cabo Verde</td>\n",
       "      <td>CPV</td>\n",
       "      <td>Tasa de finalización del ciclo inferior de la ...</td>\n",
       "      <td>SE.SEC.CMPT.LO.ZS</td>\n",
       "      <td>2016</td>\n",
       "      <td>79.1698989868164</td>\n",
       "    </tr>\n",
       "    <tr>\n",
       "      <th>2</th>\n",
       "      <td>Israel</td>\n",
       "      <td>ISR</td>\n",
       "      <td>Tasa de finalización del ciclo inferior de la ...</td>\n",
       "      <td>SE.SEC.CMPT.LO.ZS</td>\n",
       "      <td>1988</td>\n",
       "      <td>None</td>\n",
       "    </tr>\n",
       "  </tbody>\n",
       "</table>\n",
       "</div>"
      ],
      "text/plain": [
       "  Country Name Country Code                                                                                             Indicator Name     Indicator Code  Year porc_secundary_school_compl\n",
       "0         None          AFE  Tasa de finalización del ciclo inferior de la educación secundaria, total (% del grupo etario pertinente)  SE.SEC.CMPT.LO.ZS  1993            26.5919990539551\n",
       "1   Cabo Verde          CPV  Tasa de finalización del ciclo inferior de la educación secundaria, total (% del grupo etario pertinente)  SE.SEC.CMPT.LO.ZS  2016            79.1698989868164\n",
       "2       Israel          ISR  Tasa de finalización del ciclo inferior de la educación secundaria, total (% del grupo etario pertinente)  SE.SEC.CMPT.LO.ZS  1988                        None"
      ]
     },
     "execution_count": 281,
     "metadata": {},
     "output_type": "execute_result"
    }
   ],
   "source": [
    "data_22.sample(False, 3/data_22.count(), seed=150).limit(3).pandas_api()"
   ]
  },
  {
   "cell_type": "code",
   "execution_count": 282,
   "id": "fc37400e-af16-4b9d-9dc9-68603795f57b",
   "metadata": {
    "execution": {
     "iopub.execute_input": "2023-06-06T05:59:21.035480Z",
     "iopub.status.busy": "2023-06-06T05:59:21.035264Z",
     "iopub.status.idle": "2023-06-06T05:59:21.041856Z",
     "shell.execute_reply": "2023-06-06T05:59:21.041321Z",
     "shell.execute_reply.started": "2023-06-06T05:59:21.035463Z"
    },
    "tags": []
   },
   "outputs": [
    {
     "data": {
      "text/plain": [
       "['Country Code', 'Year', 'porc_secundary_school_compl']"
      ]
     },
     "execution_count": 282,
     "metadata": {},
     "output_type": "execute_result"
    }
   ],
   "source": [
    "data_22 = data_22.drop(\"Country Name\",\"Indicator Name\",\"Indicator Code\")\n",
    "data_22.columns"
   ]
  },
  {
   "cell_type": "markdown",
   "id": "54bf47a1-7c54-46bf-9d8b-683ef658ed5b",
   "metadata": {},
   "source": [
    "# Tasa (%) de alfabetización de adultos (15+), total. \n",
    "\n",
    "Corresponde al porcentaje de la población mayor de 15 años que es capaz de leer y escribir, con entendimiento, una proposición simple y breve sobre su vida diaria. En general, el término “alfabetización” incluye también habilidades aritméticas, es decir, la capacidad de hacer cálculos matemáticos sencillos. Para calcular este indicador se divide el número de personas alfabetizadas mayores de 15 años por la población del correspondiente grupo etáreo y se multiplica por 100. \n",
    "\n",
    "https://datos.bancomundial.org/indicador/SE.ADT.LITR.ZS?view=chart\n"
   ]
  },
  {
   "cell_type": "code",
   "execution_count": 283,
   "id": "c2b5de60-af03-4eb6-a42a-5c47725b00b8",
   "metadata": {
    "execution": {
     "iopub.execute_input": "2023-06-06T05:59:21.042598Z",
     "iopub.status.busy": "2023-06-06T05:59:21.042436Z",
     "iopub.status.idle": "2023-06-06T05:59:21.050375Z",
     "shell.execute_reply": "2023-06-06T05:59:21.049886Z",
     "shell.execute_reply.started": "2023-06-06T05:59:21.042578Z"
    },
    "tags": []
   },
   "outputs": [],
   "source": [
    "url_23 =\"https://api.worldbank.org/v2/es/indicator/SE.ADT.LITR.ZS?downloadformat=csv\""
   ]
  },
  {
   "cell_type": "code",
   "execution_count": 284,
   "id": "ef57c6f0-7512-4ebd-b576-f55f2d2b128a",
   "metadata": {
    "execution": {
     "iopub.execute_input": "2023-06-06T05:59:21.051204Z",
     "iopub.status.busy": "2023-06-06T05:59:21.050996Z",
     "iopub.status.idle": "2023-06-06T05:59:22.030959Z",
     "shell.execute_reply": "2023-06-06T05:59:22.030096Z",
     "shell.execute_reply.started": "2023-06-06T05:59:21.051188Z"
    },
    "tags": []
   },
   "outputs": [],
   "source": [
    "response_url_23 = requests.get(url_23)"
   ]
  },
  {
   "cell_type": "code",
   "execution_count": 285,
   "id": "926910c2-6a52-416d-8224-8dc5bd0b2885",
   "metadata": {
    "execution": {
     "iopub.execute_input": "2023-06-06T05:59:22.032220Z",
     "iopub.status.busy": "2023-06-06T05:59:22.032010Z",
     "iopub.status.idle": "2023-06-06T05:59:22.038364Z",
     "shell.execute_reply": "2023-06-06T05:59:22.037549Z",
     "shell.execute_reply.started": "2023-06-06T05:59:22.032199Z"
    },
    "tags": []
   },
   "outputs": [
    {
     "name": "stdout",
     "output_type": "stream",
     "text": [
      "El archivo ZIP se ha descargado y descomprimido correctamente.\n"
     ]
    }
   ],
   "source": [
    "if response_url_23.status_code == 200:\n",
    "    # Crear un objeto ZipFile a partir de los datos de la respuesta\n",
    "    with zipfile.ZipFile(io.BytesIO(response_url_23.content), \"r\") as zip_url_23:\n",
    "        # Extraer todos los archivos del archivo ZIP en el directorio actual\n",
    "        zip_url_23.extractall(\"dataset\")\n",
    "\n",
    "    print(\"El archivo ZIP se ha descargado y descomprimido correctamente.\")\n",
    "else:\n",
    "    print(\"Error al descargar el archivo ZIP:\", response_url_23.status_code)"
   ]
  },
  {
   "cell_type": "code",
   "execution_count": 286,
   "id": "3d45dfa0-6ef9-47c4-9a00-9408cbcecf67",
   "metadata": {
    "execution": {
     "iopub.execute_input": "2023-06-06T05:59:22.039279Z",
     "iopub.status.busy": "2023-06-06T05:59:22.039065Z",
     "iopub.status.idle": "2023-06-06T05:59:22.049154Z",
     "shell.execute_reply": "2023-06-06T05:59:22.048362Z",
     "shell.execute_reply.started": "2023-06-06T05:59:22.039258Z"
    },
    "tags": []
   },
   "outputs": [],
   "source": [
    "import csv\n",
    "\n",
    "# Ruta del archivo CSV\n",
    "\n",
    "csv_url_23 = \"dataset/API_SE.ADT.LITR.ZS_DS2_es_csv_v2_5478959.csv\"\n",
    "\n",
    "# Crear una lista para almacenar las filas del archivo CSV\n",
    "rows_url_23 = []\n",
    "\n",
    "\n",
    "#API_SE.PRM.CMPT.ZS_DS2_es_csv_v2_5478942"
   ]
  },
  {
   "cell_type": "code",
   "execution_count": 287,
   "id": "5ee46029-a482-445a-a727-4d897865fa21",
   "metadata": {
    "execution": {
     "iopub.execute_input": "2023-06-06T05:59:22.050284Z",
     "iopub.status.busy": "2023-06-06T05:59:22.049913Z",
     "iopub.status.idle": "2023-06-06T05:59:22.060257Z",
     "shell.execute_reply": "2023-06-06T05:59:22.059614Z",
     "shell.execute_reply.started": "2023-06-06T05:59:22.050248Z"
    },
    "tags": []
   },
   "outputs": [],
   "source": [
    "# Leer el archivo CSV y almacenar las filas en la lista\n",
    "with open(csv_url_23, \"r\") as file_csv_url_23:\n",
    "    csv_reader_url_23 = csv.reader(file_csv_url_23)\n",
    "    rows_url_23 = list(csv_reader_url_23)\n"
   ]
  },
  {
   "cell_type": "code",
   "execution_count": 288,
   "id": "379a271e-0270-4677-9650-ae6272b08205",
   "metadata": {
    "execution": {
     "iopub.execute_input": "2023-06-06T05:59:22.061150Z",
     "iopub.status.busy": "2023-06-06T05:59:22.060965Z",
     "iopub.status.idle": "2023-06-06T05:59:22.071468Z",
     "shell.execute_reply": "2023-06-06T05:59:22.070897Z",
     "shell.execute_reply.started": "2023-06-06T05:59:22.061132Z"
    },
    "tags": []
   },
   "outputs": [],
   "source": [
    "# Eliminar las primeras 4 filas\n",
    "\n",
    "rows_url_23 = rows_url_23[4:]\n",
    "\n",
    "# Escribir las filas modificadas en un nuevo archivo CSV\n",
    "with open(\"dataset/data/dataset_23.csv\", \"w\", newline=\"\") as file_csv_url_23:\n",
    "    csv_writer_url_23 = csv.writer(file_csv_url_23)\n",
    "    csv_writer_url_23.writerows(rows_url_23)"
   ]
  },
  {
   "cell_type": "code",
   "execution_count": 289,
   "id": "1ad6609d-c203-4dd2-b7aa-d74a16865701",
   "metadata": {
    "execution": {
     "iopub.execute_input": "2023-06-06T05:59:22.072182Z",
     "iopub.status.busy": "2023-06-06T05:59:22.072011Z",
     "iopub.status.idle": "2023-06-06T05:59:22.144778Z",
     "shell.execute_reply": "2023-06-06T05:59:22.144206Z",
     "shell.execute_reply.started": "2023-06-06T05:59:22.072166Z"
    },
    "tags": []
   },
   "outputs": [],
   "source": [
    "data_23 = spark.read.csv(\"dataset_23.csv\", header=True)"
   ]
  },
  {
   "cell_type": "code",
   "execution_count": 290,
   "id": "b7cd8ccb-ae93-4359-bdfd-2374600b36e5",
   "metadata": {
    "execution": {
     "iopub.execute_input": "2023-06-06T05:59:22.145465Z",
     "iopub.status.busy": "2023-06-06T05:59:22.145311Z",
     "iopub.status.idle": "2023-06-06T05:59:22.151753Z",
     "shell.execute_reply": "2023-06-06T05:59:22.151303Z",
     "shell.execute_reply.started": "2023-06-06T05:59:22.145450Z"
    },
    "tags": []
   },
   "outputs": [],
   "source": [
    "data_23 = data_23.drop(\"_c66\",\"_c67\")"
   ]
  },
  {
   "cell_type": "code",
   "execution_count": 291,
   "id": "3c69fd97-dd2d-49ea-9c5c-a7b8c4535cc0",
   "metadata": {
    "execution": {
     "iopub.execute_input": "2023-06-06T05:59:22.152547Z",
     "iopub.status.busy": "2023-06-06T05:59:22.152390Z",
     "iopub.status.idle": "2023-06-06T05:59:22.362619Z",
     "shell.execute_reply": "2023-06-06T05:59:22.362065Z",
     "shell.execute_reply.started": "2023-06-06T05:59:22.152532Z"
    },
    "tags": []
   },
   "outputs": [
    {
     "data": {
      "text/html": [
       "<div>\n",
       "<style scoped>\n",
       "    .dataframe tbody tr th:only-of-type {\n",
       "        vertical-align: middle;\n",
       "    }\n",
       "\n",
       "    .dataframe tbody tr th {\n",
       "        vertical-align: top;\n",
       "    }\n",
       "\n",
       "    .dataframe thead th {\n",
       "        text-align: right;\n",
       "    }\n",
       "</style>\n",
       "<table border=\"1\" class=\"dataframe\">\n",
       "  <thead>\n",
       "    <tr style=\"text-align: right;\">\n",
       "      <th></th>\n",
       "      <th>Country Name</th>\n",
       "      <th>Country Code</th>\n",
       "      <th>Indicator Name</th>\n",
       "      <th>Indicator Code</th>\n",
       "      <th>1960</th>\n",
       "      <th>1961</th>\n",
       "      <th>1962</th>\n",
       "      <th>1963</th>\n",
       "      <th>1964</th>\n",
       "      <th>1965</th>\n",
       "      <th>1966</th>\n",
       "      <th>1967</th>\n",
       "      <th>1968</th>\n",
       "      <th>1969</th>\n",
       "      <th>1970</th>\n",
       "      <th>1971</th>\n",
       "      <th>1972</th>\n",
       "      <th>1973</th>\n",
       "      <th>1974</th>\n",
       "      <th>1975</th>\n",
       "      <th>1976</th>\n",
       "      <th>1977</th>\n",
       "      <th>1978</th>\n",
       "      <th>1979</th>\n",
       "      <th>1980</th>\n",
       "      <th>1981</th>\n",
       "      <th>1982</th>\n",
       "      <th>1983</th>\n",
       "      <th>1984</th>\n",
       "      <th>1985</th>\n",
       "      <th>1986</th>\n",
       "      <th>1987</th>\n",
       "      <th>1988</th>\n",
       "      <th>1989</th>\n",
       "      <th>1990</th>\n",
       "      <th>1991</th>\n",
       "      <th>1992</th>\n",
       "      <th>1993</th>\n",
       "      <th>1994</th>\n",
       "      <th>1995</th>\n",
       "      <th>1996</th>\n",
       "      <th>1997</th>\n",
       "      <th>1998</th>\n",
       "      <th>1999</th>\n",
       "      <th>2000</th>\n",
       "      <th>2001</th>\n",
       "      <th>2002</th>\n",
       "      <th>2003</th>\n",
       "      <th>2004</th>\n",
       "      <th>2005</th>\n",
       "      <th>2006</th>\n",
       "      <th>2007</th>\n",
       "      <th>2008</th>\n",
       "      <th>2009</th>\n",
       "      <th>2010</th>\n",
       "      <th>2011</th>\n",
       "      <th>2012</th>\n",
       "      <th>2013</th>\n",
       "      <th>2014</th>\n",
       "      <th>2015</th>\n",
       "      <th>2016</th>\n",
       "      <th>2017</th>\n",
       "      <th>2018</th>\n",
       "      <th>2019</th>\n",
       "      <th>2020</th>\n",
       "      <th>2021</th>\n",
       "      <th>2022</th>\n",
       "    </tr>\n",
       "  </thead>\n",
       "  <tbody>\n",
       "    <tr>\n",
       "      <th>0</th>\n",
       "      <td>Aruba</td>\n",
       "      <td>ABW</td>\n",
       "      <td>Tasa de alfabetización, total de adultos (% de...</td>\n",
       "      <td>SE.ADT.LITR.ZS</td>\n",
       "      <td>None</td>\n",
       "      <td>None</td>\n",
       "      <td>None</td>\n",
       "      <td>None</td>\n",
       "      <td>None</td>\n",
       "      <td>None</td>\n",
       "      <td>None</td>\n",
       "      <td>None</td>\n",
       "      <td>None</td>\n",
       "      <td>None</td>\n",
       "      <td>None</td>\n",
       "      <td>None</td>\n",
       "      <td>None</td>\n",
       "      <td>None</td>\n",
       "      <td>None</td>\n",
       "      <td>None</td>\n",
       "      <td>None</td>\n",
       "      <td>None</td>\n",
       "      <td>None</td>\n",
       "      <td>None</td>\n",
       "      <td>None</td>\n",
       "      <td>None</td>\n",
       "      <td>None</td>\n",
       "      <td>None</td>\n",
       "      <td>None</td>\n",
       "      <td>None</td>\n",
       "      <td>None</td>\n",
       "      <td>None</td>\n",
       "      <td>None</td>\n",
       "      <td>None</td>\n",
       "      <td>None</td>\n",
       "      <td>None</td>\n",
       "      <td>None</td>\n",
       "      <td>None</td>\n",
       "      <td>None</td>\n",
       "      <td>None</td>\n",
       "      <td>None</td>\n",
       "      <td>None</td>\n",
       "      <td>None</td>\n",
       "      <td>None</td>\n",
       "      <td>97.2912521362305</td>\n",
       "      <td>None</td>\n",
       "      <td>None</td>\n",
       "      <td>None</td>\n",
       "      <td>None</td>\n",
       "      <td>None</td>\n",
       "      <td>None</td>\n",
       "      <td>None</td>\n",
       "      <td>None</td>\n",
       "      <td>None</td>\n",
       "      <td>96.822639465332</td>\n",
       "      <td>None</td>\n",
       "      <td>None</td>\n",
       "      <td>None</td>\n",
       "      <td>None</td>\n",
       "      <td>None</td>\n",
       "      <td>None</td>\n",
       "      <td>None</td>\n",
       "      <td>97.8074188232422</td>\n",
       "      <td>None</td>\n",
       "      <td>97.9899978637695</td>\n",
       "      <td>None</td>\n",
       "      <td>None</td>\n",
       "    </tr>\n",
       "    <tr>\n",
       "      <th>1</th>\n",
       "      <td>None</td>\n",
       "      <td>AFE</td>\n",
       "      <td>Tasa de alfabetización, total de adultos (% de...</td>\n",
       "      <td>SE.ADT.LITR.ZS</td>\n",
       "      <td>None</td>\n",
       "      <td>None</td>\n",
       "      <td>None</td>\n",
       "      <td>None</td>\n",
       "      <td>None</td>\n",
       "      <td>None</td>\n",
       "      <td>None</td>\n",
       "      <td>None</td>\n",
       "      <td>None</td>\n",
       "      <td>None</td>\n",
       "      <td>None</td>\n",
       "      <td>None</td>\n",
       "      <td>None</td>\n",
       "      <td>None</td>\n",
       "      <td>None</td>\n",
       "      <td>None</td>\n",
       "      <td>None</td>\n",
       "      <td>None</td>\n",
       "      <td>None</td>\n",
       "      <td>None</td>\n",
       "      <td>None</td>\n",
       "      <td>None</td>\n",
       "      <td>None</td>\n",
       "      <td>None</td>\n",
       "      <td>None</td>\n",
       "      <td>None</td>\n",
       "      <td>None</td>\n",
       "      <td>55.7706718444824</td>\n",
       "      <td>56.0884208679199</td>\n",
       "      <td>56.601619720459</td>\n",
       "      <td>57.1959495544434</td>\n",
       "      <td>57.1739692687988</td>\n",
       "      <td>57.5963096618652</td>\n",
       "      <td>58.0278816223145</td>\n",
       "      <td>58.7079315185547</td>\n",
       "      <td>59.1105690002441</td>\n",
       "      <td>59.6861686706543</td>\n",
       "      <td>60.4427795410156</td>\n",
       "      <td>60.6150703430176</td>\n",
       "      <td>61.4292602539063</td>\n",
       "      <td>61.7969703674316</td>\n",
       "      <td>62.5126495361328</td>\n",
       "      <td>62.8830490112305</td>\n",
       "      <td>63.5342483520508</td>\n",
       "      <td>64.8186111450195</td>\n",
       "      <td>63.146110534668</td>\n",
       "      <td>61.2504501342773</td>\n",
       "      <td>61.9769897460938</td>\n",
       "      <td>62.4322204589844</td>\n",
       "      <td>63.0463714599609</td>\n",
       "      <td>63.6625785827637</td>\n",
       "      <td>65.8645401000977</td>\n",
       "      <td>67.3918228149414</td>\n",
       "      <td>68.4451065063477</td>\n",
       "      <td>68.8279724121094</td>\n",
       "      <td>69.2824935913086</td>\n",
       "      <td>70.0596008300781</td>\n",
       "      <td>69.9994506835938</td>\n",
       "      <td>70.4202499389648</td>\n",
       "      <td>71.5740509033203</td>\n",
       "      <td>71.8899078369141</td>\n",
       "      <td>None</td>\n",
       "      <td>None</td>\n",
       "    </tr>\n",
       "    <tr>\n",
       "      <th>2</th>\n",
       "      <td>Afganistán</td>\n",
       "      <td>AFG</td>\n",
       "      <td>Tasa de alfabetización, total de adultos (% de...</td>\n",
       "      <td>SE.ADT.LITR.ZS</td>\n",
       "      <td>None</td>\n",
       "      <td>None</td>\n",
       "      <td>None</td>\n",
       "      <td>None</td>\n",
       "      <td>None</td>\n",
       "      <td>None</td>\n",
       "      <td>None</td>\n",
       "      <td>None</td>\n",
       "      <td>None</td>\n",
       "      <td>None</td>\n",
       "      <td>None</td>\n",
       "      <td>None</td>\n",
       "      <td>None</td>\n",
       "      <td>None</td>\n",
       "      <td>None</td>\n",
       "      <td>None</td>\n",
       "      <td>None</td>\n",
       "      <td>None</td>\n",
       "      <td>None</td>\n",
       "      <td>18.1576805114746</td>\n",
       "      <td>None</td>\n",
       "      <td>None</td>\n",
       "      <td>None</td>\n",
       "      <td>None</td>\n",
       "      <td>None</td>\n",
       "      <td>None</td>\n",
       "      <td>None</td>\n",
       "      <td>None</td>\n",
       "      <td>None</td>\n",
       "      <td>None</td>\n",
       "      <td>None</td>\n",
       "      <td>None</td>\n",
       "      <td>None</td>\n",
       "      <td>None</td>\n",
       "      <td>None</td>\n",
       "      <td>None</td>\n",
       "      <td>None</td>\n",
       "      <td>None</td>\n",
       "      <td>None</td>\n",
       "      <td>None</td>\n",
       "      <td>None</td>\n",
       "      <td>None</td>\n",
       "      <td>None</td>\n",
       "      <td>None</td>\n",
       "      <td>None</td>\n",
       "      <td>None</td>\n",
       "      <td>None</td>\n",
       "      <td>None</td>\n",
       "      <td>None</td>\n",
       "      <td>None</td>\n",
       "      <td>None</td>\n",
       "      <td>31.4488506317139</td>\n",
       "      <td>None</td>\n",
       "      <td>None</td>\n",
       "      <td>None</td>\n",
       "      <td>None</td>\n",
       "      <td>None</td>\n",
       "      <td>None</td>\n",
       "      <td>None</td>\n",
       "      <td>None</td>\n",
       "      <td>None</td>\n",
       "      <td>37.266040802002</td>\n",
       "      <td>None</td>\n",
       "    </tr>\n",
       "  </tbody>\n",
       "</table>\n",
       "</div>"
      ],
      "text/plain": [
       "  Country Name Country Code                                                             Indicator Name  Indicator Code  1960  1961  1962  1963  1964  1965  1966  1967  1968  1969  1970  1971  1972  1973  1974  1975  1976  1977  1978              1979  1980  1981  1982  1983  1984  1985  1986              1987              1988             1989              1990              1991              1992              1993              1994              1995              1996              1997              1998              1999              2000              2001              2002              2003              2004             2005              2006              2007              2008              2009              2010              2011              2012              2013              2014              2015              2016              2017              2018              2019              2020             2021  2022\n",
       "0        Aruba          ABW  Tasa de alfabetización, total de adultos (% de personas de 15 años o más)  SE.ADT.LITR.ZS  None  None  None  None  None  None  None  None  None  None  None  None  None  None  None  None  None  None  None              None  None  None  None  None  None  None  None              None              None             None              None              None              None              None              None              None              None              None              None              None  97.2912521362305              None              None              None              None             None              None              None              None              None   96.822639465332              None              None              None              None              None              None              None  97.8074188232422              None  97.9899978637695             None  None\n",
       "1         None          AFE  Tasa de alfabetización, total de adultos (% de personas de 15 años o más)  SE.ADT.LITR.ZS  None  None  None  None  None  None  None  None  None  None  None  None  None  None  None  None  None  None  None              None  None  None  None  None  None  None  None  55.7706718444824  56.0884208679199  56.601619720459  57.1959495544434  57.1739692687988  57.5963096618652  58.0278816223145  58.7079315185547  59.1105690002441  59.6861686706543  60.4427795410156  60.6150703430176  61.4292602539063  61.7969703674316  62.5126495361328  62.8830490112305  63.5342483520508  64.8186111450195  63.146110534668  61.2504501342773  61.9769897460938  62.4322204589844  63.0463714599609  63.6625785827637  65.8645401000977  67.3918228149414  68.4451065063477  68.8279724121094  69.2824935913086  70.0596008300781  69.9994506835938  70.4202499389648  71.5740509033203  71.8899078369141             None  None\n",
       "2   Afganistán          AFG  Tasa de alfabetización, total de adultos (% de personas de 15 años o más)  SE.ADT.LITR.ZS  None  None  None  None  None  None  None  None  None  None  None  None  None  None  None  None  None  None  None  18.1576805114746  None  None  None  None  None  None  None              None              None             None              None              None              None              None              None              None              None              None              None              None              None              None              None              None              None             None              None              None              None              None              None  31.4488506317139              None              None              None              None              None              None              None              None              None  37.266040802002  None"
      ]
     },
     "execution_count": 291,
     "metadata": {},
     "output_type": "execute_result"
    }
   ],
   "source": [
    "data_23.limit(3).pandas_api()"
   ]
  },
  {
   "cell_type": "code",
   "execution_count": 292,
   "id": "816c351a-98aa-4aaa-8b20-a097f584e981",
   "metadata": {
    "execution": {
     "iopub.execute_input": "2023-06-06T05:59:22.363446Z",
     "iopub.status.busy": "2023-06-06T05:59:22.363283Z",
     "iopub.status.idle": "2023-06-06T05:59:22.372901Z",
     "shell.execute_reply": "2023-06-06T05:59:22.372305Z",
     "shell.execute_reply.started": "2023-06-06T05:59:22.363430Z"
    },
    "tags": []
   },
   "outputs": [],
   "source": [
    "data_23 = data_23.selectExpr('`Country Name`', '`Country Code`', \"`Indicator Name`\", \"`Indicator Code`\", \"stack(63, \\\n",
    "'1960', `1960`, '1961', `1961`, '1962', `1962`, '1963', `1963`, '1964', `1964`, \\\n",
    "'1965', `1965`, '1966', `1966`, '1967', `1967`, '1968', `1968`, '1969', `1969`, \\\n",
    "'1970', `1970`, '1971', `1971`, '1972', `1972`, '1973', `1973`, '1974', `1974`, \\\n",
    "'1975', `1975`, '1976', `1976`, '1977', `1977`, '1978', `1978`, '1979', `1979`, \\\n",
    "'1980', `1980`, '1981', `1981`, '1982', `1982`, '1983', `1983`, '1984', `1984`, \\\n",
    "'1985', `1985`, '1986', `1986`, '1987', `1987`, '1988', `1988`, '1989', `1989`, \\\n",
    "'1990', `1990`, '1991', `1991`, '1992', `1992`, '1993', `1993`, '1994', `1994`, \\\n",
    "'1995', `1995`, '1996', `1996`, '1997', `1997`, '1998', `1998`, '1999', `1999`, \\\n",
    "'2010', `2010`, '2011', `2011`, '2012', `2012`, '2013', `2013`, '2014', `2014`, \\\n",
    "'2015', `2015`, '2016', `2016`, '2017', `2017`, '2018', `2018`, '2019', `2019`, \\\n",
    "'2010', `2010`, '2011', `2011`, '2012', `2012`, '2013', `2013`, '2014', `2014`, \\\n",
    "'2015', `2015`, '2016', `2016`, '2017', `2017`, '2018', `2018`, '2019', `2019`, \\\n",
    "'2020', `2020`, '2021', `2021`, '2022', `2022`) as (Year, porc_literacy)\")"
   ]
  },
  {
   "cell_type": "code",
   "execution_count": 293,
   "id": "02c4232e-90d6-4163-b529-a6b012dafae2",
   "metadata": {
    "execution": {
     "iopub.execute_input": "2023-06-06T05:59:22.373823Z",
     "iopub.status.busy": "2023-06-06T05:59:22.373609Z",
     "iopub.status.idle": "2023-06-06T05:59:22.538594Z",
     "shell.execute_reply": "2023-06-06T05:59:22.538066Z",
     "shell.execute_reply.started": "2023-06-06T05:59:22.373807Z"
    },
    "tags": []
   },
   "outputs": [
    {
     "data": {
      "text/html": [
       "<div>\n",
       "<style scoped>\n",
       "    .dataframe tbody tr th:only-of-type {\n",
       "        vertical-align: middle;\n",
       "    }\n",
       "\n",
       "    .dataframe tbody tr th {\n",
       "        vertical-align: top;\n",
       "    }\n",
       "\n",
       "    .dataframe thead th {\n",
       "        text-align: right;\n",
       "    }\n",
       "</style>\n",
       "<table border=\"1\" class=\"dataframe\">\n",
       "  <thead>\n",
       "    <tr style=\"text-align: right;\">\n",
       "      <th></th>\n",
       "      <th>Country Name</th>\n",
       "      <th>Country Code</th>\n",
       "      <th>Indicator Name</th>\n",
       "      <th>Indicator Code</th>\n",
       "      <th>Year</th>\n",
       "      <th>porc_literacy</th>\n",
       "    </tr>\n",
       "  </thead>\n",
       "  <tbody>\n",
       "    <tr>\n",
       "      <th>0</th>\n",
       "      <td>None</td>\n",
       "      <td>AFE</td>\n",
       "      <td>Tasa de alfabetización, total de adultos (% de...</td>\n",
       "      <td>SE.ADT.LITR.ZS</td>\n",
       "      <td>1993</td>\n",
       "      <td>58.0278816223145</td>\n",
       "    </tr>\n",
       "    <tr>\n",
       "      <th>1</th>\n",
       "      <td>Cabo Verde</td>\n",
       "      <td>CPV</td>\n",
       "      <td>Tasa de alfabetización, total de adultos (% de...</td>\n",
       "      <td>SE.ADT.LITR.ZS</td>\n",
       "      <td>2016</td>\n",
       "      <td>None</td>\n",
       "    </tr>\n",
       "    <tr>\n",
       "      <th>2</th>\n",
       "      <td>Israel</td>\n",
       "      <td>ISR</td>\n",
       "      <td>Tasa de alfabetización, total de adultos (% de...</td>\n",
       "      <td>SE.ADT.LITR.ZS</td>\n",
       "      <td>1988</td>\n",
       "      <td>None</td>\n",
       "    </tr>\n",
       "  </tbody>\n",
       "</table>\n",
       "</div>"
      ],
      "text/plain": [
       "  Country Name Country Code                                                             Indicator Name  Indicator Code  Year     porc_literacy\n",
       "0         None          AFE  Tasa de alfabetización, total de adultos (% de personas de 15 años o más)  SE.ADT.LITR.ZS  1993  58.0278816223145\n",
       "1   Cabo Verde          CPV  Tasa de alfabetización, total de adultos (% de personas de 15 años o más)  SE.ADT.LITR.ZS  2016              None\n",
       "2       Israel          ISR  Tasa de alfabetización, total de adultos (% de personas de 15 años o más)  SE.ADT.LITR.ZS  1988              None"
      ]
     },
     "execution_count": 293,
     "metadata": {},
     "output_type": "execute_result"
    }
   ],
   "source": [
    "data_23.sample(False, 3/data_23.count(), seed=150).limit(3).pandas_api()"
   ]
  },
  {
   "cell_type": "code",
   "execution_count": 294,
   "id": "44d1b297-73f6-4e44-b011-bf059b58dd8a",
   "metadata": {
    "execution": {
     "iopub.execute_input": "2023-06-06T05:59:22.539415Z",
     "iopub.status.busy": "2023-06-06T05:59:22.539245Z",
     "iopub.status.idle": "2023-06-06T05:59:22.545573Z",
     "shell.execute_reply": "2023-06-06T05:59:22.545038Z",
     "shell.execute_reply.started": "2023-06-06T05:59:22.539398Z"
    },
    "tags": []
   },
   "outputs": [
    {
     "data": {
      "text/plain": [
       "['Country Code', 'Year', 'porc_literacy']"
      ]
     },
     "execution_count": 294,
     "metadata": {},
     "output_type": "execute_result"
    }
   ],
   "source": [
    "data_23 = data_23.drop(\"Country Name\",\"Indicator Name\",\"Indicator Code\")\n",
    "data_23.columns"
   ]
  },
  {
   "cell_type": "markdown",
   "id": "c96581eb-0a7e-4f21-afd2-549688626669",
   "metadata": {},
   "source": [
    "# Desempleo, total (% de la población activa total) (estimación modelado OIT)\n",
    "\n",
    "El desempleo es la proporción de la población activa que no tiene trabajo pero que busca trabajo y está disponible para realizarlo. Las definiciones de población activa y desempleo difieren según el país\n",
    "\n",
    "https://datos.bancomundial.org/indicador/SL.UEM.TOTL.ZS?view=chart"
   ]
  },
  {
   "cell_type": "code",
   "execution_count": 295,
   "id": "61a11f98-863e-42fd-80ed-dc6211b0ab2a",
   "metadata": {
    "execution": {
     "iopub.execute_input": "2023-06-06T05:59:22.546562Z",
     "iopub.status.busy": "2023-06-06T05:59:22.546346Z",
     "iopub.status.idle": "2023-06-06T05:59:22.552307Z",
     "shell.execute_reply": "2023-06-06T05:59:22.551713Z",
     "shell.execute_reply.started": "2023-06-06T05:59:22.546541Z"
    },
    "tags": []
   },
   "outputs": [],
   "source": [
    "url_24 =\"https://api.worldbank.org/v2/es/indicator/SL.UEM.TOTL.ZS?downloadformat=csv\""
   ]
  },
  {
   "cell_type": "code",
   "execution_count": 296,
   "id": "ccc03bee-d083-4801-b9cd-6ee3fcbc279a",
   "metadata": {
    "execution": {
     "iopub.execute_input": "2023-06-06T05:59:22.553318Z",
     "iopub.status.busy": "2023-06-06T05:59:22.553103Z",
     "iopub.status.idle": "2023-06-06T05:59:23.539598Z",
     "shell.execute_reply": "2023-06-06T05:59:23.538877Z",
     "shell.execute_reply.started": "2023-06-06T05:59:22.553297Z"
    },
    "tags": []
   },
   "outputs": [],
   "source": [
    "response_url_24 = requests.get(url_24)"
   ]
  },
  {
   "cell_type": "code",
   "execution_count": 297,
   "id": "77cd5c9d-3eed-4f14-854d-c27395fcc8ed",
   "metadata": {
    "execution": {
     "iopub.execute_input": "2023-06-06T05:59:23.541491Z",
     "iopub.status.busy": "2023-06-06T05:59:23.541203Z",
     "iopub.status.idle": "2023-06-06T05:59:23.546943Z",
     "shell.execute_reply": "2023-06-06T05:59:23.546468Z",
     "shell.execute_reply.started": "2023-06-06T05:59:23.541468Z"
    },
    "tags": []
   },
   "outputs": [
    {
     "name": "stdout",
     "output_type": "stream",
     "text": [
      "El archivo ZIP se ha descargado y descomprimido correctamente.\n"
     ]
    }
   ],
   "source": [
    "if response_url_24.status_code == 200:\n",
    "    # Crear un objeto ZipFile a partir de los datos de la respuesta\n",
    "    with zipfile.ZipFile(io.BytesIO(response_url_24.content), \"r\") as zip_url_24:\n",
    "        # Extraer todos los archivos del archivo ZIP en el directorio actual\n",
    "        zip_url_24.extractall(\"dataset\")\n",
    "\n",
    "    print(\"El archivo ZIP se ha descargado y descomprimido correctamente.\")\n",
    "else:\n",
    "    print(\"Error al descargar el archivo ZIP:\", response_url_24.status_code)"
   ]
  },
  {
   "cell_type": "code",
   "execution_count": 298,
   "id": "3030b511-093c-44f5-9c50-4b60bccd95b5",
   "metadata": {
    "execution": {
     "iopub.execute_input": "2023-06-06T05:59:23.547924Z",
     "iopub.status.busy": "2023-06-06T05:59:23.547730Z",
     "iopub.status.idle": "2023-06-06T05:59:23.559987Z",
     "shell.execute_reply": "2023-06-06T05:59:23.559381Z",
     "shell.execute_reply.started": "2023-06-06T05:59:23.547906Z"
    },
    "tags": []
   },
   "outputs": [],
   "source": [
    "import csv\n",
    "\n",
    "# Ruta del archivo CSV\n",
    "\n",
    "csv_url_24 = \"dataset/API_SL.UEM.TOTL.ZS_DS2_es_csv_v2_5456356.csv\"\n",
    "\n",
    "# Crear una lista para almacenar las filas del archivo CSV\n",
    "rows_url_24 = []\n",
    "\n",
    "\n",
    "#API_SE.PRM.CMPT.ZS_DS2_es_csv_v2_5478942"
   ]
  },
  {
   "cell_type": "code",
   "execution_count": 299,
   "id": "13158cd6-e2d6-41a3-bfbc-6d0e73c235f4",
   "metadata": {
    "execution": {
     "iopub.execute_input": "2023-06-06T05:59:23.560821Z",
     "iopub.status.busy": "2023-06-06T05:59:23.560664Z",
     "iopub.status.idle": "2023-06-06T05:59:23.570850Z",
     "shell.execute_reply": "2023-06-06T05:59:23.570261Z",
     "shell.execute_reply.started": "2023-06-06T05:59:23.560806Z"
    },
    "tags": []
   },
   "outputs": [],
   "source": [
    "# Leer el archivo CSV y almacenar las filas en la lista\n",
    "with open(csv_url_24, \"r\") as file_csv_url_24:\n",
    "    csv_reader_url_24 = csv.reader(file_csv_url_24)\n",
    "    rows_url_24 = list(csv_reader_url_24)\n"
   ]
  },
  {
   "cell_type": "code",
   "execution_count": 300,
   "id": "becd8e32-768a-4679-ad81-1c9c59049be7",
   "metadata": {
    "execution": {
     "iopub.execute_input": "2023-06-06T05:59:23.571720Z",
     "iopub.status.busy": "2023-06-06T05:59:23.571366Z",
     "iopub.status.idle": "2023-06-06T05:59:23.582049Z",
     "shell.execute_reply": "2023-06-06T05:59:23.581479Z",
     "shell.execute_reply.started": "2023-06-06T05:59:23.571702Z"
    },
    "tags": []
   },
   "outputs": [],
   "source": [
    "# Eliminar las primeras 4 filas\n",
    "\n",
    "rows_url_24 = rows_url_24[4:]\n",
    "\n",
    "# Escribir las filas modificadas en un nuevo archivo CSV\n",
    "with open(\"dataset/data/dataset_24.csv\", \"w\", newline=\"\") as file_csv_url_24:\n",
    "    csv_writer_url_24 = csv.writer(file_csv_url_24)\n",
    "    csv_writer_url_24.writerows(rows_url_24)"
   ]
  },
  {
   "cell_type": "code",
   "execution_count": 301,
   "id": "177625bf-fafb-4f1b-a87b-acc03c556151",
   "metadata": {
    "execution": {
     "iopub.execute_input": "2023-06-06T05:59:23.582945Z",
     "iopub.status.busy": "2023-06-06T05:59:23.582646Z",
     "iopub.status.idle": "2023-06-06T05:59:23.638980Z",
     "shell.execute_reply": "2023-06-06T05:59:23.638329Z",
     "shell.execute_reply.started": "2023-06-06T05:59:23.582929Z"
    },
    "tags": []
   },
   "outputs": [],
   "source": [
    "data_24 = spark.read.csv(\"dataset_24.csv\", header=True)"
   ]
  },
  {
   "cell_type": "code",
   "execution_count": 302,
   "id": "98b5e5dd-72c7-4ffa-bb47-8a93a0289271",
   "metadata": {
    "execution": {
     "iopub.execute_input": "2023-06-06T05:59:23.639947Z",
     "iopub.status.busy": "2023-06-06T05:59:23.639765Z",
     "iopub.status.idle": "2023-06-06T05:59:23.648159Z",
     "shell.execute_reply": "2023-06-06T05:59:23.647587Z",
     "shell.execute_reply.started": "2023-06-06T05:59:23.639930Z"
    },
    "tags": []
   },
   "outputs": [],
   "source": [
    "data_24 = data_24.drop(\"_c66\",\"_c67\")"
   ]
  },
  {
   "cell_type": "code",
   "execution_count": 303,
   "id": "3fd3366f-82a8-4b60-b487-41d18fec5fd9",
   "metadata": {
    "execution": {
     "iopub.execute_input": "2023-06-06T05:59:23.648993Z",
     "iopub.status.busy": "2023-06-06T05:59:23.648835Z",
     "iopub.status.idle": "2023-06-06T05:59:23.885108Z",
     "shell.execute_reply": "2023-06-06T05:59:23.884530Z",
     "shell.execute_reply.started": "2023-06-06T05:59:23.648978Z"
    },
    "tags": []
   },
   "outputs": [
    {
     "data": {
      "text/html": [
       "<div>\n",
       "<style scoped>\n",
       "    .dataframe tbody tr th:only-of-type {\n",
       "        vertical-align: middle;\n",
       "    }\n",
       "\n",
       "    .dataframe tbody tr th {\n",
       "        vertical-align: top;\n",
       "    }\n",
       "\n",
       "    .dataframe thead th {\n",
       "        text-align: right;\n",
       "    }\n",
       "</style>\n",
       "<table border=\"1\" class=\"dataframe\">\n",
       "  <thead>\n",
       "    <tr style=\"text-align: right;\">\n",
       "      <th></th>\n",
       "      <th>Country Name</th>\n",
       "      <th>Country Code</th>\n",
       "      <th>Indicator Name</th>\n",
       "      <th>Indicator Code</th>\n",
       "      <th>1960</th>\n",
       "      <th>1961</th>\n",
       "      <th>1962</th>\n",
       "      <th>1963</th>\n",
       "      <th>1964</th>\n",
       "      <th>1965</th>\n",
       "      <th>1966</th>\n",
       "      <th>1967</th>\n",
       "      <th>1968</th>\n",
       "      <th>1969</th>\n",
       "      <th>1970</th>\n",
       "      <th>1971</th>\n",
       "      <th>1972</th>\n",
       "      <th>1973</th>\n",
       "      <th>1974</th>\n",
       "      <th>1975</th>\n",
       "      <th>1976</th>\n",
       "      <th>1977</th>\n",
       "      <th>1978</th>\n",
       "      <th>1979</th>\n",
       "      <th>1980</th>\n",
       "      <th>1981</th>\n",
       "      <th>1982</th>\n",
       "      <th>1983</th>\n",
       "      <th>1984</th>\n",
       "      <th>1985</th>\n",
       "      <th>1986</th>\n",
       "      <th>1987</th>\n",
       "      <th>1988</th>\n",
       "      <th>1989</th>\n",
       "      <th>1990</th>\n",
       "      <th>1991</th>\n",
       "      <th>1992</th>\n",
       "      <th>1993</th>\n",
       "      <th>1994</th>\n",
       "      <th>1995</th>\n",
       "      <th>1996</th>\n",
       "      <th>1997</th>\n",
       "      <th>1998</th>\n",
       "      <th>1999</th>\n",
       "      <th>2000</th>\n",
       "      <th>2001</th>\n",
       "      <th>2002</th>\n",
       "      <th>2003</th>\n",
       "      <th>2004</th>\n",
       "      <th>2005</th>\n",
       "      <th>2006</th>\n",
       "      <th>2007</th>\n",
       "      <th>2008</th>\n",
       "      <th>2009</th>\n",
       "      <th>2010</th>\n",
       "      <th>2011</th>\n",
       "      <th>2012</th>\n",
       "      <th>2013</th>\n",
       "      <th>2014</th>\n",
       "      <th>2015</th>\n",
       "      <th>2016</th>\n",
       "      <th>2017</th>\n",
       "      <th>2018</th>\n",
       "      <th>2019</th>\n",
       "      <th>2020</th>\n",
       "      <th>2021</th>\n",
       "      <th>2022</th>\n",
       "    </tr>\n",
       "  </thead>\n",
       "  <tbody>\n",
       "    <tr>\n",
       "      <th>0</th>\n",
       "      <td>Aruba</td>\n",
       "      <td>ABW</td>\n",
       "      <td>Desempleo, total (% de la población activa tot...</td>\n",
       "      <td>SL.UEM.TOTL.ZS</td>\n",
       "      <td>None</td>\n",
       "      <td>None</td>\n",
       "      <td>None</td>\n",
       "      <td>None</td>\n",
       "      <td>None</td>\n",
       "      <td>None</td>\n",
       "      <td>None</td>\n",
       "      <td>None</td>\n",
       "      <td>None</td>\n",
       "      <td>None</td>\n",
       "      <td>None</td>\n",
       "      <td>None</td>\n",
       "      <td>None</td>\n",
       "      <td>None</td>\n",
       "      <td>None</td>\n",
       "      <td>None</td>\n",
       "      <td>None</td>\n",
       "      <td>None</td>\n",
       "      <td>None</td>\n",
       "      <td>None</td>\n",
       "      <td>None</td>\n",
       "      <td>None</td>\n",
       "      <td>None</td>\n",
       "      <td>None</td>\n",
       "      <td>None</td>\n",
       "      <td>None</td>\n",
       "      <td>None</td>\n",
       "      <td>None</td>\n",
       "      <td>None</td>\n",
       "      <td>None</td>\n",
       "      <td>None</td>\n",
       "      <td>None</td>\n",
       "      <td>None</td>\n",
       "      <td>None</td>\n",
       "      <td>None</td>\n",
       "      <td>None</td>\n",
       "      <td>None</td>\n",
       "      <td>None</td>\n",
       "      <td>None</td>\n",
       "      <td>None</td>\n",
       "      <td>None</td>\n",
       "      <td>None</td>\n",
       "      <td>None</td>\n",
       "      <td>None</td>\n",
       "      <td>None</td>\n",
       "      <td>None</td>\n",
       "      <td>None</td>\n",
       "      <td>None</td>\n",
       "      <td>None</td>\n",
       "      <td>None</td>\n",
       "      <td>None</td>\n",
       "      <td>None</td>\n",
       "      <td>None</td>\n",
       "      <td>None</td>\n",
       "      <td>None</td>\n",
       "      <td>None</td>\n",
       "      <td>None</td>\n",
       "      <td>None</td>\n",
       "      <td>None</td>\n",
       "      <td>None</td>\n",
       "      <td>None</td>\n",
       "      <td>None</td>\n",
       "      <td>None</td>\n",
       "    </tr>\n",
       "    <tr>\n",
       "      <th>1</th>\n",
       "      <td>None</td>\n",
       "      <td>AFE</td>\n",
       "      <td>Desempleo, total (% de la población activa tot...</td>\n",
       "      <td>SL.UEM.TOTL.ZS</td>\n",
       "      <td>None</td>\n",
       "      <td>None</td>\n",
       "      <td>None</td>\n",
       "      <td>None</td>\n",
       "      <td>None</td>\n",
       "      <td>None</td>\n",
       "      <td>None</td>\n",
       "      <td>None</td>\n",
       "      <td>None</td>\n",
       "      <td>None</td>\n",
       "      <td>None</td>\n",
       "      <td>None</td>\n",
       "      <td>None</td>\n",
       "      <td>None</td>\n",
       "      <td>None</td>\n",
       "      <td>None</td>\n",
       "      <td>None</td>\n",
       "      <td>None</td>\n",
       "      <td>None</td>\n",
       "      <td>None</td>\n",
       "      <td>None</td>\n",
       "      <td>None</td>\n",
       "      <td>None</td>\n",
       "      <td>None</td>\n",
       "      <td>None</td>\n",
       "      <td>None</td>\n",
       "      <td>None</td>\n",
       "      <td>None</td>\n",
       "      <td>None</td>\n",
       "      <td>None</td>\n",
       "      <td>None</td>\n",
       "      <td>7.33333582862451</td>\n",
       "      <td>7.31874715974837</td>\n",
       "      <td>7.24270531831179</td>\n",
       "      <td>7.16069407881989</td>\n",
       "      <td>7.06379600929184</td>\n",
       "      <td>7.05599784776945</td>\n",
       "      <td>7.09054127946598</td>\n",
       "      <td>7.06009639229653</td>\n",
       "      <td>7.01527149574635</td>\n",
       "      <td>6.93953643462879</td>\n",
       "      <td>6.85037600360991</td>\n",
       "      <td>6.80353665561531</td>\n",
       "      <td>6.74124106047488</td>\n",
       "      <td>6.53517315091514</td>\n",
       "      <td>6.37350255682969</td>\n",
       "      <td>6.34759835935351</td>\n",
       "      <td>6.28342096946086</td>\n",
       "      <td>6.23256052686116</td>\n",
       "      <td>6.29558691357936</td>\n",
       "      <td>6.93364466215657</td>\n",
       "      <td>6.71535792804545</td>\n",
       "      <td>6.59935562174995</td>\n",
       "      <td>6.51278389070957</td>\n",
       "      <td>6.55564519787211</td>\n",
       "      <td>6.70714163907837</td>\n",
       "      <td>6.85558940196983</td>\n",
       "      <td>6.94036502294338</td>\n",
       "      <td>6.91304636428334</td>\n",
       "      <td>7.12166350612313</td>\n",
       "      <td>7.63130341080996</td>\n",
       "      <td>7.92021884481321</td>\n",
       "      <td>7.91683058027188</td>\n",
       "    </tr>\n",
       "    <tr>\n",
       "      <th>2</th>\n",
       "      <td>Afganistán</td>\n",
       "      <td>AFG</td>\n",
       "      <td>Desempleo, total (% de la población activa tot...</td>\n",
       "      <td>SL.UEM.TOTL.ZS</td>\n",
       "      <td>None</td>\n",
       "      <td>None</td>\n",
       "      <td>None</td>\n",
       "      <td>None</td>\n",
       "      <td>None</td>\n",
       "      <td>None</td>\n",
       "      <td>None</td>\n",
       "      <td>None</td>\n",
       "      <td>None</td>\n",
       "      <td>None</td>\n",
       "      <td>None</td>\n",
       "      <td>None</td>\n",
       "      <td>None</td>\n",
       "      <td>None</td>\n",
       "      <td>None</td>\n",
       "      <td>None</td>\n",
       "      <td>None</td>\n",
       "      <td>None</td>\n",
       "      <td>None</td>\n",
       "      <td>None</td>\n",
       "      <td>None</td>\n",
       "      <td>None</td>\n",
       "      <td>None</td>\n",
       "      <td>None</td>\n",
       "      <td>None</td>\n",
       "      <td>None</td>\n",
       "      <td>None</td>\n",
       "      <td>None</td>\n",
       "      <td>None</td>\n",
       "      <td>None</td>\n",
       "      <td>None</td>\n",
       "      <td>8.121</td>\n",
       "      <td>8.168</td>\n",
       "      <td>8.123</td>\n",
       "      <td>8.111</td>\n",
       "      <td>8.26</td>\n",
       "      <td>8.165</td>\n",
       "      <td>8.089</td>\n",
       "      <td>8.082</td>\n",
       "      <td>8.07</td>\n",
       "      <td>8.054</td>\n",
       "      <td>8.04</td>\n",
       "      <td>8.186</td>\n",
       "      <td>8.122</td>\n",
       "      <td>8.053</td>\n",
       "      <td>8.113</td>\n",
       "      <td>8.054</td>\n",
       "      <td>8.108</td>\n",
       "      <td>8.022</td>\n",
       "      <td>8.082</td>\n",
       "      <td>8.068</td>\n",
       "      <td>7.947</td>\n",
       "      <td>8.019</td>\n",
       "      <td>7.949</td>\n",
       "      <td>7.91</td>\n",
       "      <td>8.989</td>\n",
       "      <td>10.086</td>\n",
       "      <td>11.18</td>\n",
       "      <td>11.11</td>\n",
       "      <td>11.085</td>\n",
       "      <td>11.71</td>\n",
       "      <td>None</td>\n",
       "      <td>None</td>\n",
       "    </tr>\n",
       "  </tbody>\n",
       "</table>\n",
       "</div>"
      ],
      "text/plain": [
       "  Country Name Country Code                                                               Indicator Name  Indicator Code  1960  1961  1962  1963  1964  1965  1966  1967  1968  1969  1970  1971  1972  1973  1974  1975  1976  1977  1978  1979  1980  1981  1982  1983  1984  1985  1986  1987  1988  1989  1990              1991              1992              1993              1994              1995              1996              1997              1998              1999              2000              2001              2002              2003              2004              2005              2006              2007              2008              2009              2010              2011              2012              2013              2014              2015              2016              2017              2018              2019              2020              2021              2022\n",
       "0        Aruba          ABW  Desempleo, total (% de la población activa total) (estimación modelado OIT)  SL.UEM.TOTL.ZS  None  None  None  None  None  None  None  None  None  None  None  None  None  None  None  None  None  None  None  None  None  None  None  None  None  None  None  None  None  None  None              None              None              None              None              None              None              None              None              None              None              None              None              None              None              None              None              None              None              None              None              None              None              None              None              None              None              None              None              None              None              None              None\n",
       "1         None          AFE  Desempleo, total (% de la población activa total) (estimación modelado OIT)  SL.UEM.TOTL.ZS  None  None  None  None  None  None  None  None  None  None  None  None  None  None  None  None  None  None  None  None  None  None  None  None  None  None  None  None  None  None  None  7.33333582862451  7.31874715974837  7.24270531831179  7.16069407881989  7.06379600929184  7.05599784776945  7.09054127946598  7.06009639229653  7.01527149574635  6.93953643462879  6.85037600360991  6.80353665561531  6.74124106047488  6.53517315091514  6.37350255682969  6.34759835935351  6.28342096946086  6.23256052686116  6.29558691357936  6.93364466215657  6.71535792804545  6.59935562174995  6.51278389070957  6.55564519787211  6.70714163907837  6.85558940196983  6.94036502294338  6.91304636428334  7.12166350612313  7.63130341080996  7.92021884481321  7.91683058027188\n",
       "2   Afganistán          AFG  Desempleo, total (% de la población activa total) (estimación modelado OIT)  SL.UEM.TOTL.ZS  None  None  None  None  None  None  None  None  None  None  None  None  None  None  None  None  None  None  None  None  None  None  None  None  None  None  None  None  None  None  None             8.121             8.168             8.123             8.111              8.26             8.165             8.089             8.082              8.07             8.054              8.04             8.186             8.122             8.053             8.113             8.054             8.108             8.022             8.082             8.068             7.947             8.019             7.949              7.91             8.989            10.086             11.18             11.11            11.085             11.71              None              None"
      ]
     },
     "execution_count": 303,
     "metadata": {},
     "output_type": "execute_result"
    }
   ],
   "source": [
    "data_24.limit(3).pandas_api()"
   ]
  },
  {
   "cell_type": "code",
   "execution_count": 304,
   "id": "3ec7c318-1b56-4038-b163-96147d56e585",
   "metadata": {
    "execution": {
     "iopub.execute_input": "2023-06-06T05:59:23.885921Z",
     "iopub.status.busy": "2023-06-06T05:59:23.885761Z",
     "iopub.status.idle": "2023-06-06T05:59:23.897765Z",
     "shell.execute_reply": "2023-06-06T05:59:23.897108Z",
     "shell.execute_reply.started": "2023-06-06T05:59:23.885905Z"
    },
    "tags": []
   },
   "outputs": [],
   "source": [
    "data_24 = data_24.selectExpr('`Country Name`', '`Country Code`', \"`Indicator Name`\", \"`Indicator Code`\", \"stack(63, \\\n",
    "'1960', `1960`, '1961', `1961`, '1962', `1962`, '1963', `1963`, '1964', `1964`, \\\n",
    "'1965', `1965`, '1966', `1966`, '1967', `1967`, '1968', `1968`, '1969', `1969`, \\\n",
    "'1970', `1970`, '1971', `1971`, '1972', `1972`, '1973', `1973`, '1974', `1974`, \\\n",
    "'1975', `1975`, '1976', `1976`, '1977', `1977`, '1978', `1978`, '1979', `1979`, \\\n",
    "'1980', `1980`, '1981', `1981`, '1982', `1982`, '1983', `1983`, '1984', `1984`, \\\n",
    "'1985', `1985`, '1986', `1986`, '1987', `1987`, '1988', `1988`, '1989', `1989`, \\\n",
    "'1990', `1990`, '1991', `1991`, '1992', `1992`, '1993', `1993`, '1994', `1994`, \\\n",
    "'1995', `1995`, '1996', `1996`, '1997', `1997`, '1998', `1998`, '1999', `1999`, \\\n",
    "'2010', `2010`, '2011', `2011`, '2012', `2012`, '2013', `2013`, '2014', `2014`, \\\n",
    "'2015', `2015`, '2016', `2016`, '2017', `2017`, '2018', `2018`, '2019', `2019`, \\\n",
    "'2010', `2010`, '2011', `2011`, '2012', `2012`, '2013', `2013`, '2014', `2014`, \\\n",
    "'2015', `2015`, '2016', `2016`, '2017', `2017`, '2018', `2018`, '2019', `2019`, \\\n",
    "'2020', `2020`, '2021', `2021`, '2022', `2022`) as (Year, porc_unemployment)\")"
   ]
  },
  {
   "cell_type": "code",
   "execution_count": 305,
   "id": "dcd922a6-fe99-48d3-ae1f-00904897d28a",
   "metadata": {
    "execution": {
     "iopub.execute_input": "2023-06-06T05:59:23.898849Z",
     "iopub.status.busy": "2023-06-06T05:59:23.898595Z",
     "iopub.status.idle": "2023-06-06T05:59:24.078572Z",
     "shell.execute_reply": "2023-06-06T05:59:24.078104Z",
     "shell.execute_reply.started": "2023-06-06T05:59:23.898825Z"
    },
    "tags": []
   },
   "outputs": [
    {
     "data": {
      "text/html": [
       "<div>\n",
       "<style scoped>\n",
       "    .dataframe tbody tr th:only-of-type {\n",
       "        vertical-align: middle;\n",
       "    }\n",
       "\n",
       "    .dataframe tbody tr th {\n",
       "        vertical-align: top;\n",
       "    }\n",
       "\n",
       "    .dataframe thead th {\n",
       "        text-align: right;\n",
       "    }\n",
       "</style>\n",
       "<table border=\"1\" class=\"dataframe\">\n",
       "  <thead>\n",
       "    <tr style=\"text-align: right;\">\n",
       "      <th></th>\n",
       "      <th>Country Name</th>\n",
       "      <th>Country Code</th>\n",
       "      <th>Indicator Name</th>\n",
       "      <th>Indicator Code</th>\n",
       "      <th>Year</th>\n",
       "      <th>porc_unemployment</th>\n",
       "    </tr>\n",
       "  </thead>\n",
       "  <tbody>\n",
       "    <tr>\n",
       "      <th>0</th>\n",
       "      <td>None</td>\n",
       "      <td>AFE</td>\n",
       "      <td>Desempleo, total (% de la población activa tot...</td>\n",
       "      <td>SL.UEM.TOTL.ZS</td>\n",
       "      <td>1993</td>\n",
       "      <td>7.24270531831179</td>\n",
       "    </tr>\n",
       "    <tr>\n",
       "      <th>1</th>\n",
       "      <td>Cabo Verde</td>\n",
       "      <td>CPV</td>\n",
       "      <td>Desempleo, total (% de la población activa tot...</td>\n",
       "      <td>SL.UEM.TOTL.ZS</td>\n",
       "      <td>2016</td>\n",
       "      <td>12.002</td>\n",
       "    </tr>\n",
       "    <tr>\n",
       "      <th>2</th>\n",
       "      <td>Israel</td>\n",
       "      <td>ISR</td>\n",
       "      <td>Desempleo, total (% de la población activa tot...</td>\n",
       "      <td>SL.UEM.TOTL.ZS</td>\n",
       "      <td>1988</td>\n",
       "      <td>None</td>\n",
       "    </tr>\n",
       "  </tbody>\n",
       "</table>\n",
       "</div>"
      ],
      "text/plain": [
       "  Country Name Country Code                                                               Indicator Name  Indicator Code  Year porc_unemployment\n",
       "0         None          AFE  Desempleo, total (% de la población activa total) (estimación modelado OIT)  SL.UEM.TOTL.ZS  1993  7.24270531831179\n",
       "1   Cabo Verde          CPV  Desempleo, total (% de la población activa total) (estimación modelado OIT)  SL.UEM.TOTL.ZS  2016            12.002\n",
       "2       Israel          ISR  Desempleo, total (% de la población activa total) (estimación modelado OIT)  SL.UEM.TOTL.ZS  1988              None"
      ]
     },
     "execution_count": 305,
     "metadata": {},
     "output_type": "execute_result"
    }
   ],
   "source": [
    "data_24.sample(False, 3/data_24.count(), seed=150).limit(3).pandas_api()"
   ]
  },
  {
   "cell_type": "code",
   "execution_count": 306,
   "id": "ff6a72b8-61a3-4606-a364-2da2f3949a23",
   "metadata": {
    "execution": {
     "iopub.execute_input": "2023-06-06T05:59:24.079353Z",
     "iopub.status.busy": "2023-06-06T05:59:24.079187Z",
     "iopub.status.idle": "2023-06-06T05:59:24.084972Z",
     "shell.execute_reply": "2023-06-06T05:59:24.084517Z",
     "shell.execute_reply.started": "2023-06-06T05:59:24.079337Z"
    },
    "tags": []
   },
   "outputs": [
    {
     "data": {
      "text/plain": [
       "['Country Code', 'Year', 'porc_unemployment']"
      ]
     },
     "execution_count": 306,
     "metadata": {},
     "output_type": "execute_result"
    }
   ],
   "source": [
    "data_24 = data_24.drop(\"Country Name\",\"Indicator Name\",\"Indicator Code\")\n",
    "data_24.columns"
   ]
  },
  {
   "cell_type": "markdown",
   "id": "0148a278-08ae-43f0-bfe8-fd8980eb07d7",
   "metadata": {},
   "source": [
    "# Tasa de incidencia de la pobreza, sobre la base de la línea de pobreza nacional (% de la población)\n",
    "\n",
    "\n",
    "La tasa de pobreza nacional es el porcentaje de personas que vive debajo de la línea de pobreza nacional. Las estimaciones nacionales se basan en estimaciones de subgrupos ponderados según la población, obtenidas a partir de encuestas de los hogares.\n",
    "\n",
    "https://datos.bancomundial.org/indicador/SI.POV.NAHC?end=2022&start=1985&view=chart"
   ]
  },
  {
   "cell_type": "code",
   "execution_count": 307,
   "id": "245e4d45-ba25-4e42-bca2-02797a4b9ae4",
   "metadata": {
    "execution": {
     "iopub.execute_input": "2023-06-06T05:59:24.085748Z",
     "iopub.status.busy": "2023-06-06T05:59:24.085584Z",
     "iopub.status.idle": "2023-06-06T05:59:24.095722Z",
     "shell.execute_reply": "2023-06-06T05:59:24.095177Z",
     "shell.execute_reply.started": "2023-06-06T05:59:24.085733Z"
    },
    "tags": []
   },
   "outputs": [],
   "source": [
    "url_25 =\"https://api.worldbank.org/v2/es/indicator/SI.POV.NAHC?downloadformat=csv\""
   ]
  },
  {
   "cell_type": "code",
   "execution_count": 308,
   "id": "d2f24a81-1979-4c30-acc4-d55cdbf48b9c",
   "metadata": {
    "execution": {
     "iopub.execute_input": "2023-06-06T05:59:24.096550Z",
     "iopub.status.busy": "2023-06-06T05:59:24.096380Z",
     "iopub.status.idle": "2023-06-06T05:59:24.998605Z",
     "shell.execute_reply": "2023-06-06T05:59:24.997696Z",
     "shell.execute_reply.started": "2023-06-06T05:59:24.096534Z"
    },
    "tags": []
   },
   "outputs": [],
   "source": [
    "response_url_25 = requests.get(url_25)"
   ]
  },
  {
   "cell_type": "code",
   "execution_count": 309,
   "id": "f9e0d9ed-a0d0-4f61-879c-583e3bae5086",
   "metadata": {
    "execution": {
     "iopub.execute_input": "2023-06-06T05:59:25.000131Z",
     "iopub.status.busy": "2023-06-06T05:59:24.999854Z",
     "iopub.status.idle": "2023-06-06T05:59:25.006293Z",
     "shell.execute_reply": "2023-06-06T05:59:25.005601Z",
     "shell.execute_reply.started": "2023-06-06T05:59:25.000105Z"
    },
    "tags": []
   },
   "outputs": [
    {
     "name": "stdout",
     "output_type": "stream",
     "text": [
      "El archivo ZIP se ha descargado y descomprimido correctamente.\n"
     ]
    }
   ],
   "source": [
    "if response_url_25.status_code == 200:\n",
    "    # Crear un objeto ZipFile a partir de los datos de la respuesta\n",
    "    with zipfile.ZipFile(io.BytesIO(response_url_25.content), \"r\") as zip_url_25:\n",
    "        # Extraer todos los archivos del archivo ZIP en el directorio actual\n",
    "        zip_url_25.extractall(\"dataset\")\n",
    "\n",
    "    print(\"El archivo ZIP se ha descargado y descomprimido correctamente.\")\n",
    "else:\n",
    "    print(\"Error al descargar el archivo ZIP:\", response_url_25.status_code)"
   ]
  },
  {
   "cell_type": "code",
   "execution_count": 310,
   "id": "a268dd6f-4ed7-4a2b-bf1c-3d9830bb4776",
   "metadata": {
    "execution": {
     "iopub.execute_input": "2023-06-06T05:59:25.007091Z",
     "iopub.status.busy": "2023-06-06T05:59:25.006896Z",
     "iopub.status.idle": "2023-06-06T05:59:25.019610Z",
     "shell.execute_reply": "2023-06-06T05:59:25.018745Z",
     "shell.execute_reply.started": "2023-06-06T05:59:25.007073Z"
    },
    "tags": []
   },
   "outputs": [],
   "source": [
    "import csv\n",
    "\n",
    "# Ruta del archivo CSV\n",
    "\n",
    "csv_url_25 = \"dataset/API_SI.POV.NAHC_DS2_es_csv_v2_5457611.csv\"\n",
    "\n",
    "# Crear una lista para almacenar las filas del archivo CSV\n",
    "rows_url_25 = []\n",
    "\n",
    "\n",
    "#API_SE.PRM.CMPT.ZS_DS2_es_csv_v2_5478942"
   ]
  },
  {
   "cell_type": "code",
   "execution_count": 311,
   "id": "545c04d4-8ca1-404c-825e-a272cdeb5bd9",
   "metadata": {
    "execution": {
     "iopub.execute_input": "2023-06-06T05:59:25.020702Z",
     "iopub.status.busy": "2023-06-06T05:59:25.020517Z",
     "iopub.status.idle": "2023-06-06T05:59:25.029697Z",
     "shell.execute_reply": "2023-06-06T05:59:25.029157Z",
     "shell.execute_reply.started": "2023-06-06T05:59:25.020685Z"
    },
    "tags": []
   },
   "outputs": [],
   "source": [
    "# Leer el archivo CSV y almacenar las filas en la lista\n",
    "with open(csv_url_25, \"r\") as file_csv_url_25:\n",
    "    csv_reader_url_25 = csv.reader(file_csv_url_25)\n",
    "    rows_url_25 = list(csv_reader_url_25)\n"
   ]
  },
  {
   "cell_type": "code",
   "execution_count": 312,
   "id": "40d409ce-d8cc-4680-b9ba-60f13e3b52c9",
   "metadata": {
    "execution": {
     "iopub.execute_input": "2023-06-06T05:59:25.030696Z",
     "iopub.status.busy": "2023-06-06T05:59:25.030485Z",
     "iopub.status.idle": "2023-06-06T05:59:25.041314Z",
     "shell.execute_reply": "2023-06-06T05:59:25.040848Z",
     "shell.execute_reply.started": "2023-06-06T05:59:25.030662Z"
    },
    "tags": []
   },
   "outputs": [],
   "source": [
    "# Eliminar las primeras 4 filas\n",
    "\n",
    "rows_url_25 = rows_url_25[4:]\n",
    "\n",
    "# Escribir las filas modificadas en un nuevo archivo CSV\n",
    "with open(\"dataset/data/dataset_25.csv\", \"w\", newline=\"\") as file_csv_url_25:\n",
    "    csv_writer_url_25 = csv.writer(file_csv_url_25)\n",
    "    csv_writer_url_25.writerows(rows_url_25)"
   ]
  },
  {
   "cell_type": "code",
   "execution_count": 313,
   "id": "5ee2391e-36c2-41c0-bd23-32df2bbb3b9d",
   "metadata": {
    "execution": {
     "iopub.execute_input": "2023-06-06T05:59:25.042279Z",
     "iopub.status.busy": "2023-06-06T05:59:25.042077Z",
     "iopub.status.idle": "2023-06-06T05:59:25.112211Z",
     "shell.execute_reply": "2023-06-06T05:59:25.111632Z",
     "shell.execute_reply.started": "2023-06-06T05:59:25.042248Z"
    },
    "tags": []
   },
   "outputs": [],
   "source": [
    "data_25 = spark.read.csv(\"dataset_25.csv\", header=True)"
   ]
  },
  {
   "cell_type": "code",
   "execution_count": 314,
   "id": "ffc8e346-b78d-4fa4-973e-854148104aff",
   "metadata": {
    "execution": {
     "iopub.execute_input": "2023-06-06T05:59:25.113049Z",
     "iopub.status.busy": "2023-06-06T05:59:25.112817Z",
     "iopub.status.idle": "2023-06-06T05:59:25.120208Z",
     "shell.execute_reply": "2023-06-06T05:59:25.119643Z",
     "shell.execute_reply.started": "2023-06-06T05:59:25.113032Z"
    },
    "tags": []
   },
   "outputs": [],
   "source": [
    "data_25 = data_25.drop(\"_c66\",\"_c67\")"
   ]
  },
  {
   "cell_type": "code",
   "execution_count": 315,
   "id": "57a15a74-c7cb-434e-a619-fca6785e7c2a",
   "metadata": {
    "execution": {
     "iopub.execute_input": "2023-06-06T05:59:25.121053Z",
     "iopub.status.busy": "2023-06-06T05:59:25.120856Z",
     "iopub.status.idle": "2023-06-06T05:59:25.328225Z",
     "shell.execute_reply": "2023-06-06T05:59:25.327695Z",
     "shell.execute_reply.started": "2023-06-06T05:59:25.121038Z"
    },
    "tags": []
   },
   "outputs": [
    {
     "data": {
      "text/html": [
       "<div>\n",
       "<style scoped>\n",
       "    .dataframe tbody tr th:only-of-type {\n",
       "        vertical-align: middle;\n",
       "    }\n",
       "\n",
       "    .dataframe tbody tr th {\n",
       "        vertical-align: top;\n",
       "    }\n",
       "\n",
       "    .dataframe thead th {\n",
       "        text-align: right;\n",
       "    }\n",
       "</style>\n",
       "<table border=\"1\" class=\"dataframe\">\n",
       "  <thead>\n",
       "    <tr style=\"text-align: right;\">\n",
       "      <th></th>\n",
       "      <th>Country Name</th>\n",
       "      <th>Country Code</th>\n",
       "      <th>Indicator Name</th>\n",
       "      <th>Indicator Code</th>\n",
       "      <th>1960</th>\n",
       "      <th>1961</th>\n",
       "      <th>1962</th>\n",
       "      <th>1963</th>\n",
       "      <th>1964</th>\n",
       "      <th>1965</th>\n",
       "      <th>1966</th>\n",
       "      <th>1967</th>\n",
       "      <th>1968</th>\n",
       "      <th>1969</th>\n",
       "      <th>1970</th>\n",
       "      <th>1971</th>\n",
       "      <th>1972</th>\n",
       "      <th>1973</th>\n",
       "      <th>1974</th>\n",
       "      <th>1975</th>\n",
       "      <th>1976</th>\n",
       "      <th>1977</th>\n",
       "      <th>1978</th>\n",
       "      <th>1979</th>\n",
       "      <th>1980</th>\n",
       "      <th>1981</th>\n",
       "      <th>1982</th>\n",
       "      <th>1983</th>\n",
       "      <th>1984</th>\n",
       "      <th>1985</th>\n",
       "      <th>1986</th>\n",
       "      <th>1987</th>\n",
       "      <th>1988</th>\n",
       "      <th>1989</th>\n",
       "      <th>1990</th>\n",
       "      <th>1991</th>\n",
       "      <th>1992</th>\n",
       "      <th>1993</th>\n",
       "      <th>1994</th>\n",
       "      <th>1995</th>\n",
       "      <th>1996</th>\n",
       "      <th>1997</th>\n",
       "      <th>1998</th>\n",
       "      <th>1999</th>\n",
       "      <th>2000</th>\n",
       "      <th>2001</th>\n",
       "      <th>2002</th>\n",
       "      <th>2003</th>\n",
       "      <th>2004</th>\n",
       "      <th>2005</th>\n",
       "      <th>2006</th>\n",
       "      <th>2007</th>\n",
       "      <th>2008</th>\n",
       "      <th>2009</th>\n",
       "      <th>2010</th>\n",
       "      <th>2011</th>\n",
       "      <th>2012</th>\n",
       "      <th>2013</th>\n",
       "      <th>2014</th>\n",
       "      <th>2015</th>\n",
       "      <th>2016</th>\n",
       "      <th>2017</th>\n",
       "      <th>2018</th>\n",
       "      <th>2019</th>\n",
       "      <th>2020</th>\n",
       "      <th>2021</th>\n",
       "      <th>2022</th>\n",
       "    </tr>\n",
       "  </thead>\n",
       "  <tbody>\n",
       "    <tr>\n",
       "      <th>0</th>\n",
       "      <td>Aruba</td>\n",
       "      <td>ABW</td>\n",
       "      <td>Tasa de incidencia de la pobreza, sobre la bas...</td>\n",
       "      <td>SI.POV.NAHC</td>\n",
       "      <td>None</td>\n",
       "      <td>None</td>\n",
       "      <td>None</td>\n",
       "      <td>None</td>\n",
       "      <td>None</td>\n",
       "      <td>None</td>\n",
       "      <td>None</td>\n",
       "      <td>None</td>\n",
       "      <td>None</td>\n",
       "      <td>None</td>\n",
       "      <td>None</td>\n",
       "      <td>None</td>\n",
       "      <td>None</td>\n",
       "      <td>None</td>\n",
       "      <td>None</td>\n",
       "      <td>None</td>\n",
       "      <td>None</td>\n",
       "      <td>None</td>\n",
       "      <td>None</td>\n",
       "      <td>None</td>\n",
       "      <td>None</td>\n",
       "      <td>None</td>\n",
       "      <td>None</td>\n",
       "      <td>None</td>\n",
       "      <td>None</td>\n",
       "      <td>None</td>\n",
       "      <td>None</td>\n",
       "      <td>None</td>\n",
       "      <td>None</td>\n",
       "      <td>None</td>\n",
       "      <td>None</td>\n",
       "      <td>None</td>\n",
       "      <td>None</td>\n",
       "      <td>None</td>\n",
       "      <td>None</td>\n",
       "      <td>None</td>\n",
       "      <td>None</td>\n",
       "      <td>None</td>\n",
       "      <td>None</td>\n",
       "      <td>None</td>\n",
       "      <td>None</td>\n",
       "      <td>None</td>\n",
       "      <td>None</td>\n",
       "      <td>None</td>\n",
       "      <td>None</td>\n",
       "      <td>None</td>\n",
       "      <td>None</td>\n",
       "      <td>None</td>\n",
       "      <td>None</td>\n",
       "      <td>None</td>\n",
       "      <td>None</td>\n",
       "      <td>None</td>\n",
       "      <td>None</td>\n",
       "      <td>None</td>\n",
       "      <td>None</td>\n",
       "      <td>None</td>\n",
       "      <td>None</td>\n",
       "      <td>None</td>\n",
       "      <td>None</td>\n",
       "      <td>None</td>\n",
       "      <td>None</td>\n",
       "      <td>None</td>\n",
       "      <td>None</td>\n",
       "    </tr>\n",
       "    <tr>\n",
       "      <th>1</th>\n",
       "      <td>None</td>\n",
       "      <td>AFE</td>\n",
       "      <td>Tasa de incidencia de la pobreza, sobre la bas...</td>\n",
       "      <td>SI.POV.NAHC</td>\n",
       "      <td>None</td>\n",
       "      <td>None</td>\n",
       "      <td>None</td>\n",
       "      <td>None</td>\n",
       "      <td>None</td>\n",
       "      <td>None</td>\n",
       "      <td>None</td>\n",
       "      <td>None</td>\n",
       "      <td>None</td>\n",
       "      <td>None</td>\n",
       "      <td>None</td>\n",
       "      <td>None</td>\n",
       "      <td>None</td>\n",
       "      <td>None</td>\n",
       "      <td>None</td>\n",
       "      <td>None</td>\n",
       "      <td>None</td>\n",
       "      <td>None</td>\n",
       "      <td>None</td>\n",
       "      <td>None</td>\n",
       "      <td>None</td>\n",
       "      <td>None</td>\n",
       "      <td>None</td>\n",
       "      <td>None</td>\n",
       "      <td>None</td>\n",
       "      <td>None</td>\n",
       "      <td>None</td>\n",
       "      <td>None</td>\n",
       "      <td>None</td>\n",
       "      <td>None</td>\n",
       "      <td>None</td>\n",
       "      <td>None</td>\n",
       "      <td>None</td>\n",
       "      <td>None</td>\n",
       "      <td>None</td>\n",
       "      <td>None</td>\n",
       "      <td>None</td>\n",
       "      <td>None</td>\n",
       "      <td>None</td>\n",
       "      <td>None</td>\n",
       "      <td>None</td>\n",
       "      <td>None</td>\n",
       "      <td>None</td>\n",
       "      <td>None</td>\n",
       "      <td>None</td>\n",
       "      <td>None</td>\n",
       "      <td>None</td>\n",
       "      <td>None</td>\n",
       "      <td>None</td>\n",
       "      <td>None</td>\n",
       "      <td>None</td>\n",
       "      <td>None</td>\n",
       "      <td>None</td>\n",
       "      <td>None</td>\n",
       "      <td>None</td>\n",
       "      <td>None</td>\n",
       "      <td>None</td>\n",
       "      <td>None</td>\n",
       "      <td>None</td>\n",
       "      <td>None</td>\n",
       "      <td>None</td>\n",
       "      <td>None</td>\n",
       "      <td>None</td>\n",
       "    </tr>\n",
       "    <tr>\n",
       "      <th>2</th>\n",
       "      <td>Afganistán</td>\n",
       "      <td>AFG</td>\n",
       "      <td>Tasa de incidencia de la pobreza, sobre la bas...</td>\n",
       "      <td>SI.POV.NAHC</td>\n",
       "      <td>None</td>\n",
       "      <td>None</td>\n",
       "      <td>None</td>\n",
       "      <td>None</td>\n",
       "      <td>None</td>\n",
       "      <td>None</td>\n",
       "      <td>None</td>\n",
       "      <td>None</td>\n",
       "      <td>None</td>\n",
       "      <td>None</td>\n",
       "      <td>None</td>\n",
       "      <td>None</td>\n",
       "      <td>None</td>\n",
       "      <td>None</td>\n",
       "      <td>None</td>\n",
       "      <td>None</td>\n",
       "      <td>None</td>\n",
       "      <td>None</td>\n",
       "      <td>None</td>\n",
       "      <td>None</td>\n",
       "      <td>None</td>\n",
       "      <td>None</td>\n",
       "      <td>None</td>\n",
       "      <td>None</td>\n",
       "      <td>None</td>\n",
       "      <td>None</td>\n",
       "      <td>None</td>\n",
       "      <td>None</td>\n",
       "      <td>None</td>\n",
       "      <td>None</td>\n",
       "      <td>None</td>\n",
       "      <td>None</td>\n",
       "      <td>None</td>\n",
       "      <td>None</td>\n",
       "      <td>None</td>\n",
       "      <td>None</td>\n",
       "      <td>None</td>\n",
       "      <td>None</td>\n",
       "      <td>None</td>\n",
       "      <td>None</td>\n",
       "      <td>None</td>\n",
       "      <td>None</td>\n",
       "      <td>None</td>\n",
       "      <td>None</td>\n",
       "      <td>None</td>\n",
       "      <td>None</td>\n",
       "      <td>None</td>\n",
       "      <td>33.7</td>\n",
       "      <td>None</td>\n",
       "      <td>None</td>\n",
       "      <td>None</td>\n",
       "      <td>38.3</td>\n",
       "      <td>None</td>\n",
       "      <td>None</td>\n",
       "      <td>None</td>\n",
       "      <td>None</td>\n",
       "      <td>54.5</td>\n",
       "      <td>None</td>\n",
       "      <td>None</td>\n",
       "      <td>None</td>\n",
       "      <td>None</td>\n",
       "      <td>None</td>\n",
       "      <td>None</td>\n",
       "    </tr>\n",
       "  </tbody>\n",
       "</table>\n",
       "</div>"
      ],
      "text/plain": [
       "  Country Name Country Code                                                                                       Indicator Name Indicator Code  1960  1961  1962  1963  1964  1965  1966  1967  1968  1969  1970  1971  1972  1973  1974  1975  1976  1977  1978  1979  1980  1981  1982  1983  1984  1985  1986  1987  1988  1989  1990  1991  1992  1993  1994  1995  1996  1997  1998  1999  2000  2001  2002  2003  2004  2005  2006  2007  2008  2009  2010  2011  2012  2013  2014  2015  2016  2017  2018  2019  2020  2021  2022\n",
       "0        Aruba          ABW  Tasa de incidencia de la pobreza, sobre la base de la línea de pobreza nacional (% de la población)    SI.POV.NAHC  None  None  None  None  None  None  None  None  None  None  None  None  None  None  None  None  None  None  None  None  None  None  None  None  None  None  None  None  None  None  None  None  None  None  None  None  None  None  None  None  None  None  None  None  None  None  None  None  None  None  None  None  None  None  None  None  None  None  None  None  None  None  None\n",
       "1         None          AFE  Tasa de incidencia de la pobreza, sobre la base de la línea de pobreza nacional (% de la población)    SI.POV.NAHC  None  None  None  None  None  None  None  None  None  None  None  None  None  None  None  None  None  None  None  None  None  None  None  None  None  None  None  None  None  None  None  None  None  None  None  None  None  None  None  None  None  None  None  None  None  None  None  None  None  None  None  None  None  None  None  None  None  None  None  None  None  None  None\n",
       "2   Afganistán          AFG  Tasa de incidencia de la pobreza, sobre la base de la línea de pobreza nacional (% de la población)    SI.POV.NAHC  None  None  None  None  None  None  None  None  None  None  None  None  None  None  None  None  None  None  None  None  None  None  None  None  None  None  None  None  None  None  None  None  None  None  None  None  None  None  None  None  None  None  None  None  None  None  None  33.7  None  None  None  38.3  None  None  None  None  54.5  None  None  None  None  None  None"
      ]
     },
     "execution_count": 315,
     "metadata": {},
     "output_type": "execute_result"
    }
   ],
   "source": [
    "data_25.limit(3).pandas_api()"
   ]
  },
  {
   "cell_type": "code",
   "execution_count": 316,
   "id": "63b1014a-a94d-40c3-bf3c-fee2a6f744e7",
   "metadata": {
    "execution": {
     "iopub.execute_input": "2023-06-06T05:59:25.329004Z",
     "iopub.status.busy": "2023-06-06T05:59:25.328844Z",
     "iopub.status.idle": "2023-06-06T05:59:25.340354Z",
     "shell.execute_reply": "2023-06-06T05:59:25.339770Z",
     "shell.execute_reply.started": "2023-06-06T05:59:25.328989Z"
    },
    "tags": []
   },
   "outputs": [],
   "source": [
    "data_25 = data_25.selectExpr('`Country Name`', '`Country Code`', \"`Indicator Name`\", \"`Indicator Code`\", \"stack(63, \\\n",
    "'1960', `1960`, '1961', `1961`, '1962', `1962`, '1963', `1963`, '1964', `1964`, \\\n",
    "'1965', `1965`, '1966', `1966`, '1967', `1967`, '1968', `1968`, '1969', `1969`, \\\n",
    "'1970', `1970`, '1971', `1971`, '1972', `1972`, '1973', `1973`, '1974', `1974`, \\\n",
    "'1975', `1975`, '1976', `1976`, '1977', `1977`, '1978', `1978`, '1979', `1979`, \\\n",
    "'1980', `1980`, '1981', `1981`, '1982', `1982`, '1983', `1983`, '1984', `1984`, \\\n",
    "'1985', `1985`, '1986', `1986`, '1987', `1987`, '1988', `1988`, '1989', `1989`, \\\n",
    "'1990', `1990`, '1991', `1991`, '1992', `1992`, '1993', `1993`, '1994', `1994`, \\\n",
    "'1995', `1995`, '1996', `1996`, '1997', `1997`, '1998', `1998`, '1999', `1999`, \\\n",
    "'2010', `2010`, '2011', `2011`, '2012', `2012`, '2013', `2013`, '2014', `2014`, \\\n",
    "'2015', `2015`, '2016', `2016`, '2017', `2017`, '2018', `2018`, '2019', `2019`, \\\n",
    "'2010', `2010`, '2011', `2011`, '2012', `2012`, '2013', `2013`, '2014', `2014`, \\\n",
    "'2015', `2015`, '2016', `2016`, '2017', `2017`, '2018', `2018`, '2019', `2019`, \\\n",
    "'2020', `2020`, '2021', `2021`, '2022', `2022`) as (Year, porc_below_poverty_line)\")"
   ]
  },
  {
   "cell_type": "code",
   "execution_count": 317,
   "id": "dab398ac-f944-4f65-a871-3ad9e506477e",
   "metadata": {
    "execution": {
     "iopub.execute_input": "2023-06-06T05:59:25.341135Z",
     "iopub.status.busy": "2023-06-06T05:59:25.340976Z",
     "iopub.status.idle": "2023-06-06T05:59:25.505230Z",
     "shell.execute_reply": "2023-06-06T05:59:25.504787Z",
     "shell.execute_reply.started": "2023-06-06T05:59:25.341119Z"
    },
    "tags": []
   },
   "outputs": [
    {
     "data": {
      "text/html": [
       "<div>\n",
       "<style scoped>\n",
       "    .dataframe tbody tr th:only-of-type {\n",
       "        vertical-align: middle;\n",
       "    }\n",
       "\n",
       "    .dataframe tbody tr th {\n",
       "        vertical-align: top;\n",
       "    }\n",
       "\n",
       "    .dataframe thead th {\n",
       "        text-align: right;\n",
       "    }\n",
       "</style>\n",
       "<table border=\"1\" class=\"dataframe\">\n",
       "  <thead>\n",
       "    <tr style=\"text-align: right;\">\n",
       "      <th></th>\n",
       "      <th>Country Name</th>\n",
       "      <th>Country Code</th>\n",
       "      <th>Indicator Name</th>\n",
       "      <th>Indicator Code</th>\n",
       "      <th>Year</th>\n",
       "      <th>porc_below_poverty_line</th>\n",
       "    </tr>\n",
       "  </thead>\n",
       "  <tbody>\n",
       "    <tr>\n",
       "      <th>0</th>\n",
       "      <td>None</td>\n",
       "      <td>AFE</td>\n",
       "      <td>Tasa de incidencia de la pobreza, sobre la bas...</td>\n",
       "      <td>SI.POV.NAHC</td>\n",
       "      <td>1993</td>\n",
       "      <td>None</td>\n",
       "    </tr>\n",
       "    <tr>\n",
       "      <th>1</th>\n",
       "      <td>Cabo Verde</td>\n",
       "      <td>CPV</td>\n",
       "      <td>Tasa de incidencia de la pobreza, sobre la bas...</td>\n",
       "      <td>SI.POV.NAHC</td>\n",
       "      <td>2016</td>\n",
       "      <td>None</td>\n",
       "    </tr>\n",
       "    <tr>\n",
       "      <th>2</th>\n",
       "      <td>Israel</td>\n",
       "      <td>ISR</td>\n",
       "      <td>Tasa de incidencia de la pobreza, sobre la bas...</td>\n",
       "      <td>SI.POV.NAHC</td>\n",
       "      <td>1988</td>\n",
       "      <td>None</td>\n",
       "    </tr>\n",
       "  </tbody>\n",
       "</table>\n",
       "</div>"
      ],
      "text/plain": [
       "  Country Name Country Code                                                                                       Indicator Name Indicator Code  Year porc_below_poverty_line\n",
       "0         None          AFE  Tasa de incidencia de la pobreza, sobre la base de la línea de pobreza nacional (% de la población)    SI.POV.NAHC  1993                    None\n",
       "1   Cabo Verde          CPV  Tasa de incidencia de la pobreza, sobre la base de la línea de pobreza nacional (% de la población)    SI.POV.NAHC  2016                    None\n",
       "2       Israel          ISR  Tasa de incidencia de la pobreza, sobre la base de la línea de pobreza nacional (% de la población)    SI.POV.NAHC  1988                    None"
      ]
     },
     "execution_count": 317,
     "metadata": {},
     "output_type": "execute_result"
    }
   ],
   "source": [
    "data_25.sample(False, 3/data_25.count(), seed=150).limit(3).pandas_api()\n",
    "#pocos datos ###VER###"
   ]
  },
  {
   "cell_type": "code",
   "execution_count": 318,
   "id": "715e121f-9dbf-4bb5-9a09-f1a77e36b5ab",
   "metadata": {
    "execution": {
     "iopub.execute_input": "2023-06-06T05:59:25.505993Z",
     "iopub.status.busy": "2023-06-06T05:59:25.505832Z",
     "iopub.status.idle": "2023-06-06T05:59:25.512770Z",
     "shell.execute_reply": "2023-06-06T05:59:25.512209Z",
     "shell.execute_reply.started": "2023-06-06T05:59:25.505976Z"
    },
    "tags": []
   },
   "outputs": [
    {
     "data": {
      "text/plain": [
       "['Country Code', 'Year', 'porc_below_poverty_line']"
      ]
     },
     "execution_count": 318,
     "metadata": {},
     "output_type": "execute_result"
    }
   ],
   "source": [
    "data_25 = data_25.drop(\"Country Name\",\"Indicator Name\",\"Indicator Code\")\n",
    "data_25.columns"
   ]
  },
  {
   "cell_type": "markdown",
   "id": "0f67a088-0eef-4d78-8b3a-157f119fa945",
   "metadata": {
    "execution": {
     "iopub.execute_input": "2023-06-04T15:15:55.647010Z",
     "iopub.status.busy": "2023-06-04T15:15:55.646752Z",
     "iopub.status.idle": "2023-06-04T15:15:55.652761Z",
     "shell.execute_reply": "2023-06-04T15:15:55.651962Z",
     "shell.execute_reply.started": "2023-06-04T15:15:55.646989Z"
    },
    "tags": []
   },
   "source": [
    "# Crecimiento del PIB per cápita (% anual)\n",
    "\n",
    "Tasa de crecimiento porcentual anual del PIB per cápita en moneda local, a precios constantes. El PIB per cápita es el producto interno bruto dividido por la población a mitad de año. El PIB a precio de comprador es la suma del valor agregado bruto de todos los productores residentes en la economía más todo impuesto a los productos, menos todo subsidio no incluido en el valor de los productos. Se calcula sin hacer deducciones por depreciación de bienes manufacturados o por agotamiento y degradación de recursos naturales.Los datos se expresan en dólares de los Estados Unidos a precios constantes del año 2010.\n",
    "\n",
    "https://datos.bancomundial.org/indicador/NY.GDP.PCAP.KD.ZG?view=chart"
   ]
  },
  {
   "cell_type": "code",
   "execution_count": 319,
   "id": "34863ba7-d710-4204-972c-fca8d8f10f13",
   "metadata": {
    "execution": {
     "iopub.execute_input": "2023-06-06T05:59:25.513651Z",
     "iopub.status.busy": "2023-06-06T05:59:25.513424Z",
     "iopub.status.idle": "2023-06-06T05:59:25.523099Z",
     "shell.execute_reply": "2023-06-06T05:59:25.522507Z",
     "shell.execute_reply.started": "2023-06-06T05:59:25.513629Z"
    },
    "tags": []
   },
   "outputs": [],
   "source": [
    "url_26 =\"https://api.worldbank.org/v2/es/indicator/NY.GDP.PCAP.KD.ZG?downloadformat=csv\""
   ]
  },
  {
   "cell_type": "code",
   "execution_count": 320,
   "id": "37083457-e915-4e97-9271-f99795870317",
   "metadata": {
    "execution": {
     "iopub.execute_input": "2023-06-06T05:59:25.523930Z",
     "iopub.status.busy": "2023-06-06T05:59:25.523769Z",
     "iopub.status.idle": "2023-06-06T05:59:26.854575Z",
     "shell.execute_reply": "2023-06-06T05:59:26.853804Z",
     "shell.execute_reply.started": "2023-06-06T05:59:25.523915Z"
    },
    "tags": []
   },
   "outputs": [],
   "source": [
    "response_url_26 = requests.get(url_26)"
   ]
  },
  {
   "cell_type": "code",
   "execution_count": 321,
   "id": "3876872e-7442-424a-9beb-029789eeb5c4",
   "metadata": {
    "execution": {
     "iopub.execute_input": "2023-06-06T05:59:26.855605Z",
     "iopub.status.busy": "2023-06-06T05:59:26.855432Z",
     "iopub.status.idle": "2023-06-06T05:59:26.862069Z",
     "shell.execute_reply": "2023-06-06T05:59:26.861491Z",
     "shell.execute_reply.started": "2023-06-06T05:59:26.855588Z"
    },
    "tags": []
   },
   "outputs": [
    {
     "name": "stdout",
     "output_type": "stream",
     "text": [
      "El archivo ZIP se ha descargado y descomprimido correctamente.\n"
     ]
    }
   ],
   "source": [
    "if response_url_26.status_code == 200:\n",
    "    # Crear un objeto ZipFile a partir de los datos de la respuesta\n",
    "    with zipfile.ZipFile(io.BytesIO(response_url_26.content), \"r\") as zip_url_26:\n",
    "        # Extraer todos los archivos del archivo ZIP en el directorio actual\n",
    "        zip_url_26.extractall(\"dataset\")\n",
    "\n",
    "    print(\"El archivo ZIP se ha descargado y descomprimido correctamente.\")\n",
    "else:\n",
    "    print(\"Error al descargar el archivo ZIP:\", response_url_26.status_code)"
   ]
  },
  {
   "cell_type": "code",
   "execution_count": 322,
   "id": "5fe4c5b5-aa34-4966-bb92-e1cec936e270",
   "metadata": {
    "execution": {
     "iopub.execute_input": "2023-06-06T05:59:26.862992Z",
     "iopub.status.busy": "2023-06-06T05:59:26.862787Z",
     "iopub.status.idle": "2023-06-06T05:59:26.867059Z",
     "shell.execute_reply": "2023-06-06T05:59:26.866443Z",
     "shell.execute_reply.started": "2023-06-06T05:59:26.862976Z"
    },
    "tags": []
   },
   "outputs": [],
   "source": [
    "import csv\n",
    "\n",
    "# Ruta del archivo CSV\n",
    "\n",
    "csv_url_26 = \"dataset/API_NY.GDP.PCAP.KD.ZG_DS2_es_csv_v2_5478754.csv\"\n",
    "\n",
    "# Crear una lista para almacenar las filas del archivo CSV\n",
    "rows_url_26 = []\n",
    "\n",
    "\n",
    "#API_SE.PRM.CMPT.ZS_DS2_es_csv_v2_5478942"
   ]
  },
  {
   "cell_type": "code",
   "execution_count": 323,
   "id": "06a9f928-c05f-4af9-8a92-2f2fba1d8f40",
   "metadata": {
    "execution": {
     "iopub.execute_input": "2023-06-06T05:59:26.868328Z",
     "iopub.status.busy": "2023-06-06T05:59:26.867967Z",
     "iopub.status.idle": "2023-06-06T05:59:26.883508Z",
     "shell.execute_reply": "2023-06-06T05:59:26.882856Z",
     "shell.execute_reply.started": "2023-06-06T05:59:26.868294Z"
    },
    "tags": []
   },
   "outputs": [],
   "source": [
    "# Leer el archivo CSV y almacenar las filas en la lista\n",
    "with open(csv_url_26, \"r\") as file_csv_url_26:\n",
    "    csv_reader_url_26 = csv.reader(file_csv_url_26)\n",
    "    rows_url_26 = list(csv_reader_url_26)\n"
   ]
  },
  {
   "cell_type": "code",
   "execution_count": 324,
   "id": "14465b82-d273-4a0d-8a7f-6942f3e40227",
   "metadata": {
    "execution": {
     "iopub.execute_input": "2023-06-06T05:59:26.884672Z",
     "iopub.status.busy": "2023-06-06T05:59:26.884367Z",
     "iopub.status.idle": "2023-06-06T05:59:26.895157Z",
     "shell.execute_reply": "2023-06-06T05:59:26.894592Z",
     "shell.execute_reply.started": "2023-06-06T05:59:26.884648Z"
    },
    "tags": []
   },
   "outputs": [],
   "source": [
    "# Eliminar las primeras 4 filas\n",
    "\n",
    "rows_url_26 = rows_url_26[4:]\n",
    "\n",
    "# Escribir las filas modificadas en un nuevo archivo CSV\n",
    "with open(\"dataset/data/dataset_26.csv\", \"w\", newline=\"\") as file_csv_url_26:\n",
    "    csv_writer_url_26 = csv.writer(file_csv_url_26)\n",
    "    csv_writer_url_26.writerows(rows_url_26)"
   ]
  },
  {
   "cell_type": "code",
   "execution_count": 325,
   "id": "9213e03f-128b-4f89-b342-837ae7d12b6f",
   "metadata": {
    "execution": {
     "iopub.execute_input": "2023-06-06T05:59:26.895904Z",
     "iopub.status.busy": "2023-06-06T05:59:26.895743Z",
     "iopub.status.idle": "2023-06-06T05:59:26.950779Z",
     "shell.execute_reply": "2023-06-06T05:59:26.950194Z",
     "shell.execute_reply.started": "2023-06-06T05:59:26.895889Z"
    },
    "tags": []
   },
   "outputs": [],
   "source": [
    "data_26 = spark.read.csv(\"dataset_26.csv\", header=True)"
   ]
  },
  {
   "cell_type": "code",
   "execution_count": 326,
   "id": "26322784-d03f-4677-888e-668bb597e2ed",
   "metadata": {
    "execution": {
     "iopub.execute_input": "2023-06-06T05:59:26.951918Z",
     "iopub.status.busy": "2023-06-06T05:59:26.951644Z",
     "iopub.status.idle": "2023-06-06T05:59:26.960195Z",
     "shell.execute_reply": "2023-06-06T05:59:26.959617Z",
     "shell.execute_reply.started": "2023-06-06T05:59:26.951894Z"
    },
    "tags": []
   },
   "outputs": [],
   "source": [
    "data_26 = data_26.drop(\"_c66\",\"_c67\")"
   ]
  },
  {
   "cell_type": "code",
   "execution_count": 327,
   "id": "722fe24e-ecc9-4b33-93f5-9f395f2ce4d5",
   "metadata": {
    "execution": {
     "iopub.execute_input": "2023-06-06T05:59:26.961216Z",
     "iopub.status.busy": "2023-06-06T05:59:26.960968Z",
     "iopub.status.idle": "2023-06-06T05:59:27.165394Z",
     "shell.execute_reply": "2023-06-06T05:59:27.164895Z",
     "shell.execute_reply.started": "2023-06-06T05:59:26.961192Z"
    },
    "tags": []
   },
   "outputs": [
    {
     "data": {
      "text/html": [
       "<div>\n",
       "<style scoped>\n",
       "    .dataframe tbody tr th:only-of-type {\n",
       "        vertical-align: middle;\n",
       "    }\n",
       "\n",
       "    .dataframe tbody tr th {\n",
       "        vertical-align: top;\n",
       "    }\n",
       "\n",
       "    .dataframe thead th {\n",
       "        text-align: right;\n",
       "    }\n",
       "</style>\n",
       "<table border=\"1\" class=\"dataframe\">\n",
       "  <thead>\n",
       "    <tr style=\"text-align: right;\">\n",
       "      <th></th>\n",
       "      <th>Country Name</th>\n",
       "      <th>Country Code</th>\n",
       "      <th>Indicator Name</th>\n",
       "      <th>Indicator Code</th>\n",
       "      <th>1960</th>\n",
       "      <th>1961</th>\n",
       "      <th>1962</th>\n",
       "      <th>1963</th>\n",
       "      <th>1964</th>\n",
       "      <th>1965</th>\n",
       "      <th>1966</th>\n",
       "      <th>1967</th>\n",
       "      <th>1968</th>\n",
       "      <th>1969</th>\n",
       "      <th>1970</th>\n",
       "      <th>1971</th>\n",
       "      <th>1972</th>\n",
       "      <th>1973</th>\n",
       "      <th>1974</th>\n",
       "      <th>1975</th>\n",
       "      <th>1976</th>\n",
       "      <th>1977</th>\n",
       "      <th>1978</th>\n",
       "      <th>1979</th>\n",
       "      <th>1980</th>\n",
       "      <th>1981</th>\n",
       "      <th>1982</th>\n",
       "      <th>1983</th>\n",
       "      <th>1984</th>\n",
       "      <th>1985</th>\n",
       "      <th>1986</th>\n",
       "      <th>1987</th>\n",
       "      <th>1988</th>\n",
       "      <th>1989</th>\n",
       "      <th>1990</th>\n",
       "      <th>1991</th>\n",
       "      <th>1992</th>\n",
       "      <th>1993</th>\n",
       "      <th>1994</th>\n",
       "      <th>1995</th>\n",
       "      <th>1996</th>\n",
       "      <th>1997</th>\n",
       "      <th>1998</th>\n",
       "      <th>1999</th>\n",
       "      <th>2000</th>\n",
       "      <th>2001</th>\n",
       "      <th>2002</th>\n",
       "      <th>2003</th>\n",
       "      <th>2004</th>\n",
       "      <th>2005</th>\n",
       "      <th>2006</th>\n",
       "      <th>2007</th>\n",
       "      <th>2008</th>\n",
       "      <th>2009</th>\n",
       "      <th>2010</th>\n",
       "      <th>2011</th>\n",
       "      <th>2012</th>\n",
       "      <th>2013</th>\n",
       "      <th>2014</th>\n",
       "      <th>2015</th>\n",
       "      <th>2016</th>\n",
       "      <th>2017</th>\n",
       "      <th>2018</th>\n",
       "      <th>2019</th>\n",
       "      <th>2020</th>\n",
       "      <th>2021</th>\n",
       "      <th>2022</th>\n",
       "    </tr>\n",
       "  </thead>\n",
       "  <tbody>\n",
       "    <tr>\n",
       "      <th>0</th>\n",
       "      <td>Aruba</td>\n",
       "      <td>ABW</td>\n",
       "      <td>Crecimiento del PIB per cápita (% anual)</td>\n",
       "      <td>NY.GDP.PCAP.KD.ZG</td>\n",
       "      <td>None</td>\n",
       "      <td>None</td>\n",
       "      <td>None</td>\n",
       "      <td>None</td>\n",
       "      <td>None</td>\n",
       "      <td>None</td>\n",
       "      <td>None</td>\n",
       "      <td>None</td>\n",
       "      <td>None</td>\n",
       "      <td>None</td>\n",
       "      <td>None</td>\n",
       "      <td>None</td>\n",
       "      <td>None</td>\n",
       "      <td>None</td>\n",
       "      <td>None</td>\n",
       "      <td>None</td>\n",
       "      <td>None</td>\n",
       "      <td>None</td>\n",
       "      <td>None</td>\n",
       "      <td>None</td>\n",
       "      <td>None</td>\n",
       "      <td>None</td>\n",
       "      <td>None</td>\n",
       "      <td>None</td>\n",
       "      <td>None</td>\n",
       "      <td>None</td>\n",
       "      <td>None</td>\n",
       "      <td>16.2639407353318</td>\n",
       "      <td>18.8662781416001</td>\n",
       "      <td>11.6715725749289</td>\n",
       "      <td>2.19580450971051</td>\n",
       "      <td>4.53931728266622</td>\n",
       "      <td>2.37064150750518</td>\n",
       "      <td>4.09261476333727</td>\n",
       "      <td>4.80035199531828</td>\n",
       "      <td>-0.567201753935393</td>\n",
       "      <td>-1.83002373800004</td>\n",
       "      <td>3.85474445102984</td>\n",
       "      <td>-1.02708952603501</td>\n",
       "      <td>-1.68953665272255</td>\n",
       "      <td>4.91835385108675</td>\n",
       "      <td>2.36919299315137</td>\n",
       "      <td>-2.134006060887</td>\n",
       "      <td>0.117317036422548</td>\n",
       "      <td>6.31877676516297</td>\n",
       "      <td>-1.37914839490475</td>\n",
       "      <td>-0.0490843651328845</td>\n",
       "      <td>1.83873074125837</td>\n",
       "      <td>0.577087557491993</td>\n",
       "      <td>-12.7660428841211</td>\n",
       "      <td>-3.82701299563932</td>\n",
       "      <td>2.40034245209328</td>\n",
       "      <td>-1.83397735596419</td>\n",
       "      <td>5.63531750282364</td>\n",
       "      <td>-0.709567170830184</td>\n",
       "      <td>2.88516618544072</td>\n",
       "      <td>1.51593791406077</td>\n",
       "      <td>4.91713876742246</td>\n",
       "      <td>4.73833114017752</td>\n",
       "      <td>0.181215791943856</td>\n",
       "      <td>-18.6983248900374</td>\n",
       "      <td>17.2253003168657</td>\n",
       "      <td>None</td>\n",
       "    </tr>\n",
       "    <tr>\n",
       "      <th>1</th>\n",
       "      <td>None</td>\n",
       "      <td>AFE</td>\n",
       "      <td>Crecimiento del PIB per cápita (% anual)</td>\n",
       "      <td>NY.GDP.PCAP.KD.ZG</td>\n",
       "      <td>None</td>\n",
       "      <td>-2.36009309307849</td>\n",
       "      <td>5.11213155041716</td>\n",
       "      <td>2.34603296692406</td>\n",
       "      <td>1.72825132841423</td>\n",
       "      <td>2.41855144484609</td>\n",
       "      <td>1.07018814600256</td>\n",
       "      <td>2.35805851973888</td>\n",
       "      <td>1.11265156396408</td>\n",
       "      <td>2.31279700654505</td>\n",
       "      <td>1.73175209827978</td>\n",
       "      <td>2.39047023895328</td>\n",
       "      <td>-0.696691317047112</td>\n",
       "      <td>1.49809420084335</td>\n",
       "      <td>2.81907458913334</td>\n",
       "      <td>-1.21028667292575</td>\n",
       "      <td>-0.114390862397272</td>\n",
       "      <td>-1.59471954451476</td>\n",
       "      <td>-1.91043997981032</td>\n",
       "      <td>-0.330075031335099</td>\n",
       "      <td>2.37936041329361</td>\n",
       "      <td>1.27369563721973</td>\n",
       "      <td>-2.53470140377524</td>\n",
       "      <td>-2.76734670272283</td>\n",
       "      <td>0.0730640742944786</td>\n",
       "      <td>-3.31517484647986</td>\n",
       "      <td>-0.706909874974571</td>\n",
       "      <td>1.14593673186863</td>\n",
       "      <td>1.06422626384158</td>\n",
       "      <td>0.063231054907618</td>\n",
       "      <td>-2.86037706819768</td>\n",
       "      <td>-2.60562090946952</td>\n",
       "      <td>-4.47952389209425</td>\n",
       "      <td>-2.96737099952324</td>\n",
       "      <td>-0.580264108057932</td>\n",
       "      <td>1.628756180678</td>\n",
       "      <td>2.66906474445234</td>\n",
       "      <td>1.80588905886579</td>\n",
       "      <td>-0.652243830755737</td>\n",
       "      <td>0.0903084878166425</td>\n",
       "      <td>0.750995727518642</td>\n",
       "      <td>1.03642073859993</td>\n",
       "      <td>1.26566153278462</td>\n",
       "      <td>0.466079711026453</td>\n",
       "      <td>2.78858920294005</td>\n",
       "      <td>3.36106865514503</td>\n",
       "      <td>3.75725646629159</td>\n",
       "      <td>3.71948950843135</td>\n",
       "      <td>1.49530847698216</td>\n",
       "      <td>-2.05372649707763</td>\n",
       "      <td>2.37374207253443</td>\n",
       "      <td>0.936366201114254</td>\n",
       "      <td>-1.91775331299382</td>\n",
       "      <td>1.4100493641305</td>\n",
       "      <td>1.22995929478684</td>\n",
       "      <td>0.0906019869672861</td>\n",
       "      <td>-0.235775006903822</td>\n",
       "      <td>-0.0157183331764656</td>\n",
       "      <td>-0.0755448262587493</td>\n",
       "      <td>-0.635728676015617</td>\n",
       "      <td>-5.57161969015738</td>\n",
       "      <td>1.74935984690359</td>\n",
       "      <td>None</td>\n",
       "    </tr>\n",
       "    <tr>\n",
       "      <th>2</th>\n",
       "      <td>Afganistán</td>\n",
       "      <td>AFG</td>\n",
       "      <td>Crecimiento del PIB per cápita (% anual)</td>\n",
       "      <td>NY.GDP.PCAP.KD.ZG</td>\n",
       "      <td>None</td>\n",
       "      <td>None</td>\n",
       "      <td>None</td>\n",
       "      <td>None</td>\n",
       "      <td>None</td>\n",
       "      <td>None</td>\n",
       "      <td>None</td>\n",
       "      <td>None</td>\n",
       "      <td>None</td>\n",
       "      <td>None</td>\n",
       "      <td>None</td>\n",
       "      <td>None</td>\n",
       "      <td>None</td>\n",
       "      <td>None</td>\n",
       "      <td>None</td>\n",
       "      <td>None</td>\n",
       "      <td>None</td>\n",
       "      <td>None</td>\n",
       "      <td>None</td>\n",
       "      <td>None</td>\n",
       "      <td>None</td>\n",
       "      <td>None</td>\n",
       "      <td>None</td>\n",
       "      <td>None</td>\n",
       "      <td>None</td>\n",
       "      <td>None</td>\n",
       "      <td>None</td>\n",
       "      <td>None</td>\n",
       "      <td>None</td>\n",
       "      <td>None</td>\n",
       "      <td>None</td>\n",
       "      <td>None</td>\n",
       "      <td>None</td>\n",
       "      <td>None</td>\n",
       "      <td>None</td>\n",
       "      <td>None</td>\n",
       "      <td>None</td>\n",
       "      <td>None</td>\n",
       "      <td>None</td>\n",
       "      <td>None</td>\n",
       "      <td>None</td>\n",
       "      <td>None</td>\n",
       "      <td>None</td>\n",
       "      <td>0.927029128491213</td>\n",
       "      <td>-2.49725463876793</td>\n",
       "      <td>7.32187384114641</td>\n",
       "      <td>1.08498820068206</td>\n",
       "      <td>11.8033826648298</td>\n",
       "      <td>1.86475446570947</td>\n",
       "      <td>17.1435343251686</td>\n",
       "      <td>11.0992199166219</td>\n",
       "      <td>-3.21136429567835</td>\n",
       "      <td>8.24714425211255</td>\n",
       "      <td>2.00252214522922</td>\n",
       "      <td>-0.964803329240652</td>\n",
       "      <td>-1.66641641520391</td>\n",
       "      <td>-0.345802496981889</td>\n",
       "      <td>-0.253593781811986</td>\n",
       "      <td>-1.68857659267114</td>\n",
       "      <td>0.932833388709597</td>\n",
       "      <td>-5.3646659309623</td>\n",
       "      <td>-22.965295860551</td>\n",
       "      <td>None</td>\n",
       "    </tr>\n",
       "  </tbody>\n",
       "</table>\n",
       "</div>"
      ],
      "text/plain": [
       "  Country Name Country Code                            Indicator Name     Indicator Code  1960               1961              1962              1963              1964              1965              1966              1967              1968              1969              1970              1971                1972              1973              1974               1975                1976               1977               1978                1979              1980              1981               1982               1983                1984               1985                1986              1987              1988               1989               1990               1991               1992               1993                1994                1995               1996              1997                1998                1999               2000              2001              2002               2003               2004               2005                 2006              2007               2008               2009               2010               2011               2012              2013                2014                2015                2016                 2017                 2018                2019               2020              2021  2022\n",
       "0        Aruba          ABW  Crecimiento del PIB per cápita (% anual)  NY.GDP.PCAP.KD.ZG  None               None              None              None              None              None              None              None              None              None              None              None                None              None              None               None                None               None               None                None              None              None               None               None                None               None                None  16.2639407353318  18.8662781416001   11.6715725749289   2.19580450971051   4.53931728266622   2.37064150750518   4.09261476333727    4.80035199531828  -0.567201753935393  -1.83002373800004  3.85474445102984   -1.02708952603501   -1.68953665272255   4.91835385108675  2.36919299315137   -2.134006060887  0.117317036422548   6.31877676516297  -1.37914839490475  -0.0490843651328845  1.83873074125837  0.577087557491993  -12.7660428841211  -3.82701299563932   2.40034245209328  -1.83397735596419  5.63531750282364  -0.709567170830184    2.88516618544072    1.51593791406077     4.91713876742246     4.73833114017752   0.181215791943856  -18.6983248900374  17.2253003168657  None\n",
       "1         None          AFE  Crecimiento del PIB per cápita (% anual)  NY.GDP.PCAP.KD.ZG  None  -2.36009309307849  5.11213155041716  2.34603296692406  1.72825132841423  2.41855144484609  1.07018814600256  2.35805851973888  1.11265156396408  2.31279700654505  1.73175209827978  2.39047023895328  -0.696691317047112  1.49809420084335  2.81907458913334  -1.21028667292575  -0.114390862397272  -1.59471954451476  -1.91043997981032  -0.330075031335099  2.37936041329361  1.27369563721973  -2.53470140377524  -2.76734670272283  0.0730640742944786  -3.31517484647986  -0.706909874974571  1.14593673186863  1.06422626384158  0.063231054907618  -2.86037706819768  -2.60562090946952  -4.47952389209425  -2.96737099952324  -0.580264108057932      1.628756180678   2.66906474445234  1.80588905886579  -0.652243830755737  0.0903084878166425  0.750995727518642  1.03642073859993  1.26566153278462  0.466079711026453   2.78858920294005   3.36106865514503     3.75725646629159  3.71948950843135   1.49530847698216  -2.05372649707763   2.37374207253443  0.936366201114254  -1.91775331299382   1.4100493641305    1.22995929478684  0.0906019869672861  -0.235775006903822  -0.0157183331764656  -0.0755448262587493  -0.635728676015617  -5.57161969015738  1.74935984690359  None\n",
       "2   Afganistán          AFG  Crecimiento del PIB per cápita (% anual)  NY.GDP.PCAP.KD.ZG  None               None              None              None              None              None              None              None              None              None              None              None                None              None              None               None                None               None               None                None              None              None               None               None                None               None                None              None              None               None               None               None               None               None                None                None               None              None                None                None               None              None              None  0.927029128491213  -2.49725463876793   7.32187384114641     1.08498820068206  11.8033826648298   1.86475446570947   17.1435343251686   11.0992199166219  -3.21136429567835   8.24714425211255  2.00252214522922  -0.964803329240652   -1.66641641520391  -0.345802496981889   -0.253593781811986    -1.68857659267114   0.932833388709597   -5.3646659309623  -22.965295860551  None"
      ]
     },
     "execution_count": 327,
     "metadata": {},
     "output_type": "execute_result"
    }
   ],
   "source": [
    "data_26.limit(3).pandas_api()"
   ]
  },
  {
   "cell_type": "code",
   "execution_count": 328,
   "id": "87b3dceb-749d-457c-b624-71035dc6e01a",
   "metadata": {
    "execution": {
     "iopub.execute_input": "2023-06-06T05:59:27.166189Z",
     "iopub.status.busy": "2023-06-06T05:59:27.166024Z",
     "iopub.status.idle": "2023-06-06T05:59:27.176335Z",
     "shell.execute_reply": "2023-06-06T05:59:27.175733Z",
     "shell.execute_reply.started": "2023-06-06T05:59:27.166173Z"
    },
    "tags": []
   },
   "outputs": [],
   "source": [
    "data_26 = data_26.selectExpr('`Country Name`', '`Country Code`', \"`Indicator Name`\", \"`Indicator Code`\", \"stack(63, \\\n",
    "'1960', `1960`, '1961', `1961`, '1962', `1962`, '1963', `1963`, '1964', `1964`, \\\n",
    "'1965', `1965`, '1966', `1966`, '1967', `1967`, '1968', `1968`, '1969', `1969`, \\\n",
    "'1970', `1970`, '1971', `1971`, '1972', `1972`, '1973', `1973`, '1974', `1974`, \\\n",
    "'1975', `1975`, '1976', `1976`, '1977', `1977`, '1978', `1978`, '1979', `1979`, \\\n",
    "'1980', `1980`, '1981', `1981`, '1982', `1982`, '1983', `1983`, '1984', `1984`, \\\n",
    "'1985', `1985`, '1986', `1986`, '1987', `1987`, '1988', `1988`, '1989', `1989`, \\\n",
    "'1990', `1990`, '1991', `1991`, '1992', `1992`, '1993', `1993`, '1994', `1994`, \\\n",
    "'1995', `1995`, '1996', `1996`, '1997', `1997`, '1998', `1998`, '1999', `1999`, \\\n",
    "'2010', `2010`, '2011', `2011`, '2012', `2012`, '2013', `2013`, '2014', `2014`, \\\n",
    "'2015', `2015`, '2016', `2016`, '2017', `2017`, '2018', `2018`, '2019', `2019`, \\\n",
    "'2010', `2010`, '2011', `2011`, '2012', `2012`, '2013', `2013`, '2014', `2014`, \\\n",
    "'2015', `2015`, '2016', `2016`, '2017', `2017`, '2018', `2018`, '2019', `2019`, \\\n",
    "'2020', `2020`, '2021', `2021`, '2022', `2022`) as (Year, PIB_growth_per_capita)\")"
   ]
  },
  {
   "cell_type": "code",
   "execution_count": 329,
   "id": "b7116114-180e-4335-8161-ee15dbf451df",
   "metadata": {
    "execution": {
     "iopub.execute_input": "2023-06-06T05:59:27.177394Z",
     "iopub.status.busy": "2023-06-06T05:59:27.177153Z",
     "iopub.status.idle": "2023-06-06T05:59:27.394192Z",
     "shell.execute_reply": "2023-06-06T05:59:27.393559Z",
     "shell.execute_reply.started": "2023-06-06T05:59:27.177370Z"
    },
    "tags": []
   },
   "outputs": [
    {
     "data": {
      "text/html": [
       "<div>\n",
       "<style scoped>\n",
       "    .dataframe tbody tr th:only-of-type {\n",
       "        vertical-align: middle;\n",
       "    }\n",
       "\n",
       "    .dataframe tbody tr th {\n",
       "        vertical-align: top;\n",
       "    }\n",
       "\n",
       "    .dataframe thead th {\n",
       "        text-align: right;\n",
       "    }\n",
       "</style>\n",
       "<table border=\"1\" class=\"dataframe\">\n",
       "  <thead>\n",
       "    <tr style=\"text-align: right;\">\n",
       "      <th></th>\n",
       "      <th>Country Name</th>\n",
       "      <th>Country Code</th>\n",
       "      <th>Indicator Name</th>\n",
       "      <th>Indicator Code</th>\n",
       "      <th>Year</th>\n",
       "      <th>PIB_growth_per_capita</th>\n",
       "    </tr>\n",
       "  </thead>\n",
       "  <tbody>\n",
       "    <tr>\n",
       "      <th>0</th>\n",
       "      <td>None</td>\n",
       "      <td>AFE</td>\n",
       "      <td>Crecimiento del PIB per cápita (% anual)</td>\n",
       "      <td>NY.GDP.PCAP.KD.ZG</td>\n",
       "      <td>1993</td>\n",
       "      <td>-2.96737099952324</td>\n",
       "    </tr>\n",
       "    <tr>\n",
       "      <th>1</th>\n",
       "      <td>Cabo Verde</td>\n",
       "      <td>CPV</td>\n",
       "      <td>Crecimiento del PIB per cápita (% anual)</td>\n",
       "      <td>NY.GDP.PCAP.KD.ZG</td>\n",
       "      <td>2016</td>\n",
       "      <td>3.53796436657309</td>\n",
       "    </tr>\n",
       "    <tr>\n",
       "      <th>2</th>\n",
       "      <td>Israel</td>\n",
       "      <td>ISR</td>\n",
       "      <td>Crecimiento del PIB per cápita (% anual)</td>\n",
       "      <td>NY.GDP.PCAP.KD.ZG</td>\n",
       "      <td>1988</td>\n",
       "      <td>None</td>\n",
       "    </tr>\n",
       "  </tbody>\n",
       "</table>\n",
       "</div>"
      ],
      "text/plain": [
       "  Country Name Country Code                            Indicator Name     Indicator Code  Year PIB_growth_per_capita\n",
       "0         None          AFE  Crecimiento del PIB per cápita (% anual)  NY.GDP.PCAP.KD.ZG  1993     -2.96737099952324\n",
       "1   Cabo Verde          CPV  Crecimiento del PIB per cápita (% anual)  NY.GDP.PCAP.KD.ZG  2016      3.53796436657309\n",
       "2       Israel          ISR  Crecimiento del PIB per cápita (% anual)  NY.GDP.PCAP.KD.ZG  1988                  None"
      ]
     },
     "execution_count": 329,
     "metadata": {},
     "output_type": "execute_result"
    }
   ],
   "source": [
    "data_26.sample(False, 3/data_26.count(), seed=150).limit(3).pandas_api()"
   ]
  },
  {
   "cell_type": "code",
   "execution_count": 330,
   "id": "ceb8baa9-9ec8-4dfc-9753-cb663ae21c52",
   "metadata": {
    "execution": {
     "iopub.execute_input": "2023-06-06T05:59:27.395247Z",
     "iopub.status.busy": "2023-06-06T05:59:27.395027Z",
     "iopub.status.idle": "2023-06-06T05:59:27.461183Z",
     "shell.execute_reply": "2023-06-06T05:59:27.460618Z",
     "shell.execute_reply.started": "2023-06-06T05:59:27.395224Z"
    },
    "tags": []
   },
   "outputs": [
    {
     "data": {
      "text/plain": [
       "16758"
      ]
     },
     "execution_count": 330,
     "metadata": {},
     "output_type": "execute_result"
    }
   ],
   "source": [
    "data_26.count()"
   ]
  },
  {
   "cell_type": "code",
   "execution_count": 331,
   "id": "bb6d4717-bf57-488e-b571-d2c7ce5219c5",
   "metadata": {
    "execution": {
     "iopub.execute_input": "2023-06-06T05:59:27.461970Z",
     "iopub.status.busy": "2023-06-06T05:59:27.461800Z",
     "iopub.status.idle": "2023-06-06T05:59:27.469379Z",
     "shell.execute_reply": "2023-06-06T05:59:27.468691Z",
     "shell.execute_reply.started": "2023-06-06T05:59:27.461954Z"
    },
    "tags": []
   },
   "outputs": [
    {
     "data": {
      "text/plain": [
       "['Country Code', 'Year', 'PIB_growth_per_capita']"
      ]
     },
     "execution_count": 331,
     "metadata": {},
     "output_type": "execute_result"
    }
   ],
   "source": [
    "data_26 = data_26.drop(\"Country Name\",\"Indicator Name\",\"Indicator Code\")\n",
    "data_26.columns"
   ]
  },
  {
   "cell_type": "code",
   "execution_count": null,
   "id": "313fce02-5776-488f-8667-ccdc86dd2c5b",
   "metadata": {},
   "outputs": [],
   "source": []
  },
  {
   "cell_type": "code",
   "execution_count": 332,
   "id": "21d7f1a6-8fc9-41ba-86ee-540621cb5be3",
   "metadata": {
    "execution": {
     "iopub.execute_input": "2023-06-06T05:59:27.470831Z",
     "iopub.status.busy": "2023-06-06T05:59:27.470519Z",
     "iopub.status.idle": "2023-06-06T05:59:27.475602Z",
     "shell.execute_reply": "2023-06-06T05:59:27.474992Z",
     "shell.execute_reply.started": "2023-06-06T05:59:27.470803Z"
    },
    "tags": []
   },
   "outputs": [],
   "source": [
    "americans_countries = ['Argentina', 'Bahamas', 'Belice', 'Bolivia', 'Brasil', 'Canadá', 'Chile', 'Colombia', 'Costa Rica', 'Cuba', \\\n",
    "                     'Dominica', 'Ecuador', 'El Salvador', 'Estados Unidos', 'Granada', 'Guatemala', 'Guyana', 'Haití', 'Honduras', \\\n",
    "                     'Jamaica', 'México', 'Nicaragua', 'Panamá', 'Paraguay', 'Perú', 'República Dominicana', 'San Vicente y las Granadinas', \\\n",
    "                     'Santa Lucía', 'Suriname', 'Trinidad y Tobago', 'Uruguay', 'Venezuela']\n",
    "oceanic_countries = ['Australia', 'Fiyi', 'Islas Marshall', 'Islas Salomón', 'Kiribati', 'Micronesia (Estados Federados de)', 'Nauru', \\\n",
    "                 'Nueva Zelanda', 'Palaos', 'Papúa Nueva Guinea', 'Samoa', 'Tonga', 'Tuvalu', 'Vanuatu']\n"
   ]
  },
  {
   "cell_type": "code",
   "execution_count": 333,
   "id": "e5921223-0de6-4367-b706-e28e3b26c058",
   "metadata": {
    "execution": {
     "iopub.execute_input": "2023-06-06T05:59:27.476628Z",
     "iopub.status.busy": "2023-06-06T05:59:27.476425Z",
     "iopub.status.idle": "2023-06-06T05:59:27.489459Z",
     "shell.execute_reply": "2023-06-06T05:59:27.488804Z",
     "shell.execute_reply.started": "2023-06-06T05:59:27.476611Z"
    },
    "tags": []
   },
   "outputs": [],
   "source": [
    "from pyspark.sql.functions import col"
   ]
  },
  {
   "cell_type": "code",
   "execution_count": 334,
   "id": "7f88976a-624e-4c37-9d17-a85197217913",
   "metadata": {
    "execution": {
     "iopub.execute_input": "2023-06-06T05:59:27.490661Z",
     "iopub.status.busy": "2023-06-06T05:59:27.490377Z",
     "iopub.status.idle": "2023-06-06T05:59:27.691671Z",
     "shell.execute_reply": "2023-06-06T05:59:27.691072Z",
     "shell.execute_reply.started": "2023-06-06T05:59:27.490638Z"
    },
    "tags": []
   },
   "outputs": [],
   "source": [
    "data_000 = data_00.join(data_01, [\"Year\", \"Country Code\"], \"fullouter\") \\\n",
    "    .join(data_02, [\"Year\", \"Country Code\"], \"fullouter\") \\\n",
    "    .join(data_03, [\"Year\", \"Country Code\"], \"fullouter\") \\\n",
    "    .join(data_04, [\"Year\", \"Country Code\"], \"fullouter\") \\\n",
    "    .join(data_05, [\"Year\", \"Country Code\"], \"fullouter\") \\\n",
    "    .join(data_06, [\"Year\", \"Country Code\"], \"fullouter\") \\\n",
    "    .join(data_07, [\"Year\", \"Country Code\"], \"fullouter\") \\\n",
    "    .join(data_08, [\"Year\", \"Country Code\"], \"fullouter\") \\\n",
    "    .join(data_09, [\"Year\", \"Country Code\"], \"fullouter\") \\\n",
    "    .join(data_10, [\"Year\", \"Country Code\"], \"fullouter\")\n",
    "data_000 = data_000.filter(col(\"Country Name\").isin(americans_countries) | col(\"Country Name\").isin(oceanic_countries))\n",
    "data_000 = data_000.filter(col(\"Year\") >= \"1985\")\n",
    "data_000 = data_000.drop_duplicates()   "
   ]
  },
  {
   "cell_type": "code",
   "execution_count": 335,
   "id": "ebdc4fc6-a3d2-4bbf-9a49-537a247a4009",
   "metadata": {
    "execution": {
     "iopub.execute_input": "2023-06-06T05:59:27.692506Z",
     "iopub.status.busy": "2023-06-06T05:59:27.692348Z",
     "iopub.status.idle": "2023-06-06T05:59:27.696935Z",
     "shell.execute_reply": "2023-06-06T05:59:27.696341Z",
     "shell.execute_reply.started": "2023-06-06T05:59:27.692490Z"
    },
    "tags": []
   },
   "outputs": [
    {
     "data": {
      "text/plain": [
       "['Year',\n",
       " 'Country Code',\n",
       " 'Country Name',\n",
       " 'life_expatancy',\n",
       " 'life_expatancy_male',\n",
       " 'life_expatancy_female',\n",
       " 'ratio_mort_neonatal',\n",
       " 'ratio_mort_one_year',\n",
       " 'ratio_mort_five_year',\n",
       " 'ratio_maternal_mort',\n",
       " 'ratio_mort_in_year',\n",
       " 'ratio_poblation_0_14_year',\n",
       " 'ratio_poblation_15_64_year',\n",
       " 'ratio_poblation_more_64_year']"
      ]
     },
     "execution_count": 335,
     "metadata": {},
     "output_type": "execute_result"
    }
   ],
   "source": [
    "data_000.columns"
   ]
  },
  {
   "cell_type": "code",
   "execution_count": 336,
   "id": "97d4dce5-dd27-400a-b0eb-9888fec5adba",
   "metadata": {
    "execution": {
     "iopub.execute_input": "2023-06-06T05:59:27.697774Z",
     "iopub.status.busy": "2023-06-06T05:59:27.697568Z",
     "iopub.status.idle": "2023-06-06T05:59:29.275013Z",
     "shell.execute_reply": "2023-06-06T05:59:29.274378Z",
     "shell.execute_reply.started": "2023-06-06T05:59:27.697758Z"
    },
    "tags": []
   },
   "outputs": [
    {
     "data": {
      "text/plain": [
       "1596"
      ]
     },
     "execution_count": 336,
     "metadata": {},
     "output_type": "execute_result"
    }
   ],
   "source": [
    "data_000.count()"
   ]
  },
  {
   "cell_type": "code",
   "execution_count": 337,
   "id": "0421a034-703f-47d6-8602-7d3fc36ccd0c",
   "metadata": {
    "execution": {
     "iopub.execute_input": "2023-06-06T05:59:29.275910Z",
     "iopub.status.busy": "2023-06-06T05:59:29.275726Z",
     "iopub.status.idle": "2023-06-06T05:59:29.278984Z",
     "shell.execute_reply": "2023-06-06T05:59:29.278323Z",
     "shell.execute_reply.started": "2023-06-06T05:59:29.275893Z"
    },
    "tags": []
   },
   "outputs": [],
   "source": [
    "data = data_000"
   ]
  },
  {
   "cell_type": "code",
   "execution_count": 338,
   "id": "adb9d7a2-23d5-425f-b724-828c430c5265",
   "metadata": {
    "execution": {
     "iopub.execute_input": "2023-06-06T05:59:29.279936Z",
     "iopub.status.busy": "2023-06-06T05:59:29.279664Z",
     "iopub.status.idle": "2023-06-06T05:59:29.289165Z",
     "shell.execute_reply": "2023-06-06T05:59:29.288589Z",
     "shell.execute_reply.started": "2023-06-06T05:59:29.279912Z"
    },
    "tags": []
   },
   "outputs": [
    {
     "data": {
      "text/plain": [
       "['Year',\n",
       " 'Country Code',\n",
       " 'Country Name',\n",
       " 'life_expatancy',\n",
       " 'life_expatancy_male',\n",
       " 'life_expatancy_female',\n",
       " 'ratio_mort_neonatal',\n",
       " 'ratio_mort_one_year',\n",
       " 'ratio_mort_five_year',\n",
       " 'ratio_maternal_mort',\n",
       " 'ratio_mort_in_year',\n",
       " 'ratio_poblation_0_14_year',\n",
       " 'ratio_poblation_15_64_year',\n",
       " 'ratio_poblation_more_64_year']"
      ]
     },
     "execution_count": 338,
     "metadata": {},
     "output_type": "execute_result"
    }
   ],
   "source": [
    "data.columns"
   ]
  },
  {
   "cell_type": "code",
   "execution_count": 340,
   "id": "ef5b7d75-19e4-45e5-8ea2-25f71b6fea68",
   "metadata": {
    "execution": {
     "iopub.execute_input": "2023-06-06T06:00:11.266039Z",
     "iopub.status.busy": "2023-06-06T06:00:11.265841Z",
     "iopub.status.idle": "2023-06-06T06:00:12.204568Z",
     "shell.execute_reply": "2023-06-06T06:00:12.203920Z",
     "shell.execute_reply.started": "2023-06-06T06:00:11.266023Z"
    },
    "tags": []
   },
   "outputs": [],
   "source": [
    "data_000.coalesce(1).write.option(\"header\", \"true\").csv(\"life_expectancy_part1__\")"
   ]
  },
  {
   "cell_type": "code",
   "execution_count": 341,
   "id": "0d972288-2298-406a-b355-e7036a756008",
   "metadata": {
    "execution": {
     "iopub.execute_input": "2023-06-06T06:00:15.380574Z",
     "iopub.status.busy": "2023-06-06T06:00:15.379413Z",
     "iopub.status.idle": "2023-06-06T06:00:15.654779Z",
     "shell.execute_reply": "2023-06-06T06:00:15.654187Z",
     "shell.execute_reply.started": "2023-06-06T06:00:15.380461Z"
    },
    "tags": []
   },
   "outputs": [],
   "source": [
    "data_001 = data.join(data_11, [\"Year\", \"Country Code\"], \"fullouter\") \\\n",
    "    .join(data_12, [\"Year\", \"Country Code\"], \"fullouter\") \\\n",
    "    .join(data_13, [\"Year\", \"Country Code\"], \"fullouter\") \\\n",
    "    .join(data_14, [\"Year\", \"Country Code\"], \"fullouter\") \\\n",
    "    .join(data_15, [\"Year\", \"Country Code\"], \"fullouter\") \\\n",
    "    .join(data_16, [\"Year\", \"Country Code\"], \"fullouter\") \\\n",
    "    .join(data_17, [\"Year\", \"Country Code\"], \"fullouter\") \\\n",
    "    .join(data_18, [\"Year\", \"Country Code\"], \"fullouter\") \\\n",
    "    .join(data_19, [\"Year\", \"Country Code\"], \"fullouter\") \\\n",
    "    .join(data_20, [\"Year\", \"Country Code\"], \"fullouter\") \n",
    "data_001 = data_001.filter(col(\"Country Name\").isin(americans_countries) | col(\"Country Name\").isin(oceanic_countries))\n",
    "data_001 = data_001.filter(col(\"Year\") >= \"1985\")\n",
    "data_001 = data_001.drop_duplicates()   "
   ]
  },
  {
   "cell_type": "code",
   "execution_count": 342,
   "id": "d34e046e-3df5-488c-98a7-b6a344cbe0c0",
   "metadata": {
    "execution": {
     "iopub.execute_input": "2023-06-06T06:00:15.978160Z",
     "iopub.status.busy": "2023-06-06T06:00:15.977046Z",
     "iopub.status.idle": "2023-06-06T06:00:15.991695Z",
     "shell.execute_reply": "2023-06-06T06:00:15.990617Z",
     "shell.execute_reply.started": "2023-06-06T06:00:15.978053Z"
    },
    "tags": []
   },
   "outputs": [
    {
     "data": {
      "text/plain": [
       "['Year',\n",
       " 'Country Code',\n",
       " 'Country Name',\n",
       " 'life_expatancy',\n",
       " 'life_expatancy_male',\n",
       " 'life_expatancy_female',\n",
       " 'ratio_mort_neonatal',\n",
       " 'ratio_mort_one_year',\n",
       " 'ratio_mort_five_year',\n",
       " 'ratio_maternal_mort',\n",
       " 'ratio_mort_in_year',\n",
       " 'ratio_poblation_0_14_year',\n",
       " 'ratio_poblation_15_64_year',\n",
       " 'ratio_poblation_more_64_year',\n",
       " 'ratio_population_growth',\n",
       " 'ratio_mortality_CVD_cancer_diabetes_CRD',\n",
       " 'ratio_infectious_diseases',\n",
       " 'porc_prev_malnutrition',\n",
       " 'doctor_1000_people',\n",
       " 'bed_1000_people',\n",
       " 'porc_water_service',\n",
       " 'porc_sanitation_services',\n",
       " 'porc_electricity',\n",
       " 'porc_internet']"
      ]
     },
     "execution_count": 342,
     "metadata": {},
     "output_type": "execute_result"
    }
   ],
   "source": [
    "data_001.columns"
   ]
  },
  {
   "cell_type": "code",
   "execution_count": 343,
   "id": "9f66b8ad-a168-455e-b1b0-d580fbebc0de",
   "metadata": {
    "execution": {
     "iopub.execute_input": "2023-06-06T06:00:16.617269Z",
     "iopub.status.busy": "2023-06-06T06:00:16.616657Z",
     "iopub.status.idle": "2023-06-06T06:00:18.794718Z",
     "shell.execute_reply": "2023-06-06T06:00:18.793920Z",
     "shell.execute_reply.started": "2023-06-06T06:00:16.617215Z"
    },
    "tags": []
   },
   "outputs": [
    {
     "name": "stderr",
     "output_type": "stream",
     "text": [
      "                                                                                \r"
     ]
    },
    {
     "data": {
      "text/plain": [
       "1596"
      ]
     },
     "execution_count": 343,
     "metadata": {},
     "output_type": "execute_result"
    }
   ],
   "source": [
    "data_001.count()"
   ]
  },
  {
   "cell_type": "code",
   "execution_count": 344,
   "id": "2f341765-3db6-4e05-ba8e-44c8473b1e20",
   "metadata": {
    "execution": {
     "iopub.execute_input": "2023-06-06T06:00:18.796619Z",
     "iopub.status.busy": "2023-06-06T06:00:18.796181Z",
     "iopub.status.idle": "2023-06-06T06:00:19.043005Z",
     "shell.execute_reply": "2023-06-06T06:00:19.042339Z",
     "shell.execute_reply.started": "2023-06-06T06:00:18.796589Z"
    },
    "tags": []
   },
   "outputs": [],
   "source": [
    "data_002 = data_001.join(data_22, [\"Year\", \"Country Code\"], \"fullouter\") \\\n",
    "    .join(data_23, [\"Year\", \"Country Code\"], \"fullouter\") \\\n",
    "    .join(data_24, [\"Year\", \"Country Code\"], \"fullouter\") \\\n",
    "    .join(data_25, [\"Year\", \"Country Code\"], \"fullouter\") \\\n",
    "    .join(data_26, [\"Year\", \"Country Code\"], \"fullouter\")\n",
    "data_002 = data_002.filter(col(\"Country Name\").isin(americans_countries) | col(\"Country Name\").isin(oceanic_countries))\n",
    "data_002 = data_002.filter(col(\"Year\") >= \"1985\")\n",
    "data_002 = data_002.drop_duplicates()   "
   ]
  },
  {
   "cell_type": "code",
   "execution_count": 345,
   "id": "0b74125c-c105-4b77-bdbf-d40b17340e96",
   "metadata": {
    "execution": {
     "iopub.execute_input": "2023-06-06T06:00:19.044431Z",
     "iopub.status.busy": "2023-06-06T06:00:19.043901Z",
     "iopub.status.idle": "2023-06-06T06:00:19.050434Z",
     "shell.execute_reply": "2023-06-06T06:00:19.049391Z",
     "shell.execute_reply.started": "2023-06-06T06:00:19.044405Z"
    },
    "tags": []
   },
   "outputs": [
    {
     "data": {
      "text/plain": [
       "['Year',\n",
       " 'Country Code',\n",
       " 'Country Name',\n",
       " 'life_expatancy',\n",
       " 'life_expatancy_male',\n",
       " 'life_expatancy_female',\n",
       " 'ratio_mort_neonatal',\n",
       " 'ratio_mort_one_year',\n",
       " 'ratio_mort_five_year',\n",
       " 'ratio_maternal_mort',\n",
       " 'ratio_mort_in_year',\n",
       " 'ratio_poblation_0_14_year',\n",
       " 'ratio_poblation_15_64_year',\n",
       " 'ratio_poblation_more_64_year',\n",
       " 'ratio_population_growth',\n",
       " 'ratio_mortality_CVD_cancer_diabetes_CRD',\n",
       " 'ratio_infectious_diseases',\n",
       " 'porc_prev_malnutrition',\n",
       " 'doctor_1000_people',\n",
       " 'bed_1000_people',\n",
       " 'porc_water_service',\n",
       " 'porc_sanitation_services',\n",
       " 'porc_electricity',\n",
       " 'porc_internet',\n",
       " 'porc_secundary_school_compl',\n",
       " 'porc_literacy',\n",
       " 'porc_unemployment',\n",
       " 'porc_below_poverty_line',\n",
       " 'PIB_growth_per_capita']"
      ]
     },
     "execution_count": 345,
     "metadata": {},
     "output_type": "execute_result"
    }
   ],
   "source": [
    "data_002.columns"
   ]
  },
  {
   "cell_type": "code",
   "execution_count": 346,
   "id": "9ad2e8ff-4af8-4bcc-b6f0-cc46c4ca30e7",
   "metadata": {
    "execution": {
     "iopub.execute_input": "2023-06-06T06:00:19.052037Z",
     "iopub.status.busy": "2023-06-06T06:00:19.051791Z",
     "iopub.status.idle": "2023-06-06T06:00:21.632393Z",
     "shell.execute_reply": "2023-06-06T06:00:21.631754Z",
     "shell.execute_reply.started": "2023-06-06T06:00:19.052014Z"
    },
    "tags": []
   },
   "outputs": [
    {
     "name": "stderr",
     "output_type": "stream",
     "text": [
      "                                                                                \r"
     ]
    },
    {
     "data": {
      "text/plain": [
       "1596"
      ]
     },
     "execution_count": 346,
     "metadata": {},
     "output_type": "execute_result"
    }
   ],
   "source": [
    "data_002.count()"
   ]
  },
  {
   "cell_type": "code",
   "execution_count": 347,
   "id": "d1ec39c7-9fb9-4c53-a64b-f10f429971cf",
   "metadata": {
    "execution": {
     "iopub.execute_input": "2023-06-06T06:00:21.634250Z",
     "iopub.status.busy": "2023-06-06T06:00:21.633864Z",
     "iopub.status.idle": "2023-06-06T06:00:23.955888Z",
     "shell.execute_reply": "2023-06-06T06:00:23.955159Z",
     "shell.execute_reply.started": "2023-06-06T06:00:21.634220Z"
    },
    "tags": []
   },
   "outputs": [],
   "source": [
    "data_002.coalesce(1).write.option(\"header\", \"true\").mode(\"overwrite\").csv(\"csv_\")"
   ]
  },
  {
   "cell_type": "code",
   "execution_count": 348,
   "id": "ad905b74-b046-4c47-ba04-a34b3e117f7e",
   "metadata": {
    "execution": {
     "iopub.execute_input": "2023-06-06T06:00:29.315751Z",
     "iopub.status.busy": "2023-06-06T06:00:29.315066Z",
     "iopub.status.idle": "2023-06-06T06:00:29.761373Z",
     "shell.execute_reply": "2023-06-06T06:00:29.760758Z",
     "shell.execute_reply.started": "2023-06-06T06:00:29.315730Z"
    },
    "tags": []
   },
   "outputs": [],
   "source": [
    "data_ = data_00.join(data_01, [\"Year\", \"Country Code\"], \"fullouter\") \\\n",
    "    .join(data_02, [\"Year\", \"Country Code\"], \"fullouter\") \\\n",
    "    .join(data_03, [\"Year\", \"Country Code\"], \"fullouter\") \\\n",
    "    .join(data_04, [\"Year\", \"Country Code\"], \"fullouter\") \\\n",
    "    .join(data_05, [\"Year\", \"Country Code\"], \"fullouter\") \\\n",
    "    .join(data_06, [\"Year\", \"Country Code\"], \"fullouter\") \\\n",
    "    .join(data_07, [\"Year\", \"Country Code\"], \"fullouter\") \\\n",
    "    .join(data_08, [\"Year\", \"Country Code\"], \"fullouter\") \\\n",
    "    .join(data_09, [\"Year\", \"Country Code\"], \"fullouter\") \\\n",
    "    .join(data_10, [\"Year\", \"Country Code\"], \"fullouter\") \\\n",
    "    .join(data_11, [\"Year\", \"Country Code\"], \"fullouter\") \\\n",
    "    .join(data_12, [\"Year\", \"Country Code\"], \"fullouter\") \\\n",
    "    .join(data_13, [\"Year\", \"Country Code\"], \"fullouter\") \\\n",
    "    .join(data_14, [\"Year\", \"Country Code\"], \"fullouter\") \\\n",
    "    .join(data_15, [\"Year\", \"Country Code\"], \"fullouter\") \\\n",
    "    .join(data_16, [\"Year\", \"Country Code\"], \"fullouter\") \\\n",
    "    .join(data_17, [\"Year\", \"Country Code\"], \"fullouter\") \\\n",
    "    .join(data_18, [\"Year\", \"Country Code\"], \"fullouter\") \\\n",
    "    .join(data_19, [\"Year\", \"Country Code\"], \"fullouter\") \\\n",
    "    .join(data_20, [\"Year\", \"Country Code\"], \"fullouter\") \\\n",
    "    .join(data_22, [\"Year\", \"Country Code\"], \"fullouter\") \\\n",
    "    .join(data_23, [\"Year\", \"Country Code\"], \"fullouter\") \\\n",
    "    .join(data_24, [\"Year\", \"Country Code\"], \"fullouter\") \\\n",
    "    .join(data_25, [\"Year\", \"Country Code\"], \"fullouter\") \\\n",
    "    .join(data_26, [\"Year\", \"Country Code\"], \"fullouter\")"
   ]
  },
  {
   "cell_type": "code",
   "execution_count": 349,
   "id": "7f066c3a-21a2-4e14-b08f-e626bea31f09",
   "metadata": {
    "execution": {
     "iopub.execute_input": "2023-06-06T06:00:40.642049Z",
     "iopub.status.busy": "2023-06-06T06:00:40.641820Z",
     "iopub.status.idle": "2023-06-06T06:00:40.655491Z",
     "shell.execute_reply": "2023-06-06T06:00:40.654957Z",
     "shell.execute_reply.started": "2023-06-06T06:00:40.642033Z"
    },
    "tags": []
   },
   "outputs": [],
   "source": [
    "data_ = data_.drop_duplicates()   "
   ]
  },
  {
   "cell_type": "code",
   "execution_count": null,
   "id": "d5dc8a2f-e2d9-4d01-8a24-cf3b550f380c",
   "metadata": {
    "tags": []
   },
   "outputs": [],
   "source": [
    "data_.count()"
   ]
  },
  {
   "cell_type": "code",
   "execution_count": null,
   "id": "320b9b59-142c-49cc-9817-bb32030b7928",
   "metadata": {
    "execution": {
     "iopub.status.busy": "2023-06-06T05:59:30.567758Z",
     "iopub.status.idle": "2023-06-06T05:59:30.567952Z",
     "shell.execute_reply": "2023-06-06T05:59:30.567864Z",
     "shell.execute_reply.started": "2023-06-06T05:59:30.567854Z"
    },
    "tags": []
   },
   "outputs": [],
   "source": [
    "data_ = data_.filter(col(\"Country Name\").isin(americans_countries) | col(\"Country Name\").isin(oceanic_countries))\n",
    "data_ = data_.filter(col(\"Year\") >= \"1985\")\n"
   ]
  },
  {
   "cell_type": "code",
   "execution_count": null,
   "id": "35dad817-0450-4e52-8d9c-57dccd7ece11",
   "metadata": {
    "execution": {
     "iopub.status.busy": "2023-06-06T05:59:30.569421Z",
     "iopub.status.idle": "2023-06-06T05:59:30.570424Z",
     "shell.execute_reply": "2023-06-06T05:59:30.570286Z",
     "shell.execute_reply.started": "2023-06-06T05:59:30.570273Z"
    },
    "tags": []
   },
   "outputs": [],
   "source": [
    "data_.coalesce(1).write.option(\"header\", \"true\").csv(\"data__\")"
   ]
  },
  {
   "cell_type": "code",
   "execution_count": null,
   "id": "8af9c552-3a4c-4b82-8c08-fed2e56eee5b",
   "metadata": {},
   "outputs": [],
   "source": []
  }
 ],
 "metadata": {
  "kernelspec": {
   "display_name": "Python 3 (ipykernel)",
   "language": "python",
   "name": "python3"
  },
  "language_info": {
   "codemirror_mode": {
    "name": "ipython",
    "version": 3
   },
   "file_extension": ".py",
   "mimetype": "text/x-python",
   "name": "python",
   "nbconvert_exporter": "python",
   "pygments_lexer": "ipython3",
   "version": "3.10.10"
  }
 },
 "nbformat": 4,
 "nbformat_minor": 5
}

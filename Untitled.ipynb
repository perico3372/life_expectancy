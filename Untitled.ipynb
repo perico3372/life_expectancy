{
 "cells": [
  {
   "cell_type": "code",
   "execution_count": 4,
   "id": "b2b8a83a-e08f-4993-9809-df338063da6e",
   "metadata": {
    "execution": {
     "iopub.execute_input": "2023-06-14T12:10:26.481349Z",
     "iopub.status.busy": "2023-06-14T12:10:26.480550Z",
     "iopub.status.idle": "2023-06-14T12:10:26.486358Z",
     "shell.execute_reply": "2023-06-14T12:10:26.485775Z",
     "shell.execute_reply.started": "2023-06-14T12:10:26.481279Z"
    },
    "tags": []
   },
   "outputs": [],
   "source": [
    "from pyspark.sql import SparkSession\n",
    "from pyspark.ml.clustering import KMeans\n",
    "from pyspark.ml.feature import VectorAssembler"
   ]
  },
  {
   "cell_type": "code",
   "execution_count": 5,
   "id": "fb2eebba-096c-4519-a738-8f08bc6f83cc",
   "metadata": {
    "execution": {
     "iopub.execute_input": "2023-06-14T12:10:27.138520Z",
     "iopub.status.busy": "2023-06-14T12:10:27.137723Z",
     "iopub.status.idle": "2023-06-14T12:10:29.861255Z",
     "shell.execute_reply": "2023-06-14T12:10:29.860506Z",
     "shell.execute_reply.started": "2023-06-14T12:10:27.138450Z"
    },
    "tags": []
   },
   "outputs": [
    {
     "name": "stderr",
     "output_type": "stream",
     "text": [
      "Setting default log level to \"WARN\".\n",
      "To adjust logging level use sc.setLogLevel(newLevel). For SparkR, use setLogLevel(newLevel).\n",
      "23/06/14 09:10:28 WARN NativeCodeLoader: Unable to load native-hadoop library for your platform... using builtin-java classes where applicable\n"
     ]
    }
   ],
   "source": [
    "# Crear una sesión de Spark\n",
    "spark = SparkSession.builder.appName(\"LifeExpectancyPrediction\").getOrCreate()"
   ]
  },
  {
   "cell_type": "code",
   "execution_count": 6,
   "id": "e3626fec-eb28-4767-8c38-184376069856",
   "metadata": {
    "execution": {
     "iopub.execute_input": "2023-06-14T12:10:30.925950Z",
     "iopub.status.busy": "2023-06-14T12:10:30.925634Z",
     "iopub.status.idle": "2023-06-14T12:10:37.195174Z",
     "shell.execute_reply": "2023-06-14T12:10:37.194547Z",
     "shell.execute_reply.started": "2023-06-14T12:10:30.925916Z"
    },
    "tags": []
   },
   "outputs": [
    {
     "name": "stderr",
     "output_type": "stream",
     "text": [
      "23/06/14 09:10:36 WARN InstanceBuilder: Failed to load implementation from:dev.ludovic.netlib.blas.VectorBLAS\n"
     ]
    },
    {
     "name": "stdout",
     "output_type": "stream",
     "text": [
      "Cluster 1 - Centroid: [8.5e+01 5.0e+00 2.0e+00 4.0e-02]\n",
      "Cluster 2 - Centroid: [72.5   9.    4.5   0.09]\n",
      "Predicción para el año 2030: 1\n"
     ]
    },
    {
     "name": "stderr",
     "output_type": "stream",
     "text": [
      "23/06/14 09:10:43 WARN GarbageCollectionMetrics: To enable non-built-in garbage collector(s) List(G1 Concurrent GC), users should configure it(them) to spark.eventLog.gcMetrics.youngGenerationGarbageCollectors or spark.eventLog.gcMetrics.oldGenerationGarbageCollectors\n"
     ]
    }
   ],
   "source": [
    "# Crear un DataFrame de Spark con tus datos\n",
    "df = spark.createDataFrame([(70, 10, 5, 0.1),\n",
    "                            (75, 8, 4, 0.08),\n",
    "                            (80, 6, 3, 0.06),\n",
    "                            (85, 5, 2, 0.04),\n",
    "                            (90, 4, 1, 0.02)],\n",
    "                           [\"EsperanzaVida\", \"MortalidadInfantil\", \"MortalidadNeonatal\", \"MortalidadMaterna\"])\n",
    "\n",
    "# Crear un ensamblador de características\n",
    "assembler = VectorAssembler(inputCols=[\"EsperanzaVida\", \"MortalidadInfantil\", \"MortalidadNeonatal\", \"MortalidadMaterna\"],\n",
    "                            outputCol=\"features\")\n",
    "\n",
    "# Transformar los datos utilizando el ensamblador de características\n",
    "data = assembler.transform(df)\n",
    "\n",
    "# Entrenar el modelo de k-means\n",
    "kmeans = KMeans(k=2, seed=0)\n",
    "model = kmeans.fit(data)\n",
    "\n",
    "# Obtener los centros de los clusters\n",
    "centers = model.clusterCenters()\n",
    "\n",
    "# Preparar los datos para hacer la predicción para el año 2030\n",
    "new_data = spark.createDataFrame([(0, 3, 1, 0.01)], [\"EsperanzaVida\", \"MortalidadInfantil\", \"MortalidadNeonatal\", \"MortalidadMaterna\"])\n",
    "new_data = assembler.transform(new_data)\n",
    "\n",
    "# Realizar la predicción para el año 2030\n",
    "prediction = model.transform(new_data)\n",
    "\n",
    "# Imprimir los resultados\n",
    "for i, center in enumerate(centers):\n",
    "    print(f\"Cluster {i+1} - Centroid: {center}\")\n",
    "print(f\"Predicción para el año 2030: {prediction.select('prediction').collect()[0][0]}\")"
   ]
  },
  {
   "cell_type": "code",
   "execution_count": null,
   "id": "38780edf-5dd6-424a-b8da-52ab37a6731d",
   "metadata": {},
   "outputs": [],
   "source": []
  }
 ],
 "metadata": {
  "kernelspec": {
   "display_name": "Python 3 (ipykernel)",
   "language": "python",
   "name": "python3"
  },
  "language_info": {
   "codemirror_mode": {
    "name": "ipython",
    "version": 3
   },
   "file_extension": ".py",
   "mimetype": "text/x-python",
   "name": "python",
   "nbconvert_exporter": "python",
   "pygments_lexer": "ipython3",
   "version": "3.10.10"
  }
 },
 "nbformat": 4,
 "nbformat_minor": 5
}

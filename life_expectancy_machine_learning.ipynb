{
 "cells": [
  {
   "cell_type": "code",
   "execution_count": 15,
   "id": "0f303be3-ea14-41c4-a84b-83d1e7483db5",
   "metadata": {
    "execution": {
     "iopub.execute_input": "2023-06-13T19:54:39.117035Z",
     "iopub.status.busy": "2023-06-13T19:54:39.116650Z",
     "iopub.status.idle": "2023-06-13T19:54:39.122207Z",
     "shell.execute_reply": "2023-06-13T19:54:39.121309Z",
     "shell.execute_reply.started": "2023-06-13T19:54:39.117002Z"
    },
    "tags": []
   },
   "outputs": [],
   "source": [
    "from pyspark.sql import SparkSession\n",
    "from pyspark.ml.regression import LinearRegression\n",
    "from pyspark.ml.feature import VectorAssembler, StringIndexer, OneHotEncoder\n",
    "from pyspark.sql.functions import col\n",
    "from pyspark.sql.types import FloatType"
   ]
  },
  {
   "cell_type": "code",
   "execution_count": 16,
   "id": "ec2494aa-c761-4d3d-a37d-d87820c3d879",
   "metadata": {
    "execution": {
     "iopub.execute_input": "2023-06-13T19:54:39.296432Z",
     "iopub.status.busy": "2023-06-13T19:54:39.295947Z",
     "iopub.status.idle": "2023-06-13T19:54:39.303773Z",
     "shell.execute_reply": "2023-06-13T19:54:39.302635Z",
     "shell.execute_reply.started": "2023-06-13T19:54:39.296391Z"
    },
    "tags": []
   },
   "outputs": [],
   "source": [
    "# Crear una sesión de Spark\n",
    "spark = SparkSession.builder.appName(\"LifeExpectancyPrediction\").getOrCreate()"
   ]
  },
  {
   "cell_type": "code",
   "execution_count": 17,
   "id": "b915fcdb-54f9-4a1f-aff1-7a91af1acbef",
   "metadata": {
    "execution": {
     "iopub.execute_input": "2023-06-13T19:54:39.516532Z",
     "iopub.status.busy": "2023-06-13T19:54:39.516265Z",
     "iopub.status.idle": "2023-06-13T19:54:39.592698Z",
     "shell.execute_reply": "2023-06-13T19:54:39.591954Z",
     "shell.execute_reply.started": "2023-06-13T19:54:39.516509Z"
    },
    "tags": []
   },
   "outputs": [],
   "source": [
    "# Cargar los datos de entrenamiento en un DataFrame\n",
    "data = spark.read.format(\"parquet\").option(\"header\", \"true\").load(\"data\")"
   ]
  },
  {
   "cell_type": "code",
   "execution_count": 18,
   "id": "aae03712-77a1-404d-a46e-0907af75af24",
   "metadata": {
    "execution": {
     "iopub.execute_input": "2023-06-13T19:54:39.853173Z",
     "iopub.status.busy": "2023-06-13T19:54:39.852945Z",
     "iopub.status.idle": "2023-06-13T19:54:39.858996Z",
     "shell.execute_reply": "2023-06-13T19:54:39.857732Z",
     "shell.execute_reply.started": "2023-06-13T19:54:39.853158Z"
    },
    "tags": []
   },
   "outputs": [
    {
     "name": "stdout",
     "output_type": "stream",
     "text": [
      "['Year', 'Country Code', 'Country Name', 'life_expatancy', 'life_expatancy_male', 'life_expatancy_female', 'ratio_mort_neonatal', 'ratio_mort_one_year', 'ratio_mort_five_year', 'ratio_maternal_mort', 'ratio_mort_in_year', 'ratio_poblation_0_14_year', 'ratio_poblation_15_64_year', 'ratio_poblation_more_64_year', 'ratio_population_growth', 'ratio_mortality_CVD_cancer_diabetes_CRD', 'ratio_infectious_diseases', 'porc_prev_malnutrition', 'doctor_1000_people', 'bed_1000_people', 'porc_water_service', 'porc_sanitation_services', 'porc_electricity', 'porc_internet', 'porc_secundary_school_compl', 'porc_literacy', 'porc_unemployment', 'porc_below_poverty_line', 'PIB_growth_per_capita']\n"
     ]
    }
   ],
   "source": [
    "print(data.columns)"
   ]
  },
  {
   "cell_type": "code",
   "execution_count": 19,
   "id": "30a733c8-f205-41e1-876d-b85597fc42f1",
   "metadata": {
    "execution": {
     "iopub.execute_input": "2023-06-13T19:54:40.444128Z",
     "iopub.status.busy": "2023-06-13T19:54:40.443286Z",
     "iopub.status.idle": "2023-06-13T19:54:40.450026Z",
     "shell.execute_reply": "2023-06-13T19:54:40.449447Z",
     "shell.execute_reply.started": "2023-06-13T19:54:40.444057Z"
    },
    "tags": []
   },
   "outputs": [
    {
     "data": {
      "text/plain": [
       "<bound method DataFrame.printSchema of DataFrame[Year: string, Country Code: string, Country Name: string, life_expatancy: string, life_expatancy_male: string, life_expatancy_female: string, ratio_mort_neonatal: string, ratio_mort_one_year: string, ratio_mort_five_year: string, ratio_maternal_mort: string, ratio_mort_in_year: string, ratio_poblation_0_14_year: string, ratio_poblation_15_64_year: string, ratio_poblation_more_64_year: string, ratio_population_growth: string, ratio_mortality_CVD_cancer_diabetes_CRD: string, ratio_infectious_diseases: string, porc_prev_malnutrition: string, doctor_1000_people: string, bed_1000_people: string, porc_water_service: string, porc_sanitation_services: string, porc_electricity: string, porc_internet: string, porc_secundary_school_compl: string, porc_literacy: string, porc_unemployment: string, porc_below_poverty_line: string, PIB_growth_per_capita: string]>"
      ]
     },
     "execution_count": 19,
     "metadata": {},
     "output_type": "execute_result"
    }
   ],
   "source": [
    "data.printSchema"
   ]
  },
  {
   "cell_type": "code",
   "execution_count": 20,
   "id": "5ae765be-b04e-405a-8da7-52ffe87205ca",
   "metadata": {
    "execution": {
     "iopub.execute_input": "2023-06-13T19:54:41.261377Z",
     "iopub.status.busy": "2023-06-13T19:54:41.258733Z",
     "iopub.status.idle": "2023-06-13T19:54:41.511361Z",
     "shell.execute_reply": "2023-06-13T19:54:41.510695Z",
     "shell.execute_reply.started": "2023-06-13T19:54:41.261233Z"
    },
    "tags": []
   },
   "outputs": [],
   "source": [
    "from pyspark.sql.functions import col\n",
    "from pyspark.sql.types import FloatType\n",
    "\n",
    "# Supongamos que tienes un DataFrame llamado \"data\" con las columnas \"col1\", \"col2\" y \"col3\" que son de tipo string\n",
    "columns_to_convert = ['life_expatancy', 'life_expatancy_male', 'life_expatancy_female', 'ratio_mort_neonatal', 'ratio_mort_one_year', 'ratio_mort_five_year', 'ratio_maternal_mort', 'ratio_mort_in_year', 'ratio_poblation_0_14_year', 'ratio_poblation_15_64_year', 'ratio_poblation_more_64_year', 'ratio_population_growth', 'ratio_mortality_CVD_cancer_diabetes_CRD', 'ratio_infectious_diseases', 'porc_prev_malnutrition', 'doctor_1000_people', 'bed_1000_people', 'porc_water_service', 'porc_sanitation_services', 'porc_electricity', 'porc_internet', 'porc_secundary_school_compl', 'porc_literacy', 'porc_unemployment', 'porc_below_poverty_line', 'PIB_growth_per_capita']\n",
    "\n",
    "for column in columns_to_convert:\n",
    "    data = data.withColumn(column, col(column).cast(FloatType()))"
   ]
  },
  {
   "cell_type": "code",
   "execution_count": 21,
   "id": "c9145e20-be3b-43a4-9601-9b995d9ade87",
   "metadata": {
    "execution": {
     "iopub.execute_input": "2023-06-13T19:54:42.250770Z",
     "iopub.status.busy": "2023-06-13T19:54:42.249972Z",
     "iopub.status.idle": "2023-06-13T19:54:42.258270Z",
     "shell.execute_reply": "2023-06-13T19:54:42.257701Z",
     "shell.execute_reply.started": "2023-06-13T19:54:42.250702Z"
    },
    "tags": []
   },
   "outputs": [
    {
     "data": {
      "text/plain": [
       "<bound method DataFrame.printSchema of DataFrame[Year: string, Country Code: string, Country Name: string, life_expatancy: float, life_expatancy_male: float, life_expatancy_female: float, ratio_mort_neonatal: float, ratio_mort_one_year: float, ratio_mort_five_year: float, ratio_maternal_mort: float, ratio_mort_in_year: float, ratio_poblation_0_14_year: float, ratio_poblation_15_64_year: float, ratio_poblation_more_64_year: float, ratio_population_growth: float, ratio_mortality_CVD_cancer_diabetes_CRD: float, ratio_infectious_diseases: float, porc_prev_malnutrition: float, doctor_1000_people: float, bed_1000_people: float, porc_water_service: float, porc_sanitation_services: float, porc_electricity: float, porc_internet: float, porc_secundary_school_compl: float, porc_literacy: float, porc_unemployment: float, porc_below_poverty_line: float, PIB_growth_per_capita: float]>"
      ]
     },
     "execution_count": 21,
     "metadata": {},
     "output_type": "execute_result"
    }
   ],
   "source": [
    "data.printSchema"
   ]
  },
  {
   "cell_type": "code",
   "execution_count": 22,
   "id": "f0d1b045-42ca-44b0-8b4c-d8c8e3b0a720",
   "metadata": {
    "execution": {
     "iopub.execute_input": "2023-06-13T19:54:42.911928Z",
     "iopub.status.busy": "2023-06-13T19:54:42.911145Z",
     "iopub.status.idle": "2023-06-13T19:54:42.979340Z",
     "shell.execute_reply": "2023-06-13T19:54:42.978705Z",
     "shell.execute_reply.started": "2023-06-13T19:54:42.911862Z"
    },
    "tags": []
   },
   "outputs": [],
   "source": [
    "# Convertir las columnas seleccionadas a tipo Float\n",
    "columns_to_convert = [\"ratio_mort_neonatal\", \"ratio_mort_one_year\", \"ratio_mort_five_year\", 'ratio_maternal_mort', 'ratio_mort_in_year']\n",
    "for column in columns_to_convert:\n",
    "    data = data.withColumn(column, col(column).cast(FloatType()))"
   ]
  },
  {
   "cell_type": "code",
   "execution_count": 23,
   "id": "87b5b414-4eb4-4cf0-b71f-d91b8e187a80",
   "metadata": {
    "execution": {
     "iopub.execute_input": "2023-06-13T19:54:44.891728Z",
     "iopub.status.busy": "2023-06-13T19:54:44.891540Z",
     "iopub.status.idle": "2023-06-13T19:54:45.103457Z",
     "shell.execute_reply": "2023-06-13T19:54:45.102919Z",
     "shell.execute_reply.started": "2023-06-13T19:54:44.891713Z"
    },
    "tags": []
   },
   "outputs": [],
   "source": [
    "# Convertir la variable categórica \"país\" a una representación numérica\n",
    "indexer = StringIndexer(inputCol=\"Country Code\", outputCol=\"country_index\")\n",
    "data = indexer.fit(data).transform(data)"
   ]
  },
  {
   "cell_type": "code",
   "execution_count": 24,
   "id": "29befba9-b194-4403-922c-3719d0814eae",
   "metadata": {
    "execution": {
     "iopub.execute_input": "2023-06-13T19:54:45.495994Z",
     "iopub.status.busy": "2023-06-13T19:54:45.495239Z",
     "iopub.status.idle": "2023-06-13T19:54:45.511699Z",
     "shell.execute_reply": "2023-06-13T19:54:45.508853Z",
     "shell.execute_reply.started": "2023-06-13T19:54:45.495929Z"
    },
    "tags": []
   },
   "outputs": [],
   "source": [
    "# Crear el objeto OneHotEncoder\n",
    "encoder = OneHotEncoder(inputCols=[\"country_index\"], outputCols=[\"country_encoded\"])"
   ]
  },
  {
   "cell_type": "code",
   "execution_count": 25,
   "id": "4ac5bd33-a32f-45c1-befd-c808bcdd6a9a",
   "metadata": {
    "execution": {
     "iopub.execute_input": "2023-06-13T19:54:46.248439Z",
     "iopub.status.busy": "2023-06-13T19:54:46.247688Z",
     "iopub.status.idle": "2023-06-13T19:54:46.287925Z",
     "shell.execute_reply": "2023-06-13T19:54:46.287304Z",
     "shell.execute_reply.started": "2023-06-13T19:54:46.248373Z"
    },
    "tags": []
   },
   "outputs": [],
   "source": [
    "# Ajustar y transformar los datos\n",
    "model = encoder.fit(data)\n",
    "data = model.transform(data)"
   ]
  },
  {
   "cell_type": "code",
   "execution_count": 26,
   "id": "1faffeed-91b4-43e4-a304-8c30ca04cc4b",
   "metadata": {
    "execution": {
     "iopub.execute_input": "2023-06-13T19:54:47.294315Z",
     "iopub.status.busy": "2023-06-13T19:54:47.294125Z",
     "iopub.status.idle": "2023-06-13T19:54:47.320065Z",
     "shell.execute_reply": "2023-06-13T19:54:47.319485Z",
     "shell.execute_reply.started": "2023-06-13T19:54:47.294299Z"
    },
    "tags": []
   },
   "outputs": [],
   "source": [
    "# Seleccionar las características y la variable objetivo\n",
    "feature_columns = [\"country_encoded\", \"ratio_mort_neonatal\", \"ratio_mort_one_year\", \"ratio_mort_five_year\", 'ratio_maternal_mort', 'ratio_mort_in_year']\n",
    "assembler = VectorAssembler(inputCols=feature_columns, outputCol=\"features\", handleInvalid=\"keep\")\n",
    "data = assembler.transform(data)"
   ]
  },
  {
   "cell_type": "code",
   "execution_count": null,
   "id": "023e98ee-6dfc-480d-a287-75759bce9c26",
   "metadata": {},
   "outputs": [],
   "source": []
  },
  {
   "cell_type": "code",
   "execution_count": 27,
   "id": "cedbf078-ded0-4db3-8e1b-4922c5b7efc5",
   "metadata": {
    "execution": {
     "iopub.execute_input": "2023-06-13T19:54:53.664074Z",
     "iopub.status.busy": "2023-06-13T19:54:53.663253Z",
     "iopub.status.idle": "2023-06-13T19:54:53.683586Z",
     "shell.execute_reply": "2023-06-13T19:54:53.683036Z",
     "shell.execute_reply.started": "2023-06-13T19:54:53.664003Z"
    },
    "tags": []
   },
   "outputs": [],
   "source": [
    "# Seleccionar las columnas finales\n",
    "data = data.select(\"Country Name\", \"features\", \"life_expatancy\").withColumnRenamed(\"life_expatancy\", \"label\")"
   ]
  },
  {
   "cell_type": "raw",
   "id": "523995f2-416e-4ba7-b134-1e9140b168fd",
   "metadata": {
    "execution": {
     "iopub.execute_input": "2023-06-13T13:11:52.253143Z",
     "iopub.status.busy": "2023-06-13T13:11:52.252342Z",
     "iopub.status.idle": "2023-06-13T13:11:52.309254Z",
     "shell.execute_reply": "2023-06-13T13:11:52.308384Z",
     "shell.execute_reply.started": "2023-06-13T13:11:52.253072Z"
    },
    "tags": []
   },
   "source": [
    "# Reemplazar valores faltantes con el promedio de la columna\n",
    "from pyspark.ml.feature import Imputer\n",
    "\n",
    "imputer = Imputer(strategy='mean', inputCols=data.columns[1:], outputCols=data.columns[1:])\n",
    "data = imputer.fit(data).transform(data)"
   ]
  },
  {
   "cell_type": "raw",
   "id": "69eb464b-be7f-4a21-bce2-60d2c12db2b9",
   "metadata": {
    "execution": {
     "iopub.execute_input": "2023-06-13T13:28:32.167647Z",
     "iopub.status.busy": "2023-06-13T13:28:32.166884Z",
     "iopub.status.idle": "2023-06-13T13:28:32.222440Z",
     "shell.execute_reply": "2023-06-13T13:28:32.221488Z",
     "shell.execute_reply.started": "2023-06-13T13:28:32.167577Z"
    },
    "tags": []
   },
   "source": [
    "from pyspark.ml.feature import Imputer, VectorAssembler\n",
    "from pyspark.ml.regression import LinearRegression\n",
    "from pyspark.ml.feature import StringIndexer, OneHotEncoder\n",
    "\n",
    "# Reemplazar valores faltantes con el promedio de la columna\n",
    "imputer = Imputer(strategy='mean', inputCols=columns_to_convert, outputCols=data.columns[1:])\n",
    "data = imputer.fit(data).transform(data)"
   ]
  },
  {
   "cell_type": "code",
   "execution_count": 28,
   "id": "997084e4-332e-4a1b-a199-648f04b1aff9",
   "metadata": {
    "execution": {
     "iopub.execute_input": "2023-06-13T19:55:23.777731Z",
     "iopub.status.busy": "2023-06-13T19:55:23.777318Z",
     "iopub.status.idle": "2023-06-13T19:55:24.293151Z",
     "shell.execute_reply": "2023-06-13T19:55:24.292462Z",
     "shell.execute_reply.started": "2023-06-13T19:55:23.777702Z"
    },
    "tags": []
   },
   "outputs": [
    {
     "name": "stderr",
     "output_type": "stream",
     "text": [
      "/usr/lib/python3.10/site-packages/pyspark/pandas/__init__.py:50: UserWarning: 'PYARROW_IGNORE_TIMEZONE' environment variable was not set. It is required to set this environment variable to '1' in both driver and executor sides if you use pyarrow>=2.0.0. pandas-on-Spark will set it for you but it does not work if there is a Spark context already launched.\n",
      "  warnings.warn(\n"
     ]
    },
    {
     "data": {
      "text/html": [
       "<div>\n",
       "<style scoped>\n",
       "    .dataframe tbody tr th:only-of-type {\n",
       "        vertical-align: middle;\n",
       "    }\n",
       "\n",
       "    .dataframe tbody tr th {\n",
       "        vertical-align: top;\n",
       "    }\n",
       "\n",
       "    .dataframe thead th {\n",
       "        text-align: right;\n",
       "    }\n",
       "</style>\n",
       "<table border=\"1\" class=\"dataframe\">\n",
       "  <thead>\n",
       "    <tr style=\"text-align: right;\">\n",
       "      <th></th>\n",
       "      <th>Country Name</th>\n",
       "      <th>label</th>\n",
       "    </tr>\n",
       "  </thead>\n",
       "  <tbody>\n",
       "    <tr>\n",
       "      <th>0</th>\n",
       "      <td>Haití</td>\n",
       "      <td>61.741001</td>\n",
       "    </tr>\n",
       "    <tr>\n",
       "      <th>1</th>\n",
       "      <td>Panamá</td>\n",
       "      <td>75.543999</td>\n",
       "    </tr>\n",
       "    <tr>\n",
       "      <th>2</th>\n",
       "      <td>Trinidad y Tobago</td>\n",
       "      <td>71.307999</td>\n",
       "    </tr>\n",
       "    <tr>\n",
       "      <th>3</th>\n",
       "      <td>Micronesia (Estados Federados de)</td>\n",
       "      <td>66.859001</td>\n",
       "    </tr>\n",
       "    <tr>\n",
       "      <th>4</th>\n",
       "      <td>Jamaica</td>\n",
       "      <td>71.273003</td>\n",
       "    </tr>\n",
       "    <tr>\n",
       "      <th>5</th>\n",
       "      <td>Venezuela</td>\n",
       "      <td>72.161003</td>\n",
       "    </tr>\n",
       "    <tr>\n",
       "      <th>6</th>\n",
       "      <td>Kiribati</td>\n",
       "      <td>61.422001</td>\n",
       "    </tr>\n",
       "    <tr>\n",
       "      <th>7</th>\n",
       "      <td>Dominica</td>\n",
       "      <td>69.851997</td>\n",
       "    </tr>\n",
       "    <tr>\n",
       "      <th>8</th>\n",
       "      <td>Belice</td>\n",
       "      <td>69.887001</td>\n",
       "    </tr>\n",
       "    <tr>\n",
       "      <th>9</th>\n",
       "      <td>Suriname</td>\n",
       "      <td>72.241997</td>\n",
       "    </tr>\n",
       "    <tr>\n",
       "      <th>10</th>\n",
       "      <td>Islas Marshall</td>\n",
       "      <td>63.584999</td>\n",
       "    </tr>\n",
       "    <tr>\n",
       "      <th>11</th>\n",
       "      <td>Vanuatu</td>\n",
       "      <td>69.533997</td>\n",
       "    </tr>\n",
       "    <tr>\n",
       "      <th>12</th>\n",
       "      <td>Granada</td>\n",
       "      <td>74.764999</td>\n",
       "    </tr>\n",
       "    <tr>\n",
       "      <th>13</th>\n",
       "      <td>Chile</td>\n",
       "      <td>71.176003</td>\n",
       "    </tr>\n",
       "    <tr>\n",
       "      <th>14</th>\n",
       "      <td>San Vicente y las Granadinas</td>\n",
       "      <td>73.515999</td>\n",
       "    </tr>\n",
       "    <tr>\n",
       "      <th>15</th>\n",
       "      <td>Tuvalu</td>\n",
       "      <td>61.530998</td>\n",
       "    </tr>\n",
       "    <tr>\n",
       "      <th>16</th>\n",
       "      <td>Bahamas</td>\n",
       "      <td>73.806000</td>\n",
       "    </tr>\n",
       "    <tr>\n",
       "      <th>17</th>\n",
       "      <td>Honduras</td>\n",
       "      <td>71.962997</td>\n",
       "    </tr>\n",
       "    <tr>\n",
       "      <th>18</th>\n",
       "      <td>Dominica</td>\n",
       "      <td>70.538002</td>\n",
       "    </tr>\n",
       "    <tr>\n",
       "      <th>19</th>\n",
       "      <td>Costa Rica</td>\n",
       "      <td>76.263000</td>\n",
       "    </tr>\n",
       "    <tr>\n",
       "      <th>20</th>\n",
       "      <td>Jamaica</td>\n",
       "      <td>72.622002</td>\n",
       "    </tr>\n",
       "    <tr>\n",
       "      <th>21</th>\n",
       "      <td>El Salvador</td>\n",
       "      <td>71.771004</td>\n",
       "    </tr>\n",
       "    <tr>\n",
       "      <th>22</th>\n",
       "      <td>Tonga</td>\n",
       "      <td>69.669998</td>\n",
       "    </tr>\n",
       "    <tr>\n",
       "      <th>23</th>\n",
       "      <td>Tuvalu</td>\n",
       "      <td>63.693001</td>\n",
       "    </tr>\n",
       "    <tr>\n",
       "      <th>24</th>\n",
       "      <td>Honduras</td>\n",
       "      <td>64.031998</td>\n",
       "    </tr>\n",
       "    <tr>\n",
       "      <th>25</th>\n",
       "      <td>Bahamas</td>\n",
       "      <td>71.598000</td>\n",
       "    </tr>\n",
       "    <tr>\n",
       "      <th>26</th>\n",
       "      <td>Tonga</td>\n",
       "      <td>70.928001</td>\n",
       "    </tr>\n",
       "    <tr>\n",
       "      <th>27</th>\n",
       "      <td>Bolivia</td>\n",
       "      <td>57.629002</td>\n",
       "    </tr>\n",
       "    <tr>\n",
       "      <th>28</th>\n",
       "      <td>Guyana</td>\n",
       "      <td>68.384003</td>\n",
       "    </tr>\n",
       "    <tr>\n",
       "      <th>29</th>\n",
       "      <td>Honduras</td>\n",
       "      <td>70.441002</td>\n",
       "    </tr>\n",
       "    <tr>\n",
       "      <th>30</th>\n",
       "      <td>Dominica</td>\n",
       "      <td>73.558998</td>\n",
       "    </tr>\n",
       "    <tr>\n",
       "      <th>31</th>\n",
       "      <td>Cuba</td>\n",
       "      <td>74.903000</td>\n",
       "    </tr>\n",
       "    <tr>\n",
       "      <th>32</th>\n",
       "      <td>Australia</td>\n",
       "      <td>81.395119</td>\n",
       "    </tr>\n",
       "    <tr>\n",
       "      <th>33</th>\n",
       "      <td>Honduras</td>\n",
       "      <td>65.751999</td>\n",
       "    </tr>\n",
       "    <tr>\n",
       "      <th>34</th>\n",
       "      <td>Haití</td>\n",
       "      <td>56.153999</td>\n",
       "    </tr>\n",
       "    <tr>\n",
       "      <th>35</th>\n",
       "      <td>Jamaica</td>\n",
       "      <td>71.549004</td>\n",
       "    </tr>\n",
       "    <tr>\n",
       "      <th>36</th>\n",
       "      <td>Australia</td>\n",
       "      <td>78.631706</td>\n",
       "    </tr>\n",
       "    <tr>\n",
       "      <th>37</th>\n",
       "      <td>San Vicente y las Granadinas</td>\n",
       "      <td>72.834999</td>\n",
       "    </tr>\n",
       "    <tr>\n",
       "      <th>38</th>\n",
       "      <td>Argentina</td>\n",
       "      <td>71.783997</td>\n",
       "    </tr>\n",
       "    <tr>\n",
       "      <th>39</th>\n",
       "      <td>Granada</td>\n",
       "      <td>75.115997</td>\n",
       "    </tr>\n",
       "    <tr>\n",
       "      <th>40</th>\n",
       "      <td>Bolivia</td>\n",
       "      <td>65.879997</td>\n",
       "    </tr>\n",
       "    <tr>\n",
       "      <th>41</th>\n",
       "      <td>Belice</td>\n",
       "      <td>73.245003</td>\n",
       "    </tr>\n",
       "    <tr>\n",
       "      <th>42</th>\n",
       "      <td>Samoa</td>\n",
       "      <td>69.875000</td>\n",
       "    </tr>\n",
       "    <tr>\n",
       "      <th>43</th>\n",
       "      <td>San Vicente y las Granadinas</td>\n",
       "      <td>72.936996</td>\n",
       "    </tr>\n",
       "    <tr>\n",
       "      <th>44</th>\n",
       "      <td>Islas Salomón</td>\n",
       "      <td>64.290001</td>\n",
       "    </tr>\n",
       "    <tr>\n",
       "      <th>45</th>\n",
       "      <td>Panamá</td>\n",
       "      <td>NaN</td>\n",
       "    </tr>\n",
       "    <tr>\n",
       "      <th>46</th>\n",
       "      <td>Colombia</td>\n",
       "      <td>69.038002</td>\n",
       "    </tr>\n",
       "    <tr>\n",
       "      <th>47</th>\n",
       "      <td>Tonga</td>\n",
       "      <td>70.380997</td>\n",
       "    </tr>\n",
       "    <tr>\n",
       "      <th>48</th>\n",
       "      <td>Belice</td>\n",
       "      <td>72.272003</td>\n",
       "    </tr>\n",
       "    <tr>\n",
       "      <th>49</th>\n",
       "      <td>Bahamas</td>\n",
       "      <td>73.537003</td>\n",
       "    </tr>\n",
       "    <tr>\n",
       "      <th>50</th>\n",
       "      <td>Costa Rica</td>\n",
       "      <td>76.629997</td>\n",
       "    </tr>\n",
       "    <tr>\n",
       "      <th>51</th>\n",
       "      <td>Nicaragua</td>\n",
       "      <td>67.935997</td>\n",
       "    </tr>\n",
       "    <tr>\n",
       "      <th>52</th>\n",
       "      <td>Bolivia</td>\n",
       "      <td>66.162003</td>\n",
       "    </tr>\n",
       "    <tr>\n",
       "      <th>53</th>\n",
       "      <td>Jamaica</td>\n",
       "      <td>70.968002</td>\n",
       "    </tr>\n",
       "    <tr>\n",
       "      <th>54</th>\n",
       "      <td>Nicaragua</td>\n",
       "      <td>72.811996</td>\n",
       "    </tr>\n",
       "    <tr>\n",
       "      <th>55</th>\n",
       "      <td>Nauru</td>\n",
       "      <td>61.380001</td>\n",
       "    </tr>\n",
       "    <tr>\n",
       "      <th>56</th>\n",
       "      <td>Costa Rica</td>\n",
       "      <td>76.804001</td>\n",
       "    </tr>\n",
       "    <tr>\n",
       "      <th>57</th>\n",
       "      <td>Perú</td>\n",
       "      <td>73.665001</td>\n",
       "    </tr>\n",
       "    <tr>\n",
       "      <th>58</th>\n",
       "      <td>Guyana</td>\n",
       "      <td>69.124001</td>\n",
       "    </tr>\n",
       "    <tr>\n",
       "      <th>59</th>\n",
       "      <td>Costa Rica</td>\n",
       "      <td>76.626999</td>\n",
       "    </tr>\n",
       "    <tr>\n",
       "      <th>60</th>\n",
       "      <td>Venezuela</td>\n",
       "      <td>71.531998</td>\n",
       "    </tr>\n",
       "    <tr>\n",
       "      <th>61</th>\n",
       "      <td>Argentina</td>\n",
       "      <td>74.080002</td>\n",
       "    </tr>\n",
       "    <tr>\n",
       "      <th>62</th>\n",
       "      <td>Jamaica</td>\n",
       "      <td>71.043999</td>\n",
       "    </tr>\n",
       "    <tr>\n",
       "      <th>63</th>\n",
       "      <td>México</td>\n",
       "      <td>73.866997</td>\n",
       "    </tr>\n",
       "    <tr>\n",
       "      <th>64</th>\n",
       "      <td>Nauru</td>\n",
       "      <td>58.379002</td>\n",
       "    </tr>\n",
       "    <tr>\n",
       "      <th>65</th>\n",
       "      <td>El Salvador</td>\n",
       "      <td>69.864998</td>\n",
       "    </tr>\n",
       "    <tr>\n",
       "      <th>66</th>\n",
       "      <td>Guyana</td>\n",
       "      <td>66.982002</td>\n",
       "    </tr>\n",
       "    <tr>\n",
       "      <th>67</th>\n",
       "      <td>Santa Lucía</td>\n",
       "      <td>70.214996</td>\n",
       "    </tr>\n",
       "    <tr>\n",
       "      <th>68</th>\n",
       "      <td>Perú</td>\n",
       "      <td>69.742996</td>\n",
       "    </tr>\n",
       "    <tr>\n",
       "      <th>69</th>\n",
       "      <td>Vanuatu</td>\n",
       "      <td>69.650002</td>\n",
       "    </tr>\n",
       "  </tbody>\n",
       "</table>\n",
       "</div>"
      ],
      "text/plain": [
       "                         Country Name      label\n",
       "0                               Haití  61.741001\n",
       "1                              Panamá  75.543999\n",
       "2                   Trinidad y Tobago  71.307999\n",
       "3   Micronesia (Estados Federados de)  66.859001\n",
       "4                             Jamaica  71.273003\n",
       "5                           Venezuela  72.161003\n",
       "6                            Kiribati  61.422001\n",
       "7                            Dominica  69.851997\n",
       "8                              Belice  69.887001\n",
       "9                            Suriname  72.241997\n",
       "10                     Islas Marshall  63.584999\n",
       "11                            Vanuatu  69.533997\n",
       "12                            Granada  74.764999\n",
       "13                              Chile  71.176003\n",
       "14       San Vicente y las Granadinas  73.515999\n",
       "15                             Tuvalu  61.530998\n",
       "16                            Bahamas  73.806000\n",
       "17                           Honduras  71.962997\n",
       "18                           Dominica  70.538002\n",
       "19                         Costa Rica  76.263000\n",
       "20                            Jamaica  72.622002\n",
       "21                        El Salvador  71.771004\n",
       "22                              Tonga  69.669998\n",
       "23                             Tuvalu  63.693001\n",
       "24                           Honduras  64.031998\n",
       "25                            Bahamas  71.598000\n",
       "26                              Tonga  70.928001\n",
       "27                            Bolivia  57.629002\n",
       "28                             Guyana  68.384003\n",
       "29                           Honduras  70.441002\n",
       "30                           Dominica  73.558998\n",
       "31                               Cuba  74.903000\n",
       "32                          Australia  81.395119\n",
       "33                           Honduras  65.751999\n",
       "34                              Haití  56.153999\n",
       "35                            Jamaica  71.549004\n",
       "36                          Australia  78.631706\n",
       "37       San Vicente y las Granadinas  72.834999\n",
       "38                          Argentina  71.783997\n",
       "39                            Granada  75.115997\n",
       "40                            Bolivia  65.879997\n",
       "41                             Belice  73.245003\n",
       "42                              Samoa  69.875000\n",
       "43       San Vicente y las Granadinas  72.936996\n",
       "44                      Islas Salomón  64.290001\n",
       "45                             Panamá        NaN\n",
       "46                           Colombia  69.038002\n",
       "47                              Tonga  70.380997\n",
       "48                             Belice  72.272003\n",
       "49                            Bahamas  73.537003\n",
       "50                         Costa Rica  76.629997\n",
       "51                          Nicaragua  67.935997\n",
       "52                            Bolivia  66.162003\n",
       "53                            Jamaica  70.968002\n",
       "54                          Nicaragua  72.811996\n",
       "55                              Nauru  61.380001\n",
       "56                         Costa Rica  76.804001\n",
       "57                               Perú  73.665001\n",
       "58                             Guyana  69.124001\n",
       "59                         Costa Rica  76.626999\n",
       "60                          Venezuela  71.531998\n",
       "61                          Argentina  74.080002\n",
       "62                            Jamaica  71.043999\n",
       "63                             México  73.866997\n",
       "64                              Nauru  58.379002\n",
       "65                        El Salvador  69.864998\n",
       "66                             Guyana  66.982002\n",
       "67                        Santa Lucía  70.214996\n",
       "68                               Perú  69.742996\n",
       "69                            Vanuatu  69.650002"
      ]
     },
     "execution_count": 28,
     "metadata": {},
     "output_type": "execute_result"
    }
   ],
   "source": [
    "# Mostrar modelo machine learning\n",
    "data.select(\"Country Name\",\"label\").limit(70).pandas_api()"
   ]
  },
  {
   "cell_type": "code",
   "execution_count": null,
   "id": "b723f4a8-5a89-4116-92f6-f0e94b9da4c5",
   "metadata": {},
   "outputs": [],
   "source": []
  }
 ],
 "metadata": {
  "kernelspec": {
   "display_name": "Python 3 (ipykernel)",
   "language": "python",
   "name": "python3"
  },
  "language_info": {
   "codemirror_mode": {
    "name": "ipython",
    "version": 3
   },
   "file_extension": ".py",
   "mimetype": "text/x-python",
   "name": "python",
   "nbconvert_exporter": "python",
   "pygments_lexer": "ipython3",
   "version": "3.10.10"
  }
 },
 "nbformat": 4,
 "nbformat_minor": 5
}

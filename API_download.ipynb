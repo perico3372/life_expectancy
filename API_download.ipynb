{
 "cells": [
  {
   "cell_type": "code",
   "execution_count": 31,
   "id": "291fc47d-7335-47c7-8ce1-b2522a401b39",
   "metadata": {
    "execution": {
     "iopub.execute_input": "2023-06-09T17:19:07.045898Z",
     "iopub.status.busy": "2023-06-09T17:19:07.045135Z",
     "iopub.status.idle": "2023-06-09T17:19:07.054239Z",
     "shell.execute_reply": "2023-06-09T17:19:07.052623Z",
     "shell.execute_reply.started": "2023-06-09T17:19:07.045829Z"
    },
    "tags": []
   },
   "outputs": [],
   "source": [
    "import requests\n",
    "#import io\n",
    "import csv"
   ]
  },
  {
   "cell_type": "code",
   "execution_count": 32,
   "id": "bc3a7b7a-c7ed-46da-9570-ec5b421349bd",
   "metadata": {
    "execution": {
     "iopub.execute_input": "2023-06-09T17:19:07.599354Z",
     "iopub.status.busy": "2023-06-09T17:19:07.598552Z",
     "iopub.status.idle": "2023-06-09T17:19:07.607736Z",
     "shell.execute_reply": "2023-06-09T17:19:07.606268Z",
     "shell.execute_reply.started": "2023-06-09T17:19:07.599285Z"
    },
    "tags": []
   },
   "outputs": [],
   "source": [
    "from pyspark.sql import SparkSession\n",
    "from pyspark.sql.functions import split\n",
    "from pyspark.sql.functions import expr\n",
    "from pyspark.sql.functions import col"
   ]
  },
  {
   "cell_type": "code",
   "execution_count": 33,
   "id": "dfc992b6-3e62-40b0-8187-b10a90b7b0d8",
   "metadata": {
    "execution": {
     "iopub.execute_input": "2023-06-09T17:19:10.820957Z",
     "iopub.status.busy": "2023-06-09T17:19:10.820591Z",
     "iopub.status.idle": "2023-06-09T17:19:10.826282Z",
     "shell.execute_reply": "2023-06-09T17:19:10.825436Z",
     "shell.execute_reply.started": "2023-06-09T17:19:10.820901Z"
    },
    "tags": []
   },
   "outputs": [],
   "source": [
    "# Crear una sesión de Spark\n",
    "spark = SparkSession.builder.getOrCreate()"
   ]
  },
  {
   "cell_type": "code",
   "execution_count": 34,
   "id": "91040e29-e1ec-45bb-a08b-ae12bf989749",
   "metadata": {
    "execution": {
     "iopub.execute_input": "2023-06-09T17:19:14.245750Z",
     "iopub.status.busy": "2023-06-09T17:19:14.244904Z",
     "iopub.status.idle": "2023-06-09T17:19:14.256509Z",
     "shell.execute_reply": "2023-06-09T17:19:14.255252Z",
     "shell.execute_reply.started": "2023-06-09T17:19:14.245678Z"
    },
    "tags": []
   },
   "outputs": [],
   "source": [
    "americans_countries = ['Argentina', 'Bahamas', 'Belize', 'Bolivia (Plurinational State of)', 'Brazil', 'Canada', 'Chile', 'Colombia', 'Costa Rica', 'Cuba', \\\n",
    "                     'Dominica', 'Ecuador', 'El Salvador', 'United States of America', 'Granada', 'Guatemala', 'Guyana', 'Haití', 'Honduras', \\\n",
    "                     'Jamaica', 'Mexico', 'Nicaragua', 'Panama', 'Paraguay', 'Peru', 'Dominican Republic', 'Saint Vincent and the Grenadines', \\\n",
    "                     'Saint Lucia', 'Suriname', 'Trinidad and Tobago', 'Uruguay', 'Venezuela (Bolivarian Republic of)']\n",
    "oceanic_countries = ['Australia', 'Fiji', 'Marshall Islands', 'Salomon Islands', 'Kiribati', 'Micronesia (Federated States of)', 'Nauru', \\\n",
    "                     'New Zealand', 'Palau', 'Papúa Nueva Guinea', 'Samoa', 'Tonga', 'Tuvalu', 'Vanuatu']"
   ]
  },
  {
   "cell_type": "markdown",
   "id": "765a0002-0acd-4714-a6dc-55a76574723e",
   "metadata": {},
   "source": [
    "Los códigos de estado HTTP son números de tres dígitos que se utilizan para indicar el resultado de una solicitud al servidor. Algunos ejemplos comunes de códigos de estado son:\n",
    "\n",
    "    200 OK: La solicitud ha sido exitosa.\n",
    "    400 Bad Request: La solicitud no se pudo entender o contiene sintaxis incorrecta.\n",
    "    401 Unauthorized: La solicitud requiere autenticación o el usuario no tiene los permisos necesarios.\n",
    "    404 Not Found: El recurso solicitado no se encuentra en el servidor.\n",
    "    500 Internal Server Error: El servidor encontró una condición inesperada que le impidió cumplir con la solicitud."
   ]
  },
  {
   "cell_type": "code",
   "execution_count": 35,
   "id": "dfb49414-fed2-4551-a23a-cd9df7ea7a21",
   "metadata": {
    "execution": {
     "iopub.execute_input": "2023-06-09T17:19:18.721886Z",
     "iopub.status.busy": "2023-06-09T17:19:18.721577Z",
     "iopub.status.idle": "2023-06-09T17:19:18.725697Z",
     "shell.execute_reply": "2023-06-09T17:19:18.725051Z",
     "shell.execute_reply.started": "2023-06-09T17:19:18.721859Z"
    },
    "tags": []
   },
   "outputs": [],
   "source": [
    "url_00 =\"https://apps.who.int/gho/athena/data/GHO/WHS3_62?filter=COUNTRY:*;REGION:*&ead=&x-sideaxis=COUNTRY&x-topaxis=GHO;YEAR&profile=crosstable&format=csv\""
   ]
  },
  {
   "cell_type": "code",
   "execution_count": 36,
   "id": "6e4311f7-59f7-4bb7-a835-785d5c04089f",
   "metadata": {
    "execution": {
     "iopub.execute_input": "2023-06-09T17:19:23.080257Z",
     "iopub.status.busy": "2023-06-09T17:19:23.079278Z",
     "iopub.status.idle": "2023-06-09T17:19:23.513257Z",
     "shell.execute_reply": "2023-06-09T17:19:23.510381Z",
     "shell.execute_reply.started": "2023-06-09T17:19:23.080201Z"
    },
    "tags": []
   },
   "outputs": [
    {
     "name": "stdout",
     "output_type": "stream",
     "text": [
      "Archivo descargado exitosamente.\n"
     ]
    }
   ],
   "source": [
    "response = requests.get(url_00)\n",
    "\n",
    "# Verificar si la solicitud fue exitosa (código de estado 200)\n",
    "if response.status_code == 200:\n",
    "    # Guardar el contenido de la respuesta en un archivo\n",
    "    with open(\"who/data_00.csv\", \"wb\") as file:\n",
    "        file.write(response.content)\n",
    "    print(\"Archivo descargado exitosamente.\")\n",
    "else:\n",
    "    print(\"No se pudo realizar la descarga.\")"
   ]
  },
  {
   "cell_type": "code",
   "execution_count": null,
   "id": "ce3c6248-f8ac-4700-ac12-6d4f9f8cdeb2",
   "metadata": {},
   "outputs": [],
   "source": []
  },
  {
   "cell_type": "code",
   "execution_count": 37,
   "id": "a9613a6f-08bd-4982-bde7-2eea9c4f24b7",
   "metadata": {
    "execution": {
     "iopub.execute_input": "2023-06-09T17:19:27.086415Z",
     "iopub.status.busy": "2023-06-09T17:19:27.086066Z",
     "iopub.status.idle": "2023-06-09T17:19:27.091122Z",
     "shell.execute_reply": "2023-06-09T17:19:27.090161Z",
     "shell.execute_reply.started": "2023-06-09T17:19:27.086386Z"
    },
    "tags": []
   },
   "outputs": [],
   "source": [
    "# Ruta del archivo CSV\n",
    "\n",
    "csv_url_00 = \"who/data_00.csv\"\n",
    "\n",
    "# Crear una lista para almacenar las filas del archivo CSV\n",
    "rows_url_00 = []\n"
   ]
  },
  {
   "cell_type": "code",
   "execution_count": 38,
   "id": "031b7b3f-31b2-4c5d-ba6f-5ac8ffe8a904",
   "metadata": {
    "execution": {
     "iopub.execute_input": "2023-06-09T17:19:31.911007Z",
     "iopub.status.busy": "2023-06-09T17:19:31.910755Z",
     "iopub.status.idle": "2023-06-09T17:19:31.914680Z",
     "shell.execute_reply": "2023-06-09T17:19:31.914221Z",
     "shell.execute_reply.started": "2023-06-09T17:19:31.910992Z"
    },
    "tags": []
   },
   "outputs": [],
   "source": [
    "# Leer el archivo CSV y almacenar las filas en la lista\n",
    "with open(csv_url_00, \"r\") as file_csv_url_00:\n",
    "    csv_reader_url_00 = csv.reader(file_csv_url_00)\n",
    "    rows_url_00 = list(csv_reader_url_00)\n"
   ]
  },
  {
   "cell_type": "code",
   "execution_count": 39,
   "id": "1e6f9d2b-acd7-48aa-862b-7e127fa1d333",
   "metadata": {
    "execution": {
     "iopub.execute_input": "2023-06-09T17:19:35.451980Z",
     "iopub.status.busy": "2023-06-09T17:19:35.451418Z",
     "iopub.status.idle": "2023-06-09T17:19:35.461116Z",
     "shell.execute_reply": "2023-06-09T17:19:35.460099Z",
     "shell.execute_reply.started": "2023-06-09T17:19:35.451931Z"
    },
    "tags": []
   },
   "outputs": [],
   "source": [
    "# Eliminar las primeras 1 fila\n",
    "\n",
    "rows_url_00 = rows_url_00[1:]\n",
    "\n",
    "# Escribir las filas modificadas en un nuevo archivo CSV\n",
    "with open(\"who/data_00.csv\", \"w\", newline=\"\") as file_csv_url_00:\n",
    "    csv_writer_url_00 = csv.writer(file_csv_url_00)\n",
    "    csv_writer_url_00.writerows(rows_url_00)"
   ]
  },
  {
   "cell_type": "code",
   "execution_count": 40,
   "id": "2e6db323-5c2e-4514-9298-0a78a5790e01",
   "metadata": {
    "execution": {
     "iopub.execute_input": "2023-06-09T17:19:40.384287Z",
     "iopub.status.busy": "2023-06-09T17:19:40.383465Z",
     "iopub.status.idle": "2023-06-09T17:19:40.504364Z",
     "shell.execute_reply": "2023-06-09T17:19:40.503649Z",
     "shell.execute_reply.started": "2023-06-09T17:19:40.384192Z"
    },
    "tags": []
   },
   "outputs": [],
   "source": [
    "data_00 = spark.read.csv(\"who/data_00.csv\", header=True)"
   ]
  },
  {
   "cell_type": "code",
   "execution_count": 41,
   "id": "4942620d-5db1-4b28-ba8d-594d0f70dad9",
   "metadata": {
    "execution": {
     "iopub.execute_input": "2023-06-09T17:19:44.761709Z",
     "iopub.status.busy": "2023-06-09T17:19:44.761375Z",
     "iopub.status.idle": "2023-06-09T17:19:45.055574Z",
     "shell.execute_reply": "2023-06-09T17:19:45.055137Z",
     "shell.execute_reply.started": "2023-06-09T17:19:44.761679Z"
    },
    "tags": []
   },
   "outputs": [
    {
     "data": {
      "text/html": [
       "<div>\n",
       "<style scoped>\n",
       "    .dataframe tbody tr th:only-of-type {\n",
       "        vertical-align: middle;\n",
       "    }\n",
       "\n",
       "    .dataframe tbody tr th {\n",
       "        vertical-align: top;\n",
       "    }\n",
       "\n",
       "    .dataframe thead th {\n",
       "        text-align: right;\n",
       "    }\n",
       "</style>\n",
       "<table border=\"1\" class=\"dataframe\">\n",
       "  <thead>\n",
       "    <tr style=\"text-align: right;\">\n",
       "      <th></th>\n",
       "      <th>Countries, territories and areas</th>\n",
       "      <th>2021</th>\n",
       "      <th>2020</th>\n",
       "      <th>2019</th>\n",
       "      <th>2018</th>\n",
       "      <th>2017</th>\n",
       "      <th>2016</th>\n",
       "      <th>2015</th>\n",
       "      <th>2014</th>\n",
       "      <th>2013</th>\n",
       "      <th>2012</th>\n",
       "      <th>2011</th>\n",
       "      <th>2010</th>\n",
       "      <th>2009</th>\n",
       "      <th>2008</th>\n",
       "      <th>2007</th>\n",
       "      <th>2006</th>\n",
       "      <th>2005</th>\n",
       "      <th>2004</th>\n",
       "      <th>2003</th>\n",
       "      <th>2002</th>\n",
       "      <th>2001</th>\n",
       "      <th>2000</th>\n",
       "      <th>1999</th>\n",
       "      <th>1998</th>\n",
       "      <th>1997</th>\n",
       "      <th>1996</th>\n",
       "      <th>1995</th>\n",
       "      <th>1994</th>\n",
       "      <th>1993</th>\n",
       "      <th>1992</th>\n",
       "      <th>1991</th>\n",
       "      <th>1990</th>\n",
       "      <th>1989</th>\n",
       "      <th>1988</th>\n",
       "      <th>1987</th>\n",
       "      <th>1986</th>\n",
       "      <th>1985</th>\n",
       "      <th>1984</th>\n",
       "      <th>1983</th>\n",
       "      <th>1982</th>\n",
       "      <th>1981</th>\n",
       "      <th>1980</th>\n",
       "      <th>1979</th>\n",
       "      <th>1978</th>\n",
       "      <th>1977</th>\n",
       "      <th>1976</th>\n",
       "      <th>1975</th>\n",
       "      <th>1974</th>\n",
       "    </tr>\n",
       "  </thead>\n",
       "  <tbody>\n",
       "    <tr>\n",
       "      <th>0</th>\n",
       "      <td>Afghanistan</td>\n",
       "      <td>2900</td>\n",
       "      <td>640</td>\n",
       "      <td>353</td>\n",
       "      <td>2012</td>\n",
       "      <td>1511</td>\n",
       "      <td>638</td>\n",
       "      <td>1154</td>\n",
       "      <td>492</td>\n",
       "      <td>430</td>\n",
       "      <td>2787</td>\n",
       "      <td>3013</td>\n",
       "      <td>1989</td>\n",
       "      <td>2861</td>\n",
       "      <td>1599</td>\n",
       "      <td>1141</td>\n",
       "      <td>1990</td>\n",
       "      <td>1296</td>\n",
       "      <td>466</td>\n",
       "      <td>798</td>\n",
       "      <td>2486</td>\n",
       "      <td>8762</td>\n",
       "      <td>6532</td>\n",
       "      <td>3609</td>\n",
       "      <td>2205</td>\n",
       "      <td>None</td>\n",
       "      <td>None</td>\n",
       "      <td>None</td>\n",
       "      <td>None</td>\n",
       "      <td>None</td>\n",
       "      <td>None</td>\n",
       "      <td>792</td>\n",
       "      <td>1609</td>\n",
       "      <td>1170</td>\n",
       "      <td>4561</td>\n",
       "      <td>10357</td>\n",
       "      <td>8107</td>\n",
       "      <td>14457</td>\n",
       "      <td>16199</td>\n",
       "      <td>18808</td>\n",
       "      <td>20320</td>\n",
       "      <td>31107</td>\n",
       "      <td>32455</td>\n",
       "      <td>43979</td>\n",
       "      <td>43964</td>\n",
       "      <td>28174</td>\n",
       "      <td>26</td>\n",
       "      <td>466</td>\n",
       "      <td>7</td>\n",
       "    </tr>\n",
       "    <tr>\n",
       "      <th>1</th>\n",
       "      <td>Albania</td>\n",
       "      <td>None</td>\n",
       "      <td>4</td>\n",
       "      <td>488</td>\n",
       "      <td>1469</td>\n",
       "      <td>12</td>\n",
       "      <td>17</td>\n",
       "      <td>None</td>\n",
       "      <td>None</td>\n",
       "      <td>0</td>\n",
       "      <td>9</td>\n",
       "      <td>28</td>\n",
       "      <td>10</td>\n",
       "      <td>0</td>\n",
       "      <td>None</td>\n",
       "      <td>22</td>\n",
       "      <td>68</td>\n",
       "      <td>6</td>\n",
       "      <td>7</td>\n",
       "      <td>8</td>\n",
       "      <td>16</td>\n",
       "      <td>18</td>\n",
       "      <td>662</td>\n",
       "      <td>797</td>\n",
       "      <td>1901</td>\n",
       "      <td>2386</td>\n",
       "      <td>1204</td>\n",
       "      <td>15</td>\n",
       "      <td>29</td>\n",
       "      <td>7</td>\n",
       "      <td>0</td>\n",
       "      <td>0</td>\n",
       "      <td>None</td>\n",
       "      <td>136034</td>\n",
       "      <td>0</td>\n",
       "      <td>0</td>\n",
       "      <td>0</td>\n",
       "      <td>0</td>\n",
       "      <td>0</td>\n",
       "      <td>17</td>\n",
       "      <td>3</td>\n",
       "      <td>None</td>\n",
       "      <td>None</td>\n",
       "      <td>None</td>\n",
       "      <td>None</td>\n",
       "      <td>None</td>\n",
       "      <td>None</td>\n",
       "      <td>None</td>\n",
       "      <td>None</td>\n",
       "    </tr>\n",
       "    <tr>\n",
       "      <th>2</th>\n",
       "      <td>Algeria</td>\n",
       "      <td>None</td>\n",
       "      <td>None</td>\n",
       "      <td>2585</td>\n",
       "      <td>3356</td>\n",
       "      <td>112</td>\n",
       "      <td>41</td>\n",
       "      <td>63</td>\n",
       "      <td>0</td>\n",
       "      <td>25</td>\n",
       "      <td>18</td>\n",
       "      <td>112</td>\n",
       "      <td>103</td>\n",
       "      <td>107</td>\n",
       "      <td>217</td>\n",
       "      <td>0</td>\n",
       "      <td>944</td>\n",
       "      <td>2302</td>\n",
       "      <td>3289</td>\n",
       "      <td>15374</td>\n",
       "      <td>5862</td>\n",
       "      <td>2686</td>\n",
       "      <td>None</td>\n",
       "      <td>2503</td>\n",
       "      <td>3301</td>\n",
       "      <td>19573</td>\n",
       "      <td>21003</td>\n",
       "      <td>8204</td>\n",
       "      <td>5913</td>\n",
       "      <td>3141</td>\n",
       "      <td>8823</td>\n",
       "      <td>5969</td>\n",
       "      <td>1796</td>\n",
       "      <td>4169</td>\n",
       "      <td>2634</td>\n",
       "      <td>2500</td>\n",
       "      <td>3975</td>\n",
       "      <td>20114</td>\n",
       "      <td>22553</td>\n",
       "      <td>22126</td>\n",
       "      <td>29584</td>\n",
       "      <td>20849</td>\n",
       "      <td>15527</td>\n",
       "      <td>14937</td>\n",
       "      <td>10696</td>\n",
       "      <td>12015</td>\n",
       "      <td>15646</td>\n",
       "      <td>8899</td>\n",
       "      <td>10517</td>\n",
       "    </tr>\n",
       "  </tbody>\n",
       "</table>\n",
       "</div>"
      ],
      "text/plain": [
       "  Countries, territories and areas  2021  2020  2019  2018  2017  2016  2015  2014  2013  2012  2011  2010  2009  2008  2007  2006  2005  2004   2003  2002  2001  2000  1999  1998   1997   1996  1995  1994  1993  1992  1991  1990    1989  1988   1987  1986   1985   1984   1983   1982   1981   1980   1979   1978   1977   1976  1975   1974\n",
       "0                      Afghanistan  2900   640   353  2012  1511   638  1154   492   430  2787  3013  1989  2861  1599  1141  1990  1296   466    798  2486  8762  6532  3609  2205   None   None  None  None  None  None   792  1609    1170  4561  10357  8107  14457  16199  18808  20320  31107  32455  43979  43964  28174     26   466      7\n",
       "1                          Albania  None     4   488  1469    12    17  None  None     0     9    28    10     0  None    22    68     6     7      8    16    18   662   797  1901   2386   1204    15    29     7     0     0  None  136034     0      0     0      0      0     17      3   None   None   None   None   None   None  None   None\n",
       "2                          Algeria  None  None  2585  3356   112    41    63     0    25    18   112   103   107   217     0   944  2302  3289  15374  5862  2686  None  2503  3301  19573  21003  8204  5913  3141  8823  5969  1796    4169  2634   2500  3975  20114  22553  22126  29584  20849  15527  14937  10696  12015  15646  8899  10517"
      ]
     },
     "execution_count": 41,
     "metadata": {},
     "output_type": "execute_result"
    }
   ],
   "source": [
    "data_00.limit(3).pandas_api()"
   ]
  },
  {
   "cell_type": "code",
   "execution_count": 42,
   "id": "c02a083d-f27a-424d-8fe3-c6cf893e3c07",
   "metadata": {
    "execution": {
     "iopub.execute_input": "2023-06-09T17:19:49.613127Z",
     "iopub.status.busy": "2023-06-09T17:19:49.612854Z",
     "iopub.status.idle": "2023-06-09T17:19:49.618253Z",
     "shell.execute_reply": "2023-06-09T17:19:49.617531Z",
     "shell.execute_reply.started": "2023-06-09T17:19:49.613108Z"
    },
    "tags": []
   },
   "outputs": [
    {
     "data": {
      "text/plain": [
       "49"
      ]
     },
     "execution_count": 42,
     "metadata": {},
     "output_type": "execute_result"
    }
   ],
   "source": [
    "len(data_00.columns)"
   ]
  },
  {
   "cell_type": "code",
   "execution_count": 43,
   "id": "df39410f-2652-4216-9d1d-5b2806055155",
   "metadata": {
    "execution": {
     "iopub.execute_input": "2023-06-09T17:19:55.252115Z",
     "iopub.status.busy": "2023-06-09T17:19:55.251629Z",
     "iopub.status.idle": "2023-06-09T17:19:55.256886Z",
     "shell.execute_reply": "2023-06-09T17:19:55.256045Z",
     "shell.execute_reply.started": "2023-06-09T17:19:55.252073Z"
    },
    "tags": []
   },
   "outputs": [
    {
     "name": "stdout",
     "output_type": "stream",
     "text": [
      "['Countries, territories and areas', ' 2021', ' 2020', ' 2019', ' 2018', ' 2017', ' 2016', ' 2015', ' 2014', ' 2013', ' 2012', ' 2011', ' 2010', ' 2009', ' 2008', ' 2007', ' 2006', ' 2005', ' 2004', ' 2003', ' 2002', ' 2001', ' 2000', ' 1999', ' 1998', ' 1997', ' 1996', ' 1995', ' 1994', ' 1993', ' 1992', ' 1991', ' 1990', ' 1989', ' 1988', ' 1987', ' 1986', ' 1985', ' 1984', ' 1983', ' 1982', ' 1981', ' 1980', ' 1979', ' 1978', ' 1977', ' 1976', ' 1975', ' 1974']\n"
     ]
    }
   ],
   "source": [
    "print(data_00.columns)"
   ]
  },
  {
   "cell_type": "code",
   "execution_count": 44,
   "id": "a431d065-ab5e-4ba5-a739-7f1d6597aea4",
   "metadata": {
    "execution": {
     "iopub.execute_input": "2023-06-09T17:19:59.490064Z",
     "iopub.status.busy": "2023-06-09T17:19:59.489387Z",
     "iopub.status.idle": "2023-06-09T17:19:59.510640Z",
     "shell.execute_reply": "2023-06-09T17:19:59.510054Z",
     "shell.execute_reply.started": "2023-06-09T17:19:59.490031Z"
    },
    "tags": []
   },
   "outputs": [],
   "source": [
    "data_00 = data_00.selectExpr('`Countries, territories and areas`', \"stack(48, \\\n",
    "' 1974', ` 1974`, \\\n",
    "' 1975', ` 1975`, ' 1976', ` 1976`, ' 1977', ` 1977`, ' 1978', ` 1978`, ' 1979', ` 1979`, \\\n",
    "' 1980', ` 1980`, ' 1981', ` 1981`, ' 1982', ` 1982`, ' 1983', ` 1983`, ' 1984', ` 1984`, \\\n",
    "' 1985', ` 1985`, ' 1986', ` 1986`, ' 1987', ` 1987`, ' 1988', ` 1988`, ' 1989', ` 1989`, \\\n",
    "' 1990', ` 1990`, ' 1991', ` 1991`, ' 1992', ` 1992`, ' 1993', ` 1993`, ' 1994', ` 1994`, \\\n",
    "' 1995', ` 1995`, ' 1996', ` 1996`, ' 1997', ` 1997`, ' 1998', ` 1998`, ' 1999', ` 1999`, \\\n",
    "' 2000', ` 2000`, ' 2001', ` 2001`, ' 2002', ` 2002`, ' 2003', ` 2003`, ' 2004', ` 2004`, \\\n",
    "' 2005', ` 2005`, ' 2006', ` 2006`, ' 2007', ` 2007`, ' 2008', ` 2008`, ' 2009', ` 2009`, \\\n",
    "' 2010', ` 2010`, ' 2011', ` 2011`, ' 2012', ` 2012`, ' 2013', ` 2013`, ' 2014', ` 2014`, \\\n",
    "' 2015', ` 2015`, ' 2016', ` 2016`, ' 2017', ` 2017`, ' 2018', ` 2018`, ' 2019', ` 2019`, \\\n",
    "' 2020', ` 2020`, ' 2021', ` 2021`) as (Year, valor)\")"
   ]
  },
  {
   "cell_type": "code",
   "execution_count": 45,
   "id": "e13dade8-190f-4ac0-a299-653b6fb01a5c",
   "metadata": {
    "execution": {
     "iopub.execute_input": "2023-06-09T17:20:04.159330Z",
     "iopub.status.busy": "2023-06-09T17:20:04.159071Z",
     "iopub.status.idle": "2023-06-09T17:20:04.447276Z",
     "shell.execute_reply": "2023-06-09T17:20:04.446740Z",
     "shell.execute_reply.started": "2023-06-09T17:20:04.159309Z"
    },
    "tags": []
   },
   "outputs": [
    {
     "data": {
      "text/html": [
       "<div>\n",
       "<style scoped>\n",
       "    .dataframe tbody tr th:only-of-type {\n",
       "        vertical-align: middle;\n",
       "    }\n",
       "\n",
       "    .dataframe tbody tr th {\n",
       "        vertical-align: top;\n",
       "    }\n",
       "\n",
       "    .dataframe thead th {\n",
       "        text-align: right;\n",
       "    }\n",
       "</style>\n",
       "<table border=\"1\" class=\"dataframe\">\n",
       "  <thead>\n",
       "    <tr style=\"text-align: right;\">\n",
       "      <th></th>\n",
       "      <th>Countries, territories and areas</th>\n",
       "      <th>Year</th>\n",
       "      <th>valor</th>\n",
       "    </tr>\n",
       "  </thead>\n",
       "  <tbody>\n",
       "    <tr>\n",
       "      <th>0</th>\n",
       "      <td>Algeria</td>\n",
       "      <td>1974</td>\n",
       "      <td>10517</td>\n",
       "    </tr>\n",
       "    <tr>\n",
       "      <th>1</th>\n",
       "      <td>Bolivia (Plurinational State of)</td>\n",
       "      <td>1990</td>\n",
       "      <td>820</td>\n",
       "    </tr>\n",
       "    <tr>\n",
       "      <th>2</th>\n",
       "      <td>Estonia</td>\n",
       "      <td>1998</td>\n",
       "      <td>17</td>\n",
       "    </tr>\n",
       "    <tr>\n",
       "      <th>3</th>\n",
       "      <td>France</td>\n",
       "      <td>2015</td>\n",
       "      <td>157</td>\n",
       "    </tr>\n",
       "    <tr>\n",
       "      <th>4</th>\n",
       "      <td>Gabon</td>\n",
       "      <td>1992</td>\n",
       "      <td>1245</td>\n",
       "    </tr>\n",
       "  </tbody>\n",
       "</table>\n",
       "</div>"
      ],
      "text/plain": [
       "   Countries, territories and areas   Year  valor\n",
       "0                           Algeria   1974  10517\n",
       "1  Bolivia (Plurinational State of)   1990    820\n",
       "2                           Estonia   1998     17\n",
       "3                            France   2015    157\n",
       "4                             Gabon   1992   1245"
      ]
     },
     "execution_count": 45,
     "metadata": {},
     "output_type": "execute_result"
    }
   ],
   "source": [
    "data_00.sample(False, 5/data_00.count(), seed=150).limit(5).pandas_api()"
   ]
  },
  {
   "cell_type": "code",
   "execution_count": 46,
   "id": "07498245-4f2e-4bee-91be-424b188cadad",
   "metadata": {
    "execution": {
     "iopub.execute_input": "2023-06-09T17:20:10.310068Z",
     "iopub.status.busy": "2023-06-09T17:20:10.309775Z",
     "iopub.status.idle": "2023-06-09T17:20:10.347008Z",
     "shell.execute_reply": "2023-06-09T17:20:10.346406Z",
     "shell.execute_reply.started": "2023-06-09T17:20:10.310040Z"
    },
    "tags": []
   },
   "outputs": [],
   "source": [
    "data_00 = data_00.filter(col(\"Countries, territories and areas\").isin(americans_countries) | col(\"Countries, territories and areas\").isin(oceanic_countries))"
   ]
  },
  {
   "cell_type": "code",
   "execution_count": 47,
   "id": "4f4cac93-aa68-4355-a222-2962d1c71a72",
   "metadata": {
    "execution": {
     "iopub.execute_input": "2023-06-09T17:20:18.097174Z",
     "iopub.status.busy": "2023-06-09T17:20:18.096893Z",
     "iopub.status.idle": "2023-06-09T17:20:18.493502Z",
     "shell.execute_reply": "2023-06-09T17:20:18.492968Z",
     "shell.execute_reply.started": "2023-06-09T17:20:18.097150Z"
    },
    "tags": []
   },
   "outputs": [
    {
     "data": {
      "text/html": [
       "<div>\n",
       "<style scoped>\n",
       "    .dataframe tbody tr th:only-of-type {\n",
       "        vertical-align: middle;\n",
       "    }\n",
       "\n",
       "    .dataframe tbody tr th {\n",
       "        vertical-align: top;\n",
       "    }\n",
       "\n",
       "    .dataframe thead th {\n",
       "        text-align: right;\n",
       "    }\n",
       "</style>\n",
       "<table border=\"1\" class=\"dataframe\">\n",
       "  <thead>\n",
       "    <tr style=\"text-align: right;\">\n",
       "      <th></th>\n",
       "      <th>Countries, territories and areas</th>\n",
       "      <th>Year</th>\n",
       "      <th>valor</th>\n",
       "    </tr>\n",
       "  </thead>\n",
       "  <tbody>\n",
       "    <tr>\n",
       "      <th>0</th>\n",
       "      <td>Bahamas</td>\n",
       "      <td>1974</td>\n",
       "      <td>432</td>\n",
       "    </tr>\n",
       "    <tr>\n",
       "      <th>1</th>\n",
       "      <td>Canada</td>\n",
       "      <td>1991</td>\n",
       "      <td>6178</td>\n",
       "    </tr>\n",
       "    <tr>\n",
       "      <th>2</th>\n",
       "      <td>Cuba</td>\n",
       "      <td>1974</td>\n",
       "      <td>13874</td>\n",
       "    </tr>\n",
       "    <tr>\n",
       "      <th>3</th>\n",
       "      <td>Kiribati</td>\n",
       "      <td>1990</td>\n",
       "      <td>30</td>\n",
       "    </tr>\n",
       "    <tr>\n",
       "      <th>4</th>\n",
       "      <td>New Zealand</td>\n",
       "      <td>1978</td>\n",
       "      <td>None</td>\n",
       "    </tr>\n",
       "  </tbody>\n",
       "</table>\n",
       "</div>"
      ],
      "text/plain": [
       "  Countries, territories and areas   Year  valor\n",
       "0                          Bahamas   1974    432\n",
       "1                           Canada   1991   6178\n",
       "2                             Cuba   1974  13874\n",
       "3                         Kiribati   1990     30\n",
       "4                      New Zealand   1978   None"
      ]
     },
     "execution_count": 47,
     "metadata": {},
     "output_type": "execute_result"
    }
   ],
   "source": [
    "data_00.sample(False, 5/data_00.count(), seed=150).limit(5).pandas_api()"
   ]
  },
  {
   "cell_type": "code",
   "execution_count": 48,
   "id": "49bda8e4-5a75-4e38-b76f-7d7f507edf9f",
   "metadata": {
    "execution": {
     "iopub.execute_input": "2023-06-09T17:20:24.028791Z",
     "iopub.status.busy": "2023-06-09T17:20:24.028439Z",
     "iopub.status.idle": "2023-06-09T17:20:24.297254Z",
     "shell.execute_reply": "2023-06-09T17:20:24.296645Z",
     "shell.execute_reply.started": "2023-06-09T17:20:24.028762Z"
    },
    "tags": []
   },
   "outputs": [],
   "source": [
    "data_00.coalesce(1).write.option(\"header\", \"true\").mode(\"overwrite\").csv(\"oms_00\")"
   ]
  },
  {
   "cell_type": "code",
   "execution_count": null,
   "id": "934e730a-3bba-407a-a50c-b899e37e1da7",
   "metadata": {
    "execution": {
     "iopub.status.busy": "2023-06-09T17:00:16.558805Z",
     "iopub.status.idle": "2023-06-09T17:00:16.559144Z",
     "shell.execute_reply": "2023-06-09T17:00:16.559041Z",
     "shell.execute_reply.started": "2023-06-09T17:00:16.559029Z"
    },
    "tags": []
   },
   "outputs": [],
   "source": [
    "url_01 = \"https://apps.who.int/gho/athena/data/GHO/WHS3_62?filter=COUNTRY:-;REGION:AFR;REGION:AMR;REGION:SEAR;REGION:EUR;REGION:EMR;REGION:WPR;REGION:GLOBAL&ead=&x-sideaxis=REGION&x-topaxis=GHO;YEAR&profile=crosstable&format=csv\""
   ]
  },
  {
   "cell_type": "code",
   "execution_count": null,
   "id": "31788503-0e6f-4050-b5cb-d8521ba02463",
   "metadata": {
    "execution": {
     "iopub.status.busy": "2023-06-09T17:00:16.560287Z",
     "iopub.status.idle": "2023-06-09T17:00:16.560531Z",
     "shell.execute_reply": "2023-06-09T17:00:16.560436Z",
     "shell.execute_reply.started": "2023-06-09T17:00:16.560425Z"
    },
    "tags": []
   },
   "outputs": [],
   "source": [
    "import requests\n",
    "\n",
    "\n",
    "response = requests.get(url_01)\n",
    "\n",
    "# Verificar si la solicitud fue exitosa (código de estado 200)\n",
    "if response.status_code == 200:\n",
    "    # Guardar el contenido de la respuesta en un archivo\n",
    "    with open(\"who/data_01.csv\", \"wb\") as file:\n",
    "        file.write(response.content)\n",
    "    print(\"Archivo descargado exitosamente.\")\n",
    "else:\n",
    "    print(\"No se pudo realizar la descarga.\")"
   ]
  },
  {
   "cell_type": "code",
   "execution_count": null,
   "id": "b238345e-b5a2-400a-827b-573dcf5fe699",
   "metadata": {
    "execution": {
     "iopub.status.busy": "2023-06-09T17:00:16.561268Z",
     "iopub.status.idle": "2023-06-09T17:00:16.561488Z",
     "shell.execute_reply": "2023-06-09T17:00:16.561393Z",
     "shell.execute_reply.started": "2023-06-09T17:00:16.561382Z"
    },
    "tags": []
   },
   "outputs": [],
   "source": [
    "# Ruta del archivo CSV\n",
    "\n",
    "csv_url_01 = \"who/data_01.csv\"\n",
    "\n",
    "# Crear una lista para almacenar las filas del archivo CSV\n",
    "rows_url_01 = []\n",
    "\n",
    "\n",
    "#API_SE.PRM.CMPT.ZS_DS2_es_csv_v2_5478942"
   ]
  },
  {
   "cell_type": "code",
   "execution_count": null,
   "id": "dbd05744-9f07-4cd7-bb6b-2b18b9a8914b",
   "metadata": {
    "execution": {
     "iopub.status.busy": "2023-06-09T17:00:16.562427Z",
     "iopub.status.idle": "2023-06-09T17:00:16.562729Z",
     "shell.execute_reply": "2023-06-09T17:00:16.562594Z",
     "shell.execute_reply.started": "2023-06-09T17:00:16.562580Z"
    },
    "tags": []
   },
   "outputs": [],
   "source": [
    "# Leer el archivo CSV y almacenar las filas en la lista\n",
    "with open(csv_url_01, \"r\") as file_csv_url_01:\n",
    "    csv_reader_url_01 = csv.reader(file_csv_url_01)\n",
    "    rows_url_01 = list(csv_reader_url_01)\n"
   ]
  },
  {
   "cell_type": "code",
   "execution_count": null,
   "id": "367f8fd9-dccb-4947-b03c-c8b586c08bfe",
   "metadata": {
    "execution": {
     "iopub.status.busy": "2023-06-09T17:00:16.564042Z",
     "iopub.status.idle": "2023-06-09T17:00:16.564350Z",
     "shell.execute_reply": "2023-06-09T17:00:16.564217Z",
     "shell.execute_reply.started": "2023-06-09T17:00:16.564203Z"
    },
    "tags": []
   },
   "outputs": [],
   "source": [
    "# Eliminar las primeras 1 fila\n",
    "\n",
    "rows_url_01 = rows_url_01[1:]\n",
    "\n",
    "# Escribir las filas modificadas en un nuevo archivo CSV\n",
    "with open(\"who/data_01.csv\", \"w\", newline=\"\") as file_csv_url_01:\n",
    "    csv_writer_url_01 = csv.writer(file_csv_url_01)\n",
    "    csv_writer_url_01.writerows(rows_url_01)"
   ]
  },
  {
   "cell_type": "code",
   "execution_count": null,
   "id": "babeeb1d-da30-4bae-b705-93137121c1c1",
   "metadata": {
    "execution": {
     "iopub.status.busy": "2023-06-09T17:00:16.565428Z",
     "iopub.status.idle": "2023-06-09T17:00:16.565943Z",
     "shell.execute_reply": "2023-06-09T17:00:16.565714Z",
     "shell.execute_reply.started": "2023-06-09T17:00:16.565696Z"
    },
    "tags": []
   },
   "outputs": [],
   "source": [
    "data_01 = spark.read.csv(\"who/data_01.csv\", header=True)"
   ]
  },
  {
   "cell_type": "code",
   "execution_count": null,
   "id": "75c3824a-c158-4efd-af47-aea008e6d4a2",
   "metadata": {
    "execution": {
     "iopub.status.busy": "2023-06-09T17:00:16.566912Z",
     "iopub.status.idle": "2023-06-09T17:00:16.567423Z",
     "shell.execute_reply": "2023-06-09T17:00:16.567255Z",
     "shell.execute_reply.started": "2023-06-09T17:00:16.567222Z"
    },
    "tags": []
   },
   "outputs": [],
   "source": [
    "data_01.limit(3).pandas_api()"
   ]
  },
  {
   "cell_type": "code",
   "execution_count": null,
   "id": "1fc12c55-6928-4623-ad54-97cca662ba77",
   "metadata": {
    "execution": {
     "iopub.status.busy": "2023-06-09T17:00:16.568476Z",
     "iopub.status.idle": "2023-06-09T17:00:16.568820Z",
     "shell.execute_reply": "2023-06-09T17:00:16.568662Z",
     "shell.execute_reply.started": "2023-06-09T17:00:16.568644Z"
    },
    "tags": []
   },
   "outputs": [],
   "source": [
    "len(data_01.columns)"
   ]
  },
  {
   "cell_type": "code",
   "execution_count": null,
   "id": "e6ac1592-9d62-49ab-ac42-9bbdeb58ae71",
   "metadata": {},
   "outputs": [],
   "source": []
  },
  {
   "cell_type": "code",
   "execution_count": null,
   "id": "50c902d5-9397-48ee-92ad-c1f246183ff3",
   "metadata": {
    "execution": {
     "iopub.status.busy": "2023-06-09T17:00:16.569996Z",
     "iopub.status.idle": "2023-06-09T17:00:16.570535Z",
     "shell.execute_reply": "2023-06-09T17:00:16.570384Z",
     "shell.execute_reply.started": "2023-06-09T17:00:16.570354Z"
    },
    "tags": []
   },
   "outputs": [],
   "source": [
    "print(data_01.columns)"
   ]
  },
  {
   "cell_type": "code",
   "execution_count": null,
   "id": "606dd28c-12b5-4b01-a67f-3146c0979e1d",
   "metadata": {
    "execution": {
     "iopub.status.busy": "2023-06-09T17:00:16.571374Z",
     "iopub.status.idle": "2023-06-09T17:00:16.571686Z",
     "shell.execute_reply": "2023-06-09T17:00:16.571538Z",
     "shell.execute_reply.started": "2023-06-09T17:00:16.571522Z"
    },
    "tags": []
   },
   "outputs": [],
   "source": [
    "data_01 = data_01.selectExpr('`WHO region`', \"stack(42, \\\n",
    "' 1980', ` 1980`, ' 1981', ` 1981`, ' 1982', ` 1982`, ' 1983', ` 1983`, ' 1984', ` 1984`, \\\n",
    "' 1985', ` 1985`, ' 1986', ` 1986`, ' 1987', ` 1987`, ' 1988', ` 1988`, ' 1989', ` 1989`, \\\n",
    "' 1990', ` 1990`, ' 1991', ` 1991`, ' 1992', ` 1992`, ' 1993', ` 1993`, ' 1994', ` 1994`, \\\n",
    "' 1995', ` 1995`, ' 1996', ` 1996`, ' 1997', ` 1997`, ' 1998', ` 1998`, ' 1999', ` 1999`, \\\n",
    "' 2000', ` 2000`, ' 2001', ` 2001`, ' 2002', ` 2002`, ' 2003', ` 2003`, ' 2004', ` 2004`, \\\n",
    "' 2005', ` 2005`, ' 2006', ` 2006`, ' 2007', ` 2007`, ' 2008', ` 2008`, ' 2009', ` 2009`, \\\n",
    "' 2010', ` 2010`, ' 2011', ` 2011`, ' 2012', ` 2012`, ' 2013', ` 2013`, ' 2014', ` 2014`, \\\n",
    "' 2015', ` 2015`, ' 2016', ` 2016`, ' 2017', ` 2017`, ' 2018', ` 2018`, ' 2019', ` 2019`, \\\n",
    "' 2020', ` 2020`, ' 2021', ` 2021`) as (Year, region)\")"
   ]
  },
  {
   "cell_type": "code",
   "execution_count": null,
   "id": "cd6bf5ef-c2a8-4987-8cbb-d4c69c9c58b4",
   "metadata": {
    "execution": {
     "iopub.status.busy": "2023-06-09T17:00:16.572973Z",
     "iopub.status.idle": "2023-06-09T17:00:16.573443Z",
     "shell.execute_reply": "2023-06-09T17:00:16.573259Z",
     "shell.execute_reply.started": "2023-06-09T17:00:16.573243Z"
    },
    "tags": []
   },
   "outputs": [],
   "source": [
    "data_01.sample(False, 5/data_01.count(), seed=150).limit(5).pandas_api()"
   ]
  },
  {
   "cell_type": "code",
   "execution_count": null,
   "id": "704d6637-82a5-430f-b481-78c87b319d52",
   "metadata": {
    "execution": {
     "iopub.status.busy": "2023-06-09T17:00:16.574333Z",
     "iopub.status.idle": "2023-06-09T17:00:16.574688Z",
     "shell.execute_reply": "2023-06-09T17:00:16.574539Z",
     "shell.execute_reply.started": "2023-06-09T17:00:16.574522Z"
    },
    "tags": []
   },
   "outputs": [],
   "source": [
    "data_01.coalesce(1).write.option(\"header\", \"true\").mode(\"overwrite\").csv(\"oms_01\")"
   ]
  },
  {
   "cell_type": "code",
   "execution_count": null,
   "id": "ddeefb69-0d64-4e12-b7a9-4a1dee359bfc",
   "metadata": {
    "execution": {
     "iopub.status.busy": "2023-06-09T17:00:16.575845Z",
     "iopub.status.idle": "2023-06-09T17:00:16.576458Z",
     "shell.execute_reply": "2023-06-09T17:00:16.576306Z",
     "shell.execute_reply.started": "2023-06-09T17:00:16.576289Z"
    },
    "tags": []
   },
   "outputs": [],
   "source": [
    "url_02 =\"https://apps.who.int/gho/athena/data/GHO/cpmowho,cpmt,fps,fpsmowho?filter=COUNTRY:*;AGEGROUP:*&ead=&x-sideaxis=COUNTRY;YEAR;DATASOURCE&x-topaxis=GHO;AGEGROUP&profile=crosstable&format=csv\""
   ]
  },
  {
   "cell_type": "code",
   "execution_count": null,
   "id": "6bf3d849-bb6e-4267-be1e-1a6147a8b05c",
   "metadata": {
    "execution": {
     "iopub.status.busy": "2023-06-09T17:00:16.577265Z",
     "iopub.status.idle": "2023-06-09T17:00:16.577584Z",
     "shell.execute_reply": "2023-06-09T17:00:16.577429Z",
     "shell.execute_reply.started": "2023-06-09T17:00:16.577413Z"
    },
    "tags": []
   },
   "outputs": [],
   "source": [
    "import requests\n",
    "\n",
    "\n",
    "response = requests.get(url_02)\n",
    "\n",
    "# Verificar si la solicitud fue exitosa (código de estado 200)\n",
    "if response.status_code == 200:\n",
    "    # Guardar el contenido de la respuesta en un archivo\n",
    "    with open(\"who/data_02.csv\", \"wb\") as file:\n",
    "        file.write(response.content)\n",
    "    print(\"Archivo descargado exitosamente.\")\n",
    "else:\n",
    "    print(\"No se pudo realizar la descarga.\")"
   ]
  },
  {
   "cell_type": "code",
   "execution_count": null,
   "id": "4606785f-6595-47a0-b122-dd2ac23eb4d2",
   "metadata": {
    "execution": {
     "iopub.status.busy": "2023-06-09T17:00:16.578718Z",
     "iopub.status.idle": "2023-06-09T17:00:16.579177Z",
     "shell.execute_reply": "2023-06-09T17:00:16.579023Z",
     "shell.execute_reply.started": "2023-06-09T17:00:16.579007Z"
    },
    "tags": []
   },
   "outputs": [],
   "source": [
    "# Ruta del archivo CSV\n",
    "\n",
    "csv_url_02 = \"who/data_02.csv\"\n",
    "\n",
    "# Crear una lista para almacenar las filas del archivo CSV\n",
    "rows_url_02 = []\n",
    "\n",
    "\n",
    "#API_SE.PRM.CMPT.ZS_DS2_es_csv_v2_5478942"
   ]
  },
  {
   "cell_type": "code",
   "execution_count": null,
   "id": "be77961c-0b3f-4dfa-8f39-16716f53a819",
   "metadata": {
    "execution": {
     "iopub.status.busy": "2023-06-09T17:00:16.580031Z",
     "iopub.status.idle": "2023-06-09T17:00:16.580605Z",
     "shell.execute_reply": "2023-06-09T17:00:16.580427Z",
     "shell.execute_reply.started": "2023-06-09T17:00:16.580397Z"
    },
    "tags": []
   },
   "outputs": [],
   "source": [
    "# Leer el archivo CSV y almacenar las filas en la lista\n",
    "with open(csv_url_02, \"r\") as file_csv_url_02:\n",
    "    csv_reader_url_02 = csv.reader(file_csv_url_02)\n",
    "    rows_url_02 = list(csv_reader_url_02)\n"
   ]
  },
  {
   "cell_type": "code",
   "execution_count": null,
   "id": "6dd38c5b-7efb-4218-81d2-441a298b5df0",
   "metadata": {
    "execution": {
     "iopub.status.busy": "2023-06-09T17:00:16.581547Z",
     "iopub.status.idle": "2023-06-09T17:00:16.581982Z",
     "shell.execute_reply": "2023-06-09T17:00:16.581825Z",
     "shell.execute_reply.started": "2023-06-09T17:00:16.581809Z"
    },
    "tags": []
   },
   "outputs": [],
   "source": [
    "# Eliminar las primeras 1 fila\n",
    "\n",
    "rows_url_02 = rows_url_02[1:]\n",
    "\n",
    "# Escribir las filas modificadas en un nuevo archivo CSV\n",
    "with open(\"who/data_02.csv\", \"w\", newline=\"\") as file_csv_url_02:\n",
    "    csv_writer_url_02 = csv.writer(file_csv_url_02)\n",
    "    csv_writer_url_02.writerows(rows_url_02)"
   ]
  },
  {
   "cell_type": "code",
   "execution_count": null,
   "id": "a1a1044f-5f98-41b2-9faf-bcc2e9b902c8",
   "metadata": {
    "execution": {
     "iopub.status.busy": "2023-06-09T17:00:16.583041Z",
     "iopub.status.idle": "2023-06-09T17:00:16.583356Z",
     "shell.execute_reply": "2023-06-09T17:00:16.583207Z",
     "shell.execute_reply.started": "2023-06-09T17:00:16.583192Z"
    },
    "tags": []
   },
   "outputs": [],
   "source": [
    "data_02 = spark.read.csv(\"who/data_02.csv\", header=True)"
   ]
  },
  {
   "cell_type": "code",
   "execution_count": null,
   "id": "cd8f01be-67b2-4764-a99b-bf863ad5e7e7",
   "metadata": {
    "execution": {
     "iopub.status.busy": "2023-06-09T17:00:16.584443Z",
     "iopub.status.idle": "2023-06-09T17:00:16.584999Z",
     "shell.execute_reply": "2023-06-09T17:00:16.584844Z",
     "shell.execute_reply.started": "2023-06-09T17:00:16.584826Z"
    },
    "tags": []
   },
   "outputs": [],
   "source": [
    "data_02.limit(3).pandas_api()"
   ]
  },
  {
   "cell_type": "code",
   "execution_count": null,
   "id": "8f0465ba-3d52-4658-9012-c0235d93a9af",
   "metadata": {
    "execution": {
     "iopub.status.busy": "2023-06-09T17:00:16.585965Z",
     "iopub.status.idle": "2023-06-09T17:00:16.586530Z",
     "shell.execute_reply": "2023-06-09T17:00:16.586374Z",
     "shell.execute_reply.started": "2023-06-09T17:00:16.586343Z"
    },
    "tags": []
   },
   "outputs": [],
   "source": [
    "len(data_02.columns)"
   ]
  },
  {
   "cell_type": "code",
   "execution_count": null,
   "id": "e6cbc341-7512-4396-9b62-7a95ab4cef8b",
   "metadata": {
    "execution": {
     "iopub.status.busy": "2023-06-09T17:00:16.587297Z",
     "iopub.status.idle": "2023-06-09T17:00:16.587828Z",
     "shell.execute_reply": "2023-06-09T17:00:16.587642Z",
     "shell.execute_reply.started": "2023-06-09T17:00:16.587626Z"
    },
    "tags": []
   },
   "outputs": [],
   "source": [
    "print(data_02.columns)"
   ]
  },
  {
   "cell_type": "code",
   "execution_count": null,
   "id": "7e764989-a1f3-4c78-9657-cb0738aa0353",
   "metadata": {
    "execution": {
     "iopub.status.busy": "2023-06-09T17:00:16.588811Z",
     "iopub.status.idle": "2023-06-09T17:00:16.589257Z",
     "shell.execute_reply": "2023-06-09T17:00:16.589106Z",
     "shell.execute_reply.started": "2023-06-09T17:00:16.589088Z"
    },
    "tags": []
   },
   "outputs": [],
   "source": [
    "new_columns = ['Countries, territories and areas', 'Year', 'Data Source', 'Contraceptive prevalence - use of modern methods (%)20-49 years3', ' Contraceptive prevalence - use of modern methods (%)15-19 years4', ' Contraceptive prevalence - use of modern and traditional methods (%) 20-49 years9', ' Contraceptive prevalence - use of modern and traditional methods (%)15-19 years',' Demand of family planing satisfied - ose of modern methods (%)20-49 years5', ' Demand of family planing satisfied - use of modern methods (%)15-19 years6', 'Demand of family planing satisfied - use of modern methods and traditional(%)20-49 years7', ' Demand of family planing satisfied - use of modern methods and traditional(%)15-19 years8']"
   ]
  },
  {
   "cell_type": "code",
   "execution_count": null,
   "id": "9dad9168-9f41-43d9-a342-51fedf6a3c88",
   "metadata": {
    "execution": {
     "iopub.status.busy": "2023-06-09T17:00:16.590223Z",
     "iopub.status.idle": "2023-06-09T17:00:16.590811Z",
     "shell.execute_reply": "2023-06-09T17:00:16.590610Z",
     "shell.execute_reply.started": "2023-06-09T17:00:16.590594Z"
    },
    "tags": []
   },
   "outputs": [],
   "source": [
    "data_02 = data_02.toDF(*new_columns)"
   ]
  },
  {
   "cell_type": "code",
   "execution_count": null,
   "id": "9f3b93f6-3ca9-4d06-8c6b-08d92e76b377",
   "metadata": {
    "execution": {
     "iopub.status.busy": "2023-06-09T17:00:16.591602Z",
     "iopub.status.idle": "2023-06-09T17:00:16.591914Z",
     "shell.execute_reply": "2023-06-09T17:00:16.591766Z",
     "shell.execute_reply.started": "2023-06-09T17:00:16.591751Z"
    },
    "tags": []
   },
   "outputs": [],
   "source": [
    "data_02.sample(False, 10/data_02.count(), seed=150).limit(10).pandas_api()"
   ]
  },
  {
   "cell_type": "code",
   "execution_count": null,
   "id": "fccae089-ed1c-4084-9802-70e8ac5ee61e",
   "metadata": {
    "execution": {
     "iopub.status.busy": "2023-06-09T17:00:16.593026Z",
     "iopub.status.idle": "2023-06-09T17:00:16.593488Z",
     "shell.execute_reply": "2023-06-09T17:00:16.593332Z",
     "shell.execute_reply.started": "2023-06-09T17:00:16.593315Z"
    },
    "tags": []
   },
   "outputs": [],
   "source": [
    "data_02 = data_02.filter(col(\"Countries, territories and areas\").isin(americans_countries) | col(\"Countries, territories and areas\").isin(oceanic_countries))"
   ]
  },
  {
   "cell_type": "code",
   "execution_count": null,
   "id": "aa5a0e5b-633a-41b2-83d0-f2c4da2718c1",
   "metadata": {
    "execution": {
     "iopub.status.busy": "2023-06-09T17:00:16.594486Z",
     "iopub.status.idle": "2023-06-09T17:00:16.594947Z",
     "shell.execute_reply": "2023-06-09T17:00:16.594786Z",
     "shell.execute_reply.started": "2023-06-09T17:00:16.594770Z"
    },
    "tags": []
   },
   "outputs": [],
   "source": [
    "data_02.coalesce(1).write.option(\"header\", \"true\").mode(\"overwrite\").csv(\"oms_02\")"
   ]
  },
  {
   "cell_type": "code",
   "execution_count": null,
   "id": "23e40d8d-6475-48a1-a75f-cb63e31c815b",
   "metadata": {
    "execution": {
     "iopub.status.busy": "2023-06-09T17:00:16.595801Z",
     "iopub.status.idle": "2023-06-09T17:00:16.596195Z",
     "shell.execute_reply": "2023-06-09T17:00:16.596037Z",
     "shell.execute_reply.started": "2023-06-09T17:00:16.596020Z"
    },
    "tags": []
   },
   "outputs": [],
   "source": [
    "url_03 = \"https://apps.who.int/gho/athena/data/GHO/WHOSIS_000002,WHOSIS_000007?filter=COUNTRY:*&ead=&x-sideaxis=COUNTRY&x-topaxis=GHO;SEX;YEAR&profile=crosstable&format=csv\""
   ]
  },
  {
   "cell_type": "code",
   "execution_count": null,
   "id": "9a8b4983-941f-4bb8-b74c-be62d030dd40",
   "metadata": {
    "execution": {
     "iopub.status.busy": "2023-06-09T17:00:16.597497Z",
     "iopub.status.idle": "2023-06-09T17:00:16.597831Z",
     "shell.execute_reply": "2023-06-09T17:00:16.597664Z",
     "shell.execute_reply.started": "2023-06-09T17:00:16.597647Z"
    },
    "tags": []
   },
   "outputs": [],
   "source": [
    "response = requests.get(url_03)\n",
    "\n",
    "# Verificar si la solicitud fue exitosa (código de estado 200)\n",
    "if response.status_code == 200:\n",
    "    # Guardar el contenido de la respuesta en un archivo\n",
    "    with open(\"who/data_03.csv\", \"wb\") as file:\n",
    "        file.write(response.content)\n",
    "    print(\"Archivo descargado exitosamente.\")\n",
    "else:\n",
    "    print(\"No se pudo realizar la descarga.\")"
   ]
  },
  {
   "cell_type": "code",
   "execution_count": null,
   "id": "f6128bd5-6192-4c77-a26e-cf04a567cafd",
   "metadata": {},
   "outputs": [],
   "source": []
  },
  {
   "cell_type": "code",
   "execution_count": null,
   "id": "ced031d5-88a4-4aca-9867-636e13766ca6",
   "metadata": {
    "execution": {
     "iopub.status.busy": "2023-06-09T17:00:16.598973Z",
     "iopub.status.idle": "2023-06-09T17:00:16.599468Z",
     "shell.execute_reply": "2023-06-09T17:00:16.599311Z",
     "shell.execute_reply.started": "2023-06-09T17:00:16.599295Z"
    },
    "tags": []
   },
   "outputs": [],
   "source": [
    "# Ruta del archivo CSV\n",
    "\n",
    "csv_url_03 = \"who/data_03.csv\"\n",
    "\n",
    "# Crear una lista para almacenar las filas del archivo CSV\n",
    "rows_url_03 = []"
   ]
  },
  {
   "cell_type": "code",
   "execution_count": null,
   "id": "e98b2868-e13a-4953-a9c7-7f2d5f791870",
   "metadata": {
    "execution": {
     "iopub.status.busy": "2023-06-09T17:00:16.600477Z",
     "iopub.status.idle": "2023-06-09T17:00:16.600976Z",
     "shell.execute_reply": "2023-06-09T17:00:16.600817Z",
     "shell.execute_reply.started": "2023-06-09T17:00:16.600800Z"
    },
    "tags": []
   },
   "outputs": [],
   "source": [
    "# Leer el archivo CSV y almacenar las filas en la lista\n",
    "with open(csv_url_03, \"r\") as file_csv_url_03:\n",
    "    csv_reader_url_03 = csv.reader(file_csv_url_03)\n",
    "    rows_url_03 = list(csv_reader_url_03)"
   ]
  },
  {
   "cell_type": "code",
   "execution_count": null,
   "id": "c80118bb-5a38-489b-95c1-953f77692aed",
   "metadata": {
    "execution": {
     "iopub.status.busy": "2023-06-09T17:00:16.602307Z",
     "iopub.status.idle": "2023-06-09T17:00:16.602834Z",
     "shell.execute_reply": "2023-06-09T17:00:16.602677Z",
     "shell.execute_reply.started": "2023-06-09T17:00:16.602659Z"
    },
    "tags": []
   },
   "outputs": [],
   "source": [
    "# Eliminar las primeras 4 filas\n",
    "\n",
    "rows_url_03 = rows_url_03[2:]\n",
    "\n",
    "# Escribir las filas modificadas en un nuevo archivo CSV\n",
    "with open(\"who/data_03.csv\", \"w\", newline=\"\") as file_csv_url_03:\n",
    "    csv_writer_url_03 = csv.writer(file_csv_url_03)\n",
    "    csv_writer_url_03.writerows(rows_url_03)"
   ]
  },
  {
   "cell_type": "code",
   "execution_count": null,
   "id": "5462acac-edbb-4115-ae28-76d29c562a01",
   "metadata": {
    "execution": {
     "iopub.status.busy": "2023-06-09T17:00:16.603874Z",
     "iopub.status.idle": "2023-06-09T17:00:16.604252Z",
     "shell.execute_reply": "2023-06-09T17:00:16.604113Z",
     "shell.execute_reply.started": "2023-06-09T17:00:16.604099Z"
    },
    "tags": []
   },
   "outputs": [],
   "source": [
    "data_03 = spark.read.csv(\"who/data_03.csv\", header=True)"
   ]
  },
  {
   "cell_type": "code",
   "execution_count": null,
   "id": "36e40fb9-1478-4579-a658-38597fcf6903",
   "metadata": {
    "execution": {
     "iopub.status.busy": "2023-06-09T17:00:16.605049Z",
     "iopub.status.idle": "2023-06-09T17:00:16.605336Z",
     "shell.execute_reply": "2023-06-09T17:00:16.605199Z",
     "shell.execute_reply.started": "2023-06-09T17:00:16.605185Z"
    },
    "tags": []
   },
   "outputs": [],
   "source": [
    "data_03.limit(3).pandas_api()"
   ]
  },
  {
   "cell_type": "code",
   "execution_count": null,
   "id": "1c673fd7-7a7a-42f2-a134-153a67a02d2e",
   "metadata": {
    "execution": {
     "iopub.status.busy": "2023-06-09T17:00:16.606613Z",
     "iopub.status.idle": "2023-06-09T17:00:16.606941Z",
     "shell.execute_reply": "2023-06-09T17:00:16.606800Z",
     "shell.execute_reply.started": "2023-06-09T17:00:16.606785Z"
    },
    "tags": []
   },
   "outputs": [],
   "source": [
    "print(data_03.columns)"
   ]
  },
  {
   "cell_type": "code",
   "execution_count": null,
   "id": "a0b4664e-1fee-4351-b08b-77b1da658b63",
   "metadata": {
    "execution": {
     "iopub.status.busy": "2023-06-09T17:00:16.608072Z",
     "iopub.status.idle": "2023-06-09T17:00:16.608500Z",
     "shell.execute_reply": "2023-06-09T17:00:16.608375Z",
     "shell.execute_reply.started": "2023-06-09T17:00:16.608361Z"
    },
    "tags": []
   },
   "outputs": [],
   "source": [
    "data_03_1 = data_03.selectExpr('`Countries, territories and areas`', \"stack(4, \\\n",
    "'2019', ` 20191`, '2015', ` 20152`, '2010', ` 20103`, '2000', ` 20004`) as (Year, HALE)\")"
   ]
  },
  {
   "cell_type": "code",
   "execution_count": null,
   "id": "876f6a85-bc32-4676-bff1-1b0c4499118b",
   "metadata": {
    "execution": {
     "iopub.status.busy": "2023-06-09T17:00:16.609482Z",
     "iopub.status.idle": "2023-06-09T17:00:16.609832Z",
     "shell.execute_reply": "2023-06-09T17:00:16.609727Z",
     "shell.execute_reply.started": "2023-06-09T17:00:16.609716Z"
    },
    "tags": []
   },
   "outputs": [],
   "source": [
    "data_03_1.sample(False, 10/data_03_1.count(), seed=150).limit(10).pandas_api()"
   ]
  },
  {
   "cell_type": "code",
   "execution_count": null,
   "id": "8aedaea9-9dde-4494-b54b-b3368713f3d3",
   "metadata": {
    "execution": {
     "iopub.status.busy": "2023-06-09T17:00:16.610755Z",
     "iopub.status.idle": "2023-06-09T17:00:16.611166Z",
     "shell.execute_reply": "2023-06-09T17:00:16.611064Z",
     "shell.execute_reply.started": "2023-06-09T17:00:16.611052Z"
    },
    "tags": []
   },
   "outputs": [],
   "source": [
    "data_03_1 = data_03_1.filter(col(\"Countries, territories and areas\").isin() | col(\"Countries, territories and areas\").isin(oceanic_countries))\n",
    "#data_00 = data_00.filter(col(\"Year\") >= \"1970\")"
   ]
  },
  {
   "cell_type": "code",
   "execution_count": null,
   "id": "a0fb0dc6-4cbd-4df7-8287-0742b264bb1f",
   "metadata": {
    "execution": {
     "iopub.status.busy": "2023-06-09T17:00:16.611969Z",
     "iopub.status.idle": "2023-06-09T17:00:16.612300Z",
     "shell.execute_reply": "2023-06-09T17:00:16.612200Z",
     "shell.execute_reply.started": "2023-06-09T17:00:16.612189Z"
    },
    "tags": []
   },
   "outputs": [],
   "source": [
    "data_03_1.sample(False, 10/data_03_1.count(), seed=150).limit(10).pandas_api()"
   ]
  },
  {
   "cell_type": "code",
   "execution_count": null,
   "id": "bc86d2f2-bb08-45f6-afd8-d2a0f068b983",
   "metadata": {
    "execution": {
     "iopub.status.busy": "2023-06-09T17:00:16.613145Z",
     "iopub.status.idle": "2023-06-09T17:00:16.613472Z",
     "shell.execute_reply": "2023-06-09T17:00:16.613374Z",
     "shell.execute_reply.started": "2023-06-09T17:00:16.613363Z"
    },
    "tags": []
   },
   "outputs": [],
   "source": [
    "data_03_1.coalesce(1).write.option(\"header\", \"true\").mode(\"overwrite\").csv(\"hale\")"
   ]
  },
  {
   "cell_type": "code",
   "execution_count": null,
   "id": "dce3b687-d084-4afd-ad56-c270a2108eaa",
   "metadata": {
    "execution": {
     "iopub.status.busy": "2023-06-09T17:00:16.614224Z",
     "iopub.status.idle": "2023-06-09T17:00:16.614452Z",
     "shell.execute_reply": "2023-06-09T17:00:16.614333Z",
     "shell.execute_reply.started": "2023-06-09T17:00:16.614323Z"
    },
    "tags": []
   },
   "outputs": [],
   "source": [
    "data_03_2 = data_03.selectExpr('`Countries, territories and areas`', \"stack(4, \\\n",
    "'2019', ` 20195`, '2015', ` 20156`, '2010', ` 20107`, '2000', ` 20008`) as (Year, HALE_male)\")"
   ]
  },
  {
   "cell_type": "code",
   "execution_count": null,
   "id": "8c4653c8-6d0c-4ad5-b787-163c40c73450",
   "metadata": {
    "execution": {
     "iopub.status.busy": "2023-06-09T17:00:16.615320Z",
     "iopub.status.idle": "2023-06-09T17:00:16.615569Z",
     "shell.execute_reply": "2023-06-09T17:00:16.615471Z",
     "shell.execute_reply.started": "2023-06-09T17:00:16.615460Z"
    },
    "tags": []
   },
   "outputs": [],
   "source": [
    "data_03_2.sample(False, 10/data_03_2.count(), seed=150).limit(10).pandas_api()"
   ]
  },
  {
   "cell_type": "code",
   "execution_count": null,
   "id": "3939ae37-28db-4d96-9dfc-c3b62bfa8432",
   "metadata": {
    "execution": {
     "iopub.status.busy": "2023-06-09T17:00:16.616490Z",
     "iopub.status.idle": "2023-06-09T17:00:16.616821Z",
     "shell.execute_reply": "2023-06-09T17:00:16.616723Z",
     "shell.execute_reply.started": "2023-06-09T17:00:16.616712Z"
    },
    "tags": []
   },
   "outputs": [],
   "source": [
    "data_03_2 = data_03_2.filter(col(\"Countries, territories and areas\").isin() | col(\"Countries, territories and areas\").isin(oceanic_countries))"
   ]
  },
  {
   "cell_type": "code",
   "execution_count": null,
   "id": "aa413b78-ee8e-4701-99c7-7614e3371fc5",
   "metadata": {
    "execution": {
     "iopub.status.busy": "2023-06-09T17:00:16.617504Z",
     "iopub.status.idle": "2023-06-09T17:00:16.617837Z",
     "shell.execute_reply": "2023-06-09T17:00:16.617718Z",
     "shell.execute_reply.started": "2023-06-09T17:00:16.617704Z"
    },
    "tags": []
   },
   "outputs": [],
   "source": [
    "data_03_2.sample(False, 10/data_03_2.count(), seed=150).limit(10).pandas_api()"
   ]
  },
  {
   "cell_type": "code",
   "execution_count": null,
   "id": "a46a6785-449c-414b-83dc-9ae4bab92573",
   "metadata": {
    "execution": {
     "iopub.status.busy": "2023-06-09T17:00:16.618683Z",
     "iopub.status.idle": "2023-06-09T17:00:16.619223Z",
     "shell.execute_reply": "2023-06-09T17:00:16.618979Z",
     "shell.execute_reply.started": "2023-06-09T17:00:16.618967Z"
    },
    "tags": []
   },
   "outputs": [],
   "source": [
    "data_03_2.coalesce(1).write.option(\"header\", \"true\").mode(\"overwrite\").csv(\"hale_male\")"
   ]
  },
  {
   "cell_type": "code",
   "execution_count": null,
   "id": "be8098c9-321a-46bb-8424-a368be4bbe1b",
   "metadata": {
    "execution": {
     "iopub.status.busy": "2023-06-09T17:00:16.620397Z",
     "iopub.status.idle": "2023-06-09T17:00:16.620785Z",
     "shell.execute_reply": "2023-06-09T17:00:16.620634Z",
     "shell.execute_reply.started": "2023-06-09T17:00:16.620619Z"
    },
    "tags": []
   },
   "outputs": [],
   "source": [
    "data_03_3 = data_03.selectExpr('`Countries, territories and areas`', \"stack(4, \\\n",
    "'2019', ` 20191`, '2015', ` 20152`, '2010', ` 20103`, '2000', ` 20004`) as (Year, HALE_female)\")"
   ]
  },
  {
   "cell_type": "code",
   "execution_count": null,
   "id": "dc2dfdc9-b49f-4572-94fe-f4fe1366038e",
   "metadata": {
    "execution": {
     "iopub.status.busy": "2023-06-09T17:00:16.622331Z",
     "iopub.status.idle": "2023-06-09T17:00:16.622617Z",
     "shell.execute_reply": "2023-06-09T17:00:16.622515Z",
     "shell.execute_reply.started": "2023-06-09T17:00:16.622504Z"
    },
    "tags": []
   },
   "outputs": [],
   "source": [
    "data_03_3.sample(False, 10/data_03_1.count(), seed=150).limit(10).pandas_api()"
   ]
  },
  {
   "cell_type": "code",
   "execution_count": null,
   "id": "d982037b-f2e4-4d3a-8ac1-8c39a480860a",
   "metadata": {
    "execution": {
     "iopub.status.busy": "2023-06-09T17:00:16.623423Z",
     "iopub.status.idle": "2023-06-09T17:00:16.623717Z",
     "shell.execute_reply": "2023-06-09T17:00:16.623579Z",
     "shell.execute_reply.started": "2023-06-09T17:00:16.623564Z"
    },
    "tags": []
   },
   "outputs": [],
   "source": [
    "data_03_3 = data_03_3.filter(col(\"Countries, territories and areas\").isin() | col(\"Countries, territories and areas\").isin(oceanic_countries))\n",
    "#data_00 = data_00.filter(col(\"Year\") >= \"1970\")"
   ]
  },
  {
   "cell_type": "code",
   "execution_count": null,
   "id": "1affbd2a-6260-41d2-b890-2890884c8834",
   "metadata": {
    "execution": {
     "iopub.status.busy": "2023-06-09T17:00:16.624943Z",
     "iopub.status.idle": "2023-06-09T17:00:16.625256Z",
     "shell.execute_reply": "2023-06-09T17:00:16.625158Z",
     "shell.execute_reply.started": "2023-06-09T17:00:16.625147Z"
    },
    "tags": []
   },
   "outputs": [],
   "source": [
    "data_03_3.sample(False, 10/data_03_1.count(), seed=150).limit(10).pandas_api()"
   ]
  },
  {
   "cell_type": "code",
   "execution_count": null,
   "id": "b4454cc0-5dd7-44fa-bda9-2ac8d2f19b3a",
   "metadata": {
    "execution": {
     "iopub.status.busy": "2023-06-09T17:00:16.626270Z",
     "iopub.status.idle": "2023-06-09T17:00:16.626501Z",
     "shell.execute_reply": "2023-06-09T17:00:16.626391Z",
     "shell.execute_reply.started": "2023-06-09T17:00:16.626380Z"
    },
    "tags": []
   },
   "outputs": [],
   "source": [
    "data_03_2.coalesce(1).write.option(\"header\", \"true\").mode(\"overwrite\").csv(\"hale_female\")"
   ]
  },
  {
   "cell_type": "code",
   "execution_count": null,
   "id": "9c38cd91-4ebc-4af5-b9d0-4b3f0ef20098",
   "metadata": {},
   "outputs": [],
   "source": []
  }
 ],
 "metadata": {
  "kernelspec": {
   "display_name": "Python 3 (ipykernel)",
   "language": "python",
   "name": "python3"
  },
  "language_info": {
   "codemirror_mode": {
    "name": "ipython",
    "version": 3
   },
   "file_extension": ".py",
   "mimetype": "text/x-python",
   "name": "python",
   "nbconvert_exporter": "python",
   "pygments_lexer": "ipython3",
   "version": "3.10.10"
  }
 },
 "nbformat": 4,
 "nbformat_minor": 5
}
